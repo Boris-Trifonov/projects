{
 "cells": [
  {
   "cell_type": "markdown",
   "id": "4b62c2b5",
   "metadata": {
    "deletable": false,
    "editable": false,
    "id": "c81daeeb"
   },
   "source": [
    "# Исследование надежности заемщиков\n"
   ]
  },
  {
   "cell_type": "markdown",
   "id": "70eec62c",
   "metadata": {},
   "source": [
    "**Входные данные:**\n",
    "\n",
    "- статистика о платёжеспособности клиентов:\n",
    "\n",
    "https://code.s3.yandex.net/datasets/data.csv\n",
    "\n",
    "**Цель исследования:**\n",
    "        \n",
    "- Проверить влияние факторов:\n",
    "        \n",
    "    - Cемейное положение влияет на факт погашения кредита в срок.\n",
    "\n",
    "    - Количество детей клиента влияет на факт погашения кредита в срок.\n",
    "\n",
    "**Этапы проекта:**\n",
    "\n",
    "- Обзор данных\n",
    "\n",
    "- Предобработка данных\n",
    "\n",
    "- Общий вывод"
   ]
  },
  {
   "cell_type": "markdown",
   "id": "1638af71",
   "metadata": {
    "deletable": false,
    "editable": false,
    "id": "744d7639"
   },
   "source": [
    "## Откройте таблицу и изучите общую информацию о данных"
   ]
  },
  {
   "cell_type": "markdown",
   "id": "4bc782f6",
   "metadata": {
    "deletable": false,
    "editable": false,
    "id": "e7a14c31"
   },
   "source": [
    "**Задание 1. Импортируйте библиотеку pandas. Считайте данные из csv-файла в датафрейм и сохраните в переменную `data`. Путь к файлу:**\n",
    "\n",
    "`/datasets/data.csv`"
   ]
  },
  {
   "cell_type": "code",
   "execution_count": 746,
   "id": "99cd5c62",
   "metadata": {
    "deletable": false,
    "id": "7bcf75c9"
   },
   "outputs": [],
   "source": [
    "import pandas as pd"
   ]
  },
  {
   "cell_type": "code",
   "execution_count": 747,
   "id": "3d3f7909",
   "metadata": {},
   "outputs": [],
   "source": [
    "try:\n",
    "    data = pd.read_csv('/datasets/data.csv')\n",
    "except:\n",
    "    data = pd.read_csv('https://code.s3.yandex.net/datasets/data.csv')"
   ]
  },
  {
   "cell_type": "markdown",
   "id": "c82c9058",
   "metadata": {
    "deletable": false,
    "editable": false,
    "id": "b8038fe3"
   },
   "source": [
    "**Задание 2. Выведите первые 20 строчек датафрейма `data` на экран.**"
   ]
  },
  {
   "cell_type": "code",
   "execution_count": 748,
   "id": "abefb3ac",
   "metadata": {},
   "outputs": [
    {
     "data": {
      "text/html": [
       "<div>\n",
       "<style scoped>\n",
       "    .dataframe tbody tr th:only-of-type {\n",
       "        vertical-align: middle;\n",
       "    }\n",
       "\n",
       "    .dataframe tbody tr th {\n",
       "        vertical-align: top;\n",
       "    }\n",
       "\n",
       "    .dataframe thead th {\n",
       "        text-align: right;\n",
       "    }\n",
       "</style>\n",
       "<table border=\"1\" class=\"dataframe\">\n",
       "  <thead>\n",
       "    <tr style=\"text-align: right;\">\n",
       "      <th></th>\n",
       "      <th>children</th>\n",
       "      <th>days_employed</th>\n",
       "      <th>dob_years</th>\n",
       "      <th>education</th>\n",
       "      <th>education_id</th>\n",
       "      <th>family_status</th>\n",
       "      <th>family_status_id</th>\n",
       "      <th>gender</th>\n",
       "      <th>income_type</th>\n",
       "      <th>debt</th>\n",
       "      <th>total_income</th>\n",
       "      <th>purpose</th>\n",
       "    </tr>\n",
       "  </thead>\n",
       "  <tbody>\n",
       "    <tr>\n",
       "      <th>0</th>\n",
       "      <td>1</td>\n",
       "      <td>-8437.673028</td>\n",
       "      <td>42</td>\n",
       "      <td>высшее</td>\n",
       "      <td>0</td>\n",
       "      <td>женат / замужем</td>\n",
       "      <td>0</td>\n",
       "      <td>F</td>\n",
       "      <td>сотрудник</td>\n",
       "      <td>0</td>\n",
       "      <td>253875.639453</td>\n",
       "      <td>покупка жилья</td>\n",
       "    </tr>\n",
       "    <tr>\n",
       "      <th>1</th>\n",
       "      <td>1</td>\n",
       "      <td>-4024.803754</td>\n",
       "      <td>36</td>\n",
       "      <td>среднее</td>\n",
       "      <td>1</td>\n",
       "      <td>женат / замужем</td>\n",
       "      <td>0</td>\n",
       "      <td>F</td>\n",
       "      <td>сотрудник</td>\n",
       "      <td>0</td>\n",
       "      <td>112080.014102</td>\n",
       "      <td>приобретение автомобиля</td>\n",
       "    </tr>\n",
       "    <tr>\n",
       "      <th>2</th>\n",
       "      <td>0</td>\n",
       "      <td>-5623.422610</td>\n",
       "      <td>33</td>\n",
       "      <td>Среднее</td>\n",
       "      <td>1</td>\n",
       "      <td>женат / замужем</td>\n",
       "      <td>0</td>\n",
       "      <td>M</td>\n",
       "      <td>сотрудник</td>\n",
       "      <td>0</td>\n",
       "      <td>145885.952297</td>\n",
       "      <td>покупка жилья</td>\n",
       "    </tr>\n",
       "    <tr>\n",
       "      <th>3</th>\n",
       "      <td>3</td>\n",
       "      <td>-4124.747207</td>\n",
       "      <td>32</td>\n",
       "      <td>среднее</td>\n",
       "      <td>1</td>\n",
       "      <td>женат / замужем</td>\n",
       "      <td>0</td>\n",
       "      <td>M</td>\n",
       "      <td>сотрудник</td>\n",
       "      <td>0</td>\n",
       "      <td>267628.550329</td>\n",
       "      <td>дополнительное образование</td>\n",
       "    </tr>\n",
       "    <tr>\n",
       "      <th>4</th>\n",
       "      <td>0</td>\n",
       "      <td>340266.072047</td>\n",
       "      <td>53</td>\n",
       "      <td>среднее</td>\n",
       "      <td>1</td>\n",
       "      <td>гражданский брак</td>\n",
       "      <td>1</td>\n",
       "      <td>F</td>\n",
       "      <td>пенсионер</td>\n",
       "      <td>0</td>\n",
       "      <td>158616.077870</td>\n",
       "      <td>сыграть свадьбу</td>\n",
       "    </tr>\n",
       "    <tr>\n",
       "      <th>5</th>\n",
       "      <td>0</td>\n",
       "      <td>-926.185831</td>\n",
       "      <td>27</td>\n",
       "      <td>высшее</td>\n",
       "      <td>0</td>\n",
       "      <td>гражданский брак</td>\n",
       "      <td>1</td>\n",
       "      <td>M</td>\n",
       "      <td>компаньон</td>\n",
       "      <td>0</td>\n",
       "      <td>255763.565419</td>\n",
       "      <td>покупка жилья</td>\n",
       "    </tr>\n",
       "    <tr>\n",
       "      <th>6</th>\n",
       "      <td>0</td>\n",
       "      <td>-2879.202052</td>\n",
       "      <td>43</td>\n",
       "      <td>высшее</td>\n",
       "      <td>0</td>\n",
       "      <td>женат / замужем</td>\n",
       "      <td>0</td>\n",
       "      <td>F</td>\n",
       "      <td>компаньон</td>\n",
       "      <td>0</td>\n",
       "      <td>240525.971920</td>\n",
       "      <td>операции с жильем</td>\n",
       "    </tr>\n",
       "    <tr>\n",
       "      <th>7</th>\n",
       "      <td>0</td>\n",
       "      <td>-152.779569</td>\n",
       "      <td>50</td>\n",
       "      <td>СРЕДНЕЕ</td>\n",
       "      <td>1</td>\n",
       "      <td>женат / замужем</td>\n",
       "      <td>0</td>\n",
       "      <td>M</td>\n",
       "      <td>сотрудник</td>\n",
       "      <td>0</td>\n",
       "      <td>135823.934197</td>\n",
       "      <td>образование</td>\n",
       "    </tr>\n",
       "    <tr>\n",
       "      <th>8</th>\n",
       "      <td>2</td>\n",
       "      <td>-6929.865299</td>\n",
       "      <td>35</td>\n",
       "      <td>ВЫСШЕЕ</td>\n",
       "      <td>0</td>\n",
       "      <td>гражданский брак</td>\n",
       "      <td>1</td>\n",
       "      <td>F</td>\n",
       "      <td>сотрудник</td>\n",
       "      <td>0</td>\n",
       "      <td>95856.832424</td>\n",
       "      <td>на проведение свадьбы</td>\n",
       "    </tr>\n",
       "    <tr>\n",
       "      <th>9</th>\n",
       "      <td>0</td>\n",
       "      <td>-2188.756445</td>\n",
       "      <td>41</td>\n",
       "      <td>среднее</td>\n",
       "      <td>1</td>\n",
       "      <td>женат / замужем</td>\n",
       "      <td>0</td>\n",
       "      <td>M</td>\n",
       "      <td>сотрудник</td>\n",
       "      <td>0</td>\n",
       "      <td>144425.938277</td>\n",
       "      <td>покупка жилья для семьи</td>\n",
       "    </tr>\n",
       "    <tr>\n",
       "      <th>10</th>\n",
       "      <td>2</td>\n",
       "      <td>-4171.483647</td>\n",
       "      <td>36</td>\n",
       "      <td>высшее</td>\n",
       "      <td>0</td>\n",
       "      <td>женат / замужем</td>\n",
       "      <td>0</td>\n",
       "      <td>M</td>\n",
       "      <td>компаньон</td>\n",
       "      <td>0</td>\n",
       "      <td>113943.491460</td>\n",
       "      <td>покупка недвижимости</td>\n",
       "    </tr>\n",
       "    <tr>\n",
       "      <th>11</th>\n",
       "      <td>0</td>\n",
       "      <td>-792.701887</td>\n",
       "      <td>40</td>\n",
       "      <td>среднее</td>\n",
       "      <td>1</td>\n",
       "      <td>женат / замужем</td>\n",
       "      <td>0</td>\n",
       "      <td>F</td>\n",
       "      <td>сотрудник</td>\n",
       "      <td>0</td>\n",
       "      <td>77069.234271</td>\n",
       "      <td>покупка коммерческой недвижимости</td>\n",
       "    </tr>\n",
       "    <tr>\n",
       "      <th>12</th>\n",
       "      <td>0</td>\n",
       "      <td>NaN</td>\n",
       "      <td>65</td>\n",
       "      <td>среднее</td>\n",
       "      <td>1</td>\n",
       "      <td>гражданский брак</td>\n",
       "      <td>1</td>\n",
       "      <td>M</td>\n",
       "      <td>пенсионер</td>\n",
       "      <td>0</td>\n",
       "      <td>NaN</td>\n",
       "      <td>сыграть свадьбу</td>\n",
       "    </tr>\n",
       "    <tr>\n",
       "      <th>13</th>\n",
       "      <td>0</td>\n",
       "      <td>-1846.641941</td>\n",
       "      <td>54</td>\n",
       "      <td>неоконченное высшее</td>\n",
       "      <td>2</td>\n",
       "      <td>женат / замужем</td>\n",
       "      <td>0</td>\n",
       "      <td>F</td>\n",
       "      <td>сотрудник</td>\n",
       "      <td>0</td>\n",
       "      <td>130458.228857</td>\n",
       "      <td>приобретение автомобиля</td>\n",
       "    </tr>\n",
       "    <tr>\n",
       "      <th>14</th>\n",
       "      <td>0</td>\n",
       "      <td>-1844.956182</td>\n",
       "      <td>56</td>\n",
       "      <td>высшее</td>\n",
       "      <td>0</td>\n",
       "      <td>гражданский брак</td>\n",
       "      <td>1</td>\n",
       "      <td>F</td>\n",
       "      <td>компаньон</td>\n",
       "      <td>1</td>\n",
       "      <td>165127.911772</td>\n",
       "      <td>покупка жилой недвижимости</td>\n",
       "    </tr>\n",
       "    <tr>\n",
       "      <th>15</th>\n",
       "      <td>1</td>\n",
       "      <td>-972.364419</td>\n",
       "      <td>26</td>\n",
       "      <td>среднее</td>\n",
       "      <td>1</td>\n",
       "      <td>женат / замужем</td>\n",
       "      <td>0</td>\n",
       "      <td>F</td>\n",
       "      <td>сотрудник</td>\n",
       "      <td>0</td>\n",
       "      <td>116820.904450</td>\n",
       "      <td>строительство собственной недвижимости</td>\n",
       "    </tr>\n",
       "    <tr>\n",
       "      <th>16</th>\n",
       "      <td>0</td>\n",
       "      <td>-1719.934226</td>\n",
       "      <td>35</td>\n",
       "      <td>среднее</td>\n",
       "      <td>1</td>\n",
       "      <td>женат / замужем</td>\n",
       "      <td>0</td>\n",
       "      <td>F</td>\n",
       "      <td>сотрудник</td>\n",
       "      <td>0</td>\n",
       "      <td>289202.704229</td>\n",
       "      <td>недвижимость</td>\n",
       "    </tr>\n",
       "    <tr>\n",
       "      <th>17</th>\n",
       "      <td>0</td>\n",
       "      <td>-2369.999720</td>\n",
       "      <td>33</td>\n",
       "      <td>высшее</td>\n",
       "      <td>0</td>\n",
       "      <td>гражданский брак</td>\n",
       "      <td>1</td>\n",
       "      <td>M</td>\n",
       "      <td>сотрудник</td>\n",
       "      <td>0</td>\n",
       "      <td>90410.586745</td>\n",
       "      <td>строительство недвижимости</td>\n",
       "    </tr>\n",
       "    <tr>\n",
       "      <th>18</th>\n",
       "      <td>0</td>\n",
       "      <td>400281.136913</td>\n",
       "      <td>53</td>\n",
       "      <td>среднее</td>\n",
       "      <td>1</td>\n",
       "      <td>вдовец / вдова</td>\n",
       "      <td>2</td>\n",
       "      <td>F</td>\n",
       "      <td>пенсионер</td>\n",
       "      <td>0</td>\n",
       "      <td>56823.777243</td>\n",
       "      <td>на покупку подержанного автомобиля</td>\n",
       "    </tr>\n",
       "    <tr>\n",
       "      <th>19</th>\n",
       "      <td>0</td>\n",
       "      <td>-10038.818549</td>\n",
       "      <td>48</td>\n",
       "      <td>СРЕДНЕЕ</td>\n",
       "      <td>1</td>\n",
       "      <td>в разводе</td>\n",
       "      <td>3</td>\n",
       "      <td>F</td>\n",
       "      <td>сотрудник</td>\n",
       "      <td>0</td>\n",
       "      <td>242831.107982</td>\n",
       "      <td>на покупку своего автомобиля</td>\n",
       "    </tr>\n",
       "  </tbody>\n",
       "</table>\n",
       "</div>"
      ],
      "text/plain": [
       "    children  days_employed  dob_years            education  education_id  \\\n",
       "0          1   -8437.673028         42               высшее             0   \n",
       "1          1   -4024.803754         36              среднее             1   \n",
       "2          0   -5623.422610         33              Среднее             1   \n",
       "3          3   -4124.747207         32              среднее             1   \n",
       "4          0  340266.072047         53              среднее             1   \n",
       "5          0    -926.185831         27               высшее             0   \n",
       "6          0   -2879.202052         43               высшее             0   \n",
       "7          0    -152.779569         50              СРЕДНЕЕ             1   \n",
       "8          2   -6929.865299         35               ВЫСШЕЕ             0   \n",
       "9          0   -2188.756445         41              среднее             1   \n",
       "10         2   -4171.483647         36               высшее             0   \n",
       "11         0    -792.701887         40              среднее             1   \n",
       "12         0            NaN         65              среднее             1   \n",
       "13         0   -1846.641941         54  неоконченное высшее             2   \n",
       "14         0   -1844.956182         56               высшее             0   \n",
       "15         1    -972.364419         26              среднее             1   \n",
       "16         0   -1719.934226         35              среднее             1   \n",
       "17         0   -2369.999720         33               высшее             0   \n",
       "18         0  400281.136913         53              среднее             1   \n",
       "19         0  -10038.818549         48              СРЕДНЕЕ             1   \n",
       "\n",
       "       family_status  family_status_id gender income_type  debt  \\\n",
       "0    женат / замужем                 0      F   сотрудник     0   \n",
       "1    женат / замужем                 0      F   сотрудник     0   \n",
       "2    женат / замужем                 0      M   сотрудник     0   \n",
       "3    женат / замужем                 0      M   сотрудник     0   \n",
       "4   гражданский брак                 1      F   пенсионер     0   \n",
       "5   гражданский брак                 1      M   компаньон     0   \n",
       "6    женат / замужем                 0      F   компаньон     0   \n",
       "7    женат / замужем                 0      M   сотрудник     0   \n",
       "8   гражданский брак                 1      F   сотрудник     0   \n",
       "9    женат / замужем                 0      M   сотрудник     0   \n",
       "10   женат / замужем                 0      M   компаньон     0   \n",
       "11   женат / замужем                 0      F   сотрудник     0   \n",
       "12  гражданский брак                 1      M   пенсионер     0   \n",
       "13   женат / замужем                 0      F   сотрудник     0   \n",
       "14  гражданский брак                 1      F   компаньон     1   \n",
       "15   женат / замужем                 0      F   сотрудник     0   \n",
       "16   женат / замужем                 0      F   сотрудник     0   \n",
       "17  гражданский брак                 1      M   сотрудник     0   \n",
       "18    вдовец / вдова                 2      F   пенсионер     0   \n",
       "19         в разводе                 3      F   сотрудник     0   \n",
       "\n",
       "     total_income                                 purpose  \n",
       "0   253875.639453                           покупка жилья  \n",
       "1   112080.014102                 приобретение автомобиля  \n",
       "2   145885.952297                           покупка жилья  \n",
       "3   267628.550329              дополнительное образование  \n",
       "4   158616.077870                         сыграть свадьбу  \n",
       "5   255763.565419                           покупка жилья  \n",
       "6   240525.971920                       операции с жильем  \n",
       "7   135823.934197                             образование  \n",
       "8    95856.832424                   на проведение свадьбы  \n",
       "9   144425.938277                 покупка жилья для семьи  \n",
       "10  113943.491460                    покупка недвижимости  \n",
       "11   77069.234271       покупка коммерческой недвижимости  \n",
       "12            NaN                         сыграть свадьбу  \n",
       "13  130458.228857                 приобретение автомобиля  \n",
       "14  165127.911772              покупка жилой недвижимости  \n",
       "15  116820.904450  строительство собственной недвижимости  \n",
       "16  289202.704229                            недвижимость  \n",
       "17   90410.586745              строительство недвижимости  \n",
       "18   56823.777243      на покупку подержанного автомобиля  \n",
       "19  242831.107982            на покупку своего автомобиля  "
      ]
     },
     "execution_count": 748,
     "metadata": {},
     "output_type": "execute_result"
    }
   ],
   "source": [
    "data.head(20)"
   ]
  },
  {
   "cell_type": "code",
   "execution_count": 749,
   "id": "c781dfd3",
   "metadata": {
    "deletable": false,
    "id": "2a7cab99",
    "outputId": "1a8f3ef2-d323-4ec2-ddf7-89670b5944c4"
   },
   "outputs": [
    {
     "data": {
      "text/html": [
       "<div>\n",
       "<style scoped>\n",
       "    .dataframe tbody tr th:only-of-type {\n",
       "        vertical-align: middle;\n",
       "    }\n",
       "\n",
       "    .dataframe tbody tr th {\n",
       "        vertical-align: top;\n",
       "    }\n",
       "\n",
       "    .dataframe thead th {\n",
       "        text-align: right;\n",
       "    }\n",
       "</style>\n",
       "<table border=\"1\" class=\"dataframe\">\n",
       "  <thead>\n",
       "    <tr style=\"text-align: right;\">\n",
       "      <th></th>\n",
       "      <th>count</th>\n",
       "      <th>mean</th>\n",
       "      <th>std</th>\n",
       "      <th>min</th>\n",
       "      <th>25%</th>\n",
       "      <th>50%</th>\n",
       "      <th>75%</th>\n",
       "      <th>max</th>\n",
       "    </tr>\n",
       "  </thead>\n",
       "  <tbody>\n",
       "    <tr>\n",
       "      <th>children</th>\n",
       "      <td>21525.0</td>\n",
       "      <td>0.538908</td>\n",
       "      <td>1.381587</td>\n",
       "      <td>-1.000000</td>\n",
       "      <td>0.000000</td>\n",
       "      <td>0.000000</td>\n",
       "      <td>1.000000</td>\n",
       "      <td>2.000000e+01</td>\n",
       "    </tr>\n",
       "    <tr>\n",
       "      <th>days_employed</th>\n",
       "      <td>19351.0</td>\n",
       "      <td>63046.497661</td>\n",
       "      <td>140827.311974</td>\n",
       "      <td>-18388.949901</td>\n",
       "      <td>-2747.423625</td>\n",
       "      <td>-1203.369529</td>\n",
       "      <td>-291.095954</td>\n",
       "      <td>4.017554e+05</td>\n",
       "    </tr>\n",
       "    <tr>\n",
       "      <th>dob_years</th>\n",
       "      <td>21525.0</td>\n",
       "      <td>43.293380</td>\n",
       "      <td>12.574584</td>\n",
       "      <td>0.000000</td>\n",
       "      <td>33.000000</td>\n",
       "      <td>42.000000</td>\n",
       "      <td>53.000000</td>\n",
       "      <td>7.500000e+01</td>\n",
       "    </tr>\n",
       "    <tr>\n",
       "      <th>education_id</th>\n",
       "      <td>21525.0</td>\n",
       "      <td>0.817236</td>\n",
       "      <td>0.548138</td>\n",
       "      <td>0.000000</td>\n",
       "      <td>1.000000</td>\n",
       "      <td>1.000000</td>\n",
       "      <td>1.000000</td>\n",
       "      <td>4.000000e+00</td>\n",
       "    </tr>\n",
       "    <tr>\n",
       "      <th>family_status_id</th>\n",
       "      <td>21525.0</td>\n",
       "      <td>0.972544</td>\n",
       "      <td>1.420324</td>\n",
       "      <td>0.000000</td>\n",
       "      <td>0.000000</td>\n",
       "      <td>0.000000</td>\n",
       "      <td>1.000000</td>\n",
       "      <td>4.000000e+00</td>\n",
       "    </tr>\n",
       "    <tr>\n",
       "      <th>debt</th>\n",
       "      <td>21525.0</td>\n",
       "      <td>0.080883</td>\n",
       "      <td>0.272661</td>\n",
       "      <td>0.000000</td>\n",
       "      <td>0.000000</td>\n",
       "      <td>0.000000</td>\n",
       "      <td>0.000000</td>\n",
       "      <td>1.000000e+00</td>\n",
       "    </tr>\n",
       "    <tr>\n",
       "      <th>total_income</th>\n",
       "      <td>19351.0</td>\n",
       "      <td>167422.302208</td>\n",
       "      <td>102971.566448</td>\n",
       "      <td>20667.263793</td>\n",
       "      <td>103053.152913</td>\n",
       "      <td>145017.937533</td>\n",
       "      <td>203435.067663</td>\n",
       "      <td>2.265604e+06</td>\n",
       "    </tr>\n",
       "  </tbody>\n",
       "</table>\n",
       "</div>"
      ],
      "text/plain": [
       "                    count           mean            std           min  \\\n",
       "children          21525.0       0.538908       1.381587     -1.000000   \n",
       "days_employed     19351.0   63046.497661  140827.311974 -18388.949901   \n",
       "dob_years         21525.0      43.293380      12.574584      0.000000   \n",
       "education_id      21525.0       0.817236       0.548138      0.000000   \n",
       "family_status_id  21525.0       0.972544       1.420324      0.000000   \n",
       "debt              21525.0       0.080883       0.272661      0.000000   \n",
       "total_income      19351.0  167422.302208  102971.566448  20667.263793   \n",
       "\n",
       "                            25%            50%            75%           max  \n",
       "children               0.000000       0.000000       1.000000  2.000000e+01  \n",
       "days_employed      -2747.423625   -1203.369529    -291.095954  4.017554e+05  \n",
       "dob_years             33.000000      42.000000      53.000000  7.500000e+01  \n",
       "education_id           1.000000       1.000000       1.000000  4.000000e+00  \n",
       "family_status_id       0.000000       0.000000       1.000000  4.000000e+00  \n",
       "debt                   0.000000       0.000000       0.000000  1.000000e+00  \n",
       "total_income      103053.152913  145017.937533  203435.067663  2.265604e+06  "
      ]
     },
     "execution_count": 749,
     "metadata": {},
     "output_type": "execute_result"
    }
   ],
   "source": [
    "data.describe().T"
   ]
  },
  {
   "cell_type": "markdown",
   "id": "64d60852",
   "metadata": {
    "deletable": false,
    "editable": false,
    "id": "1c12e233"
   },
   "source": [
    "**Задание 3. Выведите основную информацию о датафрейме с помощью метода `info()`.**"
   ]
  },
  {
   "cell_type": "code",
   "execution_count": 750,
   "id": "e582f004",
   "metadata": {
    "deletable": false,
    "id": "2b757bca",
    "outputId": "15376089-8dad-46c9-b520-c05248d43158"
   },
   "outputs": [
    {
     "name": "stdout",
     "output_type": "stream",
     "text": [
      "<class 'pandas.core.frame.DataFrame'>\n",
      "RangeIndex: 21525 entries, 0 to 21524\n",
      "Data columns (total 12 columns):\n",
      " #   Column            Non-Null Count  Dtype  \n",
      "---  ------            --------------  -----  \n",
      " 0   children          21525 non-null  int64  \n",
      " 1   days_employed     19351 non-null  float64\n",
      " 2   dob_years         21525 non-null  int64  \n",
      " 3   education         21525 non-null  object \n",
      " 4   education_id      21525 non-null  int64  \n",
      " 5   family_status     21525 non-null  object \n",
      " 6   family_status_id  21525 non-null  int64  \n",
      " 7   gender            21525 non-null  object \n",
      " 8   income_type       21525 non-null  object \n",
      " 9   debt              21525 non-null  int64  \n",
      " 10  total_income      19351 non-null  float64\n",
      " 11  purpose           21525 non-null  object \n",
      "dtypes: float64(2), int64(5), object(5)\n",
      "memory usage: 2.0+ MB\n"
     ]
    }
   ],
   "source": [
    "data.info()"
   ]
  },
  {
   "cell_type": "markdown",
   "id": "b34034e4",
   "metadata": {},
   "source": [
    "### Вывод"
   ]
  },
  {
   "cell_type": "markdown",
   "id": "b0be1b43",
   "metadata": {},
   "source": [
    "- Необходимо обработать пропуски в столбцах \"days_employed\" и \"total_income\".\n",
    "        \n",
    "- В столбцах \"children\" и \"days_employed\" присутствуют аномальные (отрицательные значения).\n",
    "        \n",
    "- Необходимо проверить соответствие типов данных в датасете.\n",
    "        \n",
    "- Проверить датасет на полные и неполные дубликаты."
   ]
  },
  {
   "cell_type": "markdown",
   "id": "351edf95",
   "metadata": {
    "deletable": false,
    "editable": false,
    "id": "333ec665"
   },
   "source": [
    "## Предобработка данных"
   ]
  },
  {
   "cell_type": "markdown",
   "id": "a171e501",
   "metadata": {
    "deletable": false,
    "editable": false,
    "id": "02d92d53"
   },
   "source": [
    "### Удаление пропусков"
   ]
  },
  {
   "cell_type": "markdown",
   "id": "b8a7a0b5",
   "metadata": {
    "deletable": false,
    "editable": false,
    "id": "cd84967c"
   },
   "source": [
    "**Задание 4. Выведите количество пропущенных значений для каждого столбца. Используйте комбинацию двух методов.**"
   ]
  },
  {
   "cell_type": "code",
   "execution_count": 751,
   "id": "376586a9",
   "metadata": {
    "deletable": false,
    "id": "7f9b2309",
    "outputId": "81f4d817-781c-465c-ed15-91ce4446810d"
   },
   "outputs": [
    {
     "data": {
      "text/plain": [
       "children               0\n",
       "days_employed       2174\n",
       "dob_years              0\n",
       "education              0\n",
       "education_id           0\n",
       "family_status          0\n",
       "family_status_id       0\n",
       "gender                 0\n",
       "income_type            0\n",
       "debt                   0\n",
       "total_income        2174\n",
       "purpose                0\n",
       "dtype: int64"
      ]
     },
     "execution_count": 751,
     "metadata": {},
     "output_type": "execute_result"
    }
   ],
   "source": [
    "data.isna().sum()"
   ]
  },
  {
   "cell_type": "markdown",
   "id": "aa78ce05",
   "metadata": {
    "deletable": false,
    "editable": false,
    "id": "db86e27b"
   },
   "source": [
    "**Задание 5. В двух столбцах есть пропущенные значения. Один из них — `days_employed`. Пропуски в этом столбце вы обработаете на следующем этапе. Другой столбец с пропущенными значениями — `total_income` — хранит данные о доходах. На сумму дохода сильнее всего влияет тип занятости, поэтому заполнить пропуски в этом столбце нужно медианным значением по каждому типу из столбца `income_type`. Например, у человека с типом занятости `сотрудник` пропуск в столбце `total_income` должен быть заполнен медианным доходом среди всех записей с тем же типом.**"
   ]
  },
  {
   "cell_type": "code",
   "execution_count": 752,
   "id": "fa1de47a",
   "metadata": {
    "deletable": false,
    "id": "42006a93"
   },
   "outputs": [],
   "source": [
    "data.total_income = data.total_income.fillna(data.groupby('income_type')['total_income'].transform('median'))"
   ]
  },
  {
   "cell_type": "code",
   "execution_count": 753,
   "id": "02b5fa52",
   "metadata": {},
   "outputs": [
    {
     "data": {
      "text/plain": [
       "children               0\n",
       "days_employed       2174\n",
       "dob_years              0\n",
       "education              0\n",
       "education_id           0\n",
       "family_status          0\n",
       "family_status_id       0\n",
       "gender                 0\n",
       "income_type            0\n",
       "debt                   0\n",
       "total_income           0\n",
       "purpose                0\n",
       "dtype: int64"
      ]
     },
     "execution_count": 753,
     "metadata": {},
     "output_type": "execute_result"
    }
   ],
   "source": [
    "data.isna().sum()"
   ]
  },
  {
   "cell_type": "markdown",
   "id": "ccde5ef8",
   "metadata": {
    "deletable": false,
    "editable": false,
    "id": "89da5ece"
   },
   "source": [
    "### Обработка аномальных значений"
   ]
  },
  {
   "cell_type": "markdown",
   "id": "192abd2d",
   "metadata": {
    "deletable": false,
    "editable": false,
    "id": "57964554"
   },
   "source": [
    "**Задание 6. В данных могут встречаться артефакты (аномалии) — значения, которые не отражают действительность и появились по какой-то ошибке. таким артефактом будет отрицательное количество дней трудового стажа в столбце `days_employed`. Для реальных данных это нормально. Обработайте значения в этом столбце: замените все отрицательные значения положительными с помощью метода `abs()`.**"
   ]
  },
  {
   "cell_type": "code",
   "execution_count": 754,
   "id": "d0fc64b5",
   "metadata": {
    "deletable": false,
    "id": "f6f055bf"
   },
   "outputs": [],
   "source": [
    "data['days_employed'] = data['days_employed'].abs()"
   ]
  },
  {
   "cell_type": "markdown",
   "id": "fa008c64",
   "metadata": {
    "deletable": false,
    "editable": false,
    "id": "6107dd2f"
   },
   "source": [
    "**Задание 7. Для каждого типа занятости выведите медианное значение трудового стажа `days_employed` в днях.**"
   ]
  },
  {
   "cell_type": "code",
   "execution_count": 755,
   "id": "88080db5",
   "metadata": {
    "deletable": false,
    "id": "85a5faf6",
    "outputId": "801ef80e-522b-4668-f34e-565af7432bcf"
   },
   "outputs": [
    {
     "data": {
      "text/plain": [
       "income_type\n",
       "безработный        366413.652744\n",
       "в декрете            3296.759962\n",
       "госслужащий          2689.368353\n",
       "компаньон            1547.382223\n",
       "пенсионер          365213.306266\n",
       "предприниматель       520.848083\n",
       "сотрудник            1574.202821\n",
       "студент               578.751554\n",
       "Name: days_employed, dtype: float64"
      ]
     },
     "execution_count": 755,
     "metadata": {},
     "output_type": "execute_result"
    }
   ],
   "source": [
    "data.groupby('income_type')['days_employed'].agg('median')"
   ]
  },
  {
   "cell_type": "markdown",
   "id": "732d64b6",
   "metadata": {
    "deletable": false,
    "editable": false,
    "id": "38d1a030"
   },
   "source": [
    "У двух типов (безработные и пенсионеры) получатся аномально большие значения. Исправить такие значения сложно, поэтому оставьте их как есть. Тем более этот столбец не понадобится вам для исследования."
   ]
  },
  {
   "cell_type": "markdown",
   "id": "b56f85f6",
   "metadata": {
    "deletable": false,
    "editable": false,
    "id": "d8a9f147"
   },
   "source": [
    "**Задание 8. Выведите перечень уникальных значений столбца `children`.**"
   ]
  },
  {
   "cell_type": "code",
   "execution_count": 756,
   "id": "50b13168",
   "metadata": {
    "deletable": false,
    "id": "ef5056eb",
    "outputId": "6975b15c-7f95-4697-d16d-a0c79b657b03"
   },
   "outputs": [
    {
     "data": {
      "text/plain": [
       "array([ 1,  0,  3,  2, -1,  4, 20,  5])"
      ]
     },
     "execution_count": 756,
     "metadata": {},
     "output_type": "execute_result"
    }
   ],
   "source": [
    "data['children'].unique()"
   ]
  },
  {
   "cell_type": "markdown",
   "id": "947adf8a",
   "metadata": {
    "deletable": false,
    "editable": false,
    "id": "40b9ebf2"
   },
   "source": [
    "**Задание 9. В столбце `children` есть два аномальных значения. Удалите строки, в которых встречаются такие аномальные значения из датафрейма `data`.**"
   ]
  },
  {
   "cell_type": "code",
   "execution_count": 757,
   "id": "a8976e86",
   "metadata": {
    "deletable": false,
    "id": "3ff9801d"
   },
   "outputs": [],
   "source": [
    "data = data[(data['children'] != -1) & (data['children'] != 20)]"
   ]
  },
  {
   "cell_type": "markdown",
   "id": "881f1465",
   "metadata": {
    "deletable": false,
    "editable": false,
    "id": "bbc4d0ce"
   },
   "source": [
    "**Задание 10. Ещё раз выведите перечень уникальных значений столбца `children`, чтобы убедиться, что артефакты удалены.**"
   ]
  },
  {
   "cell_type": "code",
   "execution_count": 758,
   "id": "9b5c5744",
   "metadata": {
    "deletable": false,
    "id": "ad4fa8b7",
    "outputId": "b2097101-d49d-44d9-901b-32a65c9463d1"
   },
   "outputs": [
    {
     "data": {
      "text/plain": [
       "array([1, 0, 3, 2, 4, 5])"
      ]
     },
     "execution_count": 758,
     "metadata": {},
     "output_type": "execute_result"
    }
   ],
   "source": [
    "data['children'].unique()"
   ]
  },
  {
   "cell_type": "markdown",
   "id": "a1fc7b32",
   "metadata": {
    "deletable": false,
    "editable": false,
    "id": "75440b63"
   },
   "source": [
    "### Удаление пропусков (продолжение)"
   ]
  },
  {
   "cell_type": "markdown",
   "id": "a0e2ec90",
   "metadata": {
    "deletable": false,
    "editable": false,
    "id": "f4ea573f"
   },
   "source": [
    "**Задание 11. Заполните пропуски в столбце `days_employed` медианными значениями по каждого типа занятости `income_type`.**"
   ]
  },
  {
   "cell_type": "code",
   "execution_count": 759,
   "id": "4421eb2a",
   "metadata": {
    "deletable": false,
    "id": "af6b1a7e"
   },
   "outputs": [],
   "source": [
    "data.days_employed = data.days_employed.fillna(data.groupby('income_type')['days_employed'].transform('median'))"
   ]
  },
  {
   "cell_type": "markdown",
   "id": "fb41c5c1",
   "metadata": {
    "deletable": false,
    "editable": false,
    "id": "2753f40d"
   },
   "source": [
    "**Задание 12. Убедитесь, что все пропуски заполнены. Проверьте себя и ещё раз выведите количество пропущенных значений для каждого столбца с помощью двух методов.**"
   ]
  },
  {
   "cell_type": "code",
   "execution_count": 760,
   "id": "18783c1a",
   "metadata": {
    "deletable": false,
    "id": "55f78bc2",
    "outputId": "8da1e4e1-358e-4e87-98c9-f261bce0a7b2"
   },
   "outputs": [
    {
     "data": {
      "text/plain": [
       "children            0\n",
       "days_employed       0\n",
       "dob_years           0\n",
       "education           0\n",
       "education_id        0\n",
       "family_status       0\n",
       "family_status_id    0\n",
       "gender              0\n",
       "income_type         0\n",
       "debt                0\n",
       "total_income        0\n",
       "purpose             0\n",
       "dtype: int64"
      ]
     },
     "execution_count": 760,
     "metadata": {},
     "output_type": "execute_result"
    }
   ],
   "source": [
    "data.isna().sum()"
   ]
  },
  {
   "cell_type": "markdown",
   "id": "bf72c991",
   "metadata": {
    "deletable": false,
    "editable": false,
    "id": "ddc81e43"
   },
   "source": [
    "### Изменение типов данных"
   ]
  },
  {
   "cell_type": "markdown",
   "id": "1f0fc87a",
   "metadata": {
    "deletable": false,
    "editable": false,
    "id": "42d19d24"
   },
   "source": [
    "**Задание 13. Замените вещественный тип данных в столбце `total_income` на целочисленный с помощью метода `astype()`.**"
   ]
  },
  {
   "cell_type": "code",
   "execution_count": 761,
   "id": "7f79ae4e",
   "metadata": {},
   "outputs": [
    {
     "data": {
      "text/plain": [
       "children              int64\n",
       "days_employed       float64\n",
       "dob_years             int64\n",
       "education            object\n",
       "education_id          int64\n",
       "family_status        object\n",
       "family_status_id      int64\n",
       "gender               object\n",
       "income_type          object\n",
       "debt                  int64\n",
       "total_income        float64\n",
       "purpose              object\n",
       "dtype: object"
      ]
     },
     "execution_count": 761,
     "metadata": {},
     "output_type": "execute_result"
    }
   ],
   "source": [
    "data.dtypes"
   ]
  },
  {
   "cell_type": "code",
   "execution_count": 762,
   "id": "da4103c2",
   "metadata": {
    "deletable": false,
    "id": "920b65ad"
   },
   "outputs": [],
   "source": [
    "data['total_income'] = data['total_income'].astype(int)"
   ]
  },
  {
   "cell_type": "code",
   "execution_count": 763,
   "id": "3938463c",
   "metadata": {},
   "outputs": [],
   "source": [
    "data['days_employed'] = data['days_employed'].astype(int)"
   ]
  },
  {
   "cell_type": "code",
   "execution_count": 764,
   "id": "d475255a",
   "metadata": {},
   "outputs": [
    {
     "name": "stdout",
     "output_type": "stream",
     "text": [
      "1.31 MB\n",
      "0.43 MB\n"
     ]
    }
   ],
   "source": [
    "def mem_usage(pandas_obj):\n",
    "    if isinstance(pandas_obj,pd.DataFrame):\n",
    "        usage_b = pandas_obj.memory_usage(deep=True).sum()\n",
    "    else:\n",
    "        usage_b = pandas_obj.memory_usage(deep=True)\n",
    "    usage_mb = usage_b / 1024 ** 2 # преобразуем байты в мегабайты\n",
    "    return \"{:03.2f} MB\".format(usage_mb)\n",
    "\n",
    "gl_int = data.select_dtypes(include=['int'])\n",
    "converted_int = gl_int.apply(pd.to_numeric,downcast='unsigned')\n",
    "\n",
    "print(mem_usage(gl_int))\n",
    "print(mem_usage(converted_int))"
   ]
  },
  {
   "cell_type": "code",
   "execution_count": 765,
   "id": "536bde4b",
   "metadata": {},
   "outputs": [
    {
     "data": {
      "text/html": [
       "<div>\n",
       "<style scoped>\n",
       "    .dataframe tbody tr th:only-of-type {\n",
       "        vertical-align: middle;\n",
       "    }\n",
       "\n",
       "    .dataframe tbody tr th {\n",
       "        vertical-align: top;\n",
       "    }\n",
       "\n",
       "    .dataframe thead th {\n",
       "        text-align: right;\n",
       "    }\n",
       "</style>\n",
       "<table border=\"1\" class=\"dataframe\">\n",
       "  <thead>\n",
       "    <tr style=\"text-align: right;\">\n",
       "      <th></th>\n",
       "      <th>before</th>\n",
       "      <th>after</th>\n",
       "    </tr>\n",
       "  </thead>\n",
       "  <tbody>\n",
       "    <tr>\n",
       "      <th>uint8</th>\n",
       "      <td>NaN</td>\n",
       "      <td>5.0</td>\n",
       "    </tr>\n",
       "    <tr>\n",
       "      <th>uint32</th>\n",
       "      <td>NaN</td>\n",
       "      <td>2.0</td>\n",
       "    </tr>\n",
       "    <tr>\n",
       "      <th>int64</th>\n",
       "      <td>7.0</td>\n",
       "      <td>NaN</td>\n",
       "    </tr>\n",
       "  </tbody>\n",
       "</table>\n",
       "</div>"
      ],
      "text/plain": [
       "        before  after\n",
       "uint8      NaN    5.0\n",
       "uint32     NaN    2.0\n",
       "int64      7.0    NaN"
      ]
     },
     "execution_count": 765,
     "metadata": {},
     "output_type": "execute_result"
    }
   ],
   "source": [
    "compare_ints = pd.concat([gl_int.dtypes,converted_int.dtypes],axis=1)\n",
    "compare_ints.columns = ['before','after']\n",
    "compare_ints.apply(pd.Series.value_counts)"
   ]
  },
  {
   "cell_type": "code",
   "execution_count": 766,
   "id": "b45c7617",
   "metadata": {},
   "outputs": [
    {
     "name": "stdout",
     "output_type": "stream",
     "text": [
      "0.16 MB\n",
      "0.16 MB\n"
     ]
    },
    {
     "data": {
      "text/html": [
       "<div>\n",
       "<style scoped>\n",
       "    .dataframe tbody tr th:only-of-type {\n",
       "        vertical-align: middle;\n",
       "    }\n",
       "\n",
       "    .dataframe tbody tr th {\n",
       "        vertical-align: top;\n",
       "    }\n",
       "\n",
       "    .dataframe thead th {\n",
       "        text-align: right;\n",
       "    }\n",
       "</style>\n",
       "<table border=\"1\" class=\"dataframe\">\n",
       "  <thead>\n",
       "    <tr style=\"text-align: right;\">\n",
       "      <th></th>\n",
       "      <th>before</th>\n",
       "      <th>after</th>\n",
       "    </tr>\n",
       "  </thead>\n",
       "  <tbody>\n",
       "  </tbody>\n",
       "</table>\n",
       "</div>"
      ],
      "text/plain": [
       "Empty DataFrame\n",
       "Columns: [before, after]\n",
       "Index: []"
      ]
     },
     "execution_count": 766,
     "metadata": {},
     "output_type": "execute_result"
    }
   ],
   "source": [
    "gl_float = data.select_dtypes(include=['float'])\n",
    "converted_float = gl_float.apply(pd.to_numeric,downcast='float')\n",
    "\n",
    "print(mem_usage(gl_float))\n",
    "print(mem_usage(converted_float))\n",
    "\n",
    "compare_floats = pd.concat([gl_float.dtypes,converted_float.dtypes],axis=1)\n",
    "compare_floats.columns = ['before','after']\n",
    "compare_floats.apply(pd.Series.value_counts)"
   ]
  },
  {
   "cell_type": "code",
   "execution_count": 767,
   "id": "b1e73875",
   "metadata": {},
   "outputs": [
    {
     "name": "stdout",
     "output_type": "stream",
     "text": [
      "11.78 MB\n",
      "10.90 MB\n"
     ]
    }
   ],
   "source": [
    "optimized_gl = data.copy()\n",
    "\n",
    "optimized_gl[converted_int.columns] = converted_int\n",
    "optimized_gl[converted_float.columns] = converted_float\n",
    "\n",
    "print(mem_usage(data))\n",
    "print(mem_usage(optimized_gl))"
   ]
  },
  {
   "cell_type": "markdown",
   "id": "c375cffa",
   "metadata": {
    "deletable": false,
    "editable": false,
    "id": "80c420ba"
   },
   "source": [
    "### Обработка дубликатов"
   ]
  },
  {
   "cell_type": "markdown",
   "id": "aab3a590",
   "metadata": {
    "deletable": false,
    "editable": false
   },
   "source": [
    "**Задание 14. Обработайте неявные дубликаты в столбце `education`. В этом столбце есть одни и те же значения, но записанные по-разному: с использованием заглавных и строчных букв. Приведите их к нижнему регистру. Проверьте остальные столбцы.**"
   ]
  },
  {
   "cell_type": "code",
   "execution_count": 768,
   "id": "30a5def7",
   "metadata": {
    "deletable": false
   },
   "outputs": [],
   "source": [
    "data['education'] = data['education'].str.lower()"
   ]
  },
  {
   "cell_type": "markdown",
   "id": "9ae923c2",
   "metadata": {
    "deletable": false,
    "editable": false,
    "id": "dc587695"
   },
   "source": [
    "**Задание 15. Выведите на экран количество строк-дубликатов в данных. Если такие строки присутствуют, удалите их.**"
   ]
  },
  {
   "cell_type": "code",
   "execution_count": 769,
   "id": "7fd08cf2",
   "metadata": {
    "deletable": false,
    "id": "3ee445e4",
    "outputId": "9684deba-1934-42d1-99e1-cda61740f822"
   },
   "outputs": [
    {
     "data": {
      "text/plain": [
       "71"
      ]
     },
     "execution_count": 769,
     "metadata": {},
     "output_type": "execute_result"
    }
   ],
   "source": [
    "data.duplicated().sum()"
   ]
  },
  {
   "cell_type": "code",
   "execution_count": 770,
   "id": "b674ea29",
   "metadata": {
    "deletable": false,
    "id": "8575fe05"
   },
   "outputs": [],
   "source": [
    "data = data.drop_duplicates()"
   ]
  },
  {
   "cell_type": "markdown",
   "id": "c11ff380",
   "metadata": {
    "deletable": false,
    "editable": false,
    "id": "9904cf55"
   },
   "source": [
    "### Категоризация данных"
   ]
  },
  {
   "cell_type": "markdown",
   "id": "9318f6a9",
   "metadata": {
    "deletable": false,
    "editable": false,
    "id": "72fcc8a2"
   },
   "source": [
    "**Задание 16. На основании диапазонов, указанных ниже, создайте в датафрейме `data` столбец `total_income_category` с категориями:**\n",
    "\n",
    "- 0–30000 — `'E'`;\n",
    "- 30001–50000 — `'D'`;\n",
    "- 50001–200000 — `'C'`;\n",
    "- 200001–1000000 — `'B'`;\n",
    "- 1000001 и выше — `'A'`.\n",
    "\n",
    "\n",
    "**Например, кредитополучателю с доходом 25000 нужно назначить категорию `'E'`, а клиенту, получающему 235000, — `'B'`. Используйте собственную функцию с именем `categorize_income()` и метод `apply()`.**"
   ]
  },
  {
   "cell_type": "code",
   "execution_count": 771,
   "id": "d9621c50",
   "metadata": {
    "deletable": false,
    "id": "e1771346"
   },
   "outputs": [],
   "source": [
    "def categorize_income(income):\n",
    "    try:\n",
    "        if 0 <= income <= 30000:\n",
    "            return 'E'\n",
    "        elif 30001 <= income <= 50000:\n",
    "            return 'D'\n",
    "        elif 50001 <= income <= 200000:\n",
    "            return 'C'\n",
    "        elif 200001 <= income <= 1000000:\n",
    "            return 'B'\n",
    "        elif income >= 1000001:\n",
    "            return 'A'\n",
    "    except:\n",
    "        pass"
   ]
  },
  {
   "cell_type": "code",
   "execution_count": 772,
   "id": "6fbb5d7d",
   "metadata": {
    "deletable": false,
    "id": "d5f3586d"
   },
   "outputs": [],
   "source": [
    "data['total_income_category'] = data['total_income'].apply(categorize_income)"
   ]
  },
  {
   "cell_type": "markdown",
   "id": "adb28e8f",
   "metadata": {
    "deletable": false,
    "editable": false,
    "id": "dde49b5c"
   },
   "source": [
    "**Задание 17. Выведите на экран перечень уникальных целей взятия кредита из столбца `purpose`.**"
   ]
  },
  {
   "cell_type": "code",
   "execution_count": 773,
   "id": "639ddff4",
   "metadata": {
    "deletable": false,
    "id": "f67ce9b3",
    "outputId": "673c12d9-7d7e-4ae0-9812-c622c89dd244"
   },
   "outputs": [
    {
     "data": {
      "text/plain": [
       "array(['покупка жилья', 'приобретение автомобиля',\n",
       "       'дополнительное образование', 'сыграть свадьбу',\n",
       "       'операции с жильем', 'образование', 'на проведение свадьбы',\n",
       "       'покупка жилья для семьи', 'покупка недвижимости',\n",
       "       'покупка коммерческой недвижимости', 'покупка жилой недвижимости',\n",
       "       'строительство собственной недвижимости', 'недвижимость',\n",
       "       'строительство недвижимости', 'на покупку подержанного автомобиля',\n",
       "       'на покупку своего автомобиля',\n",
       "       'операции с коммерческой недвижимостью',\n",
       "       'строительство жилой недвижимости', 'жилье',\n",
       "       'операции со своей недвижимостью', 'автомобили',\n",
       "       'заняться образованием', 'сделка с подержанным автомобилем',\n",
       "       'получение образования', 'автомобиль', 'свадьба',\n",
       "       'получение дополнительного образования', 'покупка своего жилья',\n",
       "       'операции с недвижимостью', 'получение высшего образования',\n",
       "       'свой автомобиль', 'сделка с автомобилем',\n",
       "       'профильное образование', 'высшее образование',\n",
       "       'покупка жилья для сдачи', 'на покупку автомобиля', 'ремонт жилью',\n",
       "       'заняться высшим образованием'], dtype=object)"
      ]
     },
     "execution_count": 773,
     "metadata": {},
     "output_type": "execute_result"
    }
   ],
   "source": [
    "data['purpose'].unique()"
   ]
  },
  {
   "cell_type": "markdown",
   "id": "0d37e891",
   "metadata": {
    "deletable": false,
    "editable": false,
    "id": "85d0aef0"
   },
   "source": [
    "**Задание 18. Создайте функцию, которая на основании данных из столбца `purpose` сформирует новый столбец `purpose_category`, в который войдут следующие категории:**\n",
    "\n",
    "- `'операции с автомобилем'`,\n",
    "- `'операции с недвижимостью'`,\n",
    "- `'проведение свадьбы'`,\n",
    "- `'получение образования'`.\n",
    "\n",
    "**Например, если в столбце `purpose` находится подстрока `'на покупку автомобиля'`, то в столбце `purpose_category` должна появиться строка `'операции с автомобилем'`.**\n",
    "\n",
    "**Используйте собственную функцию с именем `categorize_purpose()` и метод `apply()`. Изучите данные в столбце `purpose` и определите, какие подстроки помогут вам правильно определить категорию.**"
   ]
  },
  {
   "cell_type": "code",
   "execution_count": 774,
   "id": "6b5b28a8",
   "metadata": {
    "deletable": false,
    "id": "e149fab4"
   },
   "outputs": [],
   "source": [
    "def categorize_purpose(row):\n",
    "    try:\n",
    "        if 'автом' in row:\n",
    "            return 'операции с автомобилем'\n",
    "        elif 'жил' in row or 'недвиж' in row:\n",
    "            return 'операции с недвижимостью'\n",
    "        elif 'свад' in row:\n",
    "            return 'проведение свадьбы'\n",
    "        elif 'образов' in row:\n",
    "            return 'получение образования'\n",
    "    except:\n",
    "        return 'нет категории'"
   ]
  },
  {
   "cell_type": "code",
   "execution_count": 775,
   "id": "7b17cc9f",
   "metadata": {
    "deletable": false,
    "id": "bf36e69b"
   },
   "outputs": [],
   "source": [
    "data['purpose_category'] = data['purpose'].apply(categorize_purpose)"
   ]
  },
  {
   "cell_type": "markdown",
   "id": "14a76fff",
   "metadata": {
    "deletable": false,
    "editable": false,
    "id": "09b242bf"
   },
   "source": [
    "### Шаг 3. Исследуйте данные и ответьте на вопросы"
   ]
  },
  {
   "cell_type": "markdown",
   "id": "f50d6cb8",
   "metadata": {
    "deletable": false,
    "editable": false,
    "id": "c5d66278"
   },
   "source": [
    "#### 3.1 Есть ли зависимость между количеством детей и возвратом кредита в срок?"
   ]
  },
  {
   "cell_type": "markdown",
   "id": "6edb7fd3",
   "metadata": {},
   "source": [
    "Посмотрим какие могут быть значения в столбце 'debt'"
   ]
  },
  {
   "cell_type": "code",
   "execution_count": 776,
   "id": "d7344fd8",
   "metadata": {
    "deletable": false,
    "id": "2cacfc4a"
   },
   "outputs": [
    {
     "data": {
      "text/plain": [
       "array([0, 1])"
      ]
     },
     "execution_count": 776,
     "metadata": {},
     "output_type": "execute_result"
    }
   ],
   "source": [
    "data.debt.unique()"
   ]
  },
  {
   "cell_type": "markdown",
   "id": "898db56b",
   "metadata": {},
   "source": [
    "Просрочки по погашению либо были, либо нет.\n",
    "\n",
    "Проверим какое среднее число несвоевременных погашений среди всех заёмщиков, чтобы понимать, какие значения можно считать хорошими/плохими, а какие аномальными."
   ]
  },
  {
   "cell_type": "code",
   "execution_count": 777,
   "id": "f226633c",
   "metadata": {},
   "outputs": [
    {
     "data": {
      "text/plain": [
       "0.08119638085415593"
      ]
     },
     "execution_count": 777,
     "metadata": {},
     "output_type": "execute_result"
    }
   ],
   "source": [
    "data.debt.mean()"
   ]
  },
  {
   "cell_type": "markdown",
   "id": "0da5e910",
   "metadata": {},
   "source": [
    "Для формулировки вывода, предварительно, сгруппировал данные по колонке 'children', и вычислил долю обращений за кредитом по этой группе."
   ]
  },
  {
   "cell_type": "code",
   "execution_count": 778,
   "id": "172e8b0b",
   "metadata": {},
   "outputs": [],
   "source": [
    "def share(x):\n",
    "    return f'{x.count() / len(data) * 100}%'"
   ]
  },
  {
   "cell_type": "code",
   "execution_count": 779,
   "id": "c5bce5c3",
   "metadata": {},
   "outputs": [
    {
     "data": {
      "text/html": [
       "<div>\n",
       "<style scoped>\n",
       "    .dataframe tbody tr th:only-of-type {\n",
       "        vertical-align: middle;\n",
       "    }\n",
       "\n",
       "    .dataframe tbody tr th {\n",
       "        vertical-align: top;\n",
       "    }\n",
       "\n",
       "    .dataframe thead th {\n",
       "        text-align: right;\n",
       "    }\n",
       "</style>\n",
       "<table border=\"1\" class=\"dataframe\">\n",
       "  <thead>\n",
       "    <tr style=\"text-align: right;\">\n",
       "      <th></th>\n",
       "      <th>debt</th>\n",
       "      <th>children</th>\n",
       "    </tr>\n",
       "    <tr>\n",
       "      <th>children</th>\n",
       "      <th></th>\n",
       "      <th></th>\n",
       "    </tr>\n",
       "  </thead>\n",
       "  <tbody>\n",
       "    <tr>\n",
       "      <th>0</th>\n",
       "      <td>0.075438</td>\n",
       "      <td>66.05878767990248%</td>\n",
       "    </tr>\n",
       "    <tr>\n",
       "      <th>1</th>\n",
       "      <td>0.092346</td>\n",
       "      <td>22.53996530870564%</td>\n",
       "    </tr>\n",
       "    <tr>\n",
       "      <th>2</th>\n",
       "      <td>0.094542</td>\n",
       "      <td>9.619802165861891%</td>\n",
       "    </tr>\n",
       "    <tr>\n",
       "      <th>3</th>\n",
       "      <td>0.081818</td>\n",
       "      <td>1.5470442079602456%</td>\n",
       "    </tr>\n",
       "    <tr>\n",
       "      <th>4</th>\n",
       "      <td>0.097561</td>\n",
       "      <td>0.19220852280718204%</td>\n",
       "    </tr>\n",
       "    <tr>\n",
       "      <th>5</th>\n",
       "      <td>0.000000</td>\n",
       "      <td>0.04219211476255215%</td>\n",
       "    </tr>\n",
       "  </tbody>\n",
       "</table>\n",
       "</div>"
      ],
      "text/plain": [
       "              debt              children\n",
       "children                                \n",
       "0         0.075438    66.05878767990248%\n",
       "1         0.092346    22.53996530870564%\n",
       "2         0.094542    9.619802165861891%\n",
       "3         0.081818   1.5470442079602456%\n",
       "4         0.097561  0.19220852280718204%\n",
       "5         0.000000  0.04219211476255215%"
      ]
     },
     "execution_count": 779,
     "metadata": {},
     "output_type": "execute_result"
    }
   ],
   "source": [
    "data.groupby('children').agg({'debt':'mean', 'children':share})"
   ]
  },
  {
   "cell_type": "markdown",
   "id": "32529aec",
   "metadata": {
    "deletable": false,
    "id": "3a6b99ec"
   },
   "source": [
    "**Вывод:** \n",
    "\n",
    "- По данным значениям: подавляющее число обращений (66%) - это заемщики без детей; и всего 9 человек из списка имею 5 детей.\n",
    "\n",
    "- Можем сделать вывод, что между количеством детей и возвратом кредита в срок, **зависимость есть.**\n",
    "        \n",
    "- Показатель своевременного погашения только заемщиков **без детей** ниже среднего. Остальные категории попадают в \"группу риска\". Больше всего просроченных платежей у заёмщиков с 4мя детьми (заемщиков с 5 детьми в данной категории проигнорируем, в виду очень низкого % таких заёмщиков)."
   ]
  },
  {
   "cell_type": "markdown",
   "id": "df9a48e6",
   "metadata": {
    "deletable": false,
    "editable": false,
    "id": "97be82ca"
   },
   "source": [
    "#### 3.2 Есть ли зависимость между семейным положением и возвратом кредита в срок?"
   ]
  },
  {
   "cell_type": "markdown",
   "id": "68f9a859",
   "metadata": {},
   "source": [
    "Изучим долю обращений по категории 'Семейное положение', чтобы понять, есть ли аномальные значения, которые лучше изучить отдельно."
   ]
  },
  {
   "cell_type": "code",
   "execution_count": 780,
   "id": "1866b160",
   "metadata": {
    "deletable": false,
    "id": "dc3f7ee8"
   },
   "outputs": [
    {
     "data": {
      "text/html": [
       "<div>\n",
       "<style scoped>\n",
       "    .dataframe tbody tr th:only-of-type {\n",
       "        vertical-align: middle;\n",
       "    }\n",
       "\n",
       "    .dataframe tbody tr th {\n",
       "        vertical-align: top;\n",
       "    }\n",
       "\n",
       "    .dataframe thead th {\n",
       "        text-align: right;\n",
       "    }\n",
       "</style>\n",
       "<table border=\"1\" class=\"dataframe\">\n",
       "  <thead>\n",
       "    <tr style=\"text-align: right;\">\n",
       "      <th></th>\n",
       "      <th>debt</th>\n",
       "      <th>children</th>\n",
       "    </tr>\n",
       "    <tr>\n",
       "      <th>family_status</th>\n",
       "      <th></th>\n",
       "      <th></th>\n",
       "    </tr>\n",
       "  </thead>\n",
       "  <tbody>\n",
       "    <tr>\n",
       "      <th>Не женат / не замужем</th>\n",
       "      <td>0.097639</td>\n",
       "      <td>13.107683652899535%</td>\n",
       "    </tr>\n",
       "    <tr>\n",
       "      <th>в разводе</th>\n",
       "      <td>0.070648</td>\n",
       "      <td>5.574047161408279%</td>\n",
       "    </tr>\n",
       "    <tr>\n",
       "      <th>вдовец / вдова</th>\n",
       "      <td>0.066246</td>\n",
       "      <td>4.4583001265763444%</td>\n",
       "    </tr>\n",
       "    <tr>\n",
       "      <th>гражданский брак</th>\n",
       "      <td>0.093130</td>\n",
       "      <td>19.380244714265622%</td>\n",
       "    </tr>\n",
       "    <tr>\n",
       "      <th>женат / замужем</th>\n",
       "      <td>0.075606</td>\n",
       "      <td>57.47972434485021%</td>\n",
       "    </tr>\n",
       "  </tbody>\n",
       "</table>\n",
       "</div>"
      ],
      "text/plain": [
       "                           debt             children\n",
       "family_status                                       \n",
       "Не женат / не замужем  0.097639  13.107683652899535%\n",
       "в разводе              0.070648   5.574047161408279%\n",
       "вдовец / вдова         0.066246  4.4583001265763444%\n",
       "гражданский брак       0.093130  19.380244714265622%\n",
       "женат / замужем        0.075606   57.47972434485021%"
      ]
     },
     "execution_count": 780,
     "metadata": {},
     "output_type": "execute_result"
    }
   ],
   "source": [
    "data.groupby('family_status').agg({'debt':'mean', 'children':share})"
   ]
  },
  {
   "cell_type": "markdown",
   "id": "5fbe3ace",
   "metadata": {
    "deletable": false,
    "id": "1cef7837"
   },
   "source": [
    "**Вывод:** \n",
    "\n",
    "Чаще всего за кредитом обращаются женатые (замужние) - 57,5%. Однако, для формирования вывода, этого не достаточно. Например, люди, которые находятся в отношениях, не всегда определяют свой статус, как 'в гражданском браке'. Аналогично, со статусом 'Не женат / не замужем'.\\\n",
    "В итоге, можем сделать вывод, что между семейным положением и возвратом кредита в срок, зависимость есть.\\\n",
    "Но, учитывая специфичность категорий и наличие фактора субъективного распределения людей по данным группам, не следует рассматривать данную зависимость, как решающую, но можно учеть результат данного исследования, как вспомогательный, при принятии решения.\\\n",
    "Отметим, что самая многочисленная группа (\"женат / замужем\"), по сравнению с другими, имеет неплохой средний показатель возврата в срок (0.076), что является показателем просрочек по платежам - ниже среднего."
   ]
  },
  {
   "cell_type": "markdown",
   "id": "aa173549",
   "metadata": {
    "deletable": false,
    "editable": false,
    "id": "1e8b2fca"
   },
   "source": [
    "#### 3.3 Есть ли зависимость между уровнем дохода и возвратом кредита в срок?"
   ]
  },
  {
   "cell_type": "markdown",
   "id": "ce8b612c",
   "metadata": {},
   "source": [
    "- На основании категоризации из п.2.6, сгруппируем данные по столбцу \"total_income_category\" и посчитаем средне значение просроченных платежей по каждой категории.\n",
    "        \n",
    "0–30000 — 'E';\n",
    "        \n",
    "30001–50000 — 'D';\n",
    "        \n",
    "50001–200000 — 'C';\n",
    "        \n",
    "200001–1000000 — 'B';\n",
    "        \n",
    "1000001 и выше — 'A'\n"
   ]
  },
  {
   "cell_type": "code",
   "execution_count": 781,
   "id": "a273d1d4",
   "metadata": {},
   "outputs": [
    {
     "data": {
      "text/plain": [
       "array(['B', 'C', 'D', 'E', 'A'], dtype=object)"
      ]
     },
     "execution_count": 781,
     "metadata": {},
     "output_type": "execute_result"
    }
   ],
   "source": [
    "data.total_income_category.unique()"
   ]
  },
  {
   "cell_type": "code",
   "execution_count": 782,
   "id": "8eb3525c",
   "metadata": {},
   "outputs": [
    {
     "data": {
      "text/plain": [
       "total_income_category\n",
       "A    0.080000\n",
       "B    0.070602\n",
       "C    0.084982\n",
       "D    0.060172\n",
       "E    0.090909\n",
       "Name: debt, dtype: float64"
      ]
     },
     "execution_count": 782,
     "metadata": {},
     "output_type": "execute_result"
    }
   ],
   "source": [
    "data.groupby('total_income_category')['debt'].mean()"
   ]
  },
  {
   "cell_type": "markdown",
   "id": "da4ba3c3",
   "metadata": {},
   "source": [
    "**Вывод:** \n",
    "\n",
    "Чаще всего имеют просроченные платежы заемщики из категории Е (доход от до 30 000). \n",
    "        \n",
    "- Наиболее ответственная категория - D, с доходом от 30 001 до 50 000.\n",
    "\n",
    "- Как не удивительно, категории с доходом более 50 000 чаще имеют просроченные задолженности.\\\n",
    "Нужно анализировать суммы выданных кредитов по данным категориям. Возможно они сильно выше, чем для категорий D и E и с платяжами сложно справится, даже с высоким уровнем дохода."
   ]
  },
  {
   "cell_type": "markdown",
   "id": "d1b4a0be",
   "metadata": {},
   "source": [
    "В столбце \"total_income\" было много пропущенных значений, которые мы заменили медианными. Это может сильно повлиять на исследование.\\\n",
    "Попробуем найти зависимость не от уровня дохода, а от типа занятости, т.к. эти категории наиболее пересекаются.\n",
    "        \n",
    "- Проверим какие типы занятости есть в датасете, чтобы исключить аномальные значения, не влияющие на общий вывод.\\\n",
    "Проигнорируем категории \"безработный\", \"в декрете\", \"предприниматель\" и \"студент\", т.к. для вывода по ним недостаточно данных (слишком мало обращений).\n",
    "        \n",
    "- Вычислим среднее значение несвоевременных выплат для каждого типа занятости."
   ]
  },
  {
   "cell_type": "code",
   "execution_count": 783,
   "id": "2c6f8776",
   "metadata": {
    "deletable": false,
    "id": "cd7e3720"
   },
   "outputs": [
    {
     "data": {
      "text/plain": [
       "142594.0"
      ]
     },
     "execution_count": 783,
     "metadata": {},
     "output_type": "execute_result"
    }
   ],
   "source": [
    "data.total_income.median()"
   ]
  },
  {
   "cell_type": "code",
   "execution_count": 784,
   "id": "7c841e13",
   "metadata": {},
   "outputs": [
    {
     "data": {
      "text/plain": [
       "142594    1066\n",
       "172357     498\n",
       "118514     384\n",
       "150447     144\n",
       "244123       3\n",
       "Name: total_income, dtype: int64"
      ]
     },
     "execution_count": 784,
     "metadata": {},
     "output_type": "execute_result"
    }
   ],
   "source": [
    "data.total_income.value_counts().head()"
   ]
  },
  {
   "cell_type": "code",
   "execution_count": 785,
   "id": "a77c80eb",
   "metadata": {},
   "outputs": [
    {
     "data": {
      "text/html": [
       "<div>\n",
       "<style scoped>\n",
       "    .dataframe tbody tr th:only-of-type {\n",
       "        vertical-align: middle;\n",
       "    }\n",
       "\n",
       "    .dataframe tbody tr th {\n",
       "        vertical-align: top;\n",
       "    }\n",
       "\n",
       "    .dataframe thead tr th {\n",
       "        text-align: left;\n",
       "    }\n",
       "\n",
       "    .dataframe thead tr:last-of-type th {\n",
       "        text-align: right;\n",
       "    }\n",
       "</style>\n",
       "<table border=\"1\" class=\"dataframe\">\n",
       "  <thead>\n",
       "    <tr>\n",
       "      <th></th>\n",
       "      <th>debt</th>\n",
       "      <th colspan=\"2\" halign=\"left\">total_income</th>\n",
       "    </tr>\n",
       "    <tr>\n",
       "      <th></th>\n",
       "      <th>mean</th>\n",
       "      <th>median</th>\n",
       "      <th>count</th>\n",
       "    </tr>\n",
       "    <tr>\n",
       "      <th>income_type</th>\n",
       "      <th></th>\n",
       "      <th></th>\n",
       "      <th></th>\n",
       "    </tr>\n",
       "  </thead>\n",
       "  <tbody>\n",
       "    <tr>\n",
       "      <th>безработный</th>\n",
       "      <td>0.500000</td>\n",
       "      <td>131339</td>\n",
       "      <td>2</td>\n",
       "    </tr>\n",
       "    <tr>\n",
       "      <th>в декрете</th>\n",
       "      <td>1.000000</td>\n",
       "      <td>53829</td>\n",
       "      <td>1</td>\n",
       "    </tr>\n",
       "    <tr>\n",
       "      <th>госслужащий</th>\n",
       "      <td>0.059269</td>\n",
       "      <td>150447</td>\n",
       "      <td>1451</td>\n",
       "    </tr>\n",
       "    <tr>\n",
       "      <th>компаньон</th>\n",
       "      <td>0.074103</td>\n",
       "      <td>172357</td>\n",
       "      <td>5047</td>\n",
       "    </tr>\n",
       "    <tr>\n",
       "      <th>пенсионер</th>\n",
       "      <td>0.056663</td>\n",
       "      <td>118514</td>\n",
       "      <td>3812</td>\n",
       "    </tr>\n",
       "    <tr>\n",
       "      <th>предприниматель</th>\n",
       "      <td>0.000000</td>\n",
       "      <td>499163</td>\n",
       "      <td>2</td>\n",
       "    </tr>\n",
       "    <tr>\n",
       "      <th>сотрудник</th>\n",
       "      <td>0.095688</td>\n",
       "      <td>142594</td>\n",
       "      <td>11015</td>\n",
       "    </tr>\n",
       "    <tr>\n",
       "      <th>студент</th>\n",
       "      <td>0.000000</td>\n",
       "      <td>98201</td>\n",
       "      <td>1</td>\n",
       "    </tr>\n",
       "  </tbody>\n",
       "</table>\n",
       "</div>"
      ],
      "text/plain": [
       "                     debt total_income       \n",
       "                     mean       median  count\n",
       "income_type                                  \n",
       "безработный      0.500000       131339      2\n",
       "в декрете        1.000000        53829      1\n",
       "госслужащий      0.059269       150447   1451\n",
       "компаньон        0.074103       172357   5047\n",
       "пенсионер        0.056663       118514   3812\n",
       "предприниматель  0.000000       499163      2\n",
       "сотрудник        0.095688       142594  11015\n",
       "студент          0.000000        98201      1"
      ]
     },
     "execution_count": 785,
     "metadata": {},
     "output_type": "execute_result"
    }
   ],
   "source": [
    "data.groupby('income_type').agg({'debt':'mean', 'total_income':['median','count']})"
   ]
  },
  {
   "cell_type": "markdown",
   "id": "1bffcb93",
   "metadata": {
    "deletable": false,
    "id": "e8593def"
   },
   "source": [
    "**Вывод:** \n",
    "\n",
    "- Из-за большого количества полных дубликатов в столбце \"total_income\", без дополнительных разъяснений, делать вывод о влиянии уровня дохода на возврат кредита в срок нельзя, т.к. невозможно объективно разделить уровень дохода на категории.\n",
    "\n",
    "- Если данные в таблице все же верны, то разумнее проследить зависимость от типа занятости. \n",
    "       \n",
    "- К рискованной категории можно отнести заёмщиков с типом занятости \"сотрудник\" (0.096). Среднее значение возврата по остальным категориям - ниже 0.08."
   ]
  },
  {
   "cell_type": "markdown",
   "id": "1bd42c7e",
   "metadata": {
    "deletable": false,
    "editable": false,
    "id": "99ecbd1f"
   },
   "source": [
    "#### 3.4 Как разные цели кредита влияют на его возврат в срок?"
   ]
  },
  {
   "cell_type": "code",
   "execution_count": 788,
   "id": "6ded6ca0",
   "metadata": {
    "deletable": false,
    "id": "2b687290"
   },
   "outputs": [
    {
     "data": {
      "text/html": [
       "<div>\n",
       "<style scoped>\n",
       "    .dataframe tbody tr th:only-of-type {\n",
       "        vertical-align: middle;\n",
       "    }\n",
       "\n",
       "    .dataframe tbody tr th {\n",
       "        vertical-align: top;\n",
       "    }\n",
       "\n",
       "    .dataframe thead tr th {\n",
       "        text-align: left;\n",
       "    }\n",
       "\n",
       "    .dataframe thead tr:last-of-type th {\n",
       "        text-align: right;\n",
       "    }\n",
       "</style>\n",
       "<table border=\"1\" class=\"dataframe\">\n",
       "  <thead>\n",
       "    <tr>\n",
       "      <th></th>\n",
       "      <th colspan=\"2\" halign=\"left\">debt</th>\n",
       "    </tr>\n",
       "    <tr>\n",
       "      <th></th>\n",
       "      <th>mean</th>\n",
       "      <th>share</th>\n",
       "    </tr>\n",
       "    <tr>\n",
       "      <th>purpose_category</th>\n",
       "      <th></th>\n",
       "      <th></th>\n",
       "    </tr>\n",
       "  </thead>\n",
       "  <tbody>\n",
       "    <tr>\n",
       "      <th>операции с автомобилем</th>\n",
       "      <td>0.093480</td>\n",
       "      <td>20.060006563217854%</td>\n",
       "    </tr>\n",
       "    <tr>\n",
       "      <th>операции с недвижимостью</th>\n",
       "      <td>0.072551</td>\n",
       "      <td>50.40082509024425%</td>\n",
       "    </tr>\n",
       "    <tr>\n",
       "      <th>получение образования</th>\n",
       "      <td>0.092528</td>\n",
       "      <td>18.695794852562%</td>\n",
       "    </tr>\n",
       "    <tr>\n",
       "      <th>проведение свадьбы</th>\n",
       "      <td>0.079118</td>\n",
       "      <td>10.843373493975903%</td>\n",
       "    </tr>\n",
       "  </tbody>\n",
       "</table>\n",
       "</div>"
      ],
      "text/plain": [
       "                              debt                     \n",
       "                              mean                share\n",
       "purpose_category                                       \n",
       "операции с автомобилем    0.093480  20.060006563217854%\n",
       "операции с недвижимостью  0.072551   50.40082509024425%\n",
       "получение образования     0.092528     18.695794852562%\n",
       "проведение свадьбы        0.079118  10.843373493975903%"
      ]
     },
     "execution_count": 788,
     "metadata": {},
     "output_type": "execute_result"
    }
   ],
   "source": [
    "data.groupby('purpose_category').agg({'debt':['mean', share]})"
   ]
  },
  {
   "cell_type": "markdown",
   "id": "f98abb1c",
   "metadata": {
    "deletable": false,
    "id": "b4bb2ce6"
   },
   "source": [
    "**Вывод:**\n",
    "\n",
    "- Кредиты на \"операции с недвижимостью\" и \"проведение свадьбы\" чаще возвращают в срок, чем средства выданные на \"операции с автомобилем\" или \"получение образования\"."
   ]
  },
  {
   "cell_type": "markdown",
   "id": "ab2f17c0",
   "metadata": {
    "deletable": false,
    "editable": false,
    "id": "09c3ac4c"
   },
   "source": [
    "#### 3.5 Приведите возможные причины появления пропусков в исходных данных."
   ]
  },
  {
   "cell_type": "markdown",
   "id": "57b1cfd2",
   "metadata": {
    "deletable": false,
    "id": "9da2ceda"
   },
   "source": [
    "- Ошибка при переносе данных\n",
    "        \n",
    "- Необязательный пункт для заполнения и люди не захотели оставлять данные\n",
    "        \n",
    "- Человечиский фактор. Кто-то мог забыть заполнить или удалить данные\n",
    "        \n",
    "- Это может быть намеренно оставленная \"заглушка\"(специальный код).\n",
    "        \n",
    "- Пропущенные значения могут соответствовать нулевому значению или знаку \"-\", при внесении."
   ]
  },
  {
   "cell_type": "markdown",
   "id": "498d7238",
   "metadata": {
    "deletable": false,
    "editable": false,
    "id": "7b0487d6"
   },
   "source": [
    "#### 3.6 Объясните, почему заполнить пропуски медианным значением — лучшее решение для количественных переменных."
   ]
  },
  {
   "cell_type": "markdown",
   "id": "5a9cb8dc",
   "metadata": {
    "deletable": false,
    "id": "7ecf2b8e"
   },
   "source": [
    "- Медианное значение менее подвержено наличию выбросов и аномально маленьких или больших значений. Меньше влияние крайних значений на среднее."
   ]
  },
  {
   "cell_type": "markdown",
   "id": "e259c6e7",
   "metadata": {
    "deletable": false,
    "editable": false,
    "id": "6db5255a"
   },
   "source": [
    "### Шаг 4: общий вывод."
   ]
  },
  {
   "cell_type": "markdown",
   "id": "a50d31d8",
   "metadata": {
    "deletable": false,
    "id": "bad65432"
   },
   "source": [
    "- Семейное положение и количество детей клиента **влияют** на факт погашения кредита в срок.\n",
    "    \n",
    "- `66%` заемщиков не имеют детей, и у этой группы самый низкий средний показатель просрочек платежей. Всего `7,5%` - что является ниже среднего общего показателя `8,1%`.\\\n",
    "- Самая рискованная категория в данной группе - заемщики с 2мя детьми. `9,5%` из них допускают несвовременное погашение. Группы с 4мя и 5ю детьми в данном исследовании проигнорированы, в виду своей малочисленности.\\\n",
    "- Люди в браке, в среднем, реже допускают просрочки чем другие категории в группе \"Семейное положение\" - всего `7,6%`. Эта категория, так же, самая обширная - `57,5%`.\\\n",
    "- Уровень дохода, тип занятости и цель займа, так же, влияют на своевременное погашение.\\\n",
    "- Необходимо учесть, что каждое значение, по-отдельности, оказывает косвенное влияние. Решение необходимо принимать на совокупности всех факторов и доступных вводных данных."
   ]
  },
  {
   "cell_type": "markdown",
   "id": "e89fa872",
   "metadata": {
    "deletable": false,
    "editable": false,
    "id": "827c20bf"
   },
   "source": [
    "Во второй части проекта вы выполните шаги 3 и 4. Их вручную проверит ревьюер.\n",
    "Чтобы вам не пришлось писать код заново для шагов 1 и 2, мы добавили авторские решения в ячейки с кодом. \n",
    "\n"
   ]
  }
 ],
 "metadata": {
  "ExecuteTimeLog": [
   {
    "duration": 653,
    "start_time": "2022-09-21T08:29:30.048Z"
   },
   {
    "duration": 21,
    "start_time": "2022-09-21T08:29:30.703Z"
   },
   {
    "duration": 27,
    "start_time": "2022-09-21T08:29:30.725Z"
   },
   {
    "duration": 18,
    "start_time": "2022-09-21T08:29:30.754Z"
   },
   {
    "duration": 34,
    "start_time": "2022-09-21T08:29:30.773Z"
   },
   {
    "duration": 4,
    "start_time": "2022-09-21T08:29:30.808Z"
   },
   {
    "duration": 16,
    "start_time": "2022-09-21T08:29:30.813Z"
   },
   {
    "duration": 8,
    "start_time": "2022-09-21T08:29:30.831Z"
   },
   {
    "duration": 14,
    "start_time": "2022-09-21T08:29:30.840Z"
   },
   {
    "duration": 9,
    "start_time": "2022-09-21T08:29:30.857Z"
   },
   {
    "duration": 46,
    "start_time": "2022-09-21T08:29:30.867Z"
   },
   {
    "duration": 8,
    "start_time": "2022-09-21T08:29:30.915Z"
   },
   {
    "duration": 17,
    "start_time": "2022-09-21T08:29:30.924Z"
   },
   {
    "duration": 47,
    "start_time": "2022-09-21T08:29:30.942Z"
   },
   {
    "duration": 48,
    "start_time": "2022-09-21T08:29:30.990Z"
   },
   {
    "duration": 26,
    "start_time": "2022-09-21T08:29:31.039Z"
   },
   {
    "duration": 16,
    "start_time": "2022-09-21T08:29:31.067Z"
   },
   {
    "duration": 50,
    "start_time": "2022-09-21T08:29:31.085Z"
   },
   {
    "duration": 8,
    "start_time": "2022-09-21T08:29:31.137Z"
   },
   {
    "duration": 35,
    "start_time": "2022-09-21T08:29:31.147Z"
   },
   {
    "duration": 34,
    "start_time": "2022-09-21T08:29:31.184Z"
   },
   {
    "duration": 25,
    "start_time": "2022-09-21T08:35:33.202Z"
   },
   {
    "duration": 19,
    "start_time": "2022-09-21T08:35:45.556Z"
   },
   {
    "duration": 16,
    "start_time": "2022-09-21T08:35:53.505Z"
   },
   {
    "duration": 8,
    "start_time": "2022-09-21T08:56:11.433Z"
   },
   {
    "duration": 5,
    "start_time": "2022-09-21T08:56:52.801Z"
   },
   {
    "duration": 68,
    "start_time": "2022-09-21T08:58:15.707Z"
   },
   {
    "duration": 13,
    "start_time": "2022-09-21T08:58:28.904Z"
   },
   {
    "duration": 7,
    "start_time": "2022-09-21T08:59:10.325Z"
   },
   {
    "duration": 28,
    "start_time": "2022-09-21T09:01:57.794Z"
   },
   {
    "duration": 35,
    "start_time": "2022-09-21T09:02:13.224Z"
   },
   {
    "duration": 35,
    "start_time": "2022-09-21T09:02:59.251Z"
   },
   {
    "duration": 29,
    "start_time": "2022-09-21T09:03:38.117Z"
   },
   {
    "duration": 16,
    "start_time": "2022-09-21T09:03:51.223Z"
   },
   {
    "duration": 17,
    "start_time": "2022-09-21T09:03:53.953Z"
   },
   {
    "duration": 77,
    "start_time": "2022-09-21T09:04:11.270Z"
   },
   {
    "duration": 15,
    "start_time": "2022-09-21T09:04:11.349Z"
   },
   {
    "duration": 30,
    "start_time": "2022-09-21T09:04:11.365Z"
   },
   {
    "duration": 24,
    "start_time": "2022-09-21T09:04:11.396Z"
   },
   {
    "duration": 35,
    "start_time": "2022-09-21T09:04:11.422Z"
   },
   {
    "duration": 3,
    "start_time": "2022-09-21T09:04:11.459Z"
   },
   {
    "duration": 12,
    "start_time": "2022-09-21T09:04:11.464Z"
   },
   {
    "duration": 6,
    "start_time": "2022-09-21T09:04:11.477Z"
   },
   {
    "duration": 7,
    "start_time": "2022-09-21T09:04:11.484Z"
   },
   {
    "duration": 18,
    "start_time": "2022-09-21T09:04:11.492Z"
   },
   {
    "duration": 30,
    "start_time": "2022-09-21T09:04:11.511Z"
   },
   {
    "duration": 8,
    "start_time": "2022-09-21T09:04:11.543Z"
   },
   {
    "duration": 15,
    "start_time": "2022-09-21T09:04:11.553Z"
   },
   {
    "duration": 17,
    "start_time": "2022-09-21T09:04:11.570Z"
   },
   {
    "duration": 24,
    "start_time": "2022-09-21T09:04:11.589Z"
   },
   {
    "duration": 16,
    "start_time": "2022-09-21T09:04:11.614Z"
   },
   {
    "duration": 4,
    "start_time": "2022-09-21T09:04:11.631Z"
   },
   {
    "duration": 11,
    "start_time": "2022-09-21T09:04:11.636Z"
   },
   {
    "duration": 15,
    "start_time": "2022-09-21T09:04:11.649Z"
   },
   {
    "duration": 13,
    "start_time": "2022-09-21T09:04:11.666Z"
   },
   {
    "duration": 32,
    "start_time": "2022-09-21T09:04:13.492Z"
   },
   {
    "duration": 41,
    "start_time": "2022-09-21T09:04:44.525Z"
   },
   {
    "duration": 27,
    "start_time": "2022-09-21T09:04:57.763Z"
   },
   {
    "duration": 68,
    "start_time": "2022-09-21T09:05:33.178Z"
   },
   {
    "duration": 15,
    "start_time": "2022-09-21T09:05:33.247Z"
   },
   {
    "duration": 25,
    "start_time": "2022-09-21T09:05:33.263Z"
   },
   {
    "duration": 18,
    "start_time": "2022-09-21T09:05:33.291Z"
   },
   {
    "duration": 30,
    "start_time": "2022-09-21T09:05:33.310Z"
   },
   {
    "duration": 3,
    "start_time": "2022-09-21T09:05:33.341Z"
   },
   {
    "duration": 15,
    "start_time": "2022-09-21T09:05:33.346Z"
   },
   {
    "duration": 3,
    "start_time": "2022-09-21T09:05:33.363Z"
   },
   {
    "duration": 6,
    "start_time": "2022-09-21T09:05:33.367Z"
   },
   {
    "duration": 3,
    "start_time": "2022-09-21T09:05:33.375Z"
   },
   {
    "duration": 30,
    "start_time": "2022-09-21T09:05:33.409Z"
   },
   {
    "duration": 8,
    "start_time": "2022-09-21T09:05:33.441Z"
   },
   {
    "duration": 7,
    "start_time": "2022-09-21T09:05:33.450Z"
   },
   {
    "duration": 14,
    "start_time": "2022-09-21T09:05:33.458Z"
   },
   {
    "duration": 36,
    "start_time": "2022-09-21T09:05:33.474Z"
   },
   {
    "duration": 17,
    "start_time": "2022-09-21T09:05:33.511Z"
   },
   {
    "duration": 3,
    "start_time": "2022-09-21T09:05:33.529Z"
   },
   {
    "duration": 15,
    "start_time": "2022-09-21T09:05:33.534Z"
   },
   {
    "duration": 8,
    "start_time": "2022-09-21T09:05:33.551Z"
   },
   {
    "duration": 3,
    "start_time": "2022-09-21T09:05:33.561Z"
   },
   {
    "duration": 18,
    "start_time": "2022-09-21T09:05:35.825Z"
   },
   {
    "duration": 71,
    "start_time": "2022-09-21T09:07:20.224Z"
   },
   {
    "duration": 6,
    "start_time": "2022-09-21T09:07:37.016Z"
   },
   {
    "duration": 7,
    "start_time": "2022-09-21T09:08:20.792Z"
   },
   {
    "duration": 7,
    "start_time": "2022-09-21T09:09:07.432Z"
   },
   {
    "duration": 26,
    "start_time": "2022-09-21T09:12:40.710Z"
   },
   {
    "duration": 6,
    "start_time": "2022-09-21T09:14:54.324Z"
   },
   {
    "duration": 8,
    "start_time": "2022-09-21T09:21:21.669Z"
   },
   {
    "duration": 7,
    "start_time": "2022-09-21T09:53:31.705Z"
   },
   {
    "duration": 6,
    "start_time": "2022-09-21T09:57:13.843Z"
   },
   {
    "duration": 7,
    "start_time": "2022-09-21T10:28:57.328Z"
   },
   {
    "duration": 8,
    "start_time": "2022-09-21T10:29:27.057Z"
   },
   {
    "duration": 8,
    "start_time": "2022-09-21T10:29:51.483Z"
   },
   {
    "duration": 8,
    "start_time": "2022-09-21T10:41:36.693Z"
   },
   {
    "duration": 7,
    "start_time": "2022-09-21T10:53:43.991Z"
   },
   {
    "duration": 8,
    "start_time": "2022-09-21T11:01:22.166Z"
   },
   {
    "duration": 4,
    "start_time": "2022-09-21T11:04:04.834Z"
   },
   {
    "duration": 5,
    "start_time": "2022-09-21T11:07:14.904Z"
   },
   {
    "duration": 4,
    "start_time": "2022-09-21T11:15:05.902Z"
   },
   {
    "duration": 6,
    "start_time": "2022-09-21T11:26:32.893Z"
   },
   {
    "duration": 12,
    "start_time": "2022-09-21T11:48:31.197Z"
   },
   {
    "duration": 8,
    "start_time": "2022-09-21T12:08:26.742Z"
   },
   {
    "duration": 5,
    "start_time": "2022-09-21T12:08:31.982Z"
   },
   {
    "duration": 5,
    "start_time": "2022-09-21T12:08:38.465Z"
   },
   {
    "duration": 7,
    "start_time": "2022-09-21T12:15:33.521Z"
   },
   {
    "duration": 5,
    "start_time": "2022-09-21T12:18:09.280Z"
   },
   {
    "duration": 4,
    "start_time": "2022-09-21T12:18:58.389Z"
   },
   {
    "duration": 5,
    "start_time": "2022-09-21T12:19:30.045Z"
   },
   {
    "duration": 10,
    "start_time": "2022-09-21T12:24:33.263Z"
   },
   {
    "duration": 5,
    "start_time": "2022-09-21T12:28:21.467Z"
   },
   {
    "duration": 21,
    "start_time": "2022-09-21T12:29:29.676Z"
   },
   {
    "duration": 6,
    "start_time": "2022-09-21T12:31:35.904Z"
   },
   {
    "duration": 10,
    "start_time": "2022-09-21T12:32:01.370Z"
   },
   {
    "duration": 7,
    "start_time": "2022-09-21T12:32:14.198Z"
   },
   {
    "duration": 6,
    "start_time": "2022-09-21T12:32:18.126Z"
   },
   {
    "duration": 11,
    "start_time": "2022-09-21T12:34:44.276Z"
   },
   {
    "duration": 8,
    "start_time": "2022-09-21T12:39:46.069Z"
   },
   {
    "duration": 9,
    "start_time": "2022-09-21T12:44:11.806Z"
   },
   {
    "duration": 291,
    "start_time": "2022-09-21T12:53:35.538Z"
   },
   {
    "duration": 7,
    "start_time": "2022-09-21T12:54:57.677Z"
   },
   {
    "duration": 9,
    "start_time": "2022-09-21T12:56:32.972Z"
   },
   {
    "duration": 11,
    "start_time": "2022-09-21T12:56:52.279Z"
   },
   {
    "duration": 11,
    "start_time": "2022-09-21T12:57:04.870Z"
   },
   {
    "duration": 13,
    "start_time": "2022-09-21T13:11:10.674Z"
   },
   {
    "duration": 26,
    "start_time": "2022-09-21T13:13:17.599Z"
   },
   {
    "duration": 28,
    "start_time": "2022-09-21T13:14:12.321Z"
   },
   {
    "duration": 9,
    "start_time": "2022-09-21T13:15:05.645Z"
   },
   {
    "duration": 78,
    "start_time": "2022-09-21T13:15:18.434Z"
   },
   {
    "duration": 17,
    "start_time": "2022-09-21T13:15:18.514Z"
   },
   {
    "duration": 28,
    "start_time": "2022-09-21T13:15:18.533Z"
   },
   {
    "duration": 10,
    "start_time": "2022-09-21T13:15:18.563Z"
   },
   {
    "duration": 44,
    "start_time": "2022-09-21T13:15:18.577Z"
   },
   {
    "duration": 4,
    "start_time": "2022-09-21T13:15:18.623Z"
   },
   {
    "duration": 13,
    "start_time": "2022-09-21T13:15:18.629Z"
   },
   {
    "duration": 6,
    "start_time": "2022-09-21T13:15:18.644Z"
   },
   {
    "duration": 10,
    "start_time": "2022-09-21T13:15:18.652Z"
   },
   {
    "duration": 11,
    "start_time": "2022-09-21T13:15:18.665Z"
   },
   {
    "duration": 44,
    "start_time": "2022-09-21T13:15:18.677Z"
   },
   {
    "duration": 11,
    "start_time": "2022-09-21T13:15:18.722Z"
   },
   {
    "duration": 5,
    "start_time": "2022-09-21T13:15:18.735Z"
   },
   {
    "duration": 20,
    "start_time": "2022-09-21T13:15:18.742Z"
   },
   {
    "duration": 25,
    "start_time": "2022-09-21T13:15:18.764Z"
   },
   {
    "duration": 25,
    "start_time": "2022-09-21T13:15:18.808Z"
   },
   {
    "duration": 5,
    "start_time": "2022-09-21T13:15:18.835Z"
   },
   {
    "duration": 16,
    "start_time": "2022-09-21T13:15:18.841Z"
   },
   {
    "duration": 9,
    "start_time": "2022-09-21T13:15:18.858Z"
   },
   {
    "duration": 4,
    "start_time": "2022-09-21T13:15:18.869Z"
   },
   {
    "duration": 44,
    "start_time": "2022-09-21T13:15:18.874Z"
   },
   {
    "duration": 9,
    "start_time": "2022-09-21T13:15:18.920Z"
   },
   {
    "duration": 9,
    "start_time": "2022-09-21T13:15:18.931Z"
   },
   {
    "duration": 25,
    "start_time": "2022-09-21T13:15:22.284Z"
   },
   {
    "duration": 18,
    "start_time": "2022-09-21T13:16:26.971Z"
   },
   {
    "duration": 9,
    "start_time": "2022-09-21T13:16:34.770Z"
   },
   {
    "duration": 74,
    "start_time": "2022-09-21T13:17:02.474Z"
   },
   {
    "duration": 14,
    "start_time": "2022-09-21T13:17:02.550Z"
   },
   {
    "duration": 19,
    "start_time": "2022-09-21T13:17:02.565Z"
   },
   {
    "duration": 10,
    "start_time": "2022-09-21T13:17:02.585Z"
   },
   {
    "duration": 47,
    "start_time": "2022-09-21T13:17:02.610Z"
   },
   {
    "duration": 4,
    "start_time": "2022-09-21T13:17:02.659Z"
   },
   {
    "duration": 19,
    "start_time": "2022-09-21T13:17:02.665Z"
   },
   {
    "duration": 4,
    "start_time": "2022-09-21T13:17:02.686Z"
   },
   {
    "duration": 21,
    "start_time": "2022-09-21T13:17:02.692Z"
   },
   {
    "duration": 5,
    "start_time": "2022-09-21T13:17:02.714Z"
   },
   {
    "duration": 33,
    "start_time": "2022-09-21T13:17:02.721Z"
   },
   {
    "duration": 9,
    "start_time": "2022-09-21T13:17:02.756Z"
   },
   {
    "duration": 5,
    "start_time": "2022-09-21T13:17:02.767Z"
   },
   {
    "duration": 41,
    "start_time": "2022-09-21T13:17:02.774Z"
   },
   {
    "duration": 17,
    "start_time": "2022-09-21T13:17:02.817Z"
   },
   {
    "duration": 16,
    "start_time": "2022-09-21T13:17:02.836Z"
   },
   {
    "duration": 5,
    "start_time": "2022-09-21T13:17:02.853Z"
   },
   {
    "duration": 18,
    "start_time": "2022-09-21T13:17:02.859Z"
   },
   {
    "duration": 33,
    "start_time": "2022-09-21T13:17:02.879Z"
   },
   {
    "duration": 4,
    "start_time": "2022-09-21T13:17:02.914Z"
   },
   {
    "duration": 30,
    "start_time": "2022-09-21T13:17:02.919Z"
   },
   {
    "duration": 5,
    "start_time": "2022-09-21T13:17:02.951Z"
   },
   {
    "duration": 9,
    "start_time": "2022-09-21T13:17:02.958Z"
   },
   {
    "duration": 9,
    "start_time": "2022-09-21T13:17:04.793Z"
   },
   {
    "duration": 10,
    "start_time": "2022-09-21T13:17:12.797Z"
   },
   {
    "duration": 6,
    "start_time": "2022-09-21T13:20:01.382Z"
   },
   {
    "duration": 7,
    "start_time": "2022-09-21T13:23:30.593Z"
   },
   {
    "duration": 8,
    "start_time": "2022-09-21T13:24:32.496Z"
   },
   {
    "duration": 22,
    "start_time": "2022-09-21T13:24:53.199Z"
   },
   {
    "duration": 17,
    "start_time": "2022-09-21T13:25:29.597Z"
   },
   {
    "duration": 10,
    "start_time": "2022-09-21T13:32:01.899Z"
   },
   {
    "duration": 8,
    "start_time": "2022-09-21T13:40:02.530Z"
   },
   {
    "duration": 5,
    "start_time": "2022-09-21T13:56:42.569Z"
   },
   {
    "duration": 6,
    "start_time": "2022-09-21T13:56:51.957Z"
   },
   {
    "duration": 16,
    "start_time": "2022-09-21T13:58:00.565Z"
   },
   {
    "duration": 76,
    "start_time": "2022-09-21T13:59:20.677Z"
   },
   {
    "duration": 14,
    "start_time": "2022-09-21T13:59:20.755Z"
   },
   {
    "duration": 23,
    "start_time": "2022-09-21T13:59:20.771Z"
   },
   {
    "duration": 24,
    "start_time": "2022-09-21T13:59:20.796Z"
   },
   {
    "duration": 32,
    "start_time": "2022-09-21T13:59:20.822Z"
   },
   {
    "duration": 3,
    "start_time": "2022-09-21T13:59:20.855Z"
   },
   {
    "duration": 12,
    "start_time": "2022-09-21T13:59:20.859Z"
   },
   {
    "duration": 4,
    "start_time": "2022-09-21T13:59:20.872Z"
   },
   {
    "duration": 9,
    "start_time": "2022-09-21T13:59:20.877Z"
   },
   {
    "duration": 23,
    "start_time": "2022-09-21T13:59:20.887Z"
   },
   {
    "duration": 33,
    "start_time": "2022-09-21T13:59:20.911Z"
   },
   {
    "duration": 10,
    "start_time": "2022-09-21T13:59:20.946Z"
   },
   {
    "duration": 3,
    "start_time": "2022-09-21T13:59:20.958Z"
   },
   {
    "duration": 18,
    "start_time": "2022-09-21T13:59:20.964Z"
   },
   {
    "duration": 37,
    "start_time": "2022-09-21T13:59:20.983Z"
   },
   {
    "duration": 16,
    "start_time": "2022-09-21T13:59:21.022Z"
   },
   {
    "duration": 6,
    "start_time": "2022-09-21T13:59:21.040Z"
   },
   {
    "duration": 13,
    "start_time": "2022-09-21T13:59:21.047Z"
   },
   {
    "duration": 11,
    "start_time": "2022-09-21T13:59:21.061Z"
   },
   {
    "duration": 4,
    "start_time": "2022-09-21T13:59:21.073Z"
   },
   {
    "duration": 38,
    "start_time": "2022-09-21T13:59:21.078Z"
   },
   {
    "duration": 6,
    "start_time": "2022-09-21T13:59:21.117Z"
   },
   {
    "duration": 8,
    "start_time": "2022-09-21T13:59:21.124Z"
   },
   {
    "duration": 7,
    "start_time": "2022-09-21T13:59:21.134Z"
   },
   {
    "duration": 6,
    "start_time": "2022-09-21T13:59:21.143Z"
   },
   {
    "duration": 6,
    "start_time": "2022-09-21T13:59:21.150Z"
   },
   {
    "duration": 6,
    "start_time": "2022-09-21T13:59:21.157Z"
   },
   {
    "duration": 45,
    "start_time": "2022-09-21T13:59:21.165Z"
   },
   {
    "duration": 8,
    "start_time": "2022-09-21T13:59:56.000Z"
   },
   {
    "duration": 5,
    "start_time": "2022-09-21T14:00:39.582Z"
   },
   {
    "duration": 7,
    "start_time": "2022-09-21T14:00:41.705Z"
   },
   {
    "duration": 7,
    "start_time": "2022-09-21T14:00:42.311Z"
   },
   {
    "duration": 8,
    "start_time": "2022-09-21T14:02:29.506Z"
   },
   {
    "duration": 9,
    "start_time": "2022-09-21T14:03:45.659Z"
   },
   {
    "duration": 66,
    "start_time": "2022-09-21T14:07:22.551Z"
   },
   {
    "duration": 8,
    "start_time": "2022-09-21T14:07:28.747Z"
   },
   {
    "duration": 80,
    "start_time": "2022-09-21T14:48:08.763Z"
   },
   {
    "duration": 15,
    "start_time": "2022-09-21T14:48:08.846Z"
   },
   {
    "duration": 21,
    "start_time": "2022-09-21T14:48:08.862Z"
   },
   {
    "duration": 10,
    "start_time": "2022-09-21T14:48:08.885Z"
   },
   {
    "duration": 31,
    "start_time": "2022-09-21T14:48:08.908Z"
   },
   {
    "duration": 4,
    "start_time": "2022-09-21T14:48:08.940Z"
   },
   {
    "duration": 26,
    "start_time": "2022-09-21T14:48:08.945Z"
   },
   {
    "duration": 5,
    "start_time": "2022-09-21T14:48:08.972Z"
   },
   {
    "duration": 9,
    "start_time": "2022-09-21T14:48:08.978Z"
   },
   {
    "duration": 21,
    "start_time": "2022-09-21T14:48:08.989Z"
   },
   {
    "duration": 32,
    "start_time": "2022-09-21T14:48:09.011Z"
   },
   {
    "duration": 10,
    "start_time": "2022-09-21T14:48:09.045Z"
   },
   {
    "duration": 13,
    "start_time": "2022-09-21T14:48:09.058Z"
   },
   {
    "duration": 20,
    "start_time": "2022-09-21T14:48:09.074Z"
   },
   {
    "duration": 30,
    "start_time": "2022-09-21T14:48:09.096Z"
   },
   {
    "duration": 16,
    "start_time": "2022-09-21T14:48:09.128Z"
   },
   {
    "duration": 4,
    "start_time": "2022-09-21T14:48:09.145Z"
   },
   {
    "duration": 11,
    "start_time": "2022-09-21T14:48:09.150Z"
   },
   {
    "duration": 5,
    "start_time": "2022-09-21T14:48:09.163Z"
   },
   {
    "duration": 4,
    "start_time": "2022-09-21T14:48:09.169Z"
   },
   {
    "duration": 35,
    "start_time": "2022-09-21T14:48:09.174Z"
   },
   {
    "duration": 5,
    "start_time": "2022-09-21T14:48:09.210Z"
   },
   {
    "duration": 8,
    "start_time": "2022-09-21T14:48:09.217Z"
   },
   {
    "duration": 13,
    "start_time": "2022-09-21T14:48:09.227Z"
   },
   {
    "duration": 13,
    "start_time": "2022-09-21T14:48:09.241Z"
   },
   {
    "duration": 14,
    "start_time": "2022-09-21T14:48:09.256Z"
   },
   {
    "duration": 9,
    "start_time": "2022-09-21T14:48:09.272Z"
   },
   {
    "duration": 8,
    "start_time": "2022-09-21T14:48:11.291Z"
   },
   {
    "duration": 517,
    "start_time": "2022-09-22T08:04:48.695Z"
   },
   {
    "duration": 305,
    "start_time": "2022-09-22T08:04:49.214Z"
   },
   {
    "duration": 45,
    "start_time": "2022-09-22T08:04:52.738Z"
   },
   {
    "duration": 34,
    "start_time": "2022-09-22T08:12:09.618Z"
   },
   {
    "duration": 35,
    "start_time": "2022-09-22T08:12:41.894Z"
   },
   {
    "duration": 3,
    "start_time": "2022-09-22T08:37:51.320Z"
   },
   {
    "duration": 80,
    "start_time": "2022-09-22T08:37:51.325Z"
   },
   {
    "duration": 19,
    "start_time": "2022-09-22T08:37:51.407Z"
   },
   {
    "duration": 39,
    "start_time": "2022-09-22T08:37:51.427Z"
   },
   {
    "duration": 16,
    "start_time": "2022-09-22T08:37:51.468Z"
   },
   {
    "duration": 10,
    "start_time": "2022-09-22T08:37:51.485Z"
   },
   {
    "duration": 37,
    "start_time": "2022-09-22T08:37:51.521Z"
   },
   {
    "duration": 86,
    "start_time": "2022-09-22T08:37:51.559Z"
   },
   {
    "duration": 0,
    "start_time": "2022-09-22T08:37:51.647Z"
   },
   {
    "duration": 0,
    "start_time": "2022-09-22T08:37:51.648Z"
   },
   {
    "duration": 0,
    "start_time": "2022-09-22T08:37:51.649Z"
   },
   {
    "duration": 0,
    "start_time": "2022-09-22T08:37:51.651Z"
   },
   {
    "duration": 0,
    "start_time": "2022-09-22T08:37:51.652Z"
   },
   {
    "duration": 0,
    "start_time": "2022-09-22T08:37:51.653Z"
   },
   {
    "duration": 0,
    "start_time": "2022-09-22T08:37:51.654Z"
   },
   {
    "duration": 0,
    "start_time": "2022-09-22T08:37:51.655Z"
   },
   {
    "duration": 0,
    "start_time": "2022-09-22T08:37:51.656Z"
   },
   {
    "duration": 0,
    "start_time": "2022-09-22T08:37:51.658Z"
   },
   {
    "duration": 0,
    "start_time": "2022-09-22T08:37:51.659Z"
   },
   {
    "duration": 0,
    "start_time": "2022-09-22T08:37:51.661Z"
   },
   {
    "duration": 0,
    "start_time": "2022-09-22T08:37:51.662Z"
   },
   {
    "duration": 0,
    "start_time": "2022-09-22T08:37:51.663Z"
   },
   {
    "duration": 0,
    "start_time": "2022-09-22T08:37:51.665Z"
   },
   {
    "duration": 0,
    "start_time": "2022-09-22T08:37:51.666Z"
   },
   {
    "duration": 0,
    "start_time": "2022-09-22T08:37:51.667Z"
   },
   {
    "duration": 0,
    "start_time": "2022-09-22T08:37:51.668Z"
   },
   {
    "duration": 0,
    "start_time": "2022-09-22T08:37:51.670Z"
   },
   {
    "duration": 0,
    "start_time": "2022-09-22T08:37:51.671Z"
   },
   {
    "duration": 0,
    "start_time": "2022-09-22T08:37:51.672Z"
   },
   {
    "duration": 0,
    "start_time": "2022-09-22T08:37:51.673Z"
   },
   {
    "duration": 0,
    "start_time": "2022-09-22T08:37:51.674Z"
   },
   {
    "duration": 0,
    "start_time": "2022-09-22T08:37:51.676Z"
   },
   {
    "duration": 0,
    "start_time": "2022-09-22T08:37:51.677Z"
   },
   {
    "duration": 0,
    "start_time": "2022-09-22T08:37:51.720Z"
   },
   {
    "duration": 0,
    "start_time": "2022-09-22T08:37:51.721Z"
   },
   {
    "duration": 0,
    "start_time": "2022-09-22T08:37:51.722Z"
   },
   {
    "duration": 0,
    "start_time": "2022-09-22T08:37:51.723Z"
   },
   {
    "duration": 0,
    "start_time": "2022-09-22T08:37:51.723Z"
   },
   {
    "duration": 35,
    "start_time": "2022-09-22T08:38:03.227Z"
   },
   {
    "duration": 2,
    "start_time": "2022-09-22T08:38:21.629Z"
   },
   {
    "duration": 86,
    "start_time": "2022-09-22T08:38:21.634Z"
   },
   {
    "duration": 16,
    "start_time": "2022-09-22T08:38:21.722Z"
   },
   {
    "duration": 55,
    "start_time": "2022-09-22T08:38:21.739Z"
   },
   {
    "duration": 15,
    "start_time": "2022-09-22T08:38:21.796Z"
   },
   {
    "duration": 43,
    "start_time": "2022-09-22T08:38:21.813Z"
   },
   {
    "duration": 20,
    "start_time": "2022-09-22T08:38:21.858Z"
   },
   {
    "duration": 9,
    "start_time": "2022-09-22T08:38:23.936Z"
   },
   {
    "duration": 22,
    "start_time": "2022-09-22T08:39:24.418Z"
   },
   {
    "duration": 13,
    "start_time": "2022-09-22T08:40:50.246Z"
   },
   {
    "duration": 3,
    "start_time": "2022-09-22T08:41:38.307Z"
   },
   {
    "duration": 199,
    "start_time": "2022-09-22T08:41:38.313Z"
   },
   {
    "duration": 25,
    "start_time": "2022-09-22T08:41:38.515Z"
   },
   {
    "duration": 102,
    "start_time": "2022-09-22T08:41:38.543Z"
   },
   {
    "duration": 24,
    "start_time": "2022-09-22T08:41:38.651Z"
   },
   {
    "duration": 13,
    "start_time": "2022-09-22T08:41:38.677Z"
   },
   {
    "duration": 28,
    "start_time": "2022-09-22T08:41:38.691Z"
   },
   {
    "duration": 80,
    "start_time": "2022-09-22T08:41:38.722Z"
   },
   {
    "duration": 11,
    "start_time": "2022-09-22T08:41:41.160Z"
   },
   {
    "duration": 6,
    "start_time": "2022-09-22T08:41:52.067Z"
   },
   {
    "duration": 13,
    "start_time": "2022-09-22T08:41:56.450Z"
   },
   {
    "duration": 12,
    "start_time": "2022-09-22T08:43:07.260Z"
   },
   {
    "duration": 10,
    "start_time": "2022-09-22T08:48:37.257Z"
   },
   {
    "duration": 3,
    "start_time": "2022-09-22T08:48:40.703Z"
   },
   {
    "duration": 75,
    "start_time": "2022-09-22T08:48:40.708Z"
   },
   {
    "duration": 17,
    "start_time": "2022-09-22T08:48:40.785Z"
   },
   {
    "duration": 40,
    "start_time": "2022-09-22T08:48:40.803Z"
   },
   {
    "duration": 23,
    "start_time": "2022-09-22T08:48:40.846Z"
   },
   {
    "duration": 10,
    "start_time": "2022-09-22T08:48:40.871Z"
   },
   {
    "duration": 27,
    "start_time": "2022-09-22T08:48:40.883Z"
   },
   {
    "duration": 3,
    "start_time": "2022-09-22T08:48:42.354Z"
   },
   {
    "duration": 25,
    "start_time": "2022-09-22T08:48:50.341Z"
   },
   {
    "duration": 13,
    "start_time": "2022-09-22T08:49:29.314Z"
   },
   {
    "duration": 10,
    "start_time": "2022-09-22T08:49:40.034Z"
   },
   {
    "duration": 11,
    "start_time": "2022-09-22T08:49:42.571Z"
   },
   {
    "duration": 3,
    "start_time": "2022-09-22T08:57:35.491Z"
   },
   {
    "duration": 88,
    "start_time": "2022-09-22T08:57:35.496Z"
   },
   {
    "duration": 16,
    "start_time": "2022-09-22T08:57:35.586Z"
   },
   {
    "duration": 69,
    "start_time": "2022-09-22T08:57:35.604Z"
   },
   {
    "duration": 15,
    "start_time": "2022-09-22T08:57:35.676Z"
   },
   {
    "duration": 21,
    "start_time": "2022-09-22T08:57:35.693Z"
   },
   {
    "duration": 28,
    "start_time": "2022-09-22T08:57:35.716Z"
   },
   {
    "duration": 35,
    "start_time": "2022-09-22T08:57:35.746Z"
   },
   {
    "duration": 38,
    "start_time": "2022-09-22T08:57:35.782Z"
   },
   {
    "duration": 26,
    "start_time": "2022-09-22T08:57:35.823Z"
   },
   {
    "duration": 40,
    "start_time": "2022-09-22T08:57:35.852Z"
   },
   {
    "duration": 34,
    "start_time": "2022-09-22T08:57:35.894Z"
   },
   {
    "duration": 40,
    "start_time": "2022-09-22T08:57:35.930Z"
   },
   {
    "duration": 29,
    "start_time": "2022-09-22T08:57:35.972Z"
   },
   {
    "duration": 44,
    "start_time": "2022-09-22T08:57:38.258Z"
   },
   {
    "duration": 60,
    "start_time": "2022-09-22T08:57:51.495Z"
   },
   {
    "duration": 50,
    "start_time": "2022-09-22T08:58:29.967Z"
   },
   {
    "duration": 114,
    "start_time": "2022-09-22T09:20:59.168Z"
   },
   {
    "duration": 49,
    "start_time": "2022-09-22T09:21:04.350Z"
   },
   {
    "duration": 62,
    "start_time": "2022-09-22T09:21:09.191Z"
   },
   {
    "duration": 75,
    "start_time": "2022-09-22T10:46:30.194Z"
   },
   {
    "duration": 48,
    "start_time": "2022-09-22T10:46:34.286Z"
   },
   {
    "duration": 111,
    "start_time": "2022-09-22T10:46:45.066Z"
   },
   {
    "duration": 70,
    "start_time": "2022-09-22T10:46:49.940Z"
   },
   {
    "duration": 3,
    "start_time": "2022-09-22T10:50:48.834Z"
   },
   {
    "duration": 95,
    "start_time": "2022-09-22T10:50:48.840Z"
   },
   {
    "duration": 23,
    "start_time": "2022-09-22T10:50:48.938Z"
   },
   {
    "duration": 51,
    "start_time": "2022-09-22T10:50:48.963Z"
   },
   {
    "duration": 19,
    "start_time": "2022-09-22T10:50:49.021Z"
   },
   {
    "duration": 27,
    "start_time": "2022-09-22T10:50:49.042Z"
   },
   {
    "duration": 17,
    "start_time": "2022-09-22T10:50:49.071Z"
   },
   {
    "duration": 19,
    "start_time": "2022-09-22T10:50:49.091Z"
   },
   {
    "duration": 16,
    "start_time": "2022-09-22T10:50:49.112Z"
   },
   {
    "duration": 14,
    "start_time": "2022-09-22T10:50:49.130Z"
   },
   {
    "duration": 22,
    "start_time": "2022-09-22T10:50:49.147Z"
   },
   {
    "duration": 8,
    "start_time": "2022-09-22T10:50:49.171Z"
   },
   {
    "duration": 16,
    "start_time": "2022-09-22T10:50:49.181Z"
   },
   {
    "duration": 9,
    "start_time": "2022-09-22T10:50:49.199Z"
   },
   {
    "duration": 82,
    "start_time": "2022-09-22T10:50:52.531Z"
   },
   {
    "duration": 44,
    "start_time": "2022-09-22T10:53:22.068Z"
   },
   {
    "duration": 77,
    "start_time": "2022-09-22T10:53:48.638Z"
   },
   {
    "duration": 75,
    "start_time": "2022-09-22T10:54:11.041Z"
   },
   {
    "duration": 104,
    "start_time": "2022-09-22T10:54:15.688Z"
   },
   {
    "duration": 99,
    "start_time": "2022-09-22T10:54:19.797Z"
   },
   {
    "duration": 49,
    "start_time": "2022-09-22T10:54:28.097Z"
   },
   {
    "duration": 120,
    "start_time": "2022-09-22T10:54:32.040Z"
   },
   {
    "duration": 44,
    "start_time": "2022-09-22T10:54:35.777Z"
   },
   {
    "duration": 54,
    "start_time": "2022-09-22T10:56:14.191Z"
   },
   {
    "duration": 41,
    "start_time": "2022-09-22T10:56:30.677Z"
   },
   {
    "duration": 35,
    "start_time": "2022-09-22T10:56:53.659Z"
   },
   {
    "duration": 232,
    "start_time": "2022-09-22T10:57:31.030Z"
   },
   {
    "duration": 80,
    "start_time": "2022-09-22T10:57:45.032Z"
   },
   {
    "duration": 57,
    "start_time": "2022-09-22T10:58:06.474Z"
   },
   {
    "duration": 67,
    "start_time": "2022-09-22T10:58:10.788Z"
   },
   {
    "duration": 43,
    "start_time": "2022-09-22T10:58:28.711Z"
   },
   {
    "duration": 4,
    "start_time": "2022-09-22T10:59:56.036Z"
   },
   {
    "duration": 87,
    "start_time": "2022-09-22T10:59:56.042Z"
   },
   {
    "duration": 21,
    "start_time": "2022-09-22T10:59:56.132Z"
   },
   {
    "duration": 46,
    "start_time": "2022-09-22T10:59:56.155Z"
   },
   {
    "duration": 21,
    "start_time": "2022-09-22T10:59:56.203Z"
   },
   {
    "duration": 11,
    "start_time": "2022-09-22T10:59:56.226Z"
   },
   {
    "duration": 19,
    "start_time": "2022-09-22T10:59:56.240Z"
   },
   {
    "duration": 11,
    "start_time": "2022-09-22T10:59:56.261Z"
   },
   {
    "duration": 11,
    "start_time": "2022-09-22T10:59:56.275Z"
   },
   {
    "duration": 22,
    "start_time": "2022-09-22T10:59:56.288Z"
   },
   {
    "duration": 11,
    "start_time": "2022-09-22T10:59:56.312Z"
   },
   {
    "duration": 5,
    "start_time": "2022-09-22T10:59:56.325Z"
   },
   {
    "duration": 18,
    "start_time": "2022-09-22T10:59:56.332Z"
   },
   {
    "duration": 5,
    "start_time": "2022-09-22T10:59:56.352Z"
   },
   {
    "duration": 49,
    "start_time": "2022-09-22T10:59:56.359Z"
   },
   {
    "duration": 16,
    "start_time": "2022-09-22T10:59:56.409Z"
   },
   {
    "duration": 25,
    "start_time": "2022-09-22T10:59:56.427Z"
   },
   {
    "duration": 23,
    "start_time": "2022-09-22T10:59:56.454Z"
   },
   {
    "duration": 27,
    "start_time": "2022-09-22T10:59:56.480Z"
   },
   {
    "duration": 20,
    "start_time": "2022-09-22T10:59:56.508Z"
   },
   {
    "duration": 5,
    "start_time": "2022-09-22T10:59:56.530Z"
   },
   {
    "duration": 20,
    "start_time": "2022-09-22T10:59:56.537Z"
   },
   {
    "duration": 8,
    "start_time": "2022-09-22T10:59:56.559Z"
   },
   {
    "duration": 12,
    "start_time": "2022-09-22T10:59:56.571Z"
   },
   {
    "duration": 32,
    "start_time": "2022-09-22T10:59:56.585Z"
   },
   {
    "duration": 30,
    "start_time": "2022-09-22T10:59:56.619Z"
   },
   {
    "duration": 24,
    "start_time": "2022-09-22T10:59:56.651Z"
   },
   {
    "duration": 25,
    "start_time": "2022-09-22T10:59:56.677Z"
   },
   {
    "duration": 11,
    "start_time": "2022-09-22T10:59:56.704Z"
   },
   {
    "duration": 125,
    "start_time": "2022-09-22T11:04:31.158Z"
   },
   {
    "duration": 3,
    "start_time": "2022-09-22T11:05:15.741Z"
   },
   {
    "duration": 541,
    "start_time": "2022-09-22T11:06:35.083Z"
   },
   {
    "duration": 8,
    "start_time": "2022-09-22T11:08:03.315Z"
   },
   {
    "duration": 8,
    "start_time": "2022-09-22T11:08:11.144Z"
   },
   {
    "duration": 126,
    "start_time": "2022-09-22T11:09:47.958Z"
   },
   {
    "duration": 3,
    "start_time": "2022-09-22T11:11:02.236Z"
   },
   {
    "duration": 98,
    "start_time": "2022-09-22T11:11:02.241Z"
   },
   {
    "duration": 17,
    "start_time": "2022-09-22T11:11:02.341Z"
   },
   {
    "duration": 41,
    "start_time": "2022-09-22T11:11:02.360Z"
   },
   {
    "duration": 35,
    "start_time": "2022-09-22T11:11:02.404Z"
   },
   {
    "duration": 10,
    "start_time": "2022-09-22T11:11:02.441Z"
   },
   {
    "duration": 7,
    "start_time": "2022-09-22T11:11:02.453Z"
   },
   {
    "duration": 19,
    "start_time": "2022-09-22T11:11:02.462Z"
   },
   {
    "duration": 16,
    "start_time": "2022-09-22T11:11:02.483Z"
   },
   {
    "duration": 5,
    "start_time": "2022-09-22T11:11:02.520Z"
   },
   {
    "duration": 13,
    "start_time": "2022-09-22T11:11:02.528Z"
   },
   {
    "duration": 5,
    "start_time": "2022-09-22T11:11:02.543Z"
   },
   {
    "duration": 11,
    "start_time": "2022-09-22T11:11:02.550Z"
   },
   {
    "duration": 5,
    "start_time": "2022-09-22T11:11:02.563Z"
   },
   {
    "duration": 85,
    "start_time": "2022-09-22T11:11:02.570Z"
   },
   {
    "duration": 21,
    "start_time": "2022-09-22T11:11:02.657Z"
   },
   {
    "duration": 17,
    "start_time": "2022-09-22T11:11:02.680Z"
   },
   {
    "duration": 18,
    "start_time": "2022-09-22T11:11:02.699Z"
   },
   {
    "duration": 26,
    "start_time": "2022-09-22T11:11:02.719Z"
   },
   {
    "duration": 25,
    "start_time": "2022-09-22T11:11:02.748Z"
   },
   {
    "duration": 4,
    "start_time": "2022-09-22T11:11:02.775Z"
   },
   {
    "duration": 16,
    "start_time": "2022-09-22T11:11:02.781Z"
   },
   {
    "duration": 24,
    "start_time": "2022-09-22T11:11:02.799Z"
   },
   {
    "duration": 4,
    "start_time": "2022-09-22T11:11:02.826Z"
   },
   {
    "duration": 24,
    "start_time": "2022-09-22T11:11:02.832Z"
   },
   {
    "duration": 7,
    "start_time": "2022-09-22T11:11:02.859Z"
   },
   {
    "duration": 7,
    "start_time": "2022-09-22T11:11:02.868Z"
   },
   {
    "duration": 12,
    "start_time": "2022-09-22T11:11:02.877Z"
   },
   {
    "duration": 29,
    "start_time": "2022-09-22T11:11:02.893Z"
   },
   {
    "duration": 9,
    "start_time": "2022-09-22T11:11:02.925Z"
   },
   {
    "duration": 12,
    "start_time": "2022-09-22T11:11:06.175Z"
   },
   {
    "duration": 144,
    "start_time": "2022-09-22T11:14:49.966Z"
   },
   {
    "duration": 23,
    "start_time": "2022-09-22T11:16:58.140Z"
   },
   {
    "duration": 108,
    "start_time": "2022-09-22T11:17:16.665Z"
   },
   {
    "duration": 7,
    "start_time": "2022-09-22T11:17:55.190Z"
   },
   {
    "duration": 687,
    "start_time": "2022-09-22T11:17:57.801Z"
   },
   {
    "duration": 90,
    "start_time": "2022-09-22T11:18:28.581Z"
   },
   {
    "duration": 9,
    "start_time": "2022-09-22T11:20:18.642Z"
   },
   {
    "duration": 31,
    "start_time": "2022-09-22T11:20:21.929Z"
   },
   {
    "duration": 8,
    "start_time": "2022-09-22T11:20:56.030Z"
   },
   {
    "duration": 32,
    "start_time": "2022-09-22T11:20:58.688Z"
   },
   {
    "duration": 3,
    "start_time": "2022-09-22T11:21:03.311Z"
   },
   {
    "duration": 79,
    "start_time": "2022-09-22T11:21:03.316Z"
   },
   {
    "duration": 16,
    "start_time": "2022-09-22T11:21:03.398Z"
   },
   {
    "duration": 53,
    "start_time": "2022-09-22T11:21:03.416Z"
   },
   {
    "duration": 19,
    "start_time": "2022-09-22T11:21:03.472Z"
   },
   {
    "duration": 11,
    "start_time": "2022-09-22T11:21:03.492Z"
   },
   {
    "duration": 19,
    "start_time": "2022-09-22T11:21:03.504Z"
   },
   {
    "duration": 9,
    "start_time": "2022-09-22T11:21:03.525Z"
   },
   {
    "duration": 10,
    "start_time": "2022-09-22T11:21:03.536Z"
   },
   {
    "duration": 10,
    "start_time": "2022-09-22T11:21:03.548Z"
   },
   {
    "duration": 16,
    "start_time": "2022-09-22T11:21:03.561Z"
   },
   {
    "duration": 10,
    "start_time": "2022-09-22T11:21:03.578Z"
   },
   {
    "duration": 7,
    "start_time": "2022-09-22T11:21:03.590Z"
   },
   {
    "duration": 22,
    "start_time": "2022-09-22T11:21:03.599Z"
   },
   {
    "duration": 44,
    "start_time": "2022-09-22T11:21:03.623Z"
   },
   {
    "duration": 11,
    "start_time": "2022-09-22T11:21:03.668Z"
   },
   {
    "duration": 10,
    "start_time": "2022-09-22T11:21:03.681Z"
   },
   {
    "duration": 29,
    "start_time": "2022-09-22T11:21:03.692Z"
   },
   {
    "duration": 28,
    "start_time": "2022-09-22T11:21:03.723Z"
   },
   {
    "duration": 23,
    "start_time": "2022-09-22T11:21:03.753Z"
   },
   {
    "duration": 4,
    "start_time": "2022-09-22T11:21:03.778Z"
   },
   {
    "duration": 18,
    "start_time": "2022-09-22T11:21:03.784Z"
   },
   {
    "duration": 16,
    "start_time": "2022-09-22T11:21:03.821Z"
   },
   {
    "duration": 8,
    "start_time": "2022-09-22T11:21:03.839Z"
   },
   {
    "duration": 18,
    "start_time": "2022-09-22T11:21:03.849Z"
   },
   {
    "duration": 15,
    "start_time": "2022-09-22T11:21:03.868Z"
   },
   {
    "duration": 17,
    "start_time": "2022-09-22T11:21:03.885Z"
   },
   {
    "duration": 26,
    "start_time": "2022-09-22T11:21:03.905Z"
   },
   {
    "duration": 12,
    "start_time": "2022-09-22T11:21:03.935Z"
   },
   {
    "duration": 11,
    "start_time": "2022-09-22T11:21:06.048Z"
   },
   {
    "duration": 9,
    "start_time": "2022-09-22T11:21:28.730Z"
   },
   {
    "duration": 78,
    "start_time": "2022-09-22T11:28:49.442Z"
   },
   {
    "duration": 14,
    "start_time": "2022-09-22T11:31:10.466Z"
   },
   {
    "duration": 3,
    "start_time": "2022-09-22T11:32:49.959Z"
   },
   {
    "duration": 97,
    "start_time": "2022-09-22T11:32:49.964Z"
   },
   {
    "duration": 16,
    "start_time": "2022-09-22T11:32:50.063Z"
   },
   {
    "duration": 53,
    "start_time": "2022-09-22T11:32:50.081Z"
   },
   {
    "duration": 14,
    "start_time": "2022-09-22T11:32:50.137Z"
   },
   {
    "duration": 23,
    "start_time": "2022-09-22T11:32:50.153Z"
   },
   {
    "duration": 3,
    "start_time": "2022-09-22T11:32:50.178Z"
   },
   {
    "duration": 12,
    "start_time": "2022-09-22T11:32:50.183Z"
   },
   {
    "duration": 26,
    "start_time": "2022-09-22T11:32:50.197Z"
   },
   {
    "duration": 4,
    "start_time": "2022-09-22T11:32:50.224Z"
   },
   {
    "duration": 14,
    "start_time": "2022-09-22T11:32:50.232Z"
   },
   {
    "duration": 5,
    "start_time": "2022-09-22T11:32:50.249Z"
   },
   {
    "duration": 8,
    "start_time": "2022-09-22T11:32:50.256Z"
   },
   {
    "duration": 6,
    "start_time": "2022-09-22T11:32:50.266Z"
   },
   {
    "duration": 73,
    "start_time": "2022-09-22T11:32:50.273Z"
   },
   {
    "duration": 12,
    "start_time": "2022-09-22T11:32:50.348Z"
   },
   {
    "duration": 14,
    "start_time": "2022-09-22T11:32:50.362Z"
   },
   {
    "duration": 17,
    "start_time": "2022-09-22T11:32:50.378Z"
   },
   {
    "duration": 30,
    "start_time": "2022-09-22T11:32:50.397Z"
   },
   {
    "duration": 28,
    "start_time": "2022-09-22T11:32:50.429Z"
   },
   {
    "duration": 6,
    "start_time": "2022-09-22T11:32:50.460Z"
   },
   {
    "duration": 16,
    "start_time": "2022-09-22T11:32:50.468Z"
   },
   {
    "duration": 6,
    "start_time": "2022-09-22T11:32:50.486Z"
   },
   {
    "duration": 29,
    "start_time": "2022-09-22T11:32:50.494Z"
   },
   {
    "duration": 12,
    "start_time": "2022-09-22T11:32:50.525Z"
   },
   {
    "duration": 21,
    "start_time": "2022-09-22T11:32:50.540Z"
   },
   {
    "duration": 9,
    "start_time": "2022-09-22T11:32:50.563Z"
   },
   {
    "duration": 11,
    "start_time": "2022-09-22T11:32:50.574Z"
   },
   {
    "duration": 8,
    "start_time": "2022-09-22T11:32:50.589Z"
   },
   {
    "duration": 15,
    "start_time": "2022-09-22T11:32:50.599Z"
   },
   {
    "duration": 17,
    "start_time": "2022-09-22T11:32:52.683Z"
   },
   {
    "duration": 3,
    "start_time": "2022-09-22T11:33:46.800Z"
   },
   {
    "duration": 544,
    "start_time": "2022-09-22T11:33:48.600Z"
   },
   {
    "duration": 4,
    "start_time": "2022-09-22T11:34:17.338Z"
   },
   {
    "duration": 25,
    "start_time": "2022-09-22T11:34:17.591Z"
   },
   {
    "duration": 26,
    "start_time": "2022-09-22T11:36:23.721Z"
   },
   {
    "duration": 19,
    "start_time": "2022-09-22T11:36:36.913Z"
   },
   {
    "duration": 3,
    "start_time": "2022-09-22T11:37:33.777Z"
   },
   {
    "duration": 25,
    "start_time": "2022-09-22T11:37:35.320Z"
   },
   {
    "duration": 66,
    "start_time": "2022-09-22T11:37:51.672Z"
   },
   {
    "duration": 2,
    "start_time": "2022-09-22T11:38:30.277Z"
   },
   {
    "duration": 476,
    "start_time": "2022-09-22T11:38:34.173Z"
   },
   {
    "duration": 2,
    "start_time": "2022-09-22T11:40:02.372Z"
   },
   {
    "duration": 15,
    "start_time": "2022-09-22T11:40:03.436Z"
   },
   {
    "duration": 3,
    "start_time": "2022-09-22T11:40:39.729Z"
   },
   {
    "duration": 15,
    "start_time": "2022-09-22T11:40:40.712Z"
   },
   {
    "duration": 7,
    "start_time": "2022-09-22T11:43:13.783Z"
   },
   {
    "duration": 12,
    "start_time": "2022-09-22T11:43:14.267Z"
   },
   {
    "duration": 66,
    "start_time": "2022-09-22T11:54:11.799Z"
   },
   {
    "duration": 62,
    "start_time": "2022-09-22T11:54:19.291Z"
   },
   {
    "duration": 15,
    "start_time": "2022-09-22T11:54:38.991Z"
   },
   {
    "duration": 2,
    "start_time": "2022-09-22T11:54:43.487Z"
   },
   {
    "duration": 74,
    "start_time": "2022-09-22T11:54:43.491Z"
   },
   {
    "duration": 16,
    "start_time": "2022-09-22T11:54:43.567Z"
   },
   {
    "duration": 60,
    "start_time": "2022-09-22T11:54:43.585Z"
   },
   {
    "duration": 19,
    "start_time": "2022-09-22T11:54:43.647Z"
   },
   {
    "duration": 15,
    "start_time": "2022-09-22T11:54:43.669Z"
   },
   {
    "duration": 3,
    "start_time": "2022-09-22T11:54:43.686Z"
   },
   {
    "duration": 36,
    "start_time": "2022-09-22T11:54:43.691Z"
   },
   {
    "duration": 12,
    "start_time": "2022-09-22T11:54:43.729Z"
   },
   {
    "duration": 12,
    "start_time": "2022-09-22T11:54:43.743Z"
   },
   {
    "duration": 16,
    "start_time": "2022-09-22T11:54:43.759Z"
   },
   {
    "duration": 9,
    "start_time": "2022-09-22T11:54:43.776Z"
   },
   {
    "duration": 20,
    "start_time": "2022-09-22T11:54:43.787Z"
   },
   {
    "duration": 15,
    "start_time": "2022-09-22T11:54:43.810Z"
   },
   {
    "duration": 89,
    "start_time": "2022-09-22T11:54:43.827Z"
   },
   {
    "duration": 9,
    "start_time": "2022-09-22T11:54:43.918Z"
   },
   {
    "duration": 9,
    "start_time": "2022-09-22T11:54:43.929Z"
   },
   {
    "duration": 20,
    "start_time": "2022-09-22T11:54:43.940Z"
   },
   {
    "duration": 22,
    "start_time": "2022-09-22T11:54:43.962Z"
   },
   {
    "duration": 35,
    "start_time": "2022-09-22T11:54:43.986Z"
   },
   {
    "duration": 4,
    "start_time": "2022-09-22T11:54:44.023Z"
   },
   {
    "duration": 16,
    "start_time": "2022-09-22T11:54:44.029Z"
   },
   {
    "duration": 14,
    "start_time": "2022-09-22T11:54:44.047Z"
   },
   {
    "duration": 16,
    "start_time": "2022-09-22T11:54:44.063Z"
   },
   {
    "duration": 14,
    "start_time": "2022-09-22T11:54:44.081Z"
   },
   {
    "duration": 11,
    "start_time": "2022-09-22T11:54:44.097Z"
   },
   {
    "duration": 6,
    "start_time": "2022-09-22T11:54:44.120Z"
   },
   {
    "duration": 14,
    "start_time": "2022-09-22T11:54:44.128Z"
   },
   {
    "duration": 16,
    "start_time": "2022-09-22T11:54:44.146Z"
   },
   {
    "duration": 8,
    "start_time": "2022-09-22T11:54:44.165Z"
   },
   {
    "duration": 11,
    "start_time": "2022-09-22T11:54:46.622Z"
   },
   {
    "duration": 4,
    "start_time": "2022-09-22T12:09:09.628Z"
   },
   {
    "duration": 76,
    "start_time": "2022-09-22T12:09:10.828Z"
   },
   {
    "duration": 98,
    "start_time": "2022-09-22T12:09:16.421Z"
   },
   {
    "duration": 1395,
    "start_time": "2022-09-22T12:09:31.651Z"
   },
   {
    "duration": 4,
    "start_time": "2022-09-22T12:09:54.085Z"
   },
   {
    "duration": 18,
    "start_time": "2022-09-22T12:09:54.900Z"
   },
   {
    "duration": 11,
    "start_time": "2022-09-22T12:11:17.147Z"
   },
   {
    "duration": 11,
    "start_time": "2022-09-22T12:11:28.177Z"
   },
   {
    "duration": 4,
    "start_time": "2022-09-22T12:11:32.367Z"
   },
   {
    "duration": 17,
    "start_time": "2022-09-22T12:11:32.962Z"
   },
   {
    "duration": 19,
    "start_time": "2022-09-22T12:13:07.836Z"
   },
   {
    "duration": 3,
    "start_time": "2022-09-22T12:13:58.453Z"
   },
   {
    "duration": 19,
    "start_time": "2022-09-22T12:13:59.349Z"
   },
   {
    "duration": 45,
    "start_time": "2022-09-22T12:14:42.529Z"
   },
   {
    "duration": 3,
    "start_time": "2022-09-22T12:14:47.280Z"
   },
   {
    "duration": 14,
    "start_time": "2022-09-22T12:14:48.065Z"
   },
   {
    "duration": 3,
    "start_time": "2022-09-22T12:16:04.855Z"
   },
   {
    "duration": 14,
    "start_time": "2022-09-22T12:16:05.205Z"
   },
   {
    "duration": 4,
    "start_time": "2022-09-22T12:19:06.083Z"
   },
   {
    "duration": 17,
    "start_time": "2022-09-22T12:19:06.639Z"
   },
   {
    "duration": 69,
    "start_time": "2022-09-22T12:21:17.425Z"
   },
   {
    "duration": 57,
    "start_time": "2022-09-22T12:21:32.089Z"
   },
   {
    "duration": 50,
    "start_time": "2022-09-22T12:21:39.661Z"
   },
   {
    "duration": 56,
    "start_time": "2022-09-22T12:21:55.660Z"
   },
   {
    "duration": 95,
    "start_time": "2022-09-22T12:26:14.511Z"
   },
   {
    "duration": 18,
    "start_time": "2022-09-22T12:26:15.049Z"
   },
   {
    "duration": 2,
    "start_time": "2022-09-22T12:26:33.384Z"
   },
   {
    "duration": 18,
    "start_time": "2022-09-22T12:26:34.028Z"
   },
   {
    "duration": 4,
    "start_time": "2022-09-22T12:32:09.033Z"
   },
   {
    "duration": 127,
    "start_time": "2022-09-22T12:32:09.039Z"
   },
   {
    "duration": 22,
    "start_time": "2022-09-22T12:32:09.169Z"
   },
   {
    "duration": 51,
    "start_time": "2022-09-22T12:32:09.194Z"
   },
   {
    "duration": 21,
    "start_time": "2022-09-22T12:32:09.248Z"
   },
   {
    "duration": 14,
    "start_time": "2022-09-22T12:32:09.271Z"
   },
   {
    "duration": 3,
    "start_time": "2022-09-22T12:32:09.287Z"
   },
   {
    "duration": 35,
    "start_time": "2022-09-22T12:32:09.292Z"
   },
   {
    "duration": 16,
    "start_time": "2022-09-22T12:32:09.329Z"
   },
   {
    "duration": 13,
    "start_time": "2022-09-22T12:32:09.347Z"
   },
   {
    "duration": 18,
    "start_time": "2022-09-22T12:32:09.364Z"
   },
   {
    "duration": 16,
    "start_time": "2022-09-22T12:32:09.384Z"
   },
   {
    "duration": 19,
    "start_time": "2022-09-22T12:32:09.401Z"
   },
   {
    "duration": 12,
    "start_time": "2022-09-22T12:32:09.422Z"
   },
   {
    "duration": 50,
    "start_time": "2022-09-22T12:32:09.436Z"
   },
   {
    "duration": 11,
    "start_time": "2022-09-22T12:32:09.488Z"
   },
   {
    "duration": 22,
    "start_time": "2022-09-22T12:32:09.501Z"
   },
   {
    "duration": 29,
    "start_time": "2022-09-22T12:32:09.525Z"
   },
   {
    "duration": 32,
    "start_time": "2022-09-22T12:32:09.556Z"
   },
   {
    "duration": 21,
    "start_time": "2022-09-22T12:32:09.590Z"
   },
   {
    "duration": 8,
    "start_time": "2022-09-22T12:32:09.613Z"
   },
   {
    "duration": 21,
    "start_time": "2022-09-22T12:32:09.623Z"
   },
   {
    "duration": 24,
    "start_time": "2022-09-22T12:32:09.646Z"
   },
   {
    "duration": 7,
    "start_time": "2022-09-22T12:32:09.672Z"
   },
   {
    "duration": 16,
    "start_time": "2022-09-22T12:32:09.681Z"
   },
   {
    "duration": 12,
    "start_time": "2022-09-22T12:32:09.698Z"
   },
   {
    "duration": 12,
    "start_time": "2022-09-22T12:32:09.712Z"
   },
   {
    "duration": 12,
    "start_time": "2022-09-22T12:32:09.726Z"
   },
   {
    "duration": 27,
    "start_time": "2022-09-22T12:32:09.741Z"
   },
   {
    "duration": 19,
    "start_time": "2022-09-22T12:32:12.526Z"
   },
   {
    "duration": 9,
    "start_time": "2022-09-22T13:06:20.292Z"
   },
   {
    "duration": 4,
    "start_time": "2022-09-22T13:06:34.574Z"
   },
   {
    "duration": 72,
    "start_time": "2022-09-22T13:06:34.580Z"
   },
   {
    "duration": 17,
    "start_time": "2022-09-22T13:06:34.654Z"
   },
   {
    "duration": 64,
    "start_time": "2022-09-22T13:06:34.674Z"
   },
   {
    "duration": 21,
    "start_time": "2022-09-22T13:06:34.740Z"
   },
   {
    "duration": 15,
    "start_time": "2022-09-22T13:06:34.763Z"
   },
   {
    "duration": 3,
    "start_time": "2022-09-22T13:06:34.780Z"
   },
   {
    "duration": 36,
    "start_time": "2022-09-22T13:06:34.785Z"
   },
   {
    "duration": 13,
    "start_time": "2022-09-22T13:06:34.825Z"
   },
   {
    "duration": 4,
    "start_time": "2022-09-22T13:06:34.840Z"
   },
   {
    "duration": 18,
    "start_time": "2022-09-22T13:06:34.845Z"
   },
   {
    "duration": 5,
    "start_time": "2022-09-22T13:06:34.864Z"
   },
   {
    "duration": 9,
    "start_time": "2022-09-22T13:06:34.871Z"
   },
   {
    "duration": 41,
    "start_time": "2022-09-22T13:06:34.881Z"
   },
   {
    "duration": 36,
    "start_time": "2022-09-22T13:06:34.923Z"
   },
   {
    "duration": 11,
    "start_time": "2022-09-22T13:06:34.960Z"
   },
   {
    "duration": 10,
    "start_time": "2022-09-22T13:06:34.973Z"
   },
   {
    "duration": 18,
    "start_time": "2022-09-22T13:06:34.985Z"
   },
   {
    "duration": 21,
    "start_time": "2022-09-22T13:06:35.021Z"
   },
   {
    "duration": 20,
    "start_time": "2022-09-22T13:06:35.044Z"
   },
   {
    "duration": 6,
    "start_time": "2022-09-22T13:06:35.066Z"
   },
   {
    "duration": 22,
    "start_time": "2022-09-22T13:06:35.074Z"
   },
   {
    "duration": 8,
    "start_time": "2022-09-22T13:06:35.120Z"
   },
   {
    "duration": 6,
    "start_time": "2022-09-22T13:06:35.132Z"
   },
   {
    "duration": 15,
    "start_time": "2022-09-22T13:06:35.140Z"
   },
   {
    "duration": 13,
    "start_time": "2022-09-22T13:06:35.157Z"
   },
   {
    "duration": 13,
    "start_time": "2022-09-22T13:06:35.171Z"
   },
   {
    "duration": 17,
    "start_time": "2022-09-22T13:06:35.187Z"
   },
   {
    "duration": 32,
    "start_time": "2022-09-22T13:06:35.206Z"
   },
   {
    "duration": 17,
    "start_time": "2022-09-22T13:06:35.240Z"
   },
   {
    "duration": 8,
    "start_time": "2022-09-22T13:06:36.900Z"
   },
   {
    "duration": 3,
    "start_time": "2022-09-22T13:07:08.952Z"
   },
   {
    "duration": 116,
    "start_time": "2022-09-22T13:07:08.957Z"
   },
   {
    "duration": 29,
    "start_time": "2022-09-22T13:07:09.076Z"
   },
   {
    "duration": 50,
    "start_time": "2022-09-22T13:07:09.122Z"
   },
   {
    "duration": 19,
    "start_time": "2022-09-22T13:07:09.175Z"
   },
   {
    "duration": 33,
    "start_time": "2022-09-22T13:07:09.197Z"
   },
   {
    "duration": 6,
    "start_time": "2022-09-22T13:07:09.232Z"
   },
   {
    "duration": 11,
    "start_time": "2022-09-22T13:07:09.240Z"
   },
   {
    "duration": 13,
    "start_time": "2022-09-22T13:07:09.253Z"
   },
   {
    "duration": 5,
    "start_time": "2022-09-22T13:07:09.268Z"
   },
   {
    "duration": 18,
    "start_time": "2022-09-22T13:07:09.276Z"
   },
   {
    "duration": 11,
    "start_time": "2022-09-22T13:07:09.321Z"
   },
   {
    "duration": 9,
    "start_time": "2022-09-22T13:07:09.334Z"
   },
   {
    "duration": 8,
    "start_time": "2022-09-22T13:07:09.345Z"
   },
   {
    "duration": 37,
    "start_time": "2022-09-22T13:07:09.354Z"
   },
   {
    "duration": 34,
    "start_time": "2022-09-22T13:07:09.393Z"
   },
   {
    "duration": 6,
    "start_time": "2022-09-22T13:07:09.429Z"
   },
   {
    "duration": 19,
    "start_time": "2022-09-22T13:07:09.437Z"
   },
   {
    "duration": 28,
    "start_time": "2022-09-22T13:07:09.458Z"
   },
   {
    "duration": 54,
    "start_time": "2022-09-22T13:07:09.488Z"
   },
   {
    "duration": 5,
    "start_time": "2022-09-22T13:07:09.544Z"
   },
   {
    "duration": 13,
    "start_time": "2022-09-22T13:07:09.551Z"
   },
   {
    "duration": 8,
    "start_time": "2022-09-22T13:07:09.565Z"
   },
   {
    "duration": 4,
    "start_time": "2022-09-22T13:07:09.575Z"
   },
   {
    "duration": 41,
    "start_time": "2022-09-22T13:07:09.580Z"
   },
   {
    "duration": 7,
    "start_time": "2022-09-22T13:07:09.623Z"
   },
   {
    "duration": 9,
    "start_time": "2022-09-22T13:07:09.632Z"
   },
   {
    "duration": 6,
    "start_time": "2022-09-22T13:07:09.643Z"
   },
   {
    "duration": 15,
    "start_time": "2022-09-22T13:07:09.653Z"
   },
   {
    "duration": 20,
    "start_time": "2022-09-22T13:07:09.670Z"
   },
   {
    "duration": 11,
    "start_time": "2022-09-22T13:07:09.721Z"
   },
   {
    "duration": 7,
    "start_time": "2022-09-22T13:07:09.735Z"
   },
   {
    "duration": 13,
    "start_time": "2022-09-22T13:07:09.743Z"
   },
   {
    "duration": 10,
    "start_time": "2022-09-22T13:07:09.757Z"
   },
   {
    "duration": 10,
    "start_time": "2022-09-22T13:07:09.768Z"
   },
   {
    "duration": 9,
    "start_time": "2022-09-22T13:08:04.270Z"
   },
   {
    "duration": 9,
    "start_time": "2022-09-22T13:08:05.622Z"
   },
   {
    "duration": 5,
    "start_time": "2022-09-22T13:09:18.675Z"
   },
   {
    "duration": 12,
    "start_time": "2022-09-22T13:09:41.159Z"
   },
   {
    "duration": 29,
    "start_time": "2022-09-22T13:09:54.975Z"
   },
   {
    "duration": 4,
    "start_time": "2022-09-22T13:10:03.128Z"
   },
   {
    "duration": 86,
    "start_time": "2022-09-22T13:10:03.135Z"
   },
   {
    "duration": 17,
    "start_time": "2022-09-22T13:10:03.223Z"
   },
   {
    "duration": 47,
    "start_time": "2022-09-22T13:10:03.243Z"
   },
   {
    "duration": 37,
    "start_time": "2022-09-22T13:10:03.292Z"
   },
   {
    "duration": 11,
    "start_time": "2022-09-22T13:10:03.331Z"
   },
   {
    "duration": 5,
    "start_time": "2022-09-22T13:10:03.344Z"
   },
   {
    "duration": 12,
    "start_time": "2022-09-22T13:10:03.350Z"
   },
   {
    "duration": 14,
    "start_time": "2022-09-22T13:10:03.365Z"
   },
   {
    "duration": 40,
    "start_time": "2022-09-22T13:10:03.381Z"
   },
   {
    "duration": 10,
    "start_time": "2022-09-22T13:10:03.423Z"
   },
   {
    "duration": 6,
    "start_time": "2022-09-22T13:10:03.435Z"
   },
   {
    "duration": 13,
    "start_time": "2022-09-22T13:10:03.443Z"
   },
   {
    "duration": 7,
    "start_time": "2022-09-22T13:10:03.458Z"
   },
   {
    "duration": 65,
    "start_time": "2022-09-22T13:10:03.467Z"
   },
   {
    "duration": 12,
    "start_time": "2022-09-22T13:10:03.534Z"
   },
   {
    "duration": 20,
    "start_time": "2022-09-22T13:10:03.548Z"
   },
   {
    "duration": 24,
    "start_time": "2022-09-22T13:10:03.571Z"
   },
   {
    "duration": 33,
    "start_time": "2022-09-22T13:10:03.597Z"
   },
   {
    "duration": 29,
    "start_time": "2022-09-22T13:10:05.932Z"
   },
   {
    "duration": 10,
    "start_time": "2022-09-22T13:10:16.332Z"
   },
   {
    "duration": 3,
    "start_time": "2022-09-22T13:10:21.710Z"
   },
   {
    "duration": 90,
    "start_time": "2022-09-22T13:10:21.716Z"
   },
   {
    "duration": 18,
    "start_time": "2022-09-22T13:10:21.808Z"
   },
   {
    "duration": 40,
    "start_time": "2022-09-22T13:10:21.828Z"
   },
   {
    "duration": 20,
    "start_time": "2022-09-22T13:10:21.871Z"
   },
   {
    "duration": 42,
    "start_time": "2022-09-22T13:10:21.893Z"
   },
   {
    "duration": 4,
    "start_time": "2022-09-22T13:10:21.937Z"
   },
   {
    "duration": 12,
    "start_time": "2022-09-22T13:10:21.943Z"
   },
   {
    "duration": 15,
    "start_time": "2022-09-22T13:10:21.957Z"
   },
   {
    "duration": 6,
    "start_time": "2022-09-22T13:10:21.974Z"
   },
   {
    "duration": 12,
    "start_time": "2022-09-22T13:10:21.982Z"
   },
   {
    "duration": 26,
    "start_time": "2022-09-22T13:10:21.996Z"
   },
   {
    "duration": 10,
    "start_time": "2022-09-22T13:10:22.025Z"
   },
   {
    "duration": 16,
    "start_time": "2022-09-22T13:10:22.037Z"
   },
   {
    "duration": 40,
    "start_time": "2022-09-22T13:10:22.055Z"
   },
   {
    "duration": 27,
    "start_time": "2022-09-22T13:10:22.096Z"
   },
   {
    "duration": 5,
    "start_time": "2022-09-22T13:10:22.126Z"
   },
   {
    "duration": 22,
    "start_time": "2022-09-22T13:10:22.133Z"
   },
   {
    "duration": 28,
    "start_time": "2022-09-22T13:10:22.158Z"
   },
   {
    "duration": 9,
    "start_time": "2022-09-22T13:10:25.686Z"
   },
   {
    "duration": 3,
    "start_time": "2022-09-22T13:10:37.829Z"
   },
   {
    "duration": 20,
    "start_time": "2022-09-22T13:10:41.230Z"
   },
   {
    "duration": 3,
    "start_time": "2022-09-22T13:10:51.427Z"
   },
   {
    "duration": 80,
    "start_time": "2022-09-22T13:10:51.436Z"
   },
   {
    "duration": 16,
    "start_time": "2022-09-22T13:10:51.519Z"
   },
   {
    "duration": 53,
    "start_time": "2022-09-22T13:10:51.538Z"
   },
   {
    "duration": 39,
    "start_time": "2022-09-22T13:10:51.593Z"
   },
   {
    "duration": 15,
    "start_time": "2022-09-22T13:10:51.635Z"
   },
   {
    "duration": 3,
    "start_time": "2022-09-22T13:10:51.653Z"
   },
   {
    "duration": 12,
    "start_time": "2022-09-22T13:10:51.658Z"
   },
   {
    "duration": 15,
    "start_time": "2022-09-22T13:10:51.673Z"
   },
   {
    "duration": 32,
    "start_time": "2022-09-22T13:10:51.691Z"
   },
   {
    "duration": 19,
    "start_time": "2022-09-22T13:10:51.725Z"
   },
   {
    "duration": 6,
    "start_time": "2022-09-22T13:10:51.747Z"
   },
   {
    "duration": 12,
    "start_time": "2022-09-22T13:10:51.755Z"
   },
   {
    "duration": 7,
    "start_time": "2022-09-22T13:10:51.768Z"
   },
   {
    "duration": 61,
    "start_time": "2022-09-22T13:10:51.778Z"
   },
   {
    "duration": 11,
    "start_time": "2022-09-22T13:10:51.841Z"
   },
   {
    "duration": 4,
    "start_time": "2022-09-22T13:10:51.854Z"
   },
   {
    "duration": 10,
    "start_time": "2022-09-22T13:10:54.235Z"
   },
   {
    "duration": 14,
    "start_time": "2022-09-22T13:12:13.895Z"
   },
   {
    "duration": 16,
    "start_time": "2022-09-22T13:15:45.751Z"
   },
   {
    "duration": 11,
    "start_time": "2022-09-22T13:36:23.633Z"
   },
   {
    "duration": 10,
    "start_time": "2022-09-22T13:36:25.746Z"
   },
   {
    "duration": 2,
    "start_time": "2022-09-22T13:37:01.270Z"
   },
   {
    "duration": 105,
    "start_time": "2022-09-22T13:37:01.274Z"
   },
   {
    "duration": 16,
    "start_time": "2022-09-22T13:37:01.381Z"
   },
   {
    "duration": 54,
    "start_time": "2022-09-22T13:37:01.399Z"
   },
   {
    "duration": 16,
    "start_time": "2022-09-22T13:37:01.456Z"
   },
   {
    "duration": 22,
    "start_time": "2022-09-22T13:37:01.474Z"
   },
   {
    "duration": 26,
    "start_time": "2022-09-22T13:37:01.498Z"
   },
   {
    "duration": 35,
    "start_time": "2022-09-22T13:37:01.526Z"
   },
   {
    "duration": 12,
    "start_time": "2022-09-22T13:37:01.563Z"
   },
   {
    "duration": 9,
    "start_time": "2022-09-22T13:37:01.576Z"
   },
   {
    "duration": 13,
    "start_time": "2022-09-22T13:37:01.588Z"
   },
   {
    "duration": 14,
    "start_time": "2022-09-22T13:37:01.603Z"
   },
   {
    "duration": 10,
    "start_time": "2022-09-22T13:37:01.619Z"
   },
   {
    "duration": 17,
    "start_time": "2022-09-22T13:37:01.631Z"
   },
   {
    "duration": 47,
    "start_time": "2022-09-22T13:37:01.650Z"
   },
   {
    "duration": 10,
    "start_time": "2022-09-22T13:37:01.699Z"
   },
   {
    "duration": 31,
    "start_time": "2022-09-22T13:37:01.712Z"
   },
   {
    "duration": 0,
    "start_time": "2022-09-22T13:37:01.745Z"
   },
   {
    "duration": 0,
    "start_time": "2022-09-22T13:37:01.746Z"
   },
   {
    "duration": 0,
    "start_time": "2022-09-22T13:37:01.748Z"
   },
   {
    "duration": 0,
    "start_time": "2022-09-22T13:37:01.752Z"
   },
   {
    "duration": 0,
    "start_time": "2022-09-22T13:37:01.754Z"
   },
   {
    "duration": 0,
    "start_time": "2022-09-22T13:37:01.755Z"
   },
   {
    "duration": 0,
    "start_time": "2022-09-22T13:37:01.756Z"
   },
   {
    "duration": 0,
    "start_time": "2022-09-22T13:37:01.757Z"
   },
   {
    "duration": 0,
    "start_time": "2022-09-22T13:37:01.758Z"
   },
   {
    "duration": 0,
    "start_time": "2022-09-22T13:37:01.759Z"
   },
   {
    "duration": 0,
    "start_time": "2022-09-22T13:37:01.760Z"
   },
   {
    "duration": 0,
    "start_time": "2022-09-22T13:37:01.761Z"
   },
   {
    "duration": 0,
    "start_time": "2022-09-22T13:37:01.762Z"
   },
   {
    "duration": 0,
    "start_time": "2022-09-22T13:37:01.763Z"
   },
   {
    "duration": 11,
    "start_time": "2022-09-22T13:37:04.501Z"
   },
   {
    "duration": 9,
    "start_time": "2022-09-22T13:37:12.895Z"
   },
   {
    "duration": 9,
    "start_time": "2022-09-22T13:38:54.244Z"
   },
   {
    "duration": 10,
    "start_time": "2022-09-22T13:38:54.880Z"
   },
   {
    "duration": 8,
    "start_time": "2022-09-22T13:42:12.139Z"
   },
   {
    "duration": 14,
    "start_time": "2022-09-22T13:42:13.637Z"
   },
   {
    "duration": 3,
    "start_time": "2022-09-22T13:42:42.642Z"
   },
   {
    "duration": 76,
    "start_time": "2022-09-22T13:42:42.648Z"
   },
   {
    "duration": 19,
    "start_time": "2022-09-22T13:42:42.726Z"
   },
   {
    "duration": 38,
    "start_time": "2022-09-22T13:42:42.747Z"
   },
   {
    "duration": 14,
    "start_time": "2022-09-22T13:42:42.787Z"
   },
   {
    "duration": 35,
    "start_time": "2022-09-22T13:42:42.803Z"
   },
   {
    "duration": 3,
    "start_time": "2022-09-22T13:42:42.840Z"
   },
   {
    "duration": 12,
    "start_time": "2022-09-22T13:42:42.845Z"
   },
   {
    "duration": 5,
    "start_time": "2022-09-22T13:42:44.896Z"
   },
   {
    "duration": 11,
    "start_time": "2022-09-22T13:42:45.381Z"
   },
   {
    "duration": 2,
    "start_time": "2022-09-22T13:42:53.936Z"
   },
   {
    "duration": 87,
    "start_time": "2022-09-22T13:42:53.941Z"
   },
   {
    "duration": 23,
    "start_time": "2022-09-22T13:42:54.031Z"
   },
   {
    "duration": 51,
    "start_time": "2022-09-22T13:42:54.055Z"
   },
   {
    "duration": 32,
    "start_time": "2022-09-22T13:42:54.108Z"
   },
   {
    "duration": 14,
    "start_time": "2022-09-22T13:42:54.142Z"
   },
   {
    "duration": 6,
    "start_time": "2022-09-22T13:42:54.158Z"
   },
   {
    "duration": 10,
    "start_time": "2022-09-22T13:42:54.166Z"
   },
   {
    "duration": 11,
    "start_time": "2022-09-22T13:42:54.179Z"
   },
   {
    "duration": 28,
    "start_time": "2022-09-22T13:42:54.192Z"
   },
   {
    "duration": 9,
    "start_time": "2022-09-22T13:42:54.224Z"
   },
   {
    "duration": 21,
    "start_time": "2022-09-22T13:42:54.235Z"
   },
   {
    "duration": 13,
    "start_time": "2022-09-22T13:42:54.258Z"
   },
   {
    "duration": 6,
    "start_time": "2022-09-22T13:42:54.273Z"
   },
   {
    "duration": 55,
    "start_time": "2022-09-22T13:42:54.281Z"
   },
   {
    "duration": 10,
    "start_time": "2022-09-22T13:42:54.338Z"
   },
   {
    "duration": 6,
    "start_time": "2022-09-22T13:42:54.350Z"
   },
   {
    "duration": 14,
    "start_time": "2022-09-22T13:42:54.357Z"
   },
   {
    "duration": 23,
    "start_time": "2022-09-22T13:42:54.373Z"
   },
   {
    "duration": 39,
    "start_time": "2022-09-22T13:42:54.398Z"
   },
   {
    "duration": 4,
    "start_time": "2022-09-22T13:42:54.439Z"
   },
   {
    "duration": 21,
    "start_time": "2022-09-22T13:42:54.445Z"
   },
   {
    "duration": 12,
    "start_time": "2022-09-22T13:42:54.468Z"
   },
   {
    "duration": 4,
    "start_time": "2022-09-22T13:42:54.482Z"
   },
   {
    "duration": 13,
    "start_time": "2022-09-22T13:42:54.488Z"
   },
   {
    "duration": 25,
    "start_time": "2022-09-22T13:42:54.503Z"
   },
   {
    "duration": 7,
    "start_time": "2022-09-22T13:42:54.530Z"
   },
   {
    "duration": 12,
    "start_time": "2022-09-22T13:42:54.539Z"
   },
   {
    "duration": 17,
    "start_time": "2022-09-22T13:42:54.555Z"
   },
   {
    "duration": 13,
    "start_time": "2022-09-22T13:42:54.574Z"
   },
   {
    "duration": 5,
    "start_time": "2022-09-22T13:42:54.589Z"
   },
   {
    "duration": 10,
    "start_time": "2022-09-22T13:42:54.621Z"
   },
   {
    "duration": 5,
    "start_time": "2022-09-22T13:42:54.633Z"
   },
   {
    "duration": 19,
    "start_time": "2022-09-22T13:42:54.640Z"
   },
   {
    "duration": 11,
    "start_time": "2022-09-22T13:42:54.660Z"
   },
   {
    "duration": 9,
    "start_time": "2022-09-22T13:42:54.673Z"
   },
   {
    "duration": 21,
    "start_time": "2022-09-22T13:42:54.683Z"
   },
   {
    "duration": 24,
    "start_time": "2022-09-22T13:42:54.705Z"
   },
   {
    "duration": 9,
    "start_time": "2022-09-22T13:42:54.731Z"
   },
   {
    "duration": 7,
    "start_time": "2022-09-22T13:43:50.127Z"
   },
   {
    "duration": 3,
    "start_time": "2022-09-22T13:43:58.641Z"
   },
   {
    "duration": 77,
    "start_time": "2022-09-22T13:43:58.646Z"
   },
   {
    "duration": 16,
    "start_time": "2022-09-22T13:43:58.724Z"
   },
   {
    "duration": 46,
    "start_time": "2022-09-22T13:43:58.742Z"
   },
   {
    "duration": 15,
    "start_time": "2022-09-22T13:43:58.789Z"
   },
   {
    "duration": 24,
    "start_time": "2022-09-22T13:43:58.805Z"
   },
   {
    "duration": 6,
    "start_time": "2022-09-22T13:43:58.831Z"
   },
   {
    "duration": 11,
    "start_time": "2022-09-22T13:43:58.838Z"
   },
   {
    "duration": 23,
    "start_time": "2022-09-22T13:43:58.851Z"
   },
   {
    "duration": 6,
    "start_time": "2022-09-22T13:43:58.876Z"
   },
   {
    "duration": 33,
    "start_time": "2022-09-22T13:43:58.887Z"
   },
   {
    "duration": 5,
    "start_time": "2022-09-22T13:43:58.923Z"
   },
   {
    "duration": 50,
    "start_time": "2022-09-22T13:43:58.930Z"
   },
   {
    "duration": 7,
    "start_time": "2022-09-22T13:43:58.982Z"
   },
   {
    "duration": 54,
    "start_time": "2022-09-22T13:43:58.991Z"
   },
   {
    "duration": 15,
    "start_time": "2022-09-22T13:43:59.047Z"
   },
   {
    "duration": 15,
    "start_time": "2022-09-22T13:43:59.064Z"
   },
   {
    "duration": 23,
    "start_time": "2022-09-22T13:43:59.081Z"
   },
   {
    "duration": 31,
    "start_time": "2022-09-22T13:43:59.106Z"
   },
   {
    "duration": 30,
    "start_time": "2022-09-22T13:43:59.139Z"
   },
   {
    "duration": 5,
    "start_time": "2022-09-22T13:43:59.171Z"
   },
   {
    "duration": 23,
    "start_time": "2022-09-22T13:43:59.178Z"
   },
   {
    "duration": 20,
    "start_time": "2022-09-22T13:43:59.202Z"
   },
   {
    "duration": 10,
    "start_time": "2022-09-22T13:43:59.224Z"
   },
   {
    "duration": 24,
    "start_time": "2022-09-22T13:43:59.236Z"
   },
   {
    "duration": 5,
    "start_time": "2022-09-22T13:43:59.263Z"
   },
   {
    "duration": 14,
    "start_time": "2022-09-22T13:43:59.269Z"
   },
   {
    "duration": 4,
    "start_time": "2022-09-22T13:43:59.285Z"
   },
   {
    "duration": 29,
    "start_time": "2022-09-22T13:43:59.293Z"
   },
   {
    "duration": 19,
    "start_time": "2022-09-22T13:43:59.324Z"
   },
   {
    "duration": 6,
    "start_time": "2022-09-22T13:44:01.255Z"
   },
   {
    "duration": 11,
    "start_time": "2022-09-22T13:45:25.794Z"
   },
   {
    "duration": 18,
    "start_time": "2022-09-22T13:46:23.335Z"
   },
   {
    "duration": 9,
    "start_time": "2022-09-22T13:46:52.460Z"
   },
   {
    "duration": 5,
    "start_time": "2022-09-22T13:46:56.148Z"
   },
   {
    "duration": 12,
    "start_time": "2022-09-22T13:47:48.245Z"
   },
   {
    "duration": 37,
    "start_time": "2022-09-22T13:49:06.497Z"
   },
   {
    "duration": 7,
    "start_time": "2022-09-22T13:50:32.899Z"
   },
   {
    "duration": 13,
    "start_time": "2022-09-22T13:50:36.278Z"
   },
   {
    "duration": 7,
    "start_time": "2022-09-22T13:51:30.877Z"
   },
   {
    "duration": 11,
    "start_time": "2022-09-22T13:53:58.967Z"
   },
   {
    "duration": 7,
    "start_time": "2022-09-22T13:54:04.727Z"
   },
   {
    "duration": 15,
    "start_time": "2022-09-22T13:54:06.513Z"
   },
   {
    "duration": 3,
    "start_time": "2022-09-22T13:54:21.202Z"
   },
   {
    "duration": 91,
    "start_time": "2022-09-22T13:54:21.207Z"
   },
   {
    "duration": 17,
    "start_time": "2022-09-22T13:54:21.300Z"
   },
   {
    "duration": 47,
    "start_time": "2022-09-22T13:54:21.319Z"
   },
   {
    "duration": 13,
    "start_time": "2022-09-22T13:54:21.368Z"
   },
   {
    "duration": 9,
    "start_time": "2022-09-22T13:54:21.383Z"
   },
   {
    "duration": 4,
    "start_time": "2022-09-22T13:54:21.394Z"
   },
   {
    "duration": 25,
    "start_time": "2022-09-22T13:54:21.399Z"
   },
   {
    "duration": 9,
    "start_time": "2022-09-22T13:54:23.571Z"
   },
   {
    "duration": 4,
    "start_time": "2022-09-22T13:54:30.146Z"
   },
   {
    "duration": 11,
    "start_time": "2022-09-22T13:54:32.556Z"
   },
   {
    "duration": 5,
    "start_time": "2022-09-22T13:54:34.541Z"
   },
   {
    "duration": 7,
    "start_time": "2022-09-22T13:54:35.535Z"
   },
   {
    "duration": 4,
    "start_time": "2022-09-22T13:54:36.615Z"
   },
   {
    "duration": 3,
    "start_time": "2022-09-22T13:54:37.923Z"
   },
   {
    "duration": 8,
    "start_time": "2022-09-22T13:54:38.966Z"
   },
   {
    "duration": 11,
    "start_time": "2022-09-22T13:54:41.926Z"
   },
   {
    "duration": 5,
    "start_time": "2022-09-22T13:54:44.736Z"
   },
   {
    "duration": 18,
    "start_time": "2022-09-22T13:54:47.919Z"
   },
   {
    "duration": 18,
    "start_time": "2022-09-22T13:54:49.323Z"
   },
   {
    "duration": 26,
    "start_time": "2022-09-22T13:54:50.335Z"
   },
   {
    "duration": 4,
    "start_time": "2022-09-22T13:54:58.584Z"
   },
   {
    "duration": 10,
    "start_time": "2022-09-22T13:55:00.547Z"
   },
   {
    "duration": 6,
    "start_time": "2022-09-22T13:55:12.050Z"
   },
   {
    "duration": 4,
    "start_time": "2022-09-22T13:55:12.994Z"
   },
   {
    "duration": 8,
    "start_time": "2022-09-22T13:55:13.475Z"
   },
   {
    "duration": 4,
    "start_time": "2022-09-22T13:55:17.786Z"
   },
   {
    "duration": 7,
    "start_time": "2022-09-22T13:55:18.956Z"
   },
   {
    "duration": 2,
    "start_time": "2022-09-22T13:55:33.695Z"
   },
   {
    "duration": 15,
    "start_time": "2022-09-22T13:55:35.654Z"
   },
   {
    "duration": 19,
    "start_time": "2022-09-22T13:55:40.237Z"
   },
   {
    "duration": 6,
    "start_time": "2022-09-22T13:55:48.559Z"
   },
   {
    "duration": 7,
    "start_time": "2022-09-22T13:56:00.634Z"
   },
   {
    "duration": 8,
    "start_time": "2022-09-22T13:58:25.679Z"
   },
   {
    "duration": 11,
    "start_time": "2022-09-22T13:58:27.984Z"
   },
   {
    "duration": 3,
    "start_time": "2022-09-22T13:58:34.905Z"
   },
   {
    "duration": 96,
    "start_time": "2022-09-22T13:58:34.910Z"
   },
   {
    "duration": 19,
    "start_time": "2022-09-22T13:58:35.007Z"
   },
   {
    "duration": 43,
    "start_time": "2022-09-22T13:58:35.029Z"
   },
   {
    "duration": 15,
    "start_time": "2022-09-22T13:58:35.074Z"
   },
   {
    "duration": 9,
    "start_time": "2022-09-22T13:58:35.091Z"
   },
   {
    "duration": 24,
    "start_time": "2022-09-22T13:58:35.102Z"
   },
   {
    "duration": 3,
    "start_time": "2022-09-22T13:58:36.956Z"
   },
   {
    "duration": 12,
    "start_time": "2022-09-22T13:58:37.431Z"
   },
   {
    "duration": 14,
    "start_time": "2022-09-22T13:58:39.144Z"
   },
   {
    "duration": 3,
    "start_time": "2022-09-22T14:00:14.337Z"
   },
   {
    "duration": 87,
    "start_time": "2022-09-22T14:00:14.342Z"
   },
   {
    "duration": 21,
    "start_time": "2022-09-22T14:00:14.431Z"
   },
   {
    "duration": 39,
    "start_time": "2022-09-22T14:00:14.454Z"
   },
   {
    "duration": 29,
    "start_time": "2022-09-22T14:00:14.495Z"
   },
   {
    "duration": 14,
    "start_time": "2022-09-22T14:00:14.526Z"
   },
   {
    "duration": 8,
    "start_time": "2022-09-22T14:00:14.543Z"
   },
   {
    "duration": 2,
    "start_time": "2022-09-22T14:00:15.737Z"
   },
   {
    "duration": 6,
    "start_time": "2022-09-22T14:00:16.291Z"
   },
   {
    "duration": 10,
    "start_time": "2022-09-22T14:00:17.841Z"
   },
   {
    "duration": 3,
    "start_time": "2022-09-22T14:01:14.427Z"
   },
   {
    "duration": 81,
    "start_time": "2022-09-22T14:01:14.432Z"
   },
   {
    "duration": 15,
    "start_time": "2022-09-22T14:01:14.515Z"
   },
   {
    "duration": 40,
    "start_time": "2022-09-22T14:01:14.533Z"
   },
   {
    "duration": 15,
    "start_time": "2022-09-22T14:01:14.576Z"
   },
   {
    "duration": 33,
    "start_time": "2022-09-22T14:01:14.592Z"
   },
   {
    "duration": 17,
    "start_time": "2022-09-22T14:01:14.627Z"
   },
   {
    "duration": 21,
    "start_time": "2022-09-22T14:01:14.646Z"
   },
   {
    "duration": 10,
    "start_time": "2022-09-22T14:01:14.669Z"
   },
   {
    "duration": 8,
    "start_time": "2022-09-22T14:01:14.681Z"
   },
   {
    "duration": 14,
    "start_time": "2022-09-22T14:01:14.691Z"
   },
   {
    "duration": 8,
    "start_time": "2022-09-22T14:01:14.707Z"
   },
   {
    "duration": 8,
    "start_time": "2022-09-22T14:01:14.716Z"
   },
   {
    "duration": 9,
    "start_time": "2022-09-22T14:01:14.726Z"
   },
   {
    "duration": 9,
    "start_time": "2022-09-22T14:01:14.736Z"
   },
   {
    "duration": 11,
    "start_time": "2022-09-22T14:01:14.746Z"
   },
   {
    "duration": 9,
    "start_time": "2022-09-22T14:01:18.778Z"
   },
   {
    "duration": 6,
    "start_time": "2022-09-22T14:03:45.339Z"
   },
   {
    "duration": 74,
    "start_time": "2022-09-22T14:03:45.349Z"
   },
   {
    "duration": 15,
    "start_time": "2022-09-22T14:03:45.425Z"
   },
   {
    "duration": 41,
    "start_time": "2022-09-22T14:03:45.442Z"
   },
   {
    "duration": 13,
    "start_time": "2022-09-22T14:03:45.485Z"
   },
   {
    "duration": 26,
    "start_time": "2022-09-22T14:03:45.500Z"
   },
   {
    "duration": 63,
    "start_time": "2022-09-22T14:03:45.528Z"
   },
   {
    "duration": 13,
    "start_time": "2022-09-22T14:03:45.593Z"
   },
   {
    "duration": 26,
    "start_time": "2022-09-22T14:03:45.608Z"
   },
   {
    "duration": 25,
    "start_time": "2022-09-22T14:03:45.636Z"
   },
   {
    "duration": 10,
    "start_time": "2022-09-22T14:03:45.664Z"
   },
   {
    "duration": 30,
    "start_time": "2022-09-22T14:03:45.676Z"
   },
   {
    "duration": 14,
    "start_time": "2022-09-22T14:03:45.708Z"
   },
   {
    "duration": 30,
    "start_time": "2022-09-22T14:03:45.725Z"
   },
   {
    "duration": 20,
    "start_time": "2022-09-22T14:03:45.757Z"
   },
   {
    "duration": 7,
    "start_time": "2022-09-22T14:03:59.273Z"
   },
   {
    "duration": 11,
    "start_time": "2022-09-22T14:04:02.138Z"
   },
   {
    "duration": 8,
    "start_time": "2022-09-22T14:24:29.791Z"
   },
   {
    "duration": 7,
    "start_time": "2022-09-22T14:24:40.088Z"
   },
   {
    "duration": 8,
    "start_time": "2022-09-22T14:25:09.434Z"
   },
   {
    "duration": 9,
    "start_time": "2022-09-22T14:25:39.918Z"
   },
   {
    "duration": 5,
    "start_time": "2022-09-22T14:25:47.561Z"
   },
   {
    "duration": 5,
    "start_time": "2022-09-22T14:34:24.781Z"
   },
   {
    "duration": 3,
    "start_time": "2022-09-22T14:34:41.330Z"
   },
   {
    "duration": 76,
    "start_time": "2022-09-22T14:34:41.336Z"
   },
   {
    "duration": 17,
    "start_time": "2022-09-22T14:34:41.414Z"
   },
   {
    "duration": 42,
    "start_time": "2022-09-22T14:34:41.433Z"
   },
   {
    "duration": 16,
    "start_time": "2022-09-22T14:34:41.478Z"
   },
   {
    "duration": 28,
    "start_time": "2022-09-22T14:34:41.496Z"
   },
   {
    "duration": 7,
    "start_time": "2022-09-22T14:34:41.527Z"
   },
   {
    "duration": 18,
    "start_time": "2022-09-22T14:34:41.536Z"
   },
   {
    "duration": 6,
    "start_time": "2022-09-22T14:34:41.556Z"
   },
   {
    "duration": 13,
    "start_time": "2022-09-22T14:34:41.563Z"
   },
   {
    "duration": 6,
    "start_time": "2022-09-22T14:34:41.578Z"
   },
   {
    "duration": 38,
    "start_time": "2022-09-22T14:34:41.585Z"
   },
   {
    "duration": 8,
    "start_time": "2022-09-22T14:34:41.626Z"
   },
   {
    "duration": 17,
    "start_time": "2022-09-22T14:34:41.637Z"
   },
   {
    "duration": 18,
    "start_time": "2022-09-22T14:34:41.656Z"
   },
   {
    "duration": 6,
    "start_time": "2022-09-22T14:34:43.749Z"
   },
   {
    "duration": 4,
    "start_time": "2022-09-22T14:35:38.040Z"
   },
   {
    "duration": 6,
    "start_time": "2022-09-22T14:35:39.958Z"
   },
   {
    "duration": 11,
    "start_time": "2022-09-22T14:41:19.938Z"
   },
   {
    "duration": 3,
    "start_time": "2022-09-22T14:42:36.890Z"
   },
   {
    "duration": 73,
    "start_time": "2022-09-22T14:42:36.896Z"
   },
   {
    "duration": 17,
    "start_time": "2022-09-22T14:42:36.971Z"
   },
   {
    "duration": 58,
    "start_time": "2022-09-22T14:42:36.989Z"
   },
   {
    "duration": 15,
    "start_time": "2022-09-22T14:42:37.049Z"
   },
   {
    "duration": 11,
    "start_time": "2022-09-22T14:42:37.066Z"
   },
   {
    "duration": 8,
    "start_time": "2022-09-22T14:42:37.078Z"
   },
   {
    "duration": 11,
    "start_time": "2022-09-22T14:42:37.087Z"
   },
   {
    "duration": 22,
    "start_time": "2022-09-22T14:42:37.100Z"
   },
   {
    "duration": 12,
    "start_time": "2022-09-22T14:42:37.124Z"
   },
   {
    "duration": 6,
    "start_time": "2022-09-22T14:42:37.139Z"
   },
   {
    "duration": 18,
    "start_time": "2022-09-22T14:42:37.147Z"
   },
   {
    "duration": 5,
    "start_time": "2022-09-22T14:42:37.167Z"
   },
   {
    "duration": 10,
    "start_time": "2022-09-22T14:42:37.174Z"
   },
   {
    "duration": 36,
    "start_time": "2022-09-22T14:42:37.186Z"
   },
   {
    "duration": 5,
    "start_time": "2022-09-22T14:42:37.224Z"
   },
   {
    "duration": 7,
    "start_time": "2022-09-22T14:42:37.231Z"
   },
   {
    "duration": 5,
    "start_time": "2022-09-22T14:42:37.240Z"
   },
   {
    "duration": 21,
    "start_time": "2022-09-22T14:42:40.462Z"
   },
   {
    "duration": 13,
    "start_time": "2022-09-22T14:44:45.176Z"
   },
   {
    "duration": 12,
    "start_time": "2022-09-22T14:46:29.035Z"
   },
   {
    "duration": 14,
    "start_time": "2022-09-22T14:47:04.175Z"
   },
   {
    "duration": 12,
    "start_time": "2022-09-22T14:47:35.135Z"
   },
   {
    "duration": 27,
    "start_time": "2022-09-22T14:48:07.692Z"
   },
   {
    "duration": 11,
    "start_time": "2022-09-22T14:55:15.235Z"
   },
   {
    "duration": 3,
    "start_time": "2022-09-22T14:58:46.720Z"
   },
   {
    "duration": 82,
    "start_time": "2022-09-22T14:58:46.725Z"
   },
   {
    "duration": 21,
    "start_time": "2022-09-22T14:58:46.809Z"
   },
   {
    "duration": 51,
    "start_time": "2022-09-22T14:58:46.832Z"
   },
   {
    "duration": 13,
    "start_time": "2022-09-22T14:58:46.886Z"
   },
   {
    "duration": 32,
    "start_time": "2022-09-22T14:58:46.901Z"
   },
   {
    "duration": 18,
    "start_time": "2022-09-22T14:58:46.935Z"
   },
   {
    "duration": 44,
    "start_time": "2022-09-22T14:58:46.955Z"
   },
   {
    "duration": 23,
    "start_time": "2022-09-22T14:58:47.001Z"
   },
   {
    "duration": 23,
    "start_time": "2022-09-22T14:58:47.026Z"
   },
   {
    "duration": 28,
    "start_time": "2022-09-22T14:58:47.051Z"
   },
   {
    "duration": 17,
    "start_time": "2022-09-22T14:58:47.080Z"
   },
   {
    "duration": 31,
    "start_time": "2022-09-22T14:58:47.099Z"
   },
   {
    "duration": 33,
    "start_time": "2022-09-22T14:58:47.135Z"
   },
   {
    "duration": 24,
    "start_time": "2022-09-22T14:58:47.170Z"
   },
   {
    "duration": 24,
    "start_time": "2022-09-22T14:58:47.196Z"
   },
   {
    "duration": 19,
    "start_time": "2022-09-22T14:58:47.221Z"
   },
   {
    "duration": 30,
    "start_time": "2022-09-22T14:58:47.242Z"
   },
   {
    "duration": 27,
    "start_time": "2022-09-22T14:58:47.274Z"
   },
   {
    "duration": 23,
    "start_time": "2022-09-22T14:58:47.302Z"
   },
   {
    "duration": 45,
    "start_time": "2022-09-22T14:58:47.327Z"
   },
   {
    "duration": 85,
    "start_time": "2022-09-22T14:58:47.374Z"
   },
   {
    "duration": 11,
    "start_time": "2022-09-22T14:58:47.460Z"
   },
   {
    "duration": 47,
    "start_time": "2022-09-22T14:58:47.473Z"
   },
   {
    "duration": 26,
    "start_time": "2022-09-22T14:58:47.522Z"
   },
   {
    "duration": 12,
    "start_time": "2022-09-22T14:58:47.550Z"
   },
   {
    "duration": 27,
    "start_time": "2022-09-22T14:58:47.564Z"
   },
   {
    "duration": 28,
    "start_time": "2022-09-22T14:58:47.593Z"
   },
   {
    "duration": 12,
    "start_time": "2022-09-22T14:58:47.623Z"
   },
   {
    "duration": 33,
    "start_time": "2022-09-22T14:58:47.637Z"
   },
   {
    "duration": 19,
    "start_time": "2022-09-22T14:58:47.673Z"
   },
   {
    "duration": 30,
    "start_time": "2022-09-22T14:58:47.694Z"
   },
   {
    "duration": 25,
    "start_time": "2022-09-22T14:58:47.726Z"
   },
   {
    "duration": 41,
    "start_time": "2022-09-22T14:58:47.754Z"
   },
   {
    "duration": 37,
    "start_time": "2022-09-22T14:58:47.797Z"
   },
   {
    "duration": 39,
    "start_time": "2022-09-22T14:58:47.837Z"
   },
   {
    "duration": 48,
    "start_time": "2022-09-22T14:58:47.879Z"
   },
   {
    "duration": 35,
    "start_time": "2022-09-22T14:58:47.929Z"
   },
   {
    "duration": 28,
    "start_time": "2022-09-22T14:58:47.966Z"
   },
   {
    "duration": 58,
    "start_time": "2022-09-22T14:58:47.996Z"
   },
   {
    "duration": 33,
    "start_time": "2022-09-22T14:58:48.059Z"
   },
   {
    "duration": 16,
    "start_time": "2022-09-22T15:07:55.896Z"
   },
   {
    "duration": 17,
    "start_time": "2022-09-22T15:08:33.124Z"
   }
  ],
  "colab": {
   "name": "dpp_template_part2.ipynb",
   "provenance": []
  },
  "kernelspec": {
   "display_name": "Python 3 (ipykernel)",
   "language": "python",
   "name": "python3"
  },
  "language_info": {
   "codemirror_mode": {
    "name": "ipython",
    "version": 3
   },
   "file_extension": ".py",
   "mimetype": "text/x-python",
   "name": "python",
   "nbconvert_exporter": "python",
   "pygments_lexer": "ipython3",
   "version": "3.9.5"
  },
  "toc": {
   "base_numbering": 1,
   "nav_menu": {},
   "number_sections": true,
   "sideBar": true,
   "skip_h1_title": true,
   "title_cell": "Table of Contents",
   "title_sidebar": "Contents",
   "toc_cell": false,
   "toc_position": {},
   "toc_section_display": true,
   "toc_window_display": false
  }
 },
 "nbformat": 4,
 "nbformat_minor": 5
}
