{
 "cells": [
  {
   "cell_type": "markdown",
   "metadata": {
    "toc": true
   },
   "source": [
    "<h1>Содержание<span class=\"tocSkip\"></span></h1>\n",
    "<div class=\"toc\"><ul class=\"toc-item\"><li><span><a href=\"#Загрузка-и-подготовка-данных\" data-toc-modified-id=\"Загрузка-и-подготовка-данных-1\"><span class=\"toc-item-num\">1&nbsp;&nbsp;</span>Загрузка и подготовка данных</a></span><ul class=\"toc-item\"><li><span><a href=\"#Загрузка-данных\" data-toc-modified-id=\"Загрузка-данных-1.1\"><span class=\"toc-item-num\">1.1&nbsp;&nbsp;</span>Загрузка данных</a></span></li><li><span><a href=\"#Изучение-данных\" data-toc-modified-id=\"Изучение-данных-1.2\"><span class=\"toc-item-num\">1.2&nbsp;&nbsp;</span>Изучение данных</a></span><ul class=\"toc-item\"><li><span><a href=\"#head()\" data-toc-modified-id=\"head()-1.2.1\"><span class=\"toc-item-num\">1.2.1&nbsp;&nbsp;</span>head()</a></span></li><li><span><a href=\"#info()\" data-toc-modified-id=\"info()-1.2.2\"><span class=\"toc-item-num\">1.2.2&nbsp;&nbsp;</span>info()</a></span></li><li><span><a href=\"#describe()\" data-toc-modified-id=\"describe()-1.2.3\"><span class=\"toc-item-num\">1.2.3&nbsp;&nbsp;</span>describe()</a></span></li><li><span><a href=\"#unique()\" data-toc-modified-id=\"unique()-1.2.4\"><span class=\"toc-item-num\">1.2.4&nbsp;&nbsp;</span>unique()</a></span></li><li><span><a href=\"#duplicated()\" data-toc-modified-id=\"duplicated()-1.2.5\"><span class=\"toc-item-num\">1.2.5&nbsp;&nbsp;</span>duplicated()</a></span></li><li><span><a href=\"#corr()\" data-toc-modified-id=\"corr()-1.2.6\"><span class=\"toc-item-num\">1.2.6&nbsp;&nbsp;</span>corr()</a></span></li></ul></li></ul></li><li><span><a href=\"#Подготовка-данных\" data-toc-modified-id=\"Подготовка-данных-2\"><span class=\"toc-item-num\">2&nbsp;&nbsp;</span>Подготовка данных</a></span><ul class=\"toc-item\"><li><span><a href=\"#Разделение-на-выборки\" data-toc-modified-id=\"Разделение-на-выборки-2.1\"><span class=\"toc-item-num\">2.1&nbsp;&nbsp;</span>Разделение на выборки</a></span></li></ul></li><li><span><a href=\"#Обучение-и-проверка-модели\" data-toc-modified-id=\"Обучение-и-проверка-модели-3\"><span class=\"toc-item-num\">3&nbsp;&nbsp;</span>Обучение и проверка модели</a></span></li><li><span><a href=\"#Подготовка-к-расчёту-прибыли\" data-toc-modified-id=\"Подготовка-к-расчёту-прибыли-4\"><span class=\"toc-item-num\">4&nbsp;&nbsp;</span>Подготовка к расчёту прибыли</a></span></li><li><span><a href=\"#Расчёт-прибыли-и-рисков\" data-toc-modified-id=\"Расчёт-прибыли-и-рисков-5\"><span class=\"toc-item-num\">5&nbsp;&nbsp;</span>Расчёт прибыли и рисков</a></span><ul class=\"toc-item\"><li><span><a href=\"#Рассчитаем-прибыль-от-выбранных-скважин\" data-toc-modified-id=\"Рассчитаем-прибыль-от-выбранных-скважин-5.1\"><span class=\"toc-item-num\">5.1&nbsp;&nbsp;</span>Рассчитаем прибыль от выбранных скважин</a></span></li><li><span><a href=\"#Рассчитаем-риски-и-прибыль-для-каждого-региона:\" data-toc-modified-id=\"Рассчитаем-риски-и-прибыль-для-каждого-региона:-5.2\"><span class=\"toc-item-num\">5.2&nbsp;&nbsp;</span>Рассчитаем риски и прибыль для каждого региона:</a></span></li></ul></li><li><span><a href=\"#Вывод\" data-toc-modified-id=\"Вывод-6\"><span class=\"toc-item-num\">6&nbsp;&nbsp;</span>Вывод</a></span></li><li><span><a href=\"#Чек-лист-готовности-проекта\" data-toc-modified-id=\"Чек-лист-готовности-проекта-7\"><span class=\"toc-item-num\">7&nbsp;&nbsp;</span>Чек-лист готовности проекта</a></span></li></ul></div>"
   ]
  },
  {
   "cell_type": "markdown",
   "metadata": {},
   "source": [
    "# Выбор локации для скважины"
   ]
  },
  {
   "cell_type": "markdown",
   "metadata": {},
   "source": [
    "Добывающая компания «ГлавРосГосНефть».\n",
    "\n",
    "**Входные данные:**\n",
    "\n",
    "- Пробы нефти в трёх регионах: в каждом 10 000 месторождений, где измерили качество нефти и объём её запасов.\n",
    "\n",
    "- Данные геологоразведки трёх регионов: \n",
    "\n",
    "1. https://code.s3.yandex.net/datasets/geo_data_0.csv\n",
    "\n",
    "2. https://code.s3.yandex.net/datasets/geo_data_1.csv\n",
    "\n",
    "3. https://code.s3.yandex.net/datasets/geo_data_2.csv\n",
    "\n",
    "`id` — уникальный идентификатор скважины;\n",
    "\n",
    "`f0`, `f1`, `f2` — три признака точек (неважно, что они означают, но сами признаки значимы);\n",
    "\n",
    "`product` — объём запасов в скважине (тыс. баррелей).\n",
    "\n",
    "**Условия задачи:**\n",
    "\n",
    "- Для обучения модели подходит только линейная регрессия (остальные — недостаточно предсказуемые).\n",
    "\n",
    "- При разведке региона исследуют 500 точек, из которых с помощью машинного обучения выбирают 200 лучших для разработки.\n",
    "\n",
    "- Бюджет на разработку скважин в регионе — 10 млрд рублей.\n",
    "\n",
    "- При нынешних ценах один баррель сырья приносит 450 рублей дохода. Доход с каждой единицы продукта составляет 450 тыс. рублей, поскольку объём указан в тысячах баррелей.\n",
    "\n",
    "- После оценки рисков нужно оставить лишь те регионы, в которых вероятность убытков меньше 2.5%. Среди них выбирают регион с наибольшей средней прибылью.\n",
    "\n",
    "Данные синтетические: детали контрактов и характеристики месторождений не разглашаются.\n",
    "        \n",
    "**Цель исследования:**\n",
    "        \n",
    "- Построить модель, которая поможет определить регион, где добыча нефти принесёт наибольшую прибыль.\n",
    "  \n",
    "**Задачи**\n",
    "\n",
    "- Определить значения признаков для каждого месторождения в избранном регионе.\n",
    "\n",
    "- Построить модель и оценить объём запасов.\n",
    "\n",
    "- Выбрать месторождения с самым высокими оценками значений, в зависимости от бюджета компании и стоимости разработки одной скважины;\n",
    "\n",
    "- Проанализировать возможную прибыль и риски техникой Bootstrap.\n",
    "\n",
    "**Этапы исследования:**\n",
    "\n",
    "- Подготовка данных\n",
    "\n",
    "- Исследование задачи\n",
    "\n",
    "- Обучение и проверка модели\n",
    "\n",
    "- Расчёт прибыли и рисков\n",
    "\n",
    "- Общий вывод"
   ]
  },
  {
   "cell_type": "markdown",
   "metadata": {},
   "source": [
    "## Загрузка и подготовка данных"
   ]
  },
  {
   "cell_type": "markdown",
   "metadata": {},
   "source": [
    "### Загрузка данных"
   ]
  },
  {
   "cell_type": "code",
   "execution_count": 1,
   "metadata": {},
   "outputs": [],
   "source": [
    "import pandas as pd\n",
    "import seaborn as sns\n",
    "import matplotlib.pyplot as plt\n",
    "import numpy as np\n",
    "\n",
    "from numpy.random import RandomState\n",
    "\n",
    "from sklearn.linear_model import LinearRegression\n",
    "from sklearn.model_selection import train_test_split, cross_val_score\n",
    "from sklearn.metrics import mean_squared_error"
   ]
  },
  {
   "cell_type": "code",
   "execution_count": 2,
   "metadata": {},
   "outputs": [],
   "source": [
    "WELLS_EXPLORATION_COUNT = 500 # количество точек для исследования\n",
    "BEST_WELLS_COUNT = 200 # количество лучших точек для разработки\n",
    "BUDGET = 10_000_000_000 # бюджет, в руб.\n",
    "REVENUE_PER_BARREL = 450_000 # доход с каждой единицы продукта, в руб.\n",
    "LOSS_PROB = 0.025 # максимальная вероятность убытков"
   ]
  },
  {
   "cell_type": "code",
   "execution_count": 3,
   "metadata": {},
   "outputs": [],
   "source": [
    "try:\n",
    "    df_0 = pd.read_csv('/datasets/geo_data_0.csv')\n",
    "    df_1 = pd.read_csv('/datasets/geo_data_1.csv')\n",
    "    df_2 = pd.read_csv('/datasets/geo_data_2.csv')\n",
    "except:\n",
    "    df_0 = pd.read_csv('https://code.s3.yandex.net/datasets/geo_data_0.csv')\n",
    "    df_1 = pd.read_csv('https://code.s3.yandex.net/datasets/geo_data_1.csv')\n",
    "    df_2 = pd.read_csv('https://code.s3.yandex.net/datasets/geo_data_2.csv')"
   ]
  },
  {
   "cell_type": "markdown",
   "metadata": {},
   "source": [
    "### Изучение данных"
   ]
  },
  {
   "cell_type": "markdown",
   "metadata": {},
   "source": [
    "#### head()"
   ]
  },
  {
   "cell_type": "code",
   "execution_count": 4,
   "metadata": {
    "scrolled": false
   },
   "outputs": [
    {
     "data": {
      "text/html": [
       "<div>\n",
       "<style scoped>\n",
       "    .dataframe tbody tr th:only-of-type {\n",
       "        vertical-align: middle;\n",
       "    }\n",
       "\n",
       "    .dataframe tbody tr th {\n",
       "        vertical-align: top;\n",
       "    }\n",
       "\n",
       "    .dataframe thead th {\n",
       "        text-align: right;\n",
       "    }\n",
       "</style>\n",
       "<table border=\"1\" class=\"dataframe\">\n",
       "  <thead>\n",
       "    <tr style=\"text-align: right;\">\n",
       "      <th></th>\n",
       "      <th>id</th>\n",
       "      <th>f0</th>\n",
       "      <th>f1</th>\n",
       "      <th>f2</th>\n",
       "      <th>product</th>\n",
       "    </tr>\n",
       "  </thead>\n",
       "  <tbody>\n",
       "    <tr>\n",
       "      <th>0</th>\n",
       "      <td>txEyH</td>\n",
       "      <td>0.705745</td>\n",
       "      <td>-0.497823</td>\n",
       "      <td>1.221170</td>\n",
       "      <td>105.280062</td>\n",
       "    </tr>\n",
       "    <tr>\n",
       "      <th>1</th>\n",
       "      <td>2acmU</td>\n",
       "      <td>1.334711</td>\n",
       "      <td>-0.340164</td>\n",
       "      <td>4.365080</td>\n",
       "      <td>73.037750</td>\n",
       "    </tr>\n",
       "    <tr>\n",
       "      <th>2</th>\n",
       "      <td>409Wp</td>\n",
       "      <td>1.022732</td>\n",
       "      <td>0.151990</td>\n",
       "      <td>1.419926</td>\n",
       "      <td>85.265647</td>\n",
       "    </tr>\n",
       "    <tr>\n",
       "      <th>3</th>\n",
       "      <td>iJLyR</td>\n",
       "      <td>-0.032172</td>\n",
       "      <td>0.139033</td>\n",
       "      <td>2.978566</td>\n",
       "      <td>168.620776</td>\n",
       "    </tr>\n",
       "    <tr>\n",
       "      <th>4</th>\n",
       "      <td>Xdl7t</td>\n",
       "      <td>1.988431</td>\n",
       "      <td>0.155413</td>\n",
       "      <td>4.751769</td>\n",
       "      <td>154.036647</td>\n",
       "    </tr>\n",
       "  </tbody>\n",
       "</table>\n",
       "</div>"
      ],
      "text/plain": [
       "      id        f0        f1        f2     product\n",
       "0  txEyH  0.705745 -0.497823  1.221170  105.280062\n",
       "1  2acmU  1.334711 -0.340164  4.365080   73.037750\n",
       "2  409Wp  1.022732  0.151990  1.419926   85.265647\n",
       "3  iJLyR -0.032172  0.139033  2.978566  168.620776\n",
       "4  Xdl7t  1.988431  0.155413  4.751769  154.036647"
      ]
     },
     "metadata": {},
     "output_type": "display_data"
    },
    {
     "data": {
      "text/html": [
       "<div>\n",
       "<style scoped>\n",
       "    .dataframe tbody tr th:only-of-type {\n",
       "        vertical-align: middle;\n",
       "    }\n",
       "\n",
       "    .dataframe tbody tr th {\n",
       "        vertical-align: top;\n",
       "    }\n",
       "\n",
       "    .dataframe thead th {\n",
       "        text-align: right;\n",
       "    }\n",
       "</style>\n",
       "<table border=\"1\" class=\"dataframe\">\n",
       "  <thead>\n",
       "    <tr style=\"text-align: right;\">\n",
       "      <th></th>\n",
       "      <th>id</th>\n",
       "      <th>f0</th>\n",
       "      <th>f1</th>\n",
       "      <th>f2</th>\n",
       "      <th>product</th>\n",
       "    </tr>\n",
       "  </thead>\n",
       "  <tbody>\n",
       "    <tr>\n",
       "      <th>0</th>\n",
       "      <td>kBEdx</td>\n",
       "      <td>-15.001348</td>\n",
       "      <td>-8.276000</td>\n",
       "      <td>-0.005876</td>\n",
       "      <td>3.179103</td>\n",
       "    </tr>\n",
       "    <tr>\n",
       "      <th>1</th>\n",
       "      <td>62mP7</td>\n",
       "      <td>14.272088</td>\n",
       "      <td>-3.475083</td>\n",
       "      <td>0.999183</td>\n",
       "      <td>26.953261</td>\n",
       "    </tr>\n",
       "    <tr>\n",
       "      <th>2</th>\n",
       "      <td>vyE1P</td>\n",
       "      <td>6.263187</td>\n",
       "      <td>-5.948386</td>\n",
       "      <td>5.001160</td>\n",
       "      <td>134.766305</td>\n",
       "    </tr>\n",
       "    <tr>\n",
       "      <th>3</th>\n",
       "      <td>KcrkZ</td>\n",
       "      <td>-13.081196</td>\n",
       "      <td>-11.506057</td>\n",
       "      <td>4.999415</td>\n",
       "      <td>137.945408</td>\n",
       "    </tr>\n",
       "    <tr>\n",
       "      <th>4</th>\n",
       "      <td>AHL4O</td>\n",
       "      <td>12.702195</td>\n",
       "      <td>-8.147433</td>\n",
       "      <td>5.004363</td>\n",
       "      <td>134.766305</td>\n",
       "    </tr>\n",
       "  </tbody>\n",
       "</table>\n",
       "</div>"
      ],
      "text/plain": [
       "      id         f0         f1        f2     product\n",
       "0  kBEdx -15.001348  -8.276000 -0.005876    3.179103\n",
       "1  62mP7  14.272088  -3.475083  0.999183   26.953261\n",
       "2  vyE1P   6.263187  -5.948386  5.001160  134.766305\n",
       "3  KcrkZ -13.081196 -11.506057  4.999415  137.945408\n",
       "4  AHL4O  12.702195  -8.147433  5.004363  134.766305"
      ]
     },
     "metadata": {},
     "output_type": "display_data"
    },
    {
     "data": {
      "text/html": [
       "<div>\n",
       "<style scoped>\n",
       "    .dataframe tbody tr th:only-of-type {\n",
       "        vertical-align: middle;\n",
       "    }\n",
       "\n",
       "    .dataframe tbody tr th {\n",
       "        vertical-align: top;\n",
       "    }\n",
       "\n",
       "    .dataframe thead th {\n",
       "        text-align: right;\n",
       "    }\n",
       "</style>\n",
       "<table border=\"1\" class=\"dataframe\">\n",
       "  <thead>\n",
       "    <tr style=\"text-align: right;\">\n",
       "      <th></th>\n",
       "      <th>id</th>\n",
       "      <th>f0</th>\n",
       "      <th>f1</th>\n",
       "      <th>f2</th>\n",
       "      <th>product</th>\n",
       "    </tr>\n",
       "  </thead>\n",
       "  <tbody>\n",
       "    <tr>\n",
       "      <th>0</th>\n",
       "      <td>fwXo0</td>\n",
       "      <td>-1.146987</td>\n",
       "      <td>0.963328</td>\n",
       "      <td>-0.828965</td>\n",
       "      <td>27.758673</td>\n",
       "    </tr>\n",
       "    <tr>\n",
       "      <th>1</th>\n",
       "      <td>WJtFt</td>\n",
       "      <td>0.262778</td>\n",
       "      <td>0.269839</td>\n",
       "      <td>-2.530187</td>\n",
       "      <td>56.069697</td>\n",
       "    </tr>\n",
       "    <tr>\n",
       "      <th>2</th>\n",
       "      <td>ovLUW</td>\n",
       "      <td>0.194587</td>\n",
       "      <td>0.289035</td>\n",
       "      <td>-5.586433</td>\n",
       "      <td>62.871910</td>\n",
       "    </tr>\n",
       "    <tr>\n",
       "      <th>3</th>\n",
       "      <td>q6cA6</td>\n",
       "      <td>2.236060</td>\n",
       "      <td>-0.553760</td>\n",
       "      <td>0.930038</td>\n",
       "      <td>114.572842</td>\n",
       "    </tr>\n",
       "    <tr>\n",
       "      <th>4</th>\n",
       "      <td>WPMUX</td>\n",
       "      <td>-0.515993</td>\n",
       "      <td>1.716266</td>\n",
       "      <td>5.899011</td>\n",
       "      <td>149.600746</td>\n",
       "    </tr>\n",
       "  </tbody>\n",
       "</table>\n",
       "</div>"
      ],
      "text/plain": [
       "      id        f0        f1        f2     product\n",
       "0  fwXo0 -1.146987  0.963328 -0.828965   27.758673\n",
       "1  WJtFt  0.262778  0.269839 -2.530187   56.069697\n",
       "2  ovLUW  0.194587  0.289035 -5.586433   62.871910\n",
       "3  q6cA6  2.236060 -0.553760  0.930038  114.572842\n",
       "4  WPMUX -0.515993  1.716266  5.899011  149.600746"
      ]
     },
     "metadata": {},
     "output_type": "display_data"
    }
   ],
   "source": [
    "display(df_0.head())\n",
    "display(df_1.head())\n",
    "display(df_2.head())"
   ]
  },
  {
   "cell_type": "markdown",
   "metadata": {},
   "source": [
    "#### info()"
   ]
  },
  {
   "cell_type": "code",
   "execution_count": 5,
   "metadata": {
    "scrolled": false
   },
   "outputs": [
    {
     "name": "stdout",
     "output_type": "stream",
     "text": [
      "<class 'pandas.core.frame.DataFrame'>\n",
      "RangeIndex: 100000 entries, 0 to 99999\n",
      "Data columns (total 5 columns):\n",
      " #   Column   Non-Null Count   Dtype  \n",
      "---  ------   --------------   -----  \n",
      " 0   id       100000 non-null  object \n",
      " 1   f0       100000 non-null  float64\n",
      " 2   f1       100000 non-null  float64\n",
      " 3   f2       100000 non-null  float64\n",
      " 4   product  100000 non-null  float64\n",
      "dtypes: float64(4), object(1)\n",
      "memory usage: 3.8+ MB\n"
     ]
    },
    {
     "data": {
      "text/plain": [
       "None"
      ]
     },
     "metadata": {},
     "output_type": "display_data"
    },
    {
     "name": "stdout",
     "output_type": "stream",
     "text": [
      "<class 'pandas.core.frame.DataFrame'>\n",
      "RangeIndex: 100000 entries, 0 to 99999\n",
      "Data columns (total 5 columns):\n",
      " #   Column   Non-Null Count   Dtype  \n",
      "---  ------   --------------   -----  \n",
      " 0   id       100000 non-null  object \n",
      " 1   f0       100000 non-null  float64\n",
      " 2   f1       100000 non-null  float64\n",
      " 3   f2       100000 non-null  float64\n",
      " 4   product  100000 non-null  float64\n",
      "dtypes: float64(4), object(1)\n",
      "memory usage: 3.8+ MB\n"
     ]
    },
    {
     "data": {
      "text/plain": [
       "None"
      ]
     },
     "metadata": {},
     "output_type": "display_data"
    },
    {
     "name": "stdout",
     "output_type": "stream",
     "text": [
      "<class 'pandas.core.frame.DataFrame'>\n",
      "RangeIndex: 100000 entries, 0 to 99999\n",
      "Data columns (total 5 columns):\n",
      " #   Column   Non-Null Count   Dtype  \n",
      "---  ------   --------------   -----  \n",
      " 0   id       100000 non-null  object \n",
      " 1   f0       100000 non-null  float64\n",
      " 2   f1       100000 non-null  float64\n",
      " 3   f2       100000 non-null  float64\n",
      " 4   product  100000 non-null  float64\n",
      "dtypes: float64(4), object(1)\n",
      "memory usage: 3.8+ MB\n"
     ]
    },
    {
     "data": {
      "text/plain": [
       "None"
      ]
     },
     "metadata": {},
     "output_type": "display_data"
    }
   ],
   "source": [
    "display(df_0.info())\n",
    "display(df_1.info())\n",
    "display(df_2.info())"
   ]
  },
  {
   "cell_type": "markdown",
   "metadata": {},
   "source": [
    "Структура данных датасетов одинаковая.\n",
    "\n",
    "По 100 000 объектов и 5 признаков.\n",
    "\n",
    "Типы данных одинаковые: `id` - object, остальные - `float`.\n",
    "\n",
    "Пропусков нет."
   ]
  },
  {
   "cell_type": "markdown",
   "metadata": {},
   "source": [
    "#### describe()"
   ]
  },
  {
   "cell_type": "code",
   "execution_count": 6,
   "metadata": {},
   "outputs": [
    {
     "data": {
      "text/html": [
       "<div>\n",
       "<style scoped>\n",
       "    .dataframe tbody tr th:only-of-type {\n",
       "        vertical-align: middle;\n",
       "    }\n",
       "\n",
       "    .dataframe tbody tr th {\n",
       "        vertical-align: top;\n",
       "    }\n",
       "\n",
       "    .dataframe thead th {\n",
       "        text-align: right;\n",
       "    }\n",
       "</style>\n",
       "<table border=\"1\" class=\"dataframe\">\n",
       "  <thead>\n",
       "    <tr style=\"text-align: right;\">\n",
       "      <th></th>\n",
       "      <th>count</th>\n",
       "      <th>mean</th>\n",
       "      <th>std</th>\n",
       "      <th>min</th>\n",
       "      <th>25%</th>\n",
       "      <th>50%</th>\n",
       "      <th>75%</th>\n",
       "      <th>max</th>\n",
       "    </tr>\n",
       "  </thead>\n",
       "  <tbody>\n",
       "    <tr>\n",
       "      <th>f0</th>\n",
       "      <td>100000.0</td>\n",
       "      <td>0.500419</td>\n",
       "      <td>0.871832</td>\n",
       "      <td>-1.408605</td>\n",
       "      <td>-0.072580</td>\n",
       "      <td>0.502360</td>\n",
       "      <td>1.073581</td>\n",
       "      <td>2.362331</td>\n",
       "    </tr>\n",
       "    <tr>\n",
       "      <th>f1</th>\n",
       "      <td>100000.0</td>\n",
       "      <td>0.250143</td>\n",
       "      <td>0.504433</td>\n",
       "      <td>-0.848218</td>\n",
       "      <td>-0.200881</td>\n",
       "      <td>0.250252</td>\n",
       "      <td>0.700646</td>\n",
       "      <td>1.343769</td>\n",
       "    </tr>\n",
       "    <tr>\n",
       "      <th>f2</th>\n",
       "      <td>100000.0</td>\n",
       "      <td>2.502647</td>\n",
       "      <td>3.248248</td>\n",
       "      <td>-12.088328</td>\n",
       "      <td>0.287748</td>\n",
       "      <td>2.515969</td>\n",
       "      <td>4.715088</td>\n",
       "      <td>16.003790</td>\n",
       "    </tr>\n",
       "    <tr>\n",
       "      <th>product</th>\n",
       "      <td>100000.0</td>\n",
       "      <td>92.500000</td>\n",
       "      <td>44.288691</td>\n",
       "      <td>0.000000</td>\n",
       "      <td>56.497507</td>\n",
       "      <td>91.849972</td>\n",
       "      <td>128.564089</td>\n",
       "      <td>185.364347</td>\n",
       "    </tr>\n",
       "  </tbody>\n",
       "</table>\n",
       "</div>"
      ],
      "text/plain": [
       "            count       mean        std        min        25%        50%  \\\n",
       "f0       100000.0   0.500419   0.871832  -1.408605  -0.072580   0.502360   \n",
       "f1       100000.0   0.250143   0.504433  -0.848218  -0.200881   0.250252   \n",
       "f2       100000.0   2.502647   3.248248 -12.088328   0.287748   2.515969   \n",
       "product  100000.0  92.500000  44.288691   0.000000  56.497507  91.849972   \n",
       "\n",
       "                75%         max  \n",
       "f0         1.073581    2.362331  \n",
       "f1         0.700646    1.343769  \n",
       "f2         4.715088   16.003790  \n",
       "product  128.564089  185.364347  "
      ]
     },
     "metadata": {},
     "output_type": "display_data"
    },
    {
     "data": {
      "text/html": [
       "<div>\n",
       "<style scoped>\n",
       "    .dataframe tbody tr th:only-of-type {\n",
       "        vertical-align: middle;\n",
       "    }\n",
       "\n",
       "    .dataframe tbody tr th {\n",
       "        vertical-align: top;\n",
       "    }\n",
       "\n",
       "    .dataframe thead th {\n",
       "        text-align: right;\n",
       "    }\n",
       "</style>\n",
       "<table border=\"1\" class=\"dataframe\">\n",
       "  <thead>\n",
       "    <tr style=\"text-align: right;\">\n",
       "      <th></th>\n",
       "      <th>count</th>\n",
       "      <th>mean</th>\n",
       "      <th>std</th>\n",
       "      <th>min</th>\n",
       "      <th>25%</th>\n",
       "      <th>50%</th>\n",
       "      <th>75%</th>\n",
       "      <th>max</th>\n",
       "    </tr>\n",
       "  </thead>\n",
       "  <tbody>\n",
       "    <tr>\n",
       "      <th>f0</th>\n",
       "      <td>100000.0</td>\n",
       "      <td>1.141296</td>\n",
       "      <td>8.965932</td>\n",
       "      <td>-31.609576</td>\n",
       "      <td>-6.298551</td>\n",
       "      <td>1.153055</td>\n",
       "      <td>8.621015</td>\n",
       "      <td>29.421755</td>\n",
       "    </tr>\n",
       "    <tr>\n",
       "      <th>f1</th>\n",
       "      <td>100000.0</td>\n",
       "      <td>-4.796579</td>\n",
       "      <td>5.119872</td>\n",
       "      <td>-26.358598</td>\n",
       "      <td>-8.267985</td>\n",
       "      <td>-4.813172</td>\n",
       "      <td>-1.332816</td>\n",
       "      <td>18.734063</td>\n",
       "    </tr>\n",
       "    <tr>\n",
       "      <th>f2</th>\n",
       "      <td>100000.0</td>\n",
       "      <td>2.494541</td>\n",
       "      <td>1.703572</td>\n",
       "      <td>-0.018144</td>\n",
       "      <td>1.000021</td>\n",
       "      <td>2.011479</td>\n",
       "      <td>3.999904</td>\n",
       "      <td>5.019721</td>\n",
       "    </tr>\n",
       "    <tr>\n",
       "      <th>product</th>\n",
       "      <td>100000.0</td>\n",
       "      <td>68.825000</td>\n",
       "      <td>45.944423</td>\n",
       "      <td>0.000000</td>\n",
       "      <td>26.953261</td>\n",
       "      <td>57.085625</td>\n",
       "      <td>107.813044</td>\n",
       "      <td>137.945408</td>\n",
       "    </tr>\n",
       "  </tbody>\n",
       "</table>\n",
       "</div>"
      ],
      "text/plain": [
       "            count       mean        std        min        25%        50%  \\\n",
       "f0       100000.0   1.141296   8.965932 -31.609576  -6.298551   1.153055   \n",
       "f1       100000.0  -4.796579   5.119872 -26.358598  -8.267985  -4.813172   \n",
       "f2       100000.0   2.494541   1.703572  -0.018144   1.000021   2.011479   \n",
       "product  100000.0  68.825000  45.944423   0.000000  26.953261  57.085625   \n",
       "\n",
       "                75%         max  \n",
       "f0         8.621015   29.421755  \n",
       "f1        -1.332816   18.734063  \n",
       "f2         3.999904    5.019721  \n",
       "product  107.813044  137.945408  "
      ]
     },
     "metadata": {},
     "output_type": "display_data"
    },
    {
     "data": {
      "text/html": [
       "<div>\n",
       "<style scoped>\n",
       "    .dataframe tbody tr th:only-of-type {\n",
       "        vertical-align: middle;\n",
       "    }\n",
       "\n",
       "    .dataframe tbody tr th {\n",
       "        vertical-align: top;\n",
       "    }\n",
       "\n",
       "    .dataframe thead th {\n",
       "        text-align: right;\n",
       "    }\n",
       "</style>\n",
       "<table border=\"1\" class=\"dataframe\">\n",
       "  <thead>\n",
       "    <tr style=\"text-align: right;\">\n",
       "      <th></th>\n",
       "      <th>count</th>\n",
       "      <th>mean</th>\n",
       "      <th>std</th>\n",
       "      <th>min</th>\n",
       "      <th>25%</th>\n",
       "      <th>50%</th>\n",
       "      <th>75%</th>\n",
       "      <th>max</th>\n",
       "    </tr>\n",
       "  </thead>\n",
       "  <tbody>\n",
       "    <tr>\n",
       "      <th>f0</th>\n",
       "      <td>100000.0</td>\n",
       "      <td>0.002023</td>\n",
       "      <td>1.732045</td>\n",
       "      <td>-8.760004</td>\n",
       "      <td>-1.162288</td>\n",
       "      <td>0.009424</td>\n",
       "      <td>1.158535</td>\n",
       "      <td>7.238262</td>\n",
       "    </tr>\n",
       "    <tr>\n",
       "      <th>f1</th>\n",
       "      <td>100000.0</td>\n",
       "      <td>-0.002081</td>\n",
       "      <td>1.730417</td>\n",
       "      <td>-7.084020</td>\n",
       "      <td>-1.174820</td>\n",
       "      <td>-0.009482</td>\n",
       "      <td>1.163678</td>\n",
       "      <td>7.844801</td>\n",
       "    </tr>\n",
       "    <tr>\n",
       "      <th>f2</th>\n",
       "      <td>100000.0</td>\n",
       "      <td>2.495128</td>\n",
       "      <td>3.473445</td>\n",
       "      <td>-11.970335</td>\n",
       "      <td>0.130359</td>\n",
       "      <td>2.484236</td>\n",
       "      <td>4.858794</td>\n",
       "      <td>16.739402</td>\n",
       "    </tr>\n",
       "    <tr>\n",
       "      <th>product</th>\n",
       "      <td>100000.0</td>\n",
       "      <td>95.000000</td>\n",
       "      <td>44.749921</td>\n",
       "      <td>0.000000</td>\n",
       "      <td>59.450441</td>\n",
       "      <td>94.925613</td>\n",
       "      <td>130.595027</td>\n",
       "      <td>190.029838</td>\n",
       "    </tr>\n",
       "  </tbody>\n",
       "</table>\n",
       "</div>"
      ],
      "text/plain": [
       "            count       mean        std        min        25%        50%  \\\n",
       "f0       100000.0   0.002023   1.732045  -8.760004  -1.162288   0.009424   \n",
       "f1       100000.0  -0.002081   1.730417  -7.084020  -1.174820  -0.009482   \n",
       "f2       100000.0   2.495128   3.473445 -11.970335   0.130359   2.484236   \n",
       "product  100000.0  95.000000  44.749921   0.000000  59.450441  94.925613   \n",
       "\n",
       "                75%         max  \n",
       "f0         1.158535    7.238262  \n",
       "f1         1.163678    7.844801  \n",
       "f2         4.858794   16.739402  \n",
       "product  130.595027  190.029838  "
      ]
     },
     "metadata": {},
     "output_type": "display_data"
    }
   ],
   "source": [
    "display(df_0.describe().T)\n",
    "display(df_1.describe().T)\n",
    "display(df_2.describe().T)"
   ]
  },
  {
   "cell_type": "markdown",
   "metadata": {},
   "source": [
    "Средние значения f0 и f1 во всех 3х регионах сильно отличаются, а вот средние f2 в регионах похожи, не смотря на то, что max и min значения этого признака в регионе df_1 не похожи на данные df_0 и df_2. Нужно смотреть распределение данных.\n",
    "\n",
    "Средний объём запасов в скважинах (`product`) больше всего в регионе df_2. Но пока это ничего не значит - просто наблюдение.\n",
    "\n",
    "Средние значения (mean) и медианные (50%) во всех признаках близки. Можно сделать вывод, что выбросов нет.\n",
    "\n",
    "Масштаб у признаков сильно отличается. Стандартизируем численные признаки перед обучением."
   ]
  },
  {
   "cell_type": "markdown",
   "metadata": {},
   "source": [
    "#### unique()"
   ]
  },
  {
   "cell_type": "code",
   "execution_count": 7,
   "metadata": {},
   "outputs": [
    {
     "data": {
      "text/plain": [
       "id          99990\n",
       "f0         100000\n",
       "f1         100000\n",
       "f2         100000\n",
       "product    100000\n",
       "dtype: int64"
      ]
     },
     "metadata": {},
     "output_type": "display_data"
    },
    {
     "data": {
      "text/plain": [
       "id          99996\n",
       "f0         100000\n",
       "f1         100000\n",
       "f2         100000\n",
       "product        12\n",
       "dtype: int64"
      ]
     },
     "metadata": {},
     "output_type": "display_data"
    },
    {
     "data": {
      "text/plain": [
       "id          99996\n",
       "f0         100000\n",
       "f1         100000\n",
       "f2         100000\n",
       "product    100000\n",
       "dtype: int64"
      ]
     },
     "metadata": {},
     "output_type": "display_data"
    }
   ],
   "source": [
    "display(df_0.nunique())\n",
    "display(df_1.nunique())\n",
    "display(df_2.nunique())"
   ]
  },
  {
   "cell_type": "markdown",
   "metadata": {},
   "source": [
    "Не все id уникальны. В регионе df_1 всего 12 разных значений в столбце `product`. Возможно, это связано с тем, что данные созданы искусственно."
   ]
  },
  {
   "cell_type": "markdown",
   "metadata": {},
   "source": [
    "#### duplicated()"
   ]
  },
  {
   "cell_type": "code",
   "execution_count": 8,
   "metadata": {},
   "outputs": [
    {
     "data": {
      "text/plain": [
       "0"
      ]
     },
     "metadata": {},
     "output_type": "display_data"
    },
    {
     "data": {
      "text/plain": [
       "0"
      ]
     },
     "metadata": {},
     "output_type": "display_data"
    },
    {
     "data": {
      "text/plain": [
       "0"
      ]
     },
     "metadata": {},
     "output_type": "display_data"
    }
   ],
   "source": [
    "display(df_0.duplicated().sum())\n",
    "display(df_1.duplicated().sum())\n",
    "display(df_2.duplicated().sum())"
   ]
  },
  {
   "cell_type": "markdown",
   "metadata": {},
   "source": [
    "Дубликатов нет. Посмотрим на корреляцию признаков"
   ]
  },
  {
   "cell_type": "markdown",
   "metadata": {},
   "source": [
    "#### corr()"
   ]
  },
  {
   "cell_type": "markdown",
   "metadata": {},
   "source": [
    "**df_0**"
   ]
  },
  {
   "cell_type": "code",
   "execution_count": 9,
   "metadata": {
    "scrolled": false
   },
   "outputs": [],
   "source": [
    "# sns.pairplot(df_0, hue=\"product\"); - очень долго исполняется"
   ]
  },
  {
   "cell_type": "code",
   "execution_count": 10,
   "metadata": {},
   "outputs": [
    {
     "data": {
      "image/png": "[encoded data removed]",
      "text/plain": [
       "<Figure size 1296x720 with 1 Axes>"
      ]
     },
     "metadata": {
      "needs_background": "light"
     },
     "output_type": "display_data"
    }
   ],
   "source": [
    "plt.figure(figsize=(18, 10))\n",
    "sns.heatmap(df_0.corr(), annot=True, cmap='YlGnBu', cbar=False, robust=True, linewidths=.2)\n",
    "plt.show()"
   ]
  },
  {
   "cell_type": "markdown",
   "metadata": {},
   "source": [
    "Наиболее высокий коэффициент у `product` и `f2` (0.48). Корреляция средняя, прямая.\n",
    "\n",
    "У `f0` и `f1` (-0.44). Корреляция среднеслабая, обратная."
   ]
  },
  {
   "cell_type": "markdown",
   "metadata": {},
   "source": [
    "**df_1**"
   ]
  },
  {
   "cell_type": "code",
   "execution_count": 11,
   "metadata": {},
   "outputs": [],
   "source": [
    "# sns.pairplot(df_1, hue=\"product\"); - очень долго исполняется"
   ]
  },
  {
   "cell_type": "code",
   "execution_count": 12,
   "metadata": {},
   "outputs": [
    {
     "data": {
      "image/png": "[encoded data removed]",
      "text/plain": [
       "<Figure size 1296x720 with 1 Axes>"
      ]
     },
     "metadata": {
      "needs_background": "light"
     },
     "output_type": "display_data"
    }
   ],
   "source": [
    "plt.figure(figsize=(18, 10))\n",
    "sns.heatmap(df_1.corr(), annot=True, cmap='YlGnBu', cbar=False, robust=True, linewidths=.2)\n",
    "plt.show()"
   ]
  },
  {
   "cell_type": "markdown",
   "metadata": {},
   "source": [
    "Теперь поятно, по какому принципу заполнены значения `product` в df_1. Определенные значения признака `f2` соответствуют одному из 12 значений `product`. По другим признака корреляция практически отсутствует."
   ]
  },
  {
   "cell_type": "markdown",
   "metadata": {},
   "source": [
    "**df_2**"
   ]
  },
  {
   "cell_type": "code",
   "execution_count": 13,
   "metadata": {},
   "outputs": [],
   "source": [
    "# sns.pairplot(df_2, hue=\"product\"); - очень долго исполняется"
   ]
  },
  {
   "cell_type": "code",
   "execution_count": 14,
   "metadata": {},
   "outputs": [
    {
     "data": {
      "image/png": "[encoded data removed]",
      "text/plain": [
       "<Figure size 1296x720 with 1 Axes>"
      ]
     },
     "metadata": {
      "needs_background": "light"
     },
     "output_type": "display_data"
    }
   ],
   "source": [
    "plt.figure(figsize=(18, 10))\n",
    "sns.heatmap(df_2.corr(), annot=True, cmap='YlGnBu', cbar=False, robust=True, linewidths=.2)\n",
    "plt.show()"
   ]
  },
  {
   "cell_type": "markdown",
   "metadata": {},
   "source": [
    "Корреляция `f2` и `product` в df_2 (0.45) похожа на данные региона df_0 (0.48). По другим признакам корреляция отсутствует."
   ]
  },
  {
   "cell_type": "markdown",
   "metadata": {},
   "source": [
    "## Подготовка данных"
   ]
  },
  {
   "cell_type": "markdown",
   "metadata": {},
   "source": [
    "### Разделение на выборки"
   ]
  },
  {
   "cell_type": "markdown",
   "metadata": {},
   "source": [
    "Т.к. в столбце `product` указан объём запасов в скважинах, примем этот признак, как целевой. Столбец `id` нам, очевидно, не пригодится - влияния на целевой признак не оказывает."
   ]
  },
  {
   "cell_type": "code",
   "execution_count": 15,
   "metadata": {},
   "outputs": [],
   "source": [
    "features_0 = df_0.drop(['id', 'product'], axis=1)\n",
    "features_1 = df_1.drop(['id', 'product'], axis=1)\n",
    "features_2 = df_2.drop(['id', 'product'], axis=1)\n",
    "\n",
    "target_0 = df_0['product']\n",
    "target_1 = df_1['product']\n",
    "target_2 = df_2['product']"
   ]
  },
  {
   "cell_type": "markdown",
   "metadata": {},
   "source": [
    "Выборки разобъём в соотношении: обучающая(75%) и валидационная(25%)"
   ]
  },
  {
   "cell_type": "code",
   "execution_count": 16,
   "metadata": {},
   "outputs": [],
   "source": [
    "features_train_0, features_valid_0, target_train_0, target_valid_0 = train_test_split(\n",
    "    features_0, target_0, test_size=0.25, random_state=12345)\n",
    "\n",
    "features_train_1, features_valid_1, target_train_1, target_valid_1 = train_test_split(\n",
    "    features_1, target_1, test_size=0.25, random_state=12345)\n",
    "\n",
    "features_train_2, features_valid_2, target_train_2, target_valid_2 = train_test_split(\n",
    "    features_2, target_2, test_size=0.25, random_state=12345)"
   ]
  },
  {
   "cell_type": "markdown",
   "metadata": {},
   "source": [
    "Данные разбиты на выборки и масштабированы"
   ]
  },
  {
   "cell_type": "markdown",
   "metadata": {},
   "source": [
    "## Обучение и проверка модели"
   ]
  },
  {
   "cell_type": "markdown",
   "metadata": {},
   "source": [
    "Обучим модели, проверим на валидационных выборках, рассчитаем cредний объём запасов в скважинах и RMSE модели. \n",
    "\n",
    "По условию: Для обучения модели подходит только линейная регрессия"
   ]
  },
  {
   "cell_type": "code",
   "execution_count": 17,
   "metadata": {},
   "outputs": [],
   "source": [
    "def train_the_model(features_train, target_train, features_valid, target_valid):\n",
    "    model = LinearRegression()\n",
    "    model.fit(features_train, target_train)\n",
    "    predictions_valid = model.predict(features_valid)\n",
    "    predictions_valid = pd.Series(data=predictions_valid, index=target_valid.index)\n",
    "    rmse = mean_squared_error(target_valid, predictions_valid, squared=False)\n",
    "    predictions_mean = predictions_valid.mean()\n",
    "            \n",
    "    return predictions_valid, predictions_mean, rmse"
   ]
  },
  {
   "cell_type": "code",
   "execution_count": 18,
   "metadata": {},
   "outputs": [
    {
     "name": "stdout",
     "output_type": "stream",
     "text": [
      "Средний запас предсказанного сырья:92.59, RMSE модели:37.58\n"
     ]
    }
   ],
   "source": [
    "predictions_valid_0, predictions_mean_0, rmse_0 = train_the_model(features_train_0, target_train_0, features_valid_0, target_valid_0)\n",
    "predictions_valid_df_0 = pd.Series(data=predictions_valid_0, index=target_valid_0.index)\n",
    "print('Средний запас предсказанного сырья:{:.2f}, RMSE модели:{:.2f}'.format(predictions_mean_0, rmse_0))"
   ]
  },
  {
   "cell_type": "code",
   "execution_count": 19,
   "metadata": {},
   "outputs": [
    {
     "name": "stdout",
     "output_type": "stream",
     "text": [
      "Средний запас предсказанного сырья:68.73, RMSE модели:0.89\n"
     ]
    }
   ],
   "source": [
    "predictions_valid_1, predictions_mean_1, rmse_1 = train_the_model(features_train_1, target_train_1, features_valid_1, target_valid_1)\n",
    "predictions_valid_df_1 = pd.Series(data=predictions_valid_1, index=target_valid_1.index)\n",
    "print('Средний запас предсказанного сырья:{:.2f}, RMSE модели:{:.2f}'.format(predictions_mean_1, rmse_1))"
   ]
  },
  {
   "cell_type": "code",
   "execution_count": 20,
   "metadata": {},
   "outputs": [
    {
     "name": "stdout",
     "output_type": "stream",
     "text": [
      "Средний запас предсказанного сырья:92.59, RMSE модели:37.58\n"
     ]
    }
   ],
   "source": [
    "predictions_valid_2, predictions_mean_2, rmse_2 = train_the_model(features_train_2, target_train_2, features_valid_2, target_valid_2)\n",
    "predictions_valid_df_2 = pd.Series(data=predictions_valid_2, index=target_valid_2.index)\n",
    "print('Средний запас предсказанного сырья:{:.2f}, RMSE модели:{:.2f}'.format(predictions_mean_0, rmse_0))"
   ]
  },
  {
   "cell_type": "markdown",
   "metadata": {},
   "source": [
    "Сравним средние на валидационных выборках со средними истинными значениями"
   ]
  },
  {
   "cell_type": "code",
   "execution_count": 21,
   "metadata": {},
   "outputs": [
    {
     "data": {
      "text/html": [
       "<div>\n",
       "<style scoped>\n",
       "    .dataframe tbody tr th:only-of-type {\n",
       "        vertical-align: middle;\n",
       "    }\n",
       "\n",
       "    .dataframe tbody tr th {\n",
       "        vertical-align: top;\n",
       "    }\n",
       "\n",
       "    .dataframe thead th {\n",
       "        text-align: right;\n",
       "    }\n",
       "</style>\n",
       "<table border=\"1\" class=\"dataframe\">\n",
       "  <thead>\n",
       "    <tr style=\"text-align: right;\">\n",
       "      <th></th>\n",
       "      <th>count</th>\n",
       "      <th>mean</th>\n",
       "      <th>std</th>\n",
       "      <th>min</th>\n",
       "      <th>25%</th>\n",
       "      <th>50%</th>\n",
       "      <th>75%</th>\n",
       "      <th>max</th>\n",
       "    </tr>\n",
       "  </thead>\n",
       "  <tbody>\n",
       "    <tr>\n",
       "      <th>f0</th>\n",
       "      <td>100000.0</td>\n",
       "      <td>0.500419</td>\n",
       "      <td>0.871832</td>\n",
       "      <td>-1.408605</td>\n",
       "      <td>-0.072580</td>\n",
       "      <td>0.502360</td>\n",
       "      <td>1.073581</td>\n",
       "      <td>2.362331</td>\n",
       "    </tr>\n",
       "    <tr>\n",
       "      <th>f1</th>\n",
       "      <td>100000.0</td>\n",
       "      <td>0.250143</td>\n",
       "      <td>0.504433</td>\n",
       "      <td>-0.848218</td>\n",
       "      <td>-0.200881</td>\n",
       "      <td>0.250252</td>\n",
       "      <td>0.700646</td>\n",
       "      <td>1.343769</td>\n",
       "    </tr>\n",
       "    <tr>\n",
       "      <th>f2</th>\n",
       "      <td>100000.0</td>\n",
       "      <td>2.502647</td>\n",
       "      <td>3.248248</td>\n",
       "      <td>-12.088328</td>\n",
       "      <td>0.287748</td>\n",
       "      <td>2.515969</td>\n",
       "      <td>4.715088</td>\n",
       "      <td>16.003790</td>\n",
       "    </tr>\n",
       "    <tr>\n",
       "      <th>product</th>\n",
       "      <td>100000.0</td>\n",
       "      <td>92.500000</td>\n",
       "      <td>44.288691</td>\n",
       "      <td>0.000000</td>\n",
       "      <td>56.497507</td>\n",
       "      <td>91.849972</td>\n",
       "      <td>128.564089</td>\n",
       "      <td>185.364347</td>\n",
       "    </tr>\n",
       "  </tbody>\n",
       "</table>\n",
       "</div>"
      ],
      "text/plain": [
       "            count       mean        std        min        25%        50%  \\\n",
       "f0       100000.0   0.500419   0.871832  -1.408605  -0.072580   0.502360   \n",
       "f1       100000.0   0.250143   0.504433  -0.848218  -0.200881   0.250252   \n",
       "f2       100000.0   2.502647   3.248248 -12.088328   0.287748   2.515969   \n",
       "product  100000.0  92.500000  44.288691   0.000000  56.497507  91.849972   \n",
       "\n",
       "                75%         max  \n",
       "f0         1.073581    2.362331  \n",
       "f1         0.700646    1.343769  \n",
       "f2         4.715088   16.003790  \n",
       "product  128.564089  185.364347  "
      ]
     },
     "metadata": {},
     "output_type": "display_data"
    },
    {
     "data": {
      "text/html": [
       "<div>\n",
       "<style scoped>\n",
       "    .dataframe tbody tr th:only-of-type {\n",
       "        vertical-align: middle;\n",
       "    }\n",
       "\n",
       "    .dataframe tbody tr th {\n",
       "        vertical-align: top;\n",
       "    }\n",
       "\n",
       "    .dataframe thead th {\n",
       "        text-align: right;\n",
       "    }\n",
       "</style>\n",
       "<table border=\"1\" class=\"dataframe\">\n",
       "  <thead>\n",
       "    <tr style=\"text-align: right;\">\n",
       "      <th></th>\n",
       "      <th>count</th>\n",
       "      <th>mean</th>\n",
       "      <th>std</th>\n",
       "      <th>min</th>\n",
       "      <th>25%</th>\n",
       "      <th>50%</th>\n",
       "      <th>75%</th>\n",
       "      <th>max</th>\n",
       "    </tr>\n",
       "  </thead>\n",
       "  <tbody>\n",
       "    <tr>\n",
       "      <th>f0</th>\n",
       "      <td>100000.0</td>\n",
       "      <td>1.141296</td>\n",
       "      <td>8.965932</td>\n",
       "      <td>-31.609576</td>\n",
       "      <td>-6.298551</td>\n",
       "      <td>1.153055</td>\n",
       "      <td>8.621015</td>\n",
       "      <td>29.421755</td>\n",
       "    </tr>\n",
       "    <tr>\n",
       "      <th>f1</th>\n",
       "      <td>100000.0</td>\n",
       "      <td>-4.796579</td>\n",
       "      <td>5.119872</td>\n",
       "      <td>-26.358598</td>\n",
       "      <td>-8.267985</td>\n",
       "      <td>-4.813172</td>\n",
       "      <td>-1.332816</td>\n",
       "      <td>18.734063</td>\n",
       "    </tr>\n",
       "    <tr>\n",
       "      <th>f2</th>\n",
       "      <td>100000.0</td>\n",
       "      <td>2.494541</td>\n",
       "      <td>1.703572</td>\n",
       "      <td>-0.018144</td>\n",
       "      <td>1.000021</td>\n",
       "      <td>2.011479</td>\n",
       "      <td>3.999904</td>\n",
       "      <td>5.019721</td>\n",
       "    </tr>\n",
       "    <tr>\n",
       "      <th>product</th>\n",
       "      <td>100000.0</td>\n",
       "      <td>68.825000</td>\n",
       "      <td>45.944423</td>\n",
       "      <td>0.000000</td>\n",
       "      <td>26.953261</td>\n",
       "      <td>57.085625</td>\n",
       "      <td>107.813044</td>\n",
       "      <td>137.945408</td>\n",
       "    </tr>\n",
       "  </tbody>\n",
       "</table>\n",
       "</div>"
      ],
      "text/plain": [
       "            count       mean        std        min        25%        50%  \\\n",
       "f0       100000.0   1.141296   8.965932 -31.609576  -6.298551   1.153055   \n",
       "f1       100000.0  -4.796579   5.119872 -26.358598  -8.267985  -4.813172   \n",
       "f2       100000.0   2.494541   1.703572  -0.018144   1.000021   2.011479   \n",
       "product  100000.0  68.825000  45.944423   0.000000  26.953261  57.085625   \n",
       "\n",
       "                75%         max  \n",
       "f0         8.621015   29.421755  \n",
       "f1        -1.332816   18.734063  \n",
       "f2         3.999904    5.019721  \n",
       "product  107.813044  137.945408  "
      ]
     },
     "metadata": {},
     "output_type": "display_data"
    },
    {
     "data": {
      "text/html": [
       "<div>\n",
       "<style scoped>\n",
       "    .dataframe tbody tr th:only-of-type {\n",
       "        vertical-align: middle;\n",
       "    }\n",
       "\n",
       "    .dataframe tbody tr th {\n",
       "        vertical-align: top;\n",
       "    }\n",
       "\n",
       "    .dataframe thead th {\n",
       "        text-align: right;\n",
       "    }\n",
       "</style>\n",
       "<table border=\"1\" class=\"dataframe\">\n",
       "  <thead>\n",
       "    <tr style=\"text-align: right;\">\n",
       "      <th></th>\n",
       "      <th>count</th>\n",
       "      <th>mean</th>\n",
       "      <th>std</th>\n",
       "      <th>min</th>\n",
       "      <th>25%</th>\n",
       "      <th>50%</th>\n",
       "      <th>75%</th>\n",
       "      <th>max</th>\n",
       "    </tr>\n",
       "  </thead>\n",
       "  <tbody>\n",
       "    <tr>\n",
       "      <th>f0</th>\n",
       "      <td>100000.0</td>\n",
       "      <td>0.002023</td>\n",
       "      <td>1.732045</td>\n",
       "      <td>-8.760004</td>\n",
       "      <td>-1.162288</td>\n",
       "      <td>0.009424</td>\n",
       "      <td>1.158535</td>\n",
       "      <td>7.238262</td>\n",
       "    </tr>\n",
       "    <tr>\n",
       "      <th>f1</th>\n",
       "      <td>100000.0</td>\n",
       "      <td>-0.002081</td>\n",
       "      <td>1.730417</td>\n",
       "      <td>-7.084020</td>\n",
       "      <td>-1.174820</td>\n",
       "      <td>-0.009482</td>\n",
       "      <td>1.163678</td>\n",
       "      <td>7.844801</td>\n",
       "    </tr>\n",
       "    <tr>\n",
       "      <th>f2</th>\n",
       "      <td>100000.0</td>\n",
       "      <td>2.495128</td>\n",
       "      <td>3.473445</td>\n",
       "      <td>-11.970335</td>\n",
       "      <td>0.130359</td>\n",
       "      <td>2.484236</td>\n",
       "      <td>4.858794</td>\n",
       "      <td>16.739402</td>\n",
       "    </tr>\n",
       "    <tr>\n",
       "      <th>product</th>\n",
       "      <td>100000.0</td>\n",
       "      <td>95.000000</td>\n",
       "      <td>44.749921</td>\n",
       "      <td>0.000000</td>\n",
       "      <td>59.450441</td>\n",
       "      <td>94.925613</td>\n",
       "      <td>130.595027</td>\n",
       "      <td>190.029838</td>\n",
       "    </tr>\n",
       "  </tbody>\n",
       "</table>\n",
       "</div>"
      ],
      "text/plain": [
       "            count       mean        std        min        25%        50%  \\\n",
       "f0       100000.0   0.002023   1.732045  -8.760004  -1.162288   0.009424   \n",
       "f1       100000.0  -0.002081   1.730417  -7.084020  -1.174820  -0.009482   \n",
       "f2       100000.0   2.495128   3.473445 -11.970335   0.130359   2.484236   \n",
       "product  100000.0  95.000000  44.749921   0.000000  59.450441  94.925613   \n",
       "\n",
       "                75%         max  \n",
       "f0         1.158535    7.238262  \n",
       "f1         1.163678    7.844801  \n",
       "f2         4.858794   16.739402  \n",
       "product  130.595027  190.029838  "
      ]
     },
     "metadata": {},
     "output_type": "display_data"
    }
   ],
   "source": [
    "display(df_0.describe().T)\n",
    "display(df_1.describe().T)\n",
    "display(df_2.describe().T)"
   ]
  },
  {
   "cell_type": "markdown",
   "metadata": {},
   "source": [
    "Наилучший прогноз у региона df_1 (RMSE модели: 0.89). Скорее всего это связано в прямой корреляцией целевого признака с признаком f2.\n",
    "\n",
    "Предсказанные средние запасы сырья на валидационных выборках очень близки к истинным средним. Получили хорошую адекватную модель."
   ]
  },
  {
   "cell_type": "markdown",
   "metadata": {},
   "source": [
    "## Подготовка к расчёту прибыли"
   ]
  },
  {
   "cell_type": "markdown",
   "metadata": {},
   "source": [
    "Рассчитаем достаточный объём сырья для безубыточной разработки новой скважины. Для этого:\n",
    "\n",
    "1. Рассчитаем средний бюджет на 1 скважену\n",
    "\n",
    "2. Разделим средний бюджет на 1 скважену на доход с каждой единицы продукта"
   ]
  },
  {
   "cell_type": "code",
   "execution_count": 22,
   "metadata": {},
   "outputs": [
    {
     "data": {
      "text/plain": [
       "111.11"
      ]
     },
     "execution_count": 22,
     "metadata": {},
     "output_type": "execute_result"
    }
   ],
   "source": [
    "min_volume_oil = BUDGET / BEST_WELLS_COUNT / REVENUE_PER_BARREL\n",
    "np.round(min_volume_oil, decimals = 2)"
   ]
  },
  {
   "cell_type": "markdown",
   "metadata": {},
   "source": [
    "Минимальный объём сырья для безубыточной разработки новой скважины: 111 тыс баррелей. \n",
    "\n",
    "Средние значения по каждому представленному региону нниже этой отметки (`df_0`: 92.50, `df_1`: 68.82, `df_2`: 95.00). Это говорит о том, что цена ошибки модели будет высока, т.к. большая часть исследуемых скважен окажется убыточной."
   ]
  },
  {
   "cell_type": "markdown",
   "metadata": {},
   "source": [
    "## Расчёт прибыли и рисков "
   ]
  },
  {
   "cell_type": "markdown",
   "metadata": {},
   "source": [
    "### Рассчитаем прибыль от выбранных скважин"
   ]
  },
  {
   "cell_type": "markdown",
   "metadata": {},
   "source": [
    "Напишем функцию для расчёта прибыли по выбранным скважинам и предсказаниям модели:"
   ]
  },
  {
   "cell_type": "code",
   "execution_count": 23,
   "metadata": {},
   "outputs": [],
   "source": [
    "def best_profit(target, predictions):\n",
    "    best_wells = predictions.sort_values(ascending=False) # скважины с максимальными значениями предсказаний\n",
    "    target_values = target[best_wells.index][:BEST_WELLS_COUNT] # целевые значения объёма сырья, соответствующие предсказаниям\n",
    "    income = target_values.sum() * REVENUE_PER_BARREL - BUDGET # чистая прибыль с учетом затрат \n",
    "    return income"
   ]
  },
  {
   "cell_type": "markdown",
   "metadata": {},
   "source": [
    "Применим функцию для наших регионов"
   ]
  },
  {
   "cell_type": "code",
   "execution_count": 24,
   "metadata": {
    "scrolled": false
   },
   "outputs": [
    {
     "name": "stdout",
     "output_type": "stream",
     "text": [
      "Прибыль для региона df_0: 3320826043.14 руб.\n",
      "Прибыль для региона df_1: 2415086696.68 руб.\n",
      "Прибыль для региона df_2: 2710349963.60 руб.\n"
     ]
    }
   ],
   "source": [
    "print('Прибыль для региона df_0: {:.2f} руб.'.format(best_profit(target_valid_0, predictions_valid_0)))\n",
    "print('Прибыль для региона df_1: {:.2f} руб.'.format(best_profit(target_valid_1, predictions_valid_1)))\n",
    "print('Прибыль для региона df_2: {:.2f} руб.'.format(best_profit(target_valid_2, predictions_valid_2)))"
   ]
  },
  {
   "cell_type": "markdown",
   "metadata": {},
   "source": [
    "Не смотря на то, что предсказанные и истенные средние меньше минимального объёма сырья для безубыточной разработки, предсказана положительная прибыль для всех регионов по выбранным 200 самых прибыльных скважен."
   ]
  },
  {
   "cell_type": "markdown",
   "metadata": {},
   "source": [
    "### Рассчитаем риски и прибыль для каждого региона:"
   ]
  },
  {
   "cell_type": "markdown",
   "metadata": {},
   "source": [
    "Применим технику Bootstrap с 1000 выборок, чтобы найти распределение прибыли."
   ]
  },
  {
   "cell_type": "code",
   "execution_count": 25,
   "metadata": {},
   "outputs": [],
   "source": [
    "def profit_distribution(target, predictions):\n",
    "    state = np.random.RandomState(12345)\n",
    "    \n",
    "    values = []\n",
    "    for i in range(1000):\n",
    "        target_subsample = target.sample(n=WELLS_EXPLORATION_COUNT, replace=True, random_state=state)\n",
    "        pred_subsample = predictions[target_subsample.index]\n",
    "        target_subsample = target_subsample.reset_index(drop=True)\n",
    "        pred_subsample = pred_subsample.reset_index(drop=True)\n",
    "\n",
    "        values.append(best_profit(target_subsample, pred_subsample))\n",
    "    values = pd.Series(values)\n",
    "\n",
    "    print('Средняя прибыль: {:.2f} руб.'.format(values.mean()))\n",
    "    print('0.025й квантиль: {:.2f} руб.'.format(values.quantile(0.025)))\n",
    "    print('0.975й квантиль: {:.2f} руб.'.format(values.quantile(0.975)))\n",
    "    print('Вероятность убытков: {:.2%}'.format((values < 0).mean()))"
   ]
  },
  {
   "cell_type": "code",
   "execution_count": 26,
   "metadata": {
    "scrolled": true
   },
   "outputs": [
    {
     "name": "stdout",
     "output_type": "stream",
     "text": [
      "Регион: df_0\n",
      "Средняя прибыль: 396164984.80 руб.\n",
      "0.025й квантиль: -111215545.89 руб.\n",
      "0.975й квантиль: 909766941.55 руб.\n",
      "Вероятность убытков: 6.90%\n",
      "None\n"
     ]
    }
   ],
   "source": [
    "print('Регион: df_0')\n",
    "print(profit_distribution(target_valid_0, predictions_valid_0))"
   ]
  },
  {
   "cell_type": "code",
   "execution_count": 27,
   "metadata": {
    "scrolled": false
   },
   "outputs": [
    {
     "name": "stdout",
     "output_type": "stream",
     "text": [
      "Регион: df_1\n",
      "Средняя прибыль: 456045105.79 руб.\n",
      "0.025й квантиль: 33820509.40 руб.\n",
      "0.975й квантиль: 852289453.87 руб.\n",
      "Вероятность убытков: 1.50%\n",
      "None\n"
     ]
    }
   ],
   "source": [
    "print('Регион: df_1')\n",
    "print(profit_distribution(target_valid_1, predictions_valid_1))"
   ]
  },
  {
   "cell_type": "code",
   "execution_count": 28,
   "metadata": {},
   "outputs": [
    {
     "name": "stdout",
     "output_type": "stream",
     "text": [
      "Регион: df_2\n",
      "Средняя прибыль: 404403866.57 руб.\n",
      "0.025й квантиль: -163350413.40 руб.\n",
      "0.975й квантиль: 950359574.92 руб.\n",
      "Вероятность убытков: 7.60%\n",
      "None\n"
     ]
    }
   ],
   "source": [
    "print('Регион: df_2')\n",
    "print(profit_distribution(target_valid_2, predictions_valid_2))"
   ]
  },
  {
   "cell_type": "markdown",
   "metadata": {},
   "source": [
    "Единственный регион, для которого вероятность убытков меньше 2,5% - это регион **df_1**(1.50%). У данного региона, так же, самый высой показатель средней прибыли и положительный результат даже на 0.025 квантиле."
   ]
  },
  {
   "cell_type": "markdown",
   "metadata": {},
   "source": [
    "## Вывод"
   ]
  },
  {
   "cell_type": "markdown",
   "metadata": {},
   "source": [
    "1. Изучили данные: \n",
    "    - Пропусков, дубликатов и выбросов в данных нет.\n",
    "    \n",
    "    - Признак f2 в df_1 имеет сильную прямую корреляцию с целевым признаком (1.0). По остальным признакам во всех датасетах корреляция слабая средняя или отсутствует.\n",
    "    \n",
    "\n",
    "2. Подготовили данные: Стандартизировали численные признаки:\n",
    "    - Данные разбиты на выборки и масштабированы.\n",
    "    \n",
    "\n",
    "3. Модели обучены (LinearRegression) и проверены на валидационных выборках.\n",
    "    - Посчитаны средние запасы предсказанного сырья и rmse для всех 3х регионов. \n",
    "    \n",
    "    - Наилучший прогноз у региона df_1 (RMSE модели: 0.89)\n",
    "    \n",
    "    - Предсказанные средние запасы сырья на валидационных выборках очень близки к истинным средним. Получили хорошую адекватную модель.\n",
    "    \n",
    "\n",
    "4. Проведена подготовка к расчёту прибыли.\n",
    "    - Ключевые значения для расчётов сохранины в отдельных переменных\n",
    "    \n",
    "    - Рассчитан достаточный объём сырья для безубыточной разработки новой скважины: 111 тыс баррелей.\n",
    "    \n",
    "    - Написали функцию для расчёта прибыли по выбранным 200 самым прибыльным скважинам и предсказаниям модели. \n",
    "        \n",
    "        *Прибыль для региона df_0: 3_320_826_043.14 руб.*\n",
    "        \n",
    "        *Прибыль для региона df_1: 2_415_086_696.68 руб.*\n",
    "        \n",
    "        *Прибыль для региона df_2: 2_710_349_963.60 руб.*\n",
    "        \n",
    "\n",
    "5. Рассчитаем риски и прибыль для каждого региона:\n",
    "    - Проведена процедура Bootstrap\n",
    "    \n",
    "    - Наилучшие показатели у региона **df_1. Данный регион рекомендован для hазработки месторождения.** Его показатели:\n",
    "    \n",
    "        *Средняя прибыль: 456_045_105.79 руб.*\n",
    "\n",
    "        *0.025-й квантиль: 33_820_509.40 руб.*\n",
    "\n",
    "        *0.975-й квантиль: 852_289_453.87 руб.*\n",
    "\n",
    "        *Вероятность убытков: 1.50%*"
   ]
  }
 ],
 "metadata": {
  "ExecuteTimeLog": [
   {
    "duration": 1685,
    "start_time": "2022-11-07T08:01:07.179Z"
   },
   {
    "duration": 637,
    "start_time": "2022-11-07T08:01:08.866Z"
   },
   {
    "duration": 18,
    "start_time": "2022-11-07T08:01:34.697Z"
   },
   {
    "duration": 12,
    "start_time": "2022-11-07T08:01:36.972Z"
   },
   {
    "duration": 9,
    "start_time": "2022-11-07T08:01:37.314Z"
   },
   {
    "duration": 5,
    "start_time": "2022-11-07T08:05:48.359Z"
   },
   {
    "duration": 17,
    "start_time": "2022-11-07T08:09:55.336Z"
   },
   {
    "duration": 37,
    "start_time": "2022-11-07T08:09:56.377Z"
   },
   {
    "duration": 106,
    "start_time": "2022-11-07T08:13:10.117Z"
   },
   {
    "duration": 12,
    "start_time": "2022-11-07T08:13:21.743Z"
   },
   {
    "duration": 9,
    "start_time": "2022-11-07T08:13:24.435Z"
   },
   {
    "duration": 11,
    "start_time": "2022-11-07T08:13:36.561Z"
   },
   {
    "duration": 39,
    "start_time": "2022-11-07T08:14:38.287Z"
   },
   {
    "duration": 46,
    "start_time": "2022-11-07T08:15:17.010Z"
   },
   {
    "duration": 5,
    "start_time": "2022-11-07T08:17:18.212Z"
   },
   {
    "duration": 369,
    "start_time": "2022-11-07T08:17:18.638Z"
   },
   {
    "duration": 11,
    "start_time": "2022-11-07T08:17:19.010Z"
   },
   {
    "duration": 10,
    "start_time": "2022-11-07T08:17:19.589Z"
   },
   {
    "duration": 15,
    "start_time": "2022-11-07T08:17:19.785Z"
   },
   {
    "duration": 38,
    "start_time": "2022-11-07T08:17:19.984Z"
   },
   {
    "duration": 40,
    "start_time": "2022-11-07T08:17:20.153Z"
   },
   {
    "duration": 41,
    "start_time": "2022-11-07T08:17:20.831Z"
   },
   {
    "duration": 46,
    "start_time": "2022-11-07T08:18:44.541Z"
   },
   {
    "duration": 10,
    "start_time": "2022-11-07T08:19:28.569Z"
   },
   {
    "duration": 14,
    "start_time": "2022-11-07T08:19:28.828Z"
   },
   {
    "duration": 39,
    "start_time": "2022-11-07T08:19:29.011Z"
   },
   {
    "duration": 36,
    "start_time": "2022-11-07T08:19:30.021Z"
   },
   {
    "duration": 38,
    "start_time": "2022-11-07T08:19:30.419Z"
   },
   {
    "duration": 14,
    "start_time": "2022-11-07T08:21:36.533Z"
   },
   {
    "duration": 37,
    "start_time": "2022-11-07T08:21:36.758Z"
   },
   {
    "duration": 44,
    "start_time": "2022-11-07T08:21:36.936Z"
   },
   {
    "duration": 41,
    "start_time": "2022-11-07T08:21:37.132Z"
   },
   {
    "duration": 2489,
    "start_time": "2022-11-07T09:06:10.521Z"
   },
   {
    "duration": 434790,
    "start_time": "2022-11-07T09:06:43.510Z"
   },
   {
    "duration": 263,
    "start_time": "2022-11-07T09:15:19.026Z"
   },
   {
    "duration": 279,
    "start_time": "2022-11-07T09:21:16.380Z"
   },
   {
    "duration": 286,
    "start_time": "2022-11-07T09:25:31.193Z"
   },
   {
    "duration": 29578,
    "start_time": "2022-11-07T09:28:09.264Z"
   },
   {
    "duration": 436942,
    "start_time": "2022-11-07T09:30:54.543Z"
   },
   {
    "duration": 24,
    "start_time": "2022-11-07T09:44:06.693Z"
   },
   {
    "duration": 35,
    "start_time": "2022-11-07T09:44:36.717Z"
   },
   {
    "duration": 105,
    "start_time": "2022-11-07T09:45:20.885Z"
   },
   {
    "duration": 103,
    "start_time": "2022-11-07T09:45:56.398Z"
   },
   {
    "duration": 110,
    "start_time": "2022-11-07T09:46:48.370Z"
   },
   {
    "duration": 7,
    "start_time": "2022-11-07T09:54:28.599Z"
   },
   {
    "duration": 254,
    "start_time": "2022-11-07T09:57:10.625Z"
   },
   {
    "duration": 25,
    "start_time": "2022-11-07T09:59:53.918Z"
   },
   {
    "duration": 53,
    "start_time": "2022-11-08T06:22:05.390Z"
   },
   {
    "duration": 1834,
    "start_time": "2022-11-08T06:22:15.990Z"
   },
   {
    "duration": 1000,
    "start_time": "2022-11-08T06:22:17.826Z"
   },
   {
    "duration": 36,
    "start_time": "2022-11-08T06:22:18.828Z"
   },
   {
    "duration": 50,
    "start_time": "2022-11-08T06:22:18.874Z"
   },
   {
    "duration": 173,
    "start_time": "2022-11-08T06:22:18.926Z"
   },
   {
    "duration": 161,
    "start_time": "2022-11-08T06:22:19.101Z"
   },
   {
    "duration": 183,
    "start_time": "2022-11-08T06:22:19.272Z"
   },
   {
    "duration": 466973,
    "start_time": "2022-11-08T06:22:19.457Z"
   },
   {
    "duration": 326,
    "start_time": "2022-11-08T06:30:06.432Z"
   },
   {
    "duration": 33426,
    "start_time": "2022-11-08T06:30:06.761Z"
   },
   {
    "duration": 355,
    "start_time": "2022-11-08T06:30:40.190Z"
   },
   {
    "duration": 474110,
    "start_time": "2022-11-08T06:30:40.547Z"
   },
   {
    "duration": 329,
    "start_time": "2022-11-08T06:38:34.659Z"
   },
   {
    "duration": 7,
    "start_time": "2022-11-08T06:38:34.990Z"
   },
   {
    "duration": 28,
    "start_time": "2022-11-08T06:38:34.999Z"
   },
   {
    "duration": 3,
    "start_time": "2022-11-08T06:38:35.029Z"
   },
   {
    "duration": 148,
    "start_time": "2022-11-08T06:38:35.034Z"
   },
   {
    "duration": 0,
    "start_time": "2022-11-08T06:38:35.183Z"
   },
   {
    "duration": 0,
    "start_time": "2022-11-08T06:38:35.185Z"
   },
   {
    "duration": 0,
    "start_time": "2022-11-08T06:38:35.187Z"
   },
   {
    "duration": 0,
    "start_time": "2022-11-08T06:38:35.188Z"
   },
   {
    "duration": 0,
    "start_time": "2022-11-08T06:38:35.191Z"
   },
   {
    "duration": 19,
    "start_time": "2022-11-08T06:42:01.127Z"
   },
   {
    "duration": 18,
    "start_time": "2022-11-08T06:42:04.746Z"
   },
   {
    "duration": 5,
    "start_time": "2022-11-08T06:42:06.578Z"
   },
   {
    "duration": 10,
    "start_time": "2022-11-08T06:42:06.818Z"
   },
   {
    "duration": 9,
    "start_time": "2022-11-08T06:42:07.039Z"
   },
   {
    "duration": 99,
    "start_time": "2022-11-08T06:42:57.675Z"
   },
   {
    "duration": 20,
    "start_time": "2022-11-08T06:43:18.946Z"
   },
   {
    "duration": 22,
    "start_time": "2022-11-08T06:43:19.962Z"
   },
   {
    "duration": 14,
    "start_time": "2022-11-08T06:43:20.400Z"
   },
   {
    "duration": 22,
    "start_time": "2022-11-08T07:54:30.460Z"
   },
   {
    "duration": 59,
    "start_time": "2022-11-08T07:58:48.112Z"
   },
   {
    "duration": 16,
    "start_time": "2022-11-08T07:58:49.258Z"
   },
   {
    "duration": 11,
    "start_time": "2022-11-08T08:21:17.917Z"
   },
   {
    "duration": 157,
    "start_time": "2022-11-08T08:23:10.568Z"
   },
   {
    "duration": 12,
    "start_time": "2022-11-08T09:14:54.525Z"
   },
   {
    "duration": 77,
    "start_time": "2022-11-08T09:14:56.709Z"
   },
   {
    "duration": 4,
    "start_time": "2022-11-08T09:15:02.080Z"
   },
   {
    "duration": 5,
    "start_time": "2022-11-08T09:15:03.496Z"
   },
   {
    "duration": 5,
    "start_time": "2022-11-08T09:22:26.445Z"
   },
   {
    "duration": 11,
    "start_time": "2022-11-08T09:23:59.889Z"
   },
   {
    "duration": 12,
    "start_time": "2022-11-08T09:24:04.633Z"
   },
   {
    "duration": 13,
    "start_time": "2022-11-08T09:25:06.386Z"
   },
   {
    "duration": 4,
    "start_time": "2022-11-08T09:26:15.870Z"
   },
   {
    "duration": 3,
    "start_time": "2022-11-08T09:29:07.958Z"
   },
   {
    "duration": 4,
    "start_time": "2022-11-08T09:29:10.408Z"
   },
   {
    "duration": 5,
    "start_time": "2022-11-08T09:29:10.868Z"
   },
   {
    "duration": 6,
    "start_time": "2022-11-08T09:56:20.497Z"
   },
   {
    "duration": 11,
    "start_time": "2022-11-08T10:01:53.185Z"
   },
   {
    "duration": 10,
    "start_time": "2022-11-08T10:02:16.757Z"
   },
   {
    "duration": 8,
    "start_time": "2022-11-08T10:02:36.930Z"
   },
   {
    "duration": 13,
    "start_time": "2022-11-08T10:04:04.419Z"
   },
   {
    "duration": 114,
    "start_time": "2022-11-08T10:07:16.658Z"
   },
   {
    "duration": 6,
    "start_time": "2022-11-08T10:07:24.505Z"
   },
   {
    "duration": 10,
    "start_time": "2022-11-08T10:10:28.376Z"
   },
   {
    "duration": 11,
    "start_time": "2022-11-08T10:10:40.836Z"
   },
   {
    "duration": 12,
    "start_time": "2022-11-08T10:10:49.317Z"
   },
   {
    "duration": 10,
    "start_time": "2022-11-08T10:10:56.864Z"
   },
   {
    "duration": 23,
    "start_time": "2022-11-08T10:11:09.563Z"
   },
   {
    "duration": 10,
    "start_time": "2022-11-08T10:11:26.178Z"
   },
   {
    "duration": 14,
    "start_time": "2022-11-08T10:12:17.299Z"
   },
   {
    "duration": 4,
    "start_time": "2022-11-08T10:12:22.978Z"
   },
   {
    "duration": 7,
    "start_time": "2022-11-08T10:12:29.938Z"
   },
   {
    "duration": 11,
    "start_time": "2022-11-08T10:12:36.296Z"
   },
   {
    "duration": 10,
    "start_time": "2022-11-08T10:13:42.860Z"
   },
   {
    "duration": 15,
    "start_time": "2022-11-08T10:15:39.667Z"
   },
   {
    "duration": 5,
    "start_time": "2022-11-08T10:16:10.624Z"
   },
   {
    "duration": 76,
    "start_time": "2022-11-08T10:20:31.494Z"
   },
   {
    "duration": 8,
    "start_time": "2022-11-08T10:21:12.568Z"
   },
   {
    "duration": 12,
    "start_time": "2022-11-08T10:21:18.041Z"
   },
   {
    "duration": 9,
    "start_time": "2022-11-08T10:22:10.892Z"
   },
   {
    "duration": 10,
    "start_time": "2022-11-08T10:23:15.267Z"
   },
   {
    "duration": 5,
    "start_time": "2022-11-08T10:42:16.615Z"
   },
   {
    "duration": 3,
    "start_time": "2022-11-08T10:49:06.967Z"
   },
   {
    "duration": 69,
    "start_time": "2022-11-08T10:54:10.857Z"
   },
   {
    "duration": 10,
    "start_time": "2022-11-08T10:54:28.329Z"
   },
   {
    "duration": 24,
    "start_time": "2022-11-08T10:56:16.472Z"
   },
   {
    "duration": 42,
    "start_time": "2022-11-08T10:57:33.639Z"
   },
   {
    "duration": 20,
    "start_time": "2022-11-08T10:57:37.241Z"
   },
   {
    "duration": 8,
    "start_time": "2022-11-08T10:59:08.127Z"
   },
   {
    "duration": 26,
    "start_time": "2022-11-08T10:59:08.526Z"
   },
   {
    "duration": 3,
    "start_time": "2022-11-08T10:59:08.907Z"
   },
   {
    "duration": 18,
    "start_time": "2022-11-08T10:59:09.108Z"
   },
   {
    "duration": 19,
    "start_time": "2022-11-08T10:59:09.454Z"
   },
   {
    "duration": 3,
    "start_time": "2022-11-08T10:59:10.416Z"
   },
   {
    "duration": 53,
    "start_time": "2022-11-08T10:59:10.421Z"
   },
   {
    "duration": 109,
    "start_time": "2022-11-08T10:59:10.479Z"
   },
   {
    "duration": 111,
    "start_time": "2022-11-08T10:59:10.674Z"
   },
   {
    "duration": 124,
    "start_time": "2022-11-08T10:59:11.263Z"
   },
   {
    "duration": 3,
    "start_time": "2022-11-08T10:59:12.126Z"
   },
   {
    "duration": 6,
    "start_time": "2022-11-08T10:59:12.572Z"
   },
   {
    "duration": 5,
    "start_time": "2022-11-08T10:59:13.837Z"
   },
   {
    "duration": 5,
    "start_time": "2022-11-08T10:59:15.509Z"
   },
   {
    "duration": 17,
    "start_time": "2022-11-08T10:59:16.706Z"
   },
   {
    "duration": 15,
    "start_time": "2022-11-08T11:11:15.569Z"
   },
   {
    "duration": 5,
    "start_time": "2022-11-08T11:29:34.315Z"
   },
   {
    "duration": 16,
    "start_time": "2022-11-08T11:29:35.518Z"
   },
   {
    "duration": 5,
    "start_time": "2022-11-08T11:30:01.266Z"
   },
   {
    "duration": 17,
    "start_time": "2022-11-08T11:30:03.085Z"
   },
   {
    "duration": 4,
    "start_time": "2022-11-08T11:30:31.138Z"
   },
   {
    "duration": 4,
    "start_time": "2022-11-08T11:31:24.299Z"
   },
   {
    "duration": 5,
    "start_time": "2022-11-08T11:31:26.554Z"
   },
   {
    "duration": 5,
    "start_time": "2022-11-08T11:31:51.258Z"
   },
   {
    "duration": 5,
    "start_time": "2022-11-08T11:31:51.946Z"
   },
   {
    "duration": 5,
    "start_time": "2022-11-08T11:31:54.539Z"
   },
   {
    "duration": 5,
    "start_time": "2022-11-08T11:32:15.689Z"
   },
   {
    "duration": 22,
    "start_time": "2022-11-08T11:32:17.301Z"
   },
   {
    "duration": 9,
    "start_time": "2022-11-08T11:35:03.350Z"
   },
   {
    "duration": 6,
    "start_time": "2022-11-08T11:48:33.749Z"
   },
   {
    "duration": 28,
    "start_time": "2022-11-08T11:48:34.601Z"
   },
   {
    "duration": 22,
    "start_time": "2022-11-08T11:49:34.772Z"
   },
   {
    "duration": 9,
    "start_time": "2022-11-08T11:56:14.446Z"
   },
   {
    "duration": 4026,
    "start_time": "2022-11-08T11:56:18.606Z"
   },
   {
    "duration": 9,
    "start_time": "2022-11-08T11:56:51.067Z"
   },
   {
    "duration": 10,
    "start_time": "2022-11-08T11:56:57.686Z"
   },
   {
    "duration": 4182,
    "start_time": "2022-11-08T11:57:02.581Z"
   },
   {
    "duration": 5048,
    "start_time": "2022-11-08T11:57:09.825Z"
   },
   {
    "duration": 4554,
    "start_time": "2022-11-08T11:57:15.611Z"
   },
   {
    "duration": 4425,
    "start_time": "2022-11-08T11:57:20.173Z"
   },
   {
    "duration": 10,
    "start_time": "2022-11-08T12:00:06.419Z"
   },
   {
    "duration": 4363,
    "start_time": "2022-11-08T12:00:07.595Z"
   },
   {
    "duration": 3,
    "start_time": "2022-11-08T12:02:56.418Z"
   },
   {
    "duration": 4,
    "start_time": "2022-11-08T12:02:57.020Z"
   },
   {
    "duration": 5,
    "start_time": "2022-11-08T12:03:00.021Z"
   },
   {
    "duration": 3,
    "start_time": "2022-11-08T12:06:37.536Z"
   },
   {
    "duration": 16,
    "start_time": "2022-11-08T12:06:45.227Z"
   },
   {
    "duration": 7,
    "start_time": "2022-11-08T12:18:39.059Z"
   },
   {
    "duration": 24,
    "start_time": "2022-11-08T12:18:44.135Z"
   },
   {
    "duration": 9,
    "start_time": "2022-11-08T12:21:52.948Z"
   },
   {
    "duration": 20,
    "start_time": "2022-11-08T12:21:55.921Z"
   },
   {
    "duration": 5,
    "start_time": "2022-11-08T12:22:58.858Z"
   },
   {
    "duration": 18,
    "start_time": "2022-11-08T12:23:00.086Z"
   },
   {
    "duration": 9,
    "start_time": "2022-11-08T12:23:16.376Z"
   },
   {
    "duration": 23,
    "start_time": "2022-11-08T12:23:23.233Z"
   },
   {
    "duration": 7,
    "start_time": "2022-11-08T12:25:25.924Z"
   },
   {
    "duration": 19,
    "start_time": "2022-11-08T12:25:26.737Z"
   },
   {
    "duration": 3,
    "start_time": "2022-11-08T12:26:11.494Z"
   },
   {
    "duration": 83,
    "start_time": "2022-11-08T12:26:11.700Z"
   },
   {
    "duration": 15,
    "start_time": "2022-11-08T12:26:11.906Z"
   },
   {
    "duration": 13,
    "start_time": "2022-11-08T12:26:12.109Z"
   },
   {
    "duration": 141,
    "start_time": "2022-11-08T12:26:12.993Z"
   },
   {
    "duration": 3,
    "start_time": "2022-11-08T12:26:14.568Z"
   },
   {
    "duration": 4,
    "start_time": "2022-11-08T12:26:15.037Z"
   },
   {
    "duration": 6,
    "start_time": "2022-11-08T12:26:16.069Z"
   },
   {
    "duration": 4,
    "start_time": "2022-11-08T12:26:18.342Z"
   },
   {
    "duration": 21,
    "start_time": "2022-11-08T12:26:20.670Z"
   },
   {
    "duration": 10,
    "start_time": "2022-11-08T12:26:24.064Z"
   },
   {
    "duration": 21,
    "start_time": "2022-11-08T12:26:25.057Z"
   },
   {
    "duration": 7,
    "start_time": "2022-11-08T12:28:50.382Z"
   },
   {
    "duration": 20,
    "start_time": "2022-11-08T12:28:50.657Z"
   },
   {
    "duration": 5,
    "start_time": "2022-11-08T12:29:34.331Z"
   },
   {
    "duration": 850,
    "start_time": "2022-11-08T12:29:34.702Z"
   },
   {
    "duration": 24,
    "start_time": "2022-11-08T12:29:37.135Z"
   },
   {
    "duration": 59,
    "start_time": "2022-11-08T12:29:37.755Z"
   },
   {
    "duration": 112,
    "start_time": "2022-11-08T12:29:39.198Z"
   },
   {
    "duration": 190,
    "start_time": "2022-11-08T12:29:39.940Z"
   },
   {
    "duration": 182,
    "start_time": "2022-11-08T12:29:46.271Z"
   },
   {
    "duration": 8,
    "start_time": "2022-11-08T12:30:03.246Z"
   },
   {
    "duration": 27,
    "start_time": "2022-11-08T12:30:03.986Z"
   },
   {
    "duration": 3,
    "start_time": "2022-11-08T12:30:04.436Z"
   },
   {
    "duration": 23,
    "start_time": "2022-11-08T12:30:04.644Z"
   },
   {
    "duration": 19,
    "start_time": "2022-11-08T12:30:04.863Z"
   },
   {
    "duration": 4,
    "start_time": "2022-11-08T12:30:05.482Z"
   },
   {
    "duration": 23,
    "start_time": "2022-11-08T12:30:05.705Z"
   },
   {
    "duration": 13,
    "start_time": "2022-11-08T12:30:05.912Z"
   },
   {
    "duration": 13,
    "start_time": "2022-11-08T12:30:06.135Z"
   },
   {
    "duration": 126,
    "start_time": "2022-11-08T12:30:06.523Z"
   },
   {
    "duration": 3,
    "start_time": "2022-11-08T12:30:07.298Z"
   },
   {
    "duration": 5,
    "start_time": "2022-11-08T12:30:07.629Z"
   },
   {
    "duration": 5,
    "start_time": "2022-11-08T12:30:08.178Z"
   },
   {
    "duration": 4,
    "start_time": "2022-11-08T12:30:09.268Z"
   },
   {
    "duration": 18,
    "start_time": "2022-11-08T12:30:09.675Z"
   },
   {
    "duration": 7,
    "start_time": "2022-11-08T12:30:11.778Z"
   },
   {
    "duration": 25,
    "start_time": "2022-11-08T12:30:12.588Z"
   },
   {
    "duration": 10,
    "start_time": "2022-11-08T12:36:30.367Z"
   },
   {
    "duration": 11,
    "start_time": "2022-11-08T12:36:42.041Z"
   },
   {
    "duration": 10,
    "start_time": "2022-11-08T12:38:57.176Z"
   },
   {
    "duration": 20,
    "start_time": "2022-11-08T12:38:58.922Z"
   },
   {
    "duration": 6,
    "start_time": "2022-11-08T12:39:12.510Z"
   },
   {
    "duration": 17,
    "start_time": "2022-11-08T12:39:15.705Z"
   },
   {
    "duration": 1675,
    "start_time": "2022-11-08T12:39:46.448Z"
   },
   {
    "duration": 442,
    "start_time": "2022-11-08T12:39:48.125Z"
   },
   {
    "duration": 28,
    "start_time": "2022-11-08T12:39:48.569Z"
   },
   {
    "duration": 74,
    "start_time": "2022-11-08T12:39:48.600Z"
   },
   {
    "duration": 155,
    "start_time": "2022-11-08T12:39:48.676Z"
   },
   {
    "duration": 166,
    "start_time": "2022-11-08T12:39:48.833Z"
   },
   {
    "duration": 218,
    "start_time": "2022-11-08T12:39:49.001Z"
   },
   {
    "duration": 3,
    "start_time": "2022-11-08T12:39:49.222Z"
   },
   {
    "duration": 375,
    "start_time": "2022-11-08T12:39:49.227Z"
   },
   {
    "duration": 3,
    "start_time": "2022-11-08T12:39:49.604Z"
   },
   {
    "duration": 332,
    "start_time": "2022-11-08T12:39:49.609Z"
   },
   {
    "duration": 3,
    "start_time": "2022-11-08T12:39:49.944Z"
   },
   {
    "duration": 382,
    "start_time": "2022-11-08T12:39:49.949Z"
   },
   {
    "duration": 11,
    "start_time": "2022-11-08T12:39:50.334Z"
   },
   {
    "duration": 59,
    "start_time": "2022-11-08T12:39:50.348Z"
   },
   {
    "duration": 4,
    "start_time": "2022-11-08T12:39:50.410Z"
   },
   {
    "duration": 39,
    "start_time": "2022-11-08T12:39:50.416Z"
   },
   {
    "duration": 36,
    "start_time": "2022-11-08T12:39:50.458Z"
   },
   {
    "duration": 7,
    "start_time": "2022-11-08T12:39:50.496Z"
   },
   {
    "duration": 171,
    "start_time": "2022-11-08T12:39:50.505Z"
   },
   {
    "duration": 93,
    "start_time": "2022-11-08T12:39:50.679Z"
   },
   {
    "duration": 118,
    "start_time": "2022-11-08T12:39:50.774Z"
   },
   {
    "duration": 312,
    "start_time": "2022-11-08T12:39:50.895Z"
   },
   {
    "duration": 4,
    "start_time": "2022-11-08T12:39:51.209Z"
   },
   {
    "duration": 9,
    "start_time": "2022-11-08T12:39:51.215Z"
   },
   {
    "duration": 31,
    "start_time": "2022-11-08T12:39:51.226Z"
   },
   {
    "duration": 15,
    "start_time": "2022-11-08T12:39:51.259Z"
   },
   {
    "duration": 164,
    "start_time": "2022-11-08T12:39:51.278Z"
   },
   {
    "duration": 0,
    "start_time": "2022-11-08T12:39:51.444Z"
   },
   {
    "duration": 0,
    "start_time": "2022-11-08T12:39:51.446Z"
   },
   {
    "duration": 0,
    "start_time": "2022-11-08T12:39:51.448Z"
   },
   {
    "duration": 0,
    "start_time": "2022-11-08T12:39:51.449Z"
   },
   {
    "duration": 12,
    "start_time": "2022-11-08T12:40:26.278Z"
   },
   {
    "duration": 21,
    "start_time": "2022-11-08T12:40:57.714Z"
   },
   {
    "duration": 5,
    "start_time": "2022-11-08T12:41:31.320Z"
   },
   {
    "duration": 40,
    "start_time": "2022-11-08T12:41:32.731Z"
   },
   {
    "duration": 5,
    "start_time": "2022-11-08T12:46:44.344Z"
   },
   {
    "duration": 30,
    "start_time": "2022-11-08T12:46:45.741Z"
   },
   {
    "duration": 4,
    "start_time": "2022-11-08T12:50:48.864Z"
   },
   {
    "duration": 27,
    "start_time": "2022-11-08T12:50:51.047Z"
   },
   {
    "duration": 4,
    "start_time": "2022-11-08T12:51:24.271Z"
   },
   {
    "duration": 27,
    "start_time": "2022-11-08T12:51:25.517Z"
   },
   {
    "duration": 3,
    "start_time": "2022-11-08T12:51:44.534Z"
   },
   {
    "duration": 4,
    "start_time": "2022-11-08T12:52:14.634Z"
   },
   {
    "duration": 27,
    "start_time": "2022-11-08T12:52:15.201Z"
   },
   {
    "duration": 4,
    "start_time": "2022-11-08T13:01:55.642Z"
   },
   {
    "duration": 16,
    "start_time": "2022-11-08T13:01:57.056Z"
   },
   {
    "duration": 19,
    "start_time": "2022-11-08T13:02:26.347Z"
   },
   {
    "duration": 4,
    "start_time": "2022-11-08T13:05:25.374Z"
   },
   {
    "duration": 27,
    "start_time": "2022-11-08T13:05:26.647Z"
   },
   {
    "duration": 6,
    "start_time": "2022-11-08T13:05:46.686Z"
   },
   {
    "duration": 20,
    "start_time": "2022-11-08T13:05:51.455Z"
   },
   {
    "duration": 5,
    "start_time": "2022-11-08T13:07:47.933Z"
   },
   {
    "duration": 35,
    "start_time": "2022-11-08T13:07:48.594Z"
   },
   {
    "duration": 3,
    "start_time": "2022-11-08T14:02:33.645Z"
   },
   {
    "duration": 69,
    "start_time": "2022-11-08T14:02:33.904Z"
   },
   {
    "duration": 14,
    "start_time": "2022-11-08T14:02:34.113Z"
   },
   {
    "duration": 15,
    "start_time": "2022-11-08T14:02:34.312Z"
   },
   {
    "duration": 126,
    "start_time": "2022-11-08T14:02:36.603Z"
   },
   {
    "duration": 4,
    "start_time": "2022-11-08T14:02:40.521Z"
   },
   {
    "duration": 4,
    "start_time": "2022-11-08T14:02:41.899Z"
   },
   {
    "duration": 5,
    "start_time": "2022-11-08T14:02:43.713Z"
   },
   {
    "duration": 4,
    "start_time": "2022-11-08T14:03:42.181Z"
   },
   {
    "duration": 15,
    "start_time": "2022-11-08T14:03:43.716Z"
   },
   {
    "duration": 11,
    "start_time": "2022-11-08T14:04:29.324Z"
   },
   {
    "duration": 4,
    "start_time": "2022-11-08T14:04:44.011Z"
   },
   {
    "duration": 425,
    "start_time": "2022-11-08T14:04:44.017Z"
   },
   {
    "duration": 30,
    "start_time": "2022-11-08T14:04:44.444Z"
   },
   {
    "duration": 48,
    "start_time": "2022-11-08T14:04:44.476Z"
   },
   {
    "duration": 155,
    "start_time": "2022-11-08T14:04:44.527Z"
   },
   {
    "duration": 137,
    "start_time": "2022-11-08T14:04:44.684Z"
   },
   {
    "duration": 151,
    "start_time": "2022-11-08T14:04:44.822Z"
   },
   {
    "duration": 3,
    "start_time": "2022-11-08T14:04:44.975Z"
   },
   {
    "duration": 312,
    "start_time": "2022-11-08T14:04:44.980Z"
   },
   {
    "duration": 3,
    "start_time": "2022-11-08T14:04:45.294Z"
   },
   {
    "duration": 329,
    "start_time": "2022-11-08T14:04:45.298Z"
   },
   {
    "duration": 3,
    "start_time": "2022-11-08T14:04:45.628Z"
   },
   {
    "duration": 420,
    "start_time": "2022-11-08T14:04:45.634Z"
   },
   {
    "duration": 16,
    "start_time": "2022-11-08T14:04:46.056Z"
   },
   {
    "duration": 40,
    "start_time": "2022-11-08T14:04:46.074Z"
   },
   {
    "duration": 3,
    "start_time": "2022-11-08T14:04:46.116Z"
   },
   {
    "duration": 23,
    "start_time": "2022-11-08T14:04:46.121Z"
   },
   {
    "duration": 29,
    "start_time": "2022-11-08T14:04:46.146Z"
   },
   {
    "duration": 3,
    "start_time": "2022-11-08T14:04:46.177Z"
   },
   {
    "duration": 104,
    "start_time": "2022-11-08T14:04:46.182Z"
   },
   {
    "duration": 13,
    "start_time": "2022-11-08T14:04:46.373Z"
   },
   {
    "duration": 189,
    "start_time": "2022-11-08T14:04:46.388Z"
   },
   {
    "duration": 250,
    "start_time": "2022-11-08T14:04:46.580Z"
   },
   {
    "duration": 3,
    "start_time": "2022-11-08T14:04:46.832Z"
   },
   {
    "duration": 7,
    "start_time": "2022-11-08T14:04:46.837Z"
   },
   {
    "duration": 8,
    "start_time": "2022-11-08T14:04:46.845Z"
   },
   {
    "duration": 14,
    "start_time": "2022-11-08T14:04:57.009Z"
   },
   {
    "duration": 11,
    "start_time": "2022-11-08T14:05:29.085Z"
   },
   {
    "duration": 5,
    "start_time": "2022-11-08T14:05:54.586Z"
   },
   {
    "duration": 18,
    "start_time": "2022-11-08T14:05:55.945Z"
   },
   {
    "duration": 5,
    "start_time": "2022-11-08T14:06:25.312Z"
   },
   {
    "duration": 418,
    "start_time": "2022-11-08T14:06:25.319Z"
   },
   {
    "duration": 37,
    "start_time": "2022-11-08T14:06:25.739Z"
   },
   {
    "duration": 44,
    "start_time": "2022-11-08T14:06:25.778Z"
   },
   {
    "duration": 154,
    "start_time": "2022-11-08T14:06:25.824Z"
   },
   {
    "duration": 158,
    "start_time": "2022-11-08T14:06:25.980Z"
   },
   {
    "duration": 162,
    "start_time": "2022-11-08T14:06:26.140Z"
   },
   {
    "duration": 3,
    "start_time": "2022-11-08T14:06:26.304Z"
   },
   {
    "duration": 294,
    "start_time": "2022-11-08T14:06:26.309Z"
   },
   {
    "duration": 2,
    "start_time": "2022-11-08T14:06:26.606Z"
   },
   {
    "duration": 333,
    "start_time": "2022-11-08T14:06:26.609Z"
   },
   {
    "duration": 3,
    "start_time": "2022-11-08T14:06:26.944Z"
   },
   {
    "duration": 330,
    "start_time": "2022-11-08T14:06:26.948Z"
   },
   {
    "duration": 8,
    "start_time": "2022-11-08T14:06:27.280Z"
   },
   {
    "duration": 45,
    "start_time": "2022-11-08T14:06:27.290Z"
   },
   {
    "duration": 3,
    "start_time": "2022-11-08T14:06:27.337Z"
   },
   {
    "duration": 31,
    "start_time": "2022-11-08T14:06:27.342Z"
   },
   {
    "duration": 21,
    "start_time": "2022-11-08T14:06:27.376Z"
   },
   {
    "duration": 3,
    "start_time": "2022-11-08T14:06:27.399Z"
   },
   {
    "duration": 167,
    "start_time": "2022-11-08T14:06:27.405Z"
   },
   {
    "duration": 98,
    "start_time": "2022-11-08T14:06:27.574Z"
   },
   {
    "duration": 102,
    "start_time": "2022-11-08T14:06:27.675Z"
   },
   {
    "duration": 305,
    "start_time": "2022-11-08T14:06:27.779Z"
   },
   {
    "duration": 3,
    "start_time": "2022-11-08T14:06:28.086Z"
   },
   {
    "duration": 14,
    "start_time": "2022-11-08T14:06:28.091Z"
   },
   {
    "duration": 13,
    "start_time": "2022-11-08T14:06:28.106Z"
   },
   {
    "duration": 10,
    "start_time": "2022-11-08T14:06:30.367Z"
   },
   {
    "duration": 4,
    "start_time": "2022-11-08T14:06:31.477Z"
   },
   {
    "duration": 20,
    "start_time": "2022-11-08T14:06:32.736Z"
   },
   {
    "duration": 18,
    "start_time": "2022-11-08T14:07:10.439Z"
   },
   {
    "duration": 5,
    "start_time": "2022-11-08T14:09:21.410Z"
   },
   {
    "duration": 10,
    "start_time": "2022-11-08T14:09:21.777Z"
   },
   {
    "duration": 19,
    "start_time": "2022-11-08T14:09:33.383Z"
   },
   {
    "duration": 6,
    "start_time": "2022-11-08T14:10:18.075Z"
   },
   {
    "duration": 9,
    "start_time": "2022-11-08T14:10:30.699Z"
   },
   {
    "duration": 8,
    "start_time": "2022-11-08T14:10:48.494Z"
   },
   {
    "duration": 9,
    "start_time": "2022-11-08T14:10:57.872Z"
   },
   {
    "duration": 5,
    "start_time": "2022-11-08T14:12:04.900Z"
   },
   {
    "duration": 431,
    "start_time": "2022-11-08T14:12:04.908Z"
   },
   {
    "duration": 24,
    "start_time": "2022-11-08T14:12:05.342Z"
   },
   {
    "duration": 47,
    "start_time": "2022-11-08T14:12:05.372Z"
   },
   {
    "duration": 155,
    "start_time": "2022-11-08T14:12:05.421Z"
   },
   {
    "duration": 149,
    "start_time": "2022-11-08T14:12:05.579Z"
   },
   {
    "duration": 168,
    "start_time": "2022-11-08T14:12:05.729Z"
   },
   {
    "duration": 2,
    "start_time": "2022-11-08T14:12:05.900Z"
   },
   {
    "duration": 293,
    "start_time": "2022-11-08T14:12:05.905Z"
   },
   {
    "duration": 4,
    "start_time": "2022-11-08T14:12:06.200Z"
   },
   {
    "duration": 324,
    "start_time": "2022-11-08T14:12:06.207Z"
   },
   {
    "duration": 3,
    "start_time": "2022-11-08T14:12:06.534Z"
   },
   {
    "duration": 381,
    "start_time": "2022-11-08T14:12:06.538Z"
   },
   {
    "duration": 10,
    "start_time": "2022-11-08T14:12:06.921Z"
   },
   {
    "duration": 42,
    "start_time": "2022-11-08T14:12:06.933Z"
   },
   {
    "duration": 6,
    "start_time": "2022-11-08T14:12:06.977Z"
   },
   {
    "duration": 33,
    "start_time": "2022-11-08T14:12:06.985Z"
   },
   {
    "duration": 23,
    "start_time": "2022-11-08T14:12:07.021Z"
   },
   {
    "duration": 3,
    "start_time": "2022-11-08T14:12:07.046Z"
   },
   {
    "duration": 121,
    "start_time": "2022-11-08T14:12:07.051Z"
   },
   {
    "duration": 103,
    "start_time": "2022-11-08T14:12:07.175Z"
   },
   {
    "duration": 97,
    "start_time": "2022-11-08T14:12:07.281Z"
   },
   {
    "duration": 328,
    "start_time": "2022-11-08T14:12:07.381Z"
   },
   {
    "duration": 3,
    "start_time": "2022-11-08T14:12:07.711Z"
   },
   {
    "duration": 9,
    "start_time": "2022-11-08T14:12:07.716Z"
   },
   {
    "duration": 7,
    "start_time": "2022-11-08T14:12:07.727Z"
   },
   {
    "duration": 5,
    "start_time": "2022-11-08T14:12:10.086Z"
   },
   {
    "duration": 17,
    "start_time": "2022-11-08T14:12:11.003Z"
   },
   {
    "duration": 5,
    "start_time": "2022-11-08T14:12:58.903Z"
   },
   {
    "duration": 33,
    "start_time": "2022-11-08T14:12:59.681Z"
   },
   {
    "duration": 5,
    "start_time": "2022-11-08T14:13:04.388Z"
   },
   {
    "duration": 18,
    "start_time": "2022-11-08T14:13:05.298Z"
   },
   {
    "duration": 9,
    "start_time": "2022-11-08T14:13:20.429Z"
   },
   {
    "duration": 6,
    "start_time": "2022-11-08T14:13:25.403Z"
   },
   {
    "duration": 9,
    "start_time": "2022-11-08T14:13:45.790Z"
   },
   {
    "duration": 13,
    "start_time": "2022-11-08T14:13:59.584Z"
   },
   {
    "duration": 7,
    "start_time": "2022-11-08T14:14:16.709Z"
   },
   {
    "duration": 10,
    "start_time": "2022-11-08T14:14:37.645Z"
   },
   {
    "duration": 4,
    "start_time": "2022-11-08T14:14:45.126Z"
   },
   {
    "duration": 10,
    "start_time": "2022-11-08T14:14:45.596Z"
   },
   {
    "duration": 8,
    "start_time": "2022-11-08T14:15:07.622Z"
   },
   {
    "duration": 5,
    "start_time": "2022-11-08T14:16:54.893Z"
   },
   {
    "duration": 17,
    "start_time": "2022-11-08T14:17:27.026Z"
   },
   {
    "duration": 13,
    "start_time": "2022-11-08T14:19:00.934Z"
   },
   {
    "duration": 6,
    "start_time": "2022-11-08T14:19:08.548Z"
   },
   {
    "duration": 3,
    "start_time": "2022-11-08T14:20:10.893Z"
   },
   {
    "duration": 16,
    "start_time": "2022-11-08T14:20:11.696Z"
   },
   {
    "duration": 6,
    "start_time": "2022-11-08T14:20:27.010Z"
   },
   {
    "duration": 3774,
    "start_time": "2022-11-08T14:20:29.116Z"
   },
   {
    "duration": 7,
    "start_time": "2022-11-08T14:20:58.949Z"
   },
   {
    "duration": 3880,
    "start_time": "2022-11-08T14:20:59.255Z"
   },
   {
    "duration": 17,
    "start_time": "2022-11-08T14:23:44.574Z"
   },
   {
    "duration": 1213,
    "start_time": "2022-11-08T14:23:57.149Z"
   },
   {
    "duration": 8,
    "start_time": "2022-11-08T14:24:18.385Z"
   },
   {
    "duration": 1337,
    "start_time": "2022-11-08T14:24:19.354Z"
   },
   {
    "duration": 14,
    "start_time": "2022-11-08T14:24:22.573Z"
   },
   {
    "duration": 11,
    "start_time": "2022-11-08T14:24:22.869Z"
   },
   {
    "duration": 1249,
    "start_time": "2022-11-08T14:24:36.166Z"
   },
   {
    "duration": 22,
    "start_time": "2022-11-08T14:24:37.418Z"
   },
   {
    "duration": 0,
    "start_time": "2022-11-08T14:24:37.442Z"
   },
   {
    "duration": 1260,
    "start_time": "2022-11-08T14:26:30.571Z"
   },
   {
    "duration": 25,
    "start_time": "2022-11-08T14:26:36.787Z"
   },
   {
    "duration": 29,
    "start_time": "2022-11-08T14:28:42.769Z"
   },
   {
    "duration": 96,
    "start_time": "2022-11-08T14:30:39.788Z"
   },
   {
    "duration": 1434,
    "start_time": "2022-11-08T14:30:59.380Z"
   },
   {
    "duration": 1323,
    "start_time": "2022-11-08T14:31:46.545Z"
   },
   {
    "duration": 28,
    "start_time": "2022-11-08T14:32:48.529Z"
   },
   {
    "duration": 8,
    "start_time": "2022-11-08T14:33:10.484Z"
   },
   {
    "duration": 6,
    "start_time": "2022-11-08T14:33:18.245Z"
   },
   {
    "duration": 11,
    "start_time": "2022-11-08T14:33:41.496Z"
   },
   {
    "duration": 21,
    "start_time": "2022-11-08T14:34:06.505Z"
   },
   {
    "duration": 164,
    "start_time": "2022-11-08T14:35:32.711Z"
   },
   {
    "duration": 22,
    "start_time": "2022-11-08T14:35:39.546Z"
   },
   {
    "duration": 4,
    "start_time": "2022-11-08T14:36:28.226Z"
   },
   {
    "duration": 5,
    "start_time": "2022-11-08T14:36:28.874Z"
   },
   {
    "duration": 5,
    "start_time": "2022-11-08T14:36:29.519Z"
   },
   {
    "duration": 5,
    "start_time": "2022-11-08T14:36:31.077Z"
   },
   {
    "duration": 22,
    "start_time": "2022-11-08T14:36:31.839Z"
   },
   {
    "duration": 1351,
    "start_time": "2022-11-08T14:36:38.921Z"
   },
   {
    "duration": 27,
    "start_time": "2022-11-08T14:36:53.997Z"
   },
   {
    "duration": 1627,
    "start_time": "2022-11-08T14:38:30.112Z"
   },
   {
    "duration": 522,
    "start_time": "2022-11-08T14:38:31.743Z"
   },
   {
    "duration": 41,
    "start_time": "2022-11-08T14:38:32.268Z"
   },
   {
    "duration": 78,
    "start_time": "2022-11-08T14:38:32.314Z"
   },
   {
    "duration": 149,
    "start_time": "2022-11-08T14:38:32.394Z"
   },
   {
    "duration": 174,
    "start_time": "2022-11-08T14:38:32.545Z"
   },
   {
    "duration": 214,
    "start_time": "2022-11-08T14:38:32.721Z"
   },
   {
    "duration": 4,
    "start_time": "2022-11-08T14:38:32.937Z"
   },
   {
    "duration": 408,
    "start_time": "2022-11-08T14:38:32.943Z"
   },
   {
    "duration": 4,
    "start_time": "2022-11-08T14:38:33.355Z"
   },
   {
    "duration": 388,
    "start_time": "2022-11-08T14:38:33.361Z"
   },
   {
    "duration": 3,
    "start_time": "2022-11-08T14:38:33.751Z"
   },
   {
    "duration": 333,
    "start_time": "2022-11-08T14:38:33.771Z"
   },
   {
    "duration": 11,
    "start_time": "2022-11-08T14:38:34.106Z"
   },
   {
    "duration": 64,
    "start_time": "2022-11-08T14:38:34.119Z"
   },
   {
    "duration": 3,
    "start_time": "2022-11-08T14:38:34.185Z"
   },
   {
    "duration": 29,
    "start_time": "2022-11-08T14:38:34.190Z"
   },
   {
    "duration": 23,
    "start_time": "2022-11-08T14:38:34.220Z"
   },
   {
    "duration": 4,
    "start_time": "2022-11-08T14:38:34.245Z"
   },
   {
    "duration": 101,
    "start_time": "2022-11-08T14:38:34.271Z"
   },
   {
    "duration": 102,
    "start_time": "2022-11-08T14:38:34.374Z"
   },
   {
    "duration": 113,
    "start_time": "2022-11-08T14:38:34.478Z"
   },
   {
    "duration": 293,
    "start_time": "2022-11-08T14:38:34.602Z"
   },
   {
    "duration": 4,
    "start_time": "2022-11-08T14:38:34.896Z"
   },
   {
    "duration": 13,
    "start_time": "2022-11-08T14:38:34.902Z"
   },
   {
    "duration": 10,
    "start_time": "2022-11-08T14:38:34.918Z"
   },
   {
    "duration": 11,
    "start_time": "2022-11-08T14:38:34.930Z"
   },
   {
    "duration": 39,
    "start_time": "2022-11-08T14:38:34.946Z"
   },
   {
    "duration": 192,
    "start_time": "2022-11-08T14:38:34.987Z"
   },
   {
    "duration": 0,
    "start_time": "2022-11-08T14:38:35.182Z"
   },
   {
    "duration": 0,
    "start_time": "2022-11-08T14:38:35.183Z"
   },
   {
    "duration": 0,
    "start_time": "2022-11-08T14:38:35.185Z"
   },
   {
    "duration": 0,
    "start_time": "2022-11-08T14:38:35.187Z"
   },
   {
    "duration": 0,
    "start_time": "2022-11-08T14:38:35.188Z"
   },
   {
    "duration": 0,
    "start_time": "2022-11-08T14:38:35.190Z"
   },
   {
    "duration": 3,
    "start_time": "2022-11-08T14:42:06.071Z"
   },
   {
    "duration": 4,
    "start_time": "2022-11-08T14:42:10.728Z"
   },
   {
    "duration": 15,
    "start_time": "2022-11-08T14:42:11.722Z"
   },
   {
    "duration": 4,
    "start_time": "2022-11-08T14:43:10.976Z"
   },
   {
    "duration": 18,
    "start_time": "2022-11-08T14:43:11.849Z"
   },
   {
    "duration": 11,
    "start_time": "2022-11-08T14:52:38.977Z"
   },
   {
    "duration": 8,
    "start_time": "2022-11-08T14:52:43.769Z"
   },
   {
    "duration": 7,
    "start_time": "2022-11-08T14:53:05.935Z"
   },
   {
    "duration": 6,
    "start_time": "2022-11-08T14:53:16.749Z"
   },
   {
    "duration": 10,
    "start_time": "2022-11-08T14:53:32.418Z"
   },
   {
    "duration": 27,
    "start_time": "2022-11-08T14:53:34.757Z"
   },
   {
    "duration": 8,
    "start_time": "2022-11-08T14:54:45.304Z"
   },
   {
    "duration": 36,
    "start_time": "2022-11-08T14:56:19.133Z"
   },
   {
    "duration": 15,
    "start_time": "2022-11-08T14:56:34.107Z"
   },
   {
    "duration": 4,
    "start_time": "2022-11-08T14:56:47.410Z"
   },
   {
    "duration": 16,
    "start_time": "2022-11-08T14:56:48.072Z"
   },
   {
    "duration": 4,
    "start_time": "2022-11-08T14:56:56.259Z"
   },
   {
    "duration": 15,
    "start_time": "2022-11-08T14:56:57.169Z"
   },
   {
    "duration": 4,
    "start_time": "2022-11-08T14:59:18.657Z"
   },
   {
    "duration": 17,
    "start_time": "2022-11-08T14:59:20.181Z"
   },
   {
    "duration": 4,
    "start_time": "2022-11-08T14:59:31.102Z"
   },
   {
    "duration": 23,
    "start_time": "2022-11-08T14:59:31.346Z"
   },
   {
    "duration": 47,
    "start_time": "2022-11-08T14:59:31.526Z"
   },
   {
    "duration": 16,
    "start_time": "2022-11-08T14:59:31.719Z"
   },
   {
    "duration": 137,
    "start_time": "2022-11-08T14:59:32.722Z"
   },
   {
    "duration": 4,
    "start_time": "2022-11-08T14:59:33.349Z"
   },
   {
    "duration": 5,
    "start_time": "2022-11-08T14:59:33.971Z"
   },
   {
    "duration": 6,
    "start_time": "2022-11-08T14:59:35.303Z"
   },
   {
    "duration": 6,
    "start_time": "2022-11-08T14:59:37.934Z"
   },
   {
    "duration": 6,
    "start_time": "2022-11-08T14:59:38.353Z"
   },
   {
    "duration": 8,
    "start_time": "2022-11-08T14:59:38.714Z"
   },
   {
    "duration": 4,
    "start_time": "2022-11-08T14:59:39.062Z"
   },
   {
    "duration": 9,
    "start_time": "2022-11-08T14:59:40.049Z"
   },
   {
    "duration": 17,
    "start_time": "2022-11-08T14:59:49.576Z"
   },
   {
    "duration": 22,
    "start_time": "2022-11-08T15:01:22.030Z"
   },
   {
    "duration": 4,
    "start_time": "2022-11-08T15:04:56.468Z"
   },
   {
    "duration": 21,
    "start_time": "2022-11-08T15:04:57.256Z"
   },
   {
    "duration": 4,
    "start_time": "2022-11-08T15:05:21.218Z"
   },
   {
    "duration": 6,
    "start_time": "2022-11-08T15:07:04.501Z"
   },
   {
    "duration": 30,
    "start_time": "2022-11-08T15:07:04.762Z"
   },
   {
    "duration": 11,
    "start_time": "2022-11-08T15:07:40.123Z"
   },
   {
    "duration": 7,
    "start_time": "2022-11-08T15:07:48.842Z"
   },
   {
    "duration": 7,
    "start_time": "2022-11-08T15:08:03.526Z"
   },
   {
    "duration": 23,
    "start_time": "2022-11-08T15:08:03.782Z"
   },
   {
    "duration": 6,
    "start_time": "2022-11-08T15:08:48.980Z"
   },
   {
    "duration": 27,
    "start_time": "2022-11-08T15:08:50.248Z"
   },
   {
    "duration": 7,
    "start_time": "2022-11-08T15:09:21.678Z"
   },
   {
    "duration": 27,
    "start_time": "2022-11-08T15:09:22.773Z"
   },
   {
    "duration": 33,
    "start_time": "2022-11-08T15:12:11.820Z"
   },
   {
    "duration": 1643,
    "start_time": "2022-11-08T15:12:52.642Z"
   },
   {
    "duration": 429,
    "start_time": "2022-11-08T15:12:54.287Z"
   },
   {
    "duration": 31,
    "start_time": "2022-11-08T15:12:54.718Z"
   },
   {
    "duration": 84,
    "start_time": "2022-11-08T15:12:54.751Z"
   },
   {
    "duration": 157,
    "start_time": "2022-11-08T15:12:54.837Z"
   },
   {
    "duration": 143,
    "start_time": "2022-11-08T15:12:54.995Z"
   },
   {
    "duration": 194,
    "start_time": "2022-11-08T15:12:55.140Z"
   },
   {
    "duration": 3,
    "start_time": "2022-11-08T15:12:55.336Z"
   },
   {
    "duration": 366,
    "start_time": "2022-11-08T15:12:55.341Z"
   },
   {
    "duration": 3,
    "start_time": "2022-11-08T15:12:55.711Z"
   },
   {
    "duration": 316,
    "start_time": "2022-11-08T15:12:55.716Z"
   },
   {
    "duration": 2,
    "start_time": "2022-11-08T15:12:56.034Z"
   },
   {
    "duration": 379,
    "start_time": "2022-11-08T15:12:56.038Z"
   },
   {
    "duration": 13,
    "start_time": "2022-11-08T15:12:56.419Z"
   },
   {
    "duration": 48,
    "start_time": "2022-11-08T15:12:56.433Z"
   },
   {
    "duration": 3,
    "start_time": "2022-11-08T15:12:56.484Z"
   },
   {
    "duration": 27,
    "start_time": "2022-11-08T15:12:56.489Z"
   },
   {
    "duration": 21,
    "start_time": "2022-11-08T15:12:56.518Z"
   },
   {
    "duration": 13,
    "start_time": "2022-11-08T15:12:56.541Z"
   },
   {
    "duration": 46,
    "start_time": "2022-11-08T15:12:56.556Z"
   },
   {
    "duration": 183,
    "start_time": "2022-11-08T15:12:56.605Z"
   },
   {
    "duration": 595,
    "start_time": "2022-11-08T15:12:56.790Z"
   },
   {
    "duration": 323,
    "start_time": "2022-11-08T15:12:57.388Z"
   },
   {
    "duration": 3,
    "start_time": "2022-11-08T15:12:57.714Z"
   },
   {
    "duration": 24,
    "start_time": "2022-11-08T15:12:57.719Z"
   },
   {
    "duration": 20,
    "start_time": "2022-11-08T15:12:57.746Z"
   },
   {
    "duration": 44,
    "start_time": "2022-11-08T15:12:57.768Z"
   },
   {
    "duration": 22,
    "start_time": "2022-11-08T15:12:57.817Z"
   },
   {
    "duration": 160,
    "start_time": "2022-11-08T15:12:57.842Z"
   },
   {
    "duration": 0,
    "start_time": "2022-11-08T15:12:58.004Z"
   },
   {
    "duration": 0,
    "start_time": "2022-11-08T15:12:58.006Z"
   },
   {
    "duration": 0,
    "start_time": "2022-11-08T15:12:58.007Z"
   },
   {
    "duration": 0,
    "start_time": "2022-11-08T15:12:58.009Z"
   },
   {
    "duration": 0,
    "start_time": "2022-11-08T15:12:58.010Z"
   },
   {
    "duration": 9,
    "start_time": "2022-11-08T15:20:29.942Z"
   },
   {
    "duration": 12,
    "start_time": "2022-11-08T15:20:34.265Z"
   },
   {
    "duration": 27,
    "start_time": "2022-11-08T15:22:52.870Z"
   },
   {
    "duration": 3,
    "start_time": "2022-11-08T15:30:25.462Z"
   },
   {
    "duration": 5,
    "start_time": "2022-11-08T15:30:27.620Z"
   },
   {
    "duration": 6,
    "start_time": "2022-11-08T15:30:28.730Z"
   },
   {
    "duration": 4,
    "start_time": "2022-11-08T15:30:30.558Z"
   },
   {
    "duration": 16,
    "start_time": "2022-11-08T15:30:32.813Z"
   },
   {
    "duration": 4,
    "start_time": "2022-11-08T15:36:28.047Z"
   },
   {
    "duration": 27,
    "start_time": "2022-11-08T15:36:28.849Z"
   },
   {
    "duration": 4,
    "start_time": "2022-11-08T15:37:04.652Z"
   },
   {
    "duration": 18,
    "start_time": "2022-11-08T15:37:06.579Z"
   },
   {
    "duration": 5,
    "start_time": "2022-11-08T15:41:12.753Z"
   },
   {
    "duration": 16,
    "start_time": "2022-11-08T15:41:13.904Z"
   },
   {
    "duration": 16,
    "start_time": "2022-11-08T15:41:32.876Z"
   },
   {
    "duration": 5,
    "start_time": "2022-11-08T15:42:40.610Z"
   },
   {
    "duration": 18,
    "start_time": "2022-11-08T15:42:41.503Z"
   },
   {
    "duration": 8,
    "start_time": "2022-11-08T15:43:41.580Z"
   },
   {
    "duration": 29,
    "start_time": "2022-11-08T15:43:42.106Z"
   },
   {
    "duration": 11,
    "start_time": "2022-11-08T15:45:08.194Z"
   },
   {
    "duration": 30,
    "start_time": "2022-11-08T15:45:08.962Z"
   },
   {
    "duration": 4,
    "start_time": "2022-11-08T15:45:20.604Z"
   },
   {
    "duration": 17,
    "start_time": "2022-11-08T15:45:21.218Z"
   },
   {
    "duration": 7,
    "start_time": "2022-11-08T15:45:22.026Z"
   },
   {
    "duration": 9,
    "start_time": "2022-11-08T15:45:22.202Z"
   },
   {
    "duration": 26,
    "start_time": "2022-11-08T15:45:22.883Z"
   },
   {
    "duration": 4,
    "start_time": "2022-11-08T15:45:37.611Z"
   },
   {
    "duration": 23,
    "start_time": "2022-11-08T15:45:38.202Z"
   },
   {
    "duration": 6,
    "start_time": "2022-11-08T15:45:41.797Z"
   },
   {
    "duration": 22,
    "start_time": "2022-11-08T15:45:42.826Z"
   },
   {
    "duration": 10,
    "start_time": "2022-11-08T15:45:43.931Z"
   },
   {
    "duration": 30,
    "start_time": "2022-11-08T15:45:59.584Z"
   },
   {
    "duration": 10,
    "start_time": "2022-11-08T15:49:03.567Z"
   },
   {
    "duration": 11,
    "start_time": "2022-11-08T15:49:04.976Z"
   },
   {
    "duration": 6,
    "start_time": "2022-11-08T15:49:07.037Z"
   },
   {
    "duration": 41,
    "start_time": "2022-11-08T15:49:07.854Z"
   },
   {
    "duration": 6,
    "start_time": "2022-11-08T16:01:45.143Z"
   },
   {
    "duration": 31,
    "start_time": "2022-11-08T16:01:45.944Z"
   },
   {
    "duration": 7,
    "start_time": "2022-11-08T16:05:19.037Z"
   },
   {
    "duration": 36,
    "start_time": "2022-11-08T16:05:19.922Z"
   },
   {
    "duration": 5,
    "start_time": "2022-11-08T16:08:11.342Z"
   },
   {
    "duration": 27,
    "start_time": "2022-11-08T16:08:11.722Z"
   },
   {
    "duration": 1764,
    "start_time": "2022-11-08T16:16:47.199Z"
   },
   {
    "duration": 505,
    "start_time": "2022-11-08T16:16:48.965Z"
   },
   {
    "duration": 41,
    "start_time": "2022-11-08T16:16:49.473Z"
   },
   {
    "duration": 93,
    "start_time": "2022-11-08T16:16:49.515Z"
   },
   {
    "duration": 174,
    "start_time": "2022-11-08T16:16:49.611Z"
   },
   {
    "duration": 195,
    "start_time": "2022-11-08T16:16:49.788Z"
   },
   {
    "duration": 208,
    "start_time": "2022-11-08T16:16:49.986Z"
   },
   {
    "duration": 5,
    "start_time": "2022-11-08T16:16:50.196Z"
   },
   {
    "duration": 413,
    "start_time": "2022-11-08T16:16:50.203Z"
   },
   {
    "duration": 2,
    "start_time": "2022-11-08T16:16:50.618Z"
   },
   {
    "duration": 371,
    "start_time": "2022-11-08T16:16:50.622Z"
   },
   {
    "duration": 5,
    "start_time": "2022-11-08T16:16:50.995Z"
   },
   {
    "duration": 328,
    "start_time": "2022-11-08T16:16:51.002Z"
   },
   {
    "duration": 11,
    "start_time": "2022-11-08T16:16:51.333Z"
   },
   {
    "duration": 54,
    "start_time": "2022-11-08T16:16:51.346Z"
   },
   {
    "duration": 3,
    "start_time": "2022-11-08T16:16:51.402Z"
   },
   {
    "duration": 24,
    "start_time": "2022-11-08T16:16:51.407Z"
   },
   {
    "duration": 18,
    "start_time": "2022-11-08T16:16:51.433Z"
   },
   {
    "duration": 5,
    "start_time": "2022-11-08T16:16:51.473Z"
   },
   {
    "duration": 30,
    "start_time": "2022-11-08T16:16:51.480Z"
   },
   {
    "duration": 105,
    "start_time": "2022-11-08T16:16:51.576Z"
   },
   {
    "duration": 102,
    "start_time": "2022-11-08T16:16:51.686Z"
   },
   {
    "duration": 236,
    "start_time": "2022-11-08T16:16:51.873Z"
   },
   {
    "duration": 4,
    "start_time": "2022-11-08T16:16:52.111Z"
   },
   {
    "duration": 17,
    "start_time": "2022-11-08T16:16:52.117Z"
   },
   {
    "duration": 4,
    "start_time": "2022-11-08T16:16:52.136Z"
   },
   {
    "duration": 8,
    "start_time": "2022-11-08T16:16:52.142Z"
   },
   {
    "duration": 22,
    "start_time": "2022-11-08T16:16:52.152Z"
   },
   {
    "duration": 21,
    "start_time": "2022-11-08T16:16:52.176Z"
   },
   {
    "duration": 11,
    "start_time": "2022-11-08T16:16:52.199Z"
   },
   {
    "duration": 176,
    "start_time": "2022-11-08T16:16:52.211Z"
   },
   {
    "duration": 0,
    "start_time": "2022-11-08T16:16:52.391Z"
   },
   {
    "duration": 0,
    "start_time": "2022-11-08T16:16:52.393Z"
   },
   {
    "duration": 26,
    "start_time": "2022-11-08T16:18:32.899Z"
   },
   {
    "duration": 6,
    "start_time": "2022-11-08T16:24:37.254Z"
   },
   {
    "duration": 6,
    "start_time": "2022-11-08T16:24:38.243Z"
   },
   {
    "duration": 1681,
    "start_time": "2022-11-08T16:25:58.153Z"
   },
   {
    "duration": 494,
    "start_time": "2022-11-08T16:25:59.837Z"
   },
   {
    "duration": 28,
    "start_time": "2022-11-08T16:26:00.333Z"
   },
   {
    "duration": 57,
    "start_time": "2022-11-08T16:26:00.374Z"
   },
   {
    "duration": 181,
    "start_time": "2022-11-08T16:26:00.434Z"
   },
   {
    "duration": 165,
    "start_time": "2022-11-08T16:26:00.618Z"
   },
   {
    "duration": 186,
    "start_time": "2022-11-08T16:26:00.786Z"
   },
   {
    "duration": 7,
    "start_time": "2022-11-08T16:26:00.975Z"
   },
   {
    "duration": 351,
    "start_time": "2022-11-08T16:26:00.985Z"
   },
   {
    "duration": 5,
    "start_time": "2022-11-08T16:26:01.338Z"
   },
   {
    "duration": 371,
    "start_time": "2022-11-08T16:26:01.345Z"
   },
   {
    "duration": 3,
    "start_time": "2022-11-08T16:26:01.718Z"
   },
   {
    "duration": 396,
    "start_time": "2022-11-08T16:26:01.722Z"
   },
   {
    "duration": 11,
    "start_time": "2022-11-08T16:26:02.121Z"
   },
   {
    "duration": 318,
    "start_time": "2022-11-08T16:26:02.134Z"
   },
   {
    "duration": 569,
    "start_time": "2022-11-08T16:26:02.454Z"
   },
   {
    "duration": 30,
    "start_time": "2022-11-08T16:26:03.025Z"
   },
   {
    "duration": 24,
    "start_time": "2022-11-08T16:26:03.057Z"
   },
   {
    "duration": 6,
    "start_time": "2022-11-08T16:26:03.085Z"
   },
   {
    "duration": 28,
    "start_time": "2022-11-08T16:26:03.094Z"
   },
   {
    "duration": 159,
    "start_time": "2022-11-08T16:26:03.126Z"
   },
   {
    "duration": 100,
    "start_time": "2022-11-08T16:26:03.287Z"
   },
   {
    "duration": 324,
    "start_time": "2022-11-08T16:26:03.391Z"
   },
   {
    "duration": 4,
    "start_time": "2022-11-08T16:26:03.717Z"
   },
   {
    "duration": 29,
    "start_time": "2022-11-08T16:26:03.722Z"
   },
   {
    "duration": 34,
    "start_time": "2022-11-08T16:26:03.754Z"
   },
   {
    "duration": 26,
    "start_time": "2022-11-08T16:26:03.791Z"
   },
   {
    "duration": 16,
    "start_time": "2022-11-08T16:26:03.818Z"
   },
   {
    "duration": 27,
    "start_time": "2022-11-08T16:26:03.836Z"
   },
   {
    "duration": 48,
    "start_time": "2022-11-08T16:26:03.865Z"
   },
   {
    "duration": 11,
    "start_time": "2022-11-08T16:26:03.915Z"
   },
   {
    "duration": 11,
    "start_time": "2022-11-08T16:26:03.927Z"
   },
   {
    "duration": 136,
    "start_time": "2022-11-08T16:26:03.940Z"
   },
   {
    "duration": 0,
    "start_time": "2022-11-08T16:26:04.078Z"
   },
   {
    "duration": 0,
    "start_time": "2022-11-08T16:26:04.079Z"
   },
   {
    "duration": 0,
    "start_time": "2022-11-08T16:26:04.080Z"
   },
   {
    "duration": 0,
    "start_time": "2022-11-08T16:26:04.085Z"
   },
   {
    "duration": 4,
    "start_time": "2022-11-08T16:26:48.727Z"
   },
   {
    "duration": 5,
    "start_time": "2022-11-08T16:26:49.295Z"
   },
   {
    "duration": 5,
    "start_time": "2022-11-08T16:26:51.356Z"
   },
   {
    "duration": 6,
    "start_time": "2022-11-08T16:26:53.227Z"
   },
   {
    "duration": 4,
    "start_time": "2022-11-08T16:27:39.061Z"
   },
   {
    "duration": 19,
    "start_time": "2022-11-08T16:27:39.425Z"
   },
   {
    "duration": 4,
    "start_time": "2022-11-08T16:27:49.751Z"
   },
   {
    "duration": 5,
    "start_time": "2022-11-08T16:27:50.005Z"
   },
   {
    "duration": 5,
    "start_time": "2022-11-08T16:27:50.445Z"
   },
   {
    "duration": 4,
    "start_time": "2022-11-08T16:27:51.236Z"
   },
   {
    "duration": 7,
    "start_time": "2022-11-08T16:27:53.859Z"
   },
   {
    "duration": 4,
    "start_time": "2022-11-08T16:28:07.926Z"
   },
   {
    "duration": 27,
    "start_time": "2022-11-08T16:28:08.720Z"
   },
   {
    "duration": 3,
    "start_time": "2022-11-08T16:28:34.450Z"
   },
   {
    "duration": 13,
    "start_time": "2022-11-08T16:28:34.699Z"
   },
   {
    "duration": 13,
    "start_time": "2022-11-08T16:28:34.936Z"
   },
   {
    "duration": 13,
    "start_time": "2022-11-08T16:28:35.409Z"
   },
   {
    "duration": 131,
    "start_time": "2022-11-08T16:28:38.276Z"
   },
   {
    "duration": 4,
    "start_time": "2022-11-08T16:28:38.987Z"
   },
   {
    "duration": 38,
    "start_time": "2022-11-08T16:28:39.175Z"
   },
   {
    "duration": 4,
    "start_time": "2022-11-08T16:28:39.537Z"
   },
   {
    "duration": 5,
    "start_time": "2022-11-08T16:28:39.979Z"
   },
   {
    "duration": 6,
    "start_time": "2022-11-08T16:28:41.743Z"
   },
   {
    "duration": 4,
    "start_time": "2022-11-08T16:28:42.327Z"
   },
   {
    "duration": 24,
    "start_time": "2022-11-08T16:28:43.963Z"
   },
   {
    "duration": 1488,
    "start_time": "2022-11-08T16:29:26.322Z"
   },
   {
    "duration": 409,
    "start_time": "2022-11-08T16:29:27.812Z"
   },
   {
    "duration": 32,
    "start_time": "2022-11-08T16:29:28.222Z"
   },
   {
    "duration": 47,
    "start_time": "2022-11-08T16:29:28.273Z"
   },
   {
    "duration": 152,
    "start_time": "2022-11-08T16:29:28.322Z"
   },
   {
    "duration": 144,
    "start_time": "2022-11-08T16:29:28.476Z"
   },
   {
    "duration": 163,
    "start_time": "2022-11-08T16:29:28.622Z"
   },
   {
    "duration": 2,
    "start_time": "2022-11-08T16:29:28.787Z"
   },
   {
    "duration": 318,
    "start_time": "2022-11-08T16:29:28.792Z"
   },
   {
    "duration": 2,
    "start_time": "2022-11-08T16:29:29.113Z"
   },
   {
    "duration": 294,
    "start_time": "2022-11-08T16:29:29.117Z"
   },
   {
    "duration": 2,
    "start_time": "2022-11-08T16:29:29.413Z"
   },
   {
    "duration": 326,
    "start_time": "2022-11-08T16:29:29.417Z"
   },
   {
    "duration": 12,
    "start_time": "2022-11-08T16:29:29.745Z"
   },
   {
    "duration": 73,
    "start_time": "2022-11-08T16:29:29.759Z"
   },
   {
    "duration": 4,
    "start_time": "2022-11-08T16:29:29.834Z"
   },
   {
    "duration": 36,
    "start_time": "2022-11-08T16:29:29.839Z"
   },
   {
    "duration": 26,
    "start_time": "2022-11-08T16:29:29.877Z"
   },
   {
    "duration": 3,
    "start_time": "2022-11-08T16:29:29.905Z"
   },
   {
    "duration": 25,
    "start_time": "2022-11-08T16:29:29.911Z"
   },
   {
    "duration": 106,
    "start_time": "2022-11-08T16:29:29.976Z"
   },
   {
    "duration": 214,
    "start_time": "2022-11-08T16:29:30.084Z"
   },
   {
    "duration": 324,
    "start_time": "2022-11-08T16:29:30.301Z"
   },
   {
    "duration": 3,
    "start_time": "2022-11-08T16:29:30.627Z"
   },
   {
    "duration": 53,
    "start_time": "2022-11-08T16:29:30.632Z"
   },
   {
    "duration": 33,
    "start_time": "2022-11-08T16:29:30.687Z"
   },
   {
    "duration": 32,
    "start_time": "2022-11-08T16:29:30.722Z"
   },
   {
    "duration": 28,
    "start_time": "2022-11-08T16:29:30.757Z"
   },
   {
    "duration": 55,
    "start_time": "2022-11-08T16:29:30.786Z"
   },
   {
    "duration": 36,
    "start_time": "2022-11-08T16:29:30.842Z"
   },
   {
    "duration": 43,
    "start_time": "2022-11-08T16:29:30.880Z"
   },
   {
    "duration": 167,
    "start_time": "2022-11-08T16:29:30.926Z"
   },
   {
    "duration": 0,
    "start_time": "2022-11-08T16:29:31.095Z"
   },
   {
    "duration": 0,
    "start_time": "2022-11-08T16:29:31.096Z"
   },
   {
    "duration": 0,
    "start_time": "2022-11-08T16:29:31.097Z"
   },
   {
    "duration": 0,
    "start_time": "2022-11-08T16:29:31.098Z"
   },
   {
    "duration": 28,
    "start_time": "2022-11-08T16:30:09.095Z"
   },
   {
    "duration": 1457,
    "start_time": "2022-11-08T16:30:25.121Z"
   },
   {
    "duration": 427,
    "start_time": "2022-11-08T16:30:26.580Z"
   },
   {
    "duration": 28,
    "start_time": "2022-11-08T16:30:27.009Z"
   },
   {
    "duration": 62,
    "start_time": "2022-11-08T16:30:27.040Z"
   },
   {
    "duration": 144,
    "start_time": "2022-11-08T16:30:27.104Z"
   },
   {
    "duration": 167,
    "start_time": "2022-11-08T16:30:27.250Z"
   },
   {
    "duration": 188,
    "start_time": "2022-11-08T16:30:27.419Z"
   },
   {
    "duration": 3,
    "start_time": "2022-11-08T16:30:27.608Z"
   },
   {
    "duration": 338,
    "start_time": "2022-11-08T16:30:27.613Z"
   },
   {
    "duration": 2,
    "start_time": "2022-11-08T16:30:27.954Z"
   },
   {
    "duration": 320,
    "start_time": "2022-11-08T16:30:27.957Z"
   },
   {
    "duration": 3,
    "start_time": "2022-11-08T16:30:28.279Z"
   },
   {
    "duration": 315,
    "start_time": "2022-11-08T16:30:28.283Z"
   },
   {
    "duration": 11,
    "start_time": "2022-11-08T16:30:28.600Z"
   },
   {
    "duration": 42,
    "start_time": "2022-11-08T16:30:28.613Z"
   },
   {
    "duration": 3,
    "start_time": "2022-11-08T16:30:28.657Z"
   },
   {
    "duration": 29,
    "start_time": "2022-11-08T16:30:28.661Z"
   },
   {
    "duration": 19,
    "start_time": "2022-11-08T16:30:28.692Z"
   },
   {
    "duration": 3,
    "start_time": "2022-11-08T16:30:28.714Z"
   },
   {
    "duration": 57,
    "start_time": "2022-11-08T16:30:28.719Z"
   },
   {
    "duration": 106,
    "start_time": "2022-11-08T16:30:28.779Z"
   },
   {
    "duration": 189,
    "start_time": "2022-11-08T16:30:28.887Z"
   },
   {
    "duration": 244,
    "start_time": "2022-11-08T16:30:29.079Z"
   },
   {
    "duration": 3,
    "start_time": "2022-11-08T16:30:29.326Z"
   },
   {
    "duration": 9,
    "start_time": "2022-11-08T16:30:29.331Z"
   },
   {
    "duration": 6,
    "start_time": "2022-11-08T16:30:29.342Z"
   },
   {
    "duration": 24,
    "start_time": "2022-11-08T16:30:29.350Z"
   },
   {
    "duration": 4,
    "start_time": "2022-11-08T16:30:29.379Z"
   },
   {
    "duration": 33,
    "start_time": "2022-11-08T16:30:29.385Z"
   },
   {
    "duration": 5,
    "start_time": "2022-11-08T16:30:29.421Z"
   },
   {
    "duration": 11,
    "start_time": "2022-11-08T16:30:29.428Z"
   },
   {
    "duration": 154,
    "start_time": "2022-11-08T16:30:29.441Z"
   },
   {
    "duration": 0,
    "start_time": "2022-11-08T16:30:29.599Z"
   },
   {
    "duration": 0,
    "start_time": "2022-11-08T16:30:29.601Z"
   },
   {
    "duration": 0,
    "start_time": "2022-11-08T16:30:29.603Z"
   },
   {
    "duration": 0,
    "start_time": "2022-11-08T16:30:29.605Z"
   },
   {
    "duration": 21,
    "start_time": "2022-11-08T16:30:45.922Z"
   },
   {
    "duration": 21,
    "start_time": "2022-11-08T16:31:12.034Z"
   },
   {
    "duration": 23,
    "start_time": "2022-11-08T16:32:33.015Z"
   },
   {
    "duration": 22,
    "start_time": "2022-11-08T16:33:00.574Z"
   },
   {
    "duration": 8,
    "start_time": "2022-11-08T16:37:09.422Z"
   },
   {
    "duration": 8,
    "start_time": "2022-11-08T16:37:47.639Z"
   },
   {
    "duration": 11,
    "start_time": "2022-11-08T16:37:57.184Z"
   },
   {
    "duration": 26,
    "start_time": "2022-11-08T16:39:53.054Z"
   },
   {
    "duration": 22,
    "start_time": "2022-11-08T16:40:46.753Z"
   },
   {
    "duration": 19,
    "start_time": "2022-11-08T16:42:08.018Z"
   },
   {
    "duration": 19,
    "start_time": "2022-11-08T16:42:15.681Z"
   },
   {
    "duration": 4,
    "start_time": "2022-11-08T16:46:42.740Z"
   },
   {
    "duration": 29,
    "start_time": "2022-11-08T16:46:45.061Z"
   },
   {
    "duration": 4,
    "start_time": "2022-11-08T16:47:11.651Z"
   },
   {
    "duration": 20,
    "start_time": "2022-11-08T16:47:14.352Z"
   },
   {
    "duration": 24,
    "start_time": "2022-11-08T16:47:29.831Z"
   },
   {
    "duration": 18,
    "start_time": "2022-11-08T16:47:43.795Z"
   },
   {
    "duration": 25,
    "start_time": "2022-11-08T16:47:57.529Z"
   },
   {
    "duration": 5,
    "start_time": "2022-11-08T16:49:32.382Z"
   },
   {
    "duration": 7,
    "start_time": "2022-11-08T16:54:22.500Z"
   },
   {
    "duration": 10,
    "start_time": "2022-11-08T16:55:17.559Z"
   },
   {
    "duration": 7,
    "start_time": "2022-11-08T16:55:29.340Z"
   },
   {
    "duration": 24,
    "start_time": "2022-11-08T16:55:33.518Z"
   },
   {
    "duration": 7,
    "start_time": "2022-11-08T16:55:48.926Z"
   },
   {
    "duration": 4,
    "start_time": "2022-11-08T16:56:20.800Z"
   },
   {
    "duration": 19,
    "start_time": "2022-11-08T16:56:21.350Z"
   },
   {
    "duration": 8,
    "start_time": "2022-11-08T16:58:39.578Z"
   },
   {
    "duration": 26,
    "start_time": "2022-11-08T16:58:40.535Z"
   },
   {
    "duration": 1537,
    "start_time": "2022-11-08T17:37:31.569Z"
   },
   {
    "duration": 405,
    "start_time": "2022-11-08T17:37:33.108Z"
   },
   {
    "duration": 27,
    "start_time": "2022-11-08T17:37:33.515Z"
   },
   {
    "duration": 63,
    "start_time": "2022-11-08T17:37:33.544Z"
   },
   {
    "duration": 143,
    "start_time": "2022-11-08T17:37:33.612Z"
   },
   {
    "duration": 149,
    "start_time": "2022-11-08T17:37:33.757Z"
   },
   {
    "duration": 155,
    "start_time": "2022-11-08T17:37:33.908Z"
   },
   {
    "duration": 3,
    "start_time": "2022-11-08T17:37:34.072Z"
   },
   {
    "duration": 309,
    "start_time": "2022-11-08T17:37:34.076Z"
   },
   {
    "duration": 3,
    "start_time": "2022-11-08T17:37:34.388Z"
   },
   {
    "duration": 299,
    "start_time": "2022-11-08T17:37:34.392Z"
   },
   {
    "duration": 2,
    "start_time": "2022-11-08T17:37:34.693Z"
   },
   {
    "duration": 294,
    "start_time": "2022-11-08T17:37:34.697Z"
   },
   {
    "duration": 9,
    "start_time": "2022-11-08T17:37:34.993Z"
   },
   {
    "duration": 35,
    "start_time": "2022-11-08T17:37:35.003Z"
   },
   {
    "duration": 3,
    "start_time": "2022-11-08T17:37:35.040Z"
   },
   {
    "duration": 41,
    "start_time": "2022-11-08T17:37:35.044Z"
   },
   {
    "duration": 19,
    "start_time": "2022-11-08T17:37:35.087Z"
   },
   {
    "duration": 2,
    "start_time": "2022-11-08T17:37:35.108Z"
   },
   {
    "duration": 66,
    "start_time": "2022-11-08T17:37:35.112Z"
   },
   {
    "duration": 104,
    "start_time": "2022-11-08T17:37:35.180Z"
   },
   {
    "duration": 187,
    "start_time": "2022-11-08T17:37:35.286Z"
   },
   {
    "duration": 213,
    "start_time": "2022-11-08T17:37:35.475Z"
   },
   {
    "duration": 3,
    "start_time": "2022-11-08T17:37:35.689Z"
   },
   {
    "duration": 10,
    "start_time": "2022-11-08T17:37:35.694Z"
   },
   {
    "duration": 5,
    "start_time": "2022-11-08T17:37:35.706Z"
   },
   {
    "duration": 7,
    "start_time": "2022-11-08T17:37:35.713Z"
   },
   {
    "duration": 27,
    "start_time": "2022-11-08T17:37:35.723Z"
   },
   {
    "duration": 22,
    "start_time": "2022-11-08T17:37:35.753Z"
   },
   {
    "duration": 154,
    "start_time": "2022-11-08T17:37:35.777Z"
   },
   {
    "duration": 0,
    "start_time": "2022-11-08T17:37:35.933Z"
   },
   {
    "duration": 0,
    "start_time": "2022-11-08T17:37:35.934Z"
   },
   {
    "duration": 46,
    "start_time": "2022-11-08T21:36:31.461Z"
   },
   {
    "duration": 1446,
    "start_time": "2022-11-08T21:36:36.891Z"
   },
   {
    "duration": 1385,
    "start_time": "2022-11-08T21:36:38.338Z"
   },
   {
    "duration": 26,
    "start_time": "2022-11-08T21:36:39.724Z"
   },
   {
    "duration": 40,
    "start_time": "2022-11-08T21:36:39.751Z"
   },
   {
    "duration": 121,
    "start_time": "2022-11-08T21:36:39.793Z"
   },
   {
    "duration": 126,
    "start_time": "2022-11-08T21:36:39.915Z"
   },
   {
    "duration": 130,
    "start_time": "2022-11-08T21:36:40.043Z"
   },
   {
    "duration": 2,
    "start_time": "2022-11-08T21:36:40.175Z"
   },
   {
    "duration": 396,
    "start_time": "2022-11-08T21:36:40.178Z"
   },
   {
    "duration": 2,
    "start_time": "2022-11-08T21:36:40.577Z"
   },
   {
    "duration": 279,
    "start_time": "2022-11-08T21:36:40.581Z"
   },
   {
    "duration": 3,
    "start_time": "2022-11-08T21:36:40.861Z"
   },
   {
    "duration": 292,
    "start_time": "2022-11-08T21:36:40.865Z"
   },
   {
    "duration": 9,
    "start_time": "2022-11-08T21:36:41.158Z"
   },
   {
    "duration": 43,
    "start_time": "2022-11-08T21:36:41.168Z"
   },
   {
    "duration": 3,
    "start_time": "2022-11-08T21:36:41.213Z"
   },
   {
    "duration": 21,
    "start_time": "2022-11-08T21:36:41.217Z"
   },
   {
    "duration": 17,
    "start_time": "2022-11-08T21:36:41.239Z"
   },
   {
    "duration": 17,
    "start_time": "2022-11-08T21:36:43.255Z"
   },
   {
    "duration": 262,
    "start_time": "2022-11-08T21:36:43.701Z"
   },
   {
    "duration": 261,
    "start_time": "2022-11-08T21:36:54.417Z"
   },
   {
    "duration": 18,
    "start_time": "2022-11-08T21:38:25.360Z"
   },
   {
    "duration": 25,
    "start_time": "2022-11-08T21:38:26.437Z"
   },
   {
    "duration": 344,
    "start_time": "2022-11-08T21:38:27.035Z"
   },
   {
    "duration": 240,
    "start_time": "2022-11-08T21:39:05.885Z"
   },
   {
    "duration": 4,
    "start_time": "2022-11-08T21:41:25.839Z"
   },
   {
    "duration": 97,
    "start_time": "2022-11-08T21:41:27.740Z"
   },
   {
    "duration": 36,
    "start_time": "2022-11-08T21:41:54.874Z"
   },
   {
    "duration": 261,
    "start_time": "2022-11-08T21:41:56.601Z"
   },
   {
    "duration": 3,
    "start_time": "2022-11-08T21:42:15.815Z"
   },
   {
    "duration": 155,
    "start_time": "2022-11-08T21:42:16.778Z"
   },
   {
    "duration": 14,
    "start_time": "2022-11-08T21:42:18.489Z"
   },
   {
    "duration": 13,
    "start_time": "2022-11-08T21:42:20.244Z"
   },
   {
    "duration": 104,
    "start_time": "2022-11-08T21:42:22.392Z"
   },
   {
    "duration": 3,
    "start_time": "2022-11-08T21:42:26.709Z"
   },
   {
    "duration": 4,
    "start_time": "2022-11-08T21:42:28.229Z"
   },
   {
    "duration": 4,
    "start_time": "2022-11-08T21:42:29.601Z"
   },
   {
    "duration": 3,
    "start_time": "2022-11-08T21:42:33.127Z"
   },
   {
    "duration": 18,
    "start_time": "2022-11-08T21:42:34.624Z"
   },
   {
    "duration": 5,
    "start_time": "2022-11-08T21:42:38.306Z"
   },
   {
    "duration": 26,
    "start_time": "2022-11-08T21:42:41.172Z"
   },
   {
    "duration": 2,
    "start_time": "2022-11-08T21:45:42.400Z"
   },
   {
    "duration": 13,
    "start_time": "2022-11-08T21:45:42.970Z"
   },
   {
    "duration": 14,
    "start_time": "2022-11-08T21:45:49.738Z"
   },
   {
    "duration": 13,
    "start_time": "2022-11-08T21:45:57.387Z"
   },
   {
    "duration": 15,
    "start_time": "2022-11-08T21:46:52.033Z"
   },
   {
    "duration": 14,
    "start_time": "2022-11-08T21:47:04.277Z"
   },
   {
    "duration": 16,
    "start_time": "2022-11-08T21:47:21.702Z"
   },
   {
    "duration": 5,
    "start_time": "2022-11-08T21:47:56.300Z"
   },
   {
    "duration": 410,
    "start_time": "2022-11-08T21:47:56.308Z"
   },
   {
    "duration": 24,
    "start_time": "2022-11-08T21:47:56.720Z"
   },
   {
    "duration": 47,
    "start_time": "2022-11-08T21:47:56.746Z"
   },
   {
    "duration": 138,
    "start_time": "2022-11-08T21:47:56.796Z"
   },
   {
    "duration": 128,
    "start_time": "2022-11-08T21:47:56.935Z"
   },
   {
    "duration": 122,
    "start_time": "2022-11-08T21:47:57.065Z"
   },
   {
    "duration": 2,
    "start_time": "2022-11-08T21:47:57.189Z"
   },
   {
    "duration": 292,
    "start_time": "2022-11-08T21:47:57.193Z"
   },
   {
    "duration": 2,
    "start_time": "2022-11-08T21:47:57.487Z"
   },
   {
    "duration": 296,
    "start_time": "2022-11-08T21:47:57.490Z"
   },
   {
    "duration": 2,
    "start_time": "2022-11-08T21:47:57.788Z"
   },
   {
    "duration": 278,
    "start_time": "2022-11-08T21:47:57.792Z"
   },
   {
    "duration": 8,
    "start_time": "2022-11-08T21:47:58.073Z"
   },
   {
    "duration": 36,
    "start_time": "2022-11-08T21:47:58.083Z"
   },
   {
    "duration": 3,
    "start_time": "2022-11-08T21:47:58.121Z"
   },
   {
    "duration": 40,
    "start_time": "2022-11-08T21:47:58.126Z"
   },
   {
    "duration": 273,
    "start_time": "2022-11-08T21:47:58.167Z"
   },
   {
    "duration": 3,
    "start_time": "2022-11-08T21:47:58.442Z"
   },
   {
    "duration": 10,
    "start_time": "2022-11-08T21:47:58.446Z"
   },
   {
    "duration": 76,
    "start_time": "2022-11-08T21:47:58.457Z"
   },
   {
    "duration": 107,
    "start_time": "2022-11-08T21:47:58.535Z"
   },
   {
    "duration": 16,
    "start_time": "2022-11-08T21:48:03.257Z"
   },
   {
    "duration": 14,
    "start_time": "2022-11-08T21:48:03.754Z"
   },
   {
    "duration": 98,
    "start_time": "2022-11-08T21:48:07.012Z"
   },
   {
    "duration": 3,
    "start_time": "2022-11-08T21:48:10.441Z"
   },
   {
    "duration": 3,
    "start_time": "2022-11-08T21:50:16.821Z"
   },
   {
    "duration": 28,
    "start_time": "2022-11-08T21:50:17.878Z"
   },
   {
    "duration": 19,
    "start_time": "2022-11-08T21:51:40.102Z"
   },
   {
    "duration": 25,
    "start_time": "2022-11-08T21:51:40.674Z"
   },
   {
    "duration": 15,
    "start_time": "2022-11-08T21:51:41.564Z"
   },
   {
    "duration": 103,
    "start_time": "2022-11-08T21:51:43.314Z"
   },
   {
    "duration": 5,
    "start_time": "2022-11-08T21:51:45.511Z"
   },
   {
    "duration": 4,
    "start_time": "2022-11-08T21:51:47.050Z"
   },
   {
    "duration": 5,
    "start_time": "2022-11-08T21:51:48.191Z"
   },
   {
    "duration": 9,
    "start_time": "2022-11-08T21:51:51.971Z"
   },
   {
    "duration": 12,
    "start_time": "2022-11-08T21:52:45.395Z"
   },
   {
    "duration": 4,
    "start_time": "2022-11-08T21:53:08.258Z"
   },
   {
    "duration": 3,
    "start_time": "2022-11-08T21:53:12.740Z"
   },
   {
    "duration": 23,
    "start_time": "2022-11-08T21:53:15.583Z"
   },
   {
    "duration": 5,
    "start_time": "2022-11-08T21:56:40.058Z"
   },
   {
    "duration": 1345,
    "start_time": "2022-11-08T21:56:41.241Z"
   },
   {
    "duration": 1362,
    "start_time": "2022-11-08T21:56:46.323Z"
   },
   {
    "duration": 11,
    "start_time": "2022-11-08T21:56:49.142Z"
   },
   {
    "duration": 1386,
    "start_time": "2022-11-08T21:57:12.773Z"
   },
   {
    "duration": 5,
    "start_time": "2022-11-08T22:00:40.028Z"
   },
   {
    "duration": 1337,
    "start_time": "2022-11-08T22:00:40.436Z"
   },
   {
    "duration": 1297,
    "start_time": "2022-11-08T22:00:43.308Z"
   },
   {
    "duration": 1315,
    "start_time": "2022-11-08T22:00:44.607Z"
   },
   {
    "duration": 3,
    "start_time": "2022-11-08T22:24:22.224Z"
   },
   {
    "duration": 4,
    "start_time": "2022-11-08T22:24:23.244Z"
   },
   {
    "duration": 3,
    "start_time": "2022-11-08T22:25:43.280Z"
   },
   {
    "duration": 4,
    "start_time": "2022-11-08T22:26:50.645Z"
   },
   {
    "duration": 4,
    "start_time": "2022-11-08T22:26:51.915Z"
   },
   {
    "duration": 3,
    "start_time": "2022-11-08T22:26:52.651Z"
   },
   {
    "duration": 18,
    "start_time": "2022-11-08T22:26:53.494Z"
   },
   {
    "duration": 17,
    "start_time": "2022-11-08T22:27:09.192Z"
   },
   {
    "duration": 260,
    "start_time": "2022-11-08T22:34:41.117Z"
   },
   {
    "duration": 255,
    "start_time": "2022-11-08T22:34:43.204Z"
   },
   {
    "duration": 4,
    "start_time": "2022-11-08T23:01:52.521Z"
   },
   {
    "duration": 1265,
    "start_time": "2022-11-08T23:01:52.961Z"
   },
   {
    "duration": 1269,
    "start_time": "2022-11-08T23:01:58.553Z"
   },
   {
    "duration": 1358,
    "start_time": "2022-11-08T23:01:59.824Z"
   },
   {
    "duration": 1311,
    "start_time": "2022-11-08T23:12:53.551Z"
   },
   {
    "duration": 365,
    "start_time": "2022-11-08T23:12:54.864Z"
   },
   {
    "duration": 26,
    "start_time": "2022-11-08T23:12:55.231Z"
   },
   {
    "duration": 42,
    "start_time": "2022-11-08T23:12:55.259Z"
   },
   {
    "duration": 120,
    "start_time": "2022-11-08T23:12:55.333Z"
   },
   {
    "duration": 122,
    "start_time": "2022-11-08T23:12:55.455Z"
   },
   {
    "duration": 135,
    "start_time": "2022-11-08T23:12:55.579Z"
   },
   {
    "duration": 408408,
    "start_time": "2022-11-08T23:12:55.716Z"
   },
   {
    "duration": 293,
    "start_time": "2022-11-08T23:19:44.132Z"
   },
   {
    "duration": 28801,
    "start_time": "2022-11-08T23:19:44.432Z"
   },
   {
    "duration": 278,
    "start_time": "2022-11-08T23:20:13.235Z"
   },
   {
    "duration": 1313,
    "start_time": "2022-11-08T23:21:18.569Z"
   },
   {
    "duration": 364,
    "start_time": "2022-11-08T23:21:19.884Z"
   },
   {
    "duration": 25,
    "start_time": "2022-11-08T23:21:20.250Z"
   },
   {
    "duration": 57,
    "start_time": "2022-11-08T23:21:20.276Z"
   },
   {
    "duration": 121,
    "start_time": "2022-11-08T23:21:20.336Z"
   },
   {
    "duration": 121,
    "start_time": "2022-11-08T23:21:20.459Z"
   },
   {
    "duration": 137,
    "start_time": "2022-11-08T23:21:20.581Z"
   },
   {
    "duration": 2,
    "start_time": "2022-11-08T23:21:20.720Z"
   },
   {
    "duration": 314,
    "start_time": "2022-11-08T23:21:20.723Z"
   },
   {
    "duration": 3,
    "start_time": "2022-11-08T23:21:21.039Z"
   },
   {
    "duration": 299,
    "start_time": "2022-11-08T23:21:21.044Z"
   },
   {
    "duration": 2,
    "start_time": "2022-11-08T23:21:21.345Z"
   },
   {
    "duration": 289,
    "start_time": "2022-11-08T23:21:21.348Z"
   },
   {
    "duration": 8,
    "start_time": "2022-11-08T23:21:21.640Z"
   },
   {
    "duration": 40,
    "start_time": "2022-11-08T23:21:21.650Z"
   },
   {
    "duration": 4,
    "start_time": "2022-11-08T23:21:21.691Z"
   },
   {
    "duration": 56,
    "start_time": "2022-11-08T23:21:21.696Z"
   },
   {
    "duration": 265,
    "start_time": "2022-11-08T23:21:21.753Z"
   },
   {
    "duration": 245,
    "start_time": "2022-11-08T23:21:22.021Z"
   },
   {
    "duration": 323,
    "start_time": "2022-11-08T23:21:22.267Z"
   },
   {
    "duration": 3,
    "start_time": "2022-11-08T23:21:22.592Z"
   },
   {
    "duration": 6,
    "start_time": "2022-11-08T23:21:22.597Z"
   },
   {
    "duration": 29,
    "start_time": "2022-11-08T23:21:22.605Z"
   },
   {
    "duration": 199,
    "start_time": "2022-11-08T23:21:22.635Z"
   },
   {
    "duration": 113,
    "start_time": "2022-11-08T23:21:22.836Z"
   },
   {
    "duration": 283,
    "start_time": "2022-11-08T23:21:22.951Z"
   },
   {
    "duration": 3,
    "start_time": "2022-11-08T23:21:23.236Z"
   },
   {
    "duration": 6,
    "start_time": "2022-11-08T23:21:23.241Z"
   },
   {
    "duration": 5,
    "start_time": "2022-11-08T23:21:23.249Z"
   },
   {
    "duration": 6,
    "start_time": "2022-11-08T23:21:23.255Z"
   },
   {
    "duration": 22,
    "start_time": "2022-11-08T23:21:23.262Z"
   },
   {
    "duration": 5,
    "start_time": "2022-11-08T23:21:23.285Z"
   },
   {
    "duration": 1271,
    "start_time": "2022-11-08T23:21:23.291Z"
   },
   {
    "duration": 1241,
    "start_time": "2022-11-08T23:21:24.563Z"
   },
   {
    "duration": 1340,
    "start_time": "2022-11-08T23:21:25.806Z"
   },
   {
    "duration": 47,
    "start_time": "2022-11-10T08:12:36.445Z"
   },
   {
    "duration": 1577,
    "start_time": "2022-11-10T08:12:51.574Z"
   },
   {
    "duration": 10,
    "start_time": "2022-11-10T08:12:59.144Z"
   },
   {
    "duration": 1494,
    "start_time": "2022-11-10T08:40:46.160Z"
   },
   {
    "duration": 3,
    "start_time": "2022-11-10T08:40:47.656Z"
   },
   {
    "duration": 7,
    "start_time": "2022-11-10T08:40:47.660Z"
   },
   {
    "duration": 960,
    "start_time": "2022-11-10T08:40:47.669Z"
   },
   {
    "duration": 23,
    "start_time": "2022-11-10T08:40:48.630Z"
   },
   {
    "duration": 51,
    "start_time": "2022-11-10T08:40:48.655Z"
   },
   {
    "duration": 128,
    "start_time": "2022-11-10T08:40:48.709Z"
   },
   {
    "duration": 124,
    "start_time": "2022-11-10T08:40:48.838Z"
   },
   {
    "duration": 165,
    "start_time": "2022-11-10T08:40:48.964Z"
   },
   {
    "duration": 3,
    "start_time": "2022-11-10T08:40:49.133Z"
   },
   {
    "duration": 293,
    "start_time": "2022-11-10T08:40:49.137Z"
   },
   {
    "duration": 2,
    "start_time": "2022-11-10T08:40:49.432Z"
   },
   {
    "duration": 274,
    "start_time": "2022-11-10T08:40:49.436Z"
   },
   {
    "duration": 4,
    "start_time": "2022-11-10T08:40:49.713Z"
   },
   {
    "duration": 287,
    "start_time": "2022-11-10T08:40:49.719Z"
   },
   {
    "duration": 11,
    "start_time": "2022-11-10T08:40:50.009Z"
   },
   {
    "duration": 36,
    "start_time": "2022-11-10T08:40:50.022Z"
   },
   {
    "duration": 2,
    "start_time": "2022-11-10T08:40:50.060Z"
   },
   {
    "duration": 6,
    "start_time": "2022-11-10T08:40:50.064Z"
   },
   {
    "duration": 13,
    "start_time": "2022-11-10T08:40:50.071Z"
   },
   {
    "duration": 16,
    "start_time": "2022-11-10T08:40:50.086Z"
   },
   {
    "duration": 13,
    "start_time": "2022-11-10T08:40:50.104Z"
   },
   {
    "duration": 6,
    "start_time": "2022-11-10T08:40:50.119Z"
   },
   {
    "duration": 10,
    "start_time": "2022-11-10T08:40:50.126Z"
   },
   {
    "duration": 22,
    "start_time": "2022-11-10T08:40:50.137Z"
   },
   {
    "duration": 10,
    "start_time": "2022-11-10T08:40:50.161Z"
   },
   {
    "duration": 10,
    "start_time": "2022-11-10T08:40:50.173Z"
   },
   {
    "duration": 17,
    "start_time": "2022-11-10T08:40:50.186Z"
   },
   {
    "duration": 284,
    "start_time": "2022-11-10T08:40:50.210Z"
   },
   {
    "duration": 0,
    "start_time": "2022-11-10T08:40:50.505Z"
   },
   {
    "duration": 0,
    "start_time": "2022-11-10T08:40:50.507Z"
   },
   {
    "duration": 0,
    "start_time": "2022-11-10T08:40:50.508Z"
   },
   {
    "duration": 0,
    "start_time": "2022-11-10T08:40:50.509Z"
   },
   {
    "duration": 0,
    "start_time": "2022-11-10T08:40:50.514Z"
   },
   {
    "duration": 0,
    "start_time": "2022-11-10T08:40:50.516Z"
   },
   {
    "duration": 0,
    "start_time": "2022-11-10T08:40:50.518Z"
   },
   {
    "duration": 0,
    "start_time": "2022-11-10T08:40:50.519Z"
   },
   {
    "duration": 0,
    "start_time": "2022-11-10T08:40:50.520Z"
   },
   {
    "duration": 0,
    "start_time": "2022-11-10T08:40:50.522Z"
   },
   {
    "duration": 0,
    "start_time": "2022-11-10T08:40:50.523Z"
   },
   {
    "duration": 0,
    "start_time": "2022-11-10T08:40:50.524Z"
   },
   {
    "duration": 0,
    "start_time": "2022-11-10T08:40:50.525Z"
   },
   {
    "duration": 1519,
    "start_time": "2022-11-10T08:41:56.610Z"
   },
   {
    "duration": 2,
    "start_time": "2022-11-10T08:41:58.132Z"
   },
   {
    "duration": 11,
    "start_time": "2022-11-10T08:41:58.135Z"
   },
   {
    "duration": 411,
    "start_time": "2022-11-10T08:41:58.147Z"
   },
   {
    "duration": 23,
    "start_time": "2022-11-10T08:41:58.561Z"
   },
   {
    "duration": 55,
    "start_time": "2022-11-10T08:41:58.586Z"
   },
   {
    "duration": 125,
    "start_time": "2022-11-10T08:41:58.643Z"
   },
   {
    "duration": 143,
    "start_time": "2022-11-10T08:41:58.770Z"
   },
   {
    "duration": 143,
    "start_time": "2022-11-10T08:41:58.915Z"
   },
   {
    "duration": 2,
    "start_time": "2022-11-10T08:41:59.060Z"
   },
   {
    "duration": 302,
    "start_time": "2022-11-10T08:41:59.064Z"
   },
   {
    "duration": 2,
    "start_time": "2022-11-10T08:41:59.368Z"
   },
   {
    "duration": 294,
    "start_time": "2022-11-10T08:41:59.371Z"
   },
   {
    "duration": 2,
    "start_time": "2022-11-10T08:41:59.668Z"
   },
   {
    "duration": 321,
    "start_time": "2022-11-10T08:41:59.671Z"
   },
   {
    "duration": 18,
    "start_time": "2022-11-10T08:41:59.994Z"
   },
   {
    "duration": 48,
    "start_time": "2022-11-10T08:42:00.014Z"
   },
   {
    "duration": 6,
    "start_time": "2022-11-10T08:42:00.064Z"
   },
   {
    "duration": 18,
    "start_time": "2022-11-10T08:42:00.071Z"
   },
   {
    "duration": 23,
    "start_time": "2022-11-10T08:42:00.091Z"
   },
   {
    "duration": 26,
    "start_time": "2022-11-10T08:42:00.116Z"
   },
   {
    "duration": 43,
    "start_time": "2022-11-10T08:42:00.144Z"
   },
   {
    "duration": 34,
    "start_time": "2022-11-10T08:42:00.190Z"
   },
   {
    "duration": 62,
    "start_time": "2022-11-10T08:42:00.226Z"
   },
   {
    "duration": 33,
    "start_time": "2022-11-10T08:42:00.289Z"
   },
   {
    "duration": 19,
    "start_time": "2022-11-10T08:42:00.324Z"
   },
   {
    "duration": 38,
    "start_time": "2022-11-10T08:42:00.344Z"
   },
   {
    "duration": 24,
    "start_time": "2022-11-10T08:42:00.383Z"
   },
   {
    "duration": 37,
    "start_time": "2022-11-10T08:42:00.409Z"
   },
   {
    "duration": 174,
    "start_time": "2022-11-10T08:42:00.448Z"
   },
   {
    "duration": 193,
    "start_time": "2022-11-10T08:42:00.624Z"
   },
   {
    "duration": 298,
    "start_time": "2022-11-10T08:42:00.820Z"
   },
   {
    "duration": 2,
    "start_time": "2022-11-10T08:42:01.121Z"
   },
   {
    "duration": 25,
    "start_time": "2022-11-10T08:42:01.124Z"
   },
   {
    "duration": 213,
    "start_time": "2022-11-10T08:42:01.151Z"
   },
   {
    "duration": 0,
    "start_time": "2022-11-10T08:42:01.365Z"
   },
   {
    "duration": 0,
    "start_time": "2022-11-10T08:42:01.366Z"
   },
   {
    "duration": 0,
    "start_time": "2022-11-10T08:42:01.367Z"
   },
   {
    "duration": 0,
    "start_time": "2022-11-10T08:42:01.368Z"
   },
   {
    "duration": 0,
    "start_time": "2022-11-10T08:42:01.369Z"
   },
   {
    "duration": 0,
    "start_time": "2022-11-10T08:42:01.370Z"
   },
   {
    "duration": 0,
    "start_time": "2022-11-10T08:42:01.371Z"
   },
   {
    "duration": 4,
    "start_time": "2022-11-10T08:47:29.597Z"
   },
   {
    "duration": 1557,
    "start_time": "2022-11-10T08:47:38.177Z"
   },
   {
    "duration": 2,
    "start_time": "2022-11-10T08:47:39.736Z"
   },
   {
    "duration": 9,
    "start_time": "2022-11-10T08:47:39.739Z"
   },
   {
    "duration": 394,
    "start_time": "2022-11-10T08:47:39.750Z"
   },
   {
    "duration": 37,
    "start_time": "2022-11-10T08:47:40.146Z"
   },
   {
    "duration": 53,
    "start_time": "2022-11-10T08:47:40.185Z"
   },
   {
    "duration": 125,
    "start_time": "2022-11-10T08:47:40.240Z"
   },
   {
    "duration": 138,
    "start_time": "2022-11-10T08:47:40.367Z"
   },
   {
    "duration": 140,
    "start_time": "2022-11-10T08:47:40.506Z"
   },
   {
    "duration": 3,
    "start_time": "2022-11-10T08:47:40.648Z"
   },
   {
    "duration": 329,
    "start_time": "2022-11-10T08:47:40.652Z"
   },
   {
    "duration": 3,
    "start_time": "2022-11-10T08:47:40.983Z"
   },
   {
    "duration": 335,
    "start_time": "2022-11-10T08:47:40.987Z"
   },
   {
    "duration": 2,
    "start_time": "2022-11-10T08:47:41.324Z"
   },
   {
    "duration": 302,
    "start_time": "2022-11-10T08:47:41.328Z"
   },
   {
    "duration": 8,
    "start_time": "2022-11-10T08:47:41.632Z"
   },
   {
    "duration": 41,
    "start_time": "2022-11-10T08:47:41.642Z"
   },
   {
    "duration": 3,
    "start_time": "2022-11-10T08:47:41.685Z"
   },
   {
    "duration": 11,
    "start_time": "2022-11-10T08:47:41.690Z"
   },
   {
    "duration": 6,
    "start_time": "2022-11-10T08:47:41.705Z"
   },
   {
    "duration": 12,
    "start_time": "2022-11-10T08:47:41.712Z"
   },
   {
    "duration": 5,
    "start_time": "2022-11-10T08:47:41.726Z"
   },
   {
    "duration": 7,
    "start_time": "2022-11-10T08:47:41.733Z"
   },
   {
    "duration": 12,
    "start_time": "2022-11-10T08:47:41.742Z"
   },
   {
    "duration": 17,
    "start_time": "2022-11-10T08:47:41.756Z"
   },
   {
    "duration": 31,
    "start_time": "2022-11-10T08:47:41.775Z"
   },
   {
    "duration": 19,
    "start_time": "2022-11-10T08:47:41.807Z"
   },
   {
    "duration": 18,
    "start_time": "2022-11-10T08:47:41.829Z"
   },
   {
    "duration": 58,
    "start_time": "2022-11-10T08:47:41.848Z"
   },
   {
    "duration": 209,
    "start_time": "2022-11-10T08:47:41.909Z"
   },
   {
    "duration": 220,
    "start_time": "2022-11-10T08:47:42.121Z"
   },
   {
    "duration": 295,
    "start_time": "2022-11-10T08:47:42.345Z"
   },
   {
    "duration": 3,
    "start_time": "2022-11-10T08:47:42.642Z"
   },
   {
    "duration": 90,
    "start_time": "2022-11-10T08:47:42.647Z"
   },
   {
    "duration": 79,
    "start_time": "2022-11-10T08:47:42.739Z"
   },
   {
    "duration": 153,
    "start_time": "2022-11-10T08:47:42.819Z"
   },
   {
    "duration": 201,
    "start_time": "2022-11-10T08:47:42.974Z"
   },
   {
    "duration": 0,
    "start_time": "2022-11-10T08:47:43.177Z"
   },
   {
    "duration": 0,
    "start_time": "2022-11-10T08:47:43.178Z"
   },
   {
    "duration": 0,
    "start_time": "2022-11-10T08:47:43.179Z"
   },
   {
    "duration": 0,
    "start_time": "2022-11-10T08:47:43.180Z"
   },
   {
    "duration": 25,
    "start_time": "2022-11-10T08:49:56.482Z"
   },
   {
    "duration": 1357,
    "start_time": "2022-11-10T08:54:27.624Z"
   },
   {
    "duration": 2,
    "start_time": "2022-11-10T08:54:28.983Z"
   },
   {
    "duration": 15,
    "start_time": "2022-11-10T08:54:28.987Z"
   },
   {
    "duration": 389,
    "start_time": "2022-11-10T08:54:29.004Z"
   },
   {
    "duration": 28,
    "start_time": "2022-11-10T08:54:29.395Z"
   },
   {
    "duration": 43,
    "start_time": "2022-11-10T08:54:29.426Z"
   },
   {
    "duration": 143,
    "start_time": "2022-11-10T08:54:29.471Z"
   },
   {
    "duration": 124,
    "start_time": "2022-11-10T08:54:29.616Z"
   },
   {
    "duration": 125,
    "start_time": "2022-11-10T08:54:29.742Z"
   },
   {
    "duration": 2,
    "start_time": "2022-11-10T08:54:29.870Z"
   },
   {
    "duration": 343,
    "start_time": "2022-11-10T08:54:29.873Z"
   },
   {
    "duration": 2,
    "start_time": "2022-11-10T08:54:30.218Z"
   },
   {
    "duration": 283,
    "start_time": "2022-11-10T08:54:30.222Z"
   },
   {
    "duration": 3,
    "start_time": "2022-11-10T08:54:30.507Z"
   },
   {
    "duration": 277,
    "start_time": "2022-11-10T08:54:30.512Z"
   },
   {
    "duration": 17,
    "start_time": "2022-11-10T08:54:30.790Z"
   },
   {
    "duration": 50,
    "start_time": "2022-11-10T08:54:30.809Z"
   },
   {
    "duration": 2,
    "start_time": "2022-11-10T08:54:30.861Z"
   },
   {
    "duration": 11,
    "start_time": "2022-11-10T08:54:30.864Z"
   },
   {
    "duration": 9,
    "start_time": "2022-11-10T08:54:30.877Z"
   },
   {
    "duration": 14,
    "start_time": "2022-11-10T08:54:30.888Z"
   },
   {
    "duration": 16,
    "start_time": "2022-11-10T08:54:30.904Z"
   },
   {
    "duration": 19,
    "start_time": "2022-11-10T08:54:30.922Z"
   },
   {
    "duration": 23,
    "start_time": "2022-11-10T08:54:30.943Z"
   },
   {
    "duration": 18,
    "start_time": "2022-11-10T08:54:30.967Z"
   },
   {
    "duration": 31,
    "start_time": "2022-11-10T08:54:30.986Z"
   },
   {
    "duration": 197,
    "start_time": "2022-11-10T08:54:31.019Z"
   },
   {
    "duration": 210,
    "start_time": "2022-11-10T08:54:31.220Z"
   },
   {
    "duration": 280,
    "start_time": "2022-11-10T08:54:31.433Z"
   },
   {
    "duration": 2,
    "start_time": "2022-11-10T08:54:31.714Z"
   },
   {
    "duration": 20,
    "start_time": "2022-11-10T08:54:31.717Z"
   },
   {
    "duration": 8,
    "start_time": "2022-11-10T08:54:31.738Z"
   },
   {
    "duration": 9,
    "start_time": "2022-11-10T08:54:31.747Z"
   },
   {
    "duration": 117,
    "start_time": "2022-11-10T08:54:31.758Z"
   },
   {
    "duration": 0,
    "start_time": "2022-11-10T08:54:31.877Z"
   },
   {
    "duration": 0,
    "start_time": "2022-11-10T08:54:31.878Z"
   },
   {
    "duration": 0,
    "start_time": "2022-11-10T08:54:31.880Z"
   },
   {
    "duration": 0,
    "start_time": "2022-11-10T08:54:31.881Z"
   },
   {
    "duration": 1376,
    "start_time": "2022-11-10T08:56:39.259Z"
   },
   {
    "duration": 2,
    "start_time": "2022-11-10T08:56:40.637Z"
   },
   {
    "duration": 8,
    "start_time": "2022-11-10T08:56:40.641Z"
   },
   {
    "duration": 406,
    "start_time": "2022-11-10T08:56:40.650Z"
   },
   {
    "duration": 24,
    "start_time": "2022-11-10T08:56:41.057Z"
   },
   {
    "duration": 58,
    "start_time": "2022-11-10T08:56:41.083Z"
   },
   {
    "duration": 127,
    "start_time": "2022-11-10T08:56:41.143Z"
   },
   {
    "duration": 124,
    "start_time": "2022-11-10T08:56:41.272Z"
   },
   {
    "duration": 155,
    "start_time": "2022-11-10T08:56:41.397Z"
   },
   {
    "duration": 2,
    "start_time": "2022-11-10T08:56:41.554Z"
   },
   {
    "duration": 325,
    "start_time": "2022-11-10T08:56:41.558Z"
   },
   {
    "duration": 3,
    "start_time": "2022-11-10T08:56:41.885Z"
   },
   {
    "duration": 331,
    "start_time": "2022-11-10T08:56:41.889Z"
   },
   {
    "duration": 2,
    "start_time": "2022-11-10T08:56:42.222Z"
   },
   {
    "duration": 299,
    "start_time": "2022-11-10T08:56:42.225Z"
   },
   {
    "duration": 8,
    "start_time": "2022-11-10T08:56:42.525Z"
   },
   {
    "duration": 33,
    "start_time": "2022-11-10T08:56:42.535Z"
   },
   {
    "duration": 2,
    "start_time": "2022-11-10T08:56:42.570Z"
   },
   {
    "duration": 9,
    "start_time": "2022-11-10T08:56:42.574Z"
   },
   {
    "duration": 6,
    "start_time": "2022-11-10T08:56:42.584Z"
   },
   {
    "duration": 11,
    "start_time": "2022-11-10T08:56:42.594Z"
   },
   {
    "duration": 12,
    "start_time": "2022-11-10T08:56:42.608Z"
   },
   {
    "duration": 7,
    "start_time": "2022-11-10T08:56:42.622Z"
   },
   {
    "duration": 8,
    "start_time": "2022-11-10T08:56:42.631Z"
   },
   {
    "duration": 11,
    "start_time": "2022-11-10T08:56:42.641Z"
   },
   {
    "duration": 54,
    "start_time": "2022-11-10T08:56:42.653Z"
   },
   {
    "duration": 121,
    "start_time": "2022-11-10T08:56:42.710Z"
   },
   {
    "duration": 199,
    "start_time": "2022-11-10T08:56:42.836Z"
   },
   {
    "duration": 273,
    "start_time": "2022-11-10T08:56:43.038Z"
   },
   {
    "duration": 3,
    "start_time": "2022-11-10T08:56:43.314Z"
   },
   {
    "duration": 13,
    "start_time": "2022-11-10T08:56:43.321Z"
   },
   {
    "duration": 124,
    "start_time": "2022-11-10T08:56:43.335Z"
   },
   {
    "duration": 0,
    "start_time": "2022-11-10T08:56:43.461Z"
   },
   {
    "duration": 0,
    "start_time": "2022-11-10T08:56:43.462Z"
   },
   {
    "duration": 0,
    "start_time": "2022-11-10T08:56:43.463Z"
   },
   {
    "duration": 0,
    "start_time": "2022-11-10T08:56:43.464Z"
   },
   {
    "duration": 0,
    "start_time": "2022-11-10T08:56:43.465Z"
   },
   {
    "duration": 0,
    "start_time": "2022-11-10T08:56:43.466Z"
   },
   {
    "duration": 0,
    "start_time": "2022-11-10T08:56:43.467Z"
   },
   {
    "duration": 6,
    "start_time": "2022-11-10T08:57:56.528Z"
   },
   {
    "duration": 8,
    "start_time": "2022-11-10T08:58:07.710Z"
   },
   {
    "duration": 9,
    "start_time": "2022-11-10T08:58:18.388Z"
   },
   {
    "duration": 9,
    "start_time": "2022-11-10T08:58:18.938Z"
   },
   {
    "duration": 3,
    "start_time": "2022-11-10T09:00:45.542Z"
   },
   {
    "duration": 4,
    "start_time": "2022-11-10T09:00:45.795Z"
   },
   {
    "duration": 3,
    "start_time": "2022-11-10T09:00:46.660Z"
   },
   {
    "duration": 20,
    "start_time": "2022-11-10T09:00:47.491Z"
   },
   {
    "duration": 5,
    "start_time": "2022-11-10T09:00:48.766Z"
   },
   {
    "duration": 1344,
    "start_time": "2022-11-10T09:01:03.032Z"
   },
   {
    "duration": 1306,
    "start_time": "2022-11-10T09:01:04.378Z"
   },
   {
    "duration": 1326,
    "start_time": "2022-11-10T09:01:05.686Z"
   },
   {
    "duration": 3,
    "start_time": "2022-11-10T09:02:47.257Z"
   },
   {
    "duration": 4,
    "start_time": "2022-11-10T09:02:51.793Z"
   },
   {
    "duration": 3,
    "start_time": "2022-11-10T09:02:52.314Z"
   },
   {
    "duration": 4,
    "start_time": "2022-11-10T09:02:52.970Z"
   },
   {
    "duration": 18,
    "start_time": "2022-11-10T09:02:54.001Z"
   },
   {
    "duration": 4,
    "start_time": "2022-11-10T09:02:58.380Z"
   },
   {
    "duration": 1347,
    "start_time": "2022-11-10T09:03:01.646Z"
   },
   {
    "duration": 1316,
    "start_time": "2022-11-10T09:03:04.194Z"
   },
   {
    "duration": 1373,
    "start_time": "2022-11-10T09:03:06.626Z"
   },
   {
    "duration": 3,
    "start_time": "2022-11-10T09:03:30.507Z"
   },
   {
    "duration": 4,
    "start_time": "2022-11-10T09:03:46.625Z"
   },
   {
    "duration": 5,
    "start_time": "2022-11-10T09:03:47.337Z"
   },
   {
    "duration": 3,
    "start_time": "2022-11-10T09:03:47.631Z"
   },
   {
    "duration": 3,
    "start_time": "2022-11-10T09:03:47.844Z"
   },
   {
    "duration": 22,
    "start_time": "2022-11-10T09:03:48.191Z"
   },
   {
    "duration": 6,
    "start_time": "2022-11-10T09:03:48.909Z"
   },
   {
    "duration": 1369,
    "start_time": "2022-11-10T09:03:50.561Z"
   },
   {
    "duration": 1405,
    "start_time": "2022-11-10T09:04:11.098Z"
   },
   {
    "duration": 3,
    "start_time": "2022-11-10T09:04:12.506Z"
   },
   {
    "duration": 12,
    "start_time": "2022-11-10T09:04:12.510Z"
   },
   {
    "duration": 404,
    "start_time": "2022-11-10T09:04:12.524Z"
   },
   {
    "duration": 26,
    "start_time": "2022-11-10T09:04:12.929Z"
   },
   {
    "duration": 63,
    "start_time": "2022-11-10T09:04:12.956Z"
   },
   {
    "duration": 125,
    "start_time": "2022-11-10T09:04:13.020Z"
   },
   {
    "duration": 116,
    "start_time": "2022-11-10T09:04:13.147Z"
   },
   {
    "duration": 145,
    "start_time": "2022-11-10T09:04:13.264Z"
   },
   {
    "duration": 2,
    "start_time": "2022-11-10T09:04:13.412Z"
   },
   {
    "duration": 297,
    "start_time": "2022-11-10T09:04:13.415Z"
   },
   {
    "duration": 3,
    "start_time": "2022-11-10T09:04:13.713Z"
   },
   {
    "duration": 290,
    "start_time": "2022-11-10T09:04:13.717Z"
   },
   {
    "duration": 2,
    "start_time": "2022-11-10T09:04:14.009Z"
   },
   {
    "duration": 302,
    "start_time": "2022-11-10T09:04:14.013Z"
   },
   {
    "duration": 9,
    "start_time": "2022-11-10T09:04:14.317Z"
   },
   {
    "duration": 51,
    "start_time": "2022-11-10T09:04:14.327Z"
   },
   {
    "duration": 8,
    "start_time": "2022-11-10T09:04:14.379Z"
   },
   {
    "duration": 9,
    "start_time": "2022-11-10T09:04:14.388Z"
   },
   {
    "duration": 5,
    "start_time": "2022-11-10T09:04:14.399Z"
   },
   {
    "duration": 16,
    "start_time": "2022-11-10T09:04:14.405Z"
   },
   {
    "duration": 15,
    "start_time": "2022-11-10T09:04:14.423Z"
   },
   {
    "duration": 20,
    "start_time": "2022-11-10T09:04:14.440Z"
   },
   {
    "duration": 28,
    "start_time": "2022-11-10T09:04:14.461Z"
   },
   {
    "duration": 19,
    "start_time": "2022-11-10T09:04:14.491Z"
   },
   {
    "duration": 36,
    "start_time": "2022-11-10T09:04:14.511Z"
   },
   {
    "duration": 162,
    "start_time": "2022-11-10T09:04:14.549Z"
   },
   {
    "duration": 197,
    "start_time": "2022-11-10T09:04:14.715Z"
   },
   {
    "duration": 292,
    "start_time": "2022-11-10T09:04:14.917Z"
   },
   {
    "duration": 2,
    "start_time": "2022-11-10T09:04:15.211Z"
   },
   {
    "duration": 95,
    "start_time": "2022-11-10T09:04:15.214Z"
   },
   {
    "duration": 121,
    "start_time": "2022-11-10T09:04:15.310Z"
   },
   {
    "duration": 1,
    "start_time": "2022-11-10T09:04:15.432Z"
   },
   {
    "duration": 0,
    "start_time": "2022-11-10T09:04:15.434Z"
   },
   {
    "duration": 0,
    "start_time": "2022-11-10T09:04:15.434Z"
   },
   {
    "duration": 0,
    "start_time": "2022-11-10T09:04:15.436Z"
   },
   {
    "duration": 0,
    "start_time": "2022-11-10T09:04:15.437Z"
   },
   {
    "duration": 0,
    "start_time": "2022-11-10T09:04:15.437Z"
   },
   {
    "duration": 0,
    "start_time": "2022-11-10T09:04:15.438Z"
   },
   {
    "duration": 3,
    "start_time": "2022-11-10T09:04:59.791Z"
   },
   {
    "duration": 5,
    "start_time": "2022-11-10T09:05:00.370Z"
   },
   {
    "duration": 5,
    "start_time": "2022-11-10T09:05:06.339Z"
   },
   {
    "duration": 3,
    "start_time": "2022-11-10T09:05:06.622Z"
   },
   {
    "duration": 17,
    "start_time": "2022-11-10T09:05:06.997Z"
   },
   {
    "duration": 5,
    "start_time": "2022-11-10T09:05:07.716Z"
   },
   {
    "duration": 1352,
    "start_time": "2022-11-10T09:05:09.048Z"
   },
   {
    "duration": 1368,
    "start_time": "2022-11-10T09:05:10.402Z"
   },
   {
    "duration": 1283,
    "start_time": "2022-11-10T09:05:11.772Z"
   },
   {
    "duration": 1902,
    "start_time": "2022-11-11T06:40:27.583Z"
   },
   {
    "duration": 2,
    "start_time": "2022-11-11T06:40:29.487Z"
   },
   {
    "duration": 11,
    "start_time": "2022-11-11T06:40:29.491Z"
   },
   {
    "duration": 1097,
    "start_time": "2022-11-11T06:40:29.504Z"
   },
   {
    "duration": 35,
    "start_time": "2022-11-11T06:40:30.603Z"
   },
   {
    "duration": 75,
    "start_time": "2022-11-11T06:40:30.641Z"
   },
   {
    "duration": 174,
    "start_time": "2022-11-11T06:40:30.718Z"
   },
   {
    "duration": 161,
    "start_time": "2022-11-11T06:40:30.894Z"
   },
   {
    "duration": 163,
    "start_time": "2022-11-11T06:40:31.057Z"
   },
   {
    "duration": 3,
    "start_time": "2022-11-11T06:40:31.223Z"
   },
   {
    "duration": 378,
    "start_time": "2022-11-11T06:40:31.227Z"
   },
   {
    "duration": 2,
    "start_time": "2022-11-11T06:40:31.607Z"
   },
   {
    "duration": 358,
    "start_time": "2022-11-11T06:40:31.611Z"
   },
   {
    "duration": 2,
    "start_time": "2022-11-11T06:40:31.971Z"
   },
   {
    "duration": 419,
    "start_time": "2022-11-11T06:40:31.975Z"
   },
   {
    "duration": 9,
    "start_time": "2022-11-11T06:40:32.396Z"
   },
   {
    "duration": 59,
    "start_time": "2022-11-11T06:40:32.406Z"
   },
   {
    "duration": 3,
    "start_time": "2022-11-11T06:40:32.467Z"
   },
   {
    "duration": 14,
    "start_time": "2022-11-11T06:40:32.472Z"
   },
   {
    "duration": 7,
    "start_time": "2022-11-11T06:40:32.488Z"
   },
   {
    "duration": 11,
    "start_time": "2022-11-11T06:40:32.497Z"
   },
   {
    "duration": 15,
    "start_time": "2022-11-11T06:40:32.510Z"
   },
   {
    "duration": 10,
    "start_time": "2022-11-11T06:40:32.527Z"
   },
   {
    "duration": 15,
    "start_time": "2022-11-11T06:40:32.539Z"
   },
   {
    "duration": 104,
    "start_time": "2022-11-11T06:40:32.555Z"
   },
   {
    "duration": 189,
    "start_time": "2022-11-11T06:40:32.662Z"
   },
   {
    "duration": 114,
    "start_time": "2022-11-11T06:40:32.853Z"
   },
   {
    "duration": 83,
    "start_time": "2022-11-11T06:40:32.972Z"
   },
   {
    "duration": 96,
    "start_time": "2022-11-11T06:40:33.057Z"
   },
   {
    "duration": 22,
    "start_time": "2022-11-11T06:40:33.156Z"
   },
   {
    "duration": 21,
    "start_time": "2022-11-11T06:40:33.181Z"
   },
   {
    "duration": 140,
    "start_time": "2022-11-11T06:40:33.203Z"
   },
   {
    "duration": 9,
    "start_time": "2022-11-11T06:40:33.344Z"
   },
   {
    "duration": 8,
    "start_time": "2022-11-11T06:40:33.354Z"
   },
   {
    "duration": 8,
    "start_time": "2022-11-11T06:40:33.364Z"
   },
   {
    "duration": 13,
    "start_time": "2022-11-11T06:40:33.374Z"
   },
   {
    "duration": 126,
    "start_time": "2022-11-11T06:40:33.389Z"
   },
   {
    "duration": 0,
    "start_time": "2022-11-11T06:40:33.517Z"
   },
   {
    "duration": 0,
    "start_time": "2022-11-11T06:40:33.518Z"
   },
   {
    "duration": 0,
    "start_time": "2022-11-11T06:40:33.519Z"
   },
   {
    "duration": 0,
    "start_time": "2022-11-11T06:40:33.520Z"
   },
   {
    "duration": 14,
    "start_time": "2022-11-11T06:44:01.597Z"
   },
   {
    "duration": 6,
    "start_time": "2022-11-11T06:44:25.371Z"
   },
   {
    "duration": 21,
    "start_time": "2022-11-11T06:44:29.777Z"
   },
   {
    "duration": 14,
    "start_time": "2022-11-11T06:44:43.114Z"
   },
   {
    "duration": 15,
    "start_time": "2022-11-11T06:44:43.559Z"
   },
   {
    "duration": 4,
    "start_time": "2022-11-11T06:47:40.425Z"
   },
   {
    "duration": 5,
    "start_time": "2022-11-11T06:47:41.317Z"
   },
   {
    "duration": 9,
    "start_time": "2022-11-11T06:47:49.170Z"
   },
   {
    "duration": 4,
    "start_time": "2022-11-11T06:55:52.695Z"
   },
   {
    "duration": 57,
    "start_time": "2022-11-11T06:55:55.194Z"
   },
   {
    "duration": 42,
    "start_time": "2022-11-11T06:56:03.510Z"
   },
   {
    "duration": 1634,
    "start_time": "2022-11-11T06:56:47.560Z"
   },
   {
    "duration": 3,
    "start_time": "2022-11-11T06:56:49.196Z"
   },
   {
    "duration": 21,
    "start_time": "2022-11-11T06:56:49.202Z"
   },
   {
    "duration": 836,
    "start_time": "2022-11-11T06:56:49.225Z"
   },
   {
    "duration": 31,
    "start_time": "2022-11-11T06:56:50.062Z"
   },
   {
    "duration": 73,
    "start_time": "2022-11-11T06:56:50.095Z"
   },
   {
    "duration": 142,
    "start_time": "2022-11-11T06:56:50.170Z"
   },
   {
    "duration": 143,
    "start_time": "2022-11-11T06:56:50.314Z"
   },
   {
    "duration": 150,
    "start_time": "2022-11-11T06:56:50.459Z"
   },
   {
    "duration": 3,
    "start_time": "2022-11-11T06:56:50.613Z"
   },
   {
    "duration": 352,
    "start_time": "2022-11-11T06:56:50.618Z"
   },
   {
    "duration": 3,
    "start_time": "2022-11-11T06:56:50.972Z"
   },
   {
    "duration": 358,
    "start_time": "2022-11-11T06:56:50.976Z"
   },
   {
    "duration": 5,
    "start_time": "2022-11-11T06:56:51.336Z"
   },
   {
    "duration": 323,
    "start_time": "2022-11-11T06:56:51.351Z"
   },
   {
    "duration": 10,
    "start_time": "2022-11-11T06:56:51.676Z"
   },
   {
    "duration": 96,
    "start_time": "2022-11-11T06:56:51.689Z"
   },
   {
    "duration": 4,
    "start_time": "2022-11-11T06:56:51.788Z"
   },
   {
    "duration": 15,
    "start_time": "2022-11-11T06:56:51.794Z"
   },
   {
    "duration": 10,
    "start_time": "2022-11-11T06:56:51.811Z"
   },
   {
    "duration": 22,
    "start_time": "2022-11-11T06:56:51.823Z"
   },
   {
    "duration": 15,
    "start_time": "2022-11-11T06:56:51.846Z"
   },
   {
    "duration": 19,
    "start_time": "2022-11-11T06:56:51.862Z"
   },
   {
    "duration": 10,
    "start_time": "2022-11-11T06:56:51.884Z"
   },
   {
    "duration": 324,
    "start_time": "2022-11-11T06:56:51.896Z"
   },
   {
    "duration": 0,
    "start_time": "2022-11-11T06:56:52.223Z"
   },
   {
    "duration": 0,
    "start_time": "2022-11-11T06:56:52.224Z"
   },
   {
    "duration": 0,
    "start_time": "2022-11-11T06:56:52.226Z"
   },
   {
    "duration": 0,
    "start_time": "2022-11-11T06:56:52.227Z"
   },
   {
    "duration": 1,
    "start_time": "2022-11-11T06:56:52.227Z"
   },
   {
    "duration": 0,
    "start_time": "2022-11-11T06:56:52.229Z"
   },
   {
    "duration": 0,
    "start_time": "2022-11-11T06:56:52.231Z"
   },
   {
    "duration": 0,
    "start_time": "2022-11-11T06:56:52.251Z"
   },
   {
    "duration": 0,
    "start_time": "2022-11-11T06:56:52.253Z"
   },
   {
    "duration": 0,
    "start_time": "2022-11-11T06:56:52.254Z"
   },
   {
    "duration": 0,
    "start_time": "2022-11-11T06:56:52.255Z"
   },
   {
    "duration": 0,
    "start_time": "2022-11-11T06:56:52.256Z"
   },
   {
    "duration": 0,
    "start_time": "2022-11-11T06:56:52.257Z"
   },
   {
    "duration": 0,
    "start_time": "2022-11-11T06:56:52.259Z"
   },
   {
    "duration": 0,
    "start_time": "2022-11-11T06:56:52.260Z"
   },
   {
    "duration": 0,
    "start_time": "2022-11-11T06:56:52.261Z"
   },
   {
    "duration": 0,
    "start_time": "2022-11-11T06:56:52.262Z"
   },
   {
    "duration": 24,
    "start_time": "2022-11-11T06:57:07.730Z"
   },
   {
    "duration": 25,
    "start_time": "2022-11-11T06:57:53.630Z"
   },
   {
    "duration": 100,
    "start_time": "2022-11-11T06:58:10.253Z"
   },
   {
    "duration": 3,
    "start_time": "2022-11-11T06:58:15.292Z"
   },
   {
    "duration": 91,
    "start_time": "2022-11-11T06:58:18.568Z"
   },
   {
    "duration": 17,
    "start_time": "2022-11-11T06:58:30.239Z"
   },
   {
    "duration": 5,
    "start_time": "2022-11-11T07:00:40.317Z"
   },
   {
    "duration": 16,
    "start_time": "2022-11-11T07:00:51.229Z"
   },
   {
    "duration": 16,
    "start_time": "2022-11-11T07:00:53.128Z"
   },
   {
    "duration": 15,
    "start_time": "2022-11-11T07:00:53.381Z"
   },
   {
    "duration": 4,
    "start_time": "2022-11-11T07:01:07.536Z"
   },
   {
    "duration": 11,
    "start_time": "2022-11-11T07:01:10.734Z"
   },
   {
    "duration": 20,
    "start_time": "2022-11-11T07:03:04.819Z"
   },
   {
    "duration": 4,
    "start_time": "2022-11-11T07:05:02.404Z"
   },
   {
    "duration": 92,
    "start_time": "2022-11-11T07:05:04.263Z"
   },
   {
    "duration": 26,
    "start_time": "2022-11-11T07:05:21.728Z"
   },
   {
    "duration": 18,
    "start_time": "2022-11-11T07:05:29.076Z"
   },
   {
    "duration": 6,
    "start_time": "2022-11-11T07:05:41.362Z"
   },
   {
    "duration": 10,
    "start_time": "2022-11-11T07:05:42.211Z"
   },
   {
    "duration": 5,
    "start_time": "2022-11-11T07:05:54.585Z"
   },
   {
    "duration": 5,
    "start_time": "2022-11-11T07:06:05.507Z"
   },
   {
    "duration": 12,
    "start_time": "2022-11-11T07:06:07.935Z"
   },
   {
    "duration": 159,
    "start_time": "2022-11-11T07:07:02.793Z"
   },
   {
    "duration": 4,
    "start_time": "2022-11-11T07:08:00.919Z"
   },
   {
    "duration": 128,
    "start_time": "2022-11-11T07:08:02.342Z"
   },
   {
    "duration": 5,
    "start_time": "2022-11-11T07:13:25.710Z"
   },
   {
    "duration": 26,
    "start_time": "2022-11-11T07:13:28.258Z"
   },
   {
    "duration": 122,
    "start_time": "2022-11-11T07:14:16.839Z"
   },
   {
    "duration": 15,
    "start_time": "2022-11-11T07:15:04.334Z"
   },
   {
    "duration": 27,
    "start_time": "2022-11-11T07:15:49.633Z"
   },
   {
    "duration": 67,
    "start_time": "2022-11-11T07:16:12.592Z"
   },
   {
    "duration": 98,
    "start_time": "2022-11-11T07:16:50.356Z"
   },
   {
    "duration": 16,
    "start_time": "2022-11-11T07:16:51.129Z"
   },
   {
    "duration": 15,
    "start_time": "2022-11-11T07:16:51.469Z"
   },
   {
    "duration": 5,
    "start_time": "2022-11-11T07:17:07.079Z"
   },
   {
    "duration": 4,
    "start_time": "2022-11-11T07:17:07.491Z"
   },
   {
    "duration": 13,
    "start_time": "2022-11-11T07:17:08.805Z"
   },
   {
    "duration": 13,
    "start_time": "2022-11-11T07:17:42.341Z"
   },
   {
    "duration": 25,
    "start_time": "2022-11-11T07:18:00.213Z"
   },
   {
    "duration": 3,
    "start_time": "2022-11-11T07:18:54.049Z"
   },
   {
    "duration": 4,
    "start_time": "2022-11-11T07:18:54.344Z"
   },
   {
    "duration": 22,
    "start_time": "2022-11-11T07:19:07.011Z"
   },
   {
    "duration": 82,
    "start_time": "2022-11-11T07:19:08.889Z"
   },
   {
    "duration": 6,
    "start_time": "2022-11-11T07:19:25.356Z"
   },
   {
    "duration": 1339,
    "start_time": "2022-11-11T07:19:32.322Z"
   },
   {
    "duration": 8,
    "start_time": "2022-11-11T07:21:09.933Z"
   },
   {
    "duration": 1349,
    "start_time": "2022-11-11T07:21:12.341Z"
   },
   {
    "duration": 1323,
    "start_time": "2022-11-11T07:21:25.720Z"
   },
   {
    "duration": 1360,
    "start_time": "2022-11-11T07:21:27.050Z"
   },
   {
    "duration": 5,
    "start_time": "2022-11-11T07:22:28.792Z"
   },
   {
    "duration": 1306,
    "start_time": "2022-11-11T07:22:32.832Z"
   },
   {
    "duration": 5,
    "start_time": "2022-11-11T07:26:40.963Z"
   },
   {
    "duration": 1267,
    "start_time": "2022-11-11T07:26:44.816Z"
   },
   {
    "duration": 6,
    "start_time": "2022-11-11T07:28:18.452Z"
   },
   {
    "duration": 1438,
    "start_time": "2022-11-11T07:28:21.725Z"
   },
   {
    "duration": 1491,
    "start_time": "2022-11-11T07:28:24.691Z"
   },
   {
    "duration": 1473,
    "start_time": "2022-11-11T07:28:27.639Z"
   },
   {
    "duration": 5,
    "start_time": "2022-11-11T07:29:04.720Z"
   },
   {
    "duration": 1440,
    "start_time": "2022-11-11T07:29:07.767Z"
   },
   {
    "duration": 1399,
    "start_time": "2022-11-11T07:29:09.845Z"
   },
   {
    "duration": 1376,
    "start_time": "2022-11-11T07:29:11.246Z"
   },
   {
    "duration": 7,
    "start_time": "2022-11-11T07:31:57.191Z"
   },
   {
    "duration": 1255,
    "start_time": "2022-11-11T07:32:01.564Z"
   },
   {
    "duration": 1259,
    "start_time": "2022-11-11T07:32:03.842Z"
   },
   {
    "duration": 1291,
    "start_time": "2022-11-11T07:32:05.104Z"
   },
   {
    "duration": 1799,
    "start_time": "2022-11-11T07:42:48.861Z"
   },
   {
    "duration": 3,
    "start_time": "2022-11-11T07:42:50.662Z"
   },
   {
    "duration": 15,
    "start_time": "2022-11-11T07:42:50.667Z"
   },
   {
    "duration": 433,
    "start_time": "2022-11-11T07:42:50.686Z"
   },
   {
    "duration": 44,
    "start_time": "2022-11-11T07:42:51.121Z"
   },
   {
    "duration": 52,
    "start_time": "2022-11-11T07:42:51.167Z"
   },
   {
    "duration": 155,
    "start_time": "2022-11-11T07:42:51.221Z"
   },
   {
    "duration": 146,
    "start_time": "2022-11-11T07:42:51.378Z"
   },
   {
    "duration": 176,
    "start_time": "2022-11-11T07:42:51.526Z"
   },
   {
    "duration": 3,
    "start_time": "2022-11-11T07:42:51.705Z"
   },
   {
    "duration": 353,
    "start_time": "2022-11-11T07:42:51.710Z"
   },
   {
    "duration": 3,
    "start_time": "2022-11-11T07:42:52.066Z"
   },
   {
    "duration": 317,
    "start_time": "2022-11-11T07:42:52.071Z"
   },
   {
    "duration": 3,
    "start_time": "2022-11-11T07:42:52.389Z"
   },
   {
    "duration": 289,
    "start_time": "2022-11-11T07:42:52.394Z"
   },
   {
    "duration": 9,
    "start_time": "2022-11-11T07:42:52.685Z"
   },
   {
    "duration": 37,
    "start_time": "2022-11-11T07:42:52.696Z"
   },
   {
    "duration": 16,
    "start_time": "2022-11-11T07:42:52.735Z"
   },
   {
    "duration": 6,
    "start_time": "2022-11-11T07:42:52.753Z"
   },
   {
    "duration": 6,
    "start_time": "2022-11-11T07:42:52.761Z"
   },
   {
    "duration": 8,
    "start_time": "2022-11-11T07:42:52.768Z"
   },
   {
    "duration": 8,
    "start_time": "2022-11-11T07:42:52.778Z"
   },
   {
    "duration": 9,
    "start_time": "2022-11-11T07:42:52.787Z"
   },
   {
    "duration": 7,
    "start_time": "2022-11-11T07:42:52.797Z"
   },
   {
    "duration": 50,
    "start_time": "2022-11-11T07:42:52.806Z"
   },
   {
    "duration": 102,
    "start_time": "2022-11-11T07:42:52.862Z"
   },
   {
    "duration": 196,
    "start_time": "2022-11-11T07:42:52.967Z"
   },
   {
    "duration": 95,
    "start_time": "2022-11-11T07:42:53.169Z"
   },
   {
    "duration": 96,
    "start_time": "2022-11-11T07:42:53.265Z"
   },
   {
    "duration": 7,
    "start_time": "2022-11-11T07:42:53.363Z"
   },
   {
    "duration": 14,
    "start_time": "2022-11-11T07:42:53.372Z"
   },
   {
    "duration": 121,
    "start_time": "2022-11-11T07:42:53.388Z"
   },
   {
    "duration": 2,
    "start_time": "2022-11-11T07:42:53.511Z"
   },
   {
    "duration": 9,
    "start_time": "2022-11-11T07:42:53.515Z"
   },
   {
    "duration": 24,
    "start_time": "2022-11-11T07:42:53.526Z"
   },
   {
    "duration": 25,
    "start_time": "2022-11-11T07:42:53.553Z"
   },
   {
    "duration": 7,
    "start_time": "2022-11-11T07:42:53.581Z"
   },
   {
    "duration": 1357,
    "start_time": "2022-11-11T07:42:53.590Z"
   },
   {
    "duration": 1309,
    "start_time": "2022-11-11T07:42:54.949Z"
   },
   {
    "duration": 1319,
    "start_time": "2022-11-11T07:42:56.260Z"
   },
   {
    "duration": 1367,
    "start_time": "2022-12-15T16:14:08.660Z"
   },
   {
    "duration": 3,
    "start_time": "2022-12-15T16:14:10.031Z"
   },
   {
    "duration": 634,
    "start_time": "2022-12-15T16:14:10.036Z"
   },
   {
    "duration": 26,
    "start_time": "2022-12-15T16:14:10.672Z"
   },
   {
    "duration": 51,
    "start_time": "2022-12-15T16:14:10.700Z"
   },
   {
    "duration": 124,
    "start_time": "2022-12-15T16:14:10.752Z"
   },
   {
    "duration": 125,
    "start_time": "2022-12-15T16:14:10.878Z"
   },
   {
    "duration": 142,
    "start_time": "2022-12-15T16:14:11.005Z"
   },
   {
    "duration": 2,
    "start_time": "2022-12-15T16:14:11.149Z"
   },
   {
    "duration": 301,
    "start_time": "2022-12-15T16:14:11.153Z"
   },
   {
    "duration": 2,
    "start_time": "2022-12-15T16:14:11.456Z"
   },
   {
    "duration": 292,
    "start_time": "2022-12-15T16:14:11.460Z"
   },
   {
    "duration": 2,
    "start_time": "2022-12-15T16:14:11.756Z"
   },
   {
    "duration": 291,
    "start_time": "2022-12-15T16:14:11.760Z"
   },
   {
    "duration": 8,
    "start_time": "2022-12-15T16:14:12.053Z"
   },
   {
    "duration": 39,
    "start_time": "2022-12-15T16:14:12.063Z"
   },
   {
    "duration": 4,
    "start_time": "2022-12-15T16:14:12.104Z"
   },
   {
    "duration": 40,
    "start_time": "2022-12-15T16:14:12.109Z"
   },
   {
    "duration": 191,
    "start_time": "2022-12-15T16:14:12.151Z"
   },
   {
    "duration": 192,
    "start_time": "2022-12-15T16:14:12.345Z"
   },
   {
    "duration": 215,
    "start_time": "2022-12-15T16:14:12.540Z"
   },
   {
    "duration": 4,
    "start_time": "2022-12-15T16:14:12.757Z"
   },
   {
    "duration": 8,
    "start_time": "2022-12-15T16:14:12.762Z"
   },
   {
    "duration": 32,
    "start_time": "2022-12-15T16:14:12.771Z"
   },
   {
    "duration": 5,
    "start_time": "2022-12-15T16:14:12.805Z"
   },
   {
    "duration": 1131,
    "start_time": "2022-12-15T16:14:12.811Z"
   },
   {
    "duration": 1191,
    "start_time": "2022-12-15T16:14:13.944Z"
   },
   {
    "duration": 1205,
    "start_time": "2022-12-15T16:14:15.137Z"
   }
  ],
  "kernelspec": {
   "display_name": "Python 3 (ipykernel)",
   "language": "python",
   "name": "python3"
  },
  "language_info": {
   "codemirror_mode": {
    "name": "ipython",
    "version": 3
   },
   "file_extension": ".py",
   "mimetype": "text/x-python",
   "name": "python",
   "nbconvert_exporter": "python",
   "pygments_lexer": "ipython3",
   "version": "3.9.5"
  },
  "toc": {
   "base_numbering": 1,
   "nav_menu": {},
   "number_sections": true,
   "sideBar": true,
   "skip_h1_title": true,
   "title_cell": "Содержание",
   "title_sidebar": "Contents",
   "toc_cell": true,
   "toc_position": {
    "height": "calc(100% - 180px)",
    "left": "10px",
    "top": "150px",
    "width": "295px"
   },
   "toc_section_display": true,
   "toc_window_display": false
  }
 },
 "nbformat": 4,
 "nbformat_minor": 2
}
