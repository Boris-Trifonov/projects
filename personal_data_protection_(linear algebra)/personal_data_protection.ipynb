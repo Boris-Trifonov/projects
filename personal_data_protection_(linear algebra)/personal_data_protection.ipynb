{
 "cells": [
  {
   "cell_type": "markdown",
   "metadata": {
    "toc": true
   },
   "source": [
    "<h1>Содержание<span class=\"tocSkip\"></span></h1>\n",
    "<div class=\"toc\"><ul class=\"toc-item\"><li><span><a href=\"#Загрузка-данных\" data-toc-modified-id=\"Загрузка-данных-1\"><span class=\"toc-item-num\">1&nbsp;&nbsp;</span>Загрузка данных</a></span><ul class=\"toc-item\"><li><span><a href=\"#Вывод\" data-toc-modified-id=\"Вывод-1.1\"><span class=\"toc-item-num\">1.1&nbsp;&nbsp;</span>Вывод</a></span></li></ul></li><li><span><a href=\"#Умножение-матриц\" data-toc-modified-id=\"Умножение-матриц-2\"><span class=\"toc-item-num\">2&nbsp;&nbsp;</span>Умножение матриц</a></span></li><li><span><a href=\"#Алгоритм-преобразования\" data-toc-modified-id=\"Алгоритм-преобразования-3\"><span class=\"toc-item-num\">3&nbsp;&nbsp;</span>Алгоритм преобразования</a></span></li><li><span><a href=\"#Проверка-алгоритма\" data-toc-modified-id=\"Проверка-алгоритма-4\"><span class=\"toc-item-num\">4&nbsp;&nbsp;</span>Проверка алгоритма</a></span></li><li><span><a href=\"#Вывод\" data-toc-modified-id=\"Вывод-5\"><span class=\"toc-item-num\">5&nbsp;&nbsp;</span>Вывод</a></span></li><li><span><a href=\"#Чек-лист-проверки\" data-toc-modified-id=\"Чек-лист-проверки-6\"><span class=\"toc-item-num\">6&nbsp;&nbsp;</span>Чек-лист проверки</a></span></li></ul></div>"
   ]
  },
  {
   "cell_type": "markdown",
   "metadata": {},
   "source": [
    "# Защита персональных данных клиентов"
   ]
  },
  {
   "cell_type": "markdown",
   "metadata": {},
   "source": [
    "**Входные данные:**\n",
    "\n",
    "- Набор данных находится в файле:\n",
    "\n",
    "https://code.s3.yandex.net/datasets/insurance.csv\n",
    "\n",
    "**Признаки:**\n",
    "\n",
    "`Пол`\n",
    "\n",
    "`Возраст`\n",
    "\n",
    "`Зарплата`\n",
    "\n",
    "`Члены семьи`\n",
    "\n",
    "**Целевой признак:**\n",
    "\n",
    "`Страховые выплаты` — количество страховых выплат клиенту за последние 5 лет\n",
    "\n",
    "**Условия задачи:**\n",
    "\n",
    "- Защитить данные, чтобы при преобразовании качество моделей машинного обучения не ухудшилось.\n",
    "\n",
    "- Подбирать наилучшую модель не требуется.\n",
    "\n",
    "**Цель исследования:**\n",
    "        \n",
    "- Защитить данные клиентов страховой компании «Хоть потоп».\n",
    "\n",
    "- Разработать метод преобразования данных, чтобы по ним было сложно восстановить персональную информацию.\n",
    "\n",
    "**Задачи:**\n",
    "\n",
    "- Ответить на вопрос: *Изменится ли качество линейной регрессии, при умножении признаков на обратимую матрицу?*\n",
    "\n",
    "- Предложить алгоритм преобразования данных для решения задачи.\n",
    "\n",
    "- Запрограммировать алгоритм, применив матричные операции. Проверить, что качество линейной регрессии из sklearn не отличается до и после преобразования. Применить метрику R2.\n",
    "\n",
    "**Этапы исследования:**\n",
    "\n",
    "- Подготовка данных\n",
    "\n",
    "- Умножение матриц\n",
    "\n",
    "- Алгоритм преобразования\n",
    "\n",
    "- Проверка алгоритма\n",
    "\n",
    "- Общий вывод"
   ]
  },
  {
   "cell_type": "markdown",
   "metadata": {},
   "source": [
    "## Загрузка данных"
   ]
  },
  {
   "cell_type": "code",
   "execution_count": 1,
   "metadata": {},
   "outputs": [],
   "source": [
    "import pandas as pd\n",
    "import numpy as np\n",
    "\n",
    "from sklearn.linear_model import LinearRegression\n",
    "from sklearn.metrics import r2_score"
   ]
  },
  {
   "cell_type": "code",
   "execution_count": 2,
   "metadata": {},
   "outputs": [],
   "source": [
    "try:\n",
    "    df = pd.read_csv('/datasets/insurance.csv')\n",
    "except:\n",
    "    df = pd.read_csv('https://code.s3.yandex.net/datasets/insurance.csv')"
   ]
  },
  {
   "cell_type": "code",
   "execution_count": 3,
   "metadata": {},
   "outputs": [
    {
     "data": {
      "text/html": [
       "<div>\n",
       "<style scoped>\n",
       "    .dataframe tbody tr th:only-of-type {\n",
       "        vertical-align: middle;\n",
       "    }\n",
       "\n",
       "    .dataframe tbody tr th {\n",
       "        vertical-align: top;\n",
       "    }\n",
       "\n",
       "    .dataframe thead th {\n",
       "        text-align: right;\n",
       "    }\n",
       "</style>\n",
       "<table border=\"1\" class=\"dataframe\">\n",
       "  <thead>\n",
       "    <tr style=\"text-align: right;\">\n",
       "      <th></th>\n",
       "      <th>Пол</th>\n",
       "      <th>Возраст</th>\n",
       "      <th>Зарплата</th>\n",
       "      <th>Члены семьи</th>\n",
       "      <th>Страховые выплаты</th>\n",
       "    </tr>\n",
       "  </thead>\n",
       "  <tbody>\n",
       "    <tr>\n",
       "      <th>0</th>\n",
       "      <td>1</td>\n",
       "      <td>41.0</td>\n",
       "      <td>49600.0</td>\n",
       "      <td>1</td>\n",
       "      <td>0</td>\n",
       "    </tr>\n",
       "    <tr>\n",
       "      <th>1</th>\n",
       "      <td>0</td>\n",
       "      <td>46.0</td>\n",
       "      <td>38000.0</td>\n",
       "      <td>1</td>\n",
       "      <td>1</td>\n",
       "    </tr>\n",
       "    <tr>\n",
       "      <th>2</th>\n",
       "      <td>0</td>\n",
       "      <td>29.0</td>\n",
       "      <td>21000.0</td>\n",
       "      <td>0</td>\n",
       "      <td>0</td>\n",
       "    </tr>\n",
       "    <tr>\n",
       "      <th>3</th>\n",
       "      <td>0</td>\n",
       "      <td>21.0</td>\n",
       "      <td>41700.0</td>\n",
       "      <td>2</td>\n",
       "      <td>0</td>\n",
       "    </tr>\n",
       "    <tr>\n",
       "      <th>4</th>\n",
       "      <td>1</td>\n",
       "      <td>28.0</td>\n",
       "      <td>26100.0</td>\n",
       "      <td>0</td>\n",
       "      <td>0</td>\n",
       "    </tr>\n",
       "  </tbody>\n",
       "</table>\n",
       "</div>"
      ],
      "text/plain": [
       "   Пол  Возраст  Зарплата  Члены семьи  Страховые выплаты\n",
       "0    1     41.0   49600.0            1                  0\n",
       "1    0     46.0   38000.0            1                  1\n",
       "2    0     29.0   21000.0            0                  0\n",
       "3    0     21.0   41700.0            2                  0\n",
       "4    1     28.0   26100.0            0                  0"
      ]
     },
     "execution_count": 3,
     "metadata": {},
     "output_type": "execute_result"
    }
   ],
   "source": [
    "df.head()"
   ]
  },
  {
   "cell_type": "code",
   "execution_count": 4,
   "metadata": {},
   "outputs": [
    {
     "name": "stdout",
     "output_type": "stream",
     "text": [
      "<class 'pandas.core.frame.DataFrame'>\n",
      "RangeIndex: 5000 entries, 0 to 4999\n",
      "Data columns (total 5 columns):\n",
      " #   Column             Non-Null Count  Dtype  \n",
      "---  ------             --------------  -----  \n",
      " 0   Пол                5000 non-null   int64  \n",
      " 1   Возраст            5000 non-null   float64\n",
      " 2   Зарплата           5000 non-null   float64\n",
      " 3   Члены семьи        5000 non-null   int64  \n",
      " 4   Страховые выплаты  5000 non-null   int64  \n",
      "dtypes: float64(2), int64(3)\n",
      "memory usage: 195.4 KB\n"
     ]
    }
   ],
   "source": [
    "df.info()"
   ]
  },
  {
   "cell_type": "code",
   "execution_count": 5,
   "metadata": {},
   "outputs": [
    {
     "data": {
      "text/html": [
       "<div>\n",
       "<style scoped>\n",
       "    .dataframe tbody tr th:only-of-type {\n",
       "        vertical-align: middle;\n",
       "    }\n",
       "\n",
       "    .dataframe tbody tr th {\n",
       "        vertical-align: top;\n",
       "    }\n",
       "\n",
       "    .dataframe thead th {\n",
       "        text-align: right;\n",
       "    }\n",
       "</style>\n",
       "<table border=\"1\" class=\"dataframe\">\n",
       "  <thead>\n",
       "    <tr style=\"text-align: right;\">\n",
       "      <th></th>\n",
       "      <th>count</th>\n",
       "      <th>mean</th>\n",
       "      <th>std</th>\n",
       "      <th>min</th>\n",
       "      <th>25%</th>\n",
       "      <th>50%</th>\n",
       "      <th>75%</th>\n",
       "      <th>max</th>\n",
       "    </tr>\n",
       "  </thead>\n",
       "  <tbody>\n",
       "    <tr>\n",
       "      <th>Пол</th>\n",
       "      <td>5000.0</td>\n",
       "      <td>0.4990</td>\n",
       "      <td>0.500049</td>\n",
       "      <td>0.0</td>\n",
       "      <td>0.0</td>\n",
       "      <td>0.0</td>\n",
       "      <td>1.0</td>\n",
       "      <td>1.0</td>\n",
       "    </tr>\n",
       "    <tr>\n",
       "      <th>Возраст</th>\n",
       "      <td>5000.0</td>\n",
       "      <td>30.9528</td>\n",
       "      <td>8.440807</td>\n",
       "      <td>18.0</td>\n",
       "      <td>24.0</td>\n",
       "      <td>30.0</td>\n",
       "      <td>37.0</td>\n",
       "      <td>65.0</td>\n",
       "    </tr>\n",
       "    <tr>\n",
       "      <th>Зарплата</th>\n",
       "      <td>5000.0</td>\n",
       "      <td>39916.3600</td>\n",
       "      <td>9900.083569</td>\n",
       "      <td>5300.0</td>\n",
       "      <td>33300.0</td>\n",
       "      <td>40200.0</td>\n",
       "      <td>46600.0</td>\n",
       "      <td>79000.0</td>\n",
       "    </tr>\n",
       "    <tr>\n",
       "      <th>Члены семьи</th>\n",
       "      <td>5000.0</td>\n",
       "      <td>1.1942</td>\n",
       "      <td>1.091387</td>\n",
       "      <td>0.0</td>\n",
       "      <td>0.0</td>\n",
       "      <td>1.0</td>\n",
       "      <td>2.0</td>\n",
       "      <td>6.0</td>\n",
       "    </tr>\n",
       "    <tr>\n",
       "      <th>Страховые выплаты</th>\n",
       "      <td>5000.0</td>\n",
       "      <td>0.1480</td>\n",
       "      <td>0.463183</td>\n",
       "      <td>0.0</td>\n",
       "      <td>0.0</td>\n",
       "      <td>0.0</td>\n",
       "      <td>0.0</td>\n",
       "      <td>5.0</td>\n",
       "    </tr>\n",
       "  </tbody>\n",
       "</table>\n",
       "</div>"
      ],
      "text/plain": [
       "                    count        mean          std     min      25%      50%  \\\n",
       "Пол                5000.0      0.4990     0.500049     0.0      0.0      0.0   \n",
       "Возраст            5000.0     30.9528     8.440807    18.0     24.0     30.0   \n",
       "Зарплата           5000.0  39916.3600  9900.083569  5300.0  33300.0  40200.0   \n",
       "Члены семьи        5000.0      1.1942     1.091387     0.0      0.0      1.0   \n",
       "Страховые выплаты  5000.0      0.1480     0.463183     0.0      0.0      0.0   \n",
       "\n",
       "                       75%      max  \n",
       "Пол                    1.0      1.0  \n",
       "Возраст               37.0     65.0  \n",
       "Зарплата           46600.0  79000.0  \n",
       "Члены семьи            2.0      6.0  \n",
       "Страховые выплаты      0.0      5.0  "
      ]
     },
     "execution_count": 5,
     "metadata": {},
     "output_type": "execute_result"
    }
   ],
   "source": [
    "df.describe().T"
   ]
  },
  {
   "cell_type": "code",
   "execution_count": 6,
   "metadata": {},
   "outputs": [
    {
     "data": {
      "image/png": "[encoded data removed]",
      "text/plain": [
       "<Figure size 720x1080 with 6 Axes>"
      ]
     },
     "metadata": {
      "needs_background": "light"
     },
     "output_type": "display_data"
    }
   ],
   "source": [
    "df.hist(figsize=(10, 15));"
   ]
  },
  {
   "cell_type": "markdown",
   "metadata": {},
   "source": [
    "Выбросов и аномалий нет.\n",
    "\n",
    "Проверим пропуски"
   ]
  },
  {
   "cell_type": "code",
   "execution_count": 7,
   "metadata": {},
   "outputs": [
    {
     "data": {
      "text/plain": [
       "Пол                  0\n",
       "Возраст              0\n",
       "Зарплата             0\n",
       "Члены семьи          0\n",
       "Страховые выплаты    0\n",
       "dtype: int64"
      ]
     },
     "execution_count": 7,
     "metadata": {},
     "output_type": "execute_result"
    }
   ],
   "source": [
    "df.isna().sum()"
   ]
  },
  {
   "cell_type": "markdown",
   "metadata": {},
   "source": [
    "Проверим наличие дубликатов"
   ]
  },
  {
   "cell_type": "code",
   "execution_count": 8,
   "metadata": {},
   "outputs": [
    {
     "data": {
      "text/plain": [
       "153"
      ]
     },
     "execution_count": 8,
     "metadata": {},
     "output_type": "execute_result"
    }
   ],
   "source": [
    "df.duplicated().sum()"
   ]
  },
  {
   "cell_type": "markdown",
   "metadata": {},
   "source": [
    "Удалим полные дубликаты"
   ]
  },
  {
   "cell_type": "code",
   "execution_count": 9,
   "metadata": {},
   "outputs": [
    {
     "data": {
      "text/plain": [
       "0"
      ]
     },
     "execution_count": 9,
     "metadata": {},
     "output_type": "execute_result"
    }
   ],
   "source": [
    "df.drop_duplicates(inplace=True)\n",
    "df.duplicated().sum()"
   ]
  },
  {
   "cell_type": "markdown",
   "metadata": {},
   "source": [
    "### Вывод"
   ]
  },
  {
   "cell_type": "markdown",
   "metadata": {},
   "source": [
    "- Размер датасета 5 столбцов (4 признака + 1 целевой) и 5000 строк.\n",
    "\n",
    "- Типы данных устраивают. Оставляем без изменения.\n",
    "\n",
    "- Пропусков нет.\n",
    "\n",
    "- Выбросов и аномалий нет.\n",
    "\n",
    "- Избавились от 153 дубликатов."
   ]
  },
  {
   "cell_type": "markdown",
   "metadata": {},
   "source": [
    "## Умножение матриц"
   ]
  },
  {
   "cell_type": "markdown",
   "metadata": {},
   "source": [
    "В этом задании вы можете записывать формулы в *Jupyter Notebook.*\n",
    "\n",
    "Чтобы записать формулу внутри текста, окружите её символами доллара \\\\$; если снаружи —  двойными символами \\\\$\\\\$. Эти формулы записываются на языке вёрстки *LaTeX.* \n",
    "\n",
    "Для примера мы записали формулы линейной регрессии. Можете их скопировать и отредактировать, чтобы решить задачу.\n",
    "\n",
    "Работать в *LaTeX* необязательно."
   ]
  },
  {
   "cell_type": "markdown",
   "metadata": {},
   "source": [
    "Обозначения:\n",
    "\n",
    "- $X$ — матрица признаков (нулевой столбец состоит из единиц)\n",
    "\n",
    "- $y$ — вектор целевого признака\n",
    "\n",
    "- $P$ — матрица, на которую умножаются признаки\n",
    "\n",
    "- $w$ — вектор весов линейной регрессии (нулевой элемент равен сдвигу)\n",
    "\n",
    "- $A$ — любая матрица\n",
    "\n",
    "- $A^{-1}$ — обратная матрица\n",
    "\n",
    "- $E$ - единичная матрица"
   ]
  },
  {
   "cell_type": "markdown",
   "metadata": {},
   "source": [
    "Предсказания:\n",
    "\n",
    "$$\n",
    "a = Xw\n",
    "$$\n",
    "\n",
    "Задача обучения:\n",
    "\n",
    "$$\n",
    "w = \\arg\\min_w MSE(Xw, y)\n",
    "$$\n",
    "\n",
    "Формула обучения:\n",
    "\n",
    "$$\n",
    "w = (X^T X)^{-1} X^T y\n",
    "$$"
   ]
  },
  {
   "cell_type": "markdown",
   "metadata": {},
   "source": [
    "**Вопрос:** Изменится ли качество линейной регрессии, при умножении признаков на обратимую матрицу?\n",
    "\n",
    "**Ответ:** Качество линейной регрессии не изменится.\n",
    "\n",
    "**Обоснование:** \n",
    "\n",
    "1. Умножим нашу матрицу на обратимую матрицу P и получим новую матрицу признаков A:\n",
    "\n",
    "$$\n",
    "XP = A\n",
    "$$\n",
    "\n",
    "2. Формула обучения для матрицы A:\n",
    "\n",
    "$$\n",
    "w = ((XP)^T XP)^{-1} (XP)^T y\n",
    "$$\n",
    "\n",
    "3. Формула предсказания:\n",
    "\n",
    "$$\n",
    "a = XPw\n",
    "$$\n",
    "\n",
    "Подставим значение w:\n",
    "\n",
    "$$\n",
    "a = XP((XP)^T XP)^{-1} (XP)^T y\n",
    "$$\n",
    "\n",
    "4. Дл раскрытия скобок, воспользуемся свойствами матриц:\n",
    "\n",
    "$$\n",
    "A(BС) = (AB)С\n",
    "$$\n",
    "\n",
    "$$\n",
    "(AB)^{-1} = A^{-1} B^{-1}\n",
    "$$\n",
    "\n",
    "$$\n",
    "(AB)^T = A^T B^T\n",
    "$$\n",
    "\n",
    "$$\n",
    "AE = EA = A\n",
    "$$\n",
    "\n",
    "$$\n",
    "A A^{-1} = E\n",
    "$$\n",
    "\n",
    "5. Преобразуем нашу формулу:\n",
    "\n",
    "$$\n",
    "w' = XP((XP)^T XP)^{-1} (XP)^T y\n",
    "$$\n",
    "\n",
    "$$\n",
    "w' = (P^T(X^T X) P)^{-1} X^T P^T y\n",
    "$$\n",
    "\n",
    "$$\n",
    "w' = P^{-1} (X^T X)^{-1} (P^T)^{-1} X^T P^T y\n",
    "$$\n",
    "\n",
    "$$\n",
    "w' = P^{-1} (X^T X)^{-1} E X^T y\n",
    "$$\n",
    "\n",
    "*Разберем:*\n",
    "\n",
    "$P^T (P^T)^{-1} = E$, которые можно исключить, т.к. $AE = EA = A$. \n",
    "\n",
    "$(X^T X)^{-1} X^T y =w$ (заменим). \n",
    "\n",
    "В итоге получаем исходную формулу предсказания.\n",
    "\n",
    "$$\n",
    "w' = P^{-1}w\n",
    "$$\n",
    "\n",
    "Делаем вывод, что умножение признаков на обратимую матрицу влияния на предсказания не оказывает."
   ]
  },
  {
   "cell_type": "markdown",
   "metadata": {},
   "source": [
    "## Алгоритм преобразования"
   ]
  },
  {
   "cell_type": "markdown",
   "metadata": {},
   "source": [
    "**Алгоритм**\n",
    "\n",
    "Умножим матрицу признаков (размером **5000 x 4**) на на любую квадратную обратимую матрицу, размер которой, будет соответствовать ширине матрицы признаков, т.е. **4 x 4**.\n",
    "\n",
    "Сравним качество модели на полученной матрице и на матрице исходных данных.\n",
    "\n",
    "Метрику качества используем **r2**"
   ]
  },
  {
   "cell_type": "markdown",
   "metadata": {},
   "source": [
    "**Обоснование**\n",
    "\n",
    "На предыдущем этапе, мы установили, что умножение признаков на любую квадратную обратимую матрицу влияния на предсказания не оказывает. Следовательно, и метрика r2 на обеих моделях будет равна."
   ]
  },
  {
   "cell_type": "markdown",
   "metadata": {},
   "source": [
    "## Проверка алгоритма"
   ]
  },
  {
   "cell_type": "markdown",
   "metadata": {},
   "source": [
    "Подготовим данные"
   ]
  },
  {
   "cell_type": "code",
   "execution_count": 10,
   "metadata": {},
   "outputs": [],
   "source": [
    "features = df.drop('Страховые выплаты', axis=1)\n",
    "target = df['Страховые выплаты']"
   ]
  },
  {
   "cell_type": "markdown",
   "metadata": {},
   "source": [
    "Создадим матрицу размером 4х4 методом random.normal()"
   ]
  },
  {
   "cell_type": "code",
   "execution_count": 11,
   "metadata": {},
   "outputs": [
    {
     "data": {
      "text/plain": [
       "array([[ 0.46662442, -0.65350404,  0.59088831, -1.16835445],\n",
       "       [ 0.62739266, -0.89355938,  1.04777926,  1.59150982],\n",
       "       [ 0.71599754, -0.45932511, -0.68678072, -0.23215703],\n",
       "       [ 0.25739284,  0.61294929,  1.00782954,  0.32713405]])"
      ]
     },
     "execution_count": 11,
     "metadata": {},
     "output_type": "execute_result"
    }
   ],
   "source": [
    "matrix_random = np.random.normal(size=(4, 4))\n",
    "matrix_random"
   ]
  },
  {
   "cell_type": "markdown",
   "metadata": {},
   "source": [
    "Проверим данную матрицу на обратимость. Сделаем обратную ей матрицу методом linalg.inv(). "
   ]
  },
  {
   "cell_type": "code",
   "execution_count": 12,
   "metadata": {},
   "outputs": [
    {
     "data": {
      "text/plain": [
       "array([[-0.02246811, -0.01603701,  1.13626584,  0.80414874],\n",
       "       [-0.37952653, -0.41029272,  0.30002859,  0.85352514],\n",
       "       [ 0.38516067,  0.15566427, -0.48575676,  0.27356103],\n",
       "       [-0.45780209,  0.30181328,  0.04032295, -0.01789069]])"
      ]
     },
     "execution_count": 12,
     "metadata": {},
     "output_type": "execute_result"
    }
   ],
   "source": [
    "matrix_random_inv = np.linalg.inv(matrix_random)\n",
    "matrix_random_inv"
   ]
  },
  {
   "cell_type": "raw",
   "metadata": {},
   "source": [
    "def generate_invertible_matrix(size):\n",
    "    try:\n",
    "        matrix = np.random.normal(size=(size, size))\n",
    "        # проверим матрицу на обратимость, если нет, пробуем сгенерировать еще раз\n",
    "        # таким образом гарантируем, что матрица стопроцентно будет обратимой\n",
    "        np.linalg.inv(matrix)\n",
    "    except np.linalg.LinAlgError:\n",
    "        matrix = generate_invertible_matrix()\n",
    "    \n",
    "    return matrix"
   ]
  },
  {
   "cell_type": "markdown",
   "metadata": {},
   "source": [
    "Преобразуем наши исходные признаки в матрицу и умножим ее на созданную обратную матрицу (matrix_random_inv)"
   ]
  },
  {
   "cell_type": "code",
   "execution_count": 13,
   "metadata": {},
   "outputs": [],
   "source": [
    "matrix = features.values\n",
    "matrix_for_test = matrix @ matrix_random_inv"
   ]
  },
  {
   "cell_type": "markdown",
   "metadata": {},
   "source": [
    "Преобразуем matrix_new в датафрейм"
   ]
  },
  {
   "cell_type": "code",
   "execution_count": 14,
   "metadata": {},
   "outputs": [
    {
     "data": {
      "text/html": [
       "<div>\n",
       "<style scoped>\n",
       "    .dataframe tbody tr th:only-of-type {\n",
       "        vertical-align: middle;\n",
       "    }\n",
       "\n",
       "    .dataframe tbody tr th {\n",
       "        vertical-align: top;\n",
       "    }\n",
       "\n",
       "    .dataframe thead th {\n",
       "        text-align: right;\n",
       "    }\n",
       "</style>\n",
       "<table border=\"1\" class=\"dataframe\">\n",
       "  <thead>\n",
       "    <tr style=\"text-align: right;\">\n",
       "      <th></th>\n",
       "      <th>Пол</th>\n",
       "      <th>Возраст</th>\n",
       "      <th>Зарплата</th>\n",
       "      <th>Члены семьи</th>\n",
       "    </tr>\n",
       "  </thead>\n",
       "  <tbody>\n",
       "    <tr>\n",
       "      <th>0</th>\n",
       "      <td>19087.928376</td>\n",
       "      <td>7704.411423</td>\n",
       "      <td>-24080.057467</td>\n",
       "      <td>13604.408114</td>\n",
       "    </tr>\n",
       "    <tr>\n",
       "      <th>1</th>\n",
       "      <td>14618.189439</td>\n",
       "      <td>5896.670498</td>\n",
       "      <td>-18444.915190</td>\n",
       "      <td>10434.563588</td>\n",
       "    </tr>\n",
       "    <tr>\n",
       "      <th>2</th>\n",
       "      <td>8077.367802</td>\n",
       "      <td>3257.051120</td>\n",
       "      <td>-10192.191102</td>\n",
       "      <td>5769.533960</td>\n",
       "    </tr>\n",
       "    <tr>\n",
       "      <th>3</th>\n",
       "      <td>16052.314280</td>\n",
       "      <td>6483.187418</td>\n",
       "      <td>-20249.675589</td>\n",
       "      <td>11425.383397</td>\n",
       "    </tr>\n",
       "    <tr>\n",
       "      <th>4</th>\n",
       "      <td>10042.044277</td>\n",
       "      <td>4051.333138</td>\n",
       "      <td>-12668.714334</td>\n",
       "      <td>7164.645861</td>\n",
       "    </tr>\n",
       "    <tr>\n",
       "      <th>...</th>\n",
       "      <td>...</td>\n",
       "      <td>...</td>\n",
       "      <td>...</td>\n",
       "      <td>...</td>\n",
       "    </tr>\n",
       "    <tr>\n",
       "      <th>4842</th>\n",
       "      <td>13738.693574</td>\n",
       "      <td>5546.329766</td>\n",
       "      <td>-17333.034837</td>\n",
       "      <td>9789.991865</td>\n",
       "    </tr>\n",
       "    <tr>\n",
       "      <th>4843</th>\n",
       "      <td>20169.057406</td>\n",
       "      <td>8143.159457</td>\n",
       "      <td>-25443.412857</td>\n",
       "      <td>14363.600187</td>\n",
       "    </tr>\n",
       "    <tr>\n",
       "      <th>4844</th>\n",
       "      <td>13048.440580</td>\n",
       "      <td>5269.416427</td>\n",
       "      <td>-16461.072900</td>\n",
       "      <td>9290.753801</td>\n",
       "    </tr>\n",
       "    <tr>\n",
       "      <th>4845</th>\n",
       "      <td>12585.008452</td>\n",
       "      <td>5082.084497</td>\n",
       "      <td>-15876.388144</td>\n",
       "      <td>8964.973867</td>\n",
       "    </tr>\n",
       "    <tr>\n",
       "      <th>4846</th>\n",
       "      <td>15626.416191</td>\n",
       "      <td>6308.766825</td>\n",
       "      <td>-19712.147011</td>\n",
       "      <td>11131.262974</td>\n",
       "    </tr>\n",
       "  </tbody>\n",
       "</table>\n",
       "<p>4847 rows × 4 columns</p>\n",
       "</div>"
      ],
      "text/plain": [
       "               Пол      Возраст      Зарплата   Члены семьи\n",
       "0     19087.928376  7704.411423 -24080.057467  13604.408114\n",
       "1     14618.189439  5896.670498 -18444.915190  10434.563588\n",
       "2      8077.367802  3257.051120 -10192.191102   5769.533960\n",
       "3     16052.314280  6483.187418 -20249.675589  11425.383397\n",
       "4     10042.044277  4051.333138 -12668.714334   7164.645861\n",
       "...            ...          ...           ...           ...\n",
       "4842  13738.693574  5546.329766 -17333.034837   9789.991865\n",
       "4843  20169.057406  8143.159457 -25443.412857  14363.600187\n",
       "4844  13048.440580  5269.416427 -16461.072900   9290.753801\n",
       "4845  12585.008452  5082.084497 -15876.388144   8964.973867\n",
       "4846  15626.416191  6308.766825 -19712.147011  11131.262974\n",
       "\n",
       "[4847 rows x 4 columns]"
      ]
     },
     "execution_count": 14,
     "metadata": {},
     "output_type": "execute_result"
    }
   ],
   "source": [
    "features_for_test = pd.DataFrame (matrix_for_test, columns = features.columns)\n",
    "features_for_test"
   ]
  },
  {
   "cell_type": "markdown",
   "metadata": {},
   "source": [
    "Обучим модель на исходных признаках"
   ]
  },
  {
   "cell_type": "code",
   "execution_count": 15,
   "metadata": {},
   "outputs": [
    {
     "data": {
      "text/plain": [
       "0.4302010044852066"
      ]
     },
     "execution_count": 15,
     "metadata": {},
     "output_type": "execute_result"
    }
   ],
   "source": [
    "model = LinearRegression()\n",
    "model.fit(features, target)\n",
    "predictions = model.predict(features)\n",
    "r2_score(target, predictions)"
   ]
  },
  {
   "cell_type": "markdown",
   "metadata": {},
   "source": [
    "Теперь обучим на измененных признаках"
   ]
  },
  {
   "cell_type": "code",
   "execution_count": 16,
   "metadata": {},
   "outputs": [
    {
     "data": {
      "text/plain": [
       "0.43020100448520704"
      ]
     },
     "execution_count": 16,
     "metadata": {},
     "output_type": "execute_result"
    }
   ],
   "source": [
    "model = LinearRegression()\n",
    "model.fit(features_for_test, target)\n",
    "predictions = model.predict(features_for_test)\n",
    "r2_score(target, predictions)"
   ]
  },
  {
   "cell_type": "markdown",
   "metadata": {},
   "source": [
    "**Метрики r2 равны.** Разница с 11го знака после \".\" можно объяснить округлением."
   ]
  },
  {
   "cell_type": "markdown",
   "metadata": {},
   "source": [
    "## Вывод"
   ]
  },
  {
   "cell_type": "markdown",
   "metadata": {},
   "source": [
    "- Загрузили данные:\n",
    "\n",
    "    - Размер датасета 5 столбцов (4 признака + 1 целевой) и 5000 строк.\n",
    "\n",
    "    - Типы данных устраивают. Оставили без изменения.\n",
    "\n",
    "    - Пропусков нет.\n",
    "\n",
    "    - Выбросов и аномалий нет.\n",
    "\n",
    "    - Избавились от 153 дубликатов.\n",
    "    \n",
    "- Произвели расчет и ответили на вопрос: *Изменится ли качество линейной регрессии, при умножении признаков на обратимую матрицу?*\n",
    "\n",
    "    - **Качество не изменится**. Вывод обосновали и проверили на следующем этапе.\n",
    "    \n",
    "- Предложили алгоритм преобразования данных для решения задачи, основываясь на предыдущем шаге.\n",
    "\n",
    "- Запрограммировали алгоритм, применив матричные операции.\n",
    "\n",
    "    - Согласно условиям, проверили, что качество линейной регрессии из *sklearn* не отличается до и после преобразования. \n",
    "    \n",
    "    - Применили метрику R2."
   ]
  }
 ],
 "metadata": {
  "ExecuteTimeLog": [
   {
    "duration": 1552,
    "start_time": "2022-11-30T07:02:58.321Z"
   },
   {
    "duration": 93,
    "start_time": "2022-11-30T07:02:59.875Z"
   },
   {
    "duration": 29,
    "start_time": "2022-11-30T07:03:33.040Z"
   },
   {
    "duration": 13,
    "start_time": "2022-11-30T07:03:45.938Z"
   },
   {
    "duration": 13,
    "start_time": "2022-11-30T07:10:02.414Z"
   },
   {
    "duration": 96,
    "start_time": "2022-11-30T07:10:43.046Z"
   },
   {
    "duration": 27,
    "start_time": "2022-11-30T07:10:55.612Z"
   },
   {
    "duration": 159,
    "start_time": "2022-11-30T07:14:22.689Z"
   },
   {
    "duration": 3,
    "start_time": "2022-11-30T07:15:24.638Z"
   },
   {
    "duration": 151,
    "start_time": "2022-11-30T07:15:28.040Z"
   },
   {
    "duration": 173,
    "start_time": "2022-11-30T07:15:52.897Z"
   },
   {
    "duration": 199,
    "start_time": "2022-11-30T07:16:32.430Z"
   },
   {
    "duration": 187,
    "start_time": "2022-11-30T07:18:34.313Z"
   },
   {
    "duration": 6,
    "start_time": "2022-11-30T07:20:11.322Z"
   },
   {
    "duration": 454,
    "start_time": "2022-11-30T07:23:33.968Z"
   },
   {
    "duration": 10,
    "start_time": "2022-11-30T07:23:41.980Z"
   },
   {
    "duration": 655,
    "start_time": "2022-11-30T07:23:48.907Z"
   },
   {
    "duration": 2,
    "start_time": "2022-11-30T07:24:42.473Z"
   },
   {
    "duration": 28,
    "start_time": "2022-11-30T07:24:42.720Z"
   },
   {
    "duration": 9,
    "start_time": "2022-11-30T07:24:42.934Z"
   },
   {
    "duration": 10,
    "start_time": "2022-11-30T07:24:43.092Z"
   },
   {
    "duration": 25,
    "start_time": "2022-11-30T07:24:43.267Z"
   },
   {
    "duration": 565,
    "start_time": "2022-11-30T07:24:43.902Z"
   },
   {
    "duration": 6,
    "start_time": "2022-11-30T07:24:48.721Z"
   },
   {
    "duration": 6,
    "start_time": "2022-11-30T07:25:20.436Z"
   },
   {
    "duration": 8,
    "start_time": "2022-11-30T07:26:55.969Z"
   },
   {
    "duration": 3,
    "start_time": "2022-11-30T09:23:22.460Z"
   },
   {
    "duration": 6,
    "start_time": "2022-11-30T09:23:30.038Z"
   },
   {
    "duration": 14,
    "start_time": "2022-11-30T09:23:37.884Z"
   },
   {
    "duration": 6,
    "start_time": "2022-11-30T09:24:00.216Z"
   },
   {
    "duration": 4,
    "start_time": "2022-11-30T09:24:08.196Z"
   },
   {
    "duration": 5,
    "start_time": "2022-11-30T09:26:13.593Z"
   },
   {
    "duration": 5,
    "start_time": "2022-11-30T09:30:19.784Z"
   },
   {
    "duration": 3,
    "start_time": "2022-11-30T09:33:16.049Z"
   },
   {
    "duration": 5,
    "start_time": "2022-11-30T09:33:20.520Z"
   },
   {
    "duration": 10,
    "start_time": "2022-11-30T09:37:35.456Z"
   },
   {
    "duration": 4,
    "start_time": "2022-11-30T09:37:41.589Z"
   },
   {
    "duration": 5,
    "start_time": "2022-11-30T09:37:41.991Z"
   },
   {
    "duration": 5,
    "start_time": "2022-11-30T09:37:42.563Z"
   },
   {
    "duration": 5,
    "start_time": "2022-11-30T09:37:44.133Z"
   },
   {
    "duration": 3,
    "start_time": "2022-11-30T09:40:04.318Z"
   },
   {
    "duration": 5,
    "start_time": "2022-11-30T09:40:05.113Z"
   },
   {
    "duration": 5,
    "start_time": "2022-11-30T09:40:05.810Z"
   },
   {
    "duration": 3,
    "start_time": "2022-11-30T09:40:19.226Z"
   },
   {
    "duration": 4,
    "start_time": "2022-11-30T09:41:20.336Z"
   },
   {
    "duration": 4,
    "start_time": "2022-11-30T09:41:20.746Z"
   },
   {
    "duration": 6,
    "start_time": "2022-11-30T09:41:21.060Z"
   },
   {
    "duration": 3,
    "start_time": "2022-11-30T09:41:21.593Z"
   },
   {
    "duration": 3,
    "start_time": "2022-11-30T09:41:23.569Z"
   },
   {
    "duration": 11,
    "start_time": "2022-11-30T09:41:29.660Z"
   },
   {
    "duration": 4,
    "start_time": "2022-11-30T09:45:09.141Z"
   },
   {
    "duration": 8,
    "start_time": "2022-11-30T09:45:09.797Z"
   },
   {
    "duration": 3,
    "start_time": "2022-11-30T09:48:14.325Z"
   },
   {
    "duration": 14,
    "start_time": "2022-11-30T09:48:14.775Z"
   },
   {
    "duration": 4,
    "start_time": "2022-11-30T09:48:15.491Z"
   },
   {
    "duration": 8,
    "start_time": "2022-11-30T09:48:16.597Z"
   },
   {
    "duration": 8,
    "start_time": "2022-11-30T09:48:17.674Z"
   },
   {
    "duration": 1028,
    "start_time": "2022-11-30T10:02:37.857Z"
   },
   {
    "duration": 29,
    "start_time": "2022-11-30T10:02:38.887Z"
   },
   {
    "duration": 16,
    "start_time": "2022-11-30T10:02:38.917Z"
   },
   {
    "duration": 19,
    "start_time": "2022-11-30T10:02:38.934Z"
   },
   {
    "duration": 36,
    "start_time": "2022-11-30T10:02:38.955Z"
   },
   {
    "duration": 811,
    "start_time": "2022-11-30T10:02:38.993Z"
   },
   {
    "duration": 17,
    "start_time": "2022-11-30T10:02:39.806Z"
   },
   {
    "duration": 61,
    "start_time": "2022-11-30T10:02:39.825Z"
   },
   {
    "duration": 18,
    "start_time": "2022-11-30T10:02:39.887Z"
   },
   {
    "duration": 19,
    "start_time": "2022-11-30T10:02:39.907Z"
   },
   {
    "duration": 14,
    "start_time": "2022-11-30T10:02:39.928Z"
   },
   {
    "duration": 16,
    "start_time": "2022-11-30T10:02:39.944Z"
   },
   {
    "duration": 61,
    "start_time": "2022-11-30T10:02:39.962Z"
   },
   {
    "duration": 105,
    "start_time": "2022-11-30T10:02:40.026Z"
   },
   {
    "duration": 15,
    "start_time": "2022-11-30T10:02:40.133Z"
   },
   {
    "duration": 181,
    "start_time": "2022-11-30T10:02:40.149Z"
   },
   {
    "duration": 1868,
    "start_time": "2022-11-30T10:25:08.133Z"
   },
   {
    "duration": 87,
    "start_time": "2022-11-30T10:25:10.003Z"
   },
   {
    "duration": 15,
    "start_time": "2022-11-30T10:25:32.855Z"
   },
   {
    "duration": 11,
    "start_time": "2022-11-30T10:25:33.933Z"
   },
   {
    "duration": 25,
    "start_time": "2022-11-30T10:25:34.451Z"
   },
   {
    "duration": 971,
    "start_time": "2022-11-30T10:25:36.009Z"
   },
   {
    "duration": 7,
    "start_time": "2022-11-30T10:25:38.245Z"
   },
   {
    "duration": 6,
    "start_time": "2022-11-30T10:25:38.747Z"
   },
   {
    "duration": 4,
    "start_time": "2022-11-30T10:29:30.187Z"
   },
   {
    "duration": 5,
    "start_time": "2022-11-30T10:29:31.309Z"
   },
   {
    "duration": 7,
    "start_time": "2022-11-30T10:29:32.504Z"
   },
   {
    "duration": 4,
    "start_time": "2022-11-30T10:30:10.869Z"
   },
   {
    "duration": 12,
    "start_time": "2022-11-30T10:30:11.657Z"
   },
   {
    "duration": 97,
    "start_time": "2022-11-30T10:30:13.048Z"
   },
   {
    "duration": 11,
    "start_time": "2022-11-30T10:30:13.750Z"
   },
   {
    "duration": 1090,
    "start_time": "2022-11-30T11:50:30.817Z"
   },
   {
    "duration": 29,
    "start_time": "2022-11-30T11:50:31.909Z"
   },
   {
    "duration": 23,
    "start_time": "2022-11-30T11:50:31.940Z"
   },
   {
    "duration": 28,
    "start_time": "2022-11-30T11:50:31.966Z"
   },
   {
    "duration": 51,
    "start_time": "2022-11-30T11:50:31.996Z"
   },
   {
    "duration": 853,
    "start_time": "2022-11-30T11:50:32.049Z"
   },
   {
    "duration": 18,
    "start_time": "2022-11-30T11:50:32.904Z"
   },
   {
    "duration": 46,
    "start_time": "2022-11-30T11:50:32.924Z"
   },
   {
    "duration": 9,
    "start_time": "2022-11-30T11:50:32.972Z"
   },
   {
    "duration": 4,
    "start_time": "2022-11-30T11:50:32.984Z"
   },
   {
    "duration": 8,
    "start_time": "2022-11-30T11:50:32.989Z"
   },
   {
    "duration": 9,
    "start_time": "2022-11-30T11:50:32.999Z"
   },
   {
    "duration": 13,
    "start_time": "2022-11-30T11:50:33.009Z"
   },
   {
    "duration": 101,
    "start_time": "2022-11-30T11:50:33.024Z"
   },
   {
    "duration": 98,
    "start_time": "2022-11-30T11:50:33.127Z"
   },
   {
    "duration": 109,
    "start_time": "2022-11-30T11:50:33.227Z"
   }
  ],
  "kernelspec": {
   "display_name": "Python 3 (ipykernel)",
   "language": "python",
   "name": "python3"
  },
  "language_info": {
   "codemirror_mode": {
    "name": "ipython",
    "version": 3
   },
   "file_extension": ".py",
   "mimetype": "text/x-python",
   "name": "python",
   "nbconvert_exporter": "python",
   "pygments_lexer": "ipython3",
   "version": "3.9.5"
  },
  "toc": {
   "base_numbering": 1,
   "nav_menu": {},
   "number_sections": true,
   "sideBar": true,
   "skip_h1_title": true,
   "title_cell": "Содержание",
   "title_sidebar": "Contents",
   "toc_cell": true,
   "toc_position": {
    "height": "calc(100% - 180px)",
    "left": "10px",
    "top": "150px",
    "width": "211.556px"
   },
   "toc_section_display": true,
   "toc_window_display": false
  }
 },
 "nbformat": 4,
 "nbformat_minor": 2
}
