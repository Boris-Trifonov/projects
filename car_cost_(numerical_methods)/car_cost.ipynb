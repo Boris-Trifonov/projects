{
 "cells": [
  {
   "cell_type": "markdown",
   "metadata": {
    "toc": true
   },
   "source": [
    "<h1>Содержание<span class=\"tocSkip\"></span></h1>\n",
    "<div class=\"toc\"><ul class=\"toc-item\"><li><span><a href=\"#Подготовка-данных\" data-toc-modified-id=\"Подготовка-данных-1\"><span class=\"toc-item-num\">1&nbsp;&nbsp;</span>Подготовка данных</a></span></li><li><span><a href=\"#Обучение-моделей\" data-toc-modified-id=\"Обучение-моделей-2\"><span class=\"toc-item-num\">2&nbsp;&nbsp;</span>Обучение моделей</a></span><ul class=\"toc-item\"><li><span><a href=\"#DecisionTreeRegressor\" data-toc-modified-id=\"DecisionTreeRegressor-2.1\"><span class=\"toc-item-num\">2.1&nbsp;&nbsp;</span>DecisionTreeRegressor</a></span></li><li><span><a href=\"#LGBMRegressor\" data-toc-modified-id=\"LGBMRegressor-2.2\"><span class=\"toc-item-num\">2.2&nbsp;&nbsp;</span>LGBMRegressor</a></span></li><li><span><a href=\"#RandomForestRegressor\" data-toc-modified-id=\"RandomForestRegressor-2.3\"><span class=\"toc-item-num\">2.3&nbsp;&nbsp;</span>RandomForestRegressor</a></span></li></ul></li><li><span><a href=\"#Анализ-моделей\" data-toc-modified-id=\"Анализ-моделей-3\"><span class=\"toc-item-num\">3&nbsp;&nbsp;</span>Анализ моделей</a></span></li><li><span><a href=\"#Вывод\" data-toc-modified-id=\"Вывод-4\"><span class=\"toc-item-num\">4&nbsp;&nbsp;</span>Вывод</a></span></li><li><span><a href=\"#Чек-лист-проверки\" data-toc-modified-id=\"Чек-лист-проверки-5\"><span class=\"toc-item-num\">5&nbsp;&nbsp;</span>Чек-лист проверки</a></span></li></ul></div>"
   ]
  },
  {
   "cell_type": "markdown",
   "metadata": {},
   "source": [
    "# Определение стоимости автомобилей"
   ]
  },
  {
   "cell_type": "markdown",
   "metadata": {},
   "source": [
    "Сервис по продаже автомобилей с пробегом разрабатывает приложение для привлечения новых клиентов.\n",
    "\n",
    "**Входные данные:**\n",
    "\n",
    "- Исторические данные: технические характеристики, комплектации и цены автомобилей:\n",
    "\n",
    "https://code.s3.yandex.net/datasets/autos.csv \n",
    "\n",
    "\n",
    "**Признаки:**\n",
    "\n",
    "`DateCrawled` — дата скачивания анкеты из базы\n",
    "\n",
    "`VehicleType` — тип автомобильного кузова\n",
    "\n",
    "`RegistrationYear` — год регистрации автомобиля\n",
    "\n",
    "`Gearbox` — тип коробки передач\n",
    "\n",
    "`Power` — мощность (л. с.)\n",
    "\n",
    "`Model` — модель автомобиля\n",
    "\n",
    "`Kilometer` — пробег (км)\n",
    "\n",
    "`RegistrationMonth` — месяц регистрации автомобиля\n",
    "\n",
    "`FuelType` — тип топлива\n",
    "\n",
    "`Brand` — марка автомобиля\n",
    "\n",
    "`Repaired` — была машина в ремонте или нет\n",
    "\n",
    "`DateCreated` — дата создания анкеты\n",
    "\n",
    "`NumberOfPictures` — количество фотографий автомобиля\n",
    "\n",
    "`PostalCode` — почтовый индекс владельца анкеты (пользователя)\n",
    "\n",
    "`LastSeen` — дата последней активности пользователя\n",
    "\n",
    "**Целевой признак:**\n",
    "\n",
    "`Price` — цена (евро)\n",
    "\n",
    "**Условия задачи:**\n",
    "\n",
    "- Заказчику важны:\n",
    "\n",
    "    - качество предсказания;\n",
    "    \n",
    "    - скорость предсказания;\n",
    "\n",
    "    - время обучения.\n",
    "\n",
    "- Не ограничиваться градиентным бустингом. Попробовать более простые модели.\n",
    "\n",
    "- Для оценки качества моделей применить метрику RMSE.\n",
    "\n",
    "- Значение метрики RMSE должно быть меньше 2500.\n",
    "        \n",
    "**Цель исследования:**\n",
    "        \n",
    "- Построить модель для определения стоимости.\n",
    "\n",
    "**Задачи:**\n",
    "\n",
    "- Обучить разные модели, одна из которых — LightGBM\n",
    "\n",
    "- Как минимум одна модель — не бустинг. \n",
    "\n",
    "- Для каждой модели попробовать разные гиперпараметры.\n",
    "\n",
    "- Проанализировать время обучения, время предсказания и качество моделей.\n",
    "\n",
    "- Опираясь на критерии, выбрать лучшую модель, проверить её качество на тестовой выборке.\n",
    "\n",
    "**Этапы исследования:**\n",
    "\n",
    "- Подготовка данных\n",
    "\n",
    "- Обучение моделей\n",
    "\n",
    "- Анализ моделей\n",
    "\n",
    "- Общий вывод"
   ]
  },
  {
   "cell_type": "markdown",
   "metadata": {},
   "source": [
    "## Подготовка данных"
   ]
  },
  {
   "cell_type": "code",
   "execution_count": 1,
   "metadata": {},
   "outputs": [],
   "source": [
    "import pandas as pd\n",
    "import numpy as np\n",
    "import lightgbm as lgb\n",
    "import seaborn as sns\n",
    "import matplotlib.pyplot as plt\n",
    "\n",
    "from lightgbm import LGBMRegressor\n",
    "from sklearn.ensemble import RandomForestRegressor\n",
    "from sklearn.tree import DecisionTreeRegressor\n",
    "\n",
    "from sklearn.model_selection import cross_val_score, train_test_split, GridSearchCV, KFold\n",
    "from sklearn.metrics import mean_squared_error as mse\n",
    "from sklearn.preprocessing import OrdinalEncoder\n",
    "\n",
    "import warnings\n",
    "warnings.filterwarnings(\"ignore\")"
   ]
  },
  {
   "cell_type": "code",
   "execution_count": 2,
   "metadata": {},
   "outputs": [],
   "source": [
    "try:\n",
    "    df = pd.read_csv('/datasets/autos.csv')\n",
    "except:\n",
    "    df = pd.read_csv('https://code.s3.yandex.net/datasets/autos.csv')"
   ]
  },
  {
   "cell_type": "code",
   "execution_count": 3,
   "metadata": {},
   "outputs": [
    {
     "data": {
      "text/html": [
       "<div>\n",
       "<style scoped>\n",
       "    .dataframe tbody tr th:only-of-type {\n",
       "        vertical-align: middle;\n",
       "    }\n",
       "\n",
       "    .dataframe tbody tr th {\n",
       "        vertical-align: top;\n",
       "    }\n",
       "\n",
       "    .dataframe thead th {\n",
       "        text-align: right;\n",
       "    }\n",
       "</style>\n",
       "<table border=\"1\" class=\"dataframe\">\n",
       "  <thead>\n",
       "    <tr style=\"text-align: right;\">\n",
       "      <th></th>\n",
       "      <th>DateCrawled</th>\n",
       "      <th>Price</th>\n",
       "      <th>VehicleType</th>\n",
       "      <th>RegistrationYear</th>\n",
       "      <th>Gearbox</th>\n",
       "      <th>Power</th>\n",
       "      <th>Model</th>\n",
       "      <th>Kilometer</th>\n",
       "      <th>RegistrationMonth</th>\n",
       "      <th>FuelType</th>\n",
       "      <th>Brand</th>\n",
       "      <th>Repaired</th>\n",
       "      <th>DateCreated</th>\n",
       "      <th>NumberOfPictures</th>\n",
       "      <th>PostalCode</th>\n",
       "      <th>LastSeen</th>\n",
       "    </tr>\n",
       "  </thead>\n",
       "  <tbody>\n",
       "    <tr>\n",
       "      <th>0</th>\n",
       "      <td>2016-03-24 11:52:17</td>\n",
       "      <td>480</td>\n",
       "      <td>NaN</td>\n",
       "      <td>1993</td>\n",
       "      <td>manual</td>\n",
       "      <td>0</td>\n",
       "      <td>golf</td>\n",
       "      <td>150000</td>\n",
       "      <td>0</td>\n",
       "      <td>petrol</td>\n",
       "      <td>volkswagen</td>\n",
       "      <td>NaN</td>\n",
       "      <td>2016-03-24 00:00:00</td>\n",
       "      <td>0</td>\n",
       "      <td>70435</td>\n",
       "      <td>2016-04-07 03:16:57</td>\n",
       "    </tr>\n",
       "    <tr>\n",
       "      <th>1</th>\n",
       "      <td>2016-03-24 10:58:45</td>\n",
       "      <td>18300</td>\n",
       "      <td>coupe</td>\n",
       "      <td>2011</td>\n",
       "      <td>manual</td>\n",
       "      <td>190</td>\n",
       "      <td>NaN</td>\n",
       "      <td>125000</td>\n",
       "      <td>5</td>\n",
       "      <td>gasoline</td>\n",
       "      <td>audi</td>\n",
       "      <td>yes</td>\n",
       "      <td>2016-03-24 00:00:00</td>\n",
       "      <td>0</td>\n",
       "      <td>66954</td>\n",
       "      <td>2016-04-07 01:46:50</td>\n",
       "    </tr>\n",
       "    <tr>\n",
       "      <th>2</th>\n",
       "      <td>2016-03-14 12:52:21</td>\n",
       "      <td>9800</td>\n",
       "      <td>suv</td>\n",
       "      <td>2004</td>\n",
       "      <td>auto</td>\n",
       "      <td>163</td>\n",
       "      <td>grand</td>\n",
       "      <td>125000</td>\n",
       "      <td>8</td>\n",
       "      <td>gasoline</td>\n",
       "      <td>jeep</td>\n",
       "      <td>NaN</td>\n",
       "      <td>2016-03-14 00:00:00</td>\n",
       "      <td>0</td>\n",
       "      <td>90480</td>\n",
       "      <td>2016-04-05 12:47:46</td>\n",
       "    </tr>\n",
       "    <tr>\n",
       "      <th>3</th>\n",
       "      <td>2016-03-17 16:54:04</td>\n",
       "      <td>1500</td>\n",
       "      <td>small</td>\n",
       "      <td>2001</td>\n",
       "      <td>manual</td>\n",
       "      <td>75</td>\n",
       "      <td>golf</td>\n",
       "      <td>150000</td>\n",
       "      <td>6</td>\n",
       "      <td>petrol</td>\n",
       "      <td>volkswagen</td>\n",
       "      <td>no</td>\n",
       "      <td>2016-03-17 00:00:00</td>\n",
       "      <td>0</td>\n",
       "      <td>91074</td>\n",
       "      <td>2016-03-17 17:40:17</td>\n",
       "    </tr>\n",
       "    <tr>\n",
       "      <th>4</th>\n",
       "      <td>2016-03-31 17:25:20</td>\n",
       "      <td>3600</td>\n",
       "      <td>small</td>\n",
       "      <td>2008</td>\n",
       "      <td>manual</td>\n",
       "      <td>69</td>\n",
       "      <td>fabia</td>\n",
       "      <td>90000</td>\n",
       "      <td>7</td>\n",
       "      <td>gasoline</td>\n",
       "      <td>skoda</td>\n",
       "      <td>no</td>\n",
       "      <td>2016-03-31 00:00:00</td>\n",
       "      <td>0</td>\n",
       "      <td>60437</td>\n",
       "      <td>2016-04-06 10:17:21</td>\n",
       "    </tr>\n",
       "  </tbody>\n",
       "</table>\n",
       "</div>"
      ],
      "text/plain": [
       "           DateCrawled  Price VehicleType  RegistrationYear Gearbox  Power  \\\n",
       "0  2016-03-24 11:52:17    480         NaN              1993  manual      0   \n",
       "1  2016-03-24 10:58:45  18300       coupe              2011  manual    190   \n",
       "2  2016-03-14 12:52:21   9800         suv              2004    auto    163   \n",
       "3  2016-03-17 16:54:04   1500       small              2001  manual     75   \n",
       "4  2016-03-31 17:25:20   3600       small              2008  manual     69   \n",
       "\n",
       "   Model  Kilometer  RegistrationMonth  FuelType       Brand Repaired  \\\n",
       "0   golf     150000                  0    petrol  volkswagen      NaN   \n",
       "1    NaN     125000                  5  gasoline        audi      yes   \n",
       "2  grand     125000                  8  gasoline        jeep      NaN   \n",
       "3   golf     150000                  6    petrol  volkswagen       no   \n",
       "4  fabia      90000                  7  gasoline       skoda       no   \n",
       "\n",
       "           DateCreated  NumberOfPictures  PostalCode             LastSeen  \n",
       "0  2016-03-24 00:00:00                 0       70435  2016-04-07 03:16:57  \n",
       "1  2016-03-24 00:00:00                 0       66954  2016-04-07 01:46:50  \n",
       "2  2016-03-14 00:00:00                 0       90480  2016-04-05 12:47:46  \n",
       "3  2016-03-17 00:00:00                 0       91074  2016-03-17 17:40:17  \n",
       "4  2016-03-31 00:00:00                 0       60437  2016-04-06 10:17:21  "
      ]
     },
     "execution_count": 3,
     "metadata": {},
     "output_type": "execute_result"
    }
   ],
   "source": [
    "df.head()"
   ]
  },
  {
   "cell_type": "code",
   "execution_count": 4,
   "metadata": {
    "collapsed": true
   },
   "outputs": [
    {
     "name": "stdout",
     "output_type": "stream",
     "text": [
      "<class 'pandas.core.frame.DataFrame'>\n",
      "RangeIndex: 354369 entries, 0 to 354368\n",
      "Data columns (total 16 columns):\n",
      " #   Column             Non-Null Count   Dtype \n",
      "---  ------             --------------   ----- \n",
      " 0   DateCrawled        354369 non-null  object\n",
      " 1   Price              354369 non-null  int64 \n",
      " 2   VehicleType        316879 non-null  object\n",
      " 3   RegistrationYear   354369 non-null  int64 \n",
      " 4   Gearbox            334536 non-null  object\n",
      " 5   Power              354369 non-null  int64 \n",
      " 6   Model              334664 non-null  object\n",
      " 7   Kilometer          354369 non-null  int64 \n",
      " 8   RegistrationMonth  354369 non-null  int64 \n",
      " 9   FuelType           321474 non-null  object\n",
      " 10  Brand              354369 non-null  object\n",
      " 11  Repaired           283215 non-null  object\n",
      " 12  DateCreated        354369 non-null  object\n",
      " 13  NumberOfPictures   354369 non-null  int64 \n",
      " 14  PostalCode         354369 non-null  int64 \n",
      " 15  LastSeen           354369 non-null  object\n",
      "dtypes: int64(7), object(9)\n",
      "memory usage: 43.3+ MB\n"
     ]
    }
   ],
   "source": [
    "df.info()"
   ]
  },
  {
   "cell_type": "code",
   "execution_count": 5,
   "metadata": {},
   "outputs": [
    {
     "data": {
      "text/html": [
       "<div>\n",
       "<style scoped>\n",
       "    .dataframe tbody tr th:only-of-type {\n",
       "        vertical-align: middle;\n",
       "    }\n",
       "\n",
       "    .dataframe tbody tr th {\n",
       "        vertical-align: top;\n",
       "    }\n",
       "\n",
       "    .dataframe thead th {\n",
       "        text-align: right;\n",
       "    }\n",
       "</style>\n",
       "<table border=\"1\" class=\"dataframe\">\n",
       "  <thead>\n",
       "    <tr style=\"text-align: right;\">\n",
       "      <th></th>\n",
       "      <th>count</th>\n",
       "      <th>unique</th>\n",
       "      <th>top</th>\n",
       "      <th>freq</th>\n",
       "      <th>mean</th>\n",
       "      <th>std</th>\n",
       "      <th>min</th>\n",
       "      <th>25%</th>\n",
       "      <th>50%</th>\n",
       "      <th>75%</th>\n",
       "      <th>max</th>\n",
       "    </tr>\n",
       "  </thead>\n",
       "  <tbody>\n",
       "    <tr>\n",
       "      <th>DateCrawled</th>\n",
       "      <td>354369</td>\n",
       "      <td>271174</td>\n",
       "      <td>2016-03-24 14:49:47</td>\n",
       "      <td>7</td>\n",
       "      <td>NaN</td>\n",
       "      <td>NaN</td>\n",
       "      <td>NaN</td>\n",
       "      <td>NaN</td>\n",
       "      <td>NaN</td>\n",
       "      <td>NaN</td>\n",
       "      <td>NaN</td>\n",
       "    </tr>\n",
       "    <tr>\n",
       "      <th>Price</th>\n",
       "      <td>354369.0</td>\n",
       "      <td>NaN</td>\n",
       "      <td>NaN</td>\n",
       "      <td>NaN</td>\n",
       "      <td>4416.656776</td>\n",
       "      <td>4514.158514</td>\n",
       "      <td>0.0</td>\n",
       "      <td>1050.0</td>\n",
       "      <td>2700.0</td>\n",
       "      <td>6400.0</td>\n",
       "      <td>20000.0</td>\n",
       "    </tr>\n",
       "    <tr>\n",
       "      <th>VehicleType</th>\n",
       "      <td>316879</td>\n",
       "      <td>8</td>\n",
       "      <td>sedan</td>\n",
       "      <td>91457</td>\n",
       "      <td>NaN</td>\n",
       "      <td>NaN</td>\n",
       "      <td>NaN</td>\n",
       "      <td>NaN</td>\n",
       "      <td>NaN</td>\n",
       "      <td>NaN</td>\n",
       "      <td>NaN</td>\n",
       "    </tr>\n",
       "    <tr>\n",
       "      <th>RegistrationYear</th>\n",
       "      <td>354369.0</td>\n",
       "      <td>NaN</td>\n",
       "      <td>NaN</td>\n",
       "      <td>NaN</td>\n",
       "      <td>2004.234448</td>\n",
       "      <td>90.227958</td>\n",
       "      <td>1000.0</td>\n",
       "      <td>1999.0</td>\n",
       "      <td>2003.0</td>\n",
       "      <td>2008.0</td>\n",
       "      <td>9999.0</td>\n",
       "    </tr>\n",
       "    <tr>\n",
       "      <th>Gearbox</th>\n",
       "      <td>334536</td>\n",
       "      <td>2</td>\n",
       "      <td>manual</td>\n",
       "      <td>268251</td>\n",
       "      <td>NaN</td>\n",
       "      <td>NaN</td>\n",
       "      <td>NaN</td>\n",
       "      <td>NaN</td>\n",
       "      <td>NaN</td>\n",
       "      <td>NaN</td>\n",
       "      <td>NaN</td>\n",
       "    </tr>\n",
       "    <tr>\n",
       "      <th>Power</th>\n",
       "      <td>354369.0</td>\n",
       "      <td>NaN</td>\n",
       "      <td>NaN</td>\n",
       "      <td>NaN</td>\n",
       "      <td>110.094337</td>\n",
       "      <td>189.850405</td>\n",
       "      <td>0.0</td>\n",
       "      <td>69.0</td>\n",
       "      <td>105.0</td>\n",
       "      <td>143.0</td>\n",
       "      <td>20000.0</td>\n",
       "    </tr>\n",
       "    <tr>\n",
       "      <th>Model</th>\n",
       "      <td>334664</td>\n",
       "      <td>250</td>\n",
       "      <td>golf</td>\n",
       "      <td>29232</td>\n",
       "      <td>NaN</td>\n",
       "      <td>NaN</td>\n",
       "      <td>NaN</td>\n",
       "      <td>NaN</td>\n",
       "      <td>NaN</td>\n",
       "      <td>NaN</td>\n",
       "      <td>NaN</td>\n",
       "    </tr>\n",
       "    <tr>\n",
       "      <th>Kilometer</th>\n",
       "      <td>354369.0</td>\n",
       "      <td>NaN</td>\n",
       "      <td>NaN</td>\n",
       "      <td>NaN</td>\n",
       "      <td>128211.172535</td>\n",
       "      <td>37905.34153</td>\n",
       "      <td>5000.0</td>\n",
       "      <td>125000.0</td>\n",
       "      <td>150000.0</td>\n",
       "      <td>150000.0</td>\n",
       "      <td>150000.0</td>\n",
       "    </tr>\n",
       "    <tr>\n",
       "      <th>RegistrationMonth</th>\n",
       "      <td>354369.0</td>\n",
       "      <td>NaN</td>\n",
       "      <td>NaN</td>\n",
       "      <td>NaN</td>\n",
       "      <td>5.714645</td>\n",
       "      <td>3.726421</td>\n",
       "      <td>0.0</td>\n",
       "      <td>3.0</td>\n",
       "      <td>6.0</td>\n",
       "      <td>9.0</td>\n",
       "      <td>12.0</td>\n",
       "    </tr>\n",
       "    <tr>\n",
       "      <th>FuelType</th>\n",
       "      <td>321474</td>\n",
       "      <td>7</td>\n",
       "      <td>petrol</td>\n",
       "      <td>216352</td>\n",
       "      <td>NaN</td>\n",
       "      <td>NaN</td>\n",
       "      <td>NaN</td>\n",
       "      <td>NaN</td>\n",
       "      <td>NaN</td>\n",
       "      <td>NaN</td>\n",
       "      <td>NaN</td>\n",
       "    </tr>\n",
       "    <tr>\n",
       "      <th>Brand</th>\n",
       "      <td>354369</td>\n",
       "      <td>40</td>\n",
       "      <td>volkswagen</td>\n",
       "      <td>77013</td>\n",
       "      <td>NaN</td>\n",
       "      <td>NaN</td>\n",
       "      <td>NaN</td>\n",
       "      <td>NaN</td>\n",
       "      <td>NaN</td>\n",
       "      <td>NaN</td>\n",
       "      <td>NaN</td>\n",
       "    </tr>\n",
       "    <tr>\n",
       "      <th>Repaired</th>\n",
       "      <td>283215</td>\n",
       "      <td>2</td>\n",
       "      <td>no</td>\n",
       "      <td>247161</td>\n",
       "      <td>NaN</td>\n",
       "      <td>NaN</td>\n",
       "      <td>NaN</td>\n",
       "      <td>NaN</td>\n",
       "      <td>NaN</td>\n",
       "      <td>NaN</td>\n",
       "      <td>NaN</td>\n",
       "    </tr>\n",
       "    <tr>\n",
       "      <th>DateCreated</th>\n",
       "      <td>354369</td>\n",
       "      <td>109</td>\n",
       "      <td>2016-04-03 00:00:00</td>\n",
       "      <td>13719</td>\n",
       "      <td>NaN</td>\n",
       "      <td>NaN</td>\n",
       "      <td>NaN</td>\n",
       "      <td>NaN</td>\n",
       "      <td>NaN</td>\n",
       "      <td>NaN</td>\n",
       "      <td>NaN</td>\n",
       "    </tr>\n",
       "    <tr>\n",
       "      <th>NumberOfPictures</th>\n",
       "      <td>354369.0</td>\n",
       "      <td>NaN</td>\n",
       "      <td>NaN</td>\n",
       "      <td>NaN</td>\n",
       "      <td>0.0</td>\n",
       "      <td>0.0</td>\n",
       "      <td>0.0</td>\n",
       "      <td>0.0</td>\n",
       "      <td>0.0</td>\n",
       "      <td>0.0</td>\n",
       "      <td>0.0</td>\n",
       "    </tr>\n",
       "    <tr>\n",
       "      <th>PostalCode</th>\n",
       "      <td>354369.0</td>\n",
       "      <td>NaN</td>\n",
       "      <td>NaN</td>\n",
       "      <td>NaN</td>\n",
       "      <td>50508.689087</td>\n",
       "      <td>25783.096248</td>\n",
       "      <td>1067.0</td>\n",
       "      <td>30165.0</td>\n",
       "      <td>49413.0</td>\n",
       "      <td>71083.0</td>\n",
       "      <td>99998.0</td>\n",
       "    </tr>\n",
       "    <tr>\n",
       "      <th>LastSeen</th>\n",
       "      <td>354369</td>\n",
       "      <td>179150</td>\n",
       "      <td>2016-04-06 13:45:54</td>\n",
       "      <td>17</td>\n",
       "      <td>NaN</td>\n",
       "      <td>NaN</td>\n",
       "      <td>NaN</td>\n",
       "      <td>NaN</td>\n",
       "      <td>NaN</td>\n",
       "      <td>NaN</td>\n",
       "      <td>NaN</td>\n",
       "    </tr>\n",
       "  </tbody>\n",
       "</table>\n",
       "</div>"
      ],
      "text/plain": [
       "                      count  unique                  top    freq  \\\n",
       "DateCrawled          354369  271174  2016-03-24 14:49:47       7   \n",
       "Price              354369.0     NaN                  NaN     NaN   \n",
       "VehicleType          316879       8                sedan   91457   \n",
       "RegistrationYear   354369.0     NaN                  NaN     NaN   \n",
       "Gearbox              334536       2               manual  268251   \n",
       "Power              354369.0     NaN                  NaN     NaN   \n",
       "Model                334664     250                 golf   29232   \n",
       "Kilometer          354369.0     NaN                  NaN     NaN   \n",
       "RegistrationMonth  354369.0     NaN                  NaN     NaN   \n",
       "FuelType             321474       7               petrol  216352   \n",
       "Brand                354369      40           volkswagen   77013   \n",
       "Repaired             283215       2                   no  247161   \n",
       "DateCreated          354369     109  2016-04-03 00:00:00   13719   \n",
       "NumberOfPictures   354369.0     NaN                  NaN     NaN   \n",
       "PostalCode         354369.0     NaN                  NaN     NaN   \n",
       "LastSeen             354369  179150  2016-04-06 13:45:54      17   \n",
       "\n",
       "                            mean           std     min       25%       50%  \\\n",
       "DateCrawled                  NaN           NaN     NaN       NaN       NaN   \n",
       "Price                4416.656776   4514.158514     0.0    1050.0    2700.0   \n",
       "VehicleType                  NaN           NaN     NaN       NaN       NaN   \n",
       "RegistrationYear     2004.234448     90.227958  1000.0    1999.0    2003.0   \n",
       "Gearbox                      NaN           NaN     NaN       NaN       NaN   \n",
       "Power                 110.094337    189.850405     0.0      69.0     105.0   \n",
       "Model                        NaN           NaN     NaN       NaN       NaN   \n",
       "Kilometer          128211.172535   37905.34153  5000.0  125000.0  150000.0   \n",
       "RegistrationMonth       5.714645      3.726421     0.0       3.0       6.0   \n",
       "FuelType                     NaN           NaN     NaN       NaN       NaN   \n",
       "Brand                        NaN           NaN     NaN       NaN       NaN   \n",
       "Repaired                     NaN           NaN     NaN       NaN       NaN   \n",
       "DateCreated                  NaN           NaN     NaN       NaN       NaN   \n",
       "NumberOfPictures             0.0           0.0     0.0       0.0       0.0   \n",
       "PostalCode          50508.689087  25783.096248  1067.0   30165.0   49413.0   \n",
       "LastSeen                     NaN           NaN     NaN       NaN       NaN   \n",
       "\n",
       "                        75%       max  \n",
       "DateCrawled             NaN       NaN  \n",
       "Price                6400.0   20000.0  \n",
       "VehicleType             NaN       NaN  \n",
       "RegistrationYear     2008.0    9999.0  \n",
       "Gearbox                 NaN       NaN  \n",
       "Power                 143.0   20000.0  \n",
       "Model                   NaN       NaN  \n",
       "Kilometer          150000.0  150000.0  \n",
       "RegistrationMonth       9.0      12.0  \n",
       "FuelType                NaN       NaN  \n",
       "Brand                   NaN       NaN  \n",
       "Repaired                NaN       NaN  \n",
       "DateCreated             NaN       NaN  \n",
       "NumberOfPictures        0.0       0.0  \n",
       "PostalCode          71083.0   99998.0  \n",
       "LastSeen                NaN       NaN  "
      ]
     },
     "execution_count": 5,
     "metadata": {},
     "output_type": "execute_result"
    }
   ],
   "source": [
    "df.describe(include='all').T"
   ]
  },
  {
   "cell_type": "code",
   "execution_count": 6,
   "metadata": {},
   "outputs": [
    {
     "data": {
      "text/plain": [
       "4"
      ]
     },
     "execution_count": 6,
     "metadata": {},
     "output_type": "execute_result"
    }
   ],
   "source": [
    "df.duplicated().sum()"
   ]
  },
  {
   "cell_type": "markdown",
   "metadata": {},
   "source": [
    "Удалим дубликаты"
   ]
  },
  {
   "cell_type": "code",
   "execution_count": 7,
   "metadata": {},
   "outputs": [],
   "source": [
    "df.drop_duplicates(inplace=True)"
   ]
  },
  {
   "cell_type": "markdown",
   "metadata": {},
   "source": [
    "Удалим признаки, которые не понадобятся для обучения:\n",
    "\n",
    "`DateCrawled` — дата скачивания анкеты из базы\n",
    "\n",
    "`DateCreated` — дата создания анкеты\n",
    "\n",
    "`NumberOfPictures` — количество фотографий автомобиля\n",
    "\n",
    "`PostalCode` — почтовый индекс владельца анкеты (пользователя)\n",
    "\n",
    "`LastSeen` — дата последней активности пользователя"
   ]
  },
  {
   "cell_type": "code",
   "execution_count": 8,
   "metadata": {},
   "outputs": [
    {
     "data": {
      "text/plain": [
       "array([0])"
      ]
     },
     "execution_count": 8,
     "metadata": {},
     "output_type": "execute_result"
    }
   ],
   "source": [
    "df.NumberOfPictures.unique()"
   ]
  },
  {
   "cell_type": "code",
   "execution_count": 9,
   "metadata": {},
   "outputs": [],
   "source": [
    "df.drop(columns = ['DateCrawled', 'DateCreated', 'NumberOfPictures', 'LastSeen'], inplace=True)"
   ]
  },
  {
   "cell_type": "markdown",
   "metadata": {},
   "source": [
    "Проверим пропуски"
   ]
  },
  {
   "cell_type": "code",
   "execution_count": 10,
   "metadata": {},
   "outputs": [
    {
     "data": {
      "text/plain": [
       "Price                    0\n",
       "VehicleType          37490\n",
       "RegistrationYear         0\n",
       "Gearbox              19833\n",
       "Power                    0\n",
       "Model                19705\n",
       "Kilometer                0\n",
       "RegistrationMonth        0\n",
       "FuelType             32895\n",
       "Brand                    0\n",
       "Repaired             71154\n",
       "PostalCode               0\n",
       "dtype: int64"
      ]
     },
     "execution_count": 10,
     "metadata": {},
     "output_type": "execute_result"
    }
   ],
   "source": [
    "df.isna().sum()"
   ]
  },
  {
   "cell_type": "markdown",
   "metadata": {},
   "source": [
    "Без знания модели определить стоимость будет очень сложно, поэтому строки с пропусками по этому признаку придется уделить."
   ]
  },
  {
   "cell_type": "code",
   "execution_count": 11,
   "metadata": {},
   "outputs": [],
   "source": [
    "df.dropna(subset=['Model'], inplace = True)"
   ]
  },
  {
   "cell_type": "markdown",
   "metadata": {},
   "source": [
    "Пропуски в остальных категориальных признаках заменим на значение 'unknown'"
   ]
  },
  {
   "cell_type": "code",
   "execution_count": 12,
   "metadata": {},
   "outputs": [
    {
     "data": {
      "text/plain": [
       "Price                0\n",
       "VehicleType          0\n",
       "RegistrationYear     0\n",
       "Gearbox              0\n",
       "Power                0\n",
       "Model                0\n",
       "Kilometer            0\n",
       "RegistrationMonth    0\n",
       "FuelType             0\n",
       "Brand                0\n",
       "Repaired             0\n",
       "PostalCode           0\n",
       "dtype: int64"
      ]
     },
     "execution_count": 12,
     "metadata": {},
     "output_type": "execute_result"
    }
   ],
   "source": [
    "df = df.fillna('unknown')\n",
    "df.isna().sum()"
   ]
  },
  {
   "cell_type": "code",
   "execution_count": 13,
   "metadata": {},
   "outputs": [
    {
     "data": {
      "image/png": "[encoded data removed]",
      "text/plain": [
       "<Figure size 1440x1440 with 2 Axes>"
      ]
     },
     "metadata": {
      "needs_background": "light"
     },
     "output_type": "display_data"
    }
   ],
   "source": [
    "plt.figure(figsize=(20,20))\n",
    "sns.heatmap(df.corr(), annot=True, cmap=\"Blues\", fmt='.2f');"
   ]
  },
  {
   "cell_type": "markdown",
   "metadata": {},
   "source": [
    "`Price`"
   ]
  },
  {
   "cell_type": "code",
   "execution_count": 14,
   "metadata": {},
   "outputs": [
    {
     "data": {
      "image/png": "[encoded data removed]",
      "text/plain": [
       "<Figure size 432x288 with 1 Axes>"
      ]
     },
     "metadata": {
      "needs_background": "light"
     },
     "output_type": "display_data"
    }
   ],
   "source": [
    "sns.boxplot(x=df['Price'], color='red')  \n",
    "plt.title('Price');"
   ]
  },
  {
   "cell_type": "code",
   "execution_count": 15,
   "metadata": {},
   "outputs": [
    {
     "data": {
      "image/png": "[encoded data removed]",
      "text/plain": [
       "<Figure size 432x288 with 1 Axes>"
      ]
     },
     "metadata": {
      "needs_background": "light"
     },
     "output_type": "display_data"
    }
   ],
   "source": [
    "q1 = df.Price.quantile(0.25)\n",
    "q3 = df.Price.quantile(0.75)\n",
    "iqr = q3 - q1\n",
    "\n",
    "df.Price.hist(bins=10, range=((q1-3*iqr), (q3+3*iqr)))\n",
    "plt.show()"
   ]
  },
  {
   "cell_type": "code",
   "execution_count": 16,
   "metadata": {},
   "outputs": [
    {
     "data": {
      "text/plain": [
       "0        8588\n",
       "500      5215\n",
       "1500     5001\n",
       "1200     4299\n",
       "1000     4250\n",
       "         ... \n",
       "3988        1\n",
       "14227       1\n",
       "11920       1\n",
       "1429        1\n",
       "8188        1\n",
       "Name: Price, Length: 3670, dtype: int64"
      ]
     },
     "execution_count": 16,
     "metadata": {},
     "output_type": "execute_result"
    }
   ],
   "source": [
    "df['Price'].value_counts()"
   ]
  },
  {
   "cell_type": "markdown",
   "metadata": {},
   "source": [
    "8588 значений с нулевой ценой.\n",
    "Оставим значения 'price' диапазоне от q1=df.Price.quantile(0.04) и q3=df.Price.quantile(0.96)"
   ]
  },
  {
   "cell_type": "code",
   "execution_count": 17,
   "metadata": {},
   "outputs": [
    {
     "data": {
      "text/plain": [
       "150.0"
      ]
     },
     "execution_count": 17,
     "metadata": {},
     "output_type": "execute_result"
    }
   ],
   "source": [
    "df.Price.quantile(0.04)"
   ]
  },
  {
   "cell_type": "code",
   "execution_count": 18,
   "metadata": {},
   "outputs": [
    {
     "data": {
      "text/plain": [
       "15500.0"
      ]
     },
     "execution_count": 18,
     "metadata": {},
     "output_type": "execute_result"
    }
   ],
   "source": [
    "df.Price.quantile(0.96)"
   ]
  },
  {
   "cell_type": "code",
   "execution_count": 19,
   "metadata": {},
   "outputs": [],
   "source": [
    "df_filtred = df.query('0 < Price <= 15500')"
   ]
  },
  {
   "cell_type": "markdown",
   "metadata": {},
   "source": [
    "`RegistrationYear`"
   ]
  },
  {
   "cell_type": "code",
   "execution_count": 20,
   "metadata": {},
   "outputs": [
    {
     "data": {
      "image/png": "[encoded data removed]",
      "text/plain": [
       "<Figure size 432x288 with 1 Axes>"
      ]
     },
     "metadata": {
      "needs_background": "light"
     },
     "output_type": "display_data"
    }
   ],
   "source": [
    "sns.boxplot(x=df_filtred['RegistrationYear'], color='red')  \n",
    "plt.title('RegistrationYear');"
   ]
  },
  {
   "cell_type": "code",
   "execution_count": 21,
   "metadata": {},
   "outputs": [
    {
     "data": {
      "image/png": "[encoded data removed]",
      "text/plain": [
       "<Figure size 432x288 with 1 Axes>"
      ]
     },
     "metadata": {
      "needs_background": "light"
     },
     "output_type": "display_data"
    }
   ],
   "source": [
    "q1 = df_filtred.RegistrationYear.quantile(0.25)\n",
    "q3 = df_filtred.RegistrationYear.quantile(0.75)\n",
    "iqr = q3 - q1\n",
    "\n",
    "df_filtred.RegistrationYear.hist(bins=10, range=((q1-3*iqr), (q3+3*iqr)))\n",
    "plt.show()"
   ]
  },
  {
   "cell_type": "code",
   "execution_count": 22,
   "metadata": {},
   "outputs": [
    {
     "data": {
      "text/plain": [
       "1983.0"
      ]
     },
     "execution_count": 22,
     "metadata": {},
     "output_type": "execute_result"
    }
   ],
   "source": [
    "df_filtred.RegistrationYear.quantile(0.01)"
   ]
  },
  {
   "cell_type": "markdown",
   "metadata": {},
   "source": [
    "Данные за 2016 год. Все, что выше - выбросы"
   ]
  },
  {
   "cell_type": "code",
   "execution_count": 24,
   "metadata": {},
   "outputs": [],
   "source": [
    "df_filtred = df_filtred.query('1983 <= RegistrationYear <= 2016')"
   ]
  },
  {
   "cell_type": "code",
   "execution_count": 25,
   "metadata": {},
   "outputs": [
    {
     "data": {
      "image/png": "[encoded data removed]",
      "text/plain": [
       "<Figure size 432x288 with 1 Axes>"
      ]
     },
     "metadata": {
      "needs_background": "light"
     },
     "output_type": "display_data"
    }
   ],
   "source": [
    "sns.boxplot(x=df_filtred['RegistrationYear'], color='red')  \n",
    "plt.title('RegistrationYear');"
   ]
  },
  {
   "cell_type": "markdown",
   "metadata": {},
   "source": [
    "`Power`"
   ]
  },
  {
   "cell_type": "code",
   "execution_count": 26,
   "metadata": {},
   "outputs": [
    {
     "data": {
      "image/png": "[encoded data removed]",
      "text/plain": [
       "<Figure size 432x288 with 1 Axes>"
      ]
     },
     "metadata": {
      "needs_background": "light"
     },
     "output_type": "display_data"
    }
   ],
   "source": [
    "sns.boxplot(x=df_filtred['Power'], color='red')  \n",
    "plt.title('Power');"
   ]
  },
  {
   "cell_type": "code",
   "execution_count": 27,
   "metadata": {},
   "outputs": [
    {
     "data": {
      "image/png": "[encoded data removed]",
      "text/plain": [
       "<Figure size 432x288 with 1 Axes>"
      ]
     },
     "metadata": {
      "needs_background": "light"
     },
     "output_type": "display_data"
    }
   ],
   "source": [
    "q1 = df_filtred.Power.quantile(0.25)\n",
    "q3 = df_filtred.Power.quantile(0.75)\n",
    "iqr = q3 - q1\n",
    "\n",
    "df_filtred.Power.hist(bins=10, range=((q1-3*iqr), (q3+3*iqr)))\n",
    "plt.show()"
   ]
  },
  {
   "cell_type": "markdown",
   "metadata": {},
   "source": [
    "Очевидно некоторые пользователи указали мощность не в л.с. Экспертно, оставим адекватные значения от 50 до 300 л.с."
   ]
  },
  {
   "cell_type": "code",
   "execution_count": 28,
   "metadata": {
    "scrolled": true
   },
   "outputs": [],
   "source": [
    "df_filtred = df_filtred.query('50 < Power <= 300')"
   ]
  },
  {
   "cell_type": "code",
   "execution_count": 29,
   "metadata": {},
   "outputs": [
    {
     "data": {
      "image/png": "[encoded data removed]",
      "text/plain": [
       "<Figure size 432x288 with 1 Axes>"
      ]
     },
     "metadata": {
      "needs_background": "light"
     },
     "output_type": "display_data"
    }
   ],
   "source": [
    "sns.boxplot(x=df_filtred['Power'], color='red')  \n",
    "plt.title('Power');"
   ]
  },
  {
   "cell_type": "markdown",
   "metadata": {},
   "source": [
    "Разделим на обучающую и тестовую выборки"
   ]
  },
  {
   "cell_type": "code",
   "execution_count": 31,
   "metadata": {},
   "outputs": [],
   "source": [
    "features = df_filtred.drop(['Price'],axis=1)\n",
    "target = df_filtred['Price']"
   ]
  },
  {
   "cell_type": "code",
   "execution_count": 32,
   "metadata": {},
   "outputs": [],
   "source": [
    "features_train, features_test, target_train, target_test = train_test_split(\n",
    "    features, target, test_size=0.25, random_state=12345)"
   ]
  },
  {
   "cell_type": "code",
   "execution_count": 33,
   "metadata": {},
   "outputs": [
    {
     "name": "stdout",
     "output_type": "stream",
     "text": [
      "(195268, 11)\n",
      "(195268,)\n",
      "(65090, 11)\n",
      "(65090,)\n"
     ]
    }
   ],
   "source": [
    "print(features_train.shape)\n",
    "print(target_train.shape)\n",
    "print(features_test.shape)\n",
    "print(target_test.shape)"
   ]
  },
  {
   "cell_type": "markdown",
   "metadata": {},
   "source": [
    "Выделим категориальные признаки"
   ]
  },
  {
   "cell_type": "code",
   "execution_count": 34,
   "metadata": {},
   "outputs": [
    {
     "data": {
      "text/plain": [
       "VehicleType    object\n",
       "Gearbox        object\n",
       "Model          object\n",
       "FuelType       object\n",
       "Brand          object\n",
       "Repaired       object\n",
       "dtype: object"
      ]
     },
     "execution_count": 34,
     "metadata": {},
     "output_type": "execute_result"
    }
   ],
   "source": [
    "category_features = df_filtred.select_dtypes(include=['object']).dtypes\n",
    "category_features"
   ]
  },
  {
   "cell_type": "markdown",
   "metadata": {},
   "source": [
    "Преобразуем категориальные признаки в численные"
   ]
  },
  {
   "cell_type": "code",
   "execution_count": 35,
   "metadata": {},
   "outputs": [],
   "source": [
    "encoder = OrdinalEncoder(handle_unknown='use_encoded_value', unknown_value=-1)\n",
    "\n",
    "features_train[['VehicleType', 'Gearbox', 'Model', 'FuelType', 'Brand', 'Repaired']]\\\n",
    "= encoder.fit_transform(features_train[['VehicleType', 'Gearbox', 'Model', 'FuelType', 'Brand', 'Repaired']])\n",
    "\n",
    "features_test[['VehicleType', 'Gearbox', 'Model', 'FuelType', 'Brand', 'Repaired']]\\\n",
    "= encoder.transform(features_test[['VehicleType', 'Gearbox', 'Model', 'FuelType', 'Brand', 'Repaired']])"
   ]
  },
  {
   "cell_type": "code",
   "execution_count": 36,
   "metadata": {},
   "outputs": [
    {
     "data": {
      "text/plain": [
       "VehicleType          float64\n",
       "RegistrationYear       int64\n",
       "Gearbox              float64\n",
       "Power                  int64\n",
       "Model                float64\n",
       "Kilometer              int64\n",
       "RegistrationMonth      int64\n",
       "FuelType             float64\n",
       "Brand                float64\n",
       "Repaired             float64\n",
       "PostalCode             int64\n",
       "dtype: object"
      ]
     },
     "execution_count": 36,
     "metadata": {},
     "output_type": "execute_result"
    }
   ],
   "source": [
    "features_train.dtypes"
   ]
  },
  {
   "cell_type": "markdown",
   "metadata": {},
   "source": [
    "## Обучение моделей"
   ]
  },
  {
   "cell_type": "markdown",
   "metadata": {},
   "source": [
    "создадим кросс-валидатор для обучения моделей"
   ]
  },
  {
   "cell_type": "code",
   "execution_count": 38,
   "metadata": {},
   "outputs": [],
   "source": [
    "cv = KFold(n_splits=3, shuffle=True, random_state=12345)"
   ]
  },
  {
   "cell_type": "markdown",
   "metadata": {},
   "source": [
    "### DecisionTreeRegressor"
   ]
  },
  {
   "cell_type": "code",
   "execution_count": 39,
   "metadata": {},
   "outputs": [],
   "source": [
    "features_dtr_train = features_train.copy()\n",
    "features_dtr_test = features_test.copy()\n",
    "target_dtr_train = target_train.copy()\n",
    "target_dtr_test = target_test.copy()"
   ]
  },
  {
   "cell_type": "code",
   "execution_count": 40,
   "metadata": {},
   "outputs": [
    {
     "data": {
      "text/plain": [
       "({'max_depth': 13}, 1629.7747215976747)"
      ]
     },
     "execution_count": 40,
     "metadata": {},
     "output_type": "execute_result"
    }
   ],
   "source": [
    "param_grid = {'max_depth': range (1,20)}\n",
    "\n",
    "model_dtr = DecisionTreeRegressor()\n",
    "grid_dtr = GridSearchCV(model_dtr, param_grid, scoring='neg_mean_squared_error', cv=cv)\n",
    "grid_dtr.fit(features_train, target_train)\n",
    "\n",
    "grid_dtr.best_params_, (grid_dtr.best_score_*-1) ** 0.5"
   ]
  },
  {
   "cell_type": "code",
   "execution_count": 41,
   "metadata": {},
   "outputs": [
    {
     "name": "stdout",
     "output_type": "stream",
     "text": [
      "CPU times: user 751 ms, sys: 3.72 ms, total: 755 ms\n",
      "Wall time: 763 ms\n"
     ]
    },
    {
     "data": {
      "text/plain": [
       "DecisionTreeRegressor(max_depth=13, random_state=12345)"
      ]
     },
     "execution_count": 41,
     "metadata": {},
     "output_type": "execute_result"
    }
   ],
   "source": [
    "%%time\n",
    "\n",
    "model_dtr = DecisionTreeRegressor(max_depth=13, random_state=12345)\n",
    "model_dtr.fit(features_train, target_train)"
   ]
  },
  {
   "cell_type": "code",
   "execution_count": 42,
   "metadata": {},
   "outputs": [
    {
     "name": "stdout",
     "output_type": "stream",
     "text": [
      "CPU times: user 38.1 ms, sys: 80 µs, total: 38.1 ms\n",
      "Wall time: 35.8 ms\n"
     ]
    },
    {
     "data": {
      "text/plain": [
       "1331.065534505945"
      ]
     },
     "execution_count": 42,
     "metadata": {},
     "output_type": "execute_result"
    }
   ],
   "source": [
    "%%time\n",
    "\n",
    "predicted_dtr_train = model_dtr.predict(features_train)\n",
    "rmse_dtr_train = mse(target_train, predicted_dtr_train)**0.5\n",
    "rmse_dtr_train"
   ]
  },
  {
   "cell_type": "markdown",
   "metadata": {},
   "source": [
    "### LGBMRegressor"
   ]
  },
  {
   "cell_type": "markdown",
   "metadata": {},
   "source": [
    "Найдем лучшие значения гиперпараметров 'max_depth' и 'n_estimators' с помощью GridSearchCV"
   ]
  },
  {
   "cell_type": "code",
   "execution_count": 43,
   "metadata": {},
   "outputs": [],
   "source": [
    "features_lgbm_train = features_train.copy()\n",
    "features_lgbm_test = features_test.copy()\n",
    "target_lgbm_train = target_train.copy()\n",
    "target_lgbm_test = target_test.copy()"
   ]
  },
  {
   "cell_type": "code",
   "execution_count": 44,
   "metadata": {},
   "outputs": [],
   "source": [
    "for feature in features:\n",
    "    features_lgbm_train[feature] = pd.Series(features_lgbm_train[feature], dtype='category')\n",
    "    features_lgbm_test[feature] = pd.Series(features_lgbm_test[feature], dtype='category')"
   ]
  },
  {
   "cell_type": "markdown",
   "metadata": {},
   "source": [
    "Кросс-валидация"
   ]
  },
  {
   "cell_type": "code",
   "execution_count": 45,
   "metadata": {},
   "outputs": [
    {
     "data": {
      "text/plain": [
       "({'n_estimators': 39}, 1431.9638170993267)"
      ]
     },
     "execution_count": 45,
     "metadata": {},
     "output_type": "execute_result"
    }
   ],
   "source": [
    "model_lgbm = LGBMRegressor()\n",
    "param_grid = {'n_estimators': range(10, 20), 'n_estimators': range(35, 40)}\n",
    "\n",
    "grid_lgbm =  GridSearchCV(model_lgbm, param_grid, scoring='neg_mean_squared_error', cv=cv)\n",
    "grid_lgbm.fit(features_lgbm_train, target_lgbm_train)\n",
    "\n",
    "grid_lgbm.best_params_, (grid_lgbm.best_score_*-1) ** 0.5"
   ]
  },
  {
   "cell_type": "code",
   "execution_count": 46,
   "metadata": {},
   "outputs": [
    {
     "name": "stdout",
     "output_type": "stream",
     "text": [
      "CPU times: user 50.1 s, sys: 259 ms, total: 50.4 s\n",
      "Wall time: 50.7 s\n"
     ]
    },
    {
     "data": {
      "text/plain": [
       "LGBMRegressor(max_depth=14, n_estimators=39, random_state=12345)"
      ]
     },
     "execution_count": 46,
     "metadata": {},
     "output_type": "execute_result"
    }
   ],
   "source": [
    "%%time\n",
    "\n",
    "model_lgbm = LGBMRegressor(max_depth=14, n_estimators=39, boosting_type='gbdt', random_state=12345)\n",
    "model_lgbm.fit(features_lgbm_train, target_lgbm_train)"
   ]
  },
  {
   "cell_type": "code",
   "execution_count": 47,
   "metadata": {
    "scrolled": true
   },
   "outputs": [
    {
     "name": "stdout",
     "output_type": "stream",
     "text": [
      "CPU times: user 878 ms, sys: 2.27 ms, total: 881 ms\n",
      "Wall time: 892 ms\n"
     ]
    },
    {
     "data": {
      "text/plain": [
       "1385.2243479330805"
      ]
     },
     "execution_count": 47,
     "metadata": {},
     "output_type": "execute_result"
    }
   ],
   "source": [
    "%%time\n",
    "\n",
    "predicted_lgbm_train = model_lgbm.predict(features_lgbm_train)\n",
    "rmse_lgbm_train = mse(target_train, predicted_lgbm_train)**0.5\n",
    "rmse_lgbm_train"
   ]
  },
  {
   "cell_type": "markdown",
   "metadata": {},
   "source": [
    "### RandomForestRegressor"
   ]
  },
  {
   "cell_type": "code",
   "execution_count": 48,
   "metadata": {},
   "outputs": [
    {
     "data": {
      "text/plain": [
       "({'n_estimators': 35}, 1367.6924244997122)"
      ]
     },
     "execution_count": 48,
     "metadata": {},
     "output_type": "execute_result"
    }
   ],
   "source": [
    "model_rfr = RandomForestRegressor()\n",
    "param_grid = {'n_estimators': range(5, 15), 'n_estimators': range(35, 40)}\n",
    "\n",
    "grid_rfr =  GridSearchCV(model_rfr, param_grid, scoring='neg_mean_squared_error', cv=cv)\n",
    "grid_rfr.fit(features_train, target_train)\n",
    "\n",
    "grid_rfr.best_params_, (grid_rfr.best_score_*-1) ** 0.5"
   ]
  },
  {
   "cell_type": "code",
   "execution_count": 49,
   "metadata": {},
   "outputs": [
    {
     "name": "stdout",
     "output_type": "stream",
     "text": [
      "CPU times: user 19.4 s, sys: 49.5 ms, total: 19.4 s\n",
      "Wall time: 19.4 s\n"
     ]
    },
    {
     "data": {
      "text/plain": [
       "RandomForestRegressor(max_depth=13, n_estimators=39, random_state=12345)"
      ]
     },
     "execution_count": 49,
     "metadata": {},
     "output_type": "execute_result"
    }
   ],
   "source": [
    "%%time\n",
    "\n",
    "model_rfr = RandomForestRegressor(max_depth=13, n_estimators=39, random_state=12345)\n",
    "model_rfr.fit(features_train, target_train)"
   ]
  },
  {
   "cell_type": "code",
   "execution_count": 50,
   "metadata": {},
   "outputs": [
    {
     "name": "stdout",
     "output_type": "stream",
     "text": [
      "CPU times: user 1.03 s, sys: 8.03 ms, total: 1.03 s\n",
      "Wall time: 1.04 s\n"
     ]
    },
    {
     "data": {
      "text/plain": [
       "1246.5184291287248"
      ]
     },
     "execution_count": 50,
     "metadata": {},
     "output_type": "execute_result"
    }
   ],
   "source": [
    "%%time\n",
    "\n",
    "predicted_rfr_train = model_rfr.predict(features_train)\n",
    "rmse_rfr_train = mse(target_train, predicted_rfr_train)**0.5\n",
    "rmse_rfr_train"
   ]
  },
  {
   "cell_type": "markdown",
   "metadata": {},
   "source": [
    "## Анализ моделей"
   ]
  },
  {
   "cell_type": "markdown",
   "metadata": {},
   "source": [
    "Сведем данные по критериям заказчика"
   ]
  },
  {
   "cell_type": "code",
   "execution_count": 54,
   "metadata": {
    "scrolled": true
   },
   "outputs": [
    {
     "data": {
      "text/html": [
       "<div>\n",
       "<style scoped>\n",
       "    .dataframe tbody tr th:only-of-type {\n",
       "        vertical-align: middle;\n",
       "    }\n",
       "\n",
       "    .dataframe tbody tr th {\n",
       "        vertical-align: top;\n",
       "    }\n",
       "\n",
       "    .dataframe thead th {\n",
       "        text-align: right;\n",
       "    }\n",
       "</style>\n",
       "<table border=\"1\" class=\"dataframe\">\n",
       "  <thead>\n",
       "    <tr style=\"text-align: right;\">\n",
       "      <th></th>\n",
       "      <th>time_fit</th>\n",
       "      <th>time_predict</th>\n",
       "      <th>rmse_train</th>\n",
       "    </tr>\n",
       "  </thead>\n",
       "  <tbody>\n",
       "    <tr>\n",
       "      <th>DecisionTreeRegressor</th>\n",
       "      <td>763 ms</td>\n",
       "      <td>38.1 ms</td>\n",
       "      <td>1331.065535</td>\n",
       "    </tr>\n",
       "    <tr>\n",
       "      <th>LGBMRegressor</th>\n",
       "      <td>50.7 s</td>\n",
       "      <td>892 ms</td>\n",
       "      <td>1385.224348</td>\n",
       "    </tr>\n",
       "    <tr>\n",
       "      <th>RandomForestRegressor</th>\n",
       "      <td>19.4 s</td>\n",
       "      <td>1.04 s</td>\n",
       "      <td>1246.518429</td>\n",
       "    </tr>\n",
       "  </tbody>\n",
       "</table>\n",
       "</div>"
      ],
      "text/plain": [
       "                      time_fit time_predict   rmse_train\n",
       "DecisionTreeRegressor   763 ms      38.1 ms  1331.065535\n",
       "LGBMRegressor           50.7 s       892 ms  1385.224348\n",
       "RandomForestRegressor   19.4 s       1.04 s  1246.518429"
      ]
     },
     "execution_count": 54,
     "metadata": {},
     "output_type": "execute_result"
    }
   ],
   "source": [
    "score = {}\n",
    "score['DecisionTreeRegressor'] = ['763 ms', '38.1 ms', rmse_dtr_train]\n",
    "score['LGBMRegressor'] = ['50.7 s', '892 ms', rmse_lgbm_train]\n",
    "score['RandomForestRegressor'] = ['19.4 s', '1.04 s', rmse_rfr_train]\n",
    "\n",
    "df_score = pd.DataFrame.from_dict(data=score, columns=['time_fit', 'time_predict', 'rmse_train'], orient='index')\n",
    "df_score"
   ]
  },
  {
   "cell_type": "markdown",
   "metadata": {},
   "source": [
    "По условию, значение метрики RMSE должно быть меньше 2500. Все наши модели удовлетворяют данный критерий. Для заказчика, так же, важны время обучения и время предсказания модели. Лучший показатель rmse (1246.5) у RandomForestRegressor, но лучшее время выполнения у DecisionTreeRegressor. Все будет зависить от весов показалей заказчика. Если скорость критически важна - рекомендуемая модель DecisionTreeRegressor."
   ]
  },
  {
   "cell_type": "markdown",
   "metadata": {},
   "source": [
    "Проведем тетсирование на тестовых данных модели DecisionTreeRegressor"
   ]
  },
  {
   "cell_type": "code",
   "execution_count": 52,
   "metadata": {},
   "outputs": [
    {
     "name": "stdout",
     "output_type": "stream",
     "text": [
      "CPU times: user 233 ms, sys: 95 µs, total: 233 ms\n",
      "Wall time: 243 ms\n"
     ]
    },
    {
     "data": {
      "text/plain": [
       "DecisionTreeRegressor(max_depth=13, random_state=12345)"
      ]
     },
     "execution_count": 52,
     "metadata": {},
     "output_type": "execute_result"
    }
   ],
   "source": [
    "%%time\n",
    "\n",
    "model_dtr = DecisionTreeRegressor(max_depth=13, random_state=12345)\n",
    "model_dtr.fit(features_test, target_test)"
   ]
  },
  {
   "cell_type": "code",
   "execution_count": 53,
   "metadata": {},
   "outputs": [
    {
     "name": "stdout",
     "output_type": "stream",
     "text": [
      "CPU times: user 16.7 ms, sys: 6 µs, total: 16.7 ms\n",
      "Wall time: 14.4 ms\n"
     ]
    },
    {
     "data": {
      "text/plain": [
       "1237.5286483673742"
      ]
     },
     "execution_count": 53,
     "metadata": {},
     "output_type": "execute_result"
    }
   ],
   "source": [
    "%%time\n",
    "\n",
    "predicted_dtr_test = model_dtr.predict(features_test)\n",
    "rmse_dtr_test = mse(target_test, predicted_dtr_test)**0.5\n",
    "rmse_dtr_test"
   ]
  },
  {
   "cell_type": "markdown",
   "metadata": {},
   "source": [
    "## Вывод"
   ]
  },
  {
   "cell_type": "markdown",
   "metadata": {},
   "source": [
    "- Подготовили данные:\n",
    "    - Обработаны пропуски\n",
    "    - Удалили неинформативные признаки\n",
    "    - Избались от дубликотов\n",
    "    - Разбили категориальные признаки на группы и преобразовали их в численные\n",
    "    - Подготовили выборки для обучения моделей.\n",
    "    \n",
    "- Обучили разные модели\n",
    "    - Для каждой модели подобрали лучшие значения гиперпараметров.\n",
    "- Проанализировали:\n",
    "    - время обучения, \n",
    "    - время предсказания,\n",
    "    - качество моделей. \n",
    "- В качестве лучшей модели предложена DecisionTreeRegressor. Время обучения 763 ms, время предсказания 38.1 ms, rmse на train 1331.1, на test 1237.5"
   ]
  }
 ],
 "metadata": {
  "ExecuteTimeLog": [
   {
    "duration": 1202,
    "start_time": "2022-12-05T11:11:24.746Z"
   },
   {
    "duration": 2971,
    "start_time": "2022-12-05T11:11:25.951Z"
   },
   {
    "duration": 23,
    "start_time": "2022-12-05T11:11:43.554Z"
   },
   {
    "duration": 156,
    "start_time": "2022-12-05T11:12:06.418Z"
   },
   {
    "duration": 92,
    "start_time": "2022-12-05T11:12:35.933Z"
   },
   {
    "duration": 432,
    "start_time": "2022-12-05T11:12:41.318Z"
   },
   {
    "duration": 485,
    "start_time": "2022-12-05T11:12:53.287Z"
   },
   {
    "duration": 32,
    "start_time": "2022-12-05T11:22:37.662Z"
   },
   {
    "duration": 70,
    "start_time": "2022-12-05T11:23:49.740Z"
   },
   {
    "duration": 73,
    "start_time": "2022-12-05T11:26:32.097Z"
   },
   {
    "duration": 157,
    "start_time": "2022-12-05T11:29:51.072Z"
   },
   {
    "duration": 160,
    "start_time": "2022-12-05T11:30:09.750Z"
   },
   {
    "duration": 1170,
    "start_time": "2022-12-05T11:37:36.154Z"
   },
   {
    "duration": 803,
    "start_time": "2022-12-05T11:37:37.326Z"
   },
   {
    "duration": 87,
    "start_time": "2022-12-05T11:37:38.130Z"
   },
   {
    "duration": 113,
    "start_time": "2022-12-05T11:37:38.219Z"
   },
   {
    "duration": 117,
    "start_time": "2022-12-05T11:37:38.334Z"
   },
   {
    "duration": 478,
    "start_time": "2022-12-05T11:37:38.453Z"
   },
   {
    "duration": 471,
    "start_time": "2022-12-05T11:37:38.932Z"
   },
   {
    "duration": 34,
    "start_time": "2022-12-05T11:37:39.405Z"
   },
   {
    "duration": 74,
    "start_time": "2022-12-05T11:37:39.440Z"
   },
   {
    "duration": 42,
    "start_time": "2022-12-05T11:37:39.517Z"
   },
   {
    "duration": 153,
    "start_time": "2022-12-05T11:37:39.561Z"
   },
   {
    "duration": 97,
    "start_time": "2022-12-05T11:52:58.246Z"
   },
   {
    "duration": 322,
    "start_time": "2022-12-05T11:53:07.171Z"
   },
   {
    "duration": 21,
    "start_time": "2022-12-05T11:53:11.738Z"
   },
   {
    "duration": 10,
    "start_time": "2022-12-05T11:53:18.122Z"
   },
   {
    "duration": 160,
    "start_time": "2022-12-05T11:54:50.772Z"
   },
   {
    "duration": 132,
    "start_time": "2022-12-05T11:55:16.426Z"
   },
   {
    "duration": 121,
    "start_time": "2022-12-05T11:55:49.927Z"
   },
   {
    "duration": 119,
    "start_time": "2022-12-05T11:55:59.723Z"
   },
   {
    "duration": 1536,
    "start_time": "2022-12-05T11:59:30.500Z"
   },
   {
    "duration": 9,
    "start_time": "2022-12-05T12:04:55.488Z"
   },
   {
    "duration": 11,
    "start_time": "2022-12-05T12:05:14.305Z"
   },
   {
    "duration": 1346,
    "start_time": "2022-12-05T12:06:37.354Z"
   },
   {
    "duration": 778,
    "start_time": "2022-12-05T12:06:38.702Z"
   },
   {
    "duration": 17,
    "start_time": "2022-12-05T12:06:39.482Z"
   },
   {
    "duration": 117,
    "start_time": "2022-12-05T12:06:39.501Z"
   },
   {
    "duration": 95,
    "start_time": "2022-12-05T12:06:39.621Z"
   },
   {
    "duration": 1513,
    "start_time": "2022-12-05T12:06:39.718Z"
   },
   {
    "duration": 150,
    "start_time": "2022-12-05T12:06:41.233Z"
   },
   {
    "duration": 55,
    "start_time": "2022-12-05T12:06:41.385Z"
   },
   {
    "duration": 115,
    "start_time": "2022-12-05T12:06:41.442Z"
   },
   {
    "duration": 420,
    "start_time": "2022-12-05T12:06:41.558Z"
   },
   {
    "duration": 458,
    "start_time": "2022-12-05T12:06:41.980Z"
   },
   {
    "duration": 30,
    "start_time": "2022-12-05T12:06:42.440Z"
   },
   {
    "duration": 108,
    "start_time": "2022-12-05T12:06:42.472Z"
   },
   {
    "duration": 48,
    "start_time": "2022-12-05T12:06:42.582Z"
   },
   {
    "duration": 186,
    "start_time": "2022-12-05T12:06:42.633Z"
   },
   {
    "duration": 7,
    "start_time": "2022-12-05T12:10:49.584Z"
   },
   {
    "duration": 107,
    "start_time": "2022-12-05T12:11:17.948Z"
   },
   {
    "duration": 8,
    "start_time": "2022-12-05T12:11:41.580Z"
   },
   {
    "duration": 47,
    "start_time": "2022-12-05T12:13:01.433Z"
   },
   {
    "duration": 72,
    "start_time": "2022-12-05T12:13:01.715Z"
   },
   {
    "duration": 487,
    "start_time": "2022-12-05T12:15:37.470Z"
   },
   {
    "duration": 1357,
    "start_time": "2022-12-05T12:19:21.859Z"
   },
   {
    "duration": 785,
    "start_time": "2022-12-05T12:19:23.219Z"
   },
   {
    "duration": 17,
    "start_time": "2022-12-05T12:19:24.006Z"
   },
   {
    "duration": 110,
    "start_time": "2022-12-05T12:19:24.026Z"
   },
   {
    "duration": 123,
    "start_time": "2022-12-05T12:19:24.137Z"
   },
   {
    "duration": 470,
    "start_time": "2022-12-05T12:19:24.262Z"
   },
   {
    "duration": 460,
    "start_time": "2022-12-05T12:19:24.734Z"
   },
   {
    "duration": 105,
    "start_time": "2022-12-05T12:19:25.196Z"
   },
   {
    "duration": 0,
    "start_time": "2022-12-05T12:19:25.303Z"
   },
   {
    "duration": 0,
    "start_time": "2022-12-05T12:19:25.304Z"
   },
   {
    "duration": 0,
    "start_time": "2022-12-05T12:19:25.305Z"
   },
   {
    "duration": 0,
    "start_time": "2022-12-05T12:19:25.312Z"
   },
   {
    "duration": 0,
    "start_time": "2022-12-05T12:19:25.313Z"
   },
   {
    "duration": 495,
    "start_time": "2022-12-05T12:20:12.963Z"
   },
   {
    "duration": 9,
    "start_time": "2022-12-05T12:20:14.558Z"
   },
   {
    "duration": 34,
    "start_time": "2022-12-05T12:20:26.574Z"
   },
   {
    "duration": 13,
    "start_time": "2022-12-05T12:20:29.848Z"
   },
   {
    "duration": 26,
    "start_time": "2022-12-05T12:22:23.955Z"
   },
   {
    "duration": 18,
    "start_time": "2022-12-05T12:22:34.254Z"
   },
   {
    "duration": 1523,
    "start_time": "2022-12-05T12:22:50.944Z"
   },
   {
    "duration": 832,
    "start_time": "2022-12-05T12:22:52.470Z"
   },
   {
    "duration": 18,
    "start_time": "2022-12-05T12:22:53.303Z"
   },
   {
    "duration": 139,
    "start_time": "2022-12-05T12:22:53.324Z"
   },
   {
    "duration": 113,
    "start_time": "2022-12-05T12:22:53.465Z"
   },
   {
    "duration": 493,
    "start_time": "2022-12-05T12:22:53.581Z"
   },
   {
    "duration": 496,
    "start_time": "2022-12-05T12:22:54.076Z"
   },
   {
    "duration": 40,
    "start_time": "2022-12-05T12:22:54.573Z"
   },
   {
    "duration": 167,
    "start_time": "2022-12-05T12:22:54.615Z"
   },
   {
    "duration": 0,
    "start_time": "2022-12-05T12:22:54.784Z"
   },
   {
    "duration": 0,
    "start_time": "2022-12-05T12:22:54.786Z"
   },
   {
    "duration": 0,
    "start_time": "2022-12-05T12:22:54.787Z"
   },
   {
    "duration": 0,
    "start_time": "2022-12-05T12:22:54.788Z"
   },
   {
    "duration": 68,
    "start_time": "2022-12-05T12:23:05.299Z"
   },
   {
    "duration": 188,
    "start_time": "2022-12-05T12:24:11.551Z"
   },
   {
    "duration": 151,
    "start_time": "2022-12-05T12:24:25.939Z"
   },
   {
    "duration": 1405,
    "start_time": "2022-12-05T12:24:54.920Z"
   },
   {
    "duration": 802,
    "start_time": "2022-12-05T12:24:56.327Z"
   },
   {
    "duration": 17,
    "start_time": "2022-12-05T12:24:57.131Z"
   },
   {
    "duration": 122,
    "start_time": "2022-12-05T12:24:57.151Z"
   },
   {
    "duration": 103,
    "start_time": "2022-12-05T12:24:57.274Z"
   },
   {
    "duration": 463,
    "start_time": "2022-12-05T12:24:57.379Z"
   },
   {
    "duration": 478,
    "start_time": "2022-12-05T12:24:57.844Z"
   },
   {
    "duration": 108,
    "start_time": "2022-12-05T12:24:58.324Z"
   },
   {
    "duration": 0,
    "start_time": "2022-12-05T12:24:58.434Z"
   },
   {
    "duration": 0,
    "start_time": "2022-12-05T12:24:58.435Z"
   },
   {
    "duration": 0,
    "start_time": "2022-12-05T12:24:58.436Z"
   },
   {
    "duration": 0,
    "start_time": "2022-12-05T12:24:58.439Z"
   },
   {
    "duration": 0,
    "start_time": "2022-12-05T12:24:58.441Z"
   },
   {
    "duration": 3,
    "start_time": "2022-12-05T12:25:11.639Z"
   },
   {
    "duration": 1514,
    "start_time": "2022-12-05T12:25:44.808Z"
   },
   {
    "duration": 835,
    "start_time": "2022-12-05T12:25:46.324Z"
   },
   {
    "duration": 18,
    "start_time": "2022-12-05T12:25:47.161Z"
   },
   {
    "duration": 119,
    "start_time": "2022-12-05T12:25:47.181Z"
   },
   {
    "duration": 147,
    "start_time": "2022-12-05T12:25:47.312Z"
   },
   {
    "duration": 456,
    "start_time": "2022-12-05T12:25:47.461Z"
   },
   {
    "duration": 479,
    "start_time": "2022-12-05T12:25:47.919Z"
   },
   {
    "duration": 3,
    "start_time": "2022-12-05T12:25:48.400Z"
   },
   {
    "duration": 119,
    "start_time": "2022-12-05T12:25:48.405Z"
   },
   {
    "duration": 0,
    "start_time": "2022-12-05T12:25:48.526Z"
   },
   {
    "duration": 0,
    "start_time": "2022-12-05T12:25:48.527Z"
   },
   {
    "duration": 0,
    "start_time": "2022-12-05T12:25:48.530Z"
   },
   {
    "duration": 0,
    "start_time": "2022-12-05T12:25:48.532Z"
   },
   {
    "duration": 0,
    "start_time": "2022-12-05T12:25:48.534Z"
   },
   {
    "duration": 489,
    "start_time": "2022-12-05T12:25:59.433Z"
   },
   {
    "duration": 35,
    "start_time": "2022-12-05T12:26:03.958Z"
   },
   {
    "duration": 65,
    "start_time": "2022-12-05T12:26:09.645Z"
   },
   {
    "duration": 44,
    "start_time": "2022-12-05T12:26:15.650Z"
   },
   {
    "duration": 12,
    "start_time": "2022-12-05T12:26:23.343Z"
   },
   {
    "duration": 177,
    "start_time": "2022-12-05T12:26:28.356Z"
   },
   {
    "duration": 530,
    "start_time": "2022-12-05T12:26:35.356Z"
   },
   {
    "duration": 3132,
    "start_time": "2022-12-05T12:26:40.693Z"
   },
   {
    "duration": 223681,
    "start_time": "2022-12-05T12:31:27.988Z"
   },
   {
    "duration": 834,
    "start_time": "2022-12-05T12:40:11.510Z"
   },
   {
    "duration": 203,
    "start_time": "2022-12-05T12:42:54.983Z"
   },
   {
    "duration": 325,
    "start_time": "2022-12-05T12:43:50.478Z"
   },
   {
    "duration": 309,
    "start_time": "2022-12-05T12:45:15.762Z"
   },
   {
    "duration": 16,
    "start_time": "2022-12-05T12:47:30.654Z"
   },
   {
    "duration": 13,
    "start_time": "2022-12-05T12:47:46.709Z"
   },
   {
    "duration": 17,
    "start_time": "2022-12-05T12:49:40.435Z"
   },
   {
    "duration": 1399,
    "start_time": "2022-12-05T12:50:20.812Z"
   },
   {
    "duration": 787,
    "start_time": "2022-12-05T12:50:22.213Z"
   },
   {
    "duration": 17,
    "start_time": "2022-12-05T12:50:23.002Z"
   },
   {
    "duration": 114,
    "start_time": "2022-12-05T12:50:23.021Z"
   },
   {
    "duration": 102,
    "start_time": "2022-12-05T12:50:23.137Z"
   },
   {
    "duration": 448,
    "start_time": "2022-12-05T12:50:23.241Z"
   },
   {
    "duration": 463,
    "start_time": "2022-12-05T12:50:23.691Z"
   },
   {
    "duration": 34,
    "start_time": "2022-12-05T12:50:24.155Z"
   },
   {
    "duration": 76,
    "start_time": "2022-12-05T12:50:24.191Z"
   },
   {
    "duration": 50,
    "start_time": "2022-12-05T12:50:24.269Z"
   },
   {
    "duration": 142,
    "start_time": "2022-12-05T12:50:24.321Z"
   },
   {
    "duration": 640,
    "start_time": "2022-12-05T12:50:24.465Z"
   },
   {
    "duration": 987,
    "start_time": "2022-12-05T12:50:25.106Z"
   },
   {
    "duration": 204,
    "start_time": "2022-12-05T12:50:26.095Z"
   },
   {
    "duration": 319,
    "start_time": "2022-12-05T12:50:26.300Z"
   },
   {
    "duration": 1780,
    "start_time": "2022-12-05T12:50:26.621Z"
   },
   {
    "duration": 4,
    "start_time": "2022-12-05T12:52:26.732Z"
   },
   {
    "duration": 45,
    "start_time": "2022-12-06T07:04:03.744Z"
   },
   {
    "duration": 1602,
    "start_time": "2022-12-06T07:04:20.279Z"
   },
   {
    "duration": 2900,
    "start_time": "2022-12-06T07:04:23.919Z"
   },
   {
    "duration": 17,
    "start_time": "2022-12-06T07:04:26.821Z"
   },
   {
    "duration": 131,
    "start_time": "2022-12-06T07:04:26.840Z"
   },
   {
    "duration": 92,
    "start_time": "2022-12-06T07:04:26.973Z"
   },
   {
    "duration": 482,
    "start_time": "2022-12-06T07:04:27.067Z"
   },
   {
    "duration": 451,
    "start_time": "2022-12-06T07:04:27.551Z"
   },
   {
    "duration": 34,
    "start_time": "2022-12-06T07:04:28.004Z"
   },
   {
    "duration": 81,
    "start_time": "2022-12-06T07:04:28.040Z"
   },
   {
    "duration": 51,
    "start_time": "2022-12-06T07:04:28.122Z"
   },
   {
    "duration": 186,
    "start_time": "2022-12-06T07:04:28.176Z"
   },
   {
    "duration": 682,
    "start_time": "2022-12-06T07:04:28.363Z"
   },
   {
    "duration": 743,
    "start_time": "2022-12-06T07:04:29.047Z"
   },
   {
    "duration": 200,
    "start_time": "2022-12-06T07:04:29.791Z"
   },
   {
    "duration": 319,
    "start_time": "2022-12-06T07:04:29.993Z"
   },
   {
    "duration": 1754,
    "start_time": "2022-12-06T07:04:30.313Z"
   },
   {
    "duration": 73,
    "start_time": "2022-12-06T07:04:51.791Z"
   },
   {
    "duration": 9,
    "start_time": "2022-12-06T07:07:22.469Z"
   },
   {
    "duration": 4,
    "start_time": "2022-12-06T07:08:16.398Z"
   },
   {
    "duration": 3,
    "start_time": "2022-12-06T07:08:20.605Z"
   },
   {
    "duration": 11,
    "start_time": "2022-12-06T07:10:55.769Z"
   },
   {
    "duration": 34,
    "start_time": "2022-12-06T07:16:09.363Z"
   },
   {
    "duration": 389548,
    "start_time": "2022-12-06T07:16:22.821Z"
   },
   {
    "duration": 382911,
    "start_time": "2022-12-06T07:26:16.709Z"
   },
   {
    "duration": 382558,
    "start_time": "2022-12-06T07:34:51.613Z"
   },
   {
    "duration": 1270,
    "start_time": "2022-12-06T07:41:35.280Z"
   },
   {
    "duration": 3,
    "start_time": "2022-12-06T07:42:31.486Z"
   },
   {
    "duration": 1245,
    "start_time": "2022-12-06T07:42:34.352Z"
   },
   {
    "duration": 1401,
    "start_time": "2022-12-06T07:43:23.360Z"
   },
   {
    "duration": 1231,
    "start_time": "2022-12-06T07:43:57.275Z"
   },
   {
    "duration": 2379075,
    "start_time": "2022-12-06T07:47:56.128Z"
   },
   {
    "duration": 9,
    "start_time": "2022-12-06T08:27:35.205Z"
   },
   {
    "duration": 1363,
    "start_time": "2022-12-06T08:27:48.154Z"
   },
   {
    "duration": 768,
    "start_time": "2022-12-06T08:27:49.518Z"
   },
   {
    "duration": 24,
    "start_time": "2022-12-06T08:27:50.288Z"
   },
   {
    "duration": 132,
    "start_time": "2022-12-06T08:27:50.313Z"
   },
   {
    "duration": 98,
    "start_time": "2022-12-06T08:27:50.446Z"
   },
   {
    "duration": 440,
    "start_time": "2022-12-06T08:27:50.545Z"
   },
   {
    "duration": 452,
    "start_time": "2022-12-06T08:27:50.987Z"
   },
   {
    "duration": 33,
    "start_time": "2022-12-06T08:27:51.441Z"
   },
   {
    "duration": 90,
    "start_time": "2022-12-06T08:27:51.477Z"
   },
   {
    "duration": 60,
    "start_time": "2022-12-06T08:27:51.569Z"
   },
   {
    "duration": 168,
    "start_time": "2022-12-06T08:27:51.630Z"
   },
   {
    "duration": 629,
    "start_time": "2022-12-06T08:27:51.800Z"
   },
   {
    "duration": 750,
    "start_time": "2022-12-06T08:27:52.431Z"
   },
   {
    "duration": 203,
    "start_time": "2022-12-06T08:27:53.183Z"
   },
   {
    "duration": 316,
    "start_time": "2022-12-06T08:27:53.388Z"
   },
   {
    "duration": 1704,
    "start_time": "2022-12-06T08:27:53.706Z"
   },
   {
    "duration": 3,
    "start_time": "2022-12-06T08:27:55.411Z"
   },
   {
    "duration": 119,
    "start_time": "2022-12-06T08:27:55.416Z"
   },
   {
    "duration": 0,
    "start_time": "2022-12-06T08:27:55.537Z"
   },
   {
    "duration": 0,
    "start_time": "2022-12-06T08:27:55.538Z"
   },
   {
    "duration": 0,
    "start_time": "2022-12-06T08:27:55.539Z"
   },
   {
    "duration": 0,
    "start_time": "2022-12-06T08:27:55.539Z"
   },
   {
    "duration": 0,
    "start_time": "2022-12-06T08:27:55.541Z"
   },
   {
    "duration": 0,
    "start_time": "2022-12-06T08:27:55.541Z"
   },
   {
    "duration": 0,
    "start_time": "2022-12-06T08:27:55.543Z"
   },
   {
    "duration": 0,
    "start_time": "2022-12-06T08:27:55.544Z"
   },
   {
    "duration": 0,
    "start_time": "2022-12-06T08:27:55.545Z"
   },
   {
    "duration": 112427,
    "start_time": "2022-12-06T08:28:28.209Z"
   },
   {
    "duration": 795,
    "start_time": "2022-12-06T08:30:48.906Z"
   },
   {
    "duration": 411,
    "start_time": "2022-12-06T08:30:52.154Z"
   },
   {
    "duration": 11,
    "start_time": "2022-12-06T08:31:01.291Z"
   },
   {
    "duration": 1156734,
    "start_time": "2022-12-06T08:31:10.979Z"
   },
   {
    "duration": 1265,
    "start_time": "2022-12-06T08:50:27.715Z"
   },
   {
    "duration": 39,
    "start_time": "2022-12-06T08:50:42.863Z"
   },
   {
    "duration": 5238,
    "start_time": "2022-12-06T08:50:52.680Z"
   },
   {
    "duration": 442,
    "start_time": "2022-12-06T08:50:59.654Z"
   },
   {
    "duration": 3268,
    "start_time": "2022-12-06T08:51:39.941Z"
   },
   {
    "duration": 3753,
    "start_time": "2022-12-06T08:51:55.654Z"
   },
   {
    "duration": 7016,
    "start_time": "2022-12-06T08:53:48.101Z"
   },
   {
    "duration": 5561,
    "start_time": "2022-12-06T08:55:56.244Z"
   },
   {
    "duration": 7345,
    "start_time": "2022-12-06T08:57:03.065Z"
   },
   {
    "duration": 6886,
    "start_time": "2022-12-06T08:57:55.625Z"
   },
   {
    "duration": 528,
    "start_time": "2022-12-06T08:58:38.996Z"
   },
   {
    "duration": 1172,
    "start_time": "2022-12-06T08:59:51.569Z"
   },
   {
    "duration": 149,
    "start_time": "2022-12-06T08:59:53.904Z"
   },
   {
    "duration": 3183581,
    "start_time": "2022-12-06T09:01:02.921Z"
   },
   {
    "duration": 174133,
    "start_time": "2022-12-06T09:54:09.057Z"
   },
   {
    "duration": 667,
    "start_time": "2022-12-06T09:57:14.703Z"
   },
   {
    "duration": 10,
    "start_time": "2022-12-06T09:59:36.030Z"
   },
   {
    "duration": 10,
    "start_time": "2022-12-06T10:01:30.822Z"
   },
   {
    "duration": 11,
    "start_time": "2022-12-06T10:03:16.986Z"
   },
   {
    "duration": 1423,
    "start_time": "2022-12-06T10:03:49.117Z"
   },
   {
    "duration": 851,
    "start_time": "2022-12-06T10:03:50.542Z"
   },
   {
    "duration": 21,
    "start_time": "2022-12-06T10:03:51.395Z"
   },
   {
    "duration": 132,
    "start_time": "2022-12-06T10:03:51.418Z"
   },
   {
    "duration": 89,
    "start_time": "2022-12-06T10:03:51.552Z"
   },
   {
    "duration": 452,
    "start_time": "2022-12-06T10:03:51.642Z"
   },
   {
    "duration": 489,
    "start_time": "2022-12-06T10:03:52.096Z"
   },
   {
    "duration": 40,
    "start_time": "2022-12-06T10:03:52.586Z"
   },
   {
    "duration": 90,
    "start_time": "2022-12-06T10:03:52.629Z"
   },
   {
    "duration": 61,
    "start_time": "2022-12-06T10:03:52.722Z"
   },
   {
    "duration": 193,
    "start_time": "2022-12-06T10:03:52.785Z"
   },
   {
    "duration": 612,
    "start_time": "2022-12-06T10:03:52.979Z"
   },
   {
    "duration": 787,
    "start_time": "2022-12-06T10:03:53.593Z"
   },
   {
    "duration": 200,
    "start_time": "2022-12-06T10:03:54.381Z"
   },
   {
    "duration": 325,
    "start_time": "2022-12-06T10:03:54.582Z"
   },
   {
    "duration": 1700,
    "start_time": "2022-12-06T10:03:54.910Z"
   },
   {
    "duration": 3,
    "start_time": "2022-12-06T10:03:56.612Z"
   },
   {
    "duration": 112413,
    "start_time": "2022-12-06T10:03:56.616Z"
   },
   {
    "duration": 1276,
    "start_time": "2022-12-06T10:05:49.031Z"
   },
   {
    "duration": 168,
    "start_time": "2022-12-06T10:05:50.309Z"
   },
   {
    "duration": 1368635,
    "start_time": "2022-12-06T10:05:50.479Z"
   },
   {
    "duration": 6808,
    "start_time": "2022-12-06T10:28:39.115Z"
   },
   {
    "duration": 596,
    "start_time": "2022-12-06T10:28:45.925Z"
   },
   {
    "duration": 3809346,
    "start_time": "2022-12-06T10:28:46.523Z"
   },
   {
    "duration": 0,
    "start_time": "2022-12-06T11:32:15.871Z"
   },
   {
    "duration": 0,
    "start_time": "2022-12-06T11:32:15.872Z"
   },
   {
    "duration": 0,
    "start_time": "2022-12-06T11:32:15.873Z"
   },
   {
    "duration": 171377,
    "start_time": "2022-12-06T11:32:48.078Z"
   },
   {
    "duration": 634,
    "start_time": "2022-12-06T11:35:39.457Z"
   },
   {
    "duration": 13,
    "start_time": "2022-12-06T11:35:40.093Z"
   },
   {
    "duration": 2393,
    "start_time": "2022-12-07T07:20:00.141Z"
   },
   {
    "duration": 1133,
    "start_time": "2022-12-07T07:20:02.537Z"
   },
   {
    "duration": 18,
    "start_time": "2022-12-07T07:20:03.672Z"
   },
   {
    "duration": 129,
    "start_time": "2022-12-07T07:20:03.692Z"
   },
   {
    "duration": 117,
    "start_time": "2022-12-07T07:20:03.825Z"
   },
   {
    "duration": 480,
    "start_time": "2022-12-07T07:20:03.944Z"
   },
   {
    "duration": 576,
    "start_time": "2022-12-07T07:20:04.426Z"
   },
   {
    "duration": 45,
    "start_time": "2022-12-07T07:20:05.004Z"
   },
   {
    "duration": 89,
    "start_time": "2022-12-07T07:20:05.051Z"
   },
   {
    "duration": 66,
    "start_time": "2022-12-07T07:20:05.142Z"
   },
   {
    "duration": 169,
    "start_time": "2022-12-07T07:20:05.210Z"
   },
   {
    "duration": 666,
    "start_time": "2022-12-07T07:20:05.381Z"
   },
   {
    "duration": 923,
    "start_time": "2022-12-07T07:20:06.049Z"
   },
   {
    "duration": 217,
    "start_time": "2022-12-07T07:20:06.975Z"
   },
   {
    "duration": 418,
    "start_time": "2022-12-07T07:20:07.194Z"
   },
   {
    "duration": 14,
    "start_time": "2022-12-07T07:20:07.614Z"
   },
   {
    "duration": 14,
    "start_time": "2022-12-07T07:20:27.795Z"
   },
   {
    "duration": 1695,
    "start_time": "2022-12-08T08:42:34.672Z"
   },
   {
    "duration": 2942,
    "start_time": "2022-12-08T08:42:36.369Z"
   },
   {
    "duration": 16,
    "start_time": "2022-12-08T08:42:41.223Z"
   },
   {
    "duration": 104,
    "start_time": "2022-12-08T08:42:42.473Z"
   },
   {
    "duration": 878,
    "start_time": "2022-12-08T08:42:43.349Z"
   },
   {
    "duration": 103,
    "start_time": "2022-12-08T09:11:16.997Z"
   },
   {
    "duration": 8,
    "start_time": "2022-12-08T09:11:21.747Z"
   },
   {
    "duration": 379,
    "start_time": "2022-12-08T09:11:26.082Z"
   },
   {
    "duration": 11,
    "start_time": "2022-12-08T09:16:13.465Z"
   },
   {
    "duration": 10,
    "start_time": "2022-12-08T09:16:26.918Z"
   },
   {
    "duration": 152,
    "start_time": "2022-12-08T09:17:16.551Z"
   },
   {
    "duration": 132,
    "start_time": "2022-12-08T09:17:42.639Z"
   },
   {
    "duration": 214,
    "start_time": "2022-12-08T09:18:15.102Z"
   },
   {
    "duration": 129,
    "start_time": "2022-12-08T09:19:36.576Z"
   },
   {
    "duration": 5,
    "start_time": "2022-12-08T09:23:10.972Z"
   },
   {
    "duration": 4,
    "start_time": "2022-12-08T09:23:25.916Z"
   },
   {
    "duration": 770,
    "start_time": "2022-12-08T09:23:26.306Z"
   },
   {
    "duration": 13,
    "start_time": "2022-12-08T09:23:27.078Z"
   },
   {
    "duration": 119,
    "start_time": "2022-12-08T09:23:27.092Z"
   },
   {
    "duration": 827,
    "start_time": "2022-12-08T09:23:27.213Z"
   },
   {
    "duration": 435,
    "start_time": "2022-12-08T09:23:30.811Z"
   },
   {
    "duration": 437,
    "start_time": "2022-12-08T09:23:32.917Z"
   },
   {
    "duration": 6,
    "start_time": "2022-12-08T09:23:36.471Z"
   },
   {
    "duration": 4,
    "start_time": "2022-12-08T09:25:23.412Z"
   },
   {
    "duration": 4,
    "start_time": "2022-12-08T09:25:35.720Z"
   },
   {
    "duration": 9,
    "start_time": "2022-12-08T09:26:10.280Z"
   },
   {
    "duration": 113,
    "start_time": "2022-12-08T09:27:33.602Z"
   },
   {
    "duration": 147,
    "start_time": "2022-12-08T09:29:07.821Z"
   },
   {
    "duration": 9,
    "start_time": "2022-12-08T09:32:07.203Z"
   },
   {
    "duration": 8,
    "start_time": "2022-12-08T09:32:14.281Z"
   },
   {
    "duration": 8,
    "start_time": "2022-12-08T09:32:18.933Z"
   },
   {
    "duration": 9,
    "start_time": "2022-12-08T09:32:22.496Z"
   },
   {
    "duration": 9,
    "start_time": "2022-12-08T09:32:29.624Z"
   },
   {
    "duration": 8,
    "start_time": "2022-12-08T09:32:53.491Z"
   },
   {
    "duration": 9,
    "start_time": "2022-12-08T09:34:18.122Z"
   },
   {
    "duration": 40,
    "start_time": "2022-12-08T09:37:13.912Z"
   },
   {
    "duration": 10,
    "start_time": "2022-12-08T09:37:43.889Z"
   },
   {
    "duration": 9,
    "start_time": "2022-12-08T09:37:58.185Z"
   },
   {
    "duration": 64,
    "start_time": "2022-12-08T09:38:09.777Z"
   },
   {
    "duration": 11,
    "start_time": "2022-12-08T09:38:32.841Z"
   },
   {
    "duration": 105,
    "start_time": "2022-12-08T09:40:50.089Z"
   },
   {
    "duration": 142,
    "start_time": "2022-12-08T09:42:08.219Z"
   },
   {
    "duration": 10,
    "start_time": "2022-12-08T09:42:21.000Z"
   },
   {
    "duration": 10,
    "start_time": "2022-12-08T09:42:27.987Z"
   },
   {
    "duration": 10,
    "start_time": "2022-12-08T09:42:37.731Z"
   },
   {
    "duration": 9,
    "start_time": "2022-12-08T09:42:44.378Z"
   },
   {
    "duration": 9,
    "start_time": "2022-12-08T09:42:51.077Z"
   },
   {
    "duration": 11,
    "start_time": "2022-12-08T09:44:15.674Z"
   },
   {
    "duration": 48,
    "start_time": "2022-12-08T09:45:09.482Z"
   },
   {
    "duration": 109,
    "start_time": "2022-12-08T09:46:08.197Z"
   },
   {
    "duration": 5,
    "start_time": "2022-12-08T09:46:49.463Z"
   },
   {
    "duration": 781,
    "start_time": "2022-12-08T09:46:49.470Z"
   },
   {
    "duration": 13,
    "start_time": "2022-12-08T09:46:50.253Z"
   },
   {
    "duration": 119,
    "start_time": "2022-12-08T09:46:50.268Z"
   },
   {
    "duration": 839,
    "start_time": "2022-12-08T09:46:50.389Z"
   },
   {
    "duration": 437,
    "start_time": "2022-12-08T09:46:51.229Z"
   },
   {
    "duration": 528,
    "start_time": "2022-12-08T09:46:51.668Z"
   },
   {
    "duration": 7,
    "start_time": "2022-12-08T09:46:52.197Z"
   },
   {
    "duration": 54,
    "start_time": "2022-12-08T09:46:52.206Z"
   },
   {
    "duration": 68,
    "start_time": "2022-12-08T09:46:52.263Z"
   },
   {
    "duration": 48,
    "start_time": "2022-12-08T09:46:52.333Z"
   },
   {
    "duration": 167,
    "start_time": "2022-12-08T09:46:52.383Z"
   },
   {
    "duration": 658,
    "start_time": "2022-12-08T09:46:52.552Z"
   },
   {
    "duration": 142,
    "start_time": "2022-12-08T09:46:53.212Z"
   },
   {
    "duration": 187,
    "start_time": "2022-12-08T09:46:53.356Z"
   },
   {
    "duration": 8,
    "start_time": "2022-12-08T09:46:53.545Z"
   },
   {
    "duration": 32,
    "start_time": "2022-12-08T09:46:53.555Z"
   },
   {
    "duration": 30,
    "start_time": "2022-12-08T09:46:53.590Z"
   },
   {
    "duration": 100,
    "start_time": "2022-12-08T09:46:53.623Z"
   },
   {
    "duration": 111,
    "start_time": "2022-12-08T09:46:53.725Z"
   },
   {
    "duration": 237,
    "start_time": "2022-12-08T09:46:53.837Z"
   },
   {
    "duration": 7,
    "start_time": "2022-12-08T09:46:54.076Z"
   },
   {
    "duration": 15,
    "start_time": "2022-12-08T09:46:54.084Z"
   },
   {
    "duration": 48,
    "start_time": "2022-12-08T09:46:54.100Z"
   },
   {
    "duration": 115,
    "start_time": "2022-12-08T09:46:54.149Z"
   },
   {
    "duration": 124,
    "start_time": "2022-12-08T09:50:18.950Z"
   },
   {
    "duration": 120,
    "start_time": "2022-12-08T09:50:54.124Z"
   },
   {
    "duration": 10,
    "start_time": "2022-12-08T09:56:52.091Z"
   },
   {
    "duration": 7,
    "start_time": "2022-12-08T09:57:10.305Z"
   },
   {
    "duration": 8,
    "start_time": "2022-12-08T09:57:11.773Z"
   },
   {
    "duration": 3,
    "start_time": "2022-12-08T09:58:46.237Z"
   },
   {
    "duration": 687,
    "start_time": "2022-12-08T09:58:46.242Z"
   },
   {
    "duration": 12,
    "start_time": "2022-12-08T09:58:46.930Z"
   },
   {
    "duration": 111,
    "start_time": "2022-12-08T09:58:46.944Z"
   },
   {
    "duration": 743,
    "start_time": "2022-12-08T09:58:47.056Z"
   },
   {
    "duration": 364,
    "start_time": "2022-12-08T09:58:47.801Z"
   },
   {
    "duration": 389,
    "start_time": "2022-12-08T09:58:48.166Z"
   },
   {
    "duration": 6,
    "start_time": "2022-12-08T09:58:48.556Z"
   },
   {
    "duration": 24,
    "start_time": "2022-12-08T09:58:48.564Z"
   },
   {
    "duration": 78,
    "start_time": "2022-12-08T09:58:48.589Z"
   },
   {
    "duration": 35,
    "start_time": "2022-12-08T09:58:48.669Z"
   },
   {
    "duration": 148,
    "start_time": "2022-12-08T09:58:48.706Z"
   },
   {
    "duration": 607,
    "start_time": "2022-12-08T09:58:48.856Z"
   },
   {
    "duration": 128,
    "start_time": "2022-12-08T09:58:49.465Z"
   },
   {
    "duration": 143,
    "start_time": "2022-12-08T09:58:49.595Z"
   },
   {
    "duration": 7,
    "start_time": "2022-12-08T09:58:49.739Z"
   },
   {
    "duration": 7,
    "start_time": "2022-12-08T09:58:49.748Z"
   },
   {
    "duration": 6,
    "start_time": "2022-12-08T09:58:49.756Z"
   },
   {
    "duration": 70,
    "start_time": "2022-12-08T09:58:49.763Z"
   },
   {
    "duration": 98,
    "start_time": "2022-12-08T09:58:49.835Z"
   },
   {
    "duration": 141,
    "start_time": "2022-12-08T09:58:49.934Z"
   },
   {
    "duration": 8,
    "start_time": "2022-12-08T09:58:50.076Z"
   },
   {
    "duration": 15,
    "start_time": "2022-12-08T09:58:50.086Z"
   },
   {
    "duration": 40,
    "start_time": "2022-12-08T09:58:50.104Z"
   },
   {
    "duration": 121,
    "start_time": "2022-12-08T09:58:50.146Z"
   },
   {
    "duration": 115,
    "start_time": "2022-12-08T09:58:50.269Z"
   },
   {
    "duration": 225,
    "start_time": "2022-12-08T09:58:50.385Z"
   },
   {
    "duration": 10,
    "start_time": "2022-12-08T09:59:00.130Z"
   },
   {
    "duration": 21,
    "start_time": "2022-12-08T09:59:21.381Z"
   },
   {
    "duration": 98,
    "start_time": "2022-12-08T09:59:33.999Z"
   },
   {
    "duration": 10,
    "start_time": "2022-12-08T10:03:45.997Z"
   },
   {
    "duration": 4,
    "start_time": "2022-12-08T10:22:39.878Z"
   },
   {
    "duration": 4,
    "start_time": "2022-12-08T10:29:54.723Z"
   },
   {
    "duration": 4,
    "start_time": "2022-12-08T10:45:14.793Z"
   },
   {
    "duration": 3,
    "start_time": "2022-12-08T10:45:47.325Z"
   },
   {
    "duration": 12,
    "start_time": "2022-12-08T10:53:43.530Z"
   },
   {
    "duration": 52,
    "start_time": "2022-12-08T10:54:08.529Z"
   },
   {
    "duration": 16,
    "start_time": "2022-12-08T10:56:40.023Z"
   },
   {
    "duration": 4,
    "start_time": "2022-12-08T11:00:27.177Z"
   },
   {
    "duration": 16,
    "start_time": "2022-12-08T11:02:00.593Z"
   },
   {
    "duration": 692,
    "start_time": "2022-12-08T11:04:22.938Z"
   },
   {
    "duration": 21,
    "start_time": "2022-12-08T11:04:35.885Z"
   },
   {
    "duration": 5,
    "start_time": "2022-12-08T11:08:22.049Z"
   },
   {
    "duration": 3,
    "start_time": "2022-12-08T11:11:19.732Z"
   },
   {
    "duration": 2,
    "start_time": "2022-12-08T11:21:46.388Z"
   },
   {
    "duration": 5976,
    "start_time": "2022-12-08T11:22:57.556Z"
   },
   {
    "duration": 5893,
    "start_time": "2022-12-08T11:24:11.628Z"
   },
   {
    "duration": 90007,
    "start_time": "2022-12-08T11:31:19.173Z"
   },
   {
    "duration": 3,
    "start_time": "2022-12-08T11:40:07.662Z"
   },
   {
    "duration": 46,
    "start_time": "2022-12-08T11:47:47.440Z"
   },
   {
    "duration": 1383,
    "start_time": "2022-12-08T11:47:54.889Z"
   },
   {
    "duration": 723,
    "start_time": "2022-12-08T11:47:57.603Z"
   },
   {
    "duration": 15,
    "start_time": "2022-12-08T11:47:58.815Z"
   },
   {
    "duration": 113,
    "start_time": "2022-12-08T11:47:59.814Z"
   },
   {
    "duration": 841,
    "start_time": "2022-12-08T11:48:00.501Z"
   },
   {
    "duration": 416,
    "start_time": "2022-12-08T11:48:02.368Z"
   },
   {
    "duration": 450,
    "start_time": "2022-12-08T11:48:03.834Z"
   },
   {
    "duration": 6,
    "start_time": "2022-12-08T11:48:05.406Z"
   },
   {
    "duration": 34,
    "start_time": "2022-12-08T11:48:06.186Z"
   },
   {
    "duration": 63,
    "start_time": "2022-12-08T11:48:07.169Z"
   },
   {
    "duration": 47,
    "start_time": "2022-12-08T11:48:10.847Z"
   },
   {
    "duration": 158,
    "start_time": "2022-12-08T11:48:12.118Z"
   },
   {
    "duration": 592,
    "start_time": "2022-12-08T11:48:43.153Z"
   },
   {
    "duration": 141,
    "start_time": "2022-12-08T11:48:54.967Z"
   },
   {
    "duration": 138,
    "start_time": "2022-12-08T11:48:55.150Z"
   },
   {
    "duration": 8,
    "start_time": "2022-12-08T11:48:55.333Z"
   },
   {
    "duration": 11,
    "start_time": "2022-12-08T11:48:55.676Z"
   },
   {
    "duration": 7,
    "start_time": "2022-12-08T11:48:58.472Z"
   },
   {
    "duration": 49,
    "start_time": "2022-12-08T11:49:01.035Z"
   },
   {
    "duration": 166,
    "start_time": "2022-12-08T11:49:02.031Z"
   },
   {
    "duration": 125,
    "start_time": "2022-12-08T11:49:02.804Z"
   },
   {
    "duration": 7,
    "start_time": "2022-12-08T11:49:03.484Z"
   },
   {
    "duration": 9,
    "start_time": "2022-12-08T11:49:04.276Z"
   },
   {
    "duration": 32,
    "start_time": "2022-12-08T11:49:06.889Z"
   },
   {
    "duration": 102,
    "start_time": "2022-12-08T11:49:07.144Z"
   },
   {
    "duration": 103,
    "start_time": "2022-12-08T11:49:09.691Z"
   },
   {
    "duration": 116,
    "start_time": "2022-12-08T11:49:12.691Z"
   },
   {
    "duration": 23,
    "start_time": "2022-12-08T11:49:13.599Z"
   },
   {
    "duration": 93,
    "start_time": "2022-12-08T11:49:14.354Z"
   },
   {
    "duration": 1431,
    "start_time": "2022-12-08T11:50:33.256Z"
   },
   {
    "duration": 699,
    "start_time": "2022-12-08T11:50:36.019Z"
   },
   {
    "duration": 17,
    "start_time": "2022-12-08T11:50:36.720Z"
   },
   {
    "duration": 114,
    "start_time": "2022-12-08T11:50:36.739Z"
   },
   {
    "duration": 756,
    "start_time": "2022-12-08T11:50:36.855Z"
   },
   {
    "duration": 385,
    "start_time": "2022-12-08T11:50:38.497Z"
   },
   {
    "duration": 416,
    "start_time": "2022-12-08T11:50:39.964Z"
   },
   {
    "duration": 6,
    "start_time": "2022-12-08T11:50:41.888Z"
   },
   {
    "duration": 38,
    "start_time": "2022-12-08T11:50:43.121Z"
   },
   {
    "duration": 61,
    "start_time": "2022-12-08T11:50:47.480Z"
   },
   {
    "duration": 44,
    "start_time": "2022-12-08T11:50:49.704Z"
   },
   {
    "duration": 152,
    "start_time": "2022-12-08T11:50:51.217Z"
   },
   {
    "duration": 595,
    "start_time": "2022-12-08T11:50:52.577Z"
   },
   {
    "duration": 129,
    "start_time": "2022-12-08T11:50:55.784Z"
   },
   {
    "duration": 147,
    "start_time": "2022-12-08T11:51:04.171Z"
   },
   {
    "duration": 8,
    "start_time": "2022-12-08T11:51:07.256Z"
   },
   {
    "duration": 9,
    "start_time": "2022-12-08T11:51:26.111Z"
   },
   {
    "duration": 8,
    "start_time": "2022-12-08T11:51:29.255Z"
   },
   {
    "duration": 9,
    "start_time": "2022-12-08T11:51:33.061Z"
   },
   {
    "duration": 7,
    "start_time": "2022-12-08T11:51:34.721Z"
   },
   {
    "duration": 39,
    "start_time": "2022-12-08T11:51:49.466Z"
   },
   {
    "duration": 167,
    "start_time": "2022-12-08T11:51:50.846Z"
   },
   {
    "duration": 116,
    "start_time": "2022-12-08T11:51:56.544Z"
   },
   {
    "duration": 8,
    "start_time": "2022-12-08T11:51:59.491Z"
   },
   {
    "duration": 8,
    "start_time": "2022-12-08T11:51:59.976Z"
   },
   {
    "duration": 33,
    "start_time": "2022-12-08T11:52:15.952Z"
   },
   {
    "duration": 99,
    "start_time": "2022-12-08T11:52:16.578Z"
   },
   {
    "duration": 107,
    "start_time": "2022-12-08T11:52:22.804Z"
   },
   {
    "duration": 121,
    "start_time": "2022-12-08T11:52:25.420Z"
   },
   {
    "duration": 22,
    "start_time": "2022-12-08T11:52:41.957Z"
   },
   {
    "duration": 95,
    "start_time": "2022-12-08T11:52:44.145Z"
   },
   {
    "duration": 13,
    "start_time": "2022-12-08T11:52:58.080Z"
   },
   {
    "duration": 58,
    "start_time": "2022-12-08T11:52:59.103Z"
   },
   {
    "duration": 3,
    "start_time": "2022-12-08T11:53:00.089Z"
   },
   {
    "duration": 22,
    "start_time": "2022-12-08T11:53:07.306Z"
   },
   {
    "duration": 693,
    "start_time": "2022-12-08T11:53:09.048Z"
   },
   {
    "duration": 5,
    "start_time": "2022-12-08T11:53:11.743Z"
   },
   {
    "duration": 3,
    "start_time": "2022-12-08T11:53:25.544Z"
   },
   {
    "duration": 107,
    "start_time": "2022-12-08T11:53:39.267Z"
   },
   {
    "duration": 8,
    "start_time": "2022-12-08T11:53:59.839Z"
   },
   {
    "duration": 0,
    "start_time": "2022-12-08T12:11:16.965Z"
   },
   {
    "duration": 539102,
    "start_time": "2022-12-08T12:11:18.508Z"
   },
   {
    "duration": 0,
    "start_time": "2022-12-08T12:20:17.613Z"
   },
   {
    "duration": 0,
    "start_time": "2022-12-08T12:20:17.614Z"
   },
   {
    "duration": 22062,
    "start_time": "2022-12-08T12:20:20.050Z"
   },
   {
    "duration": 10,
    "start_time": "2022-12-08T12:32:04.132Z"
   },
   {
    "duration": 22027,
    "start_time": "2022-12-08T12:32:22.296Z"
   },
   {
    "duration": 178358,
    "start_time": "2022-12-08T12:33:36.087Z"
   },
   {
    "duration": 9,
    "start_time": "2022-12-08T12:38:10.985Z"
   },
   {
    "duration": 20,
    "start_time": "2022-12-08T12:41:41.613Z"
   },
   {
    "duration": 59,
    "start_time": "2022-12-08T12:41:58.552Z"
   },
   {
    "duration": 18,
    "start_time": "2022-12-08T12:43:54.846Z"
   },
   {
    "duration": 526,
    "start_time": "2022-12-08T12:43:55.990Z"
   },
   {
    "duration": 5,
    "start_time": "2022-12-08T12:43:56.518Z"
   },
   {
    "duration": 1881,
    "start_time": "2022-12-08T12:44:07.584Z"
   },
   {
    "duration": 15,
    "start_time": "2022-12-08T12:44:17.228Z"
   },
   {
    "duration": 9,
    "start_time": "2022-12-08T12:49:07.323Z"
   },
   {
    "duration": 661598,
    "start_time": "2022-12-08T12:55:44.549Z"
   },
   {
    "duration": 295814,
    "start_time": "2022-12-08T13:06:54.823Z"
   },
   {
    "duration": 48017,
    "start_time": "2022-12-08T13:15:24.326Z"
   },
   {
    "duration": 1015,
    "start_time": "2022-12-08T13:16:12.345Z"
   },
   {
    "duration": 751,
    "start_time": "2022-12-08T13:16:49.292Z"
   },
   {
    "duration": 133,
    "start_time": "2022-12-08T13:21:29.489Z"
   },
   {
    "duration": 260,
    "start_time": "2022-12-08T13:21:40.679Z"
   },
   {
    "duration": 113,
    "start_time": "2022-12-08T13:23:52.556Z"
   },
   {
    "duration": 9,
    "start_time": "2022-12-08T13:23:57.255Z"
   },
   {
    "duration": 742,
    "start_time": "2022-12-08T13:24:00.147Z"
   },
   {
    "duration": 39,
    "start_time": "2022-12-08T13:24:09.173Z"
   },
   {
    "duration": 337562,
    "start_time": "2022-12-08T13:29:53.580Z"
   },
   {
    "duration": 21221,
    "start_time": "2022-12-08T13:36:03.287Z"
   },
   {
    "duration": 1232,
    "start_time": "2022-12-08T13:36:24.510Z"
   },
   {
    "duration": 20250,
    "start_time": "2022-12-08T13:36:37.395Z"
   },
   {
    "duration": 1070,
    "start_time": "2022-12-08T13:36:58.922Z"
   },
   {
    "duration": 10,
    "start_time": "2022-12-08T13:37:28.096Z"
   },
   {
    "duration": 10,
    "start_time": "2022-12-08T13:37:50.297Z"
   },
   {
    "duration": 217,
    "start_time": "2022-12-08T13:41:54.374Z"
   },
   {
    "duration": 19,
    "start_time": "2022-12-08T13:41:56.198Z"
   },
   {
    "duration": 1484,
    "start_time": "2022-12-08T13:47:45.544Z"
   },
   {
    "duration": 777,
    "start_time": "2022-12-08T13:47:47.030Z"
   },
   {
    "duration": 19,
    "start_time": "2022-12-08T13:47:47.809Z"
   },
   {
    "duration": 145,
    "start_time": "2022-12-08T13:47:47.831Z"
   },
   {
    "duration": 817,
    "start_time": "2022-12-08T13:47:47.979Z"
   },
   {
    "duration": 468,
    "start_time": "2022-12-08T13:47:48.798Z"
   },
   {
    "duration": 492,
    "start_time": "2022-12-08T13:47:49.268Z"
   },
   {
    "duration": 6,
    "start_time": "2022-12-08T13:47:49.761Z"
   },
   {
    "duration": 38,
    "start_time": "2022-12-08T13:47:49.768Z"
   },
   {
    "duration": 74,
    "start_time": "2022-12-08T13:47:49.810Z"
   },
   {
    "duration": 61,
    "start_time": "2022-12-08T13:47:49.886Z"
   },
   {
    "duration": 158,
    "start_time": "2022-12-08T13:47:49.948Z"
   },
   {
    "duration": 577,
    "start_time": "2022-12-08T13:47:50.107Z"
   },
   {
    "duration": 147,
    "start_time": "2022-12-08T13:47:50.686Z"
   },
   {
    "duration": 162,
    "start_time": "2022-12-08T13:47:50.835Z"
   },
   {
    "duration": 8,
    "start_time": "2022-12-08T13:47:50.999Z"
   },
   {
    "duration": 19,
    "start_time": "2022-12-08T13:47:51.009Z"
   },
   {
    "duration": 8,
    "start_time": "2022-12-08T13:47:51.030Z"
   },
   {
    "duration": 151,
    "start_time": "2022-12-08T13:47:51.040Z"
   },
   {
    "duration": 105,
    "start_time": "2022-12-08T13:47:51.193Z"
   },
   {
    "duration": 128,
    "start_time": "2022-12-08T13:47:51.300Z"
   },
   {
    "duration": 7,
    "start_time": "2022-12-08T13:47:51.430Z"
   },
   {
    "duration": 35,
    "start_time": "2022-12-08T13:47:51.439Z"
   },
   {
    "duration": 44,
    "start_time": "2022-12-08T13:47:51.475Z"
   },
   {
    "duration": 120,
    "start_time": "2022-12-08T13:47:51.521Z"
   },
   {
    "duration": 127,
    "start_time": "2022-12-08T13:47:51.642Z"
   },
   {
    "duration": 136,
    "start_time": "2022-12-08T13:47:51.770Z"
   },
   {
    "duration": 29,
    "start_time": "2022-12-08T13:47:51.910Z"
   },
   {
    "duration": 114,
    "start_time": "2022-12-08T13:47:51.941Z"
   },
   {
    "duration": 3,
    "start_time": "2022-12-08T13:47:52.057Z"
   },
   {
    "duration": 26,
    "start_time": "2022-12-08T13:47:52.062Z"
   },
   {
    "duration": 69,
    "start_time": "2022-12-08T13:47:52.090Z"
   },
   {
    "duration": 5,
    "start_time": "2022-12-08T13:47:52.161Z"
   },
   {
    "duration": 27,
    "start_time": "2022-12-08T13:47:52.168Z"
   },
   {
    "duration": 747,
    "start_time": "2022-12-08T13:47:52.197Z"
   },
   {
    "duration": 6,
    "start_time": "2022-12-08T13:47:52.946Z"
   },
   {
    "duration": 23,
    "start_time": "2022-12-08T13:47:52.954Z"
   },
   {
    "duration": 8,
    "start_time": "2022-12-08T13:47:52.979Z"
   },
   {
    "duration": 17,
    "start_time": "2022-12-08T13:47:52.988Z"
   },
   {
    "duration": 22655,
    "start_time": "2022-12-08T13:47:53.006Z"
   },
   {
    "duration": 829,
    "start_time": "2022-12-08T13:48:15.664Z"
   },
   {
    "duration": 48,
    "start_time": "2022-12-08T13:48:16.495Z"
   },
   {
    "duration": 9,
    "start_time": "2022-12-08T13:48:16.545Z"
   },
   {
    "duration": 80,
    "start_time": "2022-12-08T13:48:16.555Z"
   },
   {
    "duration": 577310,
    "start_time": "2022-12-08T13:48:16.637Z"
   },
   {
    "duration": 61288,
    "start_time": "2022-12-08T13:57:53.949Z"
   },
   {
    "duration": 814,
    "start_time": "2022-12-08T13:58:55.238Z"
   },
   {
    "duration": 316844,
    "start_time": "2022-12-08T13:58:56.054Z"
   },
   {
    "duration": 18328,
    "start_time": "2022-12-08T14:04:12.900Z"
   },
   {
    "duration": 995,
    "start_time": "2022-12-08T14:04:31.229Z"
   },
   {
    "duration": 10,
    "start_time": "2022-12-08T14:04:32.226Z"
   },
   {
    "duration": 242,
    "start_time": "2022-12-08T14:04:32.237Z"
   },
   {
    "duration": 19,
    "start_time": "2022-12-08T14:04:32.480Z"
   },
   {
    "duration": 1759,
    "start_time": "2022-12-10T13:26:52.941Z"
   },
   {
    "duration": 2979,
    "start_time": "2022-12-10T13:26:54.702Z"
   },
   {
    "duration": 19,
    "start_time": "2022-12-10T13:26:57.682Z"
   },
   {
    "duration": 164,
    "start_time": "2022-12-10T13:26:57.703Z"
   },
   {
    "duration": 1029,
    "start_time": "2022-12-10T13:26:57.870Z"
   },
   {
    "duration": 508,
    "start_time": "2022-12-10T13:26:58.901Z"
   },
   {
    "duration": 653,
    "start_time": "2022-12-10T13:26:59.411Z"
   },
   {
    "duration": 6,
    "start_time": "2022-12-10T13:27:00.066Z"
   },
   {
    "duration": 48,
    "start_time": "2022-12-10T13:27:00.074Z"
   },
   {
    "duration": 83,
    "start_time": "2022-12-10T13:27:00.125Z"
   },
   {
    "duration": 68,
    "start_time": "2022-12-10T13:27:00.210Z"
   },
   {
    "duration": 196,
    "start_time": "2022-12-10T13:27:00.280Z"
   },
   {
    "duration": 789,
    "start_time": "2022-12-10T13:27:00.477Z"
   },
   {
    "duration": 157,
    "start_time": "2022-12-10T13:27:01.268Z"
   },
   {
    "duration": 276,
    "start_time": "2022-12-10T13:27:01.427Z"
   },
   {
    "duration": 24,
    "start_time": "2022-12-10T13:27:01.705Z"
   },
   {
    "duration": 22,
    "start_time": "2022-12-10T13:27:01.732Z"
   },
   {
    "duration": 9,
    "start_time": "2022-12-10T13:27:01.755Z"
   },
   {
    "duration": 69,
    "start_time": "2022-12-10T13:27:01.766Z"
   },
   {
    "duration": 134,
    "start_time": "2022-12-10T13:27:01.838Z"
   },
   {
    "duration": 163,
    "start_time": "2022-12-10T13:27:01.973Z"
   },
   {
    "duration": 7,
    "start_time": "2022-12-10T13:27:02.138Z"
   },
   {
    "duration": 14,
    "start_time": "2022-12-10T13:27:02.147Z"
   },
   {
    "duration": 35,
    "start_time": "2022-12-10T13:27:02.163Z"
   },
   {
    "duration": 148,
    "start_time": "2022-12-10T13:27:02.200Z"
   },
   {
    "duration": 134,
    "start_time": "2022-12-10T13:27:02.350Z"
   },
   {
    "duration": 153,
    "start_time": "2022-12-10T13:27:02.486Z"
   },
   {
    "duration": 24,
    "start_time": "2022-12-10T13:27:02.643Z"
   },
   {
    "duration": 123,
    "start_time": "2022-12-10T13:27:02.669Z"
   },
   {
    "duration": 2,
    "start_time": "2022-12-10T13:27:02.794Z"
   },
   {
    "duration": 27,
    "start_time": "2022-12-10T13:27:02.798Z"
   },
   {
    "duration": 59,
    "start_time": "2022-12-10T13:27:02.827Z"
   },
   {
    "duration": 4,
    "start_time": "2022-12-10T13:27:02.888Z"
   },
   {
    "duration": 44,
    "start_time": "2022-12-10T13:27:02.894Z"
   },
   {
    "duration": 151,
    "start_time": "2022-12-10T13:27:02.940Z"
   },
   {
    "duration": 0,
    "start_time": "2022-12-10T13:27:03.092Z"
   },
   {
    "duration": 0,
    "start_time": "2022-12-10T13:27:03.094Z"
   },
   {
    "duration": 0,
    "start_time": "2022-12-10T13:27:03.095Z"
   },
   {
    "duration": 0,
    "start_time": "2022-12-10T13:27:03.096Z"
   },
   {
    "duration": 0,
    "start_time": "2022-12-10T13:27:03.098Z"
   },
   {
    "duration": 0,
    "start_time": "2022-12-10T13:27:03.099Z"
   },
   {
    "duration": 0,
    "start_time": "2022-12-10T13:27:03.101Z"
   },
   {
    "duration": 0,
    "start_time": "2022-12-10T13:27:03.102Z"
   },
   {
    "duration": 0,
    "start_time": "2022-12-10T13:27:03.122Z"
   },
   {
    "duration": 0,
    "start_time": "2022-12-10T13:27:03.123Z"
   },
   {
    "duration": 2,
    "start_time": "2022-12-10T13:27:03.124Z"
   },
   {
    "duration": 0,
    "start_time": "2022-12-10T13:27:03.127Z"
   },
   {
    "duration": 0,
    "start_time": "2022-12-10T13:27:03.128Z"
   },
   {
    "duration": 0,
    "start_time": "2022-12-10T13:27:03.130Z"
   },
   {
    "duration": 0,
    "start_time": "2022-12-10T13:27:03.131Z"
   },
   {
    "duration": 0,
    "start_time": "2022-12-10T13:27:03.132Z"
   },
   {
    "duration": 0,
    "start_time": "2022-12-10T13:27:03.134Z"
   },
   {
    "duration": 0,
    "start_time": "2022-12-10T13:27:03.135Z"
   },
   {
    "duration": 14,
    "start_time": "2022-12-10T13:27:29.373Z"
   },
   {
    "duration": 13,
    "start_time": "2022-12-10T13:29:04.532Z"
   },
   {
    "duration": 13,
    "start_time": "2022-12-10T13:31:10.088Z"
   },
   {
    "duration": 19,
    "start_time": "2022-12-10T13:38:07.737Z"
   },
   {
    "duration": 12,
    "start_time": "2022-12-10T13:38:21.602Z"
   },
   {
    "duration": 827,
    "start_time": "2022-12-10T13:38:38.776Z"
   },
   {
    "duration": 5,
    "start_time": "2022-12-10T13:38:46.507Z"
   },
   {
    "duration": 1625,
    "start_time": "2022-12-10T13:39:32.690Z"
   },
   {
    "duration": 902,
    "start_time": "2022-12-10T13:39:34.317Z"
   },
   {
    "duration": 20,
    "start_time": "2022-12-10T13:39:35.221Z"
   },
   {
    "duration": 147,
    "start_time": "2022-12-10T13:39:35.243Z"
   },
   {
    "duration": 1017,
    "start_time": "2022-12-10T13:39:35.392Z"
   },
   {
    "duration": 562,
    "start_time": "2022-12-10T13:39:36.411Z"
   },
   {
    "duration": 579,
    "start_time": "2022-12-10T13:39:36.974Z"
   },
   {
    "duration": 6,
    "start_time": "2022-12-10T13:39:37.555Z"
   },
   {
    "duration": 40,
    "start_time": "2022-12-10T13:39:37.563Z"
   },
   {
    "duration": 131,
    "start_time": "2022-12-10T13:39:37.623Z"
   },
   {
    "duration": 86,
    "start_time": "2022-12-10T13:39:37.756Z"
   },
   {
    "duration": 175,
    "start_time": "2022-12-10T13:39:37.850Z"
   },
   {
    "duration": 663,
    "start_time": "2022-12-10T13:39:38.027Z"
   },
   {
    "duration": 154,
    "start_time": "2022-12-10T13:39:38.692Z"
   },
   {
    "duration": 210,
    "start_time": "2022-12-10T13:39:38.848Z"
   },
   {
    "duration": 212,
    "start_time": "2022-12-10T13:39:39.059Z"
   },
   {
    "duration": 10,
    "start_time": "2022-12-10T13:39:39.273Z"
   },
   {
    "duration": 12,
    "start_time": "2022-12-10T13:39:39.285Z"
   },
   {
    "duration": 56,
    "start_time": "2022-12-10T13:39:39.299Z"
   },
   {
    "duration": 201,
    "start_time": "2022-12-10T13:39:39.357Z"
   },
   {
    "duration": 150,
    "start_time": "2022-12-10T13:39:39.560Z"
   },
   {
    "duration": 15,
    "start_time": "2022-12-10T13:39:39.713Z"
   },
   {
    "duration": 15,
    "start_time": "2022-12-10T13:39:39.729Z"
   },
   {
    "duration": 36,
    "start_time": "2022-12-10T13:39:39.745Z"
   },
   {
    "duration": 145,
    "start_time": "2022-12-10T13:39:39.782Z"
   },
   {
    "duration": 131,
    "start_time": "2022-12-10T13:39:39.929Z"
   },
   {
    "duration": 145,
    "start_time": "2022-12-10T13:39:40.062Z"
   },
   {
    "duration": 31,
    "start_time": "2022-12-10T13:39:40.211Z"
   },
   {
    "duration": 113,
    "start_time": "2022-12-10T13:39:40.244Z"
   },
   {
    "duration": 2,
    "start_time": "2022-12-10T13:39:40.359Z"
   },
   {
    "duration": 17,
    "start_time": "2022-12-10T13:39:40.363Z"
   },
   {
    "duration": 74,
    "start_time": "2022-12-10T13:39:40.381Z"
   },
   {
    "duration": 4,
    "start_time": "2022-12-10T13:39:40.456Z"
   },
   {
    "duration": 24,
    "start_time": "2022-12-10T13:39:40.462Z"
   },
   {
    "duration": 791,
    "start_time": "2022-12-10T13:39:40.488Z"
   },
   {
    "duration": 6,
    "start_time": "2022-12-10T13:39:41.281Z"
   },
   {
    "duration": 6,
    "start_time": "2022-12-10T13:39:41.288Z"
   },
   {
    "duration": 10,
    "start_time": "2022-12-10T13:39:41.295Z"
   },
   {
    "duration": 20,
    "start_time": "2022-12-10T13:39:41.307Z"
   },
   {
    "duration": 24639,
    "start_time": "2022-12-10T13:39:41.329Z"
   },
   {
    "duration": 769,
    "start_time": "2022-12-10T13:40:05.970Z"
   },
   {
    "duration": 41,
    "start_time": "2022-12-10T13:40:06.740Z"
   },
   {
    "duration": 8,
    "start_time": "2022-12-10T13:40:06.783Z"
   },
   {
    "duration": 84,
    "start_time": "2022-12-10T13:40:06.793Z"
   },
   {
    "duration": 820669,
    "start_time": "2022-12-10T13:40:06.878Z"
   },
   {
    "duration": 50776,
    "start_time": "2022-12-10T13:53:47.549Z"
   },
   {
    "duration": 898,
    "start_time": "2022-12-10T13:54:38.327Z"
   },
   {
    "duration": 348721,
    "start_time": "2022-12-10T13:54:39.227Z"
   },
   {
    "duration": 19424,
    "start_time": "2022-12-10T14:00:27.949Z"
   },
   {
    "duration": 1050,
    "start_time": "2022-12-10T14:00:47.375Z"
   },
   {
    "duration": 12,
    "start_time": "2022-12-10T14:00:48.427Z"
   },
   {
    "duration": 251,
    "start_time": "2022-12-10T14:00:48.441Z"
   },
   {
    "duration": 29,
    "start_time": "2022-12-10T14:00:48.694Z"
   },
   {
    "duration": 11,
    "start_time": "2022-12-10T14:02:35.855Z"
   }
  ],
  "kernelspec": {
   "display_name": "Python 3 (ipykernel)",
   "language": "python",
   "name": "python3"
  },
  "language_info": {
   "codemirror_mode": {
    "name": "ipython",
    "version": 3
   },
   "file_extension": ".py",
   "mimetype": "text/x-python",
   "name": "python",
   "nbconvert_exporter": "python",
   "pygments_lexer": "ipython3",
   "version": "3.9.5"
  },
  "toc": {
   "base_numbering": 1,
   "nav_menu": {},
   "number_sections": true,
   "sideBar": true,
   "skip_h1_title": true,
   "title_cell": "Содержание",
   "title_sidebar": "Contents",
   "toc_cell": true,
   "toc_position": {
    "height": "calc(100% - 180px)",
    "left": "10px",
    "top": "150px",
    "width": "165px"
   },
   "toc_section_display": true,
   "toc_window_display": false
  }
 },
 "nbformat": 4,
 "nbformat_minor": 2
}
