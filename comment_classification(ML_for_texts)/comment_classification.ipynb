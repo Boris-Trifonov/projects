{
 "cells": [
  {
   "cell_type": "markdown",
   "metadata": {
    "toc": true
   },
   "source": [
    "<h1>Содержание<span class=\"tocSkip\"></span></h1>\n",
    "<div class=\"toc\"><ul class=\"toc-item\"><li><span><a href=\"#Подготовка\" data-toc-modified-id=\"Подготовка-1\"><span class=\"toc-item-num\">1&nbsp;&nbsp;</span>Подготовка</a></span><ul class=\"toc-item\"><li><span><a href=\"#Лемматизация-и-очистка\" data-toc-modified-id=\"Лемматизация-и-очистка-1.1\"><span class=\"toc-item-num\">1.1&nbsp;&nbsp;</span>Лемматизация и очистка</a></span></li><li><span><a href=\"#Разделение-на-выборки-и-борьба-с-дисбалансом\" data-toc-modified-id=\"Разделение-на-выборки-и-борьба-с-дисбалансом-1.2\"><span class=\"toc-item-num\">1.2&nbsp;&nbsp;</span>Разделение на выборки и борьба с дисбалансом</a></span></li></ul></li><li><span><a href=\"#Обучение\" data-toc-modified-id=\"Обучение-2\"><span class=\"toc-item-num\">2&nbsp;&nbsp;</span>Обучение</a></span><ul class=\"toc-item\"><li><span><a href=\"#LogisticRegression\" data-toc-modified-id=\"LogisticRegression-2.1\"><span class=\"toc-item-num\">2.1&nbsp;&nbsp;</span>LogisticRegression</a></span></li><li><span><a href=\"#DecisionTreeClassifier\" data-toc-modified-id=\"DecisionTreeClassifier-2.2\"><span class=\"toc-item-num\">2.2&nbsp;&nbsp;</span>DecisionTreeClassifier</a></span></li><li><span><a href=\"#RandomForestClassifier\" data-toc-modified-id=\"RandomForestClassifier-2.3\"><span class=\"toc-item-num\">2.3&nbsp;&nbsp;</span>RandomForestClassifier</a></span></li><li><span><a href=\"#test\" data-toc-modified-id=\"test-2.4\"><span class=\"toc-item-num\">2.4&nbsp;&nbsp;</span>test</a></span></li></ul></li><li><span><a href=\"#Выводы\" data-toc-modified-id=\"Выводы-3\"><span class=\"toc-item-num\">3&nbsp;&nbsp;</span>Выводы</a></span></li><li><span><a href=\"#Чек-лист-проверки\" data-toc-modified-id=\"Чек-лист-проверки-4\"><span class=\"toc-item-num\">4&nbsp;&nbsp;</span>Чек-лист проверки</a></span></li></ul></div>"
   ]
  },
  {
   "cell_type": "markdown",
   "metadata": {},
   "source": [
    "# Классификация комментариев на позитивные и негативные"
   ]
  },
  {
   "cell_type": "markdown",
   "metadata": {},
   "source": [
    "Интернет-магазин «Викишоп» запускает новый сервис. Теперь пользователи могут редактировать и дополнять описания товаров, как в вики-сообществах. То есть клиенты предлагают свои правки и комментируют изменения других. Магазину нужен инструмент, который будет искать токсичные комментарии и отправлять их на модерацию. \n",
    "\n",
    "**Входные данные:**\n",
    "\n",
    "- Набор данных с разметкой о токсичности правок.:\n",
    "\n",
    "https://code.s3.yandex.net/datasets/toxic_comments.csv\n",
    "\n",
    "Признак - `text` содержит текст комментария\n",
    "\n",
    "Целевой признак - `toxic`\n",
    "\n",
    "**Цель:**\n",
    "\n",
    "Обучить модель классифицировать текстовые комментарии на позитивные и негативные. \n",
    "\n",
    "**Задача:**\n",
    "\n",
    "- Построить модель со значением метрики качества *F1* не меньше 0.75.\n",
    "\n",
    "**Условия:**\n",
    "\n",
    "- Для выполнения проекта применять *BERT* необязательно\n",
    "\n",
    "**Этапы**\n",
    "\n",
    "1. Загрузка и подготовка данные.\n",
    "2. Обучение разных моделей. \n",
    "3. Выводы."
   ]
  },
  {
   "cell_type": "markdown",
   "metadata": {},
   "source": [
    "## Подготовка"
   ]
  },
  {
   "cell_type": "markdown",
   "metadata": {},
   "source": [
    "Загружаем библиотеку для обработки текста"
   ]
  },
  {
   "cell_type": "code",
   "execution_count": 1,
   "metadata": {},
   "outputs": [
    {
     "name": "stdout",
     "output_type": "stream",
     "text": [
      "/bin/bash: {sys.executable}: command not found\n",
      "/bin/bash: {sys.executable}: command not found\n"
     ]
    }
   ],
   "source": [
    "!{sys.executable} -m pip install spacy\n",
    "!{sys.executable} -m spacy download en"
   ]
  },
  {
   "cell_type": "code",
   "execution_count": 2,
   "metadata": {},
   "outputs": [
    {
     "name": "stderr",
     "output_type": "stream",
     "text": [
      "[nltk_data] Downloading package wordnet to /home/jovyan/nltk_data...\n",
      "[nltk_data]   Package wordnet is already up-to-date!\n",
      "[nltk_data] Downloading package stopwords to /home/jovyan/nltk_data...\n",
      "[nltk_data]   Package stopwords is already up-to-date!\n"
     ]
    }
   ],
   "source": [
    "import pandas as pd \n",
    "import numpy as np \n",
    "import spacy\n",
    "import sys\n",
    "\n",
    "from sklearn.pipeline import Pipeline\n",
    "import re\n",
    "import nltk\n",
    "from nltk.corpus import stopwords as nltk_stopwords\n",
    "from sklearn.feature_extraction.text import TfidfVectorizer, TfidfTransformer\n",
    "\n",
    "from sklearn.model_selection import train_test_split, GridSearchCV\n",
    "from sklearn.utils import shuffle\n",
    "\n",
    "from lightgbm import LGBMClassifier\n",
    "from sklearn.linear_model import LogisticRegression\n",
    "from sklearn.ensemble import RandomForestClassifier\n",
    "from sklearn.tree import DecisionTreeClassifier\n",
    "\n",
    "from sklearn.metrics import f1_score\n",
    "\n",
    "import warnings\n",
    "warnings.filterwarnings('ignore')\n",
    "\n",
    "nltk.download('wordnet')\n",
    "nltk.download('stopwords')\n",
    "stopwords = set(nltk_stopwords.words('english'))\n",
    "nlp = spacy.load('en_core_web_sm')"
   ]
  },
  {
   "cell_type": "code",
   "execution_count": 3,
   "metadata": {},
   "outputs": [],
   "source": [
    "try:\n",
    "    df = pd.read_csv('/datasets/toxic_comments.csv')\n",
    "except:\n",
    "    df = pd.read_csv('https://code.s3.yandex.net/datasets/toxic_comments.csv')"
   ]
  },
  {
   "cell_type": "code",
   "execution_count": 4,
   "metadata": {},
   "outputs": [
    {
     "data": {
      "text/html": [
       "<div>\n",
       "<style scoped>\n",
       "    .dataframe tbody tr th:only-of-type {\n",
       "        vertical-align: middle;\n",
       "    }\n",
       "\n",
       "    .dataframe tbody tr th {\n",
       "        vertical-align: top;\n",
       "    }\n",
       "\n",
       "    .dataframe thead th {\n",
       "        text-align: right;\n",
       "    }\n",
       "</style>\n",
       "<table border=\"1\" class=\"dataframe\">\n",
       "  <thead>\n",
       "    <tr style=\"text-align: right;\">\n",
       "      <th></th>\n",
       "      <th>Unnamed: 0</th>\n",
       "      <th>text</th>\n",
       "      <th>toxic</th>\n",
       "    </tr>\n",
       "  </thead>\n",
       "  <tbody>\n",
       "    <tr>\n",
       "      <th>0</th>\n",
       "      <td>0</td>\n",
       "      <td>Explanation\\nWhy the edits made under my usern...</td>\n",
       "      <td>0</td>\n",
       "    </tr>\n",
       "    <tr>\n",
       "      <th>1</th>\n",
       "      <td>1</td>\n",
       "      <td>D'aww! He matches this background colour I'm s...</td>\n",
       "      <td>0</td>\n",
       "    </tr>\n",
       "    <tr>\n",
       "      <th>2</th>\n",
       "      <td>2</td>\n",
       "      <td>Hey man, I'm really not trying to edit war. It...</td>\n",
       "      <td>0</td>\n",
       "    </tr>\n",
       "    <tr>\n",
       "      <th>3</th>\n",
       "      <td>3</td>\n",
       "      <td>\"\\nMore\\nI can't make any real suggestions on ...</td>\n",
       "      <td>0</td>\n",
       "    </tr>\n",
       "    <tr>\n",
       "      <th>4</th>\n",
       "      <td>4</td>\n",
       "      <td>You, sir, are my hero. Any chance you remember...</td>\n",
       "      <td>0</td>\n",
       "    </tr>\n",
       "  </tbody>\n",
       "</table>\n",
       "</div>"
      ],
      "text/plain": [
       "   Unnamed: 0                                               text  toxic\n",
       "0           0  Explanation\\nWhy the edits made under my usern...      0\n",
       "1           1  D'aww! He matches this background colour I'm s...      0\n",
       "2           2  Hey man, I'm really not trying to edit war. It...      0\n",
       "3           3  \"\\nMore\\nI can't make any real suggestions on ...      0\n",
       "4           4  You, sir, are my hero. Any chance you remember...      0"
      ]
     },
     "execution_count": 4,
     "metadata": {},
     "output_type": "execute_result"
    }
   ],
   "source": [
    "df.head()"
   ]
  },
  {
   "cell_type": "code",
   "execution_count": 5,
   "metadata": {
    "scrolled": true
   },
   "outputs": [
    {
     "name": "stdout",
     "output_type": "stream",
     "text": [
      "<class 'pandas.core.frame.DataFrame'>\n",
      "RangeIndex: 159292 entries, 0 to 159291\n",
      "Data columns (total 3 columns):\n",
      " #   Column      Non-Null Count   Dtype \n",
      "---  ------      --------------   ----- \n",
      " 0   Unnamed: 0  159292 non-null  int64 \n",
      " 1   text        159292 non-null  object\n",
      " 2   toxic       159292 non-null  int64 \n",
      "dtypes: int64(2), object(1)\n",
      "memory usage: 3.6+ MB\n"
     ]
    }
   ],
   "source": [
    "df.info()"
   ]
  },
  {
   "cell_type": "code",
   "execution_count": 6,
   "metadata": {
    "scrolled": true
   },
   "outputs": [
    {
     "data": {
      "text/plain": [
       "0"
      ]
     },
     "execution_count": 6,
     "metadata": {},
     "output_type": "execute_result"
    }
   ],
   "source": [
    "df.duplicated().sum()"
   ]
  },
  {
   "cell_type": "markdown",
   "metadata": {},
   "source": [
    "Пропусков и дубликатов нет"
   ]
  },
  {
   "cell_type": "code",
   "execution_count": 7,
   "metadata": {},
   "outputs": [
    {
     "data": {
      "text/plain": [
       "0    143106\n",
       "1     16186\n",
       "Name: toxic, dtype: int64"
      ]
     },
     "execution_count": 7,
     "metadata": {},
     "output_type": "execute_result"
    }
   ],
   "source": [
    "df['toxic'].value_counts()"
   ]
  },
  {
   "cell_type": "markdown",
   "metadata": {},
   "source": [
    "Токсичны только 11.3% комментариев. Мы обнаружили серьёзный дисбаланс при исследовании данных."
   ]
  },
  {
   "cell_type": "markdown",
   "metadata": {},
   "source": [
    "### Лемматизация и очистка"
   ]
  },
  {
   "cell_type": "markdown",
   "metadata": {},
   "source": [
    "Применим SpaCy"
   ]
  },
  {
   "cell_type": "code",
   "execution_count": 9,
   "metadata": {},
   "outputs": [],
   "source": [
    "def lemmatize_text(text):\n",
    "    text = text.lower()\n",
    "    re_text = re.sub(r'[^a-zA-Z ]', ' ', text)\n",
    "    lemm_text = nlp(re_text)\n",
    "    \n",
    "    return \" \".join([token.lemma_ for token in lemm_text])"
   ]
  },
  {
   "cell_type": "code",
   "execution_count": 10,
   "metadata": {},
   "outputs": [],
   "source": [
    "df['lemm_text'] = df['text'].apply(lemmatize_text)"
   ]
  },
  {
   "cell_type": "code",
   "execution_count": 11,
   "metadata": {},
   "outputs": [
    {
     "data": {
      "text/plain": [
       "0    explanation why the edit make under my usernam...\n",
       "1    d aww   he match this background colour I m se...\n",
       "2    hey man   I m really not try to edit war   it ...\n",
       "3       more I can t make any real suggestion on im...\n",
       "4    you   sir   be my hero   any chance you rememb...\n",
       "Name: lemm_text, dtype: object"
      ]
     },
     "execution_count": 11,
     "metadata": {},
     "output_type": "execute_result"
    }
   ],
   "source": [
    "df['lemm_text'].head()"
   ]
  },
  {
   "cell_type": "markdown",
   "metadata": {},
   "source": [
    "### Разделение на выборки и борьба с дисбалансом"
   ]
  },
  {
   "cell_type": "code",
   "execution_count": 13,
   "metadata": {},
   "outputs": [],
   "source": [
    "X = df.drop('toxic',axis=1)\n",
    "y = df['toxic']"
   ]
  },
  {
   "cell_type": "code",
   "execution_count": 14,
   "metadata": {},
   "outputs": [],
   "source": [
    "X_train, X_test, y_train, y_test = train_test_split(X, y, test_size=0.25, random_state=42, shuffle=True,stratify=y)"
   ]
  },
  {
   "cell_type": "code",
   "execution_count": 15,
   "metadata": {},
   "outputs": [
    {
     "data": {
      "text/plain": [
       "0.75"
      ]
     },
     "execution_count": 15,
     "metadata": {},
     "output_type": "execute_result"
    }
   ],
   "source": [
    "X_train.shape[0]/X.shape[0]"
   ]
  },
  {
   "cell_type": "code",
   "execution_count": 16,
   "metadata": {},
   "outputs": [
    {
     "data": {
      "text/plain": [
       "0.25"
      ]
     },
     "execution_count": 16,
     "metadata": {},
     "output_type": "execute_result"
    }
   ],
   "source": [
    "X_test.shape[0]/X.shape[0]"
   ]
  },
  {
   "cell_type": "markdown",
   "metadata": {},
   "source": [
    "Проверим распределение классов в выборках"
   ]
  },
  {
   "cell_type": "code",
   "execution_count": 17,
   "metadata": {},
   "outputs": [
    {
     "data": {
      "text/plain": [
       "0    0.898384\n",
       "1    0.101616\n",
       "Name: toxic, dtype: float64"
      ]
     },
     "execution_count": 17,
     "metadata": {},
     "output_type": "execute_result"
    }
   ],
   "source": [
    "y_train.value_counts(normalize=True)"
   ]
  },
  {
   "cell_type": "code",
   "execution_count": 18,
   "metadata": {},
   "outputs": [
    {
     "data": {
      "text/plain": [
       "0    0.8984\n",
       "1    0.1016\n",
       "Name: toxic, dtype: float64"
      ]
     },
     "execution_count": 18,
     "metadata": {},
     "output_type": "execute_result"
    }
   ],
   "source": [
    "y_test.value_counts(normalize=True)"
   ]
  },
  {
   "cell_type": "markdown",
   "metadata": {},
   "source": [
    "**Дисбаланс**"
   ]
  },
  {
   "cell_type": "code",
   "execution_count": 19,
   "metadata": {},
   "outputs": [],
   "source": [
    "def down_up_sample(features, target, fraction, repeat):\n",
    "    features_zeros = features[target == 0]\n",
    "    features_ones = features[target == 1]\n",
    "    target_zeros = target[target == 0]\n",
    "    target_ones = target[target == 1]\n",
    "\n",
    "    features_down_up = pd.concat([features_zeros.sample(frac=fraction, random_state=12345)] + [features_ones]*repeat)\n",
    "    target_down_up = pd.concat([target_zeros.sample(frac=fraction, random_state=12345)] + [target_ones]*repeat)\n",
    "    \n",
    "    features_down_up_sampled, target_down_up_sampled = shuffle(\n",
    "        features_down_up, target_down_up, random_state=12345)\n",
    "    \n",
    "    return features_down_up_sampled, target_down_up_sampled\n",
    "\n",
    "features_upsampled, target_upsampled  = down_up_sample(X_train, y_train, 0.6, 5)"
   ]
  },
  {
   "cell_type": "markdown",
   "metadata": {},
   "source": [
    "Применим TfidfVectorizer и обучим её на train"
   ]
  },
  {
   "cell_type": "code",
   "execution_count": 20,
   "metadata": {},
   "outputs": [
    {
     "data": {
      "text/plain": [
       "(125097, 96310)"
      ]
     },
     "execution_count": 20,
     "metadata": {},
     "output_type": "execute_result"
    }
   ],
   "source": [
    "count_tf_idf = TfidfVectorizer(stop_words=stopwords,analyzer='word') \n",
    "tf_idf = count_tf_idf.fit_transform(features_upsampled['lemm_text']) \n",
    "tf_idf.shape"
   ]
  },
  {
   "cell_type": "code",
   "execution_count": 21,
   "metadata": {},
   "outputs": [],
   "source": [
    "tf_test = count_tf_idf.transform(X_test['lemm_text'])"
   ]
  },
  {
   "cell_type": "markdown",
   "metadata": {},
   "source": [
    "Убрали частые неинформативные слова."
   ]
  },
  {
   "cell_type": "markdown",
   "metadata": {},
   "source": [
    "## Обучение"
   ]
  },
  {
   "cell_type": "markdown",
   "metadata": {},
   "source": [
    "### LogisticRegression"
   ]
  },
  {
   "cell_type": "markdown",
   "metadata": {},
   "source": [
    "Подбор параметров"
   ]
  },
  {
   "cell_type": "code",
   "execution_count": 23,
   "metadata": {},
   "outputs": [
    {
     "data": {
      "text/plain": [
       "({'C': 10, 'solver': 'lbfgs'}, 0.988)"
      ]
     },
     "execution_count": 23,
     "metadata": {},
     "output_type": "execute_result"
    }
   ],
   "source": [
    "clf_lr = LogisticRegression(random_state=12345, class_weight='balanced')\n",
    "params_lr = {'solver':['newton-cg', 'lbfgs', 'liblinear'],\n",
    "                'C':[0.1, 1, 10]}\n",
    "grid_lr = GridSearchCV(clf_lr, params_lr, cv=3, scoring='f1')\n",
    "grid_lr.fit(tf_idf, target_upsampled)\n",
    "predict_lr= grid_lr.predict(tf_idf)\n",
    "f1_lr = f1_score(target_upsampled, predict_lr).round(3)\n",
    "\n",
    "grid_lr.best_params_, f1_lr"
   ]
  },
  {
   "cell_type": "markdown",
   "metadata": {},
   "source": [
    "### DecisionTreeClassifier"
   ]
  },
  {
   "cell_type": "code",
   "execution_count": 28,
   "metadata": {},
   "outputs": [
    {
     "data": {
      "text/plain": [
       "(14, 0.813)"
      ]
     },
     "execution_count": 28,
     "metadata": {},
     "output_type": "execute_result"
    }
   ],
   "source": [
    "best_model_dtc = None\n",
    "best_result_dtc = 0\n",
    "best_depth_dtc = 0\n",
    "for depth in range(1, 15):\n",
    "    model_dtc = RandomForestClassifier(random_state=12345, max_depth=depth, class_weight='balanced_subsample') \n",
    "    model_dtc.fit(tf_idf,target_upsampled) \n",
    "    predict_dtc = model_dtc.predict(tf_idf) \n",
    "    result_dtc = f1_score(target_upsampled, predict_dtc)\n",
    "    if result_dtc > best_result_dtc:\n",
    "        best_model_dtc = model_dtc\n",
    "        best_result_dtc = result_dtc\n",
    "        best_depth_dtc = depth\n",
    "f1_dtc = best_result_dtc.round(3)\n",
    "\n",
    "best_depth_dtc, f1_dtc"
   ]
  },
  {
   "cell_type": "markdown",
   "metadata": {},
   "source": [
    "### RandomForestClassifier"
   ]
  },
  {
   "cell_type": "code",
   "execution_count": 29,
   "metadata": {},
   "outputs": [
    {
     "data": {
      "text/plain": [
       "(14, 0.813)"
      ]
     },
     "execution_count": 29,
     "metadata": {},
     "output_type": "execute_result"
    }
   ],
   "source": [
    "best_model_rfc = None\n",
    "best_result_rfc = 0\n",
    "best_depth_rfс=0\n",
    "for depth in range(1, 15):\n",
    "    model_rfс = RandomForestClassifier(random_state=12345, max_depth=depth, class_weight='balanced_subsample') \n",
    "    model_rfс.fit(tf_idf,target_upsampled) \n",
    "    predict_rfс = model_rfс.predict(tf_idf) \n",
    "    result_rfс = f1_score(target_upsampled, predict_rfс)\n",
    "    if result_rfс > best_result_rfc:\n",
    "        best_model_rfс = model_rfс\n",
    "        best_result_rfc = result_rfс\n",
    "        best_depth_rfс = depth\n",
    "f1_rfc = best_result_rfc.round(3)\n",
    "\n",
    "best_depth_rfс, f1_rfc"
   ]
  },
  {
   "cell_type": "markdown",
   "metadata": {},
   "source": [
    "**Сравнение моделей**"
   ]
  },
  {
   "cell_type": "code",
   "execution_count": 30,
   "metadata": {
    "scrolled": true
   },
   "outputs": [
    {
     "data": {
      "text/html": [
       "<div>\n",
       "<style scoped>\n",
       "    .dataframe tbody tr th:only-of-type {\n",
       "        vertical-align: middle;\n",
       "    }\n",
       "\n",
       "    .dataframe tbody tr th {\n",
       "        vertical-align: top;\n",
       "    }\n",
       "\n",
       "    .dataframe thead th {\n",
       "        text-align: right;\n",
       "    }\n",
       "</style>\n",
       "<table border=\"1\" class=\"dataframe\">\n",
       "  <thead>\n",
       "    <tr style=\"text-align: right;\">\n",
       "      <th></th>\n",
       "      <th>model</th>\n",
       "      <th>f1_train</th>\n",
       "    </tr>\n",
       "  </thead>\n",
       "  <tbody>\n",
       "    <tr>\n",
       "      <th>0</th>\n",
       "      <td>LogisticRegression</td>\n",
       "      <td>0.988</td>\n",
       "    </tr>\n",
       "    <tr>\n",
       "      <th>1</th>\n",
       "      <td>DecisionTreeClassifier</td>\n",
       "      <td>0.813</td>\n",
       "    </tr>\n",
       "    <tr>\n",
       "      <th>2</th>\n",
       "      <td>RandomForestClassifier</td>\n",
       "      <td>0.813</td>\n",
       "    </tr>\n",
       "  </tbody>\n",
       "</table>\n",
       "</div>"
      ],
      "text/plain": [
       "                    model  f1_train\n",
       "0      LogisticRegression     0.988\n",
       "1  DecisionTreeClassifier     0.813\n",
       "2  RandomForestClassifier     0.813"
      ]
     },
     "execution_count": 30,
     "metadata": {},
     "output_type": "execute_result"
    }
   ],
   "source": [
    "best_model = pd.DataFrame(data=[('LogisticRegression', f1_lr),\n",
    "                                ('DecisionTreeClassifier', f1_dtc),\n",
    "                                ('RandomForestClassifier', f1_rfc)],\n",
    "                          columns=['model', 'f1_train'])\n",
    "best_model"
   ]
  },
  {
   "cell_type": "markdown",
   "metadata": {},
   "source": [
    "### test"
   ]
  },
  {
   "cell_type": "markdown",
   "metadata": {},
   "source": [
    "**LogisticRegression**"
   ]
  },
  {
   "cell_type": "code",
   "execution_count": 27,
   "metadata": {},
   "outputs": [
    {
     "data": {
      "text/plain": [
       "0.753"
      ]
     },
     "execution_count": 27,
     "metadata": {},
     "output_type": "execute_result"
    }
   ],
   "source": [
    "model_lr = LogisticRegression(C=10, class_weight='balanced', solver='lbfgs', random_state=12345)\n",
    "model_lr.fit(tf_idf, target_upsampled)\n",
    "predict_lr = model_lr.predict(tf_test)\n",
    "f1_score(y_test, predict_lr).round(3)"
   ]
  },
  {
   "cell_type": "markdown",
   "metadata": {},
   "source": [
    "## Выводы"
   ]
  },
  {
   "cell_type": "markdown",
   "metadata": {},
   "source": [
    "- Загрузили и изучили данные:\n",
    "    - Пропусков и дубликатов нет.\n",
    "    - Выявлен дисбаланс классов.\n",
    "    \n",
    "- Подготовили данные:\n",
    "    - Написали функцию для лемматизации и очистки данных от лишних символов.\n",
    "    - Разделили данные на обучающую и тестовую выборки.\n",
    "    - Применили методы upsample и downsamle для борьбы с дисбалансом классов.\n",
    "    - Создали матрицу cо значениями TF-IDF с учётом стоп-слов.\n",
    "    \n",
    "- Обучили модели LogisticRegression, CatBoostClassifier и RandomForestClassifier и сравнили результат f1.\n",
    "    - Рекомендуемая модель LogisticRegression, с наилучшим результатом f1 = 0.988. На test модель показала f1 = 0.753, что удовлетворяет условию."
   ]
  }
 ],
 "metadata": {
  "ExecuteTimeLog": [
   {
    "duration": 80,
    "start_time": "2022-12-21T06:27:57.163Z"
   },
   {
    "duration": 52,
    "start_time": "2022-12-21T06:28:55.018Z"
   },
   {
    "duration": 1600,
    "start_time": "2022-12-21T06:29:06.012Z"
   },
   {
    "duration": 2417,
    "start_time": "2022-12-21T06:29:09.265Z"
   },
   {
    "duration": 33,
    "start_time": "2022-12-21T06:29:19.999Z"
   },
   {
    "duration": 12,
    "start_time": "2022-12-21T06:29:28.806Z"
   },
   {
    "duration": 6,
    "start_time": "2022-12-21T06:32:14.324Z"
   },
   {
    "duration": 219,
    "start_time": "2022-12-21T06:41:22.116Z"
   },
   {
    "duration": 1872,
    "start_time": "2022-12-21T06:45:14.433Z"
   },
   {
    "duration": 8,
    "start_time": "2022-12-21T06:47:50.762Z"
   },
   {
    "duration": 4,
    "start_time": "2022-12-21T06:47:55.058Z"
   },
   {
    "duration": 88,
    "start_time": "2022-12-21T06:48:30.720Z"
   },
   {
    "duration": 760,
    "start_time": "2022-12-21T06:48:41.045Z"
   },
   {
    "duration": 18,
    "start_time": "2022-12-21T06:50:34.787Z"
   },
   {
    "duration": 1571,
    "start_time": "2022-12-21T06:51:08.438Z"
   },
   {
    "duration": 2279,
    "start_time": "2022-12-21T06:51:10.011Z"
   },
   {
    "duration": 12,
    "start_time": "2022-12-21T06:51:12.292Z"
   },
   {
    "duration": 27,
    "start_time": "2022-12-21T06:51:12.305Z"
   },
   {
    "duration": 211,
    "start_time": "2022-12-21T06:51:12.334Z"
   },
   {
    "duration": 6,
    "start_time": "2022-12-21T06:51:12.546Z"
   },
   {
    "duration": 1921,
    "start_time": "2022-12-21T06:51:12.553Z"
   },
   {
    "duration": 120,
    "start_time": "2022-12-21T06:51:14.476Z"
   },
   {
    "duration": 374001,
    "start_time": "2022-12-21T06:59:09.569Z"
   },
   {
    "duration": 4,
    "start_time": "2022-12-21T07:05:30.509Z"
   },
   {
    "duration": 7659217,
    "start_time": "2022-12-21T07:05:39.788Z"
   },
   {
    "duration": 1565,
    "start_time": "2022-12-21T09:13:46.651Z"
   },
   {
    "duration": 945,
    "start_time": "2022-12-21T09:13:48.218Z"
   },
   {
    "duration": 15,
    "start_time": "2022-12-21T09:13:49.166Z"
   },
   {
    "duration": 40,
    "start_time": "2022-12-21T09:13:49.183Z"
   },
   {
    "duration": 248,
    "start_time": "2022-12-21T09:13:49.228Z"
   },
   {
    "duration": 6,
    "start_time": "2022-12-21T09:13:49.477Z"
   },
   {
    "duration": 2060,
    "start_time": "2022-12-21T09:13:49.484Z"
   },
   {
    "duration": 4,
    "start_time": "2022-12-21T09:13:51.546Z"
   },
   {
    "duration": 157,
    "start_time": "2022-12-21T09:13:51.556Z"
   },
   {
    "duration": 0,
    "start_time": "2022-12-21T09:13:51.715Z"
   },
   {
    "duration": 0,
    "start_time": "2022-12-21T09:13:51.716Z"
   },
   {
    "duration": 0,
    "start_time": "2022-12-21T09:13:51.717Z"
   },
   {
    "duration": 0,
    "start_time": "2022-12-21T09:13:51.717Z"
   },
   {
    "duration": 0,
    "start_time": "2022-12-21T09:13:51.718Z"
   },
   {
    "duration": 0,
    "start_time": "2022-12-21T09:13:51.723Z"
   },
   {
    "duration": 0,
    "start_time": "2022-12-21T09:13:51.724Z"
   },
   {
    "duration": 0,
    "start_time": "2022-12-21T09:13:51.724Z"
   },
   {
    "duration": 0,
    "start_time": "2022-12-21T09:13:51.725Z"
   },
   {
    "duration": 0,
    "start_time": "2022-12-21T09:13:51.726Z"
   },
   {
    "duration": 0,
    "start_time": "2022-12-21T09:13:51.727Z"
   },
   {
    "duration": 0,
    "start_time": "2022-12-21T09:13:51.728Z"
   },
   {
    "duration": 0,
    "start_time": "2022-12-21T09:13:51.729Z"
   },
   {
    "duration": 0,
    "start_time": "2022-12-21T09:13:51.730Z"
   },
   {
    "duration": 0,
    "start_time": "2022-12-21T09:13:51.731Z"
   },
   {
    "duration": 0,
    "start_time": "2022-12-21T09:13:51.732Z"
   },
   {
    "duration": 0,
    "start_time": "2022-12-21T09:13:51.733Z"
   },
   {
    "duration": 0,
    "start_time": "2022-12-21T09:13:51.734Z"
   },
   {
    "duration": 0,
    "start_time": "2022-12-21T09:13:51.735Z"
   },
   {
    "duration": 10,
    "start_time": "2022-12-21T09:16:57.603Z"
   },
   {
    "duration": 99467,
    "start_time": "2022-12-21T09:17:17.434Z"
   },
   {
    "duration": 12,
    "start_time": "2022-12-21T09:19:00.418Z"
   },
   {
    "duration": 931,
    "start_time": "2022-12-21T09:19:02.334Z"
   },
   {
    "duration": 4,
    "start_time": "2022-12-21T09:19:11.490Z"
   },
   {
    "duration": 976,
    "start_time": "2022-12-21T09:19:33.580Z"
   },
   {
    "duration": 1409,
    "start_time": "2022-12-21T09:20:20.183Z"
   },
   {
    "duration": 873,
    "start_time": "2022-12-21T09:20:21.594Z"
   },
   {
    "duration": 13,
    "start_time": "2022-12-21T09:20:22.468Z"
   },
   {
    "duration": 39,
    "start_time": "2022-12-21T09:20:22.483Z"
   },
   {
    "duration": 252,
    "start_time": "2022-12-21T09:20:22.524Z"
   },
   {
    "duration": 7,
    "start_time": "2022-12-21T09:20:22.778Z"
   },
   {
    "duration": 1995,
    "start_time": "2022-12-21T09:20:22.786Z"
   },
   {
    "duration": 93017,
    "start_time": "2022-12-21T09:20:24.782Z"
   },
   {
    "duration": 2,
    "start_time": "2022-12-21T09:21:57.801Z"
   },
   {
    "duration": 28,
    "start_time": "2022-12-21T09:21:57.806Z"
   },
   {
    "duration": 13,
    "start_time": "2022-12-21T09:21:57.836Z"
   },
   {
    "duration": 10,
    "start_time": "2022-12-21T09:21:57.851Z"
   },
   {
    "duration": 38,
    "start_time": "2022-12-21T09:21:57.863Z"
   },
   {
    "duration": 86,
    "start_time": "2022-12-21T09:21:57.904Z"
   },
   {
    "duration": 4,
    "start_time": "2022-12-21T09:21:57.992Z"
   },
   {
    "duration": 6,
    "start_time": "2022-12-21T09:21:57.998Z"
   },
   {
    "duration": 21,
    "start_time": "2022-12-21T09:21:58.005Z"
   },
   {
    "duration": 12,
    "start_time": "2022-12-21T09:21:58.028Z"
   },
   {
    "duration": 205,
    "start_time": "2022-12-21T09:21:58.042Z"
   },
   {
    "duration": 0,
    "start_time": "2022-12-21T09:21:58.249Z"
   },
   {
    "duration": 0,
    "start_time": "2022-12-21T09:21:58.250Z"
   },
   {
    "duration": 0,
    "start_time": "2022-12-21T09:21:58.252Z"
   },
   {
    "duration": 0,
    "start_time": "2022-12-21T09:21:58.253Z"
   },
   {
    "duration": 0,
    "start_time": "2022-12-21T09:21:58.254Z"
   },
   {
    "duration": 0,
    "start_time": "2022-12-21T09:21:58.255Z"
   },
   {
    "duration": 0,
    "start_time": "2022-12-21T09:21:58.256Z"
   },
   {
    "duration": 0,
    "start_time": "2022-12-21T09:21:58.257Z"
   },
   {
    "duration": 0,
    "start_time": "2022-12-21T09:21:58.258Z"
   },
   {
    "duration": 5,
    "start_time": "2022-12-21T09:23:29.200Z"
   },
   {
    "duration": 88,
    "start_time": "2022-12-21T09:23:33.495Z"
   },
   {
    "duration": 1425,
    "start_time": "2022-12-21T09:23:50.484Z"
   },
   {
    "duration": 2454,
    "start_time": "2022-12-21T09:23:51.911Z"
   },
   {
    "duration": 14,
    "start_time": "2022-12-21T09:23:54.367Z"
   },
   {
    "duration": 31,
    "start_time": "2022-12-21T09:23:54.383Z"
   },
   {
    "duration": 235,
    "start_time": "2022-12-21T09:23:54.415Z"
   },
   {
    "duration": 5,
    "start_time": "2022-12-21T09:23:54.652Z"
   },
   {
    "duration": 2007,
    "start_time": "2022-12-21T09:23:54.659Z"
   },
   {
    "duration": 93033,
    "start_time": "2022-12-21T09:23:56.668Z"
   },
   {
    "duration": 3,
    "start_time": "2022-12-21T09:25:29.702Z"
   },
   {
    "duration": 42,
    "start_time": "2022-12-21T09:25:29.707Z"
   },
   {
    "duration": 14,
    "start_time": "2022-12-21T09:25:29.751Z"
   },
   {
    "duration": 6,
    "start_time": "2022-12-21T09:25:29.767Z"
   },
   {
    "duration": 47,
    "start_time": "2022-12-21T09:25:29.775Z"
   },
   {
    "duration": 77,
    "start_time": "2022-12-21T09:25:29.824Z"
   },
   {
    "duration": 5,
    "start_time": "2022-12-21T09:25:29.903Z"
   },
   {
    "duration": 14,
    "start_time": "2022-12-21T09:25:29.909Z"
   },
   {
    "duration": 25,
    "start_time": "2022-12-21T09:25:29.924Z"
   },
   {
    "duration": 10,
    "start_time": "2022-12-21T09:25:29.951Z"
   },
   {
    "duration": 99,
    "start_time": "2022-12-21T09:25:29.962Z"
   },
   {
    "duration": 1534,
    "start_time": "2022-12-21T09:27:54.433Z"
   },
   {
    "duration": 2395,
    "start_time": "2022-12-21T09:27:55.969Z"
   },
   {
    "duration": 15,
    "start_time": "2022-12-21T09:27:58.366Z"
   },
   {
    "duration": 37,
    "start_time": "2022-12-21T09:27:58.382Z"
   },
   {
    "duration": 245,
    "start_time": "2022-12-21T09:27:58.423Z"
   },
   {
    "duration": 6,
    "start_time": "2022-12-21T09:27:58.670Z"
   },
   {
    "duration": 1990,
    "start_time": "2022-12-21T09:27:58.677Z"
   },
   {
    "duration": 91155,
    "start_time": "2022-12-21T09:28:00.669Z"
   },
   {
    "duration": 11,
    "start_time": "2022-12-21T09:29:31.826Z"
   },
   {
    "duration": 26,
    "start_time": "2022-12-21T09:29:31.838Z"
   },
   {
    "duration": 5,
    "start_time": "2022-12-21T09:29:31.866Z"
   },
   {
    "duration": 27,
    "start_time": "2022-12-21T09:29:31.872Z"
   },
   {
    "duration": 67,
    "start_time": "2022-12-21T09:29:31.901Z"
   },
   {
    "duration": 71,
    "start_time": "2022-12-21T09:29:31.970Z"
   },
   {
    "duration": 4,
    "start_time": "2022-12-21T09:29:32.042Z"
   },
   {
    "duration": 20,
    "start_time": "2022-12-21T09:29:32.047Z"
   },
   {
    "duration": 22,
    "start_time": "2022-12-21T09:29:32.068Z"
   },
   {
    "duration": 14,
    "start_time": "2022-12-21T09:29:32.091Z"
   },
   {
    "duration": 104,
    "start_time": "2022-12-21T09:29:32.107Z"
   },
   {
    "duration": 52,
    "start_time": "2022-12-21T09:32:01.597Z"
   },
   {
    "duration": 1525,
    "start_time": "2022-12-21T09:32:23.947Z"
   },
   {
    "duration": 2268,
    "start_time": "2022-12-21T09:32:25.475Z"
   },
   {
    "duration": 13,
    "start_time": "2022-12-21T09:32:27.745Z"
   },
   {
    "duration": 42,
    "start_time": "2022-12-21T09:32:27.759Z"
   },
   {
    "duration": 215,
    "start_time": "2022-12-21T09:32:27.802Z"
   },
   {
    "duration": 5,
    "start_time": "2022-12-21T09:32:28.019Z"
   },
   {
    "duration": 1896,
    "start_time": "2022-12-21T09:32:28.026Z"
   },
   {
    "duration": 90800,
    "start_time": "2022-12-21T09:32:29.923Z"
   },
   {
    "duration": 3,
    "start_time": "2022-12-21T09:34:00.725Z"
   },
   {
    "duration": 84,
    "start_time": "2022-12-21T09:34:00.732Z"
   },
   {
    "duration": 37,
    "start_time": "2022-12-21T09:34:00.818Z"
   },
   {
    "duration": 52,
    "start_time": "2022-12-21T09:34:00.858Z"
   },
   {
    "duration": 74,
    "start_time": "2022-12-21T09:34:00.913Z"
   },
   {
    "duration": 112,
    "start_time": "2022-12-21T09:34:00.990Z"
   },
   {
    "duration": 6,
    "start_time": "2022-12-21T09:34:01.104Z"
   },
   {
    "duration": 24,
    "start_time": "2022-12-21T09:34:01.122Z"
   },
   {
    "duration": 39,
    "start_time": "2022-12-21T09:34:01.148Z"
   },
   {
    "duration": 31,
    "start_time": "2022-12-21T09:34:01.189Z"
   },
   {
    "duration": 126,
    "start_time": "2022-12-21T09:34:01.222Z"
   },
   {
    "duration": 1513,
    "start_time": "2022-12-21T09:49:25.411Z"
   },
   {
    "duration": 2296,
    "start_time": "2022-12-21T09:49:26.926Z"
   },
   {
    "duration": 14,
    "start_time": "2022-12-21T09:49:29.224Z"
   },
   {
    "duration": 36,
    "start_time": "2022-12-21T09:49:29.240Z"
   },
   {
    "duration": 229,
    "start_time": "2022-12-21T09:49:29.277Z"
   },
   {
    "duration": 17,
    "start_time": "2022-12-21T09:49:29.508Z"
   },
   {
    "duration": 1972,
    "start_time": "2022-12-21T09:49:29.527Z"
   },
   {
    "duration": 87027,
    "start_time": "2022-12-21T09:49:31.500Z"
   },
   {
    "duration": 3,
    "start_time": "2022-12-21T09:50:58.528Z"
   },
   {
    "duration": 17,
    "start_time": "2022-12-21T09:50:58.533Z"
   },
   {
    "duration": 9,
    "start_time": "2022-12-21T09:50:58.552Z"
   },
   {
    "duration": 9,
    "start_time": "2022-12-21T09:50:58.562Z"
   },
   {
    "duration": 38,
    "start_time": "2022-12-21T09:50:58.572Z"
   },
   {
    "duration": 67,
    "start_time": "2022-12-21T09:50:58.620Z"
   },
   {
    "duration": 4,
    "start_time": "2022-12-21T09:50:58.689Z"
   },
   {
    "duration": 10,
    "start_time": "2022-12-21T09:50:58.694Z"
   },
   {
    "duration": 22,
    "start_time": "2022-12-21T09:50:58.705Z"
   },
   {
    "duration": 5,
    "start_time": "2022-12-21T09:50:58.728Z"
   },
   {
    "duration": 4,
    "start_time": "2022-12-21T09:50:58.735Z"
   },
   {
    "duration": 48,
    "start_time": "2022-12-21T09:50:58.741Z"
   },
   {
    "duration": 48,
    "start_time": "2022-12-21T09:51:36.991Z"
   },
   {
    "duration": 133,
    "start_time": "2022-12-21T09:51:37.626Z"
   },
   {
    "duration": 9,
    "start_time": "2022-12-21T09:54:17.279Z"
   },
   {
    "duration": 56,
    "start_time": "2022-12-21T10:41:33.017Z"
   },
   {
    "duration": 6,
    "start_time": "2022-12-21T10:42:00.045Z"
   },
   {
    "duration": 1566,
    "start_time": "2022-12-21T10:42:06.176Z"
   },
   {
    "duration": 1494,
    "start_time": "2022-12-21T10:42:27.134Z"
   },
   {
    "duration": 2457,
    "start_time": "2022-12-21T10:42:28.632Z"
   },
   {
    "duration": 13,
    "start_time": "2022-12-21T10:42:31.091Z"
   },
   {
    "duration": 59,
    "start_time": "2022-12-21T10:42:31.105Z"
   },
   {
    "duration": 247,
    "start_time": "2022-12-21T10:42:31.166Z"
   },
   {
    "duration": 8,
    "start_time": "2022-12-21T10:42:31.415Z"
   },
   {
    "duration": 1981,
    "start_time": "2022-12-21T10:42:31.425Z"
   },
   {
    "duration": 91293,
    "start_time": "2022-12-21T10:42:33.407Z"
   },
   {
    "duration": 3,
    "start_time": "2022-12-21T10:44:04.701Z"
   },
   {
    "duration": 36,
    "start_time": "2022-12-21T10:44:04.705Z"
   },
   {
    "duration": 16,
    "start_time": "2022-12-21T10:44:04.743Z"
   },
   {
    "duration": 9,
    "start_time": "2022-12-21T10:44:04.761Z"
   },
   {
    "duration": 35,
    "start_time": "2022-12-21T10:44:04.772Z"
   },
   {
    "duration": 75,
    "start_time": "2022-12-21T10:44:04.810Z"
   },
   {
    "duration": 4,
    "start_time": "2022-12-21T10:44:04.887Z"
   },
   {
    "duration": 9,
    "start_time": "2022-12-21T10:44:04.892Z"
   },
   {
    "duration": 20,
    "start_time": "2022-12-21T10:44:04.903Z"
   },
   {
    "duration": 13,
    "start_time": "2022-12-21T10:44:04.924Z"
   },
   {
    "duration": 1605,
    "start_time": "2022-12-21T10:46:30.041Z"
   },
   {
    "duration": 2521,
    "start_time": "2022-12-21T10:46:31.648Z"
   },
   {
    "duration": 13,
    "start_time": "2022-12-21T10:46:34.171Z"
   },
   {
    "duration": 29,
    "start_time": "2022-12-21T10:46:34.186Z"
   },
   {
    "duration": 244,
    "start_time": "2022-12-21T10:46:34.220Z"
   },
   {
    "duration": 5,
    "start_time": "2022-12-21T10:46:34.466Z"
   },
   {
    "duration": 2002,
    "start_time": "2022-12-21T10:46:34.473Z"
   },
   {
    "duration": 9,
    "start_time": "2022-12-21T10:46:36.477Z"
   },
   {
    "duration": 48199,
    "start_time": "2022-12-21T10:46:36.487Z"
   },
   {
    "duration": 0,
    "start_time": "2022-12-21T10:47:24.689Z"
   },
   {
    "duration": 0,
    "start_time": "2022-12-21T10:47:24.690Z"
   },
   {
    "duration": 0,
    "start_time": "2022-12-21T10:47:24.691Z"
   },
   {
    "duration": 0,
    "start_time": "2022-12-21T10:47:24.692Z"
   },
   {
    "duration": 0,
    "start_time": "2022-12-21T10:47:24.693Z"
   },
   {
    "duration": 0,
    "start_time": "2022-12-21T10:47:24.694Z"
   },
   {
    "duration": 0,
    "start_time": "2022-12-21T10:47:24.695Z"
   },
   {
    "duration": 0,
    "start_time": "2022-12-21T10:47:24.696Z"
   },
   {
    "duration": 0,
    "start_time": "2022-12-21T10:47:24.697Z"
   },
   {
    "duration": 0,
    "start_time": "2022-12-21T10:47:24.699Z"
   },
   {
    "duration": 0,
    "start_time": "2022-12-21T10:47:24.700Z"
   },
   {
    "duration": 0,
    "start_time": "2022-12-21T10:47:24.701Z"
   },
   {
    "duration": 0,
    "start_time": "2022-12-21T10:47:24.703Z"
   },
   {
    "duration": 0,
    "start_time": "2022-12-21T10:47:24.703Z"
   },
   {
    "duration": 0,
    "start_time": "2022-12-21T10:47:24.704Z"
   },
   {
    "duration": 0,
    "start_time": "2022-12-21T10:47:24.705Z"
   },
   {
    "duration": 0,
    "start_time": "2022-12-21T10:47:24.707Z"
   },
   {
    "duration": 0,
    "start_time": "2022-12-21T10:47:24.708Z"
   },
   {
    "duration": 0,
    "start_time": "2022-12-21T10:47:24.709Z"
   },
   {
    "duration": 0,
    "start_time": "2022-12-21T10:47:24.710Z"
   },
   {
    "duration": 0,
    "start_time": "2022-12-21T10:47:24.711Z"
   },
   {
    "duration": 0,
    "start_time": "2022-12-21T10:47:24.712Z"
   },
   {
    "duration": 0,
    "start_time": "2022-12-21T10:47:24.713Z"
   },
   {
    "duration": 1551,
    "start_time": "2022-12-21T10:47:51.202Z"
   },
   {
    "duration": 932,
    "start_time": "2022-12-21T10:47:52.755Z"
   },
   {
    "duration": 13,
    "start_time": "2022-12-21T10:47:53.689Z"
   },
   {
    "duration": 45,
    "start_time": "2022-12-21T10:47:53.704Z"
   },
   {
    "duration": 243,
    "start_time": "2022-12-21T10:47:53.751Z"
   },
   {
    "duration": 5,
    "start_time": "2022-12-21T10:47:53.996Z"
   },
   {
    "duration": 2096,
    "start_time": "2022-12-21T10:47:54.002Z"
   },
   {
    "duration": 7,
    "start_time": "2022-12-21T10:47:56.099Z"
   },
   {
    "duration": 12,
    "start_time": "2022-12-21T10:47:56.108Z"
   },
   {
    "duration": 92436,
    "start_time": "2022-12-21T10:47:56.122Z"
   },
   {
    "duration": 19,
    "start_time": "2022-12-21T10:49:28.560Z"
   },
   {
    "duration": 24,
    "start_time": "2022-12-21T10:49:28.581Z"
   },
   {
    "duration": 23,
    "start_time": "2022-12-21T10:49:28.607Z"
   },
   {
    "duration": 61,
    "start_time": "2022-12-21T10:49:28.633Z"
   },
   {
    "duration": 82,
    "start_time": "2022-12-21T10:49:28.695Z"
   },
   {
    "duration": 5,
    "start_time": "2022-12-21T10:49:28.779Z"
   },
   {
    "duration": 13,
    "start_time": "2022-12-21T10:49:28.786Z"
   },
   {
    "duration": 21,
    "start_time": "2022-12-21T10:49:28.801Z"
   },
   {
    "duration": 34,
    "start_time": "2022-12-21T10:49:28.823Z"
   },
   {
    "duration": 1535,
    "start_time": "2022-12-21T10:53:25.612Z"
   },
   {
    "duration": 2399,
    "start_time": "2022-12-21T10:53:27.149Z"
   },
   {
    "duration": 12,
    "start_time": "2022-12-21T10:53:29.550Z"
   },
   {
    "duration": 32,
    "start_time": "2022-12-21T10:53:29.564Z"
   },
   {
    "duration": 226,
    "start_time": "2022-12-21T10:53:29.598Z"
   },
   {
    "duration": 11,
    "start_time": "2022-12-21T10:53:29.831Z"
   },
   {
    "duration": 1997,
    "start_time": "2022-12-21T10:53:29.843Z"
   },
   {
    "duration": 4,
    "start_time": "2022-12-21T10:53:31.842Z"
   },
   {
    "duration": 5,
    "start_time": "2022-12-21T10:53:31.848Z"
   },
   {
    "duration": 12,
    "start_time": "2022-12-21T10:53:31.855Z"
   },
   {
    "duration": 4,
    "start_time": "2022-12-21T10:53:31.868Z"
   },
   {
    "duration": 834663,
    "start_time": "2022-12-21T10:53:31.874Z"
   },
   {
    "duration": 0,
    "start_time": "2022-12-21T11:07:26.539Z"
   },
   {
    "duration": 0,
    "start_time": "2022-12-21T11:07:26.540Z"
   },
   {
    "duration": 0,
    "start_time": "2022-12-21T11:07:26.541Z"
   },
   {
    "duration": 0,
    "start_time": "2022-12-21T11:07:26.542Z"
   },
   {
    "duration": 0,
    "start_time": "2022-12-21T11:07:26.543Z"
   },
   {
    "duration": 0,
    "start_time": "2022-12-21T11:07:26.544Z"
   },
   {
    "duration": 0,
    "start_time": "2022-12-21T11:07:26.545Z"
   },
   {
    "duration": 0,
    "start_time": "2022-12-21T11:07:26.546Z"
   },
   {
    "duration": 0,
    "start_time": "2022-12-21T11:07:26.548Z"
   },
   {
    "duration": 0,
    "start_time": "2022-12-21T11:07:26.550Z"
   },
   {
    "duration": 0,
    "start_time": "2022-12-21T11:07:26.551Z"
   },
   {
    "duration": 0,
    "start_time": "2022-12-21T11:07:26.552Z"
   },
   {
    "duration": 0,
    "start_time": "2022-12-21T11:07:26.553Z"
   },
   {
    "duration": 0,
    "start_time": "2022-12-21T11:07:26.554Z"
   },
   {
    "duration": 0,
    "start_time": "2022-12-21T11:07:26.555Z"
   },
   {
    "duration": 0,
    "start_time": "2022-12-21T11:07:26.557Z"
   },
   {
    "duration": 0,
    "start_time": "2022-12-21T11:07:26.558Z"
   },
   {
    "duration": 0,
    "start_time": "2022-12-21T11:07:26.559Z"
   },
   {
    "duration": 0,
    "start_time": "2022-12-21T11:07:26.560Z"
   },
   {
    "duration": 0,
    "start_time": "2022-12-21T11:07:26.561Z"
   },
   {
    "duration": 0,
    "start_time": "2022-12-21T11:07:26.567Z"
   },
   {
    "duration": 0,
    "start_time": "2022-12-21T11:07:26.568Z"
   },
   {
    "duration": 0,
    "start_time": "2022-12-21T11:07:26.569Z"
   },
   {
    "duration": 1553,
    "start_time": "2022-12-21T11:08:24.339Z"
   },
   {
    "duration": 886,
    "start_time": "2022-12-21T11:08:25.894Z"
   },
   {
    "duration": 13,
    "start_time": "2022-12-21T11:08:26.784Z"
   },
   {
    "duration": 41,
    "start_time": "2022-12-21T11:08:26.798Z"
   },
   {
    "duration": 217,
    "start_time": "2022-12-21T11:08:26.841Z"
   },
   {
    "duration": 5,
    "start_time": "2022-12-21T11:08:27.060Z"
   },
   {
    "duration": 1903,
    "start_time": "2022-12-21T11:08:27.066Z"
   },
   {
    "duration": 9,
    "start_time": "2022-12-21T11:08:28.971Z"
   },
   {
    "duration": 8394,
    "start_time": "2022-12-21T11:08:28.981Z"
   },
   {
    "duration": 0,
    "start_time": "2022-12-21T11:08:37.377Z"
   },
   {
    "duration": 0,
    "start_time": "2022-12-21T11:08:37.378Z"
   },
   {
    "duration": 0,
    "start_time": "2022-12-21T11:08:37.379Z"
   },
   {
    "duration": 0,
    "start_time": "2022-12-21T11:08:37.380Z"
   },
   {
    "duration": 0,
    "start_time": "2022-12-21T11:08:37.380Z"
   },
   {
    "duration": 0,
    "start_time": "2022-12-21T11:08:37.382Z"
   },
   {
    "duration": 0,
    "start_time": "2022-12-21T11:08:37.383Z"
   },
   {
    "duration": 0,
    "start_time": "2022-12-21T11:08:37.384Z"
   },
   {
    "duration": 0,
    "start_time": "2022-12-21T11:08:37.385Z"
   },
   {
    "duration": 0,
    "start_time": "2022-12-21T11:08:37.387Z"
   },
   {
    "duration": 0,
    "start_time": "2022-12-21T11:08:37.388Z"
   },
   {
    "duration": 0,
    "start_time": "2022-12-21T11:08:37.389Z"
   },
   {
    "duration": 0,
    "start_time": "2022-12-21T11:08:37.390Z"
   },
   {
    "duration": 0,
    "start_time": "2022-12-21T11:08:37.391Z"
   },
   {
    "duration": 0,
    "start_time": "2022-12-21T11:08:37.392Z"
   },
   {
    "duration": 0,
    "start_time": "2022-12-21T11:08:37.393Z"
   },
   {
    "duration": 0,
    "start_time": "2022-12-21T11:08:37.394Z"
   },
   {
    "duration": 0,
    "start_time": "2022-12-21T11:08:37.395Z"
   },
   {
    "duration": 0,
    "start_time": "2022-12-21T11:08:37.396Z"
   },
   {
    "duration": 0,
    "start_time": "2022-12-21T11:08:37.397Z"
   },
   {
    "duration": 0,
    "start_time": "2022-12-21T11:08:37.399Z"
   },
   {
    "duration": 0,
    "start_time": "2022-12-21T11:08:37.399Z"
   },
   {
    "duration": 0,
    "start_time": "2022-12-21T11:08:37.400Z"
   },
   {
    "duration": 0,
    "start_time": "2022-12-21T11:08:37.401Z"
   },
   {
    "duration": 0,
    "start_time": "2022-12-21T11:08:37.403Z"
   },
   {
    "duration": 0,
    "start_time": "2022-12-21T11:08:37.404Z"
   },
   {
    "duration": 1541,
    "start_time": "2022-12-21T11:09:08.003Z"
   },
   {
    "duration": 831,
    "start_time": "2022-12-21T11:09:09.546Z"
   },
   {
    "duration": 12,
    "start_time": "2022-12-21T11:09:10.379Z"
   },
   {
    "duration": 39,
    "start_time": "2022-12-21T11:09:10.392Z"
   },
   {
    "duration": 217,
    "start_time": "2022-12-21T11:09:10.434Z"
   },
   {
    "duration": 5,
    "start_time": "2022-12-21T11:09:10.653Z"
   },
   {
    "duration": 1942,
    "start_time": "2022-12-21T11:09:10.659Z"
   },
   {
    "duration": 8,
    "start_time": "2022-12-21T11:09:12.603Z"
   },
   {
    "duration": 89189,
    "start_time": "2022-12-21T11:09:12.613Z"
   },
   {
    "duration": 3,
    "start_time": "2022-12-21T11:10:41.804Z"
   },
   {
    "duration": 25,
    "start_time": "2022-12-21T11:10:41.808Z"
   },
   {
    "duration": 8,
    "start_time": "2022-12-21T11:10:41.834Z"
   },
   {
    "duration": 5,
    "start_time": "2022-12-21T11:10:41.843Z"
   },
   {
    "duration": 5,
    "start_time": "2022-12-21T11:10:41.852Z"
   },
   {
    "duration": 8,
    "start_time": "2022-12-21T11:10:41.859Z"
   },
   {
    "duration": 7,
    "start_time": "2022-12-21T11:10:41.868Z"
   },
   {
    "duration": 38,
    "start_time": "2022-12-21T11:10:41.877Z"
   },
   {
    "duration": 77,
    "start_time": "2022-12-21T11:10:41.917Z"
   },
   {
    "duration": 4,
    "start_time": "2022-12-21T11:10:41.995Z"
   },
   {
    "duration": 7,
    "start_time": "2022-12-21T11:10:42.001Z"
   },
   {
    "duration": 8,
    "start_time": "2022-12-21T11:10:42.030Z"
   },
   {
    "duration": 5,
    "start_time": "2022-12-21T11:10:42.040Z"
   },
   {
    "duration": 3,
    "start_time": "2022-12-21T11:10:42.046Z"
   },
   {
    "duration": 126,
    "start_time": "2022-12-21T11:10:42.051Z"
   },
   {
    "duration": 0,
    "start_time": "2022-12-21T11:10:42.179Z"
   },
   {
    "duration": 0,
    "start_time": "2022-12-21T11:10:42.180Z"
   },
   {
    "duration": 0,
    "start_time": "2022-12-21T11:10:42.181Z"
   },
   {
    "duration": 0,
    "start_time": "2022-12-21T11:10:42.182Z"
   },
   {
    "duration": 0,
    "start_time": "2022-12-21T11:10:42.183Z"
   },
   {
    "duration": 0,
    "start_time": "2022-12-21T11:10:42.184Z"
   },
   {
    "duration": 0,
    "start_time": "2022-12-21T11:10:42.185Z"
   },
   {
    "duration": 0,
    "start_time": "2022-12-21T11:10:42.186Z"
   },
   {
    "duration": 0,
    "start_time": "2022-12-21T11:10:42.187Z"
   },
   {
    "duration": 0,
    "start_time": "2022-12-21T11:10:42.188Z"
   },
   {
    "duration": 0,
    "start_time": "2022-12-21T11:10:42.189Z"
   },
   {
    "duration": 86,
    "start_time": "2022-12-21T11:12:28.990Z"
   },
   {
    "duration": 1606,
    "start_time": "2022-12-21T11:18:14.004Z"
   },
   {
    "duration": 2421,
    "start_time": "2022-12-21T11:18:15.612Z"
   },
   {
    "duration": 14,
    "start_time": "2022-12-21T11:18:18.034Z"
   },
   {
    "duration": 29,
    "start_time": "2022-12-21T11:18:18.049Z"
   },
   {
    "duration": 216,
    "start_time": "2022-12-21T11:18:18.079Z"
   },
   {
    "duration": 5,
    "start_time": "2022-12-21T11:18:18.297Z"
   },
   {
    "duration": 1899,
    "start_time": "2022-12-21T11:18:18.304Z"
   },
   {
    "duration": 89141,
    "start_time": "2022-12-21T11:18:20.205Z"
   },
   {
    "duration": 3,
    "start_time": "2022-12-21T11:19:49.347Z"
   },
   {
    "duration": 8,
    "start_time": "2022-12-21T11:19:49.352Z"
   },
   {
    "duration": 7,
    "start_time": "2022-12-21T11:19:49.362Z"
   },
   {
    "duration": 5,
    "start_time": "2022-12-21T11:19:49.370Z"
   },
   {
    "duration": 6,
    "start_time": "2022-12-21T11:19:49.376Z"
   },
   {
    "duration": 17,
    "start_time": "2022-12-21T11:19:49.383Z"
   },
   {
    "duration": 8,
    "start_time": "2022-12-21T11:19:49.402Z"
   },
   {
    "duration": 38,
    "start_time": "2022-12-21T11:19:49.411Z"
   },
   {
    "duration": 82,
    "start_time": "2022-12-21T11:19:49.451Z"
   },
   {
    "duration": 5,
    "start_time": "2022-12-21T11:19:49.535Z"
   },
   {
    "duration": 12,
    "start_time": "2022-12-21T11:19:49.542Z"
   },
   {
    "duration": 18,
    "start_time": "2022-12-21T11:19:49.556Z"
   },
   {
    "duration": 8,
    "start_time": "2022-12-21T11:19:49.575Z"
   },
   {
    "duration": 2,
    "start_time": "2022-12-21T11:19:49.584Z"
   },
   {
    "duration": 84,
    "start_time": "2022-12-21T11:19:49.588Z"
   },
   {
    "duration": 9,
    "start_time": "2022-12-21T11:19:49.674Z"
   },
   {
    "duration": 22,
    "start_time": "2022-12-21T11:19:49.685Z"
   },
   {
    "duration": 24,
    "start_time": "2022-12-21T11:19:49.708Z"
   },
   {
    "duration": 8,
    "start_time": "2022-12-21T11:19:49.734Z"
   },
   {
    "duration": 4640,
    "start_time": "2022-12-21T11:19:49.744Z"
   },
   {
    "duration": 1572,
    "start_time": "2022-12-21T11:19:54.386Z"
   },
   {
    "duration": 60737,
    "start_time": "2022-12-21T11:19:55.959Z"
   },
   {
    "duration": 35,
    "start_time": "2022-12-21T11:20:56.698Z"
   },
   {
    "duration": 1625,
    "start_time": "2022-12-21T11:28:10.052Z"
   },
   {
    "duration": 2907,
    "start_time": "2022-12-21T11:28:11.679Z"
   },
   {
    "duration": 16,
    "start_time": "2022-12-21T11:28:14.588Z"
   },
   {
    "duration": 44,
    "start_time": "2022-12-21T11:28:14.606Z"
   },
   {
    "duration": 231,
    "start_time": "2022-12-21T11:28:14.654Z"
   },
   {
    "duration": 5,
    "start_time": "2022-12-21T11:28:14.887Z"
   },
   {
    "duration": 1980,
    "start_time": "2022-12-21T11:28:14.893Z"
   },
   {
    "duration": 96300,
    "start_time": "2022-12-21T11:28:16.875Z"
   },
   {
    "duration": 4,
    "start_time": "2022-12-21T11:29:53.177Z"
   },
   {
    "duration": 21,
    "start_time": "2022-12-21T11:29:53.182Z"
   },
   {
    "duration": 48,
    "start_time": "2022-12-21T11:29:53.204Z"
   },
   {
    "duration": 80,
    "start_time": "2022-12-21T11:29:53.254Z"
   },
   {
    "duration": 5,
    "start_time": "2022-12-21T11:29:53.339Z"
   },
   {
    "duration": 14,
    "start_time": "2022-12-21T11:29:53.347Z"
   },
   {
    "duration": 29,
    "start_time": "2022-12-21T11:29:53.362Z"
   },
   {
    "duration": 6,
    "start_time": "2022-12-21T11:29:53.392Z"
   },
   {
    "duration": 92,
    "start_time": "2022-12-21T11:29:53.400Z"
   },
   {
    "duration": 9,
    "start_time": "2022-12-21T11:29:53.494Z"
   },
   {
    "duration": 13,
    "start_time": "2022-12-21T11:29:53.505Z"
   },
   {
    "duration": 5184,
    "start_time": "2022-12-21T11:29:53.521Z"
   },
   {
    "duration": 1679,
    "start_time": "2022-12-21T11:29:58.707Z"
   },
   {
    "duration": 64068,
    "start_time": "2022-12-21T11:30:00.388Z"
   },
   {
    "duration": 22,
    "start_time": "2022-12-21T11:31:04.458Z"
   },
   {
    "duration": 47,
    "start_time": "2022-12-21T11:44:37.412Z"
   },
   {
    "duration": 1548,
    "start_time": "2022-12-21T11:45:08.479Z"
   },
   {
    "duration": 2297,
    "start_time": "2022-12-21T11:45:10.028Z"
   },
   {
    "duration": 16,
    "start_time": "2022-12-21T11:45:12.326Z"
   },
   {
    "duration": 34,
    "start_time": "2022-12-21T11:45:12.345Z"
   },
   {
    "duration": 227,
    "start_time": "2022-12-21T11:45:12.381Z"
   },
   {
    "duration": 14,
    "start_time": "2022-12-21T11:45:12.610Z"
   },
   {
    "duration": 1821,
    "start_time": "2022-12-21T11:45:12.626Z"
   },
   {
    "duration": 91801,
    "start_time": "2022-12-21T11:45:14.448Z"
   },
   {
    "duration": 4,
    "start_time": "2022-12-21T11:46:46.251Z"
   },
   {
    "duration": 11,
    "start_time": "2022-12-21T11:46:46.257Z"
   },
   {
    "duration": 39,
    "start_time": "2022-12-21T11:46:46.269Z"
   },
   {
    "duration": 75,
    "start_time": "2022-12-21T11:46:46.310Z"
   },
   {
    "duration": 4,
    "start_time": "2022-12-21T11:46:46.387Z"
   },
   {
    "duration": 10,
    "start_time": "2022-12-21T11:46:46.393Z"
   },
   {
    "duration": 18,
    "start_time": "2022-12-21T11:46:46.404Z"
   },
   {
    "duration": 6,
    "start_time": "2022-12-21T11:46:46.423Z"
   },
   {
    "duration": 95,
    "start_time": "2022-12-21T11:46:46.430Z"
   },
   {
    "duration": 10,
    "start_time": "2022-12-21T11:46:46.526Z"
   },
   {
    "duration": 9,
    "start_time": "2022-12-21T11:46:46.538Z"
   },
   {
    "duration": 4455,
    "start_time": "2022-12-21T11:46:46.549Z"
   },
   {
    "duration": 1508,
    "start_time": "2022-12-21T11:46:51.005Z"
   },
   {
    "duration": 58939,
    "start_time": "2022-12-21T11:46:52.515Z"
   },
   {
    "duration": 17,
    "start_time": "2022-12-21T11:47:51.456Z"
   },
   {
    "duration": 1529,
    "start_time": "2022-12-21T11:48:42.725Z"
   },
   {
    "duration": 2288,
    "start_time": "2022-12-21T11:48:44.257Z"
   },
   {
    "duration": 14,
    "start_time": "2022-12-21T11:48:46.546Z"
   },
   {
    "duration": 56,
    "start_time": "2022-12-21T11:48:46.562Z"
   },
   {
    "duration": 225,
    "start_time": "2022-12-21T11:48:46.619Z"
   },
   {
    "duration": 5,
    "start_time": "2022-12-21T11:48:46.846Z"
   },
   {
    "duration": 1876,
    "start_time": "2022-12-21T11:48:46.852Z"
   },
   {
    "duration": 92161,
    "start_time": "2022-12-21T11:48:48.730Z"
   },
   {
    "duration": 4,
    "start_time": "2022-12-21T11:50:20.893Z"
   },
   {
    "duration": 24,
    "start_time": "2022-12-21T11:50:20.899Z"
   },
   {
    "duration": 39,
    "start_time": "2022-12-21T11:50:20.925Z"
   },
   {
    "duration": 65,
    "start_time": "2022-12-21T11:50:20.965Z"
   },
   {
    "duration": 3,
    "start_time": "2022-12-21T11:50:21.032Z"
   },
   {
    "duration": 8,
    "start_time": "2022-12-21T11:50:21.036Z"
   },
   {
    "duration": 15,
    "start_time": "2022-12-21T11:50:21.045Z"
   },
   {
    "duration": 5,
    "start_time": "2022-12-21T11:50:21.062Z"
   },
   {
    "duration": 115,
    "start_time": "2022-12-21T11:50:21.069Z"
   },
   {
    "duration": 9,
    "start_time": "2022-12-21T11:50:21.186Z"
   },
   {
    "duration": 6,
    "start_time": "2022-12-21T11:50:21.197Z"
   },
   {
    "duration": 4331,
    "start_time": "2022-12-21T11:50:21.204Z"
   },
   {
    "duration": 1519,
    "start_time": "2022-12-21T11:50:25.536Z"
   },
   {
    "duration": 2,
    "start_time": "2022-12-21T11:50:27.057Z"
   },
   {
    "duration": 8,
    "start_time": "2022-12-21T11:50:27.061Z"
   },
   {
    "duration": 1602,
    "start_time": "2022-12-21T11:51:27.070Z"
   },
   {
    "duration": 2471,
    "start_time": "2022-12-21T11:51:28.674Z"
   },
   {
    "duration": 14,
    "start_time": "2022-12-21T11:51:31.146Z"
   },
   {
    "duration": 50,
    "start_time": "2022-12-21T11:51:31.161Z"
   },
   {
    "duration": 235,
    "start_time": "2022-12-21T11:51:31.213Z"
   },
   {
    "duration": 6,
    "start_time": "2022-12-21T11:51:31.449Z"
   },
   {
    "duration": 1878,
    "start_time": "2022-12-21T11:51:31.457Z"
   },
   {
    "duration": 111540,
    "start_time": "2022-12-21T11:51:33.338Z"
   },
   {
    "duration": 4,
    "start_time": "2022-12-21T11:53:24.880Z"
   },
   {
    "duration": 7,
    "start_time": "2022-12-21T11:53:24.885Z"
   },
   {
    "duration": 39,
    "start_time": "2022-12-21T11:53:24.894Z"
   },
   {
    "duration": 76,
    "start_time": "2022-12-21T11:53:24.936Z"
   },
   {
    "duration": 4,
    "start_time": "2022-12-21T11:53:25.013Z"
   },
   {
    "duration": 36,
    "start_time": "2022-12-21T11:53:25.021Z"
   },
   {
    "duration": 11,
    "start_time": "2022-12-21T11:53:25.059Z"
   },
   {
    "duration": 5,
    "start_time": "2022-12-21T11:53:25.072Z"
   },
   {
    "duration": 97,
    "start_time": "2022-12-21T11:53:25.078Z"
   },
   {
    "duration": 2,
    "start_time": "2022-12-21T11:53:25.177Z"
   },
   {
    "duration": 5272,
    "start_time": "2022-12-21T11:53:25.180Z"
   },
   {
    "duration": 1755,
    "start_time": "2022-12-21T11:53:30.455Z"
   },
   {
    "duration": 71084,
    "start_time": "2022-12-21T11:53:32.211Z"
   },
   {
    "duration": 27,
    "start_time": "2022-12-21T11:54:43.297Z"
   },
   {
    "duration": 2,
    "start_time": "2022-12-21T11:54:43.326Z"
   },
   {
    "duration": 156,
    "start_time": "2022-12-21T11:54:43.330Z"
   },
   {
    "duration": 0,
    "start_time": "2022-12-21T11:54:43.488Z"
   },
   {
    "duration": 0,
    "start_time": "2022-12-21T11:54:43.489Z"
   },
   {
    "duration": 544885,
    "start_time": "2022-12-21T12:01:54.846Z"
   },
   {
    "duration": 42491,
    "start_time": "2022-12-21T12:11:10.694Z"
   },
   {
    "duration": 542477,
    "start_time": "2022-12-21T12:12:21.519Z"
   },
   {
    "duration": 20819,
    "start_time": "2022-12-21T12:29:04.847Z"
   },
   {
    "duration": 846642,
    "start_time": "2022-12-21T12:29:27.448Z"
   },
   {
    "duration": 1747,
    "start_time": "2022-12-21T12:44:57.312Z"
   },
   {
    "duration": 2547,
    "start_time": "2022-12-21T12:44:59.061Z"
   },
   {
    "duration": 15,
    "start_time": "2022-12-21T12:45:01.610Z"
   },
   {
    "duration": 119,
    "start_time": "2022-12-21T12:45:01.628Z"
   },
   {
    "duration": 255,
    "start_time": "2022-12-21T12:45:01.749Z"
   },
   {
    "duration": 16,
    "start_time": "2022-12-21T12:45:02.006Z"
   },
   {
    "duration": 2024,
    "start_time": "2022-12-21T12:45:02.024Z"
   },
   {
    "duration": 25204,
    "start_time": "2022-12-21T12:45:04.049Z"
   },
   {
    "duration": 0,
    "start_time": "2022-12-21T12:45:29.255Z"
   },
   {
    "duration": 0,
    "start_time": "2022-12-21T12:45:29.257Z"
   },
   {
    "duration": 0,
    "start_time": "2022-12-21T12:45:29.258Z"
   },
   {
    "duration": 0,
    "start_time": "2022-12-21T12:45:29.259Z"
   },
   {
    "duration": 0,
    "start_time": "2022-12-21T12:45:29.259Z"
   },
   {
    "duration": 0,
    "start_time": "2022-12-21T12:45:29.260Z"
   },
   {
    "duration": 0,
    "start_time": "2022-12-21T12:45:29.261Z"
   },
   {
    "duration": 0,
    "start_time": "2022-12-21T12:45:29.262Z"
   },
   {
    "duration": 0,
    "start_time": "2022-12-21T12:45:29.263Z"
   },
   {
    "duration": 0,
    "start_time": "2022-12-21T12:45:29.264Z"
   },
   {
    "duration": 0,
    "start_time": "2022-12-21T12:45:29.265Z"
   },
   {
    "duration": 0,
    "start_time": "2022-12-21T12:45:29.266Z"
   },
   {
    "duration": 0,
    "start_time": "2022-12-21T12:45:29.267Z"
   },
   {
    "duration": 0,
    "start_time": "2022-12-21T12:45:29.268Z"
   },
   {
    "duration": 0,
    "start_time": "2022-12-21T12:45:29.269Z"
   },
   {
    "duration": 0,
    "start_time": "2022-12-21T12:45:29.270Z"
   },
   {
    "duration": 0,
    "start_time": "2022-12-21T12:45:29.271Z"
   },
   {
    "duration": 0,
    "start_time": "2022-12-21T12:45:29.272Z"
   },
   {
    "duration": 0,
    "start_time": "2022-12-21T12:45:29.273Z"
   },
   {
    "duration": 0,
    "start_time": "2022-12-21T12:45:29.274Z"
   },
   {
    "duration": 1480,
    "start_time": "2022-12-21T12:45:42.696Z"
   },
   {
    "duration": 880,
    "start_time": "2022-12-21T12:45:44.178Z"
   },
   {
    "duration": 12,
    "start_time": "2022-12-21T12:45:45.060Z"
   },
   {
    "duration": 28,
    "start_time": "2022-12-21T12:45:45.075Z"
   },
   {
    "duration": 257,
    "start_time": "2022-12-21T12:45:45.121Z"
   },
   {
    "duration": 9,
    "start_time": "2022-12-21T12:45:45.380Z"
   },
   {
    "duration": 2032,
    "start_time": "2022-12-21T12:45:45.391Z"
   },
   {
    "duration": 91879,
    "start_time": "2022-12-21T12:45:47.426Z"
   },
   {
    "duration": 4,
    "start_time": "2022-12-21T12:47:19.307Z"
   },
   {
    "duration": 4,
    "start_time": "2022-12-21T12:47:19.321Z"
   },
   {
    "duration": 52,
    "start_time": "2022-12-21T12:47:19.327Z"
   },
   {
    "duration": 75,
    "start_time": "2022-12-21T12:47:19.381Z"
   },
   {
    "duration": 4,
    "start_time": "2022-12-21T12:47:19.458Z"
   },
   {
    "duration": 23,
    "start_time": "2022-12-21T12:47:19.463Z"
   },
   {
    "duration": 10,
    "start_time": "2022-12-21T12:47:19.488Z"
   },
   {
    "duration": 5,
    "start_time": "2022-12-21T12:47:19.499Z"
   },
   {
    "duration": 96,
    "start_time": "2022-12-21T12:47:19.506Z"
   },
   {
    "duration": 3,
    "start_time": "2022-12-21T12:47:19.603Z"
   },
   {
    "duration": 4798,
    "start_time": "2022-12-21T12:47:19.607Z"
   },
   {
    "duration": 1644,
    "start_time": "2022-12-21T12:47:24.406Z"
   },
   {
    "duration": 63085,
    "start_time": "2022-12-21T12:47:26.051Z"
   },
   {
    "duration": 20,
    "start_time": "2022-12-21T12:48:29.138Z"
   },
   {
    "duration": 3,
    "start_time": "2022-12-21T12:48:29.160Z"
   },
   {
    "duration": 147,
    "start_time": "2022-12-21T12:48:29.164Z"
   },
   {
    "duration": 0,
    "start_time": "2022-12-21T12:48:29.313Z"
   },
   {
    "duration": 0,
    "start_time": "2022-12-21T12:48:29.321Z"
   },
   {
    "duration": 0,
    "start_time": "2022-12-21T12:48:29.323Z"
   },
   {
    "duration": 0,
    "start_time": "2022-12-21T12:48:29.324Z"
   },
   {
    "duration": 6,
    "start_time": "2022-12-21T12:49:41.464Z"
   },
   {
    "duration": 20638,
    "start_time": "2022-12-21T12:49:46.171Z"
   },
   {
    "duration": 17613,
    "start_time": "2022-12-21T12:50:26.933Z"
   },
   {
    "duration": 707870,
    "start_time": "2022-12-21T12:50:49.221Z"
   },
   {
    "duration": 70296,
    "start_time": "2022-12-21T13:02:41.562Z"
   },
   {
    "duration": 12,
    "start_time": "2022-12-21T13:04:58.007Z"
   },
   {
    "duration": 8,
    "start_time": "2022-12-21T13:05:19.998Z"
   },
   {
    "duration": 1898,
    "start_time": "2022-12-21T13:05:37.713Z"
   },
   {
    "duration": 2555,
    "start_time": "2022-12-21T13:05:39.614Z"
   },
   {
    "duration": 14,
    "start_time": "2022-12-21T13:05:42.171Z"
   },
   {
    "duration": 30,
    "start_time": "2022-12-21T13:05:42.187Z"
   },
   {
    "duration": 272,
    "start_time": "2022-12-21T13:05:42.218Z"
   },
   {
    "duration": 6,
    "start_time": "2022-12-21T13:05:42.491Z"
   },
   {
    "duration": 2133,
    "start_time": "2022-12-21T13:05:42.499Z"
   },
   {
    "duration": 102044,
    "start_time": "2022-12-21T13:05:44.639Z"
   },
   {
    "duration": 5,
    "start_time": "2022-12-21T13:07:26.684Z"
   },
   {
    "duration": 21,
    "start_time": "2022-12-21T13:07:26.691Z"
   },
   {
    "duration": 53,
    "start_time": "2022-12-21T13:07:26.714Z"
   },
   {
    "duration": 72,
    "start_time": "2022-12-21T13:07:26.769Z"
   },
   {
    "duration": 4,
    "start_time": "2022-12-21T13:07:26.843Z"
   },
   {
    "duration": 8,
    "start_time": "2022-12-21T13:07:26.848Z"
   },
   {
    "duration": 14,
    "start_time": "2022-12-21T13:07:26.857Z"
   },
   {
    "duration": 5,
    "start_time": "2022-12-21T13:07:26.872Z"
   },
   {
    "duration": 109,
    "start_time": "2022-12-21T13:07:26.878Z"
   },
   {
    "duration": 3,
    "start_time": "2022-12-21T13:07:26.989Z"
   },
   {
    "duration": 4825,
    "start_time": "2022-12-21T13:07:26.993Z"
   },
   {
    "duration": 1624,
    "start_time": "2022-12-21T13:07:31.822Z"
   },
   {
    "duration": 70346,
    "start_time": "2022-12-21T13:07:33.447Z"
   },
   {
    "duration": 26,
    "start_time": "2022-12-21T13:08:43.796Z"
   },
   {
    "duration": 18102,
    "start_time": "2022-12-21T13:08:43.824Z"
   },
   {
    "duration": 173248,
    "start_time": "2022-12-21T13:09:01.928Z"
   },
   {
    "duration": 0,
    "start_time": "2022-12-21T13:11:55.177Z"
   },
   {
    "duration": 154249,
    "start_time": "2022-12-21T13:18:23.901Z"
   },
   {
    "duration": 162707,
    "start_time": "2022-12-21T13:23:33.555Z"
   },
   {
    "duration": 154128,
    "start_time": "2022-12-21T13:32:57.236Z"
   },
   {
    "duration": 8,
    "start_time": "2022-12-21T13:35:54.901Z"
   },
   {
    "duration": 2535,
    "start_time": "2022-12-22T20:39:55.564Z"
   },
   {
    "duration": 2256,
    "start_time": "2022-12-22T20:39:58.101Z"
   },
   {
    "duration": 14,
    "start_time": "2022-12-22T20:40:00.358Z"
   },
   {
    "duration": 51,
    "start_time": "2022-12-22T20:40:00.373Z"
   },
   {
    "duration": 236,
    "start_time": "2022-12-22T20:40:00.427Z"
   },
   {
    "duration": 6,
    "start_time": "2022-12-22T20:40:00.665Z"
   },
   {
    "duration": 1948,
    "start_time": "2022-12-22T20:40:00.673Z"
   },
   {
    "duration": 2524,
    "start_time": "2022-12-22T20:41:11.338Z"
   },
   {
    "duration": 2234,
    "start_time": "2022-12-22T20:41:13.864Z"
   },
   {
    "duration": 15,
    "start_time": "2022-12-22T20:41:16.100Z"
   },
   {
    "duration": 43,
    "start_time": "2022-12-22T20:41:16.117Z"
   },
   {
    "duration": 246,
    "start_time": "2022-12-22T20:41:16.162Z"
   },
   {
    "duration": 7,
    "start_time": "2022-12-22T20:41:16.413Z"
   },
   {
    "duration": 21,
    "start_time": "2022-12-22T20:41:16.422Z"
   },
   {
    "duration": 720,
    "start_time": "2022-12-22T20:41:16.447Z"
   },
   {
    "duration": 5,
    "start_time": "2022-12-22T20:41:17.170Z"
   },
   {
    "duration": 12,
    "start_time": "2022-12-22T20:41:17.177Z"
   },
   {
    "duration": 1118,
    "start_time": "2022-12-23T06:14:56.988Z"
   },
   {
    "duration": 1574,
    "start_time": "2022-12-23T06:15:01.426Z"
   },
   {
    "duration": 13239,
    "start_time": "2022-12-23T07:03:22.614Z"
   },
   {
    "duration": 2662,
    "start_time": "2022-12-23T07:03:35.855Z"
   },
   {
    "duration": 2263,
    "start_time": "2022-12-23T07:03:38.519Z"
   },
   {
    "duration": 14,
    "start_time": "2022-12-23T07:03:42.724Z"
   },
   {
    "duration": 39,
    "start_time": "2022-12-23T07:03:45.957Z"
   },
   {
    "duration": 223,
    "start_time": "2022-12-23T07:03:46.895Z"
   },
   {
    "duration": 8,
    "start_time": "2022-12-23T07:03:48.142Z"
   },
   {
    "duration": 32,
    "start_time": "2022-12-23T07:03:52.436Z"
   },
   {
    "duration": 56,
    "start_time": "2022-12-23T07:04:03.717Z"
   },
   {
    "duration": 395,
    "start_time": "2022-12-23T07:04:50.259Z"
   },
   {
    "duration": 8522,
    "start_time": "2022-12-23T07:09:56.506Z"
   },
   {
    "duration": 2361557,
    "start_time": "2022-12-23T07:10:41.913Z"
   },
   {
    "duration": 6,
    "start_time": "2022-12-23T07:51:49.653Z"
   },
   {
    "duration": 22,
    "start_time": "2022-12-23T08:01:11.374Z"
   },
   {
    "duration": 740,
    "start_time": "2022-12-23T08:01:17.233Z"
   },
   {
    "duration": 20,
    "start_time": "2022-12-23T08:01:23.505Z"
   },
   {
    "duration": 28,
    "start_time": "2022-12-23T08:01:40.317Z"
   },
   {
    "duration": 86,
    "start_time": "2022-12-23T08:01:40.583Z"
   },
   {
    "duration": 4,
    "start_time": "2022-12-23T08:01:41.073Z"
   },
   {
    "duration": 4,
    "start_time": "2022-12-23T08:01:41.579Z"
   },
   {
    "duration": 7,
    "start_time": "2022-12-23T08:01:42.506Z"
   },
   {
    "duration": 7,
    "start_time": "2022-12-23T08:01:45.376Z"
   },
   {
    "duration": 105,
    "start_time": "2022-12-23T08:01:46.370Z"
   },
   {
    "duration": 1506369,
    "start_time": "2022-12-23T08:01:50.488Z"
   },
   {
    "duration": 21,
    "start_time": "2022-12-23T08:27:27.348Z"
   },
   {
    "duration": 20,
    "start_time": "2022-12-23T08:27:30.808Z"
   },
   {
    "duration": 3,
    "start_time": "2022-12-23T08:28:00.915Z"
   },
   {
    "duration": 26640,
    "start_time": "2022-12-23T08:28:01.449Z"
   },
   {
    "duration": 70745,
    "start_time": "2022-12-23T08:28:28.091Z"
   },
   {
    "duration": 21,
    "start_time": "2022-12-23T08:30:12.547Z"
   },
   {
    "duration": 21,
    "start_time": "2022-12-23T08:31:47.667Z"
   },
   {
    "duration": 24,
    "start_time": "2022-12-23T08:33:08.493Z"
   },
   {
    "duration": 23,
    "start_time": "2022-12-23T08:33:22.740Z"
   },
   {
    "duration": 32,
    "start_time": "2022-12-23T08:37:17.312Z"
   },
   {
    "duration": 22,
    "start_time": "2022-12-23T08:37:57.259Z"
   },
   {
    "duration": 31,
    "start_time": "2022-12-23T08:38:51.386Z"
   },
   {
    "duration": 3,
    "start_time": "2022-12-23T08:38:52.915Z"
   },
   {
    "duration": 21,
    "start_time": "2022-12-23T08:41:19.662Z"
   },
   {
    "duration": 25,
    "start_time": "2022-12-23T08:48:29.968Z"
   },
   {
    "duration": 485,
    "start_time": "2022-12-23T08:49:34.435Z"
   },
   {
    "duration": 29,
    "start_time": "2022-12-23T08:50:43.754Z"
   },
   {
    "duration": 416,
    "start_time": "2022-12-23T08:51:55.371Z"
   },
   {
    "duration": 1163,
    "start_time": "2022-12-23T08:56:29.397Z"
   },
   {
    "duration": 4674,
    "start_time": "2022-12-23T08:56:30.563Z"
   },
   {
    "duration": 850,
    "start_time": "2022-12-23T08:56:35.239Z"
   },
   {
    "duration": 25,
    "start_time": "2022-12-23T08:56:36.092Z"
   },
   {
    "duration": 32,
    "start_time": "2022-12-23T08:56:36.119Z"
   },
   {
    "duration": 273,
    "start_time": "2022-12-23T08:56:36.153Z"
   },
   {
    "duration": 8,
    "start_time": "2022-12-23T08:56:36.428Z"
   },
   {
    "duration": 13,
    "start_time": "2022-12-23T08:56:36.437Z"
   },
   {
    "duration": 38,
    "start_time": "2022-12-23T08:56:36.451Z"
   },
   {
    "duration": 3,
    "start_time": "2022-12-23T08:56:36.498Z"
   },
   {
    "duration": 2376299,
    "start_time": "2022-12-23T08:56:36.503Z"
   },
   {
    "duration": 6,
    "start_time": "2022-12-23T09:36:12.804Z"
   },
   {
    "duration": 8,
    "start_time": "2022-12-23T09:36:12.815Z"
   },
   {
    "duration": 36,
    "start_time": "2022-12-23T09:36:12.825Z"
   },
   {
    "duration": 84,
    "start_time": "2022-12-23T09:36:12.864Z"
   },
   {
    "duration": 4,
    "start_time": "2022-12-23T09:36:12.950Z"
   },
   {
    "duration": 6,
    "start_time": "2022-12-23T09:36:12.956Z"
   },
   {
    "duration": 9,
    "start_time": "2022-12-23T09:36:12.963Z"
   },
   {
    "duration": 6,
    "start_time": "2022-12-23T09:36:12.974Z"
   },
   {
    "duration": 136,
    "start_time": "2022-12-23T09:36:12.981Z"
   },
   {
    "duration": 3,
    "start_time": "2022-12-23T09:36:13.118Z"
   },
   {
    "duration": 10,
    "start_time": "2022-12-23T09:36:13.122Z"
   },
   {
    "duration": 11,
    "start_time": "2022-12-23T09:36:13.134Z"
   },
   {
    "duration": 12,
    "start_time": "2022-12-23T09:36:13.146Z"
   },
   {
    "duration": 889049,
    "start_time": "2022-12-23T09:36:13.160Z"
   },
   {
    "duration": 0,
    "start_time": "2022-12-23T09:51:02.215Z"
   },
   {
    "duration": 0,
    "start_time": "2022-12-23T09:51:02.217Z"
   },
   {
    "duration": 0,
    "start_time": "2022-12-23T09:51:02.218Z"
   },
   {
    "duration": 0,
    "start_time": "2022-12-23T09:51:02.219Z"
   },
   {
    "duration": 0,
    "start_time": "2022-12-23T09:51:02.220Z"
   },
   {
    "duration": 0,
    "start_time": "2022-12-23T09:51:02.222Z"
   },
   {
    "duration": 0,
    "start_time": "2022-12-23T09:51:02.223Z"
   },
   {
    "duration": 0,
    "start_time": "2022-12-23T09:51:02.224Z"
   },
   {
    "duration": 1088,
    "start_time": "2022-12-23T09:54:20.600Z"
   },
   {
    "duration": 4591,
    "start_time": "2022-12-23T09:54:21.691Z"
   },
   {
    "duration": 796,
    "start_time": "2022-12-23T09:54:26.286Z"
   },
   {
    "duration": 14,
    "start_time": "2022-12-23T09:54:27.084Z"
   },
   {
    "duration": 41,
    "start_time": "2022-12-23T09:54:27.099Z"
   },
   {
    "duration": 229,
    "start_time": "2022-12-23T09:54:27.142Z"
   },
   {
    "duration": 5,
    "start_time": "2022-12-23T09:54:27.372Z"
   },
   {
    "duration": 2,
    "start_time": "2022-12-23T09:54:27.379Z"
   },
   {
    "duration": 5,
    "start_time": "2022-12-23T09:54:27.383Z"
   },
   {
    "duration": 2347695,
    "start_time": "2022-12-23T09:54:27.390Z"
   },
   {
    "duration": 5,
    "start_time": "2022-12-23T10:33:35.087Z"
   },
   {
    "duration": 6,
    "start_time": "2022-12-23T10:33:35.093Z"
   },
   {
    "duration": 36,
    "start_time": "2022-12-23T10:33:35.100Z"
   },
   {
    "duration": 79,
    "start_time": "2022-12-23T10:33:35.139Z"
   },
   {
    "duration": 5,
    "start_time": "2022-12-23T10:33:35.219Z"
   },
   {
    "duration": 5,
    "start_time": "2022-12-23T10:33:35.225Z"
   },
   {
    "duration": 17,
    "start_time": "2022-12-23T10:33:35.232Z"
   },
   {
    "duration": 5,
    "start_time": "2022-12-23T10:33:35.251Z"
   },
   {
    "duration": 112,
    "start_time": "2022-12-23T10:33:35.258Z"
   },
   {
    "duration": 4620,
    "start_time": "2022-12-23T10:33:35.373Z"
   },
   {
    "duration": 1547,
    "start_time": "2022-12-23T10:33:39.994Z"
   },
   {
    "duration": 57145,
    "start_time": "2022-12-23T10:33:41.543Z"
   },
   {
    "duration": 3,
    "start_time": "2022-12-23T10:34:38.689Z"
   },
   {
    "duration": 164495,
    "start_time": "2022-12-23T10:34:38.693Z"
   },
   {
    "duration": 5367,
    "start_time": "2022-12-23T10:37:23.190Z"
   },
   {
    "duration": 0,
    "start_time": "2022-12-23T10:37:28.560Z"
   },
   {
    "duration": 0,
    "start_time": "2022-12-23T10:37:28.561Z"
   },
   {
    "duration": 172467,
    "start_time": "2022-12-23T10:38:01.919Z"
   },
   {
    "duration": 8,
    "start_time": "2022-12-23T10:40:54.389Z"
   },
   {
    "duration": 88,
    "start_time": "2022-12-23T10:40:54.398Z"
   },
   {
    "duration": 6649,
    "start_time": "2022-12-23T10:52:57.279Z"
   },
   {
    "duration": 736,
    "start_time": "2022-12-24T10:24:40.761Z"
   },
   {
    "duration": 4960,
    "start_time": "2022-12-24T10:24:41.499Z"
   },
   {
    "duration": 2809,
    "start_time": "2022-12-24T10:24:46.461Z"
   },
   {
    "duration": 15,
    "start_time": "2022-12-24T10:24:49.272Z"
   },
   {
    "duration": 40,
    "start_time": "2022-12-24T10:24:49.289Z"
   },
   {
    "duration": 206,
    "start_time": "2022-12-24T10:24:49.331Z"
   },
   {
    "duration": 5,
    "start_time": "2022-12-24T10:24:49.539Z"
   },
   {
    "duration": 7,
    "start_time": "2022-12-24T10:24:49.546Z"
   },
   {
    "duration": 4,
    "start_time": "2022-12-24T10:24:49.555Z"
   },
   {
    "duration": 2177869,
    "start_time": "2022-12-24T10:24:49.561Z"
   },
   {
    "duration": 5,
    "start_time": "2022-12-24T11:01:07.431Z"
   },
   {
    "duration": 5,
    "start_time": "2022-12-24T11:01:07.437Z"
   },
   {
    "duration": 32,
    "start_time": "2022-12-24T11:01:07.444Z"
   },
   {
    "duration": 74,
    "start_time": "2022-12-24T11:01:07.478Z"
   },
   {
    "duration": 3,
    "start_time": "2022-12-24T11:01:07.554Z"
   },
   {
    "duration": 5,
    "start_time": "2022-12-24T11:01:07.559Z"
   },
   {
    "duration": 9,
    "start_time": "2022-12-24T11:01:07.566Z"
   },
   {
    "duration": 5,
    "start_time": "2022-12-24T11:01:07.576Z"
   },
   {
    "duration": 119,
    "start_time": "2022-12-24T11:01:07.582Z"
   },
   {
    "duration": 4285,
    "start_time": "2022-12-24T11:01:07.703Z"
   },
   {
    "duration": 1450,
    "start_time": "2022-12-24T11:01:11.989Z"
   },
   {
    "duration": 291,
    "start_time": "2022-12-24T11:01:13.441Z"
   },
   {
    "duration": 0,
    "start_time": "2022-12-24T11:01:13.734Z"
   },
   {
    "duration": 0,
    "start_time": "2022-12-24T11:01:13.735Z"
   },
   {
    "duration": 0,
    "start_time": "2022-12-24T11:01:13.736Z"
   },
   {
    "duration": 0,
    "start_time": "2022-12-24T11:01:13.737Z"
   },
   {
    "duration": 0,
    "start_time": "2022-12-24T11:01:13.738Z"
   },
   {
    "duration": 0,
    "start_time": "2022-12-24T11:01:13.739Z"
   },
   {
    "duration": 500838,
    "start_time": "2022-12-24T11:01:53.227Z"
   },
   {
    "duration": 76,
    "start_time": "2022-12-24T11:10:22.908Z"
   },
   {
    "duration": 19,
    "start_time": "2022-12-24T11:10:33.617Z"
   },
   {
    "duration": 5568,
    "start_time": "2022-12-24T11:10:59.662Z"
   },
   {
    "duration": 34961,
    "start_time": "2022-12-24T11:11:20.277Z"
   },
   {
    "duration": 154740,
    "start_time": "2022-12-24T11:12:13.017Z"
   },
   {
    "duration": 155414,
    "start_time": "2022-12-24T11:14:47.758Z"
   },
   {
    "duration": 7,
    "start_time": "2022-12-24T11:17:23.174Z"
   }
  ],
  "kernelspec": {
   "display_name": "Python 3 (ipykernel)",
   "language": "python",
   "name": "python3"
  },
  "language_info": {
   "codemirror_mode": {
    "name": "ipython",
    "version": 3
   },
   "file_extension": ".py",
   "mimetype": "text/x-python",
   "name": "python",
   "nbconvert_exporter": "python",
   "pygments_lexer": "ipython3",
   "version": "3.9.5"
  },
  "toc": {
   "base_numbering": 1,
   "nav_menu": {},
   "number_sections": true,
   "sideBar": true,
   "skip_h1_title": true,
   "title_cell": "Содержание",
   "title_sidebar": "Contents",
   "toc_cell": true,
   "toc_position": {
    "height": "calc(100% - 180px)",
    "left": "10px",
    "top": "150px",
    "width": "302.389px"
   },
   "toc_section_display": true,
   "toc_window_display": true
  }
 },
 "nbformat": 4,
 "nbformat_minor": 2
}
