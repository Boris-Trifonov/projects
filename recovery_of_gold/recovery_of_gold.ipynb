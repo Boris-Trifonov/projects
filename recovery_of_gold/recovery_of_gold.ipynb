{
 "cells": [
  {
   "cell_type": "markdown",
   "metadata": {
    "toc": true
   },
   "source": [
    "<h1>Содержание<span class=\"tocSkip\"></span></h1>\n",
    "<div class=\"toc\"><ul class=\"toc-item\"><li><span><a href=\"#Подготовка-данных\" data-toc-modified-id=\"Подготовка-данных-1\"><span class=\"toc-item-num\">1&nbsp;&nbsp;</span>Подготовка данных</a></span><ul class=\"toc-item\"><li><span><a href=\"#Загрузка-данных\" data-toc-modified-id=\"Загрузка-данных-1.1\"><span class=\"toc-item-num\">1.1&nbsp;&nbsp;</span>Загрузка данных</a></span></li><li><span><a href=\"#Общая-информация\" data-toc-modified-id=\"Общая-информация-1.2\"><span class=\"toc-item-num\">1.2&nbsp;&nbsp;</span>Общая информация</a></span></li><li><span><a href=\"#Пропуски\" data-toc-modified-id=\"Пропуски-1.3\"><span class=\"toc-item-num\">1.3&nbsp;&nbsp;</span>Пропуски</a></span></li><li><span><a href=\"#Выбросы,-масштаб-и-дубликаты\" data-toc-modified-id=\"Выбросы,-масштаб-и-дубликаты-1.4\"><span class=\"toc-item-num\">1.4&nbsp;&nbsp;</span>Выбросы, масштаб и дубликаты</a></span></li><li><span><a href=\"#Проверка-вычисления-эффективности-обогащения\" data-toc-modified-id=\"Проверка-вычисления-эффективности-обогащения-1.5\"><span class=\"toc-item-num\">1.5&nbsp;&nbsp;</span>Проверка вычисления эффективности обогащения</a></span></li><li><span><a href=\"#Анализ-признаков,-недоступных-в-тестовой-выборке.\" data-toc-modified-id=\"Анализ-признаков,-недоступных-в-тестовой-выборке.-1.6\"><span class=\"toc-item-num\">1.6&nbsp;&nbsp;</span>Анализ признаков, недоступных в тестовой выборке.</a></span></li></ul></li><li><span><a href=\"#Анализ-данных\" data-toc-modified-id=\"Анализ-данных-2\"><span class=\"toc-item-num\">2&nbsp;&nbsp;</span>Анализ данных</a></span><ul class=\"toc-item\"><li><span><a href=\"#Изменение-концентрации-металлов-(Au,-Ag,-Pb)-на-различных-этапах-очистки.\" data-toc-modified-id=\"Изменение-концентрации-металлов-(Au,-Ag,-Pb)-на-различных-этапах-очистки.-2.1\"><span class=\"toc-item-num\">2.1&nbsp;&nbsp;</span>Изменение концентрации металлов (Au, Ag, Pb) на различных этапах очистки.</a></span><ul class=\"toc-item\"><li><span><a href=\"#Au\" data-toc-modified-id=\"Au-2.1.1\"><span class=\"toc-item-num\">2.1.1&nbsp;&nbsp;</span>Au</a></span></li><li><span><a href=\"#Ag\" data-toc-modified-id=\"Ag-2.1.2\"><span class=\"toc-item-num\">2.1.2&nbsp;&nbsp;</span>Ag</a></span></li><li><span><a href=\"#Pb\" data-toc-modified-id=\"Pb-2.1.3\"><span class=\"toc-item-num\">2.1.3&nbsp;&nbsp;</span>Pb</a></span></li><li><span><a href=\"#Sol\" data-toc-modified-id=\"Sol-2.1.4\"><span class=\"toc-item-num\">2.1.4&nbsp;&nbsp;</span>Sol</a></span></li></ul></li><li><span><a href=\"#Сравнение-распределения-размеров-гранул-сырья\" data-toc-modified-id=\"Сравнение-распределения-размеров-гранул-сырья-2.2\"><span class=\"toc-item-num\">2.2&nbsp;&nbsp;</span>Сравнение распределения размеров гранул сырья</a></span><ul class=\"toc-item\"><li><span><a href=\"#На-стадии-флотации-(rougher)\" data-toc-modified-id=\"На-стадии-флотации-(rougher)-2.2.1\"><span class=\"toc-item-num\">2.2.1&nbsp;&nbsp;</span>На стадии флотации (rougher)</a></span></li><li><span><a href=\"#На-стадии-первичной-очистки\" data-toc-modified-id=\"На-стадии-первичной-очистки-2.2.2\"><span class=\"toc-item-num\">2.2.2&nbsp;&nbsp;</span>На стадии первичной очистки</a></span></li></ul></li><li><span><a href=\"#Cуммарная-концентрацию-всех-веществ-на-разных-стадиях\" data-toc-modified-id=\"Cуммарная-концентрацию-всех-веществ-на-разных-стадиях-2.3\"><span class=\"toc-item-num\">2.3&nbsp;&nbsp;</span>Cуммарная концентрацию всех веществ на разных стадиях</a></span><ul class=\"toc-item\"><li><span><a href=\"#В-сырье\" data-toc-modified-id=\"В-сырье-2.3.1\"><span class=\"toc-item-num\">2.3.1&nbsp;&nbsp;</span>В сырье</a></span></li><li><span><a href=\"#В-черновом-концентрате\" data-toc-modified-id=\"В-черновом-концентрате-2.3.2\"><span class=\"toc-item-num\">2.3.2&nbsp;&nbsp;</span>В черновом концентрате</a></span></li><li><span><a href=\"#В-финальном-концентрате\" data-toc-modified-id=\"В-финальном-концентрате-2.3.3\"><span class=\"toc-item-num\">2.3.3&nbsp;&nbsp;</span>В финальном концентрате</a></span></li></ul></li></ul></li><li><span><a href=\"#Обучение-и-проверка-модели\" data-toc-modified-id=\"Обучение-и-проверка-модели-3\"><span class=\"toc-item-num\">3&nbsp;&nbsp;</span>Обучение и проверка модели</a></span><ul class=\"toc-item\"><li><span><a href=\"#Подготовка-данных\" data-toc-modified-id=\"Подготовка-данных-3.1\"><span class=\"toc-item-num\">3.1&nbsp;&nbsp;</span>Подготовка данных</a></span><ul class=\"toc-item\"><li><span><a href=\"#Масштабирование-данных\" data-toc-modified-id=\"Масштабирование-данных-3.1.1\"><span class=\"toc-item-num\">3.1.1&nbsp;&nbsp;</span>Масштабирование данных</a></span></li><li><span><a href=\"#sMAPE.\" data-toc-modified-id=\"sMAPE.-3.1.2\"><span class=\"toc-item-num\">3.1.2&nbsp;&nbsp;</span>sMAPE.</a></span></li><li><span><a href=\"#Кросс-валидация\" data-toc-modified-id=\"Кросс-валидация-3.1.3\"><span class=\"toc-item-num\">3.1.3&nbsp;&nbsp;</span>Кросс-валидация</a></span></li></ul></li><li><span><a href=\"#Обучение\" data-toc-modified-id=\"Обучение-3.2\"><span class=\"toc-item-num\">3.2&nbsp;&nbsp;</span>Обучение</a></span><ul class=\"toc-item\"><li><span><a href=\"#DecisionTreeRegressor\" data-toc-modified-id=\"DecisionTreeRegressor-3.2.1\"><span class=\"toc-item-num\">3.2.1&nbsp;&nbsp;</span>DecisionTreeRegressor</a></span></li><li><span><a href=\"#RandomForestRegressor\" data-toc-modified-id=\"RandomForestRegressor-3.2.2\"><span class=\"toc-item-num\">3.2.2&nbsp;&nbsp;</span>RandomForestRegressor</a></span></li><li><span><a href=\"#LinearRegression\" data-toc-modified-id=\"LinearRegression-3.2.3\"><span class=\"toc-item-num\">3.2.3&nbsp;&nbsp;</span>LinearRegression</a></span></li><li><span><a href=\"#DummyRegressor\" data-toc-modified-id=\"DummyRegressor-3.2.4\"><span class=\"toc-item-num\">3.2.4&nbsp;&nbsp;</span>DummyRegressor</a></span></li><li><span><a href=\"#Test\" data-toc-modified-id=\"Test-3.2.5\"><span class=\"toc-item-num\">3.2.5&nbsp;&nbsp;</span>Test</a></span></li></ul></li></ul></li><li><span><a href=\"#Общий-вывод\" data-toc-modified-id=\"Общий-вывод-4\"><span class=\"toc-item-num\">4&nbsp;&nbsp;</span>Общий вывод</a></span></li><li><span><a href=\"#Чек-лист-готовности-проекта\" data-toc-modified-id=\"Чек-лист-готовности-проекта-5\"><span class=\"toc-item-num\">5&nbsp;&nbsp;</span>Чек-лист готовности проекта</a></span></li></ul></div>"
   ]
  },
  {
   "cell_type": "markdown",
   "metadata": {},
   "source": [
    "# Восстановление золота из руды"
   ]
  },
  {
   "cell_type": "markdown",
   "metadata": {},
   "source": [
    "Компания разрабатывает решения для эффективной работы промышленных предприятий.\n",
    "\n",
    "**Входные данные:**\n",
    "\n",
    "- Данные находятся в трёх файлах:\n",
    "\n",
    "1. https://code.s3.yandex.net/datasets/gold_recovery_train_new.csv — обучающая выборка;\n",
    "\n",
    "2. https://code.s3.yandex.net/datasets/gold_recovery_test_new.csv — тестовая выборка;\n",
    "\n",
    "3. https://code.s3.yandex.net/datasets/gold_recovery_full_new.csv — исходные данные.\n",
    "\n",
    "\n",
    "**Технологический процесс:**\n",
    "\n",
    "`Rougher feed` — исходное сырье\n",
    "\n",
    "`Rougher additions` (или `reagent additions`) — флотационные реагенты: Xanthate, Sulphate, Depressant\n",
    "\n",
    "`Xanthate` — ксантогенат (промотер, или активатор флотации);\n",
    "\n",
    "`Sulphate` — сульфат (на данном производстве сульфид натрия);\n",
    "\n",
    "`Depressant` — депрессант (силикат натрия).\n",
    "\n",
    "`Rougher process` (англ. «грубый процесс») — флотация\n",
    "\n",
    "`Rougher tails` — отвальные хвосты\n",
    "\n",
    "`Float banks` — флотационная установка\n",
    "\n",
    "`Cleaner process` — очистка\n",
    "\n",
    "`Rougher Au` — черновой концентрат золота\n",
    "\n",
    "`Final Au` — финальный концентрат золота\n",
    "\n",
    "**Параметры этапов:**\n",
    "\n",
    "`air amount` — объём воздуха\n",
    "\n",
    "`fluid levels` — уровень жидкости\n",
    "\n",
    "`feed size` — размер гранул сырья\n",
    "\n",
    "`feed rate` — скорость подачи\n",
    "\n",
    "**Условия задачи:**\n",
    "\n",
    "- Данные индексируются датой и временем получения информации (признак date). Соседние по времени параметры часто похожи.\n",
    "\n",
    "- В нашем распоряжении сырые данные: их просто выгрузили из хранилища.\n",
    "\n",
    "- Модель должна предсказать коэффициент восстановления золота из золотосодержащей руды. \n",
    "\n",
    "- Необходимо использовать данные с параметрами добычи и очистки. \n",
    "\n",
    "- Эффективность обогащения рассчитывается по формуле: \n",
    "\n",
    "    **Recovery = C*(F-T) / F*(C-T) * 100%**\n",
    "\n",
    "    C — доля золота в концентрате после флотации/очистки;\n",
    "\n",
    "    F — доля золота в сырье/концентрате до флотации/очистки;\n",
    "\n",
    "    T — доля золота в отвальных хвостах после флотации/очистки.\n",
    "\n",
    "- **sMAPE = (1/n) * Σ(|прогноз – фактический| / ((|прогноз| + |фактический|)/2) * 100%**\n",
    "\n",
    "- **Наименование признаков:**\n",
    "\n",
    "    Наименование признаков должно быть такое:\n",
    "    [этап].[тип_параметра].[название_параметра]\n",
    "\n",
    "    *Пример:* rougher.input.feed_ag\n",
    "\n",
    "    *Возможные значения для блока [этап]:*\n",
    "\n",
    "    `rougher` — флотация\n",
    "\n",
    "    `primary_cleaner` — первичная очистка\n",
    "\n",
    "    `secondary_cleaner` — вторичная очистка\n",
    "\n",
    "    `final` — финальные характеристики\n",
    "\n",
    "    *Возможные значения для блока [тип_параметра]:*\n",
    "\n",
    "    `input` — параметры сырья\n",
    "\n",
    "    `output` — параметры продукта\n",
    "\n",
    "    `state` — параметры, характеризующие текущее состояние этапа\n",
    "\n",
    "    `calculation` — расчётные характеристики\n",
    "        \n",
    "**Цель исследования:**\n",
    "        \n",
    "- Подготовить прототип модели машинного обучения для «Цифры»\n",
    "\n",
    "- Модель должна помочь оптимизировать производство, чтобы не запускать предприятие с убыточными характеристиками.\n",
    "\n",
    "**Задачи:**\n",
    "\n",
    "- Проверить формулу вычисления эффективности обогащения\n",
    "\n",
    "- Проанализировать признаки, недоступные в тестовой выборке\n",
    "\n",
    "- Проанализировать распределения размеров гранул на обучающей и тестовой выборках\n",
    "\n",
    "- Исследовать суммарные концентрации\n",
    "\n",
    "- Обучить и проверить несколько моделей\n",
    "\n",
    "- Выбрать лучшую модель, и ролверить ее качество на тестовой выборке\n",
    "\n",
    "- Написать функцию для вычисления итогового sMAPE:\n",
    "\n",
    "- Нужно спрогнозировать сразу две величины:\n",
    "\n",
    "    - эффективность обогащения чернового концентрата rougher.output.recovery;\n",
    "\n",
    "    - эффективность обогащения финального концентрата final.output.recovery.\n",
    "\n",
    "    - Итоговая метрика складывается из двух величин: **25% * sMAPE(rougher) + 75% * sMAPE(final)**\n",
    "\n",
    "\n",
    "  \n",
    "**Этапы исследования:**\n",
    "\n",
    "- Подготовка данных\n",
    "\n",
    "- Анализ данных\n",
    "\n",
    "- Обучение и проверка модели\n",
    "\n",
    "- Общий вывод"
   ]
  },
  {
   "cell_type": "markdown",
   "metadata": {},
   "source": [
    "## Подготовка данных"
   ]
  },
  {
   "cell_type": "markdown",
   "metadata": {},
   "source": [
    "### Загрузка данных"
   ]
  },
  {
   "cell_type": "code",
   "execution_count": 1,
   "metadata": {},
   "outputs": [],
   "source": [
    "import pandas as pd\n",
    "import seaborn as sns\n",
    "import matplotlib.pyplot as plt\n",
    "import numpy as np\n",
    "\n",
    "from numpy.random import RandomState\n",
    "\n",
    "from sklearn.dummy import DummyRegressor\n",
    "from sklearn.ensemble import RandomForestRegressor\n",
    "from sklearn.linear_model import LinearRegression\n",
    "from sklearn.metrics import mean_absolute_error, make_scorer\n",
    "from sklearn.model_selection import cross_val_score, GridSearchCV\n",
    "from sklearn.preprocessing import StandardScaler\n",
    "from sklearn.tree import DecisionTreeRegressor\n",
    "\n",
    "import warnings\n",
    "warnings.filterwarnings('ignore')\n",
    "pd.set_option('display.max_columns', None)\n",
    "\n",
    "STATE = np.random.RandomState(12345)"
   ]
  },
  {
   "cell_type": "code",
   "execution_count": 2,
   "metadata": {},
   "outputs": [],
   "source": [
    "try:\n",
    "    df_train = pd.read_csv('/datasets/gold_recovery_train_new.csv')\n",
    "    df_test = pd.read_csv('/datasets/gold_recovery_test_new.csv')\n",
    "    df_full = pd.read_csv('/datasets/gold_recovery_full_new.csv')\n",
    "except:\n",
    "    df_train = pd.read_csv('https://code.s3.yandex.net/datasets/gold_recovery_train_new.csv')\n",
    "    df_test = pd.read_csv('https://code.s3.yandex.net/datasets/gold_recovery_test_new.csv')\n",
    "    df_full = pd.read_csv('https://code.s3.yandex.net/datasets/gold_recovery_full_new.csv')"
   ]
  },
  {
   "cell_type": "markdown",
   "metadata": {},
   "source": [
    "### Общая информация"
   ]
  },
  {
   "cell_type": "code",
   "execution_count": 9,
   "metadata": {},
   "outputs": [
    {
     "data": {
      "text/html": [
       "<div>\n",
       "<style scoped>\n",
       "    .dataframe tbody tr th:only-of-type {\n",
       "        vertical-align: middle;\n",
       "    }\n",
       "\n",
       "    .dataframe tbody tr th {\n",
       "        vertical-align: top;\n",
       "    }\n",
       "\n",
       "    .dataframe thead th {\n",
       "        text-align: right;\n",
       "    }\n",
       "</style>\n",
       "<table border=\"1\" class=\"dataframe\">\n",
       "  <thead>\n",
       "    <tr style=\"text-align: right;\">\n",
       "      <th></th>\n",
       "      <th>date</th>\n",
       "      <th>final.output.concentrate_ag</th>\n",
       "      <th>final.output.concentrate_pb</th>\n",
       "      <th>final.output.concentrate_sol</th>\n",
       "      <th>final.output.concentrate_au</th>\n",
       "      <th>final.output.recovery</th>\n",
       "      <th>final.output.tail_ag</th>\n",
       "      <th>final.output.tail_pb</th>\n",
       "      <th>final.output.tail_sol</th>\n",
       "      <th>final.output.tail_au</th>\n",
       "      <th>primary_cleaner.input.sulfate</th>\n",
       "      <th>primary_cleaner.input.depressant</th>\n",
       "      <th>primary_cleaner.input.feed_size</th>\n",
       "      <th>primary_cleaner.input.xanthate</th>\n",
       "      <th>primary_cleaner.output.concentrate_ag</th>\n",
       "      <th>primary_cleaner.output.concentrate_pb</th>\n",
       "      <th>primary_cleaner.output.concentrate_sol</th>\n",
       "      <th>primary_cleaner.output.concentrate_au</th>\n",
       "      <th>primary_cleaner.output.tail_ag</th>\n",
       "      <th>primary_cleaner.output.tail_pb</th>\n",
       "      <th>primary_cleaner.output.tail_sol</th>\n",
       "      <th>primary_cleaner.output.tail_au</th>\n",
       "      <th>primary_cleaner.state.floatbank8_a_air</th>\n",
       "      <th>primary_cleaner.state.floatbank8_a_level</th>\n",
       "      <th>primary_cleaner.state.floatbank8_b_air</th>\n",
       "      <th>primary_cleaner.state.floatbank8_b_level</th>\n",
       "      <th>primary_cleaner.state.floatbank8_c_air</th>\n",
       "      <th>primary_cleaner.state.floatbank8_c_level</th>\n",
       "      <th>primary_cleaner.state.floatbank8_d_air</th>\n",
       "      <th>primary_cleaner.state.floatbank8_d_level</th>\n",
       "      <th>rougher.calculation.sulfate_to_au_concentrate</th>\n",
       "      <th>rougher.calculation.floatbank10_sulfate_to_au_feed</th>\n",
       "      <th>rougher.calculation.floatbank11_sulfate_to_au_feed</th>\n",
       "      <th>rougher.calculation.au_pb_ratio</th>\n",
       "      <th>rougher.input.feed_ag</th>\n",
       "      <th>rougher.input.feed_pb</th>\n",
       "      <th>rougher.input.feed_rate</th>\n",
       "      <th>rougher.input.feed_size</th>\n",
       "      <th>rougher.input.feed_sol</th>\n",
       "      <th>rougher.input.feed_au</th>\n",
       "      <th>rougher.input.floatbank10_sulfate</th>\n",
       "      <th>rougher.input.floatbank10_xanthate</th>\n",
       "      <th>rougher.input.floatbank11_sulfate</th>\n",
       "      <th>rougher.input.floatbank11_xanthate</th>\n",
       "      <th>rougher.output.concentrate_ag</th>\n",
       "      <th>rougher.output.concentrate_pb</th>\n",
       "      <th>rougher.output.concentrate_sol</th>\n",
       "      <th>rougher.output.concentrate_au</th>\n",
       "      <th>rougher.output.recovery</th>\n",
       "      <th>rougher.output.tail_ag</th>\n",
       "      <th>rougher.output.tail_pb</th>\n",
       "      <th>rougher.output.tail_sol</th>\n",
       "      <th>rougher.output.tail_au</th>\n",
       "      <th>rougher.state.floatbank10_a_air</th>\n",
       "      <th>rougher.state.floatbank10_a_level</th>\n",
       "      <th>rougher.state.floatbank10_b_air</th>\n",
       "      <th>rougher.state.floatbank10_b_level</th>\n",
       "      <th>rougher.state.floatbank10_c_air</th>\n",
       "      <th>rougher.state.floatbank10_c_level</th>\n",
       "      <th>rougher.state.floatbank10_d_air</th>\n",
       "      <th>rougher.state.floatbank10_d_level</th>\n",
       "      <th>rougher.state.floatbank10_e_air</th>\n",
       "      <th>rougher.state.floatbank10_e_level</th>\n",
       "      <th>rougher.state.floatbank10_f_air</th>\n",
       "      <th>rougher.state.floatbank10_f_level</th>\n",
       "      <th>secondary_cleaner.output.tail_ag</th>\n",
       "      <th>secondary_cleaner.output.tail_pb</th>\n",
       "      <th>secondary_cleaner.output.tail_sol</th>\n",
       "      <th>secondary_cleaner.output.tail_au</th>\n",
       "      <th>secondary_cleaner.state.floatbank2_a_air</th>\n",
       "      <th>secondary_cleaner.state.floatbank2_a_level</th>\n",
       "      <th>secondary_cleaner.state.floatbank2_b_air</th>\n",
       "      <th>secondary_cleaner.state.floatbank2_b_level</th>\n",
       "      <th>secondary_cleaner.state.floatbank3_a_air</th>\n",
       "      <th>secondary_cleaner.state.floatbank3_a_level</th>\n",
       "      <th>secondary_cleaner.state.floatbank3_b_air</th>\n",
       "      <th>secondary_cleaner.state.floatbank3_b_level</th>\n",
       "      <th>secondary_cleaner.state.floatbank4_a_air</th>\n",
       "      <th>secondary_cleaner.state.floatbank4_a_level</th>\n",
       "      <th>secondary_cleaner.state.floatbank4_b_air</th>\n",
       "      <th>secondary_cleaner.state.floatbank4_b_level</th>\n",
       "      <th>secondary_cleaner.state.floatbank5_a_air</th>\n",
       "      <th>secondary_cleaner.state.floatbank5_a_level</th>\n",
       "      <th>secondary_cleaner.state.floatbank5_b_air</th>\n",
       "      <th>secondary_cleaner.state.floatbank5_b_level</th>\n",
       "      <th>secondary_cleaner.state.floatbank6_a_air</th>\n",
       "      <th>secondary_cleaner.state.floatbank6_a_level</th>\n",
       "    </tr>\n",
       "  </thead>\n",
       "  <tbody>\n",
       "    <tr>\n",
       "      <th>0</th>\n",
       "      <td>2016-01-15 00:00:00</td>\n",
       "      <td>6.055403</td>\n",
       "      <td>9.889648</td>\n",
       "      <td>5.507324</td>\n",
       "      <td>42.192020</td>\n",
       "      <td>70.541216</td>\n",
       "      <td>10.411962</td>\n",
       "      <td>0.895447</td>\n",
       "      <td>16.904297</td>\n",
       "      <td>2.143149</td>\n",
       "      <td>127.092003</td>\n",
       "      <td>10.128295</td>\n",
       "      <td>7.25</td>\n",
       "      <td>0.988759</td>\n",
       "      <td>8.547551</td>\n",
       "      <td>10.389648</td>\n",
       "      <td>19.529297</td>\n",
       "      <td>34.174427</td>\n",
       "      <td>14.936526</td>\n",
       "      <td>2.534912</td>\n",
       "      <td>7.476074</td>\n",
       "      <td>2.106679</td>\n",
       "      <td>1549.775757</td>\n",
       "      <td>-498.912140</td>\n",
       "      <td>1551.434204</td>\n",
       "      <td>-516.403442</td>\n",
       "      <td>1549.873901</td>\n",
       "      <td>-498.666595</td>\n",
       "      <td>1554.367432</td>\n",
       "      <td>-493.428131</td>\n",
       "      <td>41885.707031</td>\n",
       "      <td>3481.779053</td>\n",
       "      <td>3520.337158</td>\n",
       "      <td>2.838687</td>\n",
       "      <td>6.100378</td>\n",
       "      <td>2.284912</td>\n",
       "      <td>523.546326</td>\n",
       "      <td>55.486599</td>\n",
       "      <td>36.808594</td>\n",
       "      <td>6.486150</td>\n",
       "      <td>11.986616</td>\n",
       "      <td>6.007990</td>\n",
       "      <td>11.836743</td>\n",
       "      <td>6.005818</td>\n",
       "      <td>11.500771</td>\n",
       "      <td>7.101074</td>\n",
       "      <td>28.029297</td>\n",
       "      <td>19.793808</td>\n",
       "      <td>87.107763</td>\n",
       "      <td>5.008018</td>\n",
       "      <td>0.508728</td>\n",
       "      <td>19.154297</td>\n",
       "      <td>1.170244</td>\n",
       "      <td>999.706909</td>\n",
       "      <td>-404.066986</td>\n",
       "      <td>1603.011353</td>\n",
       "      <td>-434.715027</td>\n",
       "      <td>1602.375000</td>\n",
       "      <td>-442.204468</td>\n",
       "      <td>1598.937256</td>\n",
       "      <td>-451.294128</td>\n",
       "      <td>1404.472046</td>\n",
       "      <td>-455.462982</td>\n",
       "      <td>1416.354980</td>\n",
       "      <td>-451.939636</td>\n",
       "      <td>14.500184</td>\n",
       "      <td>4.694824</td>\n",
       "      <td>8.764648</td>\n",
       "      <td>2.606185</td>\n",
       "      <td>25.853109</td>\n",
       "      <td>-498.526489</td>\n",
       "      <td>23.893660</td>\n",
       "      <td>-501.406281</td>\n",
       "      <td>23.961798</td>\n",
       "      <td>-495.262817</td>\n",
       "      <td>21.940409</td>\n",
       "      <td>-499.340973</td>\n",
       "      <td>14.016835</td>\n",
       "      <td>-502.488007</td>\n",
       "      <td>12.099931</td>\n",
       "      <td>-504.715942</td>\n",
       "      <td>9.925633</td>\n",
       "      <td>-498.310211</td>\n",
       "      <td>8.079666</td>\n",
       "      <td>-500.470978</td>\n",
       "      <td>14.151341</td>\n",
       "      <td>-605.841980</td>\n",
       "    </tr>\n",
       "    <tr>\n",
       "      <th>1</th>\n",
       "      <td>2016-01-15 01:00:00</td>\n",
       "      <td>6.029369</td>\n",
       "      <td>9.968944</td>\n",
       "      <td>5.257781</td>\n",
       "      <td>42.701629</td>\n",
       "      <td>69.266198</td>\n",
       "      <td>10.462676</td>\n",
       "      <td>0.927452</td>\n",
       "      <td>16.634514</td>\n",
       "      <td>2.224930</td>\n",
       "      <td>125.629232</td>\n",
       "      <td>10.296251</td>\n",
       "      <td>7.25</td>\n",
       "      <td>1.002663</td>\n",
       "      <td>8.558743</td>\n",
       "      <td>10.497069</td>\n",
       "      <td>19.369147</td>\n",
       "      <td>34.118526</td>\n",
       "      <td>16.250511</td>\n",
       "      <td>3.049646</td>\n",
       "      <td>6.733907</td>\n",
       "      <td>2.353017</td>\n",
       "      <td>1576.166671</td>\n",
       "      <td>-500.904965</td>\n",
       "      <td>1575.950626</td>\n",
       "      <td>-499.865889</td>\n",
       "      <td>1575.994189</td>\n",
       "      <td>-499.315107</td>\n",
       "      <td>1574.479259</td>\n",
       "      <td>-498.931665</td>\n",
       "      <td>42050.861809</td>\n",
       "      <td>3498.370979</td>\n",
       "      <td>3489.981857</td>\n",
       "      <td>2.858998</td>\n",
       "      <td>6.161113</td>\n",
       "      <td>2.266033</td>\n",
       "      <td>525.290581</td>\n",
       "      <td>57.278666</td>\n",
       "      <td>35.753385</td>\n",
       "      <td>6.478583</td>\n",
       "      <td>11.971193</td>\n",
       "      <td>6.005766</td>\n",
       "      <td>11.996163</td>\n",
       "      <td>6.012594</td>\n",
       "      <td>11.615865</td>\n",
       "      <td>7.278807</td>\n",
       "      <td>28.067063</td>\n",
       "      <td>20.050975</td>\n",
       "      <td>86.843261</td>\n",
       "      <td>4.955378</td>\n",
       "      <td>0.536689</td>\n",
       "      <td>18.965234</td>\n",
       "      <td>1.184827</td>\n",
       "      <td>1000.286398</td>\n",
       "      <td>-400.065196</td>\n",
       "      <td>1600.754587</td>\n",
       "      <td>-449.953435</td>\n",
       "      <td>1600.479580</td>\n",
       "      <td>-449.830646</td>\n",
       "      <td>1600.527589</td>\n",
       "      <td>-449.953649</td>\n",
       "      <td>1399.227084</td>\n",
       "      <td>-450.869848</td>\n",
       "      <td>1399.719514</td>\n",
       "      <td>-450.119001</td>\n",
       "      <td>14.265474</td>\n",
       "      <td>4.592547</td>\n",
       "      <td>9.001494</td>\n",
       "      <td>2.488248</td>\n",
       "      <td>25.880539</td>\n",
       "      <td>-499.989656</td>\n",
       "      <td>23.889530</td>\n",
       "      <td>-500.372428</td>\n",
       "      <td>23.970550</td>\n",
       "      <td>-500.085473</td>\n",
       "      <td>22.085714</td>\n",
       "      <td>-499.446897</td>\n",
       "      <td>13.992281</td>\n",
       "      <td>-505.503262</td>\n",
       "      <td>11.950531</td>\n",
       "      <td>-501.331529</td>\n",
       "      <td>10.039245</td>\n",
       "      <td>-500.169983</td>\n",
       "      <td>7.984757</td>\n",
       "      <td>-500.582168</td>\n",
       "      <td>13.998353</td>\n",
       "      <td>-599.787184</td>\n",
       "    </tr>\n",
       "    <tr>\n",
       "      <th>2</th>\n",
       "      <td>2016-01-15 02:00:00</td>\n",
       "      <td>6.055926</td>\n",
       "      <td>10.213995</td>\n",
       "      <td>5.383759</td>\n",
       "      <td>42.657501</td>\n",
       "      <td>68.116445</td>\n",
       "      <td>10.507046</td>\n",
       "      <td>0.953716</td>\n",
       "      <td>16.208849</td>\n",
       "      <td>2.257889</td>\n",
       "      <td>123.819808</td>\n",
       "      <td>11.316280</td>\n",
       "      <td>7.25</td>\n",
       "      <td>0.991265</td>\n",
       "      <td>8.603505</td>\n",
       "      <td>10.354494</td>\n",
       "      <td>19.167579</td>\n",
       "      <td>33.969464</td>\n",
       "      <td>16.491823</td>\n",
       "      <td>3.124664</td>\n",
       "      <td>6.471768</td>\n",
       "      <td>2.416800</td>\n",
       "      <td>1601.556163</td>\n",
       "      <td>-499.997791</td>\n",
       "      <td>1600.386685</td>\n",
       "      <td>-500.607762</td>\n",
       "      <td>1602.003542</td>\n",
       "      <td>-500.870069</td>\n",
       "      <td>1599.541515</td>\n",
       "      <td>-499.827444</td>\n",
       "      <td>42018.101184</td>\n",
       "      <td>3495.348910</td>\n",
       "      <td>3502.359819</td>\n",
       "      <td>2.945989</td>\n",
       "      <td>6.116455</td>\n",
       "      <td>2.159622</td>\n",
       "      <td>530.026610</td>\n",
       "      <td>57.510649</td>\n",
       "      <td>35.971630</td>\n",
       "      <td>6.362222</td>\n",
       "      <td>11.920603</td>\n",
       "      <td>6.197377</td>\n",
       "      <td>11.920305</td>\n",
       "      <td>6.204633</td>\n",
       "      <td>11.695753</td>\n",
       "      <td>7.216833</td>\n",
       "      <td>27.454037</td>\n",
       "      <td>19.737170</td>\n",
       "      <td>86.842308</td>\n",
       "      <td>4.843460</td>\n",
       "      <td>0.546416</td>\n",
       "      <td>18.808533</td>\n",
       "      <td>1.162562</td>\n",
       "      <td>999.719565</td>\n",
       "      <td>-400.074028</td>\n",
       "      <td>1599.337330</td>\n",
       "      <td>-450.008530</td>\n",
       "      <td>1599.672797</td>\n",
       "      <td>-449.954491</td>\n",
       "      <td>1599.849325</td>\n",
       "      <td>-449.954185</td>\n",
       "      <td>1399.180945</td>\n",
       "      <td>-449.937588</td>\n",
       "      <td>1400.316682</td>\n",
       "      <td>-450.527147</td>\n",
       "      <td>14.115662</td>\n",
       "      <td>4.624775</td>\n",
       "      <td>8.842896</td>\n",
       "      <td>2.458187</td>\n",
       "      <td>26.005245</td>\n",
       "      <td>-499.929616</td>\n",
       "      <td>23.886657</td>\n",
       "      <td>-499.951928</td>\n",
       "      <td>23.913535</td>\n",
       "      <td>-499.442343</td>\n",
       "      <td>23.957717</td>\n",
       "      <td>-499.901982</td>\n",
       "      <td>14.015015</td>\n",
       "      <td>-502.520901</td>\n",
       "      <td>11.912783</td>\n",
       "      <td>-501.133383</td>\n",
       "      <td>10.070913</td>\n",
       "      <td>-500.129135</td>\n",
       "      <td>8.013877</td>\n",
       "      <td>-500.517572</td>\n",
       "      <td>14.028663</td>\n",
       "      <td>-601.427363</td>\n",
       "    </tr>\n",
       "    <tr>\n",
       "      <th>3</th>\n",
       "      <td>2016-01-15 03:00:00</td>\n",
       "      <td>6.047977</td>\n",
       "      <td>9.977019</td>\n",
       "      <td>4.858634</td>\n",
       "      <td>42.689819</td>\n",
       "      <td>68.347543</td>\n",
       "      <td>10.422762</td>\n",
       "      <td>0.883763</td>\n",
       "      <td>16.532835</td>\n",
       "      <td>2.146849</td>\n",
       "      <td>122.270188</td>\n",
       "      <td>11.322140</td>\n",
       "      <td>7.25</td>\n",
       "      <td>0.996739</td>\n",
       "      <td>7.221879</td>\n",
       "      <td>8.496563</td>\n",
       "      <td>15.978538</td>\n",
       "      <td>28.260743</td>\n",
       "      <td>16.024359</td>\n",
       "      <td>2.960362</td>\n",
       "      <td>6.843791</td>\n",
       "      <td>2.262051</td>\n",
       "      <td>1599.968720</td>\n",
       "      <td>-500.951778</td>\n",
       "      <td>1600.659236</td>\n",
       "      <td>-499.677094</td>\n",
       "      <td>1600.304144</td>\n",
       "      <td>-500.727997</td>\n",
       "      <td>1600.449520</td>\n",
       "      <td>-500.052575</td>\n",
       "      <td>42029.447991</td>\n",
       "      <td>3498.578313</td>\n",
       "      <td>3499.162912</td>\n",
       "      <td>3.002340</td>\n",
       "      <td>6.043309</td>\n",
       "      <td>2.037807</td>\n",
       "      <td>542.590390</td>\n",
       "      <td>57.792734</td>\n",
       "      <td>36.862241</td>\n",
       "      <td>6.118189</td>\n",
       "      <td>11.630094</td>\n",
       "      <td>6.203177</td>\n",
       "      <td>11.692450</td>\n",
       "      <td>6.196578</td>\n",
       "      <td>11.915047</td>\n",
       "      <td>7.175616</td>\n",
       "      <td>27.341277</td>\n",
       "      <td>19.320810</td>\n",
       "      <td>87.226430</td>\n",
       "      <td>4.655288</td>\n",
       "      <td>0.542525</td>\n",
       "      <td>19.330200</td>\n",
       "      <td>1.079755</td>\n",
       "      <td>999.814770</td>\n",
       "      <td>-400.200179</td>\n",
       "      <td>1600.059442</td>\n",
       "      <td>-450.619948</td>\n",
       "      <td>1600.012842</td>\n",
       "      <td>-449.910497</td>\n",
       "      <td>1597.725177</td>\n",
       "      <td>-450.130127</td>\n",
       "      <td>1400.943157</td>\n",
       "      <td>-450.030142</td>\n",
       "      <td>1400.234743</td>\n",
       "      <td>-449.790835</td>\n",
       "      <td>13.732071</td>\n",
       "      <td>4.482453</td>\n",
       "      <td>9.122857</td>\n",
       "      <td>2.322062</td>\n",
       "      <td>25.942508</td>\n",
       "      <td>-499.176749</td>\n",
       "      <td>23.955516</td>\n",
       "      <td>-499.848796</td>\n",
       "      <td>23.966838</td>\n",
       "      <td>-500.008812</td>\n",
       "      <td>23.954443</td>\n",
       "      <td>-499.944710</td>\n",
       "      <td>14.036510</td>\n",
       "      <td>-500.857308</td>\n",
       "      <td>11.999550</td>\n",
       "      <td>-501.193686</td>\n",
       "      <td>9.970366</td>\n",
       "      <td>-499.201640</td>\n",
       "      <td>7.977324</td>\n",
       "      <td>-500.255908</td>\n",
       "      <td>14.005551</td>\n",
       "      <td>-599.996129</td>\n",
       "    </tr>\n",
       "    <tr>\n",
       "      <th>4</th>\n",
       "      <td>2016-01-15 04:00:00</td>\n",
       "      <td>6.148599</td>\n",
       "      <td>10.142511</td>\n",
       "      <td>4.939416</td>\n",
       "      <td>42.774141</td>\n",
       "      <td>66.927016</td>\n",
       "      <td>10.360302</td>\n",
       "      <td>0.792826</td>\n",
       "      <td>16.525686</td>\n",
       "      <td>2.055292</td>\n",
       "      <td>117.988169</td>\n",
       "      <td>11.913613</td>\n",
       "      <td>7.25</td>\n",
       "      <td>1.009869</td>\n",
       "      <td>9.089428</td>\n",
       "      <td>9.986786</td>\n",
       "      <td>19.199864</td>\n",
       "      <td>33.044932</td>\n",
       "      <td>16.480185</td>\n",
       "      <td>3.112100</td>\n",
       "      <td>6.550154</td>\n",
       "      <td>2.277073</td>\n",
       "      <td>1601.339707</td>\n",
       "      <td>-498.975456</td>\n",
       "      <td>1601.437854</td>\n",
       "      <td>-500.323246</td>\n",
       "      <td>1599.581894</td>\n",
       "      <td>-500.888152</td>\n",
       "      <td>1602.649541</td>\n",
       "      <td>-500.593010</td>\n",
       "      <td>42125.354245</td>\n",
       "      <td>3494.800771</td>\n",
       "      <td>3506.679315</td>\n",
       "      <td>3.169615</td>\n",
       "      <td>6.060915</td>\n",
       "      <td>1.786875</td>\n",
       "      <td>540.531893</td>\n",
       "      <td>56.047189</td>\n",
       "      <td>34.347666</td>\n",
       "      <td>5.663707</td>\n",
       "      <td>10.957755</td>\n",
       "      <td>6.198826</td>\n",
       "      <td>10.960521</td>\n",
       "      <td>6.194897</td>\n",
       "      <td>12.411054</td>\n",
       "      <td>7.240205</td>\n",
       "      <td>27.041023</td>\n",
       "      <td>19.216101</td>\n",
       "      <td>86.688794</td>\n",
       "      <td>4.552800</td>\n",
       "      <td>0.515438</td>\n",
       "      <td>19.267422</td>\n",
       "      <td>1.012642</td>\n",
       "      <td>999.678690</td>\n",
       "      <td>-399.752729</td>\n",
       "      <td>1600.208824</td>\n",
       "      <td>-449.599614</td>\n",
       "      <td>1600.357732</td>\n",
       "      <td>-450.034364</td>\n",
       "      <td>1599.759049</td>\n",
       "      <td>-449.909799</td>\n",
       "      <td>1401.560902</td>\n",
       "      <td>-448.877187</td>\n",
       "      <td>1401.160227</td>\n",
       "      <td>-450.407128</td>\n",
       "      <td>14.079996</td>\n",
       "      <td>4.470737</td>\n",
       "      <td>8.871028</td>\n",
       "      <td>2.330448</td>\n",
       "      <td>26.024787</td>\n",
       "      <td>-500.279091</td>\n",
       "      <td>23.955345</td>\n",
       "      <td>-500.593614</td>\n",
       "      <td>23.985703</td>\n",
       "      <td>-500.083811</td>\n",
       "      <td>23.958945</td>\n",
       "      <td>-499.990309</td>\n",
       "      <td>14.027298</td>\n",
       "      <td>-499.838632</td>\n",
       "      <td>11.953070</td>\n",
       "      <td>-501.053894</td>\n",
       "      <td>9.925709</td>\n",
       "      <td>-501.686727</td>\n",
       "      <td>7.894242</td>\n",
       "      <td>-500.356035</td>\n",
       "      <td>13.996647</td>\n",
       "      <td>-601.496691</td>\n",
       "    </tr>\n",
       "  </tbody>\n",
       "</table>\n",
       "</div>"
      ],
      "text/plain": [
       "                  date  final.output.concentrate_ag  \\\n",
       "0  2016-01-15 00:00:00                     6.055403   \n",
       "1  2016-01-15 01:00:00                     6.029369   \n",
       "2  2016-01-15 02:00:00                     6.055926   \n",
       "3  2016-01-15 03:00:00                     6.047977   \n",
       "4  2016-01-15 04:00:00                     6.148599   \n",
       "\n",
       "   final.output.concentrate_pb  final.output.concentrate_sol  \\\n",
       "0                     9.889648                      5.507324   \n",
       "1                     9.968944                      5.257781   \n",
       "2                    10.213995                      5.383759   \n",
       "3                     9.977019                      4.858634   \n",
       "4                    10.142511                      4.939416   \n",
       "\n",
       "   final.output.concentrate_au  final.output.recovery  final.output.tail_ag  \\\n",
       "0                    42.192020              70.541216             10.411962   \n",
       "1                    42.701629              69.266198             10.462676   \n",
       "2                    42.657501              68.116445             10.507046   \n",
       "3                    42.689819              68.347543             10.422762   \n",
       "4                    42.774141              66.927016             10.360302   \n",
       "\n",
       "   final.output.tail_pb  final.output.tail_sol  final.output.tail_au  \\\n",
       "0              0.895447              16.904297              2.143149   \n",
       "1              0.927452              16.634514              2.224930   \n",
       "2              0.953716              16.208849              2.257889   \n",
       "3              0.883763              16.532835              2.146849   \n",
       "4              0.792826              16.525686              2.055292   \n",
       "\n",
       "   primary_cleaner.input.sulfate  primary_cleaner.input.depressant  \\\n",
       "0                     127.092003                         10.128295   \n",
       "1                     125.629232                         10.296251   \n",
       "2                     123.819808                         11.316280   \n",
       "3                     122.270188                         11.322140   \n",
       "4                     117.988169                         11.913613   \n",
       "\n",
       "   primary_cleaner.input.feed_size  primary_cleaner.input.xanthate  \\\n",
       "0                             7.25                        0.988759   \n",
       "1                             7.25                        1.002663   \n",
       "2                             7.25                        0.991265   \n",
       "3                             7.25                        0.996739   \n",
       "4                             7.25                        1.009869   \n",
       "\n",
       "   primary_cleaner.output.concentrate_ag  \\\n",
       "0                               8.547551   \n",
       "1                               8.558743   \n",
       "2                               8.603505   \n",
       "3                               7.221879   \n",
       "4                               9.089428   \n",
       "\n",
       "   primary_cleaner.output.concentrate_pb  \\\n",
       "0                              10.389648   \n",
       "1                              10.497069   \n",
       "2                              10.354494   \n",
       "3                               8.496563   \n",
       "4                               9.986786   \n",
       "\n",
       "   primary_cleaner.output.concentrate_sol  \\\n",
       "0                               19.529297   \n",
       "1                               19.369147   \n",
       "2                               19.167579   \n",
       "3                               15.978538   \n",
       "4                               19.199864   \n",
       "\n",
       "   primary_cleaner.output.concentrate_au  primary_cleaner.output.tail_ag  \\\n",
       "0                              34.174427                       14.936526   \n",
       "1                              34.118526                       16.250511   \n",
       "2                              33.969464                       16.491823   \n",
       "3                              28.260743                       16.024359   \n",
       "4                              33.044932                       16.480185   \n",
       "\n",
       "   primary_cleaner.output.tail_pb  primary_cleaner.output.tail_sol  \\\n",
       "0                        2.534912                         7.476074   \n",
       "1                        3.049646                         6.733907   \n",
       "2                        3.124664                         6.471768   \n",
       "3                        2.960362                         6.843791   \n",
       "4                        3.112100                         6.550154   \n",
       "\n",
       "   primary_cleaner.output.tail_au  primary_cleaner.state.floatbank8_a_air  \\\n",
       "0                        2.106679                             1549.775757   \n",
       "1                        2.353017                             1576.166671   \n",
       "2                        2.416800                             1601.556163   \n",
       "3                        2.262051                             1599.968720   \n",
       "4                        2.277073                             1601.339707   \n",
       "\n",
       "   primary_cleaner.state.floatbank8_a_level  \\\n",
       "0                               -498.912140   \n",
       "1                               -500.904965   \n",
       "2                               -499.997791   \n",
       "3                               -500.951778   \n",
       "4                               -498.975456   \n",
       "\n",
       "   primary_cleaner.state.floatbank8_b_air  \\\n",
       "0                             1551.434204   \n",
       "1                             1575.950626   \n",
       "2                             1600.386685   \n",
       "3                             1600.659236   \n",
       "4                             1601.437854   \n",
       "\n",
       "   primary_cleaner.state.floatbank8_b_level  \\\n",
       "0                               -516.403442   \n",
       "1                               -499.865889   \n",
       "2                               -500.607762   \n",
       "3                               -499.677094   \n",
       "4                               -500.323246   \n",
       "\n",
       "   primary_cleaner.state.floatbank8_c_air  \\\n",
       "0                             1549.873901   \n",
       "1                             1575.994189   \n",
       "2                             1602.003542   \n",
       "3                             1600.304144   \n",
       "4                             1599.581894   \n",
       "\n",
       "   primary_cleaner.state.floatbank8_c_level  \\\n",
       "0                               -498.666595   \n",
       "1                               -499.315107   \n",
       "2                               -500.870069   \n",
       "3                               -500.727997   \n",
       "4                               -500.888152   \n",
       "\n",
       "   primary_cleaner.state.floatbank8_d_air  \\\n",
       "0                             1554.367432   \n",
       "1                             1574.479259   \n",
       "2                             1599.541515   \n",
       "3                             1600.449520   \n",
       "4                             1602.649541   \n",
       "\n",
       "   primary_cleaner.state.floatbank8_d_level  \\\n",
       "0                               -493.428131   \n",
       "1                               -498.931665   \n",
       "2                               -499.827444   \n",
       "3                               -500.052575   \n",
       "4                               -500.593010   \n",
       "\n",
       "   rougher.calculation.sulfate_to_au_concentrate  \\\n",
       "0                                   41885.707031   \n",
       "1                                   42050.861809   \n",
       "2                                   42018.101184   \n",
       "3                                   42029.447991   \n",
       "4                                   42125.354245   \n",
       "\n",
       "   rougher.calculation.floatbank10_sulfate_to_au_feed  \\\n",
       "0                                        3481.779053    \n",
       "1                                        3498.370979    \n",
       "2                                        3495.348910    \n",
       "3                                        3498.578313    \n",
       "4                                        3494.800771    \n",
       "\n",
       "   rougher.calculation.floatbank11_sulfate_to_au_feed  \\\n",
       "0                                        3520.337158    \n",
       "1                                        3489.981857    \n",
       "2                                        3502.359819    \n",
       "3                                        3499.162912    \n",
       "4                                        3506.679315    \n",
       "\n",
       "   rougher.calculation.au_pb_ratio  rougher.input.feed_ag  \\\n",
       "0                         2.838687               6.100378   \n",
       "1                         2.858998               6.161113   \n",
       "2                         2.945989               6.116455   \n",
       "3                         3.002340               6.043309   \n",
       "4                         3.169615               6.060915   \n",
       "\n",
       "   rougher.input.feed_pb  rougher.input.feed_rate  rougher.input.feed_size  \\\n",
       "0               2.284912               523.546326                55.486599   \n",
       "1               2.266033               525.290581                57.278666   \n",
       "2               2.159622               530.026610                57.510649   \n",
       "3               2.037807               542.590390                57.792734   \n",
       "4               1.786875               540.531893                56.047189   \n",
       "\n",
       "   rougher.input.feed_sol  rougher.input.feed_au  \\\n",
       "0               36.808594               6.486150   \n",
       "1               35.753385               6.478583   \n",
       "2               35.971630               6.362222   \n",
       "3               36.862241               6.118189   \n",
       "4               34.347666               5.663707   \n",
       "\n",
       "   rougher.input.floatbank10_sulfate  rougher.input.floatbank10_xanthate  \\\n",
       "0                          11.986616                            6.007990   \n",
       "1                          11.971193                            6.005766   \n",
       "2                          11.920603                            6.197377   \n",
       "3                          11.630094                            6.203177   \n",
       "4                          10.957755                            6.198826   \n",
       "\n",
       "   rougher.input.floatbank11_sulfate  rougher.input.floatbank11_xanthate  \\\n",
       "0                          11.836743                            6.005818   \n",
       "1                          11.996163                            6.012594   \n",
       "2                          11.920305                            6.204633   \n",
       "3                          11.692450                            6.196578   \n",
       "4                          10.960521                            6.194897   \n",
       "\n",
       "   rougher.output.concentrate_ag  rougher.output.concentrate_pb  \\\n",
       "0                      11.500771                       7.101074   \n",
       "1                      11.615865                       7.278807   \n",
       "2                      11.695753                       7.216833   \n",
       "3                      11.915047                       7.175616   \n",
       "4                      12.411054                       7.240205   \n",
       "\n",
       "   rougher.output.concentrate_sol  rougher.output.concentrate_au  \\\n",
       "0                       28.029297                      19.793808   \n",
       "1                       28.067063                      20.050975   \n",
       "2                       27.454037                      19.737170   \n",
       "3                       27.341277                      19.320810   \n",
       "4                       27.041023                      19.216101   \n",
       "\n",
       "   rougher.output.recovery  rougher.output.tail_ag  rougher.output.tail_pb  \\\n",
       "0                87.107763                5.008018                0.508728   \n",
       "1                86.843261                4.955378                0.536689   \n",
       "2                86.842308                4.843460                0.546416   \n",
       "3                87.226430                4.655288                0.542525   \n",
       "4                86.688794                4.552800                0.515438   \n",
       "\n",
       "   rougher.output.tail_sol  rougher.output.tail_au  \\\n",
       "0                19.154297                1.170244   \n",
       "1                18.965234                1.184827   \n",
       "2                18.808533                1.162562   \n",
       "3                19.330200                1.079755   \n",
       "4                19.267422                1.012642   \n",
       "\n",
       "   rougher.state.floatbank10_a_air  rougher.state.floatbank10_a_level  \\\n",
       "0                       999.706909                        -404.066986   \n",
       "1                      1000.286398                        -400.065196   \n",
       "2                       999.719565                        -400.074028   \n",
       "3                       999.814770                        -400.200179   \n",
       "4                       999.678690                        -399.752729   \n",
       "\n",
       "   rougher.state.floatbank10_b_air  rougher.state.floatbank10_b_level  \\\n",
       "0                      1603.011353                        -434.715027   \n",
       "1                      1600.754587                        -449.953435   \n",
       "2                      1599.337330                        -450.008530   \n",
       "3                      1600.059442                        -450.619948   \n",
       "4                      1600.208824                        -449.599614   \n",
       "\n",
       "   rougher.state.floatbank10_c_air  rougher.state.floatbank10_c_level  \\\n",
       "0                      1602.375000                        -442.204468   \n",
       "1                      1600.479580                        -449.830646   \n",
       "2                      1599.672797                        -449.954491   \n",
       "3                      1600.012842                        -449.910497   \n",
       "4                      1600.357732                        -450.034364   \n",
       "\n",
       "   rougher.state.floatbank10_d_air  rougher.state.floatbank10_d_level  \\\n",
       "0                      1598.937256                        -451.294128   \n",
       "1                      1600.527589                        -449.953649   \n",
       "2                      1599.849325                        -449.954185   \n",
       "3                      1597.725177                        -450.130127   \n",
       "4                      1599.759049                        -449.909799   \n",
       "\n",
       "   rougher.state.floatbank10_e_air  rougher.state.floatbank10_e_level  \\\n",
       "0                      1404.472046                        -455.462982   \n",
       "1                      1399.227084                        -450.869848   \n",
       "2                      1399.180945                        -449.937588   \n",
       "3                      1400.943157                        -450.030142   \n",
       "4                      1401.560902                        -448.877187   \n",
       "\n",
       "   rougher.state.floatbank10_f_air  rougher.state.floatbank10_f_level  \\\n",
       "0                      1416.354980                        -451.939636   \n",
       "1                      1399.719514                        -450.119001   \n",
       "2                      1400.316682                        -450.527147   \n",
       "3                      1400.234743                        -449.790835   \n",
       "4                      1401.160227                        -450.407128   \n",
       "\n",
       "   secondary_cleaner.output.tail_ag  secondary_cleaner.output.tail_pb  \\\n",
       "0                         14.500184                          4.694824   \n",
       "1                         14.265474                          4.592547   \n",
       "2                         14.115662                          4.624775   \n",
       "3                         13.732071                          4.482453   \n",
       "4                         14.079996                          4.470737   \n",
       "\n",
       "   secondary_cleaner.output.tail_sol  secondary_cleaner.output.tail_au  \\\n",
       "0                           8.764648                          2.606185   \n",
       "1                           9.001494                          2.488248   \n",
       "2                           8.842896                          2.458187   \n",
       "3                           9.122857                          2.322062   \n",
       "4                           8.871028                          2.330448   \n",
       "\n",
       "   secondary_cleaner.state.floatbank2_a_air  \\\n",
       "0                                 25.853109   \n",
       "1                                 25.880539   \n",
       "2                                 26.005245   \n",
       "3                                 25.942508   \n",
       "4                                 26.024787   \n",
       "\n",
       "   secondary_cleaner.state.floatbank2_a_level  \\\n",
       "0                                 -498.526489   \n",
       "1                                 -499.989656   \n",
       "2                                 -499.929616   \n",
       "3                                 -499.176749   \n",
       "4                                 -500.279091   \n",
       "\n",
       "   secondary_cleaner.state.floatbank2_b_air  \\\n",
       "0                                 23.893660   \n",
       "1                                 23.889530   \n",
       "2                                 23.886657   \n",
       "3                                 23.955516   \n",
       "4                                 23.955345   \n",
       "\n",
       "   secondary_cleaner.state.floatbank2_b_level  \\\n",
       "0                                 -501.406281   \n",
       "1                                 -500.372428   \n",
       "2                                 -499.951928   \n",
       "3                                 -499.848796   \n",
       "4                                 -500.593614   \n",
       "\n",
       "   secondary_cleaner.state.floatbank3_a_air  \\\n",
       "0                                 23.961798   \n",
       "1                                 23.970550   \n",
       "2                                 23.913535   \n",
       "3                                 23.966838   \n",
       "4                                 23.985703   \n",
       "\n",
       "   secondary_cleaner.state.floatbank3_a_level  \\\n",
       "0                                 -495.262817   \n",
       "1                                 -500.085473   \n",
       "2                                 -499.442343   \n",
       "3                                 -500.008812   \n",
       "4                                 -500.083811   \n",
       "\n",
       "   secondary_cleaner.state.floatbank3_b_air  \\\n",
       "0                                 21.940409   \n",
       "1                                 22.085714   \n",
       "2                                 23.957717   \n",
       "3                                 23.954443   \n",
       "4                                 23.958945   \n",
       "\n",
       "   secondary_cleaner.state.floatbank3_b_level  \\\n",
       "0                                 -499.340973   \n",
       "1                                 -499.446897   \n",
       "2                                 -499.901982   \n",
       "3                                 -499.944710   \n",
       "4                                 -499.990309   \n",
       "\n",
       "   secondary_cleaner.state.floatbank4_a_air  \\\n",
       "0                                 14.016835   \n",
       "1                                 13.992281   \n",
       "2                                 14.015015   \n",
       "3                                 14.036510   \n",
       "4                                 14.027298   \n",
       "\n",
       "   secondary_cleaner.state.floatbank4_a_level  \\\n",
       "0                                 -502.488007   \n",
       "1                                 -505.503262   \n",
       "2                                 -502.520901   \n",
       "3                                 -500.857308   \n",
       "4                                 -499.838632   \n",
       "\n",
       "   secondary_cleaner.state.floatbank4_b_air  \\\n",
       "0                                 12.099931   \n",
       "1                                 11.950531   \n",
       "2                                 11.912783   \n",
       "3                                 11.999550   \n",
       "4                                 11.953070   \n",
       "\n",
       "   secondary_cleaner.state.floatbank4_b_level  \\\n",
       "0                                 -504.715942   \n",
       "1                                 -501.331529   \n",
       "2                                 -501.133383   \n",
       "3                                 -501.193686   \n",
       "4                                 -501.053894   \n",
       "\n",
       "   secondary_cleaner.state.floatbank5_a_air  \\\n",
       "0                                  9.925633   \n",
       "1                                 10.039245   \n",
       "2                                 10.070913   \n",
       "3                                  9.970366   \n",
       "4                                  9.925709   \n",
       "\n",
       "   secondary_cleaner.state.floatbank5_a_level  \\\n",
       "0                                 -498.310211   \n",
       "1                                 -500.169983   \n",
       "2                                 -500.129135   \n",
       "3                                 -499.201640   \n",
       "4                                 -501.686727   \n",
       "\n",
       "   secondary_cleaner.state.floatbank5_b_air  \\\n",
       "0                                  8.079666   \n",
       "1                                  7.984757   \n",
       "2                                  8.013877   \n",
       "3                                  7.977324   \n",
       "4                                  7.894242   \n",
       "\n",
       "   secondary_cleaner.state.floatbank5_b_level  \\\n",
       "0                                 -500.470978   \n",
       "1                                 -500.582168   \n",
       "2                                 -500.517572   \n",
       "3                                 -500.255908   \n",
       "4                                 -500.356035   \n",
       "\n",
       "   secondary_cleaner.state.floatbank6_a_air  \\\n",
       "0                                 14.151341   \n",
       "1                                 13.998353   \n",
       "2                                 14.028663   \n",
       "3                                 14.005551   \n",
       "4                                 13.996647   \n",
       "\n",
       "   secondary_cleaner.state.floatbank6_a_level  \n",
       "0                                 -605.841980  \n",
       "1                                 -599.787184  \n",
       "2                                 -601.427363  \n",
       "3                                 -599.996129  \n",
       "4                                 -601.496691  "
      ]
     },
     "metadata": {},
     "output_type": "display_data"
    },
    {
     "data": {
      "text/html": [
       "<div>\n",
       "<style scoped>\n",
       "    .dataframe tbody tr th:only-of-type {\n",
       "        vertical-align: middle;\n",
       "    }\n",
       "\n",
       "    .dataframe tbody tr th {\n",
       "        vertical-align: top;\n",
       "    }\n",
       "\n",
       "    .dataframe thead th {\n",
       "        text-align: right;\n",
       "    }\n",
       "</style>\n",
       "<table border=\"1\" class=\"dataframe\">\n",
       "  <thead>\n",
       "    <tr style=\"text-align: right;\">\n",
       "      <th></th>\n",
       "      <th>date</th>\n",
       "      <th>primary_cleaner.input.sulfate</th>\n",
       "      <th>primary_cleaner.input.depressant</th>\n",
       "      <th>primary_cleaner.input.feed_size</th>\n",
       "      <th>primary_cleaner.input.xanthate</th>\n",
       "      <th>primary_cleaner.state.floatbank8_a_air</th>\n",
       "      <th>primary_cleaner.state.floatbank8_a_level</th>\n",
       "      <th>primary_cleaner.state.floatbank8_b_air</th>\n",
       "      <th>primary_cleaner.state.floatbank8_b_level</th>\n",
       "      <th>primary_cleaner.state.floatbank8_c_air</th>\n",
       "      <th>primary_cleaner.state.floatbank8_c_level</th>\n",
       "      <th>primary_cleaner.state.floatbank8_d_air</th>\n",
       "      <th>primary_cleaner.state.floatbank8_d_level</th>\n",
       "      <th>rougher.input.feed_ag</th>\n",
       "      <th>rougher.input.feed_pb</th>\n",
       "      <th>rougher.input.feed_rate</th>\n",
       "      <th>rougher.input.feed_size</th>\n",
       "      <th>rougher.input.feed_sol</th>\n",
       "      <th>rougher.input.feed_au</th>\n",
       "      <th>rougher.input.floatbank10_sulfate</th>\n",
       "      <th>rougher.input.floatbank10_xanthate</th>\n",
       "      <th>rougher.input.floatbank11_sulfate</th>\n",
       "      <th>rougher.input.floatbank11_xanthate</th>\n",
       "      <th>rougher.state.floatbank10_a_air</th>\n",
       "      <th>rougher.state.floatbank10_a_level</th>\n",
       "      <th>rougher.state.floatbank10_b_air</th>\n",
       "      <th>rougher.state.floatbank10_b_level</th>\n",
       "      <th>rougher.state.floatbank10_c_air</th>\n",
       "      <th>rougher.state.floatbank10_c_level</th>\n",
       "      <th>rougher.state.floatbank10_d_air</th>\n",
       "      <th>rougher.state.floatbank10_d_level</th>\n",
       "      <th>rougher.state.floatbank10_e_air</th>\n",
       "      <th>rougher.state.floatbank10_e_level</th>\n",
       "      <th>rougher.state.floatbank10_f_air</th>\n",
       "      <th>rougher.state.floatbank10_f_level</th>\n",
       "      <th>secondary_cleaner.state.floatbank2_a_air</th>\n",
       "      <th>secondary_cleaner.state.floatbank2_a_level</th>\n",
       "      <th>secondary_cleaner.state.floatbank2_b_air</th>\n",
       "      <th>secondary_cleaner.state.floatbank2_b_level</th>\n",
       "      <th>secondary_cleaner.state.floatbank3_a_air</th>\n",
       "      <th>secondary_cleaner.state.floatbank3_a_level</th>\n",
       "      <th>secondary_cleaner.state.floatbank3_b_air</th>\n",
       "      <th>secondary_cleaner.state.floatbank3_b_level</th>\n",
       "      <th>secondary_cleaner.state.floatbank4_a_air</th>\n",
       "      <th>secondary_cleaner.state.floatbank4_a_level</th>\n",
       "      <th>secondary_cleaner.state.floatbank4_b_air</th>\n",
       "      <th>secondary_cleaner.state.floatbank4_b_level</th>\n",
       "      <th>secondary_cleaner.state.floatbank5_a_air</th>\n",
       "      <th>secondary_cleaner.state.floatbank5_a_level</th>\n",
       "      <th>secondary_cleaner.state.floatbank5_b_air</th>\n",
       "      <th>secondary_cleaner.state.floatbank5_b_level</th>\n",
       "      <th>secondary_cleaner.state.floatbank6_a_air</th>\n",
       "      <th>secondary_cleaner.state.floatbank6_a_level</th>\n",
       "    </tr>\n",
       "  </thead>\n",
       "  <tbody>\n",
       "    <tr>\n",
       "      <th>0</th>\n",
       "      <td>2016-09-01 00:59:59</td>\n",
       "      <td>210.800909</td>\n",
       "      <td>14.993118</td>\n",
       "      <td>8.080000</td>\n",
       "      <td>1.005021</td>\n",
       "      <td>1398.981301</td>\n",
       "      <td>-500.225577</td>\n",
       "      <td>1399.144926</td>\n",
       "      <td>-499.919735</td>\n",
       "      <td>1400.102998</td>\n",
       "      <td>-500.704369</td>\n",
       "      <td>1399.001695</td>\n",
       "      <td>-499.485144</td>\n",
       "      <td>13.128569</td>\n",
       "      <td>5.636710</td>\n",
       "      <td>489.793655</td>\n",
       "      <td>62.710452</td>\n",
       "      <td>42.022440</td>\n",
       "      <td>12.084103</td>\n",
       "      <td>16.922877</td>\n",
       "      <td>6.153479</td>\n",
       "      <td>16.867518</td>\n",
       "      <td>6.150709</td>\n",
       "      <td>1001.849317</td>\n",
       "      <td>-350.301265</td>\n",
       "      <td>1249.738612</td>\n",
       "      <td>-399.107531</td>\n",
       "      <td>1249.750520</td>\n",
       "      <td>-399.396730</td>\n",
       "      <td>1198.287855</td>\n",
       "      <td>-399.488594</td>\n",
       "      <td>999.472250</td>\n",
       "      <td>-399.530962</td>\n",
       "      <td>949.566189</td>\n",
       "      <td>-398.180807</td>\n",
       "      <td>24.938200</td>\n",
       "      <td>-500.490963</td>\n",
       "      <td>14.947607</td>\n",
       "      <td>-500.013837</td>\n",
       "      <td>20.018166</td>\n",
       "      <td>-450.395995</td>\n",
       "      <td>13.987058</td>\n",
       "      <td>-449.831513</td>\n",
       "      <td>12.023554</td>\n",
       "      <td>-497.795834</td>\n",
       "      <td>8.016656</td>\n",
       "      <td>-501.289139</td>\n",
       "      <td>7.946562</td>\n",
       "      <td>-432.317850</td>\n",
       "      <td>4.872511</td>\n",
       "      <td>-500.037437</td>\n",
       "      <td>26.705889</td>\n",
       "      <td>-499.709414</td>\n",
       "    </tr>\n",
       "    <tr>\n",
       "      <th>1</th>\n",
       "      <td>2016-09-01 01:59:59</td>\n",
       "      <td>215.392455</td>\n",
       "      <td>14.987471</td>\n",
       "      <td>8.080000</td>\n",
       "      <td>0.990469</td>\n",
       "      <td>1398.777912</td>\n",
       "      <td>-500.057435</td>\n",
       "      <td>1398.055362</td>\n",
       "      <td>-499.778182</td>\n",
       "      <td>1396.151033</td>\n",
       "      <td>-499.240168</td>\n",
       "      <td>1399.508091</td>\n",
       "      <td>-500.416324</td>\n",
       "      <td>13.036280</td>\n",
       "      <td>5.526065</td>\n",
       "      <td>490.104534</td>\n",
       "      <td>61.961163</td>\n",
       "      <td>41.187903</td>\n",
       "      <td>11.918977</td>\n",
       "      <td>17.002532</td>\n",
       "      <td>5.999043</td>\n",
       "      <td>16.996063</td>\n",
       "      <td>6.002315</td>\n",
       "      <td>998.690785</td>\n",
       "      <td>-350.425704</td>\n",
       "      <td>1248.395457</td>\n",
       "      <td>-399.946025</td>\n",
       "      <td>1249.514451</td>\n",
       "      <td>-399.630810</td>\n",
       "      <td>1200.506459</td>\n",
       "      <td>-399.942434</td>\n",
       "      <td>1000.002114</td>\n",
       "      <td>-399.491528</td>\n",
       "      <td>950.200009</td>\n",
       "      <td>-405.787514</td>\n",
       "      <td>24.923466</td>\n",
       "      <td>-499.813963</td>\n",
       "      <td>14.930873</td>\n",
       "      <td>-500.764452</td>\n",
       "      <td>19.988503</td>\n",
       "      <td>-450.114024</td>\n",
       "      <td>14.092981</td>\n",
       "      <td>-450.059163</td>\n",
       "      <td>12.058140</td>\n",
       "      <td>-498.695773</td>\n",
       "      <td>8.130979</td>\n",
       "      <td>-499.634209</td>\n",
       "      <td>7.958270</td>\n",
       "      <td>-525.839648</td>\n",
       "      <td>4.878850</td>\n",
       "      <td>-500.162375</td>\n",
       "      <td>25.019940</td>\n",
       "      <td>-499.819438</td>\n",
       "    </tr>\n",
       "    <tr>\n",
       "      <th>2</th>\n",
       "      <td>2016-09-01 02:59:59</td>\n",
       "      <td>215.259946</td>\n",
       "      <td>12.884934</td>\n",
       "      <td>7.786667</td>\n",
       "      <td>0.996043</td>\n",
       "      <td>1398.493666</td>\n",
       "      <td>-500.868360</td>\n",
       "      <td>1398.860436</td>\n",
       "      <td>-499.764529</td>\n",
       "      <td>1398.075709</td>\n",
       "      <td>-502.151509</td>\n",
       "      <td>1399.497088</td>\n",
       "      <td>-499.715479</td>\n",
       "      <td>13.138412</td>\n",
       "      <td>5.426561</td>\n",
       "      <td>489.617969</td>\n",
       "      <td>66.903807</td>\n",
       "      <td>42.546294</td>\n",
       "      <td>12.091332</td>\n",
       "      <td>16.992520</td>\n",
       "      <td>5.850632</td>\n",
       "      <td>16.982096</td>\n",
       "      <td>5.853594</td>\n",
       "      <td>998.516720</td>\n",
       "      <td>-349.783538</td>\n",
       "      <td>1247.440748</td>\n",
       "      <td>-400.264330</td>\n",
       "      <td>1248.207204</td>\n",
       "      <td>-401.074405</td>\n",
       "      <td>1199.770026</td>\n",
       "      <td>-400.790582</td>\n",
       "      <td>999.925519</td>\n",
       "      <td>-399.236999</td>\n",
       "      <td>950.320481</td>\n",
       "      <td>-400.864340</td>\n",
       "      <td>24.908732</td>\n",
       "      <td>-500.304035</td>\n",
       "      <td>14.996511</td>\n",
       "      <td>-500.993821</td>\n",
       "      <td>20.039689</td>\n",
       "      <td>-450.263164</td>\n",
       "      <td>14.077881</td>\n",
       "      <td>-449.660997</td>\n",
       "      <td>11.962366</td>\n",
       "      <td>-498.767484</td>\n",
       "      <td>8.096893</td>\n",
       "      <td>-500.827423</td>\n",
       "      <td>8.071056</td>\n",
       "      <td>-500.801673</td>\n",
       "      <td>4.905125</td>\n",
       "      <td>-499.828510</td>\n",
       "      <td>24.994862</td>\n",
       "      <td>-500.622559</td>\n",
       "    </tr>\n",
       "    <tr>\n",
       "      <th>3</th>\n",
       "      <td>2016-09-01 03:59:59</td>\n",
       "      <td>215.336236</td>\n",
       "      <td>12.006805</td>\n",
       "      <td>7.640000</td>\n",
       "      <td>0.863514</td>\n",
       "      <td>1399.618111</td>\n",
       "      <td>-498.863574</td>\n",
       "      <td>1397.440120</td>\n",
       "      <td>-499.211024</td>\n",
       "      <td>1400.129303</td>\n",
       "      <td>-498.355873</td>\n",
       "      <td>1401.065165</td>\n",
       "      <td>-501.038738</td>\n",
       "      <td>12.400507</td>\n",
       "      <td>5.114758</td>\n",
       "      <td>476.618130</td>\n",
       "      <td>59.865919</td>\n",
       "      <td>41.060195</td>\n",
       "      <td>12.181597</td>\n",
       "      <td>16.532144</td>\n",
       "      <td>5.801935</td>\n",
       "      <td>16.515277</td>\n",
       "      <td>5.803657</td>\n",
       "      <td>1000.276604</td>\n",
       "      <td>-350.172597</td>\n",
       "      <td>1251.322675</td>\n",
       "      <td>-398.655289</td>\n",
       "      <td>1250.493702</td>\n",
       "      <td>-399.746728</td>\n",
       "      <td>1199.398691</td>\n",
       "      <td>-397.503052</td>\n",
       "      <td>1001.930679</td>\n",
       "      <td>-400.437573</td>\n",
       "      <td>950.735324</td>\n",
       "      <td>-399.802986</td>\n",
       "      <td>24.893998</td>\n",
       "      <td>-499.382374</td>\n",
       "      <td>14.916674</td>\n",
       "      <td>-499.862299</td>\n",
       "      <td>20.031100</td>\n",
       "      <td>-449.372570</td>\n",
       "      <td>14.013968</td>\n",
       "      <td>-449.526900</td>\n",
       "      <td>12.033091</td>\n",
       "      <td>-498.350935</td>\n",
       "      <td>8.074946</td>\n",
       "      <td>-499.474407</td>\n",
       "      <td>7.897085</td>\n",
       "      <td>-500.868509</td>\n",
       "      <td>4.931400</td>\n",
       "      <td>-499.963623</td>\n",
       "      <td>24.948919</td>\n",
       "      <td>-498.709987</td>\n",
       "    </tr>\n",
       "    <tr>\n",
       "      <th>4</th>\n",
       "      <td>2016-09-01 04:59:59</td>\n",
       "      <td>199.099327</td>\n",
       "      <td>10.682530</td>\n",
       "      <td>7.530000</td>\n",
       "      <td>0.805575</td>\n",
       "      <td>1401.268123</td>\n",
       "      <td>-500.808305</td>\n",
       "      <td>1398.128818</td>\n",
       "      <td>-499.504543</td>\n",
       "      <td>1402.172226</td>\n",
       "      <td>-500.810606</td>\n",
       "      <td>1399.480508</td>\n",
       "      <td>-499.374053</td>\n",
       "      <td>11.327427</td>\n",
       "      <td>4.767383</td>\n",
       "      <td>488.248117</td>\n",
       "      <td>63.315324</td>\n",
       "      <td>41.269161</td>\n",
       "      <td>11.290425</td>\n",
       "      <td>13.607257</td>\n",
       "      <td>5.738081</td>\n",
       "      <td>13.650053</td>\n",
       "      <td>5.739634</td>\n",
       "      <td>996.541302</td>\n",
       "      <td>-350.562517</td>\n",
       "      <td>1304.658848</td>\n",
       "      <td>-399.511519</td>\n",
       "      <td>1306.455515</td>\n",
       "      <td>-399.050685</td>\n",
       "      <td>1248.699349</td>\n",
       "      <td>-400.876894</td>\n",
       "      <td>1058.839106</td>\n",
       "      <td>-398.988239</td>\n",
       "      <td>949.645313</td>\n",
       "      <td>-399.277632</td>\n",
       "      <td>24.886905</td>\n",
       "      <td>-499.357375</td>\n",
       "      <td>14.979233</td>\n",
       "      <td>-500.186804</td>\n",
       "      <td>19.962364</td>\n",
       "      <td>-450.638828</td>\n",
       "      <td>14.009245</td>\n",
       "      <td>-450.022259</td>\n",
       "      <td>12.025367</td>\n",
       "      <td>-500.786497</td>\n",
       "      <td>8.054678</td>\n",
       "      <td>-500.397500</td>\n",
       "      <td>8.107890</td>\n",
       "      <td>-509.526725</td>\n",
       "      <td>4.957674</td>\n",
       "      <td>-500.360026</td>\n",
       "      <td>25.003331</td>\n",
       "      <td>-500.856333</td>\n",
       "    </tr>\n",
       "  </tbody>\n",
       "</table>\n",
       "</div>"
      ],
      "text/plain": [
       "                  date  primary_cleaner.input.sulfate  \\\n",
       "0  2016-09-01 00:59:59                     210.800909   \n",
       "1  2016-09-01 01:59:59                     215.392455   \n",
       "2  2016-09-01 02:59:59                     215.259946   \n",
       "3  2016-09-01 03:59:59                     215.336236   \n",
       "4  2016-09-01 04:59:59                     199.099327   \n",
       "\n",
       "   primary_cleaner.input.depressant  primary_cleaner.input.feed_size  \\\n",
       "0                         14.993118                         8.080000   \n",
       "1                         14.987471                         8.080000   \n",
       "2                         12.884934                         7.786667   \n",
       "3                         12.006805                         7.640000   \n",
       "4                         10.682530                         7.530000   \n",
       "\n",
       "   primary_cleaner.input.xanthate  primary_cleaner.state.floatbank8_a_air  \\\n",
       "0                        1.005021                             1398.981301   \n",
       "1                        0.990469                             1398.777912   \n",
       "2                        0.996043                             1398.493666   \n",
       "3                        0.863514                             1399.618111   \n",
       "4                        0.805575                             1401.268123   \n",
       "\n",
       "   primary_cleaner.state.floatbank8_a_level  \\\n",
       "0                               -500.225577   \n",
       "1                               -500.057435   \n",
       "2                               -500.868360   \n",
       "3                               -498.863574   \n",
       "4                               -500.808305   \n",
       "\n",
       "   primary_cleaner.state.floatbank8_b_air  \\\n",
       "0                             1399.144926   \n",
       "1                             1398.055362   \n",
       "2                             1398.860436   \n",
       "3                             1397.440120   \n",
       "4                             1398.128818   \n",
       "\n",
       "   primary_cleaner.state.floatbank8_b_level  \\\n",
       "0                               -499.919735   \n",
       "1                               -499.778182   \n",
       "2                               -499.764529   \n",
       "3                               -499.211024   \n",
       "4                               -499.504543   \n",
       "\n",
       "   primary_cleaner.state.floatbank8_c_air  \\\n",
       "0                             1400.102998   \n",
       "1                             1396.151033   \n",
       "2                             1398.075709   \n",
       "3                             1400.129303   \n",
       "4                             1402.172226   \n",
       "\n",
       "   primary_cleaner.state.floatbank8_c_level  \\\n",
       "0                               -500.704369   \n",
       "1                               -499.240168   \n",
       "2                               -502.151509   \n",
       "3                               -498.355873   \n",
       "4                               -500.810606   \n",
       "\n",
       "   primary_cleaner.state.floatbank8_d_air  \\\n",
       "0                             1399.001695   \n",
       "1                             1399.508091   \n",
       "2                             1399.497088   \n",
       "3                             1401.065165   \n",
       "4                             1399.480508   \n",
       "\n",
       "   primary_cleaner.state.floatbank8_d_level  rougher.input.feed_ag  \\\n",
       "0                               -499.485144              13.128569   \n",
       "1                               -500.416324              13.036280   \n",
       "2                               -499.715479              13.138412   \n",
       "3                               -501.038738              12.400507   \n",
       "4                               -499.374053              11.327427   \n",
       "\n",
       "   rougher.input.feed_pb  rougher.input.feed_rate  rougher.input.feed_size  \\\n",
       "0               5.636710               489.793655                62.710452   \n",
       "1               5.526065               490.104534                61.961163   \n",
       "2               5.426561               489.617969                66.903807   \n",
       "3               5.114758               476.618130                59.865919   \n",
       "4               4.767383               488.248117                63.315324   \n",
       "\n",
       "   rougher.input.feed_sol  rougher.input.feed_au  \\\n",
       "0               42.022440              12.084103   \n",
       "1               41.187903              11.918977   \n",
       "2               42.546294              12.091332   \n",
       "3               41.060195              12.181597   \n",
       "4               41.269161              11.290425   \n",
       "\n",
       "   rougher.input.floatbank10_sulfate  rougher.input.floatbank10_xanthate  \\\n",
       "0                          16.922877                            6.153479   \n",
       "1                          17.002532                            5.999043   \n",
       "2                          16.992520                            5.850632   \n",
       "3                          16.532144                            5.801935   \n",
       "4                          13.607257                            5.738081   \n",
       "\n",
       "   rougher.input.floatbank11_sulfate  rougher.input.floatbank11_xanthate  \\\n",
       "0                          16.867518                            6.150709   \n",
       "1                          16.996063                            6.002315   \n",
       "2                          16.982096                            5.853594   \n",
       "3                          16.515277                            5.803657   \n",
       "4                          13.650053                            5.739634   \n",
       "\n",
       "   rougher.state.floatbank10_a_air  rougher.state.floatbank10_a_level  \\\n",
       "0                      1001.849317                        -350.301265   \n",
       "1                       998.690785                        -350.425704   \n",
       "2                       998.516720                        -349.783538   \n",
       "3                      1000.276604                        -350.172597   \n",
       "4                       996.541302                        -350.562517   \n",
       "\n",
       "   rougher.state.floatbank10_b_air  rougher.state.floatbank10_b_level  \\\n",
       "0                      1249.738612                        -399.107531   \n",
       "1                      1248.395457                        -399.946025   \n",
       "2                      1247.440748                        -400.264330   \n",
       "3                      1251.322675                        -398.655289   \n",
       "4                      1304.658848                        -399.511519   \n",
       "\n",
       "   rougher.state.floatbank10_c_air  rougher.state.floatbank10_c_level  \\\n",
       "0                      1249.750520                        -399.396730   \n",
       "1                      1249.514451                        -399.630810   \n",
       "2                      1248.207204                        -401.074405   \n",
       "3                      1250.493702                        -399.746728   \n",
       "4                      1306.455515                        -399.050685   \n",
       "\n",
       "   rougher.state.floatbank10_d_air  rougher.state.floatbank10_d_level  \\\n",
       "0                      1198.287855                        -399.488594   \n",
       "1                      1200.506459                        -399.942434   \n",
       "2                      1199.770026                        -400.790582   \n",
       "3                      1199.398691                        -397.503052   \n",
       "4                      1248.699349                        -400.876894   \n",
       "\n",
       "   rougher.state.floatbank10_e_air  rougher.state.floatbank10_e_level  \\\n",
       "0                       999.472250                        -399.530962   \n",
       "1                      1000.002114                        -399.491528   \n",
       "2                       999.925519                        -399.236999   \n",
       "3                      1001.930679                        -400.437573   \n",
       "4                      1058.839106                        -398.988239   \n",
       "\n",
       "   rougher.state.floatbank10_f_air  rougher.state.floatbank10_f_level  \\\n",
       "0                       949.566189                        -398.180807   \n",
       "1                       950.200009                        -405.787514   \n",
       "2                       950.320481                        -400.864340   \n",
       "3                       950.735324                        -399.802986   \n",
       "4                       949.645313                        -399.277632   \n",
       "\n",
       "   secondary_cleaner.state.floatbank2_a_air  \\\n",
       "0                                 24.938200   \n",
       "1                                 24.923466   \n",
       "2                                 24.908732   \n",
       "3                                 24.893998   \n",
       "4                                 24.886905   \n",
       "\n",
       "   secondary_cleaner.state.floatbank2_a_level  \\\n",
       "0                                 -500.490963   \n",
       "1                                 -499.813963   \n",
       "2                                 -500.304035   \n",
       "3                                 -499.382374   \n",
       "4                                 -499.357375   \n",
       "\n",
       "   secondary_cleaner.state.floatbank2_b_air  \\\n",
       "0                                 14.947607   \n",
       "1                                 14.930873   \n",
       "2                                 14.996511   \n",
       "3                                 14.916674   \n",
       "4                                 14.979233   \n",
       "\n",
       "   secondary_cleaner.state.floatbank2_b_level  \\\n",
       "0                                 -500.013837   \n",
       "1                                 -500.764452   \n",
       "2                                 -500.993821   \n",
       "3                                 -499.862299   \n",
       "4                                 -500.186804   \n",
       "\n",
       "   secondary_cleaner.state.floatbank3_a_air  \\\n",
       "0                                 20.018166   \n",
       "1                                 19.988503   \n",
       "2                                 20.039689   \n",
       "3                                 20.031100   \n",
       "4                                 19.962364   \n",
       "\n",
       "   secondary_cleaner.state.floatbank3_a_level  \\\n",
       "0                                 -450.395995   \n",
       "1                                 -450.114024   \n",
       "2                                 -450.263164   \n",
       "3                                 -449.372570   \n",
       "4                                 -450.638828   \n",
       "\n",
       "   secondary_cleaner.state.floatbank3_b_air  \\\n",
       "0                                 13.987058   \n",
       "1                                 14.092981   \n",
       "2                                 14.077881   \n",
       "3                                 14.013968   \n",
       "4                                 14.009245   \n",
       "\n",
       "   secondary_cleaner.state.floatbank3_b_level  \\\n",
       "0                                 -449.831513   \n",
       "1                                 -450.059163   \n",
       "2                                 -449.660997   \n",
       "3                                 -449.526900   \n",
       "4                                 -450.022259   \n",
       "\n",
       "   secondary_cleaner.state.floatbank4_a_air  \\\n",
       "0                                 12.023554   \n",
       "1                                 12.058140   \n",
       "2                                 11.962366   \n",
       "3                                 12.033091   \n",
       "4                                 12.025367   \n",
       "\n",
       "   secondary_cleaner.state.floatbank4_a_level  \\\n",
       "0                                 -497.795834   \n",
       "1                                 -498.695773   \n",
       "2                                 -498.767484   \n",
       "3                                 -498.350935   \n",
       "4                                 -500.786497   \n",
       "\n",
       "   secondary_cleaner.state.floatbank4_b_air  \\\n",
       "0                                  8.016656   \n",
       "1                                  8.130979   \n",
       "2                                  8.096893   \n",
       "3                                  8.074946   \n",
       "4                                  8.054678   \n",
       "\n",
       "   secondary_cleaner.state.floatbank4_b_level  \\\n",
       "0                                 -501.289139   \n",
       "1                                 -499.634209   \n",
       "2                                 -500.827423   \n",
       "3                                 -499.474407   \n",
       "4                                 -500.397500   \n",
       "\n",
       "   secondary_cleaner.state.floatbank5_a_air  \\\n",
       "0                                  7.946562   \n",
       "1                                  7.958270   \n",
       "2                                  8.071056   \n",
       "3                                  7.897085   \n",
       "4                                  8.107890   \n",
       "\n",
       "   secondary_cleaner.state.floatbank5_a_level  \\\n",
       "0                                 -432.317850   \n",
       "1                                 -525.839648   \n",
       "2                                 -500.801673   \n",
       "3                                 -500.868509   \n",
       "4                                 -509.526725   \n",
       "\n",
       "   secondary_cleaner.state.floatbank5_b_air  \\\n",
       "0                                  4.872511   \n",
       "1                                  4.878850   \n",
       "2                                  4.905125   \n",
       "3                                  4.931400   \n",
       "4                                  4.957674   \n",
       "\n",
       "   secondary_cleaner.state.floatbank5_b_level  \\\n",
       "0                                 -500.037437   \n",
       "1                                 -500.162375   \n",
       "2                                 -499.828510   \n",
       "3                                 -499.963623   \n",
       "4                                 -500.360026   \n",
       "\n",
       "   secondary_cleaner.state.floatbank6_a_air  \\\n",
       "0                                 26.705889   \n",
       "1                                 25.019940   \n",
       "2                                 24.994862   \n",
       "3                                 24.948919   \n",
       "4                                 25.003331   \n",
       "\n",
       "   secondary_cleaner.state.floatbank6_a_level  \n",
       "0                                 -499.709414  \n",
       "1                                 -499.819438  \n",
       "2                                 -500.622559  \n",
       "3                                 -498.709987  \n",
       "4                                 -500.856333  "
      ]
     },
     "metadata": {},
     "output_type": "display_data"
    },
    {
     "data": {
      "text/html": [
       "<div>\n",
       "<style scoped>\n",
       "    .dataframe tbody tr th:only-of-type {\n",
       "        vertical-align: middle;\n",
       "    }\n",
       "\n",
       "    .dataframe tbody tr th {\n",
       "        vertical-align: top;\n",
       "    }\n",
       "\n",
       "    .dataframe thead th {\n",
       "        text-align: right;\n",
       "    }\n",
       "</style>\n",
       "<table border=\"1\" class=\"dataframe\">\n",
       "  <thead>\n",
       "    <tr style=\"text-align: right;\">\n",
       "      <th></th>\n",
       "      <th>date</th>\n",
       "      <th>final.output.concentrate_ag</th>\n",
       "      <th>final.output.concentrate_pb</th>\n",
       "      <th>final.output.concentrate_sol</th>\n",
       "      <th>final.output.concentrate_au</th>\n",
       "      <th>final.output.recovery</th>\n",
       "      <th>final.output.tail_ag</th>\n",
       "      <th>final.output.tail_pb</th>\n",
       "      <th>final.output.tail_sol</th>\n",
       "      <th>final.output.tail_au</th>\n",
       "      <th>primary_cleaner.input.sulfate</th>\n",
       "      <th>primary_cleaner.input.depressant</th>\n",
       "      <th>primary_cleaner.input.feed_size</th>\n",
       "      <th>primary_cleaner.input.xanthate</th>\n",
       "      <th>primary_cleaner.output.concentrate_ag</th>\n",
       "      <th>primary_cleaner.output.concentrate_pb</th>\n",
       "      <th>primary_cleaner.output.concentrate_sol</th>\n",
       "      <th>primary_cleaner.output.concentrate_au</th>\n",
       "      <th>primary_cleaner.output.tail_ag</th>\n",
       "      <th>primary_cleaner.output.tail_pb</th>\n",
       "      <th>primary_cleaner.output.tail_sol</th>\n",
       "      <th>primary_cleaner.output.tail_au</th>\n",
       "      <th>primary_cleaner.state.floatbank8_a_air</th>\n",
       "      <th>primary_cleaner.state.floatbank8_a_level</th>\n",
       "      <th>primary_cleaner.state.floatbank8_b_air</th>\n",
       "      <th>primary_cleaner.state.floatbank8_b_level</th>\n",
       "      <th>primary_cleaner.state.floatbank8_c_air</th>\n",
       "      <th>primary_cleaner.state.floatbank8_c_level</th>\n",
       "      <th>primary_cleaner.state.floatbank8_d_air</th>\n",
       "      <th>primary_cleaner.state.floatbank8_d_level</th>\n",
       "      <th>rougher.calculation.sulfate_to_au_concentrate</th>\n",
       "      <th>rougher.calculation.floatbank10_sulfate_to_au_feed</th>\n",
       "      <th>rougher.calculation.floatbank11_sulfate_to_au_feed</th>\n",
       "      <th>rougher.calculation.au_pb_ratio</th>\n",
       "      <th>rougher.input.feed_ag</th>\n",
       "      <th>rougher.input.feed_pb</th>\n",
       "      <th>rougher.input.feed_rate</th>\n",
       "      <th>rougher.input.feed_size</th>\n",
       "      <th>rougher.input.feed_sol</th>\n",
       "      <th>rougher.input.feed_au</th>\n",
       "      <th>rougher.input.floatbank10_sulfate</th>\n",
       "      <th>rougher.input.floatbank10_xanthate</th>\n",
       "      <th>rougher.input.floatbank11_sulfate</th>\n",
       "      <th>rougher.input.floatbank11_xanthate</th>\n",
       "      <th>rougher.output.concentrate_ag</th>\n",
       "      <th>rougher.output.concentrate_pb</th>\n",
       "      <th>rougher.output.concentrate_sol</th>\n",
       "      <th>rougher.output.concentrate_au</th>\n",
       "      <th>rougher.output.recovery</th>\n",
       "      <th>rougher.output.tail_ag</th>\n",
       "      <th>rougher.output.tail_pb</th>\n",
       "      <th>rougher.output.tail_sol</th>\n",
       "      <th>rougher.output.tail_au</th>\n",
       "      <th>rougher.state.floatbank10_a_air</th>\n",
       "      <th>rougher.state.floatbank10_a_level</th>\n",
       "      <th>rougher.state.floatbank10_b_air</th>\n",
       "      <th>rougher.state.floatbank10_b_level</th>\n",
       "      <th>rougher.state.floatbank10_c_air</th>\n",
       "      <th>rougher.state.floatbank10_c_level</th>\n",
       "      <th>rougher.state.floatbank10_d_air</th>\n",
       "      <th>rougher.state.floatbank10_d_level</th>\n",
       "      <th>rougher.state.floatbank10_e_air</th>\n",
       "      <th>rougher.state.floatbank10_e_level</th>\n",
       "      <th>rougher.state.floatbank10_f_air</th>\n",
       "      <th>rougher.state.floatbank10_f_level</th>\n",
       "      <th>secondary_cleaner.output.tail_ag</th>\n",
       "      <th>secondary_cleaner.output.tail_pb</th>\n",
       "      <th>secondary_cleaner.output.tail_sol</th>\n",
       "      <th>secondary_cleaner.output.tail_au</th>\n",
       "      <th>secondary_cleaner.state.floatbank2_a_air</th>\n",
       "      <th>secondary_cleaner.state.floatbank2_a_level</th>\n",
       "      <th>secondary_cleaner.state.floatbank2_b_air</th>\n",
       "      <th>secondary_cleaner.state.floatbank2_b_level</th>\n",
       "      <th>secondary_cleaner.state.floatbank3_a_air</th>\n",
       "      <th>secondary_cleaner.state.floatbank3_a_level</th>\n",
       "      <th>secondary_cleaner.state.floatbank3_b_air</th>\n",
       "      <th>secondary_cleaner.state.floatbank3_b_level</th>\n",
       "      <th>secondary_cleaner.state.floatbank4_a_air</th>\n",
       "      <th>secondary_cleaner.state.floatbank4_a_level</th>\n",
       "      <th>secondary_cleaner.state.floatbank4_b_air</th>\n",
       "      <th>secondary_cleaner.state.floatbank4_b_level</th>\n",
       "      <th>secondary_cleaner.state.floatbank5_a_air</th>\n",
       "      <th>secondary_cleaner.state.floatbank5_a_level</th>\n",
       "      <th>secondary_cleaner.state.floatbank5_b_air</th>\n",
       "      <th>secondary_cleaner.state.floatbank5_b_level</th>\n",
       "      <th>secondary_cleaner.state.floatbank6_a_air</th>\n",
       "      <th>secondary_cleaner.state.floatbank6_a_level</th>\n",
       "    </tr>\n",
       "  </thead>\n",
       "  <tbody>\n",
       "    <tr>\n",
       "      <th>0</th>\n",
       "      <td>2016-01-15 00:00:00</td>\n",
       "      <td>6.055403</td>\n",
       "      <td>9.889648</td>\n",
       "      <td>5.507324</td>\n",
       "      <td>42.192020</td>\n",
       "      <td>70.541216</td>\n",
       "      <td>10.411962</td>\n",
       "      <td>0.895447</td>\n",
       "      <td>16.904297</td>\n",
       "      <td>2.143149</td>\n",
       "      <td>127.092003</td>\n",
       "      <td>10.128295</td>\n",
       "      <td>7.25</td>\n",
       "      <td>0.988759</td>\n",
       "      <td>8.547551</td>\n",
       "      <td>10.389648</td>\n",
       "      <td>19.529297</td>\n",
       "      <td>34.174427</td>\n",
       "      <td>14.936526</td>\n",
       "      <td>2.534912</td>\n",
       "      <td>7.476074</td>\n",
       "      <td>2.106679</td>\n",
       "      <td>1549.775757</td>\n",
       "      <td>-498.912140</td>\n",
       "      <td>1551.434204</td>\n",
       "      <td>-516.403442</td>\n",
       "      <td>1549.873901</td>\n",
       "      <td>-498.666595</td>\n",
       "      <td>1554.367432</td>\n",
       "      <td>-493.428131</td>\n",
       "      <td>41885.707031</td>\n",
       "      <td>3481.779053</td>\n",
       "      <td>3520.337158</td>\n",
       "      <td>2.838687</td>\n",
       "      <td>6.100378</td>\n",
       "      <td>2.284912</td>\n",
       "      <td>523.546326</td>\n",
       "      <td>55.486599</td>\n",
       "      <td>36.808594</td>\n",
       "      <td>6.486150</td>\n",
       "      <td>11.986616</td>\n",
       "      <td>6.007990</td>\n",
       "      <td>11.836743</td>\n",
       "      <td>6.005818</td>\n",
       "      <td>11.500771</td>\n",
       "      <td>7.101074</td>\n",
       "      <td>28.029297</td>\n",
       "      <td>19.793808</td>\n",
       "      <td>87.107763</td>\n",
       "      <td>5.008018</td>\n",
       "      <td>0.508728</td>\n",
       "      <td>19.154297</td>\n",
       "      <td>1.170244</td>\n",
       "      <td>999.706909</td>\n",
       "      <td>-404.066986</td>\n",
       "      <td>1603.011353</td>\n",
       "      <td>-434.715027</td>\n",
       "      <td>1602.375000</td>\n",
       "      <td>-442.204468</td>\n",
       "      <td>1598.937256</td>\n",
       "      <td>-451.294128</td>\n",
       "      <td>1404.472046</td>\n",
       "      <td>-455.462982</td>\n",
       "      <td>1416.354980</td>\n",
       "      <td>-451.939636</td>\n",
       "      <td>14.500184</td>\n",
       "      <td>4.694824</td>\n",
       "      <td>8.764648</td>\n",
       "      <td>2.606185</td>\n",
       "      <td>25.853109</td>\n",
       "      <td>-498.526489</td>\n",
       "      <td>23.893660</td>\n",
       "      <td>-501.406281</td>\n",
       "      <td>23.961798</td>\n",
       "      <td>-495.262817</td>\n",
       "      <td>21.940409</td>\n",
       "      <td>-499.340973</td>\n",
       "      <td>14.016835</td>\n",
       "      <td>-502.488007</td>\n",
       "      <td>12.099931</td>\n",
       "      <td>-504.715942</td>\n",
       "      <td>9.925633</td>\n",
       "      <td>-498.310211</td>\n",
       "      <td>8.079666</td>\n",
       "      <td>-500.470978</td>\n",
       "      <td>14.151341</td>\n",
       "      <td>-605.841980</td>\n",
       "    </tr>\n",
       "    <tr>\n",
       "      <th>1</th>\n",
       "      <td>2016-01-15 01:00:00</td>\n",
       "      <td>6.029369</td>\n",
       "      <td>9.968944</td>\n",
       "      <td>5.257781</td>\n",
       "      <td>42.701629</td>\n",
       "      <td>69.266198</td>\n",
       "      <td>10.462676</td>\n",
       "      <td>0.927452</td>\n",
       "      <td>16.634514</td>\n",
       "      <td>2.224930</td>\n",
       "      <td>125.629232</td>\n",
       "      <td>10.296251</td>\n",
       "      <td>7.25</td>\n",
       "      <td>1.002663</td>\n",
       "      <td>8.558743</td>\n",
       "      <td>10.497069</td>\n",
       "      <td>19.369147</td>\n",
       "      <td>34.118526</td>\n",
       "      <td>16.250511</td>\n",
       "      <td>3.049646</td>\n",
       "      <td>6.733907</td>\n",
       "      <td>2.353017</td>\n",
       "      <td>1576.166671</td>\n",
       "      <td>-500.904965</td>\n",
       "      <td>1575.950626</td>\n",
       "      <td>-499.865889</td>\n",
       "      <td>1575.994189</td>\n",
       "      <td>-499.315107</td>\n",
       "      <td>1574.479259</td>\n",
       "      <td>-498.931665</td>\n",
       "      <td>42050.861809</td>\n",
       "      <td>3498.370979</td>\n",
       "      <td>3489.981857</td>\n",
       "      <td>2.858998</td>\n",
       "      <td>6.161113</td>\n",
       "      <td>2.266033</td>\n",
       "      <td>525.290581</td>\n",
       "      <td>57.278666</td>\n",
       "      <td>35.753385</td>\n",
       "      <td>6.478583</td>\n",
       "      <td>11.971193</td>\n",
       "      <td>6.005766</td>\n",
       "      <td>11.996163</td>\n",
       "      <td>6.012594</td>\n",
       "      <td>11.615865</td>\n",
       "      <td>7.278807</td>\n",
       "      <td>28.067063</td>\n",
       "      <td>20.050975</td>\n",
       "      <td>86.843261</td>\n",
       "      <td>4.955378</td>\n",
       "      <td>0.536689</td>\n",
       "      <td>18.965234</td>\n",
       "      <td>1.184827</td>\n",
       "      <td>1000.286398</td>\n",
       "      <td>-400.065196</td>\n",
       "      <td>1600.754587</td>\n",
       "      <td>-449.953435</td>\n",
       "      <td>1600.479580</td>\n",
       "      <td>-449.830646</td>\n",
       "      <td>1600.527589</td>\n",
       "      <td>-449.953649</td>\n",
       "      <td>1399.227084</td>\n",
       "      <td>-450.869848</td>\n",
       "      <td>1399.719514</td>\n",
       "      <td>-450.119001</td>\n",
       "      <td>14.265474</td>\n",
       "      <td>4.592547</td>\n",
       "      <td>9.001494</td>\n",
       "      <td>2.488248</td>\n",
       "      <td>25.880539</td>\n",
       "      <td>-499.989656</td>\n",
       "      <td>23.889530</td>\n",
       "      <td>-500.372428</td>\n",
       "      <td>23.970550</td>\n",
       "      <td>-500.085473</td>\n",
       "      <td>22.085714</td>\n",
       "      <td>-499.446897</td>\n",
       "      <td>13.992281</td>\n",
       "      <td>-505.503262</td>\n",
       "      <td>11.950531</td>\n",
       "      <td>-501.331529</td>\n",
       "      <td>10.039245</td>\n",
       "      <td>-500.169983</td>\n",
       "      <td>7.984757</td>\n",
       "      <td>-500.582168</td>\n",
       "      <td>13.998353</td>\n",
       "      <td>-599.787184</td>\n",
       "    </tr>\n",
       "    <tr>\n",
       "      <th>2</th>\n",
       "      <td>2016-01-15 02:00:00</td>\n",
       "      <td>6.055926</td>\n",
       "      <td>10.213995</td>\n",
       "      <td>5.383759</td>\n",
       "      <td>42.657501</td>\n",
       "      <td>68.116445</td>\n",
       "      <td>10.507046</td>\n",
       "      <td>0.953716</td>\n",
       "      <td>16.208849</td>\n",
       "      <td>2.257889</td>\n",
       "      <td>123.819808</td>\n",
       "      <td>11.316280</td>\n",
       "      <td>7.25</td>\n",
       "      <td>0.991265</td>\n",
       "      <td>8.603505</td>\n",
       "      <td>10.354494</td>\n",
       "      <td>19.167579</td>\n",
       "      <td>33.969464</td>\n",
       "      <td>16.491823</td>\n",
       "      <td>3.124664</td>\n",
       "      <td>6.471768</td>\n",
       "      <td>2.416800</td>\n",
       "      <td>1601.556163</td>\n",
       "      <td>-499.997791</td>\n",
       "      <td>1600.386685</td>\n",
       "      <td>-500.607762</td>\n",
       "      <td>1602.003542</td>\n",
       "      <td>-500.870069</td>\n",
       "      <td>1599.541515</td>\n",
       "      <td>-499.827444</td>\n",
       "      <td>42018.101184</td>\n",
       "      <td>3495.348910</td>\n",
       "      <td>3502.359819</td>\n",
       "      <td>2.945989</td>\n",
       "      <td>6.116455</td>\n",
       "      <td>2.159622</td>\n",
       "      <td>530.026610</td>\n",
       "      <td>57.510649</td>\n",
       "      <td>35.971630</td>\n",
       "      <td>6.362222</td>\n",
       "      <td>11.920603</td>\n",
       "      <td>6.197377</td>\n",
       "      <td>11.920305</td>\n",
       "      <td>6.204633</td>\n",
       "      <td>11.695753</td>\n",
       "      <td>7.216833</td>\n",
       "      <td>27.454037</td>\n",
       "      <td>19.737170</td>\n",
       "      <td>86.842308</td>\n",
       "      <td>4.843460</td>\n",
       "      <td>0.546416</td>\n",
       "      <td>18.808533</td>\n",
       "      <td>1.162562</td>\n",
       "      <td>999.719565</td>\n",
       "      <td>-400.074028</td>\n",
       "      <td>1599.337330</td>\n",
       "      <td>-450.008530</td>\n",
       "      <td>1599.672797</td>\n",
       "      <td>-449.954491</td>\n",
       "      <td>1599.849325</td>\n",
       "      <td>-449.954185</td>\n",
       "      <td>1399.180945</td>\n",
       "      <td>-449.937588</td>\n",
       "      <td>1400.316682</td>\n",
       "      <td>-450.527147</td>\n",
       "      <td>14.115662</td>\n",
       "      <td>4.624775</td>\n",
       "      <td>8.842896</td>\n",
       "      <td>2.458187</td>\n",
       "      <td>26.005245</td>\n",
       "      <td>-499.929616</td>\n",
       "      <td>23.886657</td>\n",
       "      <td>-499.951928</td>\n",
       "      <td>23.913535</td>\n",
       "      <td>-499.442343</td>\n",
       "      <td>23.957717</td>\n",
       "      <td>-499.901982</td>\n",
       "      <td>14.015015</td>\n",
       "      <td>-502.520901</td>\n",
       "      <td>11.912783</td>\n",
       "      <td>-501.133383</td>\n",
       "      <td>10.070913</td>\n",
       "      <td>-500.129135</td>\n",
       "      <td>8.013877</td>\n",
       "      <td>-500.517572</td>\n",
       "      <td>14.028663</td>\n",
       "      <td>-601.427363</td>\n",
       "    </tr>\n",
       "    <tr>\n",
       "      <th>3</th>\n",
       "      <td>2016-01-15 03:00:00</td>\n",
       "      <td>6.047977</td>\n",
       "      <td>9.977019</td>\n",
       "      <td>4.858634</td>\n",
       "      <td>42.689819</td>\n",
       "      <td>68.347543</td>\n",
       "      <td>10.422762</td>\n",
       "      <td>0.883763</td>\n",
       "      <td>16.532835</td>\n",
       "      <td>2.146849</td>\n",
       "      <td>122.270188</td>\n",
       "      <td>11.322140</td>\n",
       "      <td>7.25</td>\n",
       "      <td>0.996739</td>\n",
       "      <td>7.221879</td>\n",
       "      <td>8.496563</td>\n",
       "      <td>15.978538</td>\n",
       "      <td>28.260743</td>\n",
       "      <td>16.024359</td>\n",
       "      <td>2.960362</td>\n",
       "      <td>6.843791</td>\n",
       "      <td>2.262051</td>\n",
       "      <td>1599.968720</td>\n",
       "      <td>-500.951778</td>\n",
       "      <td>1600.659236</td>\n",
       "      <td>-499.677094</td>\n",
       "      <td>1600.304144</td>\n",
       "      <td>-500.727997</td>\n",
       "      <td>1600.449520</td>\n",
       "      <td>-500.052575</td>\n",
       "      <td>42029.447991</td>\n",
       "      <td>3498.578313</td>\n",
       "      <td>3499.162912</td>\n",
       "      <td>3.002340</td>\n",
       "      <td>6.043309</td>\n",
       "      <td>2.037807</td>\n",
       "      <td>542.590390</td>\n",
       "      <td>57.792734</td>\n",
       "      <td>36.862241</td>\n",
       "      <td>6.118189</td>\n",
       "      <td>11.630094</td>\n",
       "      <td>6.203177</td>\n",
       "      <td>11.692450</td>\n",
       "      <td>6.196578</td>\n",
       "      <td>11.915047</td>\n",
       "      <td>7.175616</td>\n",
       "      <td>27.341277</td>\n",
       "      <td>19.320810</td>\n",
       "      <td>87.226430</td>\n",
       "      <td>4.655288</td>\n",
       "      <td>0.542525</td>\n",
       "      <td>19.330200</td>\n",
       "      <td>1.079755</td>\n",
       "      <td>999.814770</td>\n",
       "      <td>-400.200179</td>\n",
       "      <td>1600.059442</td>\n",
       "      <td>-450.619948</td>\n",
       "      <td>1600.012842</td>\n",
       "      <td>-449.910497</td>\n",
       "      <td>1597.725177</td>\n",
       "      <td>-450.130127</td>\n",
       "      <td>1400.943157</td>\n",
       "      <td>-450.030142</td>\n",
       "      <td>1400.234743</td>\n",
       "      <td>-449.790835</td>\n",
       "      <td>13.732071</td>\n",
       "      <td>4.482453</td>\n",
       "      <td>9.122857</td>\n",
       "      <td>2.322062</td>\n",
       "      <td>25.942508</td>\n",
       "      <td>-499.176749</td>\n",
       "      <td>23.955516</td>\n",
       "      <td>-499.848796</td>\n",
       "      <td>23.966838</td>\n",
       "      <td>-500.008812</td>\n",
       "      <td>23.954443</td>\n",
       "      <td>-499.944710</td>\n",
       "      <td>14.036510</td>\n",
       "      <td>-500.857308</td>\n",
       "      <td>11.999550</td>\n",
       "      <td>-501.193686</td>\n",
       "      <td>9.970366</td>\n",
       "      <td>-499.201640</td>\n",
       "      <td>7.977324</td>\n",
       "      <td>-500.255908</td>\n",
       "      <td>14.005551</td>\n",
       "      <td>-599.996129</td>\n",
       "    </tr>\n",
       "    <tr>\n",
       "      <th>4</th>\n",
       "      <td>2016-01-15 04:00:00</td>\n",
       "      <td>6.148599</td>\n",
       "      <td>10.142511</td>\n",
       "      <td>4.939416</td>\n",
       "      <td>42.774141</td>\n",
       "      <td>66.927016</td>\n",
       "      <td>10.360302</td>\n",
       "      <td>0.792826</td>\n",
       "      <td>16.525686</td>\n",
       "      <td>2.055292</td>\n",
       "      <td>117.988169</td>\n",
       "      <td>11.913613</td>\n",
       "      <td>7.25</td>\n",
       "      <td>1.009869</td>\n",
       "      <td>9.089428</td>\n",
       "      <td>9.986786</td>\n",
       "      <td>19.199864</td>\n",
       "      <td>33.044932</td>\n",
       "      <td>16.480185</td>\n",
       "      <td>3.112100</td>\n",
       "      <td>6.550154</td>\n",
       "      <td>2.277073</td>\n",
       "      <td>1601.339707</td>\n",
       "      <td>-498.975456</td>\n",
       "      <td>1601.437854</td>\n",
       "      <td>-500.323246</td>\n",
       "      <td>1599.581894</td>\n",
       "      <td>-500.888152</td>\n",
       "      <td>1602.649541</td>\n",
       "      <td>-500.593010</td>\n",
       "      <td>42125.354245</td>\n",
       "      <td>3494.800771</td>\n",
       "      <td>3506.679315</td>\n",
       "      <td>3.169615</td>\n",
       "      <td>6.060915</td>\n",
       "      <td>1.786875</td>\n",
       "      <td>540.531893</td>\n",
       "      <td>56.047189</td>\n",
       "      <td>34.347666</td>\n",
       "      <td>5.663707</td>\n",
       "      <td>10.957755</td>\n",
       "      <td>6.198826</td>\n",
       "      <td>10.960521</td>\n",
       "      <td>6.194897</td>\n",
       "      <td>12.411054</td>\n",
       "      <td>7.240205</td>\n",
       "      <td>27.041023</td>\n",
       "      <td>19.216101</td>\n",
       "      <td>86.688794</td>\n",
       "      <td>4.552800</td>\n",
       "      <td>0.515438</td>\n",
       "      <td>19.267422</td>\n",
       "      <td>1.012642</td>\n",
       "      <td>999.678690</td>\n",
       "      <td>-399.752729</td>\n",
       "      <td>1600.208824</td>\n",
       "      <td>-449.599614</td>\n",
       "      <td>1600.357732</td>\n",
       "      <td>-450.034364</td>\n",
       "      <td>1599.759049</td>\n",
       "      <td>-449.909799</td>\n",
       "      <td>1401.560902</td>\n",
       "      <td>-448.877187</td>\n",
       "      <td>1401.160227</td>\n",
       "      <td>-450.407128</td>\n",
       "      <td>14.079996</td>\n",
       "      <td>4.470737</td>\n",
       "      <td>8.871028</td>\n",
       "      <td>2.330448</td>\n",
       "      <td>26.024787</td>\n",
       "      <td>-500.279091</td>\n",
       "      <td>23.955345</td>\n",
       "      <td>-500.593614</td>\n",
       "      <td>23.985703</td>\n",
       "      <td>-500.083811</td>\n",
       "      <td>23.958945</td>\n",
       "      <td>-499.990309</td>\n",
       "      <td>14.027298</td>\n",
       "      <td>-499.838632</td>\n",
       "      <td>11.953070</td>\n",
       "      <td>-501.053894</td>\n",
       "      <td>9.925709</td>\n",
       "      <td>-501.686727</td>\n",
       "      <td>7.894242</td>\n",
       "      <td>-500.356035</td>\n",
       "      <td>13.996647</td>\n",
       "      <td>-601.496691</td>\n",
       "    </tr>\n",
       "  </tbody>\n",
       "</table>\n",
       "</div>"
      ],
      "text/plain": [
       "                  date  final.output.concentrate_ag  \\\n",
       "0  2016-01-15 00:00:00                     6.055403   \n",
       "1  2016-01-15 01:00:00                     6.029369   \n",
       "2  2016-01-15 02:00:00                     6.055926   \n",
       "3  2016-01-15 03:00:00                     6.047977   \n",
       "4  2016-01-15 04:00:00                     6.148599   \n",
       "\n",
       "   final.output.concentrate_pb  final.output.concentrate_sol  \\\n",
       "0                     9.889648                      5.507324   \n",
       "1                     9.968944                      5.257781   \n",
       "2                    10.213995                      5.383759   \n",
       "3                     9.977019                      4.858634   \n",
       "4                    10.142511                      4.939416   \n",
       "\n",
       "   final.output.concentrate_au  final.output.recovery  final.output.tail_ag  \\\n",
       "0                    42.192020              70.541216             10.411962   \n",
       "1                    42.701629              69.266198             10.462676   \n",
       "2                    42.657501              68.116445             10.507046   \n",
       "3                    42.689819              68.347543             10.422762   \n",
       "4                    42.774141              66.927016             10.360302   \n",
       "\n",
       "   final.output.tail_pb  final.output.tail_sol  final.output.tail_au  \\\n",
       "0              0.895447              16.904297              2.143149   \n",
       "1              0.927452              16.634514              2.224930   \n",
       "2              0.953716              16.208849              2.257889   \n",
       "3              0.883763              16.532835              2.146849   \n",
       "4              0.792826              16.525686              2.055292   \n",
       "\n",
       "   primary_cleaner.input.sulfate  primary_cleaner.input.depressant  \\\n",
       "0                     127.092003                         10.128295   \n",
       "1                     125.629232                         10.296251   \n",
       "2                     123.819808                         11.316280   \n",
       "3                     122.270188                         11.322140   \n",
       "4                     117.988169                         11.913613   \n",
       "\n",
       "   primary_cleaner.input.feed_size  primary_cleaner.input.xanthate  \\\n",
       "0                             7.25                        0.988759   \n",
       "1                             7.25                        1.002663   \n",
       "2                             7.25                        0.991265   \n",
       "3                             7.25                        0.996739   \n",
       "4                             7.25                        1.009869   \n",
       "\n",
       "   primary_cleaner.output.concentrate_ag  \\\n",
       "0                               8.547551   \n",
       "1                               8.558743   \n",
       "2                               8.603505   \n",
       "3                               7.221879   \n",
       "4                               9.089428   \n",
       "\n",
       "   primary_cleaner.output.concentrate_pb  \\\n",
       "0                              10.389648   \n",
       "1                              10.497069   \n",
       "2                              10.354494   \n",
       "3                               8.496563   \n",
       "4                               9.986786   \n",
       "\n",
       "   primary_cleaner.output.concentrate_sol  \\\n",
       "0                               19.529297   \n",
       "1                               19.369147   \n",
       "2                               19.167579   \n",
       "3                               15.978538   \n",
       "4                               19.199864   \n",
       "\n",
       "   primary_cleaner.output.concentrate_au  primary_cleaner.output.tail_ag  \\\n",
       "0                              34.174427                       14.936526   \n",
       "1                              34.118526                       16.250511   \n",
       "2                              33.969464                       16.491823   \n",
       "3                              28.260743                       16.024359   \n",
       "4                              33.044932                       16.480185   \n",
       "\n",
       "   primary_cleaner.output.tail_pb  primary_cleaner.output.tail_sol  \\\n",
       "0                        2.534912                         7.476074   \n",
       "1                        3.049646                         6.733907   \n",
       "2                        3.124664                         6.471768   \n",
       "3                        2.960362                         6.843791   \n",
       "4                        3.112100                         6.550154   \n",
       "\n",
       "   primary_cleaner.output.tail_au  primary_cleaner.state.floatbank8_a_air  \\\n",
       "0                        2.106679                             1549.775757   \n",
       "1                        2.353017                             1576.166671   \n",
       "2                        2.416800                             1601.556163   \n",
       "3                        2.262051                             1599.968720   \n",
       "4                        2.277073                             1601.339707   \n",
       "\n",
       "   primary_cleaner.state.floatbank8_a_level  \\\n",
       "0                               -498.912140   \n",
       "1                               -500.904965   \n",
       "2                               -499.997791   \n",
       "3                               -500.951778   \n",
       "4                               -498.975456   \n",
       "\n",
       "   primary_cleaner.state.floatbank8_b_air  \\\n",
       "0                             1551.434204   \n",
       "1                             1575.950626   \n",
       "2                             1600.386685   \n",
       "3                             1600.659236   \n",
       "4                             1601.437854   \n",
       "\n",
       "   primary_cleaner.state.floatbank8_b_level  \\\n",
       "0                               -516.403442   \n",
       "1                               -499.865889   \n",
       "2                               -500.607762   \n",
       "3                               -499.677094   \n",
       "4                               -500.323246   \n",
       "\n",
       "   primary_cleaner.state.floatbank8_c_air  \\\n",
       "0                             1549.873901   \n",
       "1                             1575.994189   \n",
       "2                             1602.003542   \n",
       "3                             1600.304144   \n",
       "4                             1599.581894   \n",
       "\n",
       "   primary_cleaner.state.floatbank8_c_level  \\\n",
       "0                               -498.666595   \n",
       "1                               -499.315107   \n",
       "2                               -500.870069   \n",
       "3                               -500.727997   \n",
       "4                               -500.888152   \n",
       "\n",
       "   primary_cleaner.state.floatbank8_d_air  \\\n",
       "0                             1554.367432   \n",
       "1                             1574.479259   \n",
       "2                             1599.541515   \n",
       "3                             1600.449520   \n",
       "4                             1602.649541   \n",
       "\n",
       "   primary_cleaner.state.floatbank8_d_level  \\\n",
       "0                               -493.428131   \n",
       "1                               -498.931665   \n",
       "2                               -499.827444   \n",
       "3                               -500.052575   \n",
       "4                               -500.593010   \n",
       "\n",
       "   rougher.calculation.sulfate_to_au_concentrate  \\\n",
       "0                                   41885.707031   \n",
       "1                                   42050.861809   \n",
       "2                                   42018.101184   \n",
       "3                                   42029.447991   \n",
       "4                                   42125.354245   \n",
       "\n",
       "   rougher.calculation.floatbank10_sulfate_to_au_feed  \\\n",
       "0                                        3481.779053    \n",
       "1                                        3498.370979    \n",
       "2                                        3495.348910    \n",
       "3                                        3498.578313    \n",
       "4                                        3494.800771    \n",
       "\n",
       "   rougher.calculation.floatbank11_sulfate_to_au_feed  \\\n",
       "0                                        3520.337158    \n",
       "1                                        3489.981857    \n",
       "2                                        3502.359819    \n",
       "3                                        3499.162912    \n",
       "4                                        3506.679315    \n",
       "\n",
       "   rougher.calculation.au_pb_ratio  rougher.input.feed_ag  \\\n",
       "0                         2.838687               6.100378   \n",
       "1                         2.858998               6.161113   \n",
       "2                         2.945989               6.116455   \n",
       "3                         3.002340               6.043309   \n",
       "4                         3.169615               6.060915   \n",
       "\n",
       "   rougher.input.feed_pb  rougher.input.feed_rate  rougher.input.feed_size  \\\n",
       "0               2.284912               523.546326                55.486599   \n",
       "1               2.266033               525.290581                57.278666   \n",
       "2               2.159622               530.026610                57.510649   \n",
       "3               2.037807               542.590390                57.792734   \n",
       "4               1.786875               540.531893                56.047189   \n",
       "\n",
       "   rougher.input.feed_sol  rougher.input.feed_au  \\\n",
       "0               36.808594               6.486150   \n",
       "1               35.753385               6.478583   \n",
       "2               35.971630               6.362222   \n",
       "3               36.862241               6.118189   \n",
       "4               34.347666               5.663707   \n",
       "\n",
       "   rougher.input.floatbank10_sulfate  rougher.input.floatbank10_xanthate  \\\n",
       "0                          11.986616                            6.007990   \n",
       "1                          11.971193                            6.005766   \n",
       "2                          11.920603                            6.197377   \n",
       "3                          11.630094                            6.203177   \n",
       "4                          10.957755                            6.198826   \n",
       "\n",
       "   rougher.input.floatbank11_sulfate  rougher.input.floatbank11_xanthate  \\\n",
       "0                          11.836743                            6.005818   \n",
       "1                          11.996163                            6.012594   \n",
       "2                          11.920305                            6.204633   \n",
       "3                          11.692450                            6.196578   \n",
       "4                          10.960521                            6.194897   \n",
       "\n",
       "   rougher.output.concentrate_ag  rougher.output.concentrate_pb  \\\n",
       "0                      11.500771                       7.101074   \n",
       "1                      11.615865                       7.278807   \n",
       "2                      11.695753                       7.216833   \n",
       "3                      11.915047                       7.175616   \n",
       "4                      12.411054                       7.240205   \n",
       "\n",
       "   rougher.output.concentrate_sol  rougher.output.concentrate_au  \\\n",
       "0                       28.029297                      19.793808   \n",
       "1                       28.067063                      20.050975   \n",
       "2                       27.454037                      19.737170   \n",
       "3                       27.341277                      19.320810   \n",
       "4                       27.041023                      19.216101   \n",
       "\n",
       "   rougher.output.recovery  rougher.output.tail_ag  rougher.output.tail_pb  \\\n",
       "0                87.107763                5.008018                0.508728   \n",
       "1                86.843261                4.955378                0.536689   \n",
       "2                86.842308                4.843460                0.546416   \n",
       "3                87.226430                4.655288                0.542525   \n",
       "4                86.688794                4.552800                0.515438   \n",
       "\n",
       "   rougher.output.tail_sol  rougher.output.tail_au  \\\n",
       "0                19.154297                1.170244   \n",
       "1                18.965234                1.184827   \n",
       "2                18.808533                1.162562   \n",
       "3                19.330200                1.079755   \n",
       "4                19.267422                1.012642   \n",
       "\n",
       "   rougher.state.floatbank10_a_air  rougher.state.floatbank10_a_level  \\\n",
       "0                       999.706909                        -404.066986   \n",
       "1                      1000.286398                        -400.065196   \n",
       "2                       999.719565                        -400.074028   \n",
       "3                       999.814770                        -400.200179   \n",
       "4                       999.678690                        -399.752729   \n",
       "\n",
       "   rougher.state.floatbank10_b_air  rougher.state.floatbank10_b_level  \\\n",
       "0                      1603.011353                        -434.715027   \n",
       "1                      1600.754587                        -449.953435   \n",
       "2                      1599.337330                        -450.008530   \n",
       "3                      1600.059442                        -450.619948   \n",
       "4                      1600.208824                        -449.599614   \n",
       "\n",
       "   rougher.state.floatbank10_c_air  rougher.state.floatbank10_c_level  \\\n",
       "0                      1602.375000                        -442.204468   \n",
       "1                      1600.479580                        -449.830646   \n",
       "2                      1599.672797                        -449.954491   \n",
       "3                      1600.012842                        -449.910497   \n",
       "4                      1600.357732                        -450.034364   \n",
       "\n",
       "   rougher.state.floatbank10_d_air  rougher.state.floatbank10_d_level  \\\n",
       "0                      1598.937256                        -451.294128   \n",
       "1                      1600.527589                        -449.953649   \n",
       "2                      1599.849325                        -449.954185   \n",
       "3                      1597.725177                        -450.130127   \n",
       "4                      1599.759049                        -449.909799   \n",
       "\n",
       "   rougher.state.floatbank10_e_air  rougher.state.floatbank10_e_level  \\\n",
       "0                      1404.472046                        -455.462982   \n",
       "1                      1399.227084                        -450.869848   \n",
       "2                      1399.180945                        -449.937588   \n",
       "3                      1400.943157                        -450.030142   \n",
       "4                      1401.560902                        -448.877187   \n",
       "\n",
       "   rougher.state.floatbank10_f_air  rougher.state.floatbank10_f_level  \\\n",
       "0                      1416.354980                        -451.939636   \n",
       "1                      1399.719514                        -450.119001   \n",
       "2                      1400.316682                        -450.527147   \n",
       "3                      1400.234743                        -449.790835   \n",
       "4                      1401.160227                        -450.407128   \n",
       "\n",
       "   secondary_cleaner.output.tail_ag  secondary_cleaner.output.tail_pb  \\\n",
       "0                         14.500184                          4.694824   \n",
       "1                         14.265474                          4.592547   \n",
       "2                         14.115662                          4.624775   \n",
       "3                         13.732071                          4.482453   \n",
       "4                         14.079996                          4.470737   \n",
       "\n",
       "   secondary_cleaner.output.tail_sol  secondary_cleaner.output.tail_au  \\\n",
       "0                           8.764648                          2.606185   \n",
       "1                           9.001494                          2.488248   \n",
       "2                           8.842896                          2.458187   \n",
       "3                           9.122857                          2.322062   \n",
       "4                           8.871028                          2.330448   \n",
       "\n",
       "   secondary_cleaner.state.floatbank2_a_air  \\\n",
       "0                                 25.853109   \n",
       "1                                 25.880539   \n",
       "2                                 26.005245   \n",
       "3                                 25.942508   \n",
       "4                                 26.024787   \n",
       "\n",
       "   secondary_cleaner.state.floatbank2_a_level  \\\n",
       "0                                 -498.526489   \n",
       "1                                 -499.989656   \n",
       "2                                 -499.929616   \n",
       "3                                 -499.176749   \n",
       "4                                 -500.279091   \n",
       "\n",
       "   secondary_cleaner.state.floatbank2_b_air  \\\n",
       "0                                 23.893660   \n",
       "1                                 23.889530   \n",
       "2                                 23.886657   \n",
       "3                                 23.955516   \n",
       "4                                 23.955345   \n",
       "\n",
       "   secondary_cleaner.state.floatbank2_b_level  \\\n",
       "0                                 -501.406281   \n",
       "1                                 -500.372428   \n",
       "2                                 -499.951928   \n",
       "3                                 -499.848796   \n",
       "4                                 -500.593614   \n",
       "\n",
       "   secondary_cleaner.state.floatbank3_a_air  \\\n",
       "0                                 23.961798   \n",
       "1                                 23.970550   \n",
       "2                                 23.913535   \n",
       "3                                 23.966838   \n",
       "4                                 23.985703   \n",
       "\n",
       "   secondary_cleaner.state.floatbank3_a_level  \\\n",
       "0                                 -495.262817   \n",
       "1                                 -500.085473   \n",
       "2                                 -499.442343   \n",
       "3                                 -500.008812   \n",
       "4                                 -500.083811   \n",
       "\n",
       "   secondary_cleaner.state.floatbank3_b_air  \\\n",
       "0                                 21.940409   \n",
       "1                                 22.085714   \n",
       "2                                 23.957717   \n",
       "3                                 23.954443   \n",
       "4                                 23.958945   \n",
       "\n",
       "   secondary_cleaner.state.floatbank3_b_level  \\\n",
       "0                                 -499.340973   \n",
       "1                                 -499.446897   \n",
       "2                                 -499.901982   \n",
       "3                                 -499.944710   \n",
       "4                                 -499.990309   \n",
       "\n",
       "   secondary_cleaner.state.floatbank4_a_air  \\\n",
       "0                                 14.016835   \n",
       "1                                 13.992281   \n",
       "2                                 14.015015   \n",
       "3                                 14.036510   \n",
       "4                                 14.027298   \n",
       "\n",
       "   secondary_cleaner.state.floatbank4_a_level  \\\n",
       "0                                 -502.488007   \n",
       "1                                 -505.503262   \n",
       "2                                 -502.520901   \n",
       "3                                 -500.857308   \n",
       "4                                 -499.838632   \n",
       "\n",
       "   secondary_cleaner.state.floatbank4_b_air  \\\n",
       "0                                 12.099931   \n",
       "1                                 11.950531   \n",
       "2                                 11.912783   \n",
       "3                                 11.999550   \n",
       "4                                 11.953070   \n",
       "\n",
       "   secondary_cleaner.state.floatbank4_b_level  \\\n",
       "0                                 -504.715942   \n",
       "1                                 -501.331529   \n",
       "2                                 -501.133383   \n",
       "3                                 -501.193686   \n",
       "4                                 -501.053894   \n",
       "\n",
       "   secondary_cleaner.state.floatbank5_a_air  \\\n",
       "0                                  9.925633   \n",
       "1                                 10.039245   \n",
       "2                                 10.070913   \n",
       "3                                  9.970366   \n",
       "4                                  9.925709   \n",
       "\n",
       "   secondary_cleaner.state.floatbank5_a_level  \\\n",
       "0                                 -498.310211   \n",
       "1                                 -500.169983   \n",
       "2                                 -500.129135   \n",
       "3                                 -499.201640   \n",
       "4                                 -501.686727   \n",
       "\n",
       "   secondary_cleaner.state.floatbank5_b_air  \\\n",
       "0                                  8.079666   \n",
       "1                                  7.984757   \n",
       "2                                  8.013877   \n",
       "3                                  7.977324   \n",
       "4                                  7.894242   \n",
       "\n",
       "   secondary_cleaner.state.floatbank5_b_level  \\\n",
       "0                                 -500.470978   \n",
       "1                                 -500.582168   \n",
       "2                                 -500.517572   \n",
       "3                                 -500.255908   \n",
       "4                                 -500.356035   \n",
       "\n",
       "   secondary_cleaner.state.floatbank6_a_air  \\\n",
       "0                                 14.151341   \n",
       "1                                 13.998353   \n",
       "2                                 14.028663   \n",
       "3                                 14.005551   \n",
       "4                                 13.996647   \n",
       "\n",
       "   secondary_cleaner.state.floatbank6_a_level  \n",
       "0                                 -605.841980  \n",
       "1                                 -599.787184  \n",
       "2                                 -601.427363  \n",
       "3                                 -599.996129  \n",
       "4                                 -601.496691  "
      ]
     },
     "metadata": {},
     "output_type": "display_data"
    }
   ],
   "source": [
    "display(df_train.head())\n",
    "display(df_test.head())\n",
    "display(df_full.head())"
   ]
  },
  {
   "cell_type": "code",
   "execution_count": 10,
   "metadata": {
    "collapsed": true
   },
   "outputs": [
    {
     "name": "stdout",
     "output_type": "stream",
     "text": [
      "<class 'pandas.core.frame.DataFrame'>\n",
      "RangeIndex: 14149 entries, 0 to 14148\n",
      "Data columns (total 87 columns):\n",
      " #   Column                                              Non-Null Count  Dtype  \n",
      "---  ------                                              --------------  -----  \n",
      " 0   date                                                14149 non-null  object \n",
      " 1   final.output.concentrate_ag                         14148 non-null  float64\n",
      " 2   final.output.concentrate_pb                         14148 non-null  float64\n",
      " 3   final.output.concentrate_sol                        13938 non-null  float64\n",
      " 4   final.output.concentrate_au                         14149 non-null  float64\n",
      " 5   final.output.recovery                               14149 non-null  float64\n",
      " 6   final.output.tail_ag                                14149 non-null  float64\n",
      " 7   final.output.tail_pb                                14049 non-null  float64\n",
      " 8   final.output.tail_sol                               14144 non-null  float64\n",
      " 9   final.output.tail_au                                14149 non-null  float64\n",
      " 10  primary_cleaner.input.sulfate                       14129 non-null  float64\n",
      " 11  primary_cleaner.input.depressant                    14117 non-null  float64\n",
      " 12  primary_cleaner.input.feed_size                     14149 non-null  float64\n",
      " 13  primary_cleaner.input.xanthate                      14049 non-null  float64\n",
      " 14  primary_cleaner.output.concentrate_ag               14149 non-null  float64\n",
      " 15  primary_cleaner.output.concentrate_pb               14063 non-null  float64\n",
      " 16  primary_cleaner.output.concentrate_sol              13863 non-null  float64\n",
      " 17  primary_cleaner.output.concentrate_au               14149 non-null  float64\n",
      " 18  primary_cleaner.output.tail_ag                      14148 non-null  float64\n",
      " 19  primary_cleaner.output.tail_pb                      14134 non-null  float64\n",
      " 20  primary_cleaner.output.tail_sol                     14103 non-null  float64\n",
      " 21  primary_cleaner.output.tail_au                      14149 non-null  float64\n",
      " 22  primary_cleaner.state.floatbank8_a_air              14145 non-null  float64\n",
      " 23  primary_cleaner.state.floatbank8_a_level            14148 non-null  float64\n",
      " 24  primary_cleaner.state.floatbank8_b_air              14145 non-null  float64\n",
      " 25  primary_cleaner.state.floatbank8_b_level            14148 non-null  float64\n",
      " 26  primary_cleaner.state.floatbank8_c_air              14147 non-null  float64\n",
      " 27  primary_cleaner.state.floatbank8_c_level            14148 non-null  float64\n",
      " 28  primary_cleaner.state.floatbank8_d_air              14146 non-null  float64\n",
      " 29  primary_cleaner.state.floatbank8_d_level            14148 non-null  float64\n",
      " 30  rougher.calculation.sulfate_to_au_concentrate       14148 non-null  float64\n",
      " 31  rougher.calculation.floatbank10_sulfate_to_au_feed  14148 non-null  float64\n",
      " 32  rougher.calculation.floatbank11_sulfate_to_au_feed  14148 non-null  float64\n",
      " 33  rougher.calculation.au_pb_ratio                     14149 non-null  float64\n",
      " 34  rougher.input.feed_ag                               14149 non-null  float64\n",
      " 35  rougher.input.feed_pb                               14049 non-null  float64\n",
      " 36  rougher.input.feed_rate                             14141 non-null  float64\n",
      " 37  rougher.input.feed_size                             14005 non-null  float64\n",
      " 38  rougher.input.feed_sol                              14071 non-null  float64\n",
      " 39  rougher.input.feed_au                               14149 non-null  float64\n",
      " 40  rougher.input.floatbank10_sulfate                   14120 non-null  float64\n",
      " 41  rougher.input.floatbank10_xanthate                  14141 non-null  float64\n",
      " 42  rougher.input.floatbank11_sulfate                   14113 non-null  float64\n",
      " 43  rougher.input.floatbank11_xanthate                  13721 non-null  float64\n",
      " 44  rougher.output.concentrate_ag                       14149 non-null  float64\n",
      " 45  rougher.output.concentrate_pb                       14149 non-null  float64\n",
      " 46  rougher.output.concentrate_sol                      14127 non-null  float64\n",
      " 47  rougher.output.concentrate_au                       14149 non-null  float64\n",
      " 48  rougher.output.recovery                             14149 non-null  float64\n",
      " 49  rougher.output.tail_ag                              14148 non-null  float64\n",
      " 50  rougher.output.tail_pb                              14149 non-null  float64\n",
      " 51  rougher.output.tail_sol                             14149 non-null  float64\n",
      " 52  rougher.output.tail_au                              14149 non-null  float64\n",
      " 53  rougher.state.floatbank10_a_air                     14148 non-null  float64\n",
      " 54  rougher.state.floatbank10_a_level                   14148 non-null  float64\n",
      " 55  rougher.state.floatbank10_b_air                     14148 non-null  float64\n",
      " 56  rougher.state.floatbank10_b_level                   14148 non-null  float64\n",
      " 57  rougher.state.floatbank10_c_air                     14148 non-null  float64\n",
      " 58  rougher.state.floatbank10_c_level                   14148 non-null  float64\n",
      " 59  rougher.state.floatbank10_d_air                     14149 non-null  float64\n",
      " 60  rougher.state.floatbank10_d_level                   14149 non-null  float64\n",
      " 61  rougher.state.floatbank10_e_air                     13713 non-null  float64\n",
      " 62  rougher.state.floatbank10_e_level                   14149 non-null  float64\n",
      " 63  rougher.state.floatbank10_f_air                     14149 non-null  float64\n",
      " 64  rougher.state.floatbank10_f_level                   14149 non-null  float64\n",
      " 65  secondary_cleaner.output.tail_ag                    14147 non-null  float64\n",
      " 66  secondary_cleaner.output.tail_pb                    14139 non-null  float64\n",
      " 67  secondary_cleaner.output.tail_sol                   12544 non-null  float64\n",
      " 68  secondary_cleaner.output.tail_au                    14149 non-null  float64\n",
      " 69  secondary_cleaner.state.floatbank2_a_air            13932 non-null  float64\n",
      " 70  secondary_cleaner.state.floatbank2_a_level          14148 non-null  float64\n",
      " 71  secondary_cleaner.state.floatbank2_b_air            14128 non-null  float64\n",
      " 72  secondary_cleaner.state.floatbank2_b_level          14148 non-null  float64\n",
      " 73  secondary_cleaner.state.floatbank3_a_air            14145 non-null  float64\n",
      " 74  secondary_cleaner.state.floatbank3_a_level          14148 non-null  float64\n",
      " 75  secondary_cleaner.state.floatbank3_b_air            14148 non-null  float64\n",
      " 76  secondary_cleaner.state.floatbank3_b_level          14148 non-null  float64\n",
      " 77  secondary_cleaner.state.floatbank4_a_air            14143 non-null  float64\n",
      " 78  secondary_cleaner.state.floatbank4_a_level          14148 non-null  float64\n",
      " 79  secondary_cleaner.state.floatbank4_b_air            14148 non-null  float64\n",
      " 80  secondary_cleaner.state.floatbank4_b_level          14148 non-null  float64\n",
      " 81  secondary_cleaner.state.floatbank5_a_air            14148 non-null  float64\n",
      " 82  secondary_cleaner.state.floatbank5_a_level          14148 non-null  float64\n",
      " 83  secondary_cleaner.state.floatbank5_b_air            14148 non-null  float64\n",
      " 84  secondary_cleaner.state.floatbank5_b_level          14148 non-null  float64\n",
      " 85  secondary_cleaner.state.floatbank6_a_air            14147 non-null  float64\n",
      " 86  secondary_cleaner.state.floatbank6_a_level          14148 non-null  float64\n",
      "dtypes: float64(86), object(1)\n",
      "memory usage: 9.4+ MB\n",
      "<class 'pandas.core.frame.DataFrame'>\n",
      "RangeIndex: 5290 entries, 0 to 5289\n",
      "Data columns (total 53 columns):\n",
      " #   Column                                      Non-Null Count  Dtype  \n",
      "---  ------                                      --------------  -----  \n",
      " 0   date                                        5290 non-null   object \n",
      " 1   primary_cleaner.input.sulfate               5286 non-null   float64\n",
      " 2   primary_cleaner.input.depressant            5285 non-null   float64\n",
      " 3   primary_cleaner.input.feed_size             5290 non-null   float64\n",
      " 4   primary_cleaner.input.xanthate              5286 non-null   float64\n",
      " 5   primary_cleaner.state.floatbank8_a_air      5290 non-null   float64\n",
      " 6   primary_cleaner.state.floatbank8_a_level    5290 non-null   float64\n",
      " 7   primary_cleaner.state.floatbank8_b_air      5290 non-null   float64\n",
      " 8   primary_cleaner.state.floatbank8_b_level    5290 non-null   float64\n",
      " 9   primary_cleaner.state.floatbank8_c_air      5290 non-null   float64\n",
      " 10  primary_cleaner.state.floatbank8_c_level    5290 non-null   float64\n",
      " 11  primary_cleaner.state.floatbank8_d_air      5290 non-null   float64\n",
      " 12  primary_cleaner.state.floatbank8_d_level    5290 non-null   float64\n",
      " 13  rougher.input.feed_ag                       5290 non-null   float64\n",
      " 14  rougher.input.feed_pb                       5290 non-null   float64\n",
      " 15  rougher.input.feed_rate                     5287 non-null   float64\n",
      " 16  rougher.input.feed_size                     5289 non-null   float64\n",
      " 17  rougher.input.feed_sol                      5269 non-null   float64\n",
      " 18  rougher.input.feed_au                       5290 non-null   float64\n",
      " 19  rougher.input.floatbank10_sulfate           5285 non-null   float64\n",
      " 20  rougher.input.floatbank10_xanthate          5290 non-null   float64\n",
      " 21  rougher.input.floatbank11_sulfate           5282 non-null   float64\n",
      " 22  rougher.input.floatbank11_xanthate          5265 non-null   float64\n",
      " 23  rougher.state.floatbank10_a_air             5290 non-null   float64\n",
      " 24  rougher.state.floatbank10_a_level           5290 non-null   float64\n",
      " 25  rougher.state.floatbank10_b_air             5290 non-null   float64\n",
      " 26  rougher.state.floatbank10_b_level           5290 non-null   float64\n",
      " 27  rougher.state.floatbank10_c_air             5290 non-null   float64\n",
      " 28  rougher.state.floatbank10_c_level           5290 non-null   float64\n",
      " 29  rougher.state.floatbank10_d_air             5290 non-null   float64\n",
      " 30  rougher.state.floatbank10_d_level           5290 non-null   float64\n",
      " 31  rougher.state.floatbank10_e_air             5290 non-null   float64\n",
      " 32  rougher.state.floatbank10_e_level           5290 non-null   float64\n",
      " 33  rougher.state.floatbank10_f_air             5290 non-null   float64\n",
      " 34  rougher.state.floatbank10_f_level           5290 non-null   float64\n",
      " 35  secondary_cleaner.state.floatbank2_a_air    5287 non-null   float64\n",
      " 36  secondary_cleaner.state.floatbank2_a_level  5290 non-null   float64\n",
      " 37  secondary_cleaner.state.floatbank2_b_air    5288 non-null   float64\n",
      " 38  secondary_cleaner.state.floatbank2_b_level  5290 non-null   float64\n",
      " 39  secondary_cleaner.state.floatbank3_a_air    5281 non-null   float64\n",
      " 40  secondary_cleaner.state.floatbank3_a_level  5290 non-null   float64\n",
      " 41  secondary_cleaner.state.floatbank3_b_air    5290 non-null   float64\n",
      " 42  secondary_cleaner.state.floatbank3_b_level  5290 non-null   float64\n",
      " 43  secondary_cleaner.state.floatbank4_a_air    5290 non-null   float64\n",
      " 44  secondary_cleaner.state.floatbank4_a_level  5290 non-null   float64\n",
      " 45  secondary_cleaner.state.floatbank4_b_air    5290 non-null   float64\n",
      " 46  secondary_cleaner.state.floatbank4_b_level  5290 non-null   float64\n",
      " 47  secondary_cleaner.state.floatbank5_a_air    5290 non-null   float64\n",
      " 48  secondary_cleaner.state.floatbank5_a_level  5290 non-null   float64\n",
      " 49  secondary_cleaner.state.floatbank5_b_air    5290 non-null   float64\n",
      " 50  secondary_cleaner.state.floatbank5_b_level  5290 non-null   float64\n",
      " 51  secondary_cleaner.state.floatbank6_a_air    5290 non-null   float64\n",
      " 52  secondary_cleaner.state.floatbank6_a_level  5290 non-null   float64\n",
      "dtypes: float64(52), object(1)\n",
      "memory usage: 2.1+ MB\n",
      "<class 'pandas.core.frame.DataFrame'>\n",
      "RangeIndex: 19439 entries, 0 to 19438\n",
      "Data columns (total 87 columns):\n",
      " #   Column                                              Non-Null Count  Dtype  \n",
      "---  ------                                              --------------  -----  \n",
      " 0   date                                                19439 non-null  object \n",
      " 1   final.output.concentrate_ag                         19438 non-null  float64\n",
      " 2   final.output.concentrate_pb                         19438 non-null  float64\n",
      " 3   final.output.concentrate_sol                        19228 non-null  float64\n",
      " 4   final.output.concentrate_au                         19439 non-null  float64\n",
      " 5   final.output.recovery                               19439 non-null  float64\n",
      " 6   final.output.tail_ag                                19438 non-null  float64\n",
      " 7   final.output.tail_pb                                19338 non-null  float64\n",
      " 8   final.output.tail_sol                               19433 non-null  float64\n",
      " 9   final.output.tail_au                                19439 non-null  float64\n",
      " 10  primary_cleaner.input.sulfate                       19415 non-null  float64\n",
      " 11  primary_cleaner.input.depressant                    19402 non-null  float64\n",
      " 12  primary_cleaner.input.feed_size                     19439 non-null  float64\n",
      " 13  primary_cleaner.input.xanthate                      19335 non-null  float64\n",
      " 14  primary_cleaner.output.concentrate_ag               19439 non-null  float64\n",
      " 15  primary_cleaner.output.concentrate_pb               19323 non-null  float64\n",
      " 16  primary_cleaner.output.concentrate_sol              19069 non-null  float64\n",
      " 17  primary_cleaner.output.concentrate_au               19439 non-null  float64\n",
      " 18  primary_cleaner.output.tail_ag                      19435 non-null  float64\n",
      " 19  primary_cleaner.output.tail_pb                      19418 non-null  float64\n",
      " 20  primary_cleaner.output.tail_sol                     19377 non-null  float64\n",
      " 21  primary_cleaner.output.tail_au                      19439 non-null  float64\n",
      " 22  primary_cleaner.state.floatbank8_a_air              19435 non-null  float64\n",
      " 23  primary_cleaner.state.floatbank8_a_level            19438 non-null  float64\n",
      " 24  primary_cleaner.state.floatbank8_b_air              19435 non-null  float64\n",
      " 25  primary_cleaner.state.floatbank8_b_level            19438 non-null  float64\n",
      " 26  primary_cleaner.state.floatbank8_c_air              19437 non-null  float64\n",
      " 27  primary_cleaner.state.floatbank8_c_level            19438 non-null  float64\n",
      " 28  primary_cleaner.state.floatbank8_d_air              19436 non-null  float64\n",
      " 29  primary_cleaner.state.floatbank8_d_level            19438 non-null  float64\n",
      " 30  rougher.calculation.sulfate_to_au_concentrate       19437 non-null  float64\n",
      " 31  rougher.calculation.floatbank10_sulfate_to_au_feed  19437 non-null  float64\n",
      " 32  rougher.calculation.floatbank11_sulfate_to_au_feed  19437 non-null  float64\n",
      " 33  rougher.calculation.au_pb_ratio                     19439 non-null  float64\n",
      " 34  rougher.input.feed_ag                               19439 non-null  float64\n",
      " 35  rougher.input.feed_pb                               19339 non-null  float64\n",
      " 36  rougher.input.feed_rate                             19428 non-null  float64\n",
      " 37  rougher.input.feed_size                             19294 non-null  float64\n",
      " 38  rougher.input.feed_sol                              19340 non-null  float64\n",
      " 39  rougher.input.feed_au                               19439 non-null  float64\n",
      " 40  rougher.input.floatbank10_sulfate                   19405 non-null  float64\n",
      " 41  rougher.input.floatbank10_xanthate                  19431 non-null  float64\n",
      " 42  rougher.input.floatbank11_sulfate                   19395 non-null  float64\n",
      " 43  rougher.input.floatbank11_xanthate                  18986 non-null  float64\n",
      " 44  rougher.output.concentrate_ag                       19439 non-null  float64\n",
      " 45  rougher.output.concentrate_pb                       19439 non-null  float64\n",
      " 46  rougher.output.concentrate_sol                      19416 non-null  float64\n",
      " 47  rougher.output.concentrate_au                       19439 non-null  float64\n",
      " 48  rougher.output.recovery                             19439 non-null  float64\n",
      " 49  rougher.output.tail_ag                              19438 non-null  float64\n",
      " 50  rougher.output.tail_pb                              19439 non-null  float64\n",
      " 51  rougher.output.tail_sol                             19439 non-null  float64\n",
      " 52  rougher.output.tail_au                              19439 non-null  float64\n",
      " 53  rougher.state.floatbank10_a_air                     19438 non-null  float64\n",
      " 54  rougher.state.floatbank10_a_level                   19438 non-null  float64\n",
      " 55  rougher.state.floatbank10_b_air                     19438 non-null  float64\n",
      " 56  rougher.state.floatbank10_b_level                   19438 non-null  float64\n",
      " 57  rougher.state.floatbank10_c_air                     19438 non-null  float64\n",
      " 58  rougher.state.floatbank10_c_level                   19438 non-null  float64\n",
      " 59  rougher.state.floatbank10_d_air                     19439 non-null  float64\n",
      " 60  rougher.state.floatbank10_d_level                   19439 non-null  float64\n",
      " 61  rougher.state.floatbank10_e_air                     19003 non-null  float64\n",
      " 62  rougher.state.floatbank10_e_level                   19439 non-null  float64\n",
      " 63  rougher.state.floatbank10_f_air                     19439 non-null  float64\n",
      " 64  rougher.state.floatbank10_f_level                   19439 non-null  float64\n",
      " 65  secondary_cleaner.output.tail_ag                    19437 non-null  float64\n",
      " 66  secondary_cleaner.output.tail_pb                    19427 non-null  float64\n",
      " 67  secondary_cleaner.output.tail_sol                   17691 non-null  float64\n",
      " 68  secondary_cleaner.output.tail_au                    19439 non-null  float64\n",
      " 69  secondary_cleaner.state.floatbank2_a_air            19219 non-null  float64\n",
      " 70  secondary_cleaner.state.floatbank2_a_level          19438 non-null  float64\n",
      " 71  secondary_cleaner.state.floatbank2_b_air            19416 non-null  float64\n",
      " 72  secondary_cleaner.state.floatbank2_b_level          19438 non-null  float64\n",
      " 73  secondary_cleaner.state.floatbank3_a_air            19426 non-null  float64\n",
      " 74  secondary_cleaner.state.floatbank3_a_level          19438 non-null  float64\n",
      " 75  secondary_cleaner.state.floatbank3_b_air            19438 non-null  float64\n",
      " 76  secondary_cleaner.state.floatbank3_b_level          19438 non-null  float64\n",
      " 77  secondary_cleaner.state.floatbank4_a_air            19433 non-null  float64\n",
      " 78  secondary_cleaner.state.floatbank4_a_level          19438 non-null  float64\n",
      " 79  secondary_cleaner.state.floatbank4_b_air            19438 non-null  float64\n",
      " 80  secondary_cleaner.state.floatbank4_b_level          19438 non-null  float64\n",
      " 81  secondary_cleaner.state.floatbank5_a_air            19438 non-null  float64\n",
      " 82  secondary_cleaner.state.floatbank5_a_level          19438 non-null  float64\n",
      " 83  secondary_cleaner.state.floatbank5_b_air            19438 non-null  float64\n",
      " 84  secondary_cleaner.state.floatbank5_b_level          19438 non-null  float64\n",
      " 85  secondary_cleaner.state.floatbank6_a_air            19437 non-null  float64\n",
      " 86  secondary_cleaner.state.floatbank6_a_level          19438 non-null  float64\n",
      "dtypes: float64(86), object(1)\n",
      "memory usage: 12.9+ MB\n"
     ]
    }
   ],
   "source": [
    "df_train.info()\n",
    "df_test.info()\n",
    "df_full.info()"
   ]
  },
  {
   "cell_type": "markdown",
   "metadata": {},
   "source": [
    "В df_test всего 53 колонки, в то время, как в df_train и df_full по 87. Нужно будет проанализировать 34 недостающих признака. \n",
    "\n",
    "Во всех датасетах есть столбцы с пропусками."
   ]
  },
  {
   "cell_type": "markdown",
   "metadata": {},
   "source": [
    "### Пропуски"
   ]
  },
  {
   "cell_type": "markdown",
   "metadata": {},
   "source": [
    "По условию: \"Данные индексируются датой и временем получения информации (признак date). Соседние по времени параметры часто похожи\"."
   ]
  },
  {
   "cell_type": "markdown",
   "metadata": {},
   "source": [
    "Предворительно, отсортируем датасеты по `date`"
   ]
  },
  {
   "cell_type": "code",
   "execution_count": 11,
   "metadata": {},
   "outputs": [],
   "source": [
    "df_train.sort_values(by='date', inplace=True)\n",
    "df_full.sort_values(by='date', inplace=True)\n",
    "df_test.sort_values(by='date', inplace=True)"
   ]
  },
  {
   "cell_type": "markdown",
   "metadata": {},
   "source": [
    "Теперь заменим пропуски предпоследними значением данного признака."
   ]
  },
  {
   "cell_type": "code",
   "execution_count": 12,
   "metadata": {},
   "outputs": [],
   "source": [
    "df_train = df_train.ffill(axis=0)\n",
    "df_test = df_test.ffill(axis=0)\n",
    "df_full = df_full.ffill(axis=0)"
   ]
  },
  {
   "cell_type": "markdown",
   "metadata": {},
   "source": [
    "Проверим результат"
   ]
  },
  {
   "cell_type": "code",
   "execution_count": 13,
   "metadata": {
    "collapsed": true
   },
   "outputs": [
    {
     "name": "stdout",
     "output_type": "stream",
     "text": [
      "<class 'pandas.core.frame.DataFrame'>\n",
      "Int64Index: 14149 entries, 0 to 14148\n",
      "Data columns (total 87 columns):\n",
      " #   Column                                              Non-Null Count  Dtype  \n",
      "---  ------                                              --------------  -----  \n",
      " 0   date                                                14149 non-null  object \n",
      " 1   final.output.concentrate_ag                         14149 non-null  float64\n",
      " 2   final.output.concentrate_pb                         14149 non-null  float64\n",
      " 3   final.output.concentrate_sol                        14149 non-null  float64\n",
      " 4   final.output.concentrate_au                         14149 non-null  float64\n",
      " 5   final.output.recovery                               14149 non-null  float64\n",
      " 6   final.output.tail_ag                                14149 non-null  float64\n",
      " 7   final.output.tail_pb                                14149 non-null  float64\n",
      " 8   final.output.tail_sol                               14149 non-null  float64\n",
      " 9   final.output.tail_au                                14149 non-null  float64\n",
      " 10  primary_cleaner.input.sulfate                       14149 non-null  float64\n",
      " 11  primary_cleaner.input.depressant                    14149 non-null  float64\n",
      " 12  primary_cleaner.input.feed_size                     14149 non-null  float64\n",
      " 13  primary_cleaner.input.xanthate                      14149 non-null  float64\n",
      " 14  primary_cleaner.output.concentrate_ag               14149 non-null  float64\n",
      " 15  primary_cleaner.output.concentrate_pb               14149 non-null  float64\n",
      " 16  primary_cleaner.output.concentrate_sol              14149 non-null  float64\n",
      " 17  primary_cleaner.output.concentrate_au               14149 non-null  float64\n",
      " 18  primary_cleaner.output.tail_ag                      14149 non-null  float64\n",
      " 19  primary_cleaner.output.tail_pb                      14149 non-null  float64\n",
      " 20  primary_cleaner.output.tail_sol                     14149 non-null  float64\n",
      " 21  primary_cleaner.output.tail_au                      14149 non-null  float64\n",
      " 22  primary_cleaner.state.floatbank8_a_air              14149 non-null  float64\n",
      " 23  primary_cleaner.state.floatbank8_a_level            14149 non-null  float64\n",
      " 24  primary_cleaner.state.floatbank8_b_air              14149 non-null  float64\n",
      " 25  primary_cleaner.state.floatbank8_b_level            14149 non-null  float64\n",
      " 26  primary_cleaner.state.floatbank8_c_air              14149 non-null  float64\n",
      " 27  primary_cleaner.state.floatbank8_c_level            14149 non-null  float64\n",
      " 28  primary_cleaner.state.floatbank8_d_air              14149 non-null  float64\n",
      " 29  primary_cleaner.state.floatbank8_d_level            14149 non-null  float64\n",
      " 30  rougher.calculation.sulfate_to_au_concentrate       14149 non-null  float64\n",
      " 31  rougher.calculation.floatbank10_sulfate_to_au_feed  14149 non-null  float64\n",
      " 32  rougher.calculation.floatbank11_sulfate_to_au_feed  14149 non-null  float64\n",
      " 33  rougher.calculation.au_pb_ratio                     14149 non-null  float64\n",
      " 34  rougher.input.feed_ag                               14149 non-null  float64\n",
      " 35  rougher.input.feed_pb                               14149 non-null  float64\n",
      " 36  rougher.input.feed_rate                             14149 non-null  float64\n",
      " 37  rougher.input.feed_size                             14149 non-null  float64\n",
      " 38  rougher.input.feed_sol                              14149 non-null  float64\n",
      " 39  rougher.input.feed_au                               14149 non-null  float64\n",
      " 40  rougher.input.floatbank10_sulfate                   14149 non-null  float64\n",
      " 41  rougher.input.floatbank10_xanthate                  14149 non-null  float64\n",
      " 42  rougher.input.floatbank11_sulfate                   14149 non-null  float64\n",
      " 43  rougher.input.floatbank11_xanthate                  14149 non-null  float64\n",
      " 44  rougher.output.concentrate_ag                       14149 non-null  float64\n",
      " 45  rougher.output.concentrate_pb                       14149 non-null  float64\n",
      " 46  rougher.output.concentrate_sol                      14149 non-null  float64\n",
      " 47  rougher.output.concentrate_au                       14149 non-null  float64\n",
      " 48  rougher.output.recovery                             14149 non-null  float64\n",
      " 49  rougher.output.tail_ag                              14149 non-null  float64\n",
      " 50  rougher.output.tail_pb                              14149 non-null  float64\n",
      " 51  rougher.output.tail_sol                             14149 non-null  float64\n",
      " 52  rougher.output.tail_au                              14149 non-null  float64\n",
      " 53  rougher.state.floatbank10_a_air                     14149 non-null  float64\n",
      " 54  rougher.state.floatbank10_a_level                   14149 non-null  float64\n",
      " 55  rougher.state.floatbank10_b_air                     14149 non-null  float64\n",
      " 56  rougher.state.floatbank10_b_level                   14149 non-null  float64\n",
      " 57  rougher.state.floatbank10_c_air                     14149 non-null  float64\n",
      " 58  rougher.state.floatbank10_c_level                   14149 non-null  float64\n",
      " 59  rougher.state.floatbank10_d_air                     14149 non-null  float64\n",
      " 60  rougher.state.floatbank10_d_level                   14149 non-null  float64\n",
      " 61  rougher.state.floatbank10_e_air                     14149 non-null  float64\n",
      " 62  rougher.state.floatbank10_e_level                   14149 non-null  float64\n",
      " 63  rougher.state.floatbank10_f_air                     14149 non-null  float64\n",
      " 64  rougher.state.floatbank10_f_level                   14149 non-null  float64\n",
      " 65  secondary_cleaner.output.tail_ag                    14149 non-null  float64\n",
      " 66  secondary_cleaner.output.tail_pb                    14149 non-null  float64\n",
      " 67  secondary_cleaner.output.tail_sol                   14149 non-null  float64\n",
      " 68  secondary_cleaner.output.tail_au                    14149 non-null  float64\n",
      " 69  secondary_cleaner.state.floatbank2_a_air            14149 non-null  float64\n",
      " 70  secondary_cleaner.state.floatbank2_a_level          14149 non-null  float64\n",
      " 71  secondary_cleaner.state.floatbank2_b_air            14149 non-null  float64\n",
      " 72  secondary_cleaner.state.floatbank2_b_level          14149 non-null  float64\n",
      " 73  secondary_cleaner.state.floatbank3_a_air            14149 non-null  float64\n",
      " 74  secondary_cleaner.state.floatbank3_a_level          14149 non-null  float64\n",
      " 75  secondary_cleaner.state.floatbank3_b_air            14149 non-null  float64\n",
      " 76  secondary_cleaner.state.floatbank3_b_level          14149 non-null  float64\n",
      " 77  secondary_cleaner.state.floatbank4_a_air            14149 non-null  float64\n",
      " 78  secondary_cleaner.state.floatbank4_a_level          14149 non-null  float64\n",
      " 79  secondary_cleaner.state.floatbank4_b_air            14149 non-null  float64\n",
      " 80  secondary_cleaner.state.floatbank4_b_level          14149 non-null  float64\n",
      " 81  secondary_cleaner.state.floatbank5_a_air            14149 non-null  float64\n",
      " 82  secondary_cleaner.state.floatbank5_a_level          14149 non-null  float64\n",
      " 83  secondary_cleaner.state.floatbank5_b_air            14149 non-null  float64\n",
      " 84  secondary_cleaner.state.floatbank5_b_level          14149 non-null  float64\n",
      " 85  secondary_cleaner.state.floatbank6_a_air            14149 non-null  float64\n",
      " 86  secondary_cleaner.state.floatbank6_a_level          14149 non-null  float64\n",
      "dtypes: float64(86), object(1)\n",
      "memory usage: 9.5+ MB\n",
      "None\n",
      "<class 'pandas.core.frame.DataFrame'>\n",
      "Int64Index: 5290 entries, 0 to 5289\n",
      "Data columns (total 53 columns):\n",
      " #   Column                                      Non-Null Count  Dtype  \n",
      "---  ------                                      --------------  -----  \n",
      " 0   date                                        5290 non-null   object \n",
      " 1   primary_cleaner.input.sulfate               5290 non-null   float64\n",
      " 2   primary_cleaner.input.depressant            5290 non-null   float64\n",
      " 3   primary_cleaner.input.feed_size             5290 non-null   float64\n",
      " 4   primary_cleaner.input.xanthate              5290 non-null   float64\n",
      " 5   primary_cleaner.state.floatbank8_a_air      5290 non-null   float64\n",
      " 6   primary_cleaner.state.floatbank8_a_level    5290 non-null   float64\n",
      " 7   primary_cleaner.state.floatbank8_b_air      5290 non-null   float64\n",
      " 8   primary_cleaner.state.floatbank8_b_level    5290 non-null   float64\n",
      " 9   primary_cleaner.state.floatbank8_c_air      5290 non-null   float64\n",
      " 10  primary_cleaner.state.floatbank8_c_level    5290 non-null   float64\n",
      " 11  primary_cleaner.state.floatbank8_d_air      5290 non-null   float64\n",
      " 12  primary_cleaner.state.floatbank8_d_level    5290 non-null   float64\n",
      " 13  rougher.input.feed_ag                       5290 non-null   float64\n",
      " 14  rougher.input.feed_pb                       5290 non-null   float64\n",
      " 15  rougher.input.feed_rate                     5290 non-null   float64\n",
      " 16  rougher.input.feed_size                     5290 non-null   float64\n",
      " 17  rougher.input.feed_sol                      5290 non-null   float64\n",
      " 18  rougher.input.feed_au                       5290 non-null   float64\n",
      " 19  rougher.input.floatbank10_sulfate           5290 non-null   float64\n",
      " 20  rougher.input.floatbank10_xanthate          5290 non-null   float64\n",
      " 21  rougher.input.floatbank11_sulfate           5290 non-null   float64\n",
      " 22  rougher.input.floatbank11_xanthate          5290 non-null   float64\n",
      " 23  rougher.state.floatbank10_a_air             5290 non-null   float64\n",
      " 24  rougher.state.floatbank10_a_level           5290 non-null   float64\n",
      " 25  rougher.state.floatbank10_b_air             5290 non-null   float64\n",
      " 26  rougher.state.floatbank10_b_level           5290 non-null   float64\n",
      " 27  rougher.state.floatbank10_c_air             5290 non-null   float64\n",
      " 28  rougher.state.floatbank10_c_level           5290 non-null   float64\n",
      " 29  rougher.state.floatbank10_d_air             5290 non-null   float64\n",
      " 30  rougher.state.floatbank10_d_level           5290 non-null   float64\n",
      " 31  rougher.state.floatbank10_e_air             5290 non-null   float64\n",
      " 32  rougher.state.floatbank10_e_level           5290 non-null   float64\n",
      " 33  rougher.state.floatbank10_f_air             5290 non-null   float64\n",
      " 34  rougher.state.floatbank10_f_level           5290 non-null   float64\n",
      " 35  secondary_cleaner.state.floatbank2_a_air    5290 non-null   float64\n",
      " 36  secondary_cleaner.state.floatbank2_a_level  5290 non-null   float64\n",
      " 37  secondary_cleaner.state.floatbank2_b_air    5290 non-null   float64\n",
      " 38  secondary_cleaner.state.floatbank2_b_level  5290 non-null   float64\n",
      " 39  secondary_cleaner.state.floatbank3_a_air    5290 non-null   float64\n",
      " 40  secondary_cleaner.state.floatbank3_a_level  5290 non-null   float64\n",
      " 41  secondary_cleaner.state.floatbank3_b_air    5290 non-null   float64\n",
      " 42  secondary_cleaner.state.floatbank3_b_level  5290 non-null   float64\n",
      " 43  secondary_cleaner.state.floatbank4_a_air    5290 non-null   float64\n",
      " 44  secondary_cleaner.state.floatbank4_a_level  5290 non-null   float64\n",
      " 45  secondary_cleaner.state.floatbank4_b_air    5290 non-null   float64\n",
      " 46  secondary_cleaner.state.floatbank4_b_level  5290 non-null   float64\n",
      " 47  secondary_cleaner.state.floatbank5_a_air    5290 non-null   float64\n",
      " 48  secondary_cleaner.state.floatbank5_a_level  5290 non-null   float64\n",
      " 49  secondary_cleaner.state.floatbank5_b_air    5290 non-null   float64\n",
      " 50  secondary_cleaner.state.floatbank5_b_level  5290 non-null   float64\n",
      " 51  secondary_cleaner.state.floatbank6_a_air    5290 non-null   float64\n",
      " 52  secondary_cleaner.state.floatbank6_a_level  5290 non-null   float64\n",
      "dtypes: float64(52), object(1)\n",
      "memory usage: 2.2+ MB\n",
      "None\n",
      "<class 'pandas.core.frame.DataFrame'>\n",
      "Int64Index: 19439 entries, 0 to 19438\n",
      "Data columns (total 87 columns):\n",
      " #   Column                                              Non-Null Count  Dtype  \n",
      "---  ------                                              --------------  -----  \n",
      " 0   date                                                19439 non-null  object \n",
      " 1   final.output.concentrate_ag                         19439 non-null  float64\n",
      " 2   final.output.concentrate_pb                         19439 non-null  float64\n",
      " 3   final.output.concentrate_sol                        19439 non-null  float64\n",
      " 4   final.output.concentrate_au                         19439 non-null  float64\n",
      " 5   final.output.recovery                               19439 non-null  float64\n",
      " 6   final.output.tail_ag                                19439 non-null  float64\n",
      " 7   final.output.tail_pb                                19439 non-null  float64\n",
      " 8   final.output.tail_sol                               19439 non-null  float64\n",
      " 9   final.output.tail_au                                19439 non-null  float64\n",
      " 10  primary_cleaner.input.sulfate                       19439 non-null  float64\n",
      " 11  primary_cleaner.input.depressant                    19439 non-null  float64\n",
      " 12  primary_cleaner.input.feed_size                     19439 non-null  float64\n",
      " 13  primary_cleaner.input.xanthate                      19439 non-null  float64\n",
      " 14  primary_cleaner.output.concentrate_ag               19439 non-null  float64\n",
      " 15  primary_cleaner.output.concentrate_pb               19439 non-null  float64\n",
      " 16  primary_cleaner.output.concentrate_sol              19439 non-null  float64\n",
      " 17  primary_cleaner.output.concentrate_au               19439 non-null  float64\n",
      " 18  primary_cleaner.output.tail_ag                      19439 non-null  float64\n",
      " 19  primary_cleaner.output.tail_pb                      19439 non-null  float64\n",
      " 20  primary_cleaner.output.tail_sol                     19439 non-null  float64\n",
      " 21  primary_cleaner.output.tail_au                      19439 non-null  float64\n",
      " 22  primary_cleaner.state.floatbank8_a_air              19439 non-null  float64\n",
      " 23  primary_cleaner.state.floatbank8_a_level            19439 non-null  float64\n",
      " 24  primary_cleaner.state.floatbank8_b_air              19439 non-null  float64\n",
      " 25  primary_cleaner.state.floatbank8_b_level            19439 non-null  float64\n",
      " 26  primary_cleaner.state.floatbank8_c_air              19439 non-null  float64\n",
      " 27  primary_cleaner.state.floatbank8_c_level            19439 non-null  float64\n",
      " 28  primary_cleaner.state.floatbank8_d_air              19439 non-null  float64\n",
      " 29  primary_cleaner.state.floatbank8_d_level            19439 non-null  float64\n",
      " 30  rougher.calculation.sulfate_to_au_concentrate       19439 non-null  float64\n",
      " 31  rougher.calculation.floatbank10_sulfate_to_au_feed  19439 non-null  float64\n",
      " 32  rougher.calculation.floatbank11_sulfate_to_au_feed  19439 non-null  float64\n",
      " 33  rougher.calculation.au_pb_ratio                     19439 non-null  float64\n",
      " 34  rougher.input.feed_ag                               19439 non-null  float64\n",
      " 35  rougher.input.feed_pb                               19439 non-null  float64\n",
      " 36  rougher.input.feed_rate                             19439 non-null  float64\n",
      " 37  rougher.input.feed_size                             19439 non-null  float64\n",
      " 38  rougher.input.feed_sol                              19439 non-null  float64\n",
      " 39  rougher.input.feed_au                               19439 non-null  float64\n",
      " 40  rougher.input.floatbank10_sulfate                   19439 non-null  float64\n",
      " 41  rougher.input.floatbank10_xanthate                  19439 non-null  float64\n",
      " 42  rougher.input.floatbank11_sulfate                   19439 non-null  float64\n",
      " 43  rougher.input.floatbank11_xanthate                  19439 non-null  float64\n",
      " 44  rougher.output.concentrate_ag                       19439 non-null  float64\n",
      " 45  rougher.output.concentrate_pb                       19439 non-null  float64\n",
      " 46  rougher.output.concentrate_sol                      19439 non-null  float64\n",
      " 47  rougher.output.concentrate_au                       19439 non-null  float64\n",
      " 48  rougher.output.recovery                             19439 non-null  float64\n",
      " 49  rougher.output.tail_ag                              19439 non-null  float64\n",
      " 50  rougher.output.tail_pb                              19439 non-null  float64\n",
      " 51  rougher.output.tail_sol                             19439 non-null  float64\n",
      " 52  rougher.output.tail_au                              19439 non-null  float64\n",
      " 53  rougher.state.floatbank10_a_air                     19439 non-null  float64\n",
      " 54  rougher.state.floatbank10_a_level                   19439 non-null  float64\n",
      " 55  rougher.state.floatbank10_b_air                     19439 non-null  float64\n",
      " 56  rougher.state.floatbank10_b_level                   19439 non-null  float64\n",
      " 57  rougher.state.floatbank10_c_air                     19439 non-null  float64\n",
      " 58  rougher.state.floatbank10_c_level                   19439 non-null  float64\n",
      " 59  rougher.state.floatbank10_d_air                     19439 non-null  float64\n",
      " 60  rougher.state.floatbank10_d_level                   19439 non-null  float64\n",
      " 61  rougher.state.floatbank10_e_air                     19439 non-null  float64\n",
      " 62  rougher.state.floatbank10_e_level                   19439 non-null  float64\n",
      " 63  rougher.state.floatbank10_f_air                     19439 non-null  float64\n",
      " 64  rougher.state.floatbank10_f_level                   19439 non-null  float64\n",
      " 65  secondary_cleaner.output.tail_ag                    19439 non-null  float64\n",
      " 66  secondary_cleaner.output.tail_pb                    19439 non-null  float64\n",
      " 67  secondary_cleaner.output.tail_sol                   19439 non-null  float64\n",
      " 68  secondary_cleaner.output.tail_au                    19439 non-null  float64\n",
      " 69  secondary_cleaner.state.floatbank2_a_air            19439 non-null  float64\n",
      " 70  secondary_cleaner.state.floatbank2_a_level          19439 non-null  float64\n",
      " 71  secondary_cleaner.state.floatbank2_b_air            19439 non-null  float64\n",
      " 72  secondary_cleaner.state.floatbank2_b_level          19439 non-null  float64\n",
      " 73  secondary_cleaner.state.floatbank3_a_air            19439 non-null  float64\n",
      " 74  secondary_cleaner.state.floatbank3_a_level          19439 non-null  float64\n",
      " 75  secondary_cleaner.state.floatbank3_b_air            19439 non-null  float64\n",
      " 76  secondary_cleaner.state.floatbank3_b_level          19439 non-null  float64\n",
      " 77  secondary_cleaner.state.floatbank4_a_air            19439 non-null  float64\n",
      " 78  secondary_cleaner.state.floatbank4_a_level          19439 non-null  float64\n",
      " 79  secondary_cleaner.state.floatbank4_b_air            19439 non-null  float64\n",
      " 80  secondary_cleaner.state.floatbank4_b_level          19439 non-null  float64\n",
      " 81  secondary_cleaner.state.floatbank5_a_air            19439 non-null  float64\n",
      " 82  secondary_cleaner.state.floatbank5_a_level          19439 non-null  float64\n",
      " 83  secondary_cleaner.state.floatbank5_b_air            19439 non-null  float64\n",
      " 84  secondary_cleaner.state.floatbank5_b_level          19439 non-null  float64\n",
      " 85  secondary_cleaner.state.floatbank6_a_air            19439 non-null  float64\n",
      " 86  secondary_cleaner.state.floatbank6_a_level          19439 non-null  float64\n",
      "dtypes: float64(86), object(1)\n",
      "memory usage: 13.1+ MB\n",
      "None\n"
     ]
    }
   ],
   "source": [
    "print(df_train.info())\n",
    "print(df_test.info())\n",
    "print(df_full.info())"
   ]
  },
  {
   "cell_type": "markdown",
   "metadata": {},
   "source": [
    "### Выбросы, масштаб и дубликаты"
   ]
  },
  {
   "cell_type": "code",
   "execution_count": 14,
   "metadata": {},
   "outputs": [
    {
     "data": {
      "text/html": [
       "<div>\n",
       "<style scoped>\n",
       "    .dataframe tbody tr th:only-of-type {\n",
       "        vertical-align: middle;\n",
       "    }\n",
       "\n",
       "    .dataframe tbody tr th {\n",
       "        vertical-align: top;\n",
       "    }\n",
       "\n",
       "    .dataframe thead th {\n",
       "        text-align: right;\n",
       "    }\n",
       "</style>\n",
       "<table border=\"1\" class=\"dataframe\">\n",
       "  <thead>\n",
       "    <tr style=\"text-align: right;\">\n",
       "      <th></th>\n",
       "      <th>final.output.concentrate_ag</th>\n",
       "      <th>final.output.concentrate_pb</th>\n",
       "      <th>final.output.concentrate_sol</th>\n",
       "      <th>final.output.concentrate_au</th>\n",
       "      <th>final.output.recovery</th>\n",
       "      <th>final.output.tail_ag</th>\n",
       "      <th>final.output.tail_pb</th>\n",
       "      <th>final.output.tail_sol</th>\n",
       "      <th>final.output.tail_au</th>\n",
       "      <th>primary_cleaner.input.sulfate</th>\n",
       "      <th>primary_cleaner.input.depressant</th>\n",
       "      <th>primary_cleaner.input.feed_size</th>\n",
       "      <th>primary_cleaner.input.xanthate</th>\n",
       "      <th>primary_cleaner.output.concentrate_ag</th>\n",
       "      <th>primary_cleaner.output.concentrate_pb</th>\n",
       "      <th>primary_cleaner.output.concentrate_sol</th>\n",
       "      <th>primary_cleaner.output.concentrate_au</th>\n",
       "      <th>primary_cleaner.output.tail_ag</th>\n",
       "      <th>primary_cleaner.output.tail_pb</th>\n",
       "      <th>primary_cleaner.output.tail_sol</th>\n",
       "      <th>primary_cleaner.output.tail_au</th>\n",
       "      <th>primary_cleaner.state.floatbank8_a_air</th>\n",
       "      <th>primary_cleaner.state.floatbank8_a_level</th>\n",
       "      <th>primary_cleaner.state.floatbank8_b_air</th>\n",
       "      <th>primary_cleaner.state.floatbank8_b_level</th>\n",
       "      <th>primary_cleaner.state.floatbank8_c_air</th>\n",
       "      <th>primary_cleaner.state.floatbank8_c_level</th>\n",
       "      <th>primary_cleaner.state.floatbank8_d_air</th>\n",
       "      <th>primary_cleaner.state.floatbank8_d_level</th>\n",
       "      <th>rougher.calculation.sulfate_to_au_concentrate</th>\n",
       "      <th>rougher.calculation.floatbank10_sulfate_to_au_feed</th>\n",
       "      <th>rougher.calculation.floatbank11_sulfate_to_au_feed</th>\n",
       "      <th>rougher.calculation.au_pb_ratio</th>\n",
       "      <th>rougher.input.feed_ag</th>\n",
       "      <th>rougher.input.feed_pb</th>\n",
       "      <th>rougher.input.feed_rate</th>\n",
       "      <th>rougher.input.feed_size</th>\n",
       "      <th>rougher.input.feed_sol</th>\n",
       "      <th>rougher.input.feed_au</th>\n",
       "      <th>rougher.input.floatbank10_sulfate</th>\n",
       "      <th>rougher.input.floatbank10_xanthate</th>\n",
       "      <th>rougher.input.floatbank11_sulfate</th>\n",
       "      <th>rougher.input.floatbank11_xanthate</th>\n",
       "      <th>rougher.output.concentrate_ag</th>\n",
       "      <th>rougher.output.concentrate_pb</th>\n",
       "      <th>rougher.output.concentrate_sol</th>\n",
       "      <th>rougher.output.concentrate_au</th>\n",
       "      <th>rougher.output.recovery</th>\n",
       "      <th>rougher.output.tail_ag</th>\n",
       "      <th>rougher.output.tail_pb</th>\n",
       "      <th>rougher.output.tail_sol</th>\n",
       "      <th>rougher.output.tail_au</th>\n",
       "      <th>rougher.state.floatbank10_a_air</th>\n",
       "      <th>rougher.state.floatbank10_a_level</th>\n",
       "      <th>rougher.state.floatbank10_b_air</th>\n",
       "      <th>rougher.state.floatbank10_b_level</th>\n",
       "      <th>rougher.state.floatbank10_c_air</th>\n",
       "      <th>rougher.state.floatbank10_c_level</th>\n",
       "      <th>rougher.state.floatbank10_d_air</th>\n",
       "      <th>rougher.state.floatbank10_d_level</th>\n",
       "      <th>rougher.state.floatbank10_e_air</th>\n",
       "      <th>rougher.state.floatbank10_e_level</th>\n",
       "      <th>rougher.state.floatbank10_f_air</th>\n",
       "      <th>rougher.state.floatbank10_f_level</th>\n",
       "      <th>secondary_cleaner.output.tail_ag</th>\n",
       "      <th>secondary_cleaner.output.tail_pb</th>\n",
       "      <th>secondary_cleaner.output.tail_sol</th>\n",
       "      <th>secondary_cleaner.output.tail_au</th>\n",
       "      <th>secondary_cleaner.state.floatbank2_a_air</th>\n",
       "      <th>secondary_cleaner.state.floatbank2_a_level</th>\n",
       "      <th>secondary_cleaner.state.floatbank2_b_air</th>\n",
       "      <th>secondary_cleaner.state.floatbank2_b_level</th>\n",
       "      <th>secondary_cleaner.state.floatbank3_a_air</th>\n",
       "      <th>secondary_cleaner.state.floatbank3_a_level</th>\n",
       "      <th>secondary_cleaner.state.floatbank3_b_air</th>\n",
       "      <th>secondary_cleaner.state.floatbank3_b_level</th>\n",
       "      <th>secondary_cleaner.state.floatbank4_a_air</th>\n",
       "      <th>secondary_cleaner.state.floatbank4_a_level</th>\n",
       "      <th>secondary_cleaner.state.floatbank4_b_air</th>\n",
       "      <th>secondary_cleaner.state.floatbank4_b_level</th>\n",
       "      <th>secondary_cleaner.state.floatbank5_a_air</th>\n",
       "      <th>secondary_cleaner.state.floatbank5_a_level</th>\n",
       "      <th>secondary_cleaner.state.floatbank5_b_air</th>\n",
       "      <th>secondary_cleaner.state.floatbank5_b_level</th>\n",
       "      <th>secondary_cleaner.state.floatbank6_a_air</th>\n",
       "      <th>secondary_cleaner.state.floatbank6_a_level</th>\n",
       "    </tr>\n",
       "  </thead>\n",
       "  <tbody>\n",
       "    <tr>\n",
       "      <th>count</th>\n",
       "      <td>14149.000000</td>\n",
       "      <td>14149.000000</td>\n",
       "      <td>14149.000000</td>\n",
       "      <td>14149.000000</td>\n",
       "      <td>14149.000000</td>\n",
       "      <td>14149.000000</td>\n",
       "      <td>14149.000000</td>\n",
       "      <td>14149.000000</td>\n",
       "      <td>14149.000000</td>\n",
       "      <td>14149.000000</td>\n",
       "      <td>14149.000000</td>\n",
       "      <td>14149.000000</td>\n",
       "      <td>14149.000000</td>\n",
       "      <td>14149.000000</td>\n",
       "      <td>14149.000000</td>\n",
       "      <td>14149.000000</td>\n",
       "      <td>14149.000000</td>\n",
       "      <td>14149.000000</td>\n",
       "      <td>14149.000000</td>\n",
       "      <td>14149.000000</td>\n",
       "      <td>14149.000000</td>\n",
       "      <td>14149.000000</td>\n",
       "      <td>14149.000000</td>\n",
       "      <td>14149.000000</td>\n",
       "      <td>14149.000000</td>\n",
       "      <td>14149.000000</td>\n",
       "      <td>14149.000000</td>\n",
       "      <td>14149.000000</td>\n",
       "      <td>14149.000000</td>\n",
       "      <td>1.414900e+04</td>\n",
       "      <td>14149.000000</td>\n",
       "      <td>14149.000000</td>\n",
       "      <td>14149.000000</td>\n",
       "      <td>14149.000000</td>\n",
       "      <td>14149.000000</td>\n",
       "      <td>14149.000000</td>\n",
       "      <td>14149.000000</td>\n",
       "      <td>14149.000000</td>\n",
       "      <td>14149.000000</td>\n",
       "      <td>14149.000000</td>\n",
       "      <td>14149.000000</td>\n",
       "      <td>14149.000000</td>\n",
       "      <td>14149.000000</td>\n",
       "      <td>14149.000000</td>\n",
       "      <td>14149.000000</td>\n",
       "      <td>14149.000000</td>\n",
       "      <td>14149.000000</td>\n",
       "      <td>14149.000000</td>\n",
       "      <td>14149.000000</td>\n",
       "      <td>14149.000000</td>\n",
       "      <td>14149.000000</td>\n",
       "      <td>14149.000000</td>\n",
       "      <td>14149.000000</td>\n",
       "      <td>14149.000000</td>\n",
       "      <td>14149.000000</td>\n",
       "      <td>14149.000000</td>\n",
       "      <td>14149.000000</td>\n",
       "      <td>14149.000000</td>\n",
       "      <td>14149.000000</td>\n",
       "      <td>14149.000000</td>\n",
       "      <td>14149.000000</td>\n",
       "      <td>14149.000000</td>\n",
       "      <td>14149.000000</td>\n",
       "      <td>14149.000000</td>\n",
       "      <td>14149.000000</td>\n",
       "      <td>14149.000000</td>\n",
       "      <td>14149.000000</td>\n",
       "      <td>14149.000000</td>\n",
       "      <td>14149.000000</td>\n",
       "      <td>14149.000000</td>\n",
       "      <td>14149.000000</td>\n",
       "      <td>14149.000000</td>\n",
       "      <td>14149.000000</td>\n",
       "      <td>14149.000000</td>\n",
       "      <td>14149.000000</td>\n",
       "      <td>14149.000000</td>\n",
       "      <td>14149.000000</td>\n",
       "      <td>14149.000000</td>\n",
       "      <td>14149.000000</td>\n",
       "      <td>14149.000000</td>\n",
       "      <td>14149.000000</td>\n",
       "      <td>14149.000000</td>\n",
       "      <td>14149.000000</td>\n",
       "      <td>14149.000000</td>\n",
       "      <td>14149.000000</td>\n",
       "      <td>14149.000000</td>\n",
       "    </tr>\n",
       "    <tr>\n",
       "      <th>mean</th>\n",
       "      <td>5.141921</td>\n",
       "      <td>10.132848</td>\n",
       "      <td>9.109311</td>\n",
       "      <td>44.003792</td>\n",
       "      <td>66.518832</td>\n",
       "      <td>9.607035</td>\n",
       "      <td>2.583179</td>\n",
       "      <td>10.510889</td>\n",
       "      <td>2.918421</td>\n",
       "      <td>133.213938</td>\n",
       "      <td>8.855281</td>\n",
       "      <td>7.322310</td>\n",
       "      <td>0.881455</td>\n",
       "      <td>8.200916</td>\n",
       "      <td>9.568544</td>\n",
       "      <td>10.016250</td>\n",
       "      <td>32.386836</td>\n",
       "      <td>16.303752</td>\n",
       "      <td>3.440612</td>\n",
       "      <td>7.522594</td>\n",
       "      <td>3.839637</td>\n",
       "      <td>1608.010260</td>\n",
       "      <td>-488.776276</td>\n",
       "      <td>1608.624449</td>\n",
       "      <td>-489.172523</td>\n",
       "      <td>1608.881920</td>\n",
       "      <td>-489.606288</td>\n",
       "      <td>1542.262260</td>\n",
       "      <td>-483.463589</td>\n",
       "      <td>4.038262e+04</td>\n",
       "      <td>3456.590870</td>\n",
       "      <td>3253.349001</td>\n",
       "      <td>2.367314</td>\n",
       "      <td>8.579195</td>\n",
       "      <td>3.505465</td>\n",
       "      <td>473.938265</td>\n",
       "      <td>60.239856</td>\n",
       "      <td>36.290933</td>\n",
       "      <td>7.866577</td>\n",
       "      <td>11.746225</td>\n",
       "      <td>5.853080</td>\n",
       "      <td>11.368269</td>\n",
       "      <td>5.803930</td>\n",
       "      <td>11.775812</td>\n",
       "      <td>7.664555</td>\n",
       "      <td>28.292820</td>\n",
       "      <td>19.439958</td>\n",
       "      <td>82.704502</td>\n",
       "      <td>5.567238</td>\n",
       "      <td>0.653277</td>\n",
       "      <td>17.882853</td>\n",
       "      <td>1.757473</td>\n",
       "      <td>1124.717520</td>\n",
       "      <td>-369.470105</td>\n",
       "      <td>1320.724794</td>\n",
       "      <td>-464.261562</td>\n",
       "      <td>1299.381782</td>\n",
       "      <td>-465.057320</td>\n",
       "      <td>1210.335236</td>\n",
       "      <td>-465.457377</td>\n",
       "      <td>1084.329957</td>\n",
       "      <td>-464.919119</td>\n",
       "      <td>1035.490299</td>\n",
       "      <td>-464.688631</td>\n",
       "      <td>14.281516</td>\n",
       "      <td>5.846963</td>\n",
       "      <td>6.267120</td>\n",
       "      <td>4.246961</td>\n",
       "      <td>29.685606</td>\n",
       "      <td>-502.223723</td>\n",
       "      <td>24.900592</td>\n",
       "      <td>-503.695352</td>\n",
       "      <td>29.242738</td>\n",
       "      <td>-478.245518</td>\n",
       "      <td>22.656283</td>\n",
       "      <td>-488.924813</td>\n",
       "      <td>19.979788</td>\n",
       "      <td>-478.702912</td>\n",
       "      <td>15.486812</td>\n",
       "      <td>-460.237231</td>\n",
       "      <td>16.774657</td>\n",
       "      <td>-483.957839</td>\n",
       "      <td>13.064236</td>\n",
       "      <td>-483.967726</td>\n",
       "      <td>19.576675</td>\n",
       "      <td>-506.805007</td>\n",
       "    </tr>\n",
       "    <tr>\n",
       "      <th>std</th>\n",
       "      <td>1.369603</td>\n",
       "      <td>1.654925</td>\n",
       "      <td>2.886929</td>\n",
       "      <td>4.905261</td>\n",
       "      <td>10.295402</td>\n",
       "      <td>2.319069</td>\n",
       "      <td>0.983118</td>\n",
       "      <td>3.003888</td>\n",
       "      <td>0.903712</td>\n",
       "      <td>39.604988</td>\n",
       "      <td>3.375435</td>\n",
       "      <td>0.614062</td>\n",
       "      <td>0.375683</td>\n",
       "      <td>2.005185</td>\n",
       "      <td>2.709330</td>\n",
       "      <td>4.110548</td>\n",
       "      <td>5.798843</td>\n",
       "      <td>3.739771</td>\n",
       "      <td>1.491948</td>\n",
       "      <td>2.147520</td>\n",
       "      <td>1.603544</td>\n",
       "      <td>128.381451</td>\n",
       "      <td>35.703034</td>\n",
       "      <td>131.101079</td>\n",
       "      <td>33.603376</td>\n",
       "      <td>134.260578</td>\n",
       "      <td>35.622851</td>\n",
       "      <td>278.383053</td>\n",
       "      <td>47.099473</td>\n",
       "      <td>3.801302e+05</td>\n",
       "      <td>5772.306612</td>\n",
       "      <td>6753.052049</td>\n",
       "      <td>0.873551</td>\n",
       "      <td>1.896284</td>\n",
       "      <td>1.090064</td>\n",
       "      <td>104.137249</td>\n",
       "      <td>23.005310</td>\n",
       "      <td>4.977652</td>\n",
       "      <td>1.919506</td>\n",
       "      <td>3.307977</td>\n",
       "      <td>1.106509</td>\n",
       "      <td>3.798083</td>\n",
       "      <td>1.239005</td>\n",
       "      <td>2.731747</td>\n",
       "      <td>1.856279</td>\n",
       "      <td>6.119659</td>\n",
       "      <td>3.765192</td>\n",
       "      <td>14.479156</td>\n",
       "      <td>1.039188</td>\n",
       "      <td>0.263766</td>\n",
       "      <td>3.432859</td>\n",
       "      <td>0.713187</td>\n",
       "      <td>169.308048</td>\n",
       "      <td>93.955779</td>\n",
       "      <td>183.164531</td>\n",
       "      <td>57.400744</td>\n",
       "      <td>213.411457</td>\n",
       "      <td>55.903513</td>\n",
       "      <td>210.431555</td>\n",
       "      <td>55.771393</td>\n",
       "      <td>186.264888</td>\n",
       "      <td>56.602962</td>\n",
       "      <td>175.052279</td>\n",
       "      <td>56.645965</td>\n",
       "      <td>4.476820</td>\n",
       "      <td>2.862382</td>\n",
       "      <td>4.363892</td>\n",
       "      <td>2.389060</td>\n",
       "      <td>5.812810</td>\n",
       "      <td>60.279579</td>\n",
       "      <td>6.016986</td>\n",
       "      <td>62.835150</td>\n",
       "      <td>5.636710</td>\n",
       "      <td>54.653487</td>\n",
       "      <td>4.995841</td>\n",
       "      <td>41.926730</td>\n",
       "      <td>5.663611</td>\n",
       "      <td>50.739376</td>\n",
       "      <td>5.255555</td>\n",
       "      <td>58.848850</td>\n",
       "      <td>5.831978</td>\n",
       "      <td>37.892065</td>\n",
       "      <td>5.765567</td>\n",
       "      <td>39.206771</td>\n",
       "      <td>5.764496</td>\n",
       "      <td>37.086065</td>\n",
       "    </tr>\n",
       "    <tr>\n",
       "      <th>min</th>\n",
       "      <td>0.000000</td>\n",
       "      <td>0.000000</td>\n",
       "      <td>0.000000</td>\n",
       "      <td>0.000000</td>\n",
       "      <td>0.000000</td>\n",
       "      <td>0.000000</td>\n",
       "      <td>0.000000</td>\n",
       "      <td>0.000000</td>\n",
       "      <td>0.000000</td>\n",
       "      <td>0.003112</td>\n",
       "      <td>0.000000</td>\n",
       "      <td>1.080000</td>\n",
       "      <td>0.000005</td>\n",
       "      <td>0.000000</td>\n",
       "      <td>0.000000</td>\n",
       "      <td>0.000000</td>\n",
       "      <td>0.000000</td>\n",
       "      <td>0.000000</td>\n",
       "      <td>0.000000</td>\n",
       "      <td>0.000000</td>\n",
       "      <td>0.000000</td>\n",
       "      <td>0.006352</td>\n",
       "      <td>-798.641662</td>\n",
       "      <td>0.008700</td>\n",
       "      <td>-740.122129</td>\n",
       "      <td>0.015159</td>\n",
       "      <td>-799.803073</td>\n",
       "      <td>0.008655</td>\n",
       "      <td>-799.788598</td>\n",
       "      <td>-4.223520e+07</td>\n",
       "      <td>-486.598675</td>\n",
       "      <td>-264.982785</td>\n",
       "      <td>-0.010548</td>\n",
       "      <td>0.010000</td>\n",
       "      <td>0.010000</td>\n",
       "      <td>0.012786</td>\n",
       "      <td>9.659576</td>\n",
       "      <td>0.010000</td>\n",
       "      <td>0.010000</td>\n",
       "      <td>0.001083</td>\n",
       "      <td>0.001428</td>\n",
       "      <td>0.000098</td>\n",
       "      <td>0.000290</td>\n",
       "      <td>0.000000</td>\n",
       "      <td>0.000000</td>\n",
       "      <td>0.000000</td>\n",
       "      <td>0.000000</td>\n",
       "      <td>0.000000</td>\n",
       "      <td>0.594562</td>\n",
       "      <td>0.007566</td>\n",
       "      <td>10.014648</td>\n",
       "      <td>0.020676</td>\n",
       "      <td>-0.041078</td>\n",
       "      <td>-650.202881</td>\n",
       "      <td>-0.653384</td>\n",
       "      <td>-650.260008</td>\n",
       "      <td>-0.035112</td>\n",
       "      <td>-640.995627</td>\n",
       "      <td>-0.554299</td>\n",
       "      <td>-640.519003</td>\n",
       "      <td>-1.970275</td>\n",
       "      <td>-649.443911</td>\n",
       "      <td>-2.430587</td>\n",
       "      <td>-649.880981</td>\n",
       "      <td>0.000000</td>\n",
       "      <td>0.000000</td>\n",
       "      <td>0.000000</td>\n",
       "      <td>0.000000</td>\n",
       "      <td>0.077503</td>\n",
       "      <td>-799.606441</td>\n",
       "      <td>0.000000</td>\n",
       "      <td>-799.873878</td>\n",
       "      <td>0.000000</td>\n",
       "      <td>-799.613013</td>\n",
       "      <td>0.000000</td>\n",
       "      <td>-759.177381</td>\n",
       "      <td>0.000000</td>\n",
       "      <td>-799.709069</td>\n",
       "      <td>0.000000</td>\n",
       "      <td>-799.889113</td>\n",
       "      <td>-0.372054</td>\n",
       "      <td>-797.142475</td>\n",
       "      <td>0.646208</td>\n",
       "      <td>-800.006180</td>\n",
       "      <td>0.195324</td>\n",
       "      <td>-809.398668</td>\n",
       "    </tr>\n",
       "    <tr>\n",
       "      <th>25%</th>\n",
       "      <td>4.211500</td>\n",
       "      <td>9.296833</td>\n",
       "      <td>7.422466</td>\n",
       "      <td>43.276111</td>\n",
       "      <td>62.545817</td>\n",
       "      <td>7.997429</td>\n",
       "      <td>1.889827</td>\n",
       "      <td>8.810653</td>\n",
       "      <td>2.368607</td>\n",
       "      <td>106.859801</td>\n",
       "      <td>6.038358</td>\n",
       "      <td>6.960000</td>\n",
       "      <td>0.604805</td>\n",
       "      <td>7.107126</td>\n",
       "      <td>8.315997</td>\n",
       "      <td>7.376454</td>\n",
       "      <td>30.857764</td>\n",
       "      <td>13.872984</td>\n",
       "      <td>2.418536</td>\n",
       "      <td>6.321252</td>\n",
       "      <td>2.867957</td>\n",
       "      <td>1595.695815</td>\n",
       "      <td>-500.287950</td>\n",
       "      <td>1558.959943</td>\n",
       "      <td>-500.375607</td>\n",
       "      <td>1549.873901</td>\n",
       "      <td>-500.601650</td>\n",
       "      <td>1452.697692</td>\n",
       "      <td>-500.459897</td>\n",
       "      <td>3.999439e+04</td>\n",
       "      <td>2527.106558</td>\n",
       "      <td>2512.201006</td>\n",
       "      <td>1.999588</td>\n",
       "      <td>7.132802</td>\n",
       "      <td>2.766515</td>\n",
       "      <td>420.723210</td>\n",
       "      <td>48.966751</td>\n",
       "      <td>34.086892</td>\n",
       "      <td>6.596217</td>\n",
       "      <td>9.842944</td>\n",
       "      <td>5.113485</td>\n",
       "      <td>9.502098</td>\n",
       "      <td>5.096661</td>\n",
       "      <td>10.486871</td>\n",
       "      <td>6.850501</td>\n",
       "      <td>26.696213</td>\n",
       "      <td>18.432161</td>\n",
       "      <td>79.993067</td>\n",
       "      <td>4.921773</td>\n",
       "      <td>0.474047</td>\n",
       "      <td>15.688727</td>\n",
       "      <td>1.310800</td>\n",
       "      <td>999.799195</td>\n",
       "      <td>-499.787788</td>\n",
       "      <td>1199.367169</td>\n",
       "      <td>-500.183146</td>\n",
       "      <td>1103.096392</td>\n",
       "      <td>-500.211811</td>\n",
       "      <td>1059.708509</td>\n",
       "      <td>-500.359197</td>\n",
       "      <td>951.248809</td>\n",
       "      <td>-500.250033</td>\n",
       "      <td>900.966986</td>\n",
       "      <td>-500.476526</td>\n",
       "      <td>12.177541</td>\n",
       "      <td>3.979249</td>\n",
       "      <td>2.152213</td>\n",
       "      <td>3.153122</td>\n",
       "      <td>25.107090</td>\n",
       "      <td>-500.248792</td>\n",
       "      <td>22.043888</td>\n",
       "      <td>-500.270983</td>\n",
       "      <td>24.991662</td>\n",
       "      <td>-500.175043</td>\n",
       "      <td>19.948440</td>\n",
       "      <td>-500.110576</td>\n",
       "      <td>14.990463</td>\n",
       "      <td>-500.628716</td>\n",
       "      <td>11.894590</td>\n",
       "      <td>-500.149141</td>\n",
       "      <td>11.083699</td>\n",
       "      <td>-500.363203</td>\n",
       "      <td>8.994384</td>\n",
       "      <td>-500.105994</td>\n",
       "      <td>14.989244</td>\n",
       "      <td>-500.745309</td>\n",
       "    </tr>\n",
       "    <tr>\n",
       "      <th>50%</th>\n",
       "      <td>4.994607</td>\n",
       "      <td>10.297013</td>\n",
       "      <td>8.801909</td>\n",
       "      <td>44.872436</td>\n",
       "      <td>67.432775</td>\n",
       "      <td>9.480270</td>\n",
       "      <td>2.581476</td>\n",
       "      <td>10.514141</td>\n",
       "      <td>2.851025</td>\n",
       "      <td>132.999290</td>\n",
       "      <td>8.034222</td>\n",
       "      <td>7.290000</td>\n",
       "      <td>0.887473</td>\n",
       "      <td>8.226247</td>\n",
       "      <td>9.920598</td>\n",
       "      <td>9.648025</td>\n",
       "      <td>33.225835</td>\n",
       "      <td>15.800433</td>\n",
       "      <td>3.217161</td>\n",
       "      <td>7.709205</td>\n",
       "      <td>3.510337</td>\n",
       "      <td>1601.827195</td>\n",
       "      <td>-499.909251</td>\n",
       "      <td>1601.820517</td>\n",
       "      <td>-499.937866</td>\n",
       "      <td>1601.574628</td>\n",
       "      <td>-499.871677</td>\n",
       "      <td>1600.168762</td>\n",
       "      <td>-499.831842</td>\n",
       "      <td>4.368392e+04</td>\n",
       "      <td>2976.126894</td>\n",
       "      <td>2899.894252</td>\n",
       "      <td>2.249275</td>\n",
       "      <td>8.156092</td>\n",
       "      <td>3.414267</td>\n",
       "      <td>499.449303</td>\n",
       "      <td>55.269784</td>\n",
       "      <td>37.008684</td>\n",
       "      <td>7.649138</td>\n",
       "      <td>11.661747</td>\n",
       "      <td>5.949895</td>\n",
       "      <td>11.382460</td>\n",
       "      <td>5.992219</td>\n",
       "      <td>11.747362</td>\n",
       "      <td>7.760435</td>\n",
       "      <td>29.254966</td>\n",
       "      <td>19.947312</td>\n",
       "      <td>85.299462</td>\n",
       "      <td>5.722161</td>\n",
       "      <td>0.625805</td>\n",
       "      <td>18.015894</td>\n",
       "      <td>1.745513</td>\n",
       "      <td>1001.682290</td>\n",
       "      <td>-300.175169</td>\n",
       "      <td>1301.367954</td>\n",
       "      <td>-499.764806</td>\n",
       "      <td>1300.214100</td>\n",
       "      <td>-499.682570</td>\n",
       "      <td>1200.744308</td>\n",
       "      <td>-499.465285</td>\n",
       "      <td>1050.158925</td>\n",
       "      <td>-499.611447</td>\n",
       "      <td>1000.053757</td>\n",
       "      <td>-499.364335</td>\n",
       "      <td>15.356812</td>\n",
       "      <td>5.440583</td>\n",
       "      <td>6.184451</td>\n",
       "      <td>3.980210</td>\n",
       "      <td>30.034084</td>\n",
       "      <td>-499.959205</td>\n",
       "      <td>27.022134</td>\n",
       "      <td>-500.014051</td>\n",
       "      <td>28.016464</td>\n",
       "      <td>-499.877836</td>\n",
       "      <td>22.037443</td>\n",
       "      <td>-499.966795</td>\n",
       "      <td>20.001601</td>\n",
       "      <td>-499.681587</td>\n",
       "      <td>14.975474</td>\n",
       "      <td>-499.388853</td>\n",
       "      <td>17.931987</td>\n",
       "      <td>-499.702479</td>\n",
       "      <td>11.997537</td>\n",
       "      <td>-499.914556</td>\n",
       "      <td>19.984165</td>\n",
       "      <td>-500.061488</td>\n",
       "    </tr>\n",
       "    <tr>\n",
       "      <th>75%</th>\n",
       "      <td>5.859495</td>\n",
       "      <td>11.170578</td>\n",
       "      <td>10.452148</td>\n",
       "      <td>46.166425</td>\n",
       "      <td>72.346428</td>\n",
       "      <td>11.003707</td>\n",
       "      <td>3.237211</td>\n",
       "      <td>11.932186</td>\n",
       "      <td>3.434764</td>\n",
       "      <td>159.825396</td>\n",
       "      <td>11.516919</td>\n",
       "      <td>7.700000</td>\n",
       "      <td>1.100079</td>\n",
       "      <td>9.504924</td>\n",
       "      <td>11.298487</td>\n",
       "      <td>12.974629</td>\n",
       "      <td>35.330145</td>\n",
       "      <td>18.450107</td>\n",
       "      <td>4.250882</td>\n",
       "      <td>8.909183</td>\n",
       "      <td>4.492470</td>\n",
       "      <td>1699.716408</td>\n",
       "      <td>-499.378655</td>\n",
       "      <td>1700.214206</td>\n",
       "      <td>-499.389771</td>\n",
       "      <td>1700.465056</td>\n",
       "      <td>-498.801786</td>\n",
       "      <td>1699.359397</td>\n",
       "      <td>-498.480878</td>\n",
       "      <td>4.775946e+04</td>\n",
       "      <td>3716.340219</td>\n",
       "      <td>3596.529278</td>\n",
       "      <td>2.660896</td>\n",
       "      <td>9.918304</td>\n",
       "      <td>4.220115</td>\n",
       "      <td>547.326781</td>\n",
       "      <td>66.007526</td>\n",
       "      <td>39.410720</td>\n",
       "      <td>9.066976</td>\n",
       "      <td>13.584044</td>\n",
       "      <td>6.602486</td>\n",
       "      <td>13.498047</td>\n",
       "      <td>6.642274</td>\n",
       "      <td>13.426419</td>\n",
       "      <td>8.601927</td>\n",
       "      <td>31.743943</td>\n",
       "      <td>21.392714</td>\n",
       "      <td>90.165021</td>\n",
       "      <td>6.310738</td>\n",
       "      <td>0.794326</td>\n",
       "      <td>19.938672</td>\n",
       "      <td>2.186790</td>\n",
       "      <td>1299.505214</td>\n",
       "      <td>-299.963169</td>\n",
       "      <td>1449.559140</td>\n",
       "      <td>-400.425547</td>\n",
       "      <td>1450.353307</td>\n",
       "      <td>-400.664948</td>\n",
       "      <td>1344.378462</td>\n",
       "      <td>-401.052891</td>\n",
       "      <td>1199.903428</td>\n",
       "      <td>-400.596104</td>\n",
       "      <td>1100.165435</td>\n",
       "      <td>-401.014951</td>\n",
       "      <td>17.230072</td>\n",
       "      <td>7.797396</td>\n",
       "      <td>10.291326</td>\n",
       "      <td>4.883943</td>\n",
       "      <td>34.902699</td>\n",
       "      <td>-499.593172</td>\n",
       "      <td>28.939448</td>\n",
       "      <td>-499.763998</td>\n",
       "      <td>34.990058</td>\n",
       "      <td>-437.069363</td>\n",
       "      <td>25.970312</td>\n",
       "      <td>-499.757527</td>\n",
       "      <td>24.990768</td>\n",
       "      <td>-477.486391</td>\n",
       "      <td>20.059286</td>\n",
       "      <td>-400.039047</td>\n",
       "      <td>21.346135</td>\n",
       "      <td>-487.864322</td>\n",
       "      <td>17.982826</td>\n",
       "      <td>-453.274822</td>\n",
       "      <td>24.991615</td>\n",
       "      <td>-499.536481</td>\n",
       "    </tr>\n",
       "    <tr>\n",
       "      <th>max</th>\n",
       "      <td>16.001945</td>\n",
       "      <td>17.031899</td>\n",
       "      <td>18.124851</td>\n",
       "      <td>52.756638</td>\n",
       "      <td>100.000000</td>\n",
       "      <td>19.552149</td>\n",
       "      <td>5.639565</td>\n",
       "      <td>22.317730</td>\n",
       "      <td>8.197408</td>\n",
       "      <td>250.127834</td>\n",
       "      <td>20.052255</td>\n",
       "      <td>10.470000</td>\n",
       "      <td>2.512968</td>\n",
       "      <td>16.081632</td>\n",
       "      <td>17.081278</td>\n",
       "      <td>22.280845</td>\n",
       "      <td>45.933934</td>\n",
       "      <td>29.459575</td>\n",
       "      <td>9.634565</td>\n",
       "      <td>20.620833</td>\n",
       "      <td>17.788925</td>\n",
       "      <td>2079.531340</td>\n",
       "      <td>-330.134203</td>\n",
       "      <td>2114.906758</td>\n",
       "      <td>-347.354380</td>\n",
       "      <td>2013.156457</td>\n",
       "      <td>-346.653450</td>\n",
       "      <td>2398.903635</td>\n",
       "      <td>-30.601828</td>\n",
       "      <td>3.428099e+06</td>\n",
       "      <td>629638.977914</td>\n",
       "      <td>718684.955855</td>\n",
       "      <td>39.379272</td>\n",
       "      <td>14.596026</td>\n",
       "      <td>7.142594</td>\n",
       "      <td>717.508837</td>\n",
       "      <td>484.967466</td>\n",
       "      <td>48.363177</td>\n",
       "      <td>13.126043</td>\n",
       "      <td>36.118275</td>\n",
       "      <td>9.703448</td>\n",
       "      <td>37.980648</td>\n",
       "      <td>9.698407</td>\n",
       "      <td>24.480271</td>\n",
       "      <td>13.617072</td>\n",
       "      <td>38.351193</td>\n",
       "      <td>28.146838</td>\n",
       "      <td>100.000000</td>\n",
       "      <td>12.719177</td>\n",
       "      <td>3.778064</td>\n",
       "      <td>66.117188</td>\n",
       "      <td>9.688980</td>\n",
       "      <td>1521.980372</td>\n",
       "      <td>-281.039299</td>\n",
       "      <td>1809.194008</td>\n",
       "      <td>-296.383080</td>\n",
       "      <td>2499.129174</td>\n",
       "      <td>-292.155509</td>\n",
       "      <td>1817.199290</td>\n",
       "      <td>-208.330673</td>\n",
       "      <td>1922.636637</td>\n",
       "      <td>-272.199598</td>\n",
       "      <td>1706.307502</td>\n",
       "      <td>-191.718480</td>\n",
       "      <td>23.264738</td>\n",
       "      <td>17.042505</td>\n",
       "      <td>17.976171</td>\n",
       "      <td>26.811643</td>\n",
       "      <td>52.651399</td>\n",
       "      <td>-127.875565</td>\n",
       "      <td>35.152122</td>\n",
       "      <td>-212.064665</td>\n",
       "      <td>44.260464</td>\n",
       "      <td>-191.678810</td>\n",
       "      <td>35.072841</td>\n",
       "      <td>-159.742331</td>\n",
       "      <td>30.115735</td>\n",
       "      <td>-245.239184</td>\n",
       "      <td>24.007913</td>\n",
       "      <td>-145.071088</td>\n",
       "      <td>43.709931</td>\n",
       "      <td>-275.073125</td>\n",
       "      <td>27.926001</td>\n",
       "      <td>-157.396071</td>\n",
       "      <td>32.188906</td>\n",
       "      <td>-104.427459</td>\n",
       "    </tr>\n",
       "  </tbody>\n",
       "</table>\n",
       "</div>"
      ],
      "text/plain": [
       "       final.output.concentrate_ag  final.output.concentrate_pb  \\\n",
       "count                 14149.000000                 14149.000000   \n",
       "mean                      5.141921                    10.132848   \n",
       "std                       1.369603                     1.654925   \n",
       "min                       0.000000                     0.000000   \n",
       "25%                       4.211500                     9.296833   \n",
       "50%                       4.994607                    10.297013   \n",
       "75%                       5.859495                    11.170578   \n",
       "max                      16.001945                    17.031899   \n",
       "\n",
       "       final.output.concentrate_sol  final.output.concentrate_au  \\\n",
       "count                  14149.000000                 14149.000000   \n",
       "mean                       9.109311                    44.003792   \n",
       "std                        2.886929                     4.905261   \n",
       "min                        0.000000                     0.000000   \n",
       "25%                        7.422466                    43.276111   \n",
       "50%                        8.801909                    44.872436   \n",
       "75%                       10.452148                    46.166425   \n",
       "max                       18.124851                    52.756638   \n",
       "\n",
       "       final.output.recovery  final.output.tail_ag  final.output.tail_pb  \\\n",
       "count           14149.000000          14149.000000          14149.000000   \n",
       "mean               66.518832              9.607035              2.583179   \n",
       "std                10.295402              2.319069              0.983118   \n",
       "min                 0.000000              0.000000              0.000000   \n",
       "25%                62.545817              7.997429              1.889827   \n",
       "50%                67.432775              9.480270              2.581476   \n",
       "75%                72.346428             11.003707              3.237211   \n",
       "max               100.000000             19.552149              5.639565   \n",
       "\n",
       "       final.output.tail_sol  final.output.tail_au  \\\n",
       "count           14149.000000          14149.000000   \n",
       "mean               10.510889              2.918421   \n",
       "std                 3.003888              0.903712   \n",
       "min                 0.000000              0.000000   \n",
       "25%                 8.810653              2.368607   \n",
       "50%                10.514141              2.851025   \n",
       "75%                11.932186              3.434764   \n",
       "max                22.317730              8.197408   \n",
       "\n",
       "       primary_cleaner.input.sulfate  primary_cleaner.input.depressant  \\\n",
       "count                   14149.000000                      14149.000000   \n",
       "mean                      133.213938                          8.855281   \n",
       "std                        39.604988                          3.375435   \n",
       "min                         0.003112                          0.000000   \n",
       "25%                       106.859801                          6.038358   \n",
       "50%                       132.999290                          8.034222   \n",
       "75%                       159.825396                         11.516919   \n",
       "max                       250.127834                         20.052255   \n",
       "\n",
       "       primary_cleaner.input.feed_size  primary_cleaner.input.xanthate  \\\n",
       "count                     14149.000000                    14149.000000   \n",
       "mean                          7.322310                        0.881455   \n",
       "std                           0.614062                        0.375683   \n",
       "min                           1.080000                        0.000005   \n",
       "25%                           6.960000                        0.604805   \n",
       "50%                           7.290000                        0.887473   \n",
       "75%                           7.700000                        1.100079   \n",
       "max                          10.470000                        2.512968   \n",
       "\n",
       "       primary_cleaner.output.concentrate_ag  \\\n",
       "count                           14149.000000   \n",
       "mean                                8.200916   \n",
       "std                                 2.005185   \n",
       "min                                 0.000000   \n",
       "25%                                 7.107126   \n",
       "50%                                 8.226247   \n",
       "75%                                 9.504924   \n",
       "max                                16.081632   \n",
       "\n",
       "       primary_cleaner.output.concentrate_pb  \\\n",
       "count                           14149.000000   \n",
       "mean                                9.568544   \n",
       "std                                 2.709330   \n",
       "min                                 0.000000   \n",
       "25%                                 8.315997   \n",
       "50%                                 9.920598   \n",
       "75%                                11.298487   \n",
       "max                                17.081278   \n",
       "\n",
       "       primary_cleaner.output.concentrate_sol  \\\n",
       "count                            14149.000000   \n",
       "mean                                10.016250   \n",
       "std                                  4.110548   \n",
       "min                                  0.000000   \n",
       "25%                                  7.376454   \n",
       "50%                                  9.648025   \n",
       "75%                                 12.974629   \n",
       "max                                 22.280845   \n",
       "\n",
       "       primary_cleaner.output.concentrate_au  primary_cleaner.output.tail_ag  \\\n",
       "count                           14149.000000                    14149.000000   \n",
       "mean                               32.386836                       16.303752   \n",
       "std                                 5.798843                        3.739771   \n",
       "min                                 0.000000                        0.000000   \n",
       "25%                                30.857764                       13.872984   \n",
       "50%                                33.225835                       15.800433   \n",
       "75%                                35.330145                       18.450107   \n",
       "max                                45.933934                       29.459575   \n",
       "\n",
       "       primary_cleaner.output.tail_pb  primary_cleaner.output.tail_sol  \\\n",
       "count                    14149.000000                     14149.000000   \n",
       "mean                         3.440612                         7.522594   \n",
       "std                          1.491948                         2.147520   \n",
       "min                          0.000000                         0.000000   \n",
       "25%                          2.418536                         6.321252   \n",
       "50%                          3.217161                         7.709205   \n",
       "75%                          4.250882                         8.909183   \n",
       "max                          9.634565                        20.620833   \n",
       "\n",
       "       primary_cleaner.output.tail_au  primary_cleaner.state.floatbank8_a_air  \\\n",
       "count                    14149.000000                            14149.000000   \n",
       "mean                         3.839637                             1608.010260   \n",
       "std                          1.603544                              128.381451   \n",
       "min                          0.000000                                0.006352   \n",
       "25%                          2.867957                             1595.695815   \n",
       "50%                          3.510337                             1601.827195   \n",
       "75%                          4.492470                             1699.716408   \n",
       "max                         17.788925                             2079.531340   \n",
       "\n",
       "       primary_cleaner.state.floatbank8_a_level  \\\n",
       "count                              14149.000000   \n",
       "mean                                -488.776276   \n",
       "std                                   35.703034   \n",
       "min                                 -798.641662   \n",
       "25%                                 -500.287950   \n",
       "50%                                 -499.909251   \n",
       "75%                                 -499.378655   \n",
       "max                                 -330.134203   \n",
       "\n",
       "       primary_cleaner.state.floatbank8_b_air  \\\n",
       "count                            14149.000000   \n",
       "mean                              1608.624449   \n",
       "std                                131.101079   \n",
       "min                                  0.008700   \n",
       "25%                               1558.959943   \n",
       "50%                               1601.820517   \n",
       "75%                               1700.214206   \n",
       "max                               2114.906758   \n",
       "\n",
       "       primary_cleaner.state.floatbank8_b_level  \\\n",
       "count                              14149.000000   \n",
       "mean                                -489.172523   \n",
       "std                                   33.603376   \n",
       "min                                 -740.122129   \n",
       "25%                                 -500.375607   \n",
       "50%                                 -499.937866   \n",
       "75%                                 -499.389771   \n",
       "max                                 -347.354380   \n",
       "\n",
       "       primary_cleaner.state.floatbank8_c_air  \\\n",
       "count                            14149.000000   \n",
       "mean                              1608.881920   \n",
       "std                                134.260578   \n",
       "min                                  0.015159   \n",
       "25%                               1549.873901   \n",
       "50%                               1601.574628   \n",
       "75%                               1700.465056   \n",
       "max                               2013.156457   \n",
       "\n",
       "       primary_cleaner.state.floatbank8_c_level  \\\n",
       "count                              14149.000000   \n",
       "mean                                -489.606288   \n",
       "std                                   35.622851   \n",
       "min                                 -799.803073   \n",
       "25%                                 -500.601650   \n",
       "50%                                 -499.871677   \n",
       "75%                                 -498.801786   \n",
       "max                                 -346.653450   \n",
       "\n",
       "       primary_cleaner.state.floatbank8_d_air  \\\n",
       "count                            14149.000000   \n",
       "mean                              1542.262260   \n",
       "std                                278.383053   \n",
       "min                                  0.008655   \n",
       "25%                               1452.697692   \n",
       "50%                               1600.168762   \n",
       "75%                               1699.359397   \n",
       "max                               2398.903635   \n",
       "\n",
       "       primary_cleaner.state.floatbank8_d_level  \\\n",
       "count                              14149.000000   \n",
       "mean                                -483.463589   \n",
       "std                                   47.099473   \n",
       "min                                 -799.788598   \n",
       "25%                                 -500.459897   \n",
       "50%                                 -499.831842   \n",
       "75%                                 -498.480878   \n",
       "max                                  -30.601828   \n",
       "\n",
       "       rougher.calculation.sulfate_to_au_concentrate  \\\n",
       "count                                   1.414900e+04   \n",
       "mean                                    4.038262e+04   \n",
       "std                                     3.801302e+05   \n",
       "min                                    -4.223520e+07   \n",
       "25%                                     3.999439e+04   \n",
       "50%                                     4.368392e+04   \n",
       "75%                                     4.775946e+04   \n",
       "max                                     3.428099e+06   \n",
       "\n",
       "       rougher.calculation.floatbank10_sulfate_to_au_feed  \\\n",
       "count                                       14149.000000    \n",
       "mean                                         3456.590870    \n",
       "std                                          5772.306612    \n",
       "min                                          -486.598675    \n",
       "25%                                          2527.106558    \n",
       "50%                                          2976.126894    \n",
       "75%                                          3716.340219    \n",
       "max                                        629638.977914    \n",
       "\n",
       "       rougher.calculation.floatbank11_sulfate_to_au_feed  \\\n",
       "count                                       14149.000000    \n",
       "mean                                         3253.349001    \n",
       "std                                          6753.052049    \n",
       "min                                          -264.982785    \n",
       "25%                                          2512.201006    \n",
       "50%                                          2899.894252    \n",
       "75%                                          3596.529278    \n",
       "max                                        718684.955855    \n",
       "\n",
       "       rougher.calculation.au_pb_ratio  rougher.input.feed_ag  \\\n",
       "count                     14149.000000           14149.000000   \n",
       "mean                          2.367314               8.579195   \n",
       "std                           0.873551               1.896284   \n",
       "min                          -0.010548               0.010000   \n",
       "25%                           1.999588               7.132802   \n",
       "50%                           2.249275               8.156092   \n",
       "75%                           2.660896               9.918304   \n",
       "max                          39.379272              14.596026   \n",
       "\n",
       "       rougher.input.feed_pb  rougher.input.feed_rate  \\\n",
       "count           14149.000000             14149.000000   \n",
       "mean                3.505465               473.938265   \n",
       "std                 1.090064               104.137249   \n",
       "min                 0.010000                 0.012786   \n",
       "25%                 2.766515               420.723210   \n",
       "50%                 3.414267               499.449303   \n",
       "75%                 4.220115               547.326781   \n",
       "max                 7.142594               717.508837   \n",
       "\n",
       "       rougher.input.feed_size  rougher.input.feed_sol  rougher.input.feed_au  \\\n",
       "count             14149.000000            14149.000000           14149.000000   \n",
       "mean                 60.239856               36.290933               7.866577   \n",
       "std                  23.005310                4.977652               1.919506   \n",
       "min                   9.659576                0.010000               0.010000   \n",
       "25%                  48.966751               34.086892               6.596217   \n",
       "50%                  55.269784               37.008684               7.649138   \n",
       "75%                  66.007526               39.410720               9.066976   \n",
       "max                 484.967466               48.363177              13.126043   \n",
       "\n",
       "       rougher.input.floatbank10_sulfate  rougher.input.floatbank10_xanthate  \\\n",
       "count                       14149.000000                        14149.000000   \n",
       "mean                           11.746225                            5.853080   \n",
       "std                             3.307977                            1.106509   \n",
       "min                             0.001083                            0.001428   \n",
       "25%                             9.842944                            5.113485   \n",
       "50%                            11.661747                            5.949895   \n",
       "75%                            13.584044                            6.602486   \n",
       "max                            36.118275                            9.703448   \n",
       "\n",
       "       rougher.input.floatbank11_sulfate  rougher.input.floatbank11_xanthate  \\\n",
       "count                       14149.000000                        14149.000000   \n",
       "mean                           11.368269                            5.803930   \n",
       "std                             3.798083                            1.239005   \n",
       "min                             0.000098                            0.000290   \n",
       "25%                             9.502098                            5.096661   \n",
       "50%                            11.382460                            5.992219   \n",
       "75%                            13.498047                            6.642274   \n",
       "max                            37.980648                            9.698407   \n",
       "\n",
       "       rougher.output.concentrate_ag  rougher.output.concentrate_pb  \\\n",
       "count                   14149.000000                   14149.000000   \n",
       "mean                       11.775812                       7.664555   \n",
       "std                         2.731747                       1.856279   \n",
       "min                         0.000000                       0.000000   \n",
       "25%                        10.486871                       6.850501   \n",
       "50%                        11.747362                       7.760435   \n",
       "75%                        13.426419                       8.601927   \n",
       "max                        24.480271                      13.617072   \n",
       "\n",
       "       rougher.output.concentrate_sol  rougher.output.concentrate_au  \\\n",
       "count                    14149.000000                   14149.000000   \n",
       "mean                        28.292820                      19.439958   \n",
       "std                          6.119659                       3.765192   \n",
       "min                          0.000000                       0.000000   \n",
       "25%                         26.696213                      18.432161   \n",
       "50%                         29.254966                      19.947312   \n",
       "75%                         31.743943                      21.392714   \n",
       "max                         38.351193                      28.146838   \n",
       "\n",
       "       rougher.output.recovery  rougher.output.tail_ag  \\\n",
       "count             14149.000000            14149.000000   \n",
       "mean                 82.704502                5.567238   \n",
       "std                  14.479156                1.039188   \n",
       "min                   0.000000                0.594562   \n",
       "25%                  79.993067                4.921773   \n",
       "50%                  85.299462                5.722161   \n",
       "75%                  90.165021                6.310738   \n",
       "max                 100.000000               12.719177   \n",
       "\n",
       "       rougher.output.tail_pb  rougher.output.tail_sol  \\\n",
       "count            14149.000000             14149.000000   \n",
       "mean                 0.653277                17.882853   \n",
       "std                  0.263766                 3.432859   \n",
       "min                  0.007566                10.014648   \n",
       "25%                  0.474047                15.688727   \n",
       "50%                  0.625805                18.015894   \n",
       "75%                  0.794326                19.938672   \n",
       "max                  3.778064                66.117188   \n",
       "\n",
       "       rougher.output.tail_au  rougher.state.floatbank10_a_air  \\\n",
       "count            14149.000000                     14149.000000   \n",
       "mean                 1.757473                      1124.717520   \n",
       "std                  0.713187                       169.308048   \n",
       "min                  0.020676                        -0.041078   \n",
       "25%                  1.310800                       999.799195   \n",
       "50%                  1.745513                      1001.682290   \n",
       "75%                  2.186790                      1299.505214   \n",
       "max                  9.688980                      1521.980372   \n",
       "\n",
       "       rougher.state.floatbank10_a_level  rougher.state.floatbank10_b_air  \\\n",
       "count                       14149.000000                     14149.000000   \n",
       "mean                         -369.470105                      1320.724794   \n",
       "std                            93.955779                       183.164531   \n",
       "min                          -650.202881                        -0.653384   \n",
       "25%                          -499.787788                      1199.367169   \n",
       "50%                          -300.175169                      1301.367954   \n",
       "75%                          -299.963169                      1449.559140   \n",
       "max                          -281.039299                      1809.194008   \n",
       "\n",
       "       rougher.state.floatbank10_b_level  rougher.state.floatbank10_c_air  \\\n",
       "count                       14149.000000                     14149.000000   \n",
       "mean                         -464.261562                      1299.381782   \n",
       "std                            57.400744                       213.411457   \n",
       "min                          -650.260008                        -0.035112   \n",
       "25%                          -500.183146                      1103.096392   \n",
       "50%                          -499.764806                      1300.214100   \n",
       "75%                          -400.425547                      1450.353307   \n",
       "max                          -296.383080                      2499.129174   \n",
       "\n",
       "       rougher.state.floatbank10_c_level  rougher.state.floatbank10_d_air  \\\n",
       "count                       14149.000000                     14149.000000   \n",
       "mean                         -465.057320                      1210.335236   \n",
       "std                            55.903513                       210.431555   \n",
       "min                          -640.995627                        -0.554299   \n",
       "25%                          -500.211811                      1059.708509   \n",
       "50%                          -499.682570                      1200.744308   \n",
       "75%                          -400.664948                      1344.378462   \n",
       "max                          -292.155509                      1817.199290   \n",
       "\n",
       "       rougher.state.floatbank10_d_level  rougher.state.floatbank10_e_air  \\\n",
       "count                       14149.000000                     14149.000000   \n",
       "mean                         -465.457377                      1084.329957   \n",
       "std                            55.771393                       186.264888   \n",
       "min                          -640.519003                        -1.970275   \n",
       "25%                          -500.359197                       951.248809   \n",
       "50%                          -499.465285                      1050.158925   \n",
       "75%                          -401.052891                      1199.903428   \n",
       "max                          -208.330673                      1922.636637   \n",
       "\n",
       "       rougher.state.floatbank10_e_level  rougher.state.floatbank10_f_air  \\\n",
       "count                       14149.000000                     14149.000000   \n",
       "mean                         -464.919119                      1035.490299   \n",
       "std                            56.602962                       175.052279   \n",
       "min                          -649.443911                        -2.430587   \n",
       "25%                          -500.250033                       900.966986   \n",
       "50%                          -499.611447                      1000.053757   \n",
       "75%                          -400.596104                      1100.165435   \n",
       "max                          -272.199598                      1706.307502   \n",
       "\n",
       "       rougher.state.floatbank10_f_level  secondary_cleaner.output.tail_ag  \\\n",
       "count                       14149.000000                      14149.000000   \n",
       "mean                         -464.688631                         14.281516   \n",
       "std                            56.645965                          4.476820   \n",
       "min                          -649.880981                          0.000000   \n",
       "25%                          -500.476526                         12.177541   \n",
       "50%                          -499.364335                         15.356812   \n",
       "75%                          -401.014951                         17.230072   \n",
       "max                          -191.718480                         23.264738   \n",
       "\n",
       "       secondary_cleaner.output.tail_pb  secondary_cleaner.output.tail_sol  \\\n",
       "count                      14149.000000                       14149.000000   \n",
       "mean                           5.846963                           6.267120   \n",
       "std                            2.862382                           4.363892   \n",
       "min                            0.000000                           0.000000   \n",
       "25%                            3.979249                           2.152213   \n",
       "50%                            5.440583                           6.184451   \n",
       "75%                            7.797396                          10.291326   \n",
       "max                           17.042505                          17.976171   \n",
       "\n",
       "       secondary_cleaner.output.tail_au  \\\n",
       "count                      14149.000000   \n",
       "mean                           4.246961   \n",
       "std                            2.389060   \n",
       "min                            0.000000   \n",
       "25%                            3.153122   \n",
       "50%                            3.980210   \n",
       "75%                            4.883943   \n",
       "max                           26.811643   \n",
       "\n",
       "       secondary_cleaner.state.floatbank2_a_air  \\\n",
       "count                              14149.000000   \n",
       "mean                                  29.685606   \n",
       "std                                    5.812810   \n",
       "min                                    0.077503   \n",
       "25%                                   25.107090   \n",
       "50%                                   30.034084   \n",
       "75%                                   34.902699   \n",
       "max                                   52.651399   \n",
       "\n",
       "       secondary_cleaner.state.floatbank2_a_level  \\\n",
       "count                                14149.000000   \n",
       "mean                                  -502.223723   \n",
       "std                                     60.279579   \n",
       "min                                   -799.606441   \n",
       "25%                                   -500.248792   \n",
       "50%                                   -499.959205   \n",
       "75%                                   -499.593172   \n",
       "max                                   -127.875565   \n",
       "\n",
       "       secondary_cleaner.state.floatbank2_b_air  \\\n",
       "count                              14149.000000   \n",
       "mean                                  24.900592   \n",
       "std                                    6.016986   \n",
       "min                                    0.000000   \n",
       "25%                                   22.043888   \n",
       "50%                                   27.022134   \n",
       "75%                                   28.939448   \n",
       "max                                   35.152122   \n",
       "\n",
       "       secondary_cleaner.state.floatbank2_b_level  \\\n",
       "count                                14149.000000   \n",
       "mean                                  -503.695352   \n",
       "std                                     62.835150   \n",
       "min                                   -799.873878   \n",
       "25%                                   -500.270983   \n",
       "50%                                   -500.014051   \n",
       "75%                                   -499.763998   \n",
       "max                                   -212.064665   \n",
       "\n",
       "       secondary_cleaner.state.floatbank3_a_air  \\\n",
       "count                              14149.000000   \n",
       "mean                                  29.242738   \n",
       "std                                    5.636710   \n",
       "min                                    0.000000   \n",
       "25%                                   24.991662   \n",
       "50%                                   28.016464   \n",
       "75%                                   34.990058   \n",
       "max                                   44.260464   \n",
       "\n",
       "       secondary_cleaner.state.floatbank3_a_level  \\\n",
       "count                                14149.000000   \n",
       "mean                                  -478.245518   \n",
       "std                                     54.653487   \n",
       "min                                   -799.613013   \n",
       "25%                                   -500.175043   \n",
       "50%                                   -499.877836   \n",
       "75%                                   -437.069363   \n",
       "max                                   -191.678810   \n",
       "\n",
       "       secondary_cleaner.state.floatbank3_b_air  \\\n",
       "count                              14149.000000   \n",
       "mean                                  22.656283   \n",
       "std                                    4.995841   \n",
       "min                                    0.000000   \n",
       "25%                                   19.948440   \n",
       "50%                                   22.037443   \n",
       "75%                                   25.970312   \n",
       "max                                   35.072841   \n",
       "\n",
       "       secondary_cleaner.state.floatbank3_b_level  \\\n",
       "count                                14149.000000   \n",
       "mean                                  -488.924813   \n",
       "std                                     41.926730   \n",
       "min                                   -759.177381   \n",
       "25%                                   -500.110576   \n",
       "50%                                   -499.966795   \n",
       "75%                                   -499.757527   \n",
       "max                                   -159.742331   \n",
       "\n",
       "       secondary_cleaner.state.floatbank4_a_air  \\\n",
       "count                              14149.000000   \n",
       "mean                                  19.979788   \n",
       "std                                    5.663611   \n",
       "min                                    0.000000   \n",
       "25%                                   14.990463   \n",
       "50%                                   20.001601   \n",
       "75%                                   24.990768   \n",
       "max                                   30.115735   \n",
       "\n",
       "       secondary_cleaner.state.floatbank4_a_level  \\\n",
       "count                                14149.000000   \n",
       "mean                                  -478.702912   \n",
       "std                                     50.739376   \n",
       "min                                   -799.709069   \n",
       "25%                                   -500.628716   \n",
       "50%                                   -499.681587   \n",
       "75%                                   -477.486391   \n",
       "max                                   -245.239184   \n",
       "\n",
       "       secondary_cleaner.state.floatbank4_b_air  \\\n",
       "count                              14149.000000   \n",
       "mean                                  15.486812   \n",
       "std                                    5.255555   \n",
       "min                                    0.000000   \n",
       "25%                                   11.894590   \n",
       "50%                                   14.975474   \n",
       "75%                                   20.059286   \n",
       "max                                   24.007913   \n",
       "\n",
       "       secondary_cleaner.state.floatbank4_b_level  \\\n",
       "count                                14149.000000   \n",
       "mean                                  -460.237231   \n",
       "std                                     58.848850   \n",
       "min                                   -799.889113   \n",
       "25%                                   -500.149141   \n",
       "50%                                   -499.388853   \n",
       "75%                                   -400.039047   \n",
       "max                                   -145.071088   \n",
       "\n",
       "       secondary_cleaner.state.floatbank5_a_air  \\\n",
       "count                              14149.000000   \n",
       "mean                                  16.774657   \n",
       "std                                    5.831978   \n",
       "min                                   -0.372054   \n",
       "25%                                   11.083699   \n",
       "50%                                   17.931987   \n",
       "75%                                   21.346135   \n",
       "max                                   43.709931   \n",
       "\n",
       "       secondary_cleaner.state.floatbank5_a_level  \\\n",
       "count                                14149.000000   \n",
       "mean                                  -483.957839   \n",
       "std                                     37.892065   \n",
       "min                                   -797.142475   \n",
       "25%                                   -500.363203   \n",
       "50%                                   -499.702479   \n",
       "75%                                   -487.864322   \n",
       "max                                   -275.073125   \n",
       "\n",
       "       secondary_cleaner.state.floatbank5_b_air  \\\n",
       "count                              14149.000000   \n",
       "mean                                  13.064236   \n",
       "std                                    5.765567   \n",
       "min                                    0.646208   \n",
       "25%                                    8.994384   \n",
       "50%                                   11.997537   \n",
       "75%                                   17.982826   \n",
       "max                                   27.926001   \n",
       "\n",
       "       secondary_cleaner.state.floatbank5_b_level  \\\n",
       "count                                14149.000000   \n",
       "mean                                  -483.967726   \n",
       "std                                     39.206771   \n",
       "min                                   -800.006180   \n",
       "25%                                   -500.105994   \n",
       "50%                                   -499.914556   \n",
       "75%                                   -453.274822   \n",
       "max                                   -157.396071   \n",
       "\n",
       "       secondary_cleaner.state.floatbank6_a_air  \\\n",
       "count                              14149.000000   \n",
       "mean                                  19.576675   \n",
       "std                                    5.764496   \n",
       "min                                    0.195324   \n",
       "25%                                   14.989244   \n",
       "50%                                   19.984165   \n",
       "75%                                   24.991615   \n",
       "max                                   32.188906   \n",
       "\n",
       "       secondary_cleaner.state.floatbank6_a_level  \n",
       "count                                14149.000000  \n",
       "mean                                  -506.805007  \n",
       "std                                     37.086065  \n",
       "min                                   -809.398668  \n",
       "25%                                   -500.745309  \n",
       "50%                                   -500.061488  \n",
       "75%                                   -499.536481  \n",
       "max                                   -104.427459  "
      ]
     },
     "execution_count": 14,
     "metadata": {},
     "output_type": "execute_result"
    }
   ],
   "source": [
    "df_train.describe()"
   ]
  },
  {
   "cell_type": "code",
   "execution_count": 15,
   "metadata": {},
   "outputs": [
    {
     "data": {
      "text/html": [
       "<div>\n",
       "<style scoped>\n",
       "    .dataframe tbody tr th:only-of-type {\n",
       "        vertical-align: middle;\n",
       "    }\n",
       "\n",
       "    .dataframe tbody tr th {\n",
       "        vertical-align: top;\n",
       "    }\n",
       "\n",
       "    .dataframe thead th {\n",
       "        text-align: right;\n",
       "    }\n",
       "</style>\n",
       "<table border=\"1\" class=\"dataframe\">\n",
       "  <thead>\n",
       "    <tr style=\"text-align: right;\">\n",
       "      <th></th>\n",
       "      <th>primary_cleaner.input.sulfate</th>\n",
       "      <th>primary_cleaner.input.depressant</th>\n",
       "      <th>primary_cleaner.input.feed_size</th>\n",
       "      <th>primary_cleaner.input.xanthate</th>\n",
       "      <th>primary_cleaner.state.floatbank8_a_air</th>\n",
       "      <th>primary_cleaner.state.floatbank8_a_level</th>\n",
       "      <th>primary_cleaner.state.floatbank8_b_air</th>\n",
       "      <th>primary_cleaner.state.floatbank8_b_level</th>\n",
       "      <th>primary_cleaner.state.floatbank8_c_air</th>\n",
       "      <th>primary_cleaner.state.floatbank8_c_level</th>\n",
       "      <th>primary_cleaner.state.floatbank8_d_air</th>\n",
       "      <th>primary_cleaner.state.floatbank8_d_level</th>\n",
       "      <th>rougher.input.feed_ag</th>\n",
       "      <th>rougher.input.feed_pb</th>\n",
       "      <th>rougher.input.feed_rate</th>\n",
       "      <th>rougher.input.feed_size</th>\n",
       "      <th>rougher.input.feed_sol</th>\n",
       "      <th>rougher.input.feed_au</th>\n",
       "      <th>rougher.input.floatbank10_sulfate</th>\n",
       "      <th>rougher.input.floatbank10_xanthate</th>\n",
       "      <th>rougher.input.floatbank11_sulfate</th>\n",
       "      <th>rougher.input.floatbank11_xanthate</th>\n",
       "      <th>rougher.state.floatbank10_a_air</th>\n",
       "      <th>rougher.state.floatbank10_a_level</th>\n",
       "      <th>rougher.state.floatbank10_b_air</th>\n",
       "      <th>rougher.state.floatbank10_b_level</th>\n",
       "      <th>rougher.state.floatbank10_c_air</th>\n",
       "      <th>rougher.state.floatbank10_c_level</th>\n",
       "      <th>rougher.state.floatbank10_d_air</th>\n",
       "      <th>rougher.state.floatbank10_d_level</th>\n",
       "      <th>rougher.state.floatbank10_e_air</th>\n",
       "      <th>rougher.state.floatbank10_e_level</th>\n",
       "      <th>rougher.state.floatbank10_f_air</th>\n",
       "      <th>rougher.state.floatbank10_f_level</th>\n",
       "      <th>secondary_cleaner.state.floatbank2_a_air</th>\n",
       "      <th>secondary_cleaner.state.floatbank2_a_level</th>\n",
       "      <th>secondary_cleaner.state.floatbank2_b_air</th>\n",
       "      <th>secondary_cleaner.state.floatbank2_b_level</th>\n",
       "      <th>secondary_cleaner.state.floatbank3_a_air</th>\n",
       "      <th>secondary_cleaner.state.floatbank3_a_level</th>\n",
       "      <th>secondary_cleaner.state.floatbank3_b_air</th>\n",
       "      <th>secondary_cleaner.state.floatbank3_b_level</th>\n",
       "      <th>secondary_cleaner.state.floatbank4_a_air</th>\n",
       "      <th>secondary_cleaner.state.floatbank4_a_level</th>\n",
       "      <th>secondary_cleaner.state.floatbank4_b_air</th>\n",
       "      <th>secondary_cleaner.state.floatbank4_b_level</th>\n",
       "      <th>secondary_cleaner.state.floatbank5_a_air</th>\n",
       "      <th>secondary_cleaner.state.floatbank5_a_level</th>\n",
       "      <th>secondary_cleaner.state.floatbank5_b_air</th>\n",
       "      <th>secondary_cleaner.state.floatbank5_b_level</th>\n",
       "      <th>secondary_cleaner.state.floatbank6_a_air</th>\n",
       "      <th>secondary_cleaner.state.floatbank6_a_level</th>\n",
       "    </tr>\n",
       "  </thead>\n",
       "  <tbody>\n",
       "    <tr>\n",
       "      <th>count</th>\n",
       "      <td>5290.000000</td>\n",
       "      <td>5290.000000</td>\n",
       "      <td>5290.000000</td>\n",
       "      <td>5290.000000</td>\n",
       "      <td>5.290000e+03</td>\n",
       "      <td>5290.000000</td>\n",
       "      <td>5.290000e+03</td>\n",
       "      <td>5290.000000</td>\n",
       "      <td>5.290000e+03</td>\n",
       "      <td>5290.000000</td>\n",
       "      <td>5.290000e+03</td>\n",
       "      <td>5290.000000</td>\n",
       "      <td>5290.000000</td>\n",
       "      <td>5290.000000</td>\n",
       "      <td>5290.000000</td>\n",
       "      <td>5290.000000</td>\n",
       "      <td>5290.000000</td>\n",
       "      <td>5290.000000</td>\n",
       "      <td>5290.000000</td>\n",
       "      <td>5290.000000</td>\n",
       "      <td>5290.000000</td>\n",
       "      <td>5290.000000</td>\n",
       "      <td>5290.000000</td>\n",
       "      <td>5290.000000</td>\n",
       "      <td>5290.000000</td>\n",
       "      <td>5290.000000</td>\n",
       "      <td>5290.000000</td>\n",
       "      <td>5290.000000</td>\n",
       "      <td>5290.000000</td>\n",
       "      <td>5290.000000</td>\n",
       "      <td>5290.000000</td>\n",
       "      <td>5290.000000</td>\n",
       "      <td>5290.000000</td>\n",
       "      <td>5290.000000</td>\n",
       "      <td>5290.000000</td>\n",
       "      <td>5290.000000</td>\n",
       "      <td>5290.000000</td>\n",
       "      <td>5290.000000</td>\n",
       "      <td>5290.000000</td>\n",
       "      <td>5290.000000</td>\n",
       "      <td>5.290000e+03</td>\n",
       "      <td>5290.000000</td>\n",
       "      <td>5.290000e+03</td>\n",
       "      <td>5290.000000</td>\n",
       "      <td>5.290000e+03</td>\n",
       "      <td>5290.000000</td>\n",
       "      <td>5290.000000</td>\n",
       "      <td>5290.000000</td>\n",
       "      <td>5290.000000</td>\n",
       "      <td>5290.000000</td>\n",
       "      <td>5290.000000</td>\n",
       "      <td>5290.000000</td>\n",
       "    </tr>\n",
       "    <tr>\n",
       "      <th>mean</th>\n",
       "      <td>174.842478</td>\n",
       "      <td>8.684695</td>\n",
       "      <td>7.266339</td>\n",
       "      <td>1.383430</td>\n",
       "      <td>1.539494e+03</td>\n",
       "      <td>-497.665883</td>\n",
       "      <td>1.545174e+03</td>\n",
       "      <td>-500.273098</td>\n",
       "      <td>1.527272e+03</td>\n",
       "      <td>-498.330680</td>\n",
       "      <td>1.544844e+03</td>\n",
       "      <td>-500.199527</td>\n",
       "      <td>9.371940</td>\n",
       "      <td>3.798082</td>\n",
       "      <td>489.781557</td>\n",
       "      <td>55.952754</td>\n",
       "      <td>37.701036</td>\n",
       "      <td>9.334682</td>\n",
       "      <td>13.850885</td>\n",
       "      <td>6.467745</td>\n",
       "      <td>13.905900</td>\n",
       "      <td>6.497324</td>\n",
       "      <td>1053.400166</td>\n",
       "      <td>-395.732530</td>\n",
       "      <td>1318.926879</td>\n",
       "      <td>-475.241428</td>\n",
       "      <td>1301.595477</td>\n",
       "      <td>-474.836671</td>\n",
       "      <td>1214.847960</td>\n",
       "      <td>-475.682272</td>\n",
       "      <td>1056.648995</td>\n",
       "      <td>-469.029688</td>\n",
       "      <td>997.949719</td>\n",
       "      <td>-470.482465</td>\n",
       "      <td>26.311581</td>\n",
       "      <td>-502.750897</td>\n",
       "      <td>21.941387</td>\n",
       "      <td>-501.987097</td>\n",
       "      <td>25.360405</td>\n",
       "      <td>-507.490314</td>\n",
       "      <td>2.098211e+01</td>\n",
       "      <td>-506.627916</td>\n",
       "      <td>1.632007e+01</td>\n",
       "      <td>-505.144570</td>\n",
       "      <td>1.373544e+01</td>\n",
       "      <td>-463.349858</td>\n",
       "      <td>12.804186</td>\n",
       "      <td>-501.329122</td>\n",
       "      <td>9.881145</td>\n",
       "      <td>-495.663398</td>\n",
       "      <td>17.304935</td>\n",
       "      <td>-501.793193</td>\n",
       "    </tr>\n",
       "    <tr>\n",
       "      <th>std</th>\n",
       "      <td>43.023252</td>\n",
       "      <td>3.073753</td>\n",
       "      <td>0.610219</td>\n",
       "      <td>0.643548</td>\n",
       "      <td>1.167979e+02</td>\n",
       "      <td>19.952431</td>\n",
       "      <td>1.222246e+02</td>\n",
       "      <td>32.968307</td>\n",
       "      <td>1.225380e+02</td>\n",
       "      <td>21.964876</td>\n",
       "      <td>1.247731e+02</td>\n",
       "      <td>31.045257</td>\n",
       "      <td>1.926264</td>\n",
       "      <td>0.954859</td>\n",
       "      <td>108.042857</td>\n",
       "      <td>19.080334</td>\n",
       "      <td>5.501268</td>\n",
       "      <td>1.619521</td>\n",
       "      <td>3.355366</td>\n",
       "      <td>1.065114</td>\n",
       "      <td>3.252560</td>\n",
       "      <td>0.913400</td>\n",
       "      <td>121.139309</td>\n",
       "      <td>91.085505</td>\n",
       "      <td>156.450366</td>\n",
       "      <td>45.649466</td>\n",
       "      <td>171.269667</td>\n",
       "      <td>45.859866</td>\n",
       "      <td>185.763319</td>\n",
       "      <td>47.844967</td>\n",
       "      <td>131.542839</td>\n",
       "      <td>59.325990</td>\n",
       "      <td>128.218869</td>\n",
       "      <td>60.759318</td>\n",
       "      <td>3.429162</td>\n",
       "      <td>28.756505</td>\n",
       "      <td>4.372256</td>\n",
       "      <td>34.582722</td>\n",
       "      <td>6.601838</td>\n",
       "      <td>47.620908</td>\n",
       "      <td>6.736179e+00</td>\n",
       "      <td>44.528673</td>\n",
       "      <td>3.493583e+00</td>\n",
       "      <td>31.427337</td>\n",
       "      <td>3.430484e+00</td>\n",
       "      <td>86.189107</td>\n",
       "      <td>3.026591</td>\n",
       "      <td>17.951495</td>\n",
       "      <td>2.868205</td>\n",
       "      <td>34.535007</td>\n",
       "      <td>4.536544</td>\n",
       "      <td>39.044215</td>\n",
       "    </tr>\n",
       "    <tr>\n",
       "      <th>min</th>\n",
       "      <td>2.566156</td>\n",
       "      <td>0.003839</td>\n",
       "      <td>5.650000</td>\n",
       "      <td>0.004984</td>\n",
       "      <td>5.445860e-32</td>\n",
       "      <td>-795.316337</td>\n",
       "      <td>6.647490e-32</td>\n",
       "      <td>-799.997015</td>\n",
       "      <td>4.033736e-32</td>\n",
       "      <td>-799.960571</td>\n",
       "      <td>4.039220e-32</td>\n",
       "      <td>-799.794250</td>\n",
       "      <td>0.568441</td>\n",
       "      <td>0.273677</td>\n",
       "      <td>0.002986</td>\n",
       "      <td>0.046369</td>\n",
       "      <td>1.393488</td>\n",
       "      <td>0.568632</td>\n",
       "      <td>0.001147</td>\n",
       "      <td>0.000568</td>\n",
       "      <td>0.000077</td>\n",
       "      <td>0.006985</td>\n",
       "      <td>-0.042069</td>\n",
       "      <td>-657.949759</td>\n",
       "      <td>-0.721806</td>\n",
       "      <td>-650.245277</td>\n",
       "      <td>-0.056636</td>\n",
       "      <td>-647.544439</td>\n",
       "      <td>-0.992219</td>\n",
       "      <td>-648.390665</td>\n",
       "      <td>-1.982295</td>\n",
       "      <td>-649.267537</td>\n",
       "      <td>-2.593390</td>\n",
       "      <td>-649.949283</td>\n",
       "      <td>0.205329</td>\n",
       "      <td>-784.091091</td>\n",
       "      <td>0.006064</td>\n",
       "      <td>-797.783989</td>\n",
       "      <td>0.000000</td>\n",
       "      <td>-799.755798</td>\n",
       "      <td>1.521587e-17</td>\n",
       "      <td>-809.333008</td>\n",
       "      <td>1.079872e-16</td>\n",
       "      <td>-799.798523</td>\n",
       "      <td>2.489718e-17</td>\n",
       "      <td>-800.836914</td>\n",
       "      <td>0.069227</td>\n",
       "      <td>-797.323986</td>\n",
       "      <td>0.528083</td>\n",
       "      <td>-800.220337</td>\n",
       "      <td>-0.079426</td>\n",
       "      <td>-809.741464</td>\n",
       "    </tr>\n",
       "    <tr>\n",
       "      <th>25%</th>\n",
       "      <td>147.121401</td>\n",
       "      <td>6.489556</td>\n",
       "      <td>6.890000</td>\n",
       "      <td>0.907390</td>\n",
       "      <td>1.498936e+03</td>\n",
       "      <td>-500.357298</td>\n",
       "      <td>1.498971e+03</td>\n",
       "      <td>-500.703002</td>\n",
       "      <td>1.473230e+03</td>\n",
       "      <td>-501.018117</td>\n",
       "      <td>1.499481e+03</td>\n",
       "      <td>-500.452469</td>\n",
       "      <td>8.112434</td>\n",
       "      <td>3.240251</td>\n",
       "      <td>407.003619</td>\n",
       "      <td>43.906504</td>\n",
       "      <td>34.486885</td>\n",
       "      <td>8.207814</td>\n",
       "      <td>11.994929</td>\n",
       "      <td>5.998779</td>\n",
       "      <td>11.996933</td>\n",
       "      <td>5.998898</td>\n",
       "      <td>999.205344</td>\n",
       "      <td>-499.920565</td>\n",
       "      <td>1200.871883</td>\n",
       "      <td>-500.256114</td>\n",
       "      <td>1199.651371</td>\n",
       "      <td>-500.233831</td>\n",
       "      <td>1093.368068</td>\n",
       "      <td>-500.440610</td>\n",
       "      <td>999.361403</td>\n",
       "      <td>-500.190639</td>\n",
       "      <td>901.024994</td>\n",
       "      <td>-500.624783</td>\n",
       "      <td>24.942177</td>\n",
       "      <td>-500.206517</td>\n",
       "      <td>20.002127</td>\n",
       "      <td>-500.218030</td>\n",
       "      <td>22.981009</td>\n",
       "      <td>-500.297951</td>\n",
       "      <td>1.796786e+01</td>\n",
       "      <td>-500.145128</td>\n",
       "      <td>1.403618e+01</td>\n",
       "      <td>-500.868258</td>\n",
       "      <td>1.202862e+01</td>\n",
       "      <td>-500.323028</td>\n",
       "      <td>10.914838</td>\n",
       "      <td>-500.726841</td>\n",
       "      <td>8.036719</td>\n",
       "      <td>-500.194668</td>\n",
       "      <td>13.997317</td>\n",
       "      <td>-500.690984</td>\n",
       "    </tr>\n",
       "    <tr>\n",
       "      <th>50%</th>\n",
       "      <td>177.828489</td>\n",
       "      <td>8.052131</td>\n",
       "      <td>7.250000</td>\n",
       "      <td>1.197586</td>\n",
       "      <td>1.585129e+03</td>\n",
       "      <td>-499.969164</td>\n",
       "      <td>1.595622e+03</td>\n",
       "      <td>-500.028514</td>\n",
       "      <td>1.549595e+03</td>\n",
       "      <td>-500.017711</td>\n",
       "      <td>1.594579e+03</td>\n",
       "      <td>-500.023307</td>\n",
       "      <td>9.762654</td>\n",
       "      <td>3.740716</td>\n",
       "      <td>499.079325</td>\n",
       "      <td>50.846843</td>\n",
       "      <td>37.977160</td>\n",
       "      <td>9.593766</td>\n",
       "      <td>14.002932</td>\n",
       "      <td>6.498181</td>\n",
       "      <td>14.004106</td>\n",
       "      <td>6.498428</td>\n",
       "      <td>1000.472055</td>\n",
       "      <td>-399.693363</td>\n",
       "      <td>1302.254995</td>\n",
       "      <td>-499.837803</td>\n",
       "      <td>1300.202274</td>\n",
       "      <td>-499.777222</td>\n",
       "      <td>1207.014092</td>\n",
       "      <td>-499.691917</td>\n",
       "      <td>1047.495449</td>\n",
       "      <td>-499.765796</td>\n",
       "      <td>999.441879</td>\n",
       "      <td>-499.680986</td>\n",
       "      <td>26.910444</td>\n",
       "      <td>-500.003902</td>\n",
       "      <td>22.942583</td>\n",
       "      <td>-500.019058</td>\n",
       "      <td>25.009966</td>\n",
       "      <td>-500.034578</td>\n",
       "      <td>2.100316e+01</td>\n",
       "      <td>-500.013819</td>\n",
       "      <td>1.700847e+01</td>\n",
       "      <td>-500.115727</td>\n",
       "      <td>1.496486e+01</td>\n",
       "      <td>-499.576513</td>\n",
       "      <td>12.954182</td>\n",
       "      <td>-499.990332</td>\n",
       "      <td>10.004301</td>\n",
       "      <td>-499.990535</td>\n",
       "      <td>16.014935</td>\n",
       "      <td>-500.007126</td>\n",
       "    </tr>\n",
       "    <tr>\n",
       "      <th>75%</th>\n",
       "      <td>208.125438</td>\n",
       "      <td>10.028043</td>\n",
       "      <td>7.600000</td>\n",
       "      <td>1.797819</td>\n",
       "      <td>1.602077e+03</td>\n",
       "      <td>-499.568951</td>\n",
       "      <td>1.602324e+03</td>\n",
       "      <td>-499.293257</td>\n",
       "      <td>1.601144e+03</td>\n",
       "      <td>-498.994130</td>\n",
       "      <td>1.600965e+03</td>\n",
       "      <td>-499.607040</td>\n",
       "      <td>10.652297</td>\n",
       "      <td>4.282634</td>\n",
       "      <td>575.280388</td>\n",
       "      <td>62.451165</td>\n",
       "      <td>41.619761</td>\n",
       "      <td>10.463538</td>\n",
       "      <td>16.972136</td>\n",
       "      <td>7.085457</td>\n",
       "      <td>16.953537</td>\n",
       "      <td>7.087476</td>\n",
       "      <td>1006.254299</td>\n",
       "      <td>-300.060056</td>\n",
       "      <td>1433.955649</td>\n",
       "      <td>-450.749619</td>\n",
       "      <td>1406.594956</td>\n",
       "      <td>-451.153188</td>\n",
       "      <td>1391.497269</td>\n",
       "      <td>-452.483463</td>\n",
       "      <td>1101.365315</td>\n",
       "      <td>-450.957513</td>\n",
       "      <td>1050.433005</td>\n",
       "      <td>-451.986460</td>\n",
       "      <td>28.091704</td>\n",
       "      <td>-499.791639</td>\n",
       "      <td>24.984818</td>\n",
       "      <td>-499.831532</td>\n",
       "      <td>30.002010</td>\n",
       "      <td>-499.780163</td>\n",
       "      <td>2.697698e+01</td>\n",
       "      <td>-499.890608</td>\n",
       "      <td>1.803862e+01</td>\n",
       "      <td>-499.404224</td>\n",
       "      <td>1.596213e+01</td>\n",
       "      <td>-400.933805</td>\n",
       "      <td>15.097528</td>\n",
       "      <td>-499.283191</td>\n",
       "      <td>11.997467</td>\n",
       "      <td>-499.719913</td>\n",
       "      <td>21.020013</td>\n",
       "      <td>-499.373018</td>\n",
       "    </tr>\n",
       "    <tr>\n",
       "      <th>max</th>\n",
       "      <td>265.983123</td>\n",
       "      <td>40.000000</td>\n",
       "      <td>15.500000</td>\n",
       "      <td>4.102454</td>\n",
       "      <td>2.103104e+03</td>\n",
       "      <td>-57.195404</td>\n",
       "      <td>1.813084e+03</td>\n",
       "      <td>-142.527229</td>\n",
       "      <td>1.715054e+03</td>\n",
       "      <td>-150.937035</td>\n",
       "      <td>1.913257e+03</td>\n",
       "      <td>-158.950573</td>\n",
       "      <td>14.406130</td>\n",
       "      <td>6.905684</td>\n",
       "      <td>707.364020</td>\n",
       "      <td>392.494040</td>\n",
       "      <td>53.477742</td>\n",
       "      <td>13.731330</td>\n",
       "      <td>24.280636</td>\n",
       "      <td>8.910468</td>\n",
       "      <td>24.280966</td>\n",
       "      <td>8.621338</td>\n",
       "      <td>1423.274687</td>\n",
       "      <td>-273.776101</td>\n",
       "      <td>1706.640419</td>\n",
       "      <td>-298.200051</td>\n",
       "      <td>1731.017788</td>\n",
       "      <td>-298.036852</td>\n",
       "      <td>1775.218584</td>\n",
       "      <td>-76.397327</td>\n",
       "      <td>1467.184843</td>\n",
       "      <td>-139.753025</td>\n",
       "      <td>1476.588107</td>\n",
       "      <td>-249.801043</td>\n",
       "      <td>32.138727</td>\n",
       "      <td>-300.343670</td>\n",
       "      <td>28.165864</td>\n",
       "      <td>-211.999273</td>\n",
       "      <td>40.041997</td>\n",
       "      <td>-313.866425</td>\n",
       "      <td>3.203936e+01</td>\n",
       "      <td>-202.277366</td>\n",
       "      <td>3.005180e+01</td>\n",
       "      <td>-401.565212</td>\n",
       "      <td>3.126971e+01</td>\n",
       "      <td>-6.506986</td>\n",
       "      <td>25.258848</td>\n",
       "      <td>-244.483566</td>\n",
       "      <td>14.086866</td>\n",
       "      <td>-137.740004</td>\n",
       "      <td>26.705889</td>\n",
       "      <td>-123.307487</td>\n",
       "    </tr>\n",
       "  </tbody>\n",
       "</table>\n",
       "</div>"
      ],
      "text/plain": [
       "       primary_cleaner.input.sulfate  primary_cleaner.input.depressant  \\\n",
       "count                    5290.000000                       5290.000000   \n",
       "mean                      174.842478                          8.684695   \n",
       "std                        43.023252                          3.073753   \n",
       "min                         2.566156                          0.003839   \n",
       "25%                       147.121401                          6.489556   \n",
       "50%                       177.828489                          8.052131   \n",
       "75%                       208.125438                         10.028043   \n",
       "max                       265.983123                         40.000000   \n",
       "\n",
       "       primary_cleaner.input.feed_size  primary_cleaner.input.xanthate  \\\n",
       "count                      5290.000000                     5290.000000   \n",
       "mean                          7.266339                        1.383430   \n",
       "std                           0.610219                        0.643548   \n",
       "min                           5.650000                        0.004984   \n",
       "25%                           6.890000                        0.907390   \n",
       "50%                           7.250000                        1.197586   \n",
       "75%                           7.600000                        1.797819   \n",
       "max                          15.500000                        4.102454   \n",
       "\n",
       "       primary_cleaner.state.floatbank8_a_air  \\\n",
       "count                            5.290000e+03   \n",
       "mean                             1.539494e+03   \n",
       "std                              1.167979e+02   \n",
       "min                              5.445860e-32   \n",
       "25%                              1.498936e+03   \n",
       "50%                              1.585129e+03   \n",
       "75%                              1.602077e+03   \n",
       "max                              2.103104e+03   \n",
       "\n",
       "       primary_cleaner.state.floatbank8_a_level  \\\n",
       "count                               5290.000000   \n",
       "mean                                -497.665883   \n",
       "std                                   19.952431   \n",
       "min                                 -795.316337   \n",
       "25%                                 -500.357298   \n",
       "50%                                 -499.969164   \n",
       "75%                                 -499.568951   \n",
       "max                                  -57.195404   \n",
       "\n",
       "       primary_cleaner.state.floatbank8_b_air  \\\n",
       "count                            5.290000e+03   \n",
       "mean                             1.545174e+03   \n",
       "std                              1.222246e+02   \n",
       "min                              6.647490e-32   \n",
       "25%                              1.498971e+03   \n",
       "50%                              1.595622e+03   \n",
       "75%                              1.602324e+03   \n",
       "max                              1.813084e+03   \n",
       "\n",
       "       primary_cleaner.state.floatbank8_b_level  \\\n",
       "count                               5290.000000   \n",
       "mean                                -500.273098   \n",
       "std                                   32.968307   \n",
       "min                                 -799.997015   \n",
       "25%                                 -500.703002   \n",
       "50%                                 -500.028514   \n",
       "75%                                 -499.293257   \n",
       "max                                 -142.527229   \n",
       "\n",
       "       primary_cleaner.state.floatbank8_c_air  \\\n",
       "count                            5.290000e+03   \n",
       "mean                             1.527272e+03   \n",
       "std                              1.225380e+02   \n",
       "min                              4.033736e-32   \n",
       "25%                              1.473230e+03   \n",
       "50%                              1.549595e+03   \n",
       "75%                              1.601144e+03   \n",
       "max                              1.715054e+03   \n",
       "\n",
       "       primary_cleaner.state.floatbank8_c_level  \\\n",
       "count                               5290.000000   \n",
       "mean                                -498.330680   \n",
       "std                                   21.964876   \n",
       "min                                 -799.960571   \n",
       "25%                                 -501.018117   \n",
       "50%                                 -500.017711   \n",
       "75%                                 -498.994130   \n",
       "max                                 -150.937035   \n",
       "\n",
       "       primary_cleaner.state.floatbank8_d_air  \\\n",
       "count                            5.290000e+03   \n",
       "mean                             1.544844e+03   \n",
       "std                              1.247731e+02   \n",
       "min                              4.039220e-32   \n",
       "25%                              1.499481e+03   \n",
       "50%                              1.594579e+03   \n",
       "75%                              1.600965e+03   \n",
       "max                              1.913257e+03   \n",
       "\n",
       "       primary_cleaner.state.floatbank8_d_level  rougher.input.feed_ag  \\\n",
       "count                               5290.000000            5290.000000   \n",
       "mean                                -500.199527               9.371940   \n",
       "std                                   31.045257               1.926264   \n",
       "min                                 -799.794250               0.568441   \n",
       "25%                                 -500.452469               8.112434   \n",
       "50%                                 -500.023307               9.762654   \n",
       "75%                                 -499.607040              10.652297   \n",
       "max                                 -158.950573              14.406130   \n",
       "\n",
       "       rougher.input.feed_pb  rougher.input.feed_rate  \\\n",
       "count            5290.000000              5290.000000   \n",
       "mean                3.798082               489.781557   \n",
       "std                 0.954859               108.042857   \n",
       "min                 0.273677                 0.002986   \n",
       "25%                 3.240251               407.003619   \n",
       "50%                 3.740716               499.079325   \n",
       "75%                 4.282634               575.280388   \n",
       "max                 6.905684               707.364020   \n",
       "\n",
       "       rougher.input.feed_size  rougher.input.feed_sol  rougher.input.feed_au  \\\n",
       "count              5290.000000             5290.000000            5290.000000   \n",
       "mean                 55.952754               37.701036               9.334682   \n",
       "std                  19.080334                5.501268               1.619521   \n",
       "min                   0.046369                1.393488               0.568632   \n",
       "25%                  43.906504               34.486885               8.207814   \n",
       "50%                  50.846843               37.977160               9.593766   \n",
       "75%                  62.451165               41.619761              10.463538   \n",
       "max                 392.494040               53.477742              13.731330   \n",
       "\n",
       "       rougher.input.floatbank10_sulfate  rougher.input.floatbank10_xanthate  \\\n",
       "count                        5290.000000                         5290.000000   \n",
       "mean                           13.850885                            6.467745   \n",
       "std                             3.355366                            1.065114   \n",
       "min                             0.001147                            0.000568   \n",
       "25%                            11.994929                            5.998779   \n",
       "50%                            14.002932                            6.498181   \n",
       "75%                            16.972136                            7.085457   \n",
       "max                            24.280636                            8.910468   \n",
       "\n",
       "       rougher.input.floatbank11_sulfate  rougher.input.floatbank11_xanthate  \\\n",
       "count                        5290.000000                         5290.000000   \n",
       "mean                           13.905900                            6.497324   \n",
       "std                             3.252560                            0.913400   \n",
       "min                             0.000077                            0.006985   \n",
       "25%                            11.996933                            5.998898   \n",
       "50%                            14.004106                            6.498428   \n",
       "75%                            16.953537                            7.087476   \n",
       "max                            24.280966                            8.621338   \n",
       "\n",
       "       rougher.state.floatbank10_a_air  rougher.state.floatbank10_a_level  \\\n",
       "count                      5290.000000                        5290.000000   \n",
       "mean                       1053.400166                        -395.732530   \n",
       "std                         121.139309                          91.085505   \n",
       "min                          -0.042069                        -657.949759   \n",
       "25%                         999.205344                        -499.920565   \n",
       "50%                        1000.472055                        -399.693363   \n",
       "75%                        1006.254299                        -300.060056   \n",
       "max                        1423.274687                        -273.776101   \n",
       "\n",
       "       rougher.state.floatbank10_b_air  rougher.state.floatbank10_b_level  \\\n",
       "count                      5290.000000                        5290.000000   \n",
       "mean                       1318.926879                        -475.241428   \n",
       "std                         156.450366                          45.649466   \n",
       "min                          -0.721806                        -650.245277   \n",
       "25%                        1200.871883                        -500.256114   \n",
       "50%                        1302.254995                        -499.837803   \n",
       "75%                        1433.955649                        -450.749619   \n",
       "max                        1706.640419                        -298.200051   \n",
       "\n",
       "       rougher.state.floatbank10_c_air  rougher.state.floatbank10_c_level  \\\n",
       "count                      5290.000000                        5290.000000   \n",
       "mean                       1301.595477                        -474.836671   \n",
       "std                         171.269667                          45.859866   \n",
       "min                          -0.056636                        -647.544439   \n",
       "25%                        1199.651371                        -500.233831   \n",
       "50%                        1300.202274                        -499.777222   \n",
       "75%                        1406.594956                        -451.153188   \n",
       "max                        1731.017788                        -298.036852   \n",
       "\n",
       "       rougher.state.floatbank10_d_air  rougher.state.floatbank10_d_level  \\\n",
       "count                      5290.000000                        5290.000000   \n",
       "mean                       1214.847960                        -475.682272   \n",
       "std                         185.763319                          47.844967   \n",
       "min                          -0.992219                        -648.390665   \n",
       "25%                        1093.368068                        -500.440610   \n",
       "50%                        1207.014092                        -499.691917   \n",
       "75%                        1391.497269                        -452.483463   \n",
       "max                        1775.218584                         -76.397327   \n",
       "\n",
       "       rougher.state.floatbank10_e_air  rougher.state.floatbank10_e_level  \\\n",
       "count                      5290.000000                        5290.000000   \n",
       "mean                       1056.648995                        -469.029688   \n",
       "std                         131.542839                          59.325990   \n",
       "min                          -1.982295                        -649.267537   \n",
       "25%                         999.361403                        -500.190639   \n",
       "50%                        1047.495449                        -499.765796   \n",
       "75%                        1101.365315                        -450.957513   \n",
       "max                        1467.184843                        -139.753025   \n",
       "\n",
       "       rougher.state.floatbank10_f_air  rougher.state.floatbank10_f_level  \\\n",
       "count                      5290.000000                        5290.000000   \n",
       "mean                        997.949719                        -470.482465   \n",
       "std                         128.218869                          60.759318   \n",
       "min                          -2.593390                        -649.949283   \n",
       "25%                         901.024994                        -500.624783   \n",
       "50%                         999.441879                        -499.680986   \n",
       "75%                        1050.433005                        -451.986460   \n",
       "max                        1476.588107                        -249.801043   \n",
       "\n",
       "       secondary_cleaner.state.floatbank2_a_air  \\\n",
       "count                               5290.000000   \n",
       "mean                                  26.311581   \n",
       "std                                    3.429162   \n",
       "min                                    0.205329   \n",
       "25%                                   24.942177   \n",
       "50%                                   26.910444   \n",
       "75%                                   28.091704   \n",
       "max                                   32.138727   \n",
       "\n",
       "       secondary_cleaner.state.floatbank2_a_level  \\\n",
       "count                                 5290.000000   \n",
       "mean                                  -502.750897   \n",
       "std                                     28.756505   \n",
       "min                                   -784.091091   \n",
       "25%                                   -500.206517   \n",
       "50%                                   -500.003902   \n",
       "75%                                   -499.791639   \n",
       "max                                   -300.343670   \n",
       "\n",
       "       secondary_cleaner.state.floatbank2_b_air  \\\n",
       "count                               5290.000000   \n",
       "mean                                  21.941387   \n",
       "std                                    4.372256   \n",
       "min                                    0.006064   \n",
       "25%                                   20.002127   \n",
       "50%                                   22.942583   \n",
       "75%                                   24.984818   \n",
       "max                                   28.165864   \n",
       "\n",
       "       secondary_cleaner.state.floatbank2_b_level  \\\n",
       "count                                 5290.000000   \n",
       "mean                                  -501.987097   \n",
       "std                                     34.582722   \n",
       "min                                   -797.783989   \n",
       "25%                                   -500.218030   \n",
       "50%                                   -500.019058   \n",
       "75%                                   -499.831532   \n",
       "max                                   -211.999273   \n",
       "\n",
       "       secondary_cleaner.state.floatbank3_a_air  \\\n",
       "count                               5290.000000   \n",
       "mean                                  25.360405   \n",
       "std                                    6.601838   \n",
       "min                                    0.000000   \n",
       "25%                                   22.981009   \n",
       "50%                                   25.009966   \n",
       "75%                                   30.002010   \n",
       "max                                   40.041997   \n",
       "\n",
       "       secondary_cleaner.state.floatbank3_a_level  \\\n",
       "count                                 5290.000000   \n",
       "mean                                  -507.490314   \n",
       "std                                     47.620908   \n",
       "min                                   -799.755798   \n",
       "25%                                   -500.297951   \n",
       "50%                                   -500.034578   \n",
       "75%                                   -499.780163   \n",
       "max                                   -313.866425   \n",
       "\n",
       "       secondary_cleaner.state.floatbank3_b_air  \\\n",
       "count                              5.290000e+03   \n",
       "mean                               2.098211e+01   \n",
       "std                                6.736179e+00   \n",
       "min                                1.521587e-17   \n",
       "25%                                1.796786e+01   \n",
       "50%                                2.100316e+01   \n",
       "75%                                2.697698e+01   \n",
       "max                                3.203936e+01   \n",
       "\n",
       "       secondary_cleaner.state.floatbank3_b_level  \\\n",
       "count                                 5290.000000   \n",
       "mean                                  -506.627916   \n",
       "std                                     44.528673   \n",
       "min                                   -809.333008   \n",
       "25%                                   -500.145128   \n",
       "50%                                   -500.013819   \n",
       "75%                                   -499.890608   \n",
       "max                                   -202.277366   \n",
       "\n",
       "       secondary_cleaner.state.floatbank4_a_air  \\\n",
       "count                              5.290000e+03   \n",
       "mean                               1.632007e+01   \n",
       "std                                3.493583e+00   \n",
       "min                                1.079872e-16   \n",
       "25%                                1.403618e+01   \n",
       "50%                                1.700847e+01   \n",
       "75%                                1.803862e+01   \n",
       "max                                3.005180e+01   \n",
       "\n",
       "       secondary_cleaner.state.floatbank4_a_level  \\\n",
       "count                                 5290.000000   \n",
       "mean                                  -505.144570   \n",
       "std                                     31.427337   \n",
       "min                                   -799.798523   \n",
       "25%                                   -500.868258   \n",
       "50%                                   -500.115727   \n",
       "75%                                   -499.404224   \n",
       "max                                   -401.565212   \n",
       "\n",
       "       secondary_cleaner.state.floatbank4_b_air  \\\n",
       "count                              5.290000e+03   \n",
       "mean                               1.373544e+01   \n",
       "std                                3.430484e+00   \n",
       "min                                2.489718e-17   \n",
       "25%                                1.202862e+01   \n",
       "50%                                1.496486e+01   \n",
       "75%                                1.596213e+01   \n",
       "max                                3.126971e+01   \n",
       "\n",
       "       secondary_cleaner.state.floatbank4_b_level  \\\n",
       "count                                 5290.000000   \n",
       "mean                                  -463.349858   \n",
       "std                                     86.189107   \n",
       "min                                   -800.836914   \n",
       "25%                                   -500.323028   \n",
       "50%                                   -499.576513   \n",
       "75%                                   -400.933805   \n",
       "max                                     -6.506986   \n",
       "\n",
       "       secondary_cleaner.state.floatbank5_a_air  \\\n",
       "count                               5290.000000   \n",
       "mean                                  12.804186   \n",
       "std                                    3.026591   \n",
       "min                                    0.069227   \n",
       "25%                                   10.914838   \n",
       "50%                                   12.954182   \n",
       "75%                                   15.097528   \n",
       "max                                   25.258848   \n",
       "\n",
       "       secondary_cleaner.state.floatbank5_a_level  \\\n",
       "count                                 5290.000000   \n",
       "mean                                  -501.329122   \n",
       "std                                     17.951495   \n",
       "min                                   -797.323986   \n",
       "25%                                   -500.726841   \n",
       "50%                                   -499.990332   \n",
       "75%                                   -499.283191   \n",
       "max                                   -244.483566   \n",
       "\n",
       "       secondary_cleaner.state.floatbank5_b_air  \\\n",
       "count                               5290.000000   \n",
       "mean                                   9.881145   \n",
       "std                                    2.868205   \n",
       "min                                    0.528083   \n",
       "25%                                    8.036719   \n",
       "50%                                   10.004301   \n",
       "75%                                   11.997467   \n",
       "max                                   14.086866   \n",
       "\n",
       "       secondary_cleaner.state.floatbank5_b_level  \\\n",
       "count                                 5290.000000   \n",
       "mean                                  -495.663398   \n",
       "std                                     34.535007   \n",
       "min                                   -800.220337   \n",
       "25%                                   -500.194668   \n",
       "50%                                   -499.990535   \n",
       "75%                                   -499.719913   \n",
       "max                                   -137.740004   \n",
       "\n",
       "       secondary_cleaner.state.floatbank6_a_air  \\\n",
       "count                               5290.000000   \n",
       "mean                                  17.304935   \n",
       "std                                    4.536544   \n",
       "min                                   -0.079426   \n",
       "25%                                   13.997317   \n",
       "50%                                   16.014935   \n",
       "75%                                   21.020013   \n",
       "max                                   26.705889   \n",
       "\n",
       "       secondary_cleaner.state.floatbank6_a_level  \n",
       "count                                 5290.000000  \n",
       "mean                                  -501.793193  \n",
       "std                                     39.044215  \n",
       "min                                   -809.741464  \n",
       "25%                                   -500.690984  \n",
       "50%                                   -500.007126  \n",
       "75%                                   -499.373018  \n",
       "max                                   -123.307487  "
      ]
     },
     "execution_count": 15,
     "metadata": {},
     "output_type": "execute_result"
    }
   ],
   "source": [
    "df_test.describe()"
   ]
  },
  {
   "cell_type": "code",
   "execution_count": 16,
   "metadata": {},
   "outputs": [
    {
     "data": {
      "text/html": [
       "<div>\n",
       "<style scoped>\n",
       "    .dataframe tbody tr th:only-of-type {\n",
       "        vertical-align: middle;\n",
       "    }\n",
       "\n",
       "    .dataframe tbody tr th {\n",
       "        vertical-align: top;\n",
       "    }\n",
       "\n",
       "    .dataframe thead th {\n",
       "        text-align: right;\n",
       "    }\n",
       "</style>\n",
       "<table border=\"1\" class=\"dataframe\">\n",
       "  <thead>\n",
       "    <tr style=\"text-align: right;\">\n",
       "      <th></th>\n",
       "      <th>final.output.concentrate_ag</th>\n",
       "      <th>final.output.concentrate_pb</th>\n",
       "      <th>final.output.concentrate_sol</th>\n",
       "      <th>final.output.concentrate_au</th>\n",
       "      <th>final.output.recovery</th>\n",
       "      <th>final.output.tail_ag</th>\n",
       "      <th>final.output.tail_pb</th>\n",
       "      <th>final.output.tail_sol</th>\n",
       "      <th>final.output.tail_au</th>\n",
       "      <th>primary_cleaner.input.sulfate</th>\n",
       "      <th>primary_cleaner.input.depressant</th>\n",
       "      <th>primary_cleaner.input.feed_size</th>\n",
       "      <th>primary_cleaner.input.xanthate</th>\n",
       "      <th>primary_cleaner.output.concentrate_ag</th>\n",
       "      <th>primary_cleaner.output.concentrate_pb</th>\n",
       "      <th>primary_cleaner.output.concentrate_sol</th>\n",
       "      <th>primary_cleaner.output.concentrate_au</th>\n",
       "      <th>primary_cleaner.output.tail_ag</th>\n",
       "      <th>primary_cleaner.output.tail_pb</th>\n",
       "      <th>primary_cleaner.output.tail_sol</th>\n",
       "      <th>primary_cleaner.output.tail_au</th>\n",
       "      <th>primary_cleaner.state.floatbank8_a_air</th>\n",
       "      <th>primary_cleaner.state.floatbank8_a_level</th>\n",
       "      <th>primary_cleaner.state.floatbank8_b_air</th>\n",
       "      <th>primary_cleaner.state.floatbank8_b_level</th>\n",
       "      <th>primary_cleaner.state.floatbank8_c_air</th>\n",
       "      <th>primary_cleaner.state.floatbank8_c_level</th>\n",
       "      <th>primary_cleaner.state.floatbank8_d_air</th>\n",
       "      <th>primary_cleaner.state.floatbank8_d_level</th>\n",
       "      <th>rougher.calculation.sulfate_to_au_concentrate</th>\n",
       "      <th>rougher.calculation.floatbank10_sulfate_to_au_feed</th>\n",
       "      <th>rougher.calculation.floatbank11_sulfate_to_au_feed</th>\n",
       "      <th>rougher.calculation.au_pb_ratio</th>\n",
       "      <th>rougher.input.feed_ag</th>\n",
       "      <th>rougher.input.feed_pb</th>\n",
       "      <th>rougher.input.feed_rate</th>\n",
       "      <th>rougher.input.feed_size</th>\n",
       "      <th>rougher.input.feed_sol</th>\n",
       "      <th>rougher.input.feed_au</th>\n",
       "      <th>rougher.input.floatbank10_sulfate</th>\n",
       "      <th>rougher.input.floatbank10_xanthate</th>\n",
       "      <th>rougher.input.floatbank11_sulfate</th>\n",
       "      <th>rougher.input.floatbank11_xanthate</th>\n",
       "      <th>rougher.output.concentrate_ag</th>\n",
       "      <th>rougher.output.concentrate_pb</th>\n",
       "      <th>rougher.output.concentrate_sol</th>\n",
       "      <th>rougher.output.concentrate_au</th>\n",
       "      <th>rougher.output.recovery</th>\n",
       "      <th>rougher.output.tail_ag</th>\n",
       "      <th>rougher.output.tail_pb</th>\n",
       "      <th>rougher.output.tail_sol</th>\n",
       "      <th>rougher.output.tail_au</th>\n",
       "      <th>rougher.state.floatbank10_a_air</th>\n",
       "      <th>rougher.state.floatbank10_a_level</th>\n",
       "      <th>rougher.state.floatbank10_b_air</th>\n",
       "      <th>rougher.state.floatbank10_b_level</th>\n",
       "      <th>rougher.state.floatbank10_c_air</th>\n",
       "      <th>rougher.state.floatbank10_c_level</th>\n",
       "      <th>rougher.state.floatbank10_d_air</th>\n",
       "      <th>rougher.state.floatbank10_d_level</th>\n",
       "      <th>rougher.state.floatbank10_e_air</th>\n",
       "      <th>rougher.state.floatbank10_e_level</th>\n",
       "      <th>rougher.state.floatbank10_f_air</th>\n",
       "      <th>rougher.state.floatbank10_f_level</th>\n",
       "      <th>secondary_cleaner.output.tail_ag</th>\n",
       "      <th>secondary_cleaner.output.tail_pb</th>\n",
       "      <th>secondary_cleaner.output.tail_sol</th>\n",
       "      <th>secondary_cleaner.output.tail_au</th>\n",
       "      <th>secondary_cleaner.state.floatbank2_a_air</th>\n",
       "      <th>secondary_cleaner.state.floatbank2_a_level</th>\n",
       "      <th>secondary_cleaner.state.floatbank2_b_air</th>\n",
       "      <th>secondary_cleaner.state.floatbank2_b_level</th>\n",
       "      <th>secondary_cleaner.state.floatbank3_a_air</th>\n",
       "      <th>secondary_cleaner.state.floatbank3_a_level</th>\n",
       "      <th>secondary_cleaner.state.floatbank3_b_air</th>\n",
       "      <th>secondary_cleaner.state.floatbank3_b_level</th>\n",
       "      <th>secondary_cleaner.state.floatbank4_a_air</th>\n",
       "      <th>secondary_cleaner.state.floatbank4_a_level</th>\n",
       "      <th>secondary_cleaner.state.floatbank4_b_air</th>\n",
       "      <th>secondary_cleaner.state.floatbank4_b_level</th>\n",
       "      <th>secondary_cleaner.state.floatbank5_a_air</th>\n",
       "      <th>secondary_cleaner.state.floatbank5_a_level</th>\n",
       "      <th>secondary_cleaner.state.floatbank5_b_air</th>\n",
       "      <th>secondary_cleaner.state.floatbank5_b_level</th>\n",
       "      <th>secondary_cleaner.state.floatbank6_a_air</th>\n",
       "      <th>secondary_cleaner.state.floatbank6_a_level</th>\n",
       "    </tr>\n",
       "  </thead>\n",
       "  <tbody>\n",
       "    <tr>\n",
       "      <th>count</th>\n",
       "      <td>19439.000000</td>\n",
       "      <td>19439.000000</td>\n",
       "      <td>19439.000000</td>\n",
       "      <td>19439.000000</td>\n",
       "      <td>19439.000000</td>\n",
       "      <td>19439.000000</td>\n",
       "      <td>19439.000000</td>\n",
       "      <td>19439.000000</td>\n",
       "      <td>19439.000000</td>\n",
       "      <td>19439.000000</td>\n",
       "      <td>19439.000000</td>\n",
       "      <td>19439.000000</td>\n",
       "      <td>19439.000000</td>\n",
       "      <td>19439.000000</td>\n",
       "      <td>19439.000000</td>\n",
       "      <td>19439.000000</td>\n",
       "      <td>19439.000000</td>\n",
       "      <td>19439.000000</td>\n",
       "      <td>19439.000000</td>\n",
       "      <td>19439.000000</td>\n",
       "      <td>19439.000000</td>\n",
       "      <td>1.943900e+04</td>\n",
       "      <td>19439.000000</td>\n",
       "      <td>1.943900e+04</td>\n",
       "      <td>19439.000000</td>\n",
       "      <td>1.943900e+04</td>\n",
       "      <td>19439.000000</td>\n",
       "      <td>1.943900e+04</td>\n",
       "      <td>19439.000000</td>\n",
       "      <td>1.943900e+04</td>\n",
       "      <td>19439.000000</td>\n",
       "      <td>19439.000000</td>\n",
       "      <td>19439.000000</td>\n",
       "      <td>19439.000000</td>\n",
       "      <td>19439.000000</td>\n",
       "      <td>19439.000000</td>\n",
       "      <td>19439.000000</td>\n",
       "      <td>19439.000000</td>\n",
       "      <td>19439.000000</td>\n",
       "      <td>19439.000000</td>\n",
       "      <td>19439.000000</td>\n",
       "      <td>19439.000000</td>\n",
       "      <td>19439.000000</td>\n",
       "      <td>19439.000000</td>\n",
       "      <td>19439.000000</td>\n",
       "      <td>19439.000000</td>\n",
       "      <td>19439.000000</td>\n",
       "      <td>19439.000000</td>\n",
       "      <td>19439.000000</td>\n",
       "      <td>19439.000000</td>\n",
       "      <td>19439.000000</td>\n",
       "      <td>19439.000000</td>\n",
       "      <td>19439.000000</td>\n",
       "      <td>19439.000000</td>\n",
       "      <td>19439.000000</td>\n",
       "      <td>19439.000000</td>\n",
       "      <td>19439.000000</td>\n",
       "      <td>19439.000000</td>\n",
       "      <td>19439.000000</td>\n",
       "      <td>19439.000000</td>\n",
       "      <td>19439.000000</td>\n",
       "      <td>19439.000000</td>\n",
       "      <td>19439.000000</td>\n",
       "      <td>19439.000000</td>\n",
       "      <td>19439.000000</td>\n",
       "      <td>19439.000000</td>\n",
       "      <td>19439.000000</td>\n",
       "      <td>19439.000000</td>\n",
       "      <td>19439.000000</td>\n",
       "      <td>19439.000000</td>\n",
       "      <td>19439.000000</td>\n",
       "      <td>19439.000000</td>\n",
       "      <td>19439.000000</td>\n",
       "      <td>19439.000000</td>\n",
       "      <td>19439.000000</td>\n",
       "      <td>19439.000000</td>\n",
       "      <td>19439.000000</td>\n",
       "      <td>19439.000000</td>\n",
       "      <td>19439.000000</td>\n",
       "      <td>19439.000000</td>\n",
       "      <td>19439.000000</td>\n",
       "      <td>19439.000000</td>\n",
       "      <td>19439.000000</td>\n",
       "      <td>19439.000000</td>\n",
       "      <td>19439.000000</td>\n",
       "      <td>19439.000000</td>\n",
       "    </tr>\n",
       "    <tr>\n",
       "      <th>mean</th>\n",
       "      <td>5.168387</td>\n",
       "      <td>9.978821</td>\n",
       "      <td>9.429902</td>\n",
       "      <td>44.076513</td>\n",
       "      <td>67.050208</td>\n",
       "      <td>9.688487</td>\n",
       "      <td>2.694897</td>\n",
       "      <td>10.582894</td>\n",
       "      <td>3.042467</td>\n",
       "      <td>144.542451</td>\n",
       "      <td>8.808859</td>\n",
       "      <td>7.307078</td>\n",
       "      <td>1.018059</td>\n",
       "      <td>8.442408</td>\n",
       "      <td>9.810317</td>\n",
       "      <td>10.392606</td>\n",
       "      <td>32.119400</td>\n",
       "      <td>16.145888</td>\n",
       "      <td>3.433558</td>\n",
       "      <td>7.962529</td>\n",
       "      <td>3.914179</td>\n",
       "      <td>1.589365e+03</td>\n",
       "      <td>-491.195434</td>\n",
       "      <td>1.591358e+03</td>\n",
       "      <td>-492.193360</td>\n",
       "      <td>1.586673e+03</td>\n",
       "      <td>-491.980486</td>\n",
       "      <td>1.542965e+03</td>\n",
       "      <td>-488.017996</td>\n",
       "      <td>4.217142e+04</td>\n",
       "      <td>3393.006244</td>\n",
       "      <td>3256.818805</td>\n",
       "      <td>2.420119</td>\n",
       "      <td>8.794927</td>\n",
       "      <td>3.585096</td>\n",
       "      <td>478.249753</td>\n",
       "      <td>59.073193</td>\n",
       "      <td>36.674669</td>\n",
       "      <td>8.266097</td>\n",
       "      <td>12.318974</td>\n",
       "      <td>6.020351</td>\n",
       "      <td>12.058843</td>\n",
       "      <td>5.992626</td>\n",
       "      <td>11.994759</td>\n",
       "      <td>7.606272</td>\n",
       "      <td>28.797834</td>\n",
       "      <td>19.772000</td>\n",
       "      <td>83.328587</td>\n",
       "      <td>5.589064</td>\n",
       "      <td>0.645782</td>\n",
       "      <td>18.057106</td>\n",
       "      <td>1.816391</td>\n",
       "      <td>1105.309690</td>\n",
       "      <td>-376.616987</td>\n",
       "      <td>1320.235522</td>\n",
       "      <td>-467.249549</td>\n",
       "      <td>1299.984202</td>\n",
       "      <td>-467.718607</td>\n",
       "      <td>1211.563299</td>\n",
       "      <td>-468.239912</td>\n",
       "      <td>1076.797044</td>\n",
       "      <td>-466.037742</td>\n",
       "      <td>1025.274256</td>\n",
       "      <td>-466.265327</td>\n",
       "      <td>14.586720</td>\n",
       "      <td>5.776428</td>\n",
       "      <td>6.633002</td>\n",
       "      <td>4.339625</td>\n",
       "      <td>28.767421</td>\n",
       "      <td>-502.367184</td>\n",
       "      <td>24.095293</td>\n",
       "      <td>-503.230479</td>\n",
       "      <td>28.186226</td>\n",
       "      <td>-486.204002</td>\n",
       "      <td>22.200684</td>\n",
       "      <td>-493.742418</td>\n",
       "      <td>18.983858</td>\n",
       "      <td>-485.898569</td>\n",
       "      <td>15.010207</td>\n",
       "      <td>-461.084281</td>\n",
       "      <td>15.694160</td>\n",
       "      <td>-488.685145</td>\n",
       "      <td>12.198011</td>\n",
       "      <td>-487.150508</td>\n",
       "      <td>18.958458</td>\n",
       "      <td>-505.441125</td>\n",
       "    </tr>\n",
       "    <tr>\n",
       "      <th>std</th>\n",
       "      <td>1.372362</td>\n",
       "      <td>1.669228</td>\n",
       "      <td>2.865629</td>\n",
       "      <td>5.129784</td>\n",
       "      <td>10.125840</td>\n",
       "      <td>2.328624</td>\n",
       "      <td>0.958836</td>\n",
       "      <td>2.868996</td>\n",
       "      <td>0.922808</td>\n",
       "      <td>44.593704</td>\n",
       "      <td>3.296870</td>\n",
       "      <td>0.613509</td>\n",
       "      <td>0.515103</td>\n",
       "      <td>2.054465</td>\n",
       "      <td>2.572253</td>\n",
       "      <td>3.969018</td>\n",
       "      <td>5.627611</td>\n",
       "      <td>3.548485</td>\n",
       "      <td>1.393875</td>\n",
       "      <td>2.225806</td>\n",
       "      <td>1.593034</td>\n",
       "      <td>1.289887e+02</td>\n",
       "      <td>32.431061</td>\n",
       "      <td>1.318038e+02</td>\n",
       "      <td>33.793994</td>\n",
       "      <td>1.361072e+02</td>\n",
       "      <td>32.710665</td>\n",
       "      <td>2.462598e+02</td>\n",
       "      <td>43.958733</td>\n",
       "      <td>3.243454e+05</td>\n",
       "      <td>4943.594439</td>\n",
       "      <td>5781.127769</td>\n",
       "      <td>0.814935</td>\n",
       "      <td>1.936847</td>\n",
       "      <td>1.062972</td>\n",
       "      <td>105.447685</td>\n",
       "      <td>22.088720</td>\n",
       "      <td>5.163583</td>\n",
       "      <td>1.955092</td>\n",
       "      <td>3.450437</td>\n",
       "      <td>1.129016</td>\n",
       "      <td>3.828019</td>\n",
       "      <td>1.199833</td>\n",
       "      <td>2.733862</td>\n",
       "      <td>1.796757</td>\n",
       "      <td>5.957337</td>\n",
       "      <td>3.753600</td>\n",
       "      <td>14.148086</td>\n",
       "      <td>1.111318</td>\n",
       "      <td>0.251526</td>\n",
       "      <td>3.449218</td>\n",
       "      <td>0.680046</td>\n",
       "      <td>160.824409</td>\n",
       "      <td>93.911354</td>\n",
       "      <td>176.293965</td>\n",
       "      <td>54.672263</td>\n",
       "      <td>202.810478</td>\n",
       "      <td>53.533949</td>\n",
       "      <td>204.019326</td>\n",
       "      <td>53.921458</td>\n",
       "      <td>173.529711</td>\n",
       "      <td>57.384424</td>\n",
       "      <td>164.487837</td>\n",
       "      <td>57.850263</td>\n",
       "      <td>4.264998</td>\n",
       "      <td>2.774913</td>\n",
       "      <td>4.134081</td>\n",
       "      <td>2.326751</td>\n",
       "      <td>5.481595</td>\n",
       "      <td>53.570576</td>\n",
       "      <td>5.769528</td>\n",
       "      <td>56.566278</td>\n",
       "      <td>6.162018</td>\n",
       "      <td>54.411026</td>\n",
       "      <td>5.573861</td>\n",
       "      <td>43.371064</td>\n",
       "      <td>5.414887</td>\n",
       "      <td>47.760684</td>\n",
       "      <td>4.890153</td>\n",
       "      <td>67.408385</td>\n",
       "      <td>5.510983</td>\n",
       "      <td>34.532835</td>\n",
       "      <td>5.332969</td>\n",
       "      <td>38.346443</td>\n",
       "      <td>5.550514</td>\n",
       "      <td>37.694079</td>\n",
       "    </tr>\n",
       "    <tr>\n",
       "      <th>min</th>\n",
       "      <td>0.000000</td>\n",
       "      <td>0.000000</td>\n",
       "      <td>0.000000</td>\n",
       "      <td>0.000000</td>\n",
       "      <td>0.000000</td>\n",
       "      <td>0.000000</td>\n",
       "      <td>0.000000</td>\n",
       "      <td>0.000000</td>\n",
       "      <td>0.000000</td>\n",
       "      <td>0.003112</td>\n",
       "      <td>0.000000</td>\n",
       "      <td>1.080000</td>\n",
       "      <td>0.000005</td>\n",
       "      <td>0.000000</td>\n",
       "      <td>0.000000</td>\n",
       "      <td>0.000000</td>\n",
       "      <td>0.000000</td>\n",
       "      <td>0.000000</td>\n",
       "      <td>0.000000</td>\n",
       "      <td>0.000000</td>\n",
       "      <td>0.000000</td>\n",
       "      <td>5.445860e-32</td>\n",
       "      <td>-798.641662</td>\n",
       "      <td>6.647490e-32</td>\n",
       "      <td>-799.997015</td>\n",
       "      <td>4.033736e-32</td>\n",
       "      <td>-799.960571</td>\n",
       "      <td>4.039220e-32</td>\n",
       "      <td>-799.794250</td>\n",
       "      <td>-4.223520e+07</td>\n",
       "      <td>-486.598675</td>\n",
       "      <td>-264.982785</td>\n",
       "      <td>-0.010548</td>\n",
       "      <td>0.010000</td>\n",
       "      <td>0.010000</td>\n",
       "      <td>0.002986</td>\n",
       "      <td>0.046369</td>\n",
       "      <td>0.010000</td>\n",
       "      <td>0.010000</td>\n",
       "      <td>0.001083</td>\n",
       "      <td>0.000568</td>\n",
       "      <td>0.000077</td>\n",
       "      <td>0.000290</td>\n",
       "      <td>0.000000</td>\n",
       "      <td>0.000000</td>\n",
       "      <td>0.000000</td>\n",
       "      <td>0.000000</td>\n",
       "      <td>0.000000</td>\n",
       "      <td>0.594562</td>\n",
       "      <td>0.007566</td>\n",
       "      <td>10.014648</td>\n",
       "      <td>0.020676</td>\n",
       "      <td>-0.042069</td>\n",
       "      <td>-657.949759</td>\n",
       "      <td>-0.721806</td>\n",
       "      <td>-650.260008</td>\n",
       "      <td>-0.056636</td>\n",
       "      <td>-647.544439</td>\n",
       "      <td>-0.992219</td>\n",
       "      <td>-648.390665</td>\n",
       "      <td>-1.982295</td>\n",
       "      <td>-649.443911</td>\n",
       "      <td>-2.593390</td>\n",
       "      <td>-649.949283</td>\n",
       "      <td>0.000000</td>\n",
       "      <td>0.000000</td>\n",
       "      <td>0.000000</td>\n",
       "      <td>0.000000</td>\n",
       "      <td>0.077503</td>\n",
       "      <td>-799.606441</td>\n",
       "      <td>0.000000</td>\n",
       "      <td>-799.873878</td>\n",
       "      <td>0.000000</td>\n",
       "      <td>-799.755798</td>\n",
       "      <td>0.000000</td>\n",
       "      <td>-809.333008</td>\n",
       "      <td>0.000000</td>\n",
       "      <td>-799.798523</td>\n",
       "      <td>0.000000</td>\n",
       "      <td>-800.836914</td>\n",
       "      <td>-0.372054</td>\n",
       "      <td>-797.323986</td>\n",
       "      <td>0.528083</td>\n",
       "      <td>-800.220337</td>\n",
       "      <td>-0.079426</td>\n",
       "      <td>-809.741464</td>\n",
       "    </tr>\n",
       "    <tr>\n",
       "      <th>25%</th>\n",
       "      <td>4.251000</td>\n",
       "      <td>9.137225</td>\n",
       "      <td>7.662953</td>\n",
       "      <td>43.402215</td>\n",
       "      <td>63.299712</td>\n",
       "      <td>8.062715</td>\n",
       "      <td>2.027553</td>\n",
       "      <td>8.937983</td>\n",
       "      <td>2.461138</td>\n",
       "      <td>114.051097</td>\n",
       "      <td>6.071502</td>\n",
       "      <td>6.940000</td>\n",
       "      <td>0.696138</td>\n",
       "      <td>7.263288</td>\n",
       "      <td>8.676500</td>\n",
       "      <td>7.788574</td>\n",
       "      <td>30.463140</td>\n",
       "      <td>14.017185</td>\n",
       "      <td>2.503417</td>\n",
       "      <td>6.735867</td>\n",
       "      <td>2.924844</td>\n",
       "      <td>1.505127e+03</td>\n",
       "      <td>-500.308535</td>\n",
       "      <td>1.503639e+03</td>\n",
       "      <td>-500.437154</td>\n",
       "      <td>1.500930e+03</td>\n",
       "      <td>-500.703893</td>\n",
       "      <td>1.494275e+03</td>\n",
       "      <td>-500.458318</td>\n",
       "      <td>4.069786e+04</td>\n",
       "      <td>2611.430236</td>\n",
       "      <td>2551.474210</td>\n",
       "      <td>2.035434</td>\n",
       "      <td>7.237967</td>\n",
       "      <td>2.872178</td>\n",
       "      <td>416.422248</td>\n",
       "      <td>47.485218</td>\n",
       "      <td>34.196030</td>\n",
       "      <td>6.854384</td>\n",
       "      <td>10.000251</td>\n",
       "      <td>5.398593</td>\n",
       "      <td>9.998233</td>\n",
       "      <td>5.395814</td>\n",
       "      <td>10.628337</td>\n",
       "      <td>6.725987</td>\n",
       "      <td>27.221408</td>\n",
       "      <td>18.802523</td>\n",
       "      <td>81.037957</td>\n",
       "      <td>4.889934</td>\n",
       "      <td>0.477728</td>\n",
       "      <td>15.822525</td>\n",
       "      <td>1.404207</td>\n",
       "      <td>999.661991</td>\n",
       "      <td>-499.835145</td>\n",
       "      <td>1199.626514</td>\n",
       "      <td>-500.201382</td>\n",
       "      <td>1151.083780</td>\n",
       "      <td>-500.217205</td>\n",
       "      <td>1061.051788</td>\n",
       "      <td>-500.386386</td>\n",
       "      <td>997.857808</td>\n",
       "      <td>-500.232191</td>\n",
       "      <td>900.995511</td>\n",
       "      <td>-500.522553</td>\n",
       "      <td>12.640359</td>\n",
       "      <td>3.863993</td>\n",
       "      <td>2.878621</td>\n",
       "      <td>3.182770</td>\n",
       "      <td>25.050776</td>\n",
       "      <td>-500.233697</td>\n",
       "      <td>20.913194</td>\n",
       "      <td>-500.253773</td>\n",
       "      <td>24.947916</td>\n",
       "      <td>-500.213512</td>\n",
       "      <td>18.995946</td>\n",
       "      <td>-500.123010</td>\n",
       "      <td>14.975304</td>\n",
       "      <td>-500.705070</td>\n",
       "      <td>11.940211</td>\n",
       "      <td>-500.187767</td>\n",
       "      <td>10.988528</td>\n",
       "      <td>-500.458573</td>\n",
       "      <td>8.971074</td>\n",
       "      <td>-500.129482</td>\n",
       "      <td>14.983005</td>\n",
       "      <td>-500.728189</td>\n",
       "    </tr>\n",
       "    <tr>\n",
       "      <th>50%</th>\n",
       "      <td>5.066039</td>\n",
       "      <td>10.102264</td>\n",
       "      <td>9.184826</td>\n",
       "      <td>45.011244</td>\n",
       "      <td>68.172738</td>\n",
       "      <td>9.743106</td>\n",
       "      <td>2.743965</td>\n",
       "      <td>10.622340</td>\n",
       "      <td>2.984909</td>\n",
       "      <td>143.205708</td>\n",
       "      <td>8.037738</td>\n",
       "      <td>7.280000</td>\n",
       "      <td>0.932579</td>\n",
       "      <td>8.507298</td>\n",
       "      <td>10.142270</td>\n",
       "      <td>10.238614</td>\n",
       "      <td>32.841295</td>\n",
       "      <td>15.842836</td>\n",
       "      <td>3.269958</td>\n",
       "      <td>8.179794</td>\n",
       "      <td>3.623234</td>\n",
       "      <td>1.600599e+03</td>\n",
       "      <td>-499.926072</td>\n",
       "      <td>1.600523e+03</td>\n",
       "      <td>-499.956609</td>\n",
       "      <td>1.600254e+03</td>\n",
       "      <td>-499.909674</td>\n",
       "      <td>1.599448e+03</td>\n",
       "      <td>-499.906003</td>\n",
       "      <td>4.469648e+04</td>\n",
       "      <td>3018.353876</td>\n",
       "      <td>2997.218088</td>\n",
       "      <td>2.309665</td>\n",
       "      <td>8.593574</td>\n",
       "      <td>3.528235</td>\n",
       "      <td>499.402170</td>\n",
       "      <td>54.657268</td>\n",
       "      <td>37.189485</td>\n",
       "      <td>8.125839</td>\n",
       "      <td>12.001088</td>\n",
       "      <td>6.007716</td>\n",
       "      <td>12.000191</td>\n",
       "      <td>6.036099</td>\n",
       "      <td>12.098115</td>\n",
       "      <td>7.742580</td>\n",
       "      <td>29.833638</td>\n",
       "      <td>20.280214</td>\n",
       "      <td>86.188892</td>\n",
       "      <td>5.765829</td>\n",
       "      <td>0.617465</td>\n",
       "      <td>18.106867</td>\n",
       "      <td>1.808170</td>\n",
       "      <td>1001.071918</td>\n",
       "      <td>-300.263997</td>\n",
       "      <td>1301.581573</td>\n",
       "      <td>-499.784055</td>\n",
       "      <td>1300.212670</td>\n",
       "      <td>-499.713396</td>\n",
       "      <td>1201.569141</td>\n",
       "      <td>-499.532412</td>\n",
       "      <td>1049.807968</td>\n",
       "      <td>-499.663089</td>\n",
       "      <td>999.924821</td>\n",
       "      <td>-499.471777</td>\n",
       "      <td>15.640668</td>\n",
       "      <td>5.343407</td>\n",
       "      <td>7.086606</td>\n",
       "      <td>4.072412</td>\n",
       "      <td>29.337681</td>\n",
       "      <td>-499.973238</td>\n",
       "      <td>25.042097</td>\n",
       "      <td>-500.015402</td>\n",
       "      <td>27.981859</td>\n",
       "      <td>-499.930641</td>\n",
       "      <td>22.011361</td>\n",
       "      <td>-499.981871</td>\n",
       "      <td>18.017317</td>\n",
       "      <td>-499.837795</td>\n",
       "      <td>14.970988</td>\n",
       "      <td>-499.459790</td>\n",
       "      <td>14.999920</td>\n",
       "      <td>-499.802639</td>\n",
       "      <td>11.019389</td>\n",
       "      <td>-499.935338</td>\n",
       "      <td>19.960511</td>\n",
       "      <td>-500.048424</td>\n",
       "    </tr>\n",
       "    <tr>\n",
       "      <th>75%</th>\n",
       "      <td>5.895401</td>\n",
       "      <td>11.035644</td>\n",
       "      <td>10.920957</td>\n",
       "      <td>46.275313</td>\n",
       "      <td>72.686642</td>\n",
       "      <td>11.134242</td>\n",
       "      <td>3.329206</td>\n",
       "      <td>12.104122</td>\n",
       "      <td>3.571351</td>\n",
       "      <td>175.035538</td>\n",
       "      <td>11.012934</td>\n",
       "      <td>7.670000</td>\n",
       "      <td>1.209196</td>\n",
       "      <td>9.809001</td>\n",
       "      <td>11.416298</td>\n",
       "      <td>13.394667</td>\n",
       "      <td>35.048006</td>\n",
       "      <td>18.014169</td>\n",
       "      <td>4.180490</td>\n",
       "      <td>9.547061</td>\n",
       "      <td>4.585705</td>\n",
       "      <td>1.697658e+03</td>\n",
       "      <td>-499.433806</td>\n",
       "      <td>1.699218e+03</td>\n",
       "      <td>-499.373569</td>\n",
       "      <td>1.699483e+03</td>\n",
       "      <td>-498.857678</td>\n",
       "      <td>1.698527e+03</td>\n",
       "      <td>-499.064775</td>\n",
       "      <td>4.816850e+04</td>\n",
       "      <td>3676.758984</td>\n",
       "      <td>3601.912193</td>\n",
       "      <td>2.731794</td>\n",
       "      <td>10.213771</td>\n",
       "      <td>4.241005</td>\n",
       "      <td>550.163788</td>\n",
       "      <td>64.996715</td>\n",
       "      <td>40.026614</td>\n",
       "      <td>9.769917</td>\n",
       "      <td>14.702810</td>\n",
       "      <td>6.798028</td>\n",
       "      <td>14.637880</td>\n",
       "      <td>6.799683</td>\n",
       "      <td>13.736996</td>\n",
       "      <td>8.565199</td>\n",
       "      <td>32.189139</td>\n",
       "      <td>21.717843</td>\n",
       "      <td>90.010670</td>\n",
       "      <td>6.389399</td>\n",
       "      <td>0.778271</td>\n",
       "      <td>20.088151</td>\n",
       "      <td>2.211861</td>\n",
       "      <td>1205.611903</td>\n",
       "      <td>-299.982004</td>\n",
       "      <td>1448.634347</td>\n",
       "      <td>-400.615895</td>\n",
       "      <td>1449.465867</td>\n",
       "      <td>-400.986442</td>\n",
       "      <td>1352.880320</td>\n",
       "      <td>-401.638550</td>\n",
       "      <td>1199.250846</td>\n",
       "      <td>-401.161191</td>\n",
       "      <td>1099.719692</td>\n",
       "      <td>-401.511042</td>\n",
       "      <td>17.358101</td>\n",
       "      <td>7.787610</td>\n",
       "      <td>10.202368</td>\n",
       "      <td>5.063081</td>\n",
       "      <td>33.046946</td>\n",
       "      <td>-499.671226</td>\n",
       "      <td>28.008140</td>\n",
       "      <td>-499.785639</td>\n",
       "      <td>33.002570</td>\n",
       "      <td>-499.325425</td>\n",
       "      <td>25.998158</td>\n",
       "      <td>-499.812750</td>\n",
       "      <td>23.012460</td>\n",
       "      <td>-498.249814</td>\n",
       "      <td>19.034114</td>\n",
       "      <td>-400.118175</td>\n",
       "      <td>18.026184</td>\n",
       "      <td>-498.384191</td>\n",
       "      <td>14.019040</td>\n",
       "      <td>-499.437546</td>\n",
       "      <td>24.002617</td>\n",
       "      <td>-499.495403</td>\n",
       "    </tr>\n",
       "    <tr>\n",
       "      <th>max</th>\n",
       "      <td>16.001945</td>\n",
       "      <td>17.031899</td>\n",
       "      <td>19.615720</td>\n",
       "      <td>52.756638</td>\n",
       "      <td>100.000000</td>\n",
       "      <td>19.552149</td>\n",
       "      <td>5.804178</td>\n",
       "      <td>22.317730</td>\n",
       "      <td>8.245022</td>\n",
       "      <td>265.983123</td>\n",
       "      <td>40.000000</td>\n",
       "      <td>15.500000</td>\n",
       "      <td>4.102454</td>\n",
       "      <td>16.081632</td>\n",
       "      <td>17.081278</td>\n",
       "      <td>22.458114</td>\n",
       "      <td>45.933934</td>\n",
       "      <td>29.459575</td>\n",
       "      <td>9.634565</td>\n",
       "      <td>22.276364</td>\n",
       "      <td>17.788925</td>\n",
       "      <td>2.103104e+03</td>\n",
       "      <td>-57.195404</td>\n",
       "      <td>2.114907e+03</td>\n",
       "      <td>-142.527229</td>\n",
       "      <td>2.013156e+03</td>\n",
       "      <td>-150.937035</td>\n",
       "      <td>2.398904e+03</td>\n",
       "      <td>-30.601828</td>\n",
       "      <td>3.428099e+06</td>\n",
       "      <td>629638.977914</td>\n",
       "      <td>718684.955855</td>\n",
       "      <td>39.379272</td>\n",
       "      <td>14.596026</td>\n",
       "      <td>7.142594</td>\n",
       "      <td>717.508837</td>\n",
       "      <td>484.967466</td>\n",
       "      <td>53.477742</td>\n",
       "      <td>13.731330</td>\n",
       "      <td>36.118275</td>\n",
       "      <td>9.703448</td>\n",
       "      <td>37.980648</td>\n",
       "      <td>9.698407</td>\n",
       "      <td>24.480271</td>\n",
       "      <td>13.617072</td>\n",
       "      <td>38.351193</td>\n",
       "      <td>28.824507</td>\n",
       "      <td>100.000000</td>\n",
       "      <td>12.719177</td>\n",
       "      <td>3.778064</td>\n",
       "      <td>66.117188</td>\n",
       "      <td>9.688980</td>\n",
       "      <td>1521.980372</td>\n",
       "      <td>-273.776101</td>\n",
       "      <td>1809.194008</td>\n",
       "      <td>-296.383080</td>\n",
       "      <td>2499.129174</td>\n",
       "      <td>-292.155509</td>\n",
       "      <td>1817.199290</td>\n",
       "      <td>-76.397327</td>\n",
       "      <td>1922.636637</td>\n",
       "      <td>-139.753025</td>\n",
       "      <td>1706.307502</td>\n",
       "      <td>-191.718480</td>\n",
       "      <td>23.264738</td>\n",
       "      <td>17.042505</td>\n",
       "      <td>26.000772</td>\n",
       "      <td>26.811643</td>\n",
       "      <td>52.651399</td>\n",
       "      <td>-127.875565</td>\n",
       "      <td>35.152122</td>\n",
       "      <td>-211.999273</td>\n",
       "      <td>44.260464</td>\n",
       "      <td>-191.678810</td>\n",
       "      <td>35.072841</td>\n",
       "      <td>-159.742331</td>\n",
       "      <td>30.115735</td>\n",
       "      <td>-245.239184</td>\n",
       "      <td>31.269706</td>\n",
       "      <td>-6.506986</td>\n",
       "      <td>43.709931</td>\n",
       "      <td>-244.483566</td>\n",
       "      <td>27.926001</td>\n",
       "      <td>-137.740004</td>\n",
       "      <td>32.188906</td>\n",
       "      <td>-104.427459</td>\n",
       "    </tr>\n",
       "  </tbody>\n",
       "</table>\n",
       "</div>"
      ],
      "text/plain": [
       "       final.output.concentrate_ag  final.output.concentrate_pb  \\\n",
       "count                 19439.000000                 19439.000000   \n",
       "mean                      5.168387                     9.978821   \n",
       "std                       1.372362                     1.669228   \n",
       "min                       0.000000                     0.000000   \n",
       "25%                       4.251000                     9.137225   \n",
       "50%                       5.066039                    10.102264   \n",
       "75%                       5.895401                    11.035644   \n",
       "max                      16.001945                    17.031899   \n",
       "\n",
       "       final.output.concentrate_sol  final.output.concentrate_au  \\\n",
       "count                  19439.000000                 19439.000000   \n",
       "mean                       9.429902                    44.076513   \n",
       "std                        2.865629                     5.129784   \n",
       "min                        0.000000                     0.000000   \n",
       "25%                        7.662953                    43.402215   \n",
       "50%                        9.184826                    45.011244   \n",
       "75%                       10.920957                    46.275313   \n",
       "max                       19.615720                    52.756638   \n",
       "\n",
       "       final.output.recovery  final.output.tail_ag  final.output.tail_pb  \\\n",
       "count           19439.000000          19439.000000          19439.000000   \n",
       "mean               67.050208              9.688487              2.694897   \n",
       "std                10.125840              2.328624              0.958836   \n",
       "min                 0.000000              0.000000              0.000000   \n",
       "25%                63.299712              8.062715              2.027553   \n",
       "50%                68.172738              9.743106              2.743965   \n",
       "75%                72.686642             11.134242              3.329206   \n",
       "max               100.000000             19.552149              5.804178   \n",
       "\n",
       "       final.output.tail_sol  final.output.tail_au  \\\n",
       "count           19439.000000          19439.000000   \n",
       "mean               10.582894              3.042467   \n",
       "std                 2.868996              0.922808   \n",
       "min                 0.000000              0.000000   \n",
       "25%                 8.937983              2.461138   \n",
       "50%                10.622340              2.984909   \n",
       "75%                12.104122              3.571351   \n",
       "max                22.317730              8.245022   \n",
       "\n",
       "       primary_cleaner.input.sulfate  primary_cleaner.input.depressant  \\\n",
       "count                   19439.000000                      19439.000000   \n",
       "mean                      144.542451                          8.808859   \n",
       "std                        44.593704                          3.296870   \n",
       "min                         0.003112                          0.000000   \n",
       "25%                       114.051097                          6.071502   \n",
       "50%                       143.205708                          8.037738   \n",
       "75%                       175.035538                         11.012934   \n",
       "max                       265.983123                         40.000000   \n",
       "\n",
       "       primary_cleaner.input.feed_size  primary_cleaner.input.xanthate  \\\n",
       "count                     19439.000000                    19439.000000   \n",
       "mean                          7.307078                        1.018059   \n",
       "std                           0.613509                        0.515103   \n",
       "min                           1.080000                        0.000005   \n",
       "25%                           6.940000                        0.696138   \n",
       "50%                           7.280000                        0.932579   \n",
       "75%                           7.670000                        1.209196   \n",
       "max                          15.500000                        4.102454   \n",
       "\n",
       "       primary_cleaner.output.concentrate_ag  \\\n",
       "count                           19439.000000   \n",
       "mean                                8.442408   \n",
       "std                                 2.054465   \n",
       "min                                 0.000000   \n",
       "25%                                 7.263288   \n",
       "50%                                 8.507298   \n",
       "75%                                 9.809001   \n",
       "max                                16.081632   \n",
       "\n",
       "       primary_cleaner.output.concentrate_pb  \\\n",
       "count                           19439.000000   \n",
       "mean                                9.810317   \n",
       "std                                 2.572253   \n",
       "min                                 0.000000   \n",
       "25%                                 8.676500   \n",
       "50%                                10.142270   \n",
       "75%                                11.416298   \n",
       "max                                17.081278   \n",
       "\n",
       "       primary_cleaner.output.concentrate_sol  \\\n",
       "count                            19439.000000   \n",
       "mean                                10.392606   \n",
       "std                                  3.969018   \n",
       "min                                  0.000000   \n",
       "25%                                  7.788574   \n",
       "50%                                 10.238614   \n",
       "75%                                 13.394667   \n",
       "max                                 22.458114   \n",
       "\n",
       "       primary_cleaner.output.concentrate_au  primary_cleaner.output.tail_ag  \\\n",
       "count                           19439.000000                    19439.000000   \n",
       "mean                               32.119400                       16.145888   \n",
       "std                                 5.627611                        3.548485   \n",
       "min                                 0.000000                        0.000000   \n",
       "25%                                30.463140                       14.017185   \n",
       "50%                                32.841295                       15.842836   \n",
       "75%                                35.048006                       18.014169   \n",
       "max                                45.933934                       29.459575   \n",
       "\n",
       "       primary_cleaner.output.tail_pb  primary_cleaner.output.tail_sol  \\\n",
       "count                    19439.000000                     19439.000000   \n",
       "mean                         3.433558                         7.962529   \n",
       "std                          1.393875                         2.225806   \n",
       "min                          0.000000                         0.000000   \n",
       "25%                          2.503417                         6.735867   \n",
       "50%                          3.269958                         8.179794   \n",
       "75%                          4.180490                         9.547061   \n",
       "max                          9.634565                        22.276364   \n",
       "\n",
       "       primary_cleaner.output.tail_au  primary_cleaner.state.floatbank8_a_air  \\\n",
       "count                    19439.000000                            1.943900e+04   \n",
       "mean                         3.914179                            1.589365e+03   \n",
       "std                          1.593034                            1.289887e+02   \n",
       "min                          0.000000                            5.445860e-32   \n",
       "25%                          2.924844                            1.505127e+03   \n",
       "50%                          3.623234                            1.600599e+03   \n",
       "75%                          4.585705                            1.697658e+03   \n",
       "max                         17.788925                            2.103104e+03   \n",
       "\n",
       "       primary_cleaner.state.floatbank8_a_level  \\\n",
       "count                              19439.000000   \n",
       "mean                                -491.195434   \n",
       "std                                   32.431061   \n",
       "min                                 -798.641662   \n",
       "25%                                 -500.308535   \n",
       "50%                                 -499.926072   \n",
       "75%                                 -499.433806   \n",
       "max                                  -57.195404   \n",
       "\n",
       "       primary_cleaner.state.floatbank8_b_air  \\\n",
       "count                            1.943900e+04   \n",
       "mean                             1.591358e+03   \n",
       "std                              1.318038e+02   \n",
       "min                              6.647490e-32   \n",
       "25%                              1.503639e+03   \n",
       "50%                              1.600523e+03   \n",
       "75%                              1.699218e+03   \n",
       "max                              2.114907e+03   \n",
       "\n",
       "       primary_cleaner.state.floatbank8_b_level  \\\n",
       "count                              19439.000000   \n",
       "mean                                -492.193360   \n",
       "std                                   33.793994   \n",
       "min                                 -799.997015   \n",
       "25%                                 -500.437154   \n",
       "50%                                 -499.956609   \n",
       "75%                                 -499.373569   \n",
       "max                                 -142.527229   \n",
       "\n",
       "       primary_cleaner.state.floatbank8_c_air  \\\n",
       "count                            1.943900e+04   \n",
       "mean                             1.586673e+03   \n",
       "std                              1.361072e+02   \n",
       "min                              4.033736e-32   \n",
       "25%                              1.500930e+03   \n",
       "50%                              1.600254e+03   \n",
       "75%                              1.699483e+03   \n",
       "max                              2.013156e+03   \n",
       "\n",
       "       primary_cleaner.state.floatbank8_c_level  \\\n",
       "count                              19439.000000   \n",
       "mean                                -491.980486   \n",
       "std                                   32.710665   \n",
       "min                                 -799.960571   \n",
       "25%                                 -500.703893   \n",
       "50%                                 -499.909674   \n",
       "75%                                 -498.857678   \n",
       "max                                 -150.937035   \n",
       "\n",
       "       primary_cleaner.state.floatbank8_d_air  \\\n",
       "count                            1.943900e+04   \n",
       "mean                             1.542965e+03   \n",
       "std                              2.462598e+02   \n",
       "min                              4.039220e-32   \n",
       "25%                              1.494275e+03   \n",
       "50%                              1.599448e+03   \n",
       "75%                              1.698527e+03   \n",
       "max                              2.398904e+03   \n",
       "\n",
       "       primary_cleaner.state.floatbank8_d_level  \\\n",
       "count                              19439.000000   \n",
       "mean                                -488.017996   \n",
       "std                                   43.958733   \n",
       "min                                 -799.794250   \n",
       "25%                                 -500.458318   \n",
       "50%                                 -499.906003   \n",
       "75%                                 -499.064775   \n",
       "max                                  -30.601828   \n",
       "\n",
       "       rougher.calculation.sulfate_to_au_concentrate  \\\n",
       "count                                   1.943900e+04   \n",
       "mean                                    4.217142e+04   \n",
       "std                                     3.243454e+05   \n",
       "min                                    -4.223520e+07   \n",
       "25%                                     4.069786e+04   \n",
       "50%                                     4.469648e+04   \n",
       "75%                                     4.816850e+04   \n",
       "max                                     3.428099e+06   \n",
       "\n",
       "       rougher.calculation.floatbank10_sulfate_to_au_feed  \\\n",
       "count                                       19439.000000    \n",
       "mean                                         3393.006244    \n",
       "std                                          4943.594439    \n",
       "min                                          -486.598675    \n",
       "25%                                          2611.430236    \n",
       "50%                                          3018.353876    \n",
       "75%                                          3676.758984    \n",
       "max                                        629638.977914    \n",
       "\n",
       "       rougher.calculation.floatbank11_sulfate_to_au_feed  \\\n",
       "count                                       19439.000000    \n",
       "mean                                         3256.818805    \n",
       "std                                          5781.127769    \n",
       "min                                          -264.982785    \n",
       "25%                                          2551.474210    \n",
       "50%                                          2997.218088    \n",
       "75%                                          3601.912193    \n",
       "max                                        718684.955855    \n",
       "\n",
       "       rougher.calculation.au_pb_ratio  rougher.input.feed_ag  \\\n",
       "count                     19439.000000           19439.000000   \n",
       "mean                          2.420119               8.794927   \n",
       "std                           0.814935               1.936847   \n",
       "min                          -0.010548               0.010000   \n",
       "25%                           2.035434               7.237967   \n",
       "50%                           2.309665               8.593574   \n",
       "75%                           2.731794              10.213771   \n",
       "max                          39.379272              14.596026   \n",
       "\n",
       "       rougher.input.feed_pb  rougher.input.feed_rate  \\\n",
       "count           19439.000000             19439.000000   \n",
       "mean                3.585096               478.249753   \n",
       "std                 1.062972               105.447685   \n",
       "min                 0.010000                 0.002986   \n",
       "25%                 2.872178               416.422248   \n",
       "50%                 3.528235               499.402170   \n",
       "75%                 4.241005               550.163788   \n",
       "max                 7.142594               717.508837   \n",
       "\n",
       "       rougher.input.feed_size  rougher.input.feed_sol  rougher.input.feed_au  \\\n",
       "count             19439.000000            19439.000000           19439.000000   \n",
       "mean                 59.073193               36.674669               8.266097   \n",
       "std                  22.088720                5.163583               1.955092   \n",
       "min                   0.046369                0.010000               0.010000   \n",
       "25%                  47.485218               34.196030               6.854384   \n",
       "50%                  54.657268               37.189485               8.125839   \n",
       "75%                  64.996715               40.026614               9.769917   \n",
       "max                 484.967466               53.477742              13.731330   \n",
       "\n",
       "       rougher.input.floatbank10_sulfate  rougher.input.floatbank10_xanthate  \\\n",
       "count                       19439.000000                        19439.000000   \n",
       "mean                           12.318974                            6.020351   \n",
       "std                             3.450437                            1.129016   \n",
       "min                             0.001083                            0.000568   \n",
       "25%                            10.000251                            5.398593   \n",
       "50%                            12.001088                            6.007716   \n",
       "75%                            14.702810                            6.798028   \n",
       "max                            36.118275                            9.703448   \n",
       "\n",
       "       rougher.input.floatbank11_sulfate  rougher.input.floatbank11_xanthate  \\\n",
       "count                       19439.000000                        19439.000000   \n",
       "mean                           12.058843                            5.992626   \n",
       "std                             3.828019                            1.199833   \n",
       "min                             0.000077                            0.000290   \n",
       "25%                             9.998233                            5.395814   \n",
       "50%                            12.000191                            6.036099   \n",
       "75%                            14.637880                            6.799683   \n",
       "max                            37.980648                            9.698407   \n",
       "\n",
       "       rougher.output.concentrate_ag  rougher.output.concentrate_pb  \\\n",
       "count                   19439.000000                   19439.000000   \n",
       "mean                       11.994759                       7.606272   \n",
       "std                         2.733862                       1.796757   \n",
       "min                         0.000000                       0.000000   \n",
       "25%                        10.628337                       6.725987   \n",
       "50%                        12.098115                       7.742580   \n",
       "75%                        13.736996                       8.565199   \n",
       "max                        24.480271                      13.617072   \n",
       "\n",
       "       rougher.output.concentrate_sol  rougher.output.concentrate_au  \\\n",
       "count                    19439.000000                   19439.000000   \n",
       "mean                        28.797834                      19.772000   \n",
       "std                          5.957337                       3.753600   \n",
       "min                          0.000000                       0.000000   \n",
       "25%                         27.221408                      18.802523   \n",
       "50%                         29.833638                      20.280214   \n",
       "75%                         32.189139                      21.717843   \n",
       "max                         38.351193                      28.824507   \n",
       "\n",
       "       rougher.output.recovery  rougher.output.tail_ag  \\\n",
       "count             19439.000000            19439.000000   \n",
       "mean                 83.328587                5.589064   \n",
       "std                  14.148086                1.111318   \n",
       "min                   0.000000                0.594562   \n",
       "25%                  81.037957                4.889934   \n",
       "50%                  86.188892                5.765829   \n",
       "75%                  90.010670                6.389399   \n",
       "max                 100.000000               12.719177   \n",
       "\n",
       "       rougher.output.tail_pb  rougher.output.tail_sol  \\\n",
       "count            19439.000000             19439.000000   \n",
       "mean                 0.645782                18.057106   \n",
       "std                  0.251526                 3.449218   \n",
       "min                  0.007566                10.014648   \n",
       "25%                  0.477728                15.822525   \n",
       "50%                  0.617465                18.106867   \n",
       "75%                  0.778271                20.088151   \n",
       "max                  3.778064                66.117188   \n",
       "\n",
       "       rougher.output.tail_au  rougher.state.floatbank10_a_air  \\\n",
       "count            19439.000000                     19439.000000   \n",
       "mean                 1.816391                      1105.309690   \n",
       "std                  0.680046                       160.824409   \n",
       "min                  0.020676                        -0.042069   \n",
       "25%                  1.404207                       999.661991   \n",
       "50%                  1.808170                      1001.071918   \n",
       "75%                  2.211861                      1205.611903   \n",
       "max                  9.688980                      1521.980372   \n",
       "\n",
       "       rougher.state.floatbank10_a_level  rougher.state.floatbank10_b_air  \\\n",
       "count                       19439.000000                     19439.000000   \n",
       "mean                         -376.616987                      1320.235522   \n",
       "std                            93.911354                       176.293965   \n",
       "min                          -657.949759                        -0.721806   \n",
       "25%                          -499.835145                      1199.626514   \n",
       "50%                          -300.263997                      1301.581573   \n",
       "75%                          -299.982004                      1448.634347   \n",
       "max                          -273.776101                      1809.194008   \n",
       "\n",
       "       rougher.state.floatbank10_b_level  rougher.state.floatbank10_c_air  \\\n",
       "count                       19439.000000                     19439.000000   \n",
       "mean                         -467.249549                      1299.984202   \n",
       "std                            54.672263                       202.810478   \n",
       "min                          -650.260008                        -0.056636   \n",
       "25%                          -500.201382                      1151.083780   \n",
       "50%                          -499.784055                      1300.212670   \n",
       "75%                          -400.615895                      1449.465867   \n",
       "max                          -296.383080                      2499.129174   \n",
       "\n",
       "       rougher.state.floatbank10_c_level  rougher.state.floatbank10_d_air  \\\n",
       "count                       19439.000000                     19439.000000   \n",
       "mean                         -467.718607                      1211.563299   \n",
       "std                            53.533949                       204.019326   \n",
       "min                          -647.544439                        -0.992219   \n",
       "25%                          -500.217205                      1061.051788   \n",
       "50%                          -499.713396                      1201.569141   \n",
       "75%                          -400.986442                      1352.880320   \n",
       "max                          -292.155509                      1817.199290   \n",
       "\n",
       "       rougher.state.floatbank10_d_level  rougher.state.floatbank10_e_air  \\\n",
       "count                       19439.000000                     19439.000000   \n",
       "mean                         -468.239912                      1076.797044   \n",
       "std                            53.921458                       173.529711   \n",
       "min                          -648.390665                        -1.982295   \n",
       "25%                          -500.386386                       997.857808   \n",
       "50%                          -499.532412                      1049.807968   \n",
       "75%                          -401.638550                      1199.250846   \n",
       "max                           -76.397327                      1922.636637   \n",
       "\n",
       "       rougher.state.floatbank10_e_level  rougher.state.floatbank10_f_air  \\\n",
       "count                       19439.000000                     19439.000000   \n",
       "mean                         -466.037742                      1025.274256   \n",
       "std                            57.384424                       164.487837   \n",
       "min                          -649.443911                        -2.593390   \n",
       "25%                          -500.232191                       900.995511   \n",
       "50%                          -499.663089                       999.924821   \n",
       "75%                          -401.161191                      1099.719692   \n",
       "max                          -139.753025                      1706.307502   \n",
       "\n",
       "       rougher.state.floatbank10_f_level  secondary_cleaner.output.tail_ag  \\\n",
       "count                       19439.000000                      19439.000000   \n",
       "mean                         -466.265327                         14.586720   \n",
       "std                            57.850263                          4.264998   \n",
       "min                          -649.949283                          0.000000   \n",
       "25%                          -500.522553                         12.640359   \n",
       "50%                          -499.471777                         15.640668   \n",
       "75%                          -401.511042                         17.358101   \n",
       "max                          -191.718480                         23.264738   \n",
       "\n",
       "       secondary_cleaner.output.tail_pb  secondary_cleaner.output.tail_sol  \\\n",
       "count                      19439.000000                       19439.000000   \n",
       "mean                           5.776428                           6.633002   \n",
       "std                            2.774913                           4.134081   \n",
       "min                            0.000000                           0.000000   \n",
       "25%                            3.863993                           2.878621   \n",
       "50%                            5.343407                           7.086606   \n",
       "75%                            7.787610                          10.202368   \n",
       "max                           17.042505                          26.000772   \n",
       "\n",
       "       secondary_cleaner.output.tail_au  \\\n",
       "count                      19439.000000   \n",
       "mean                           4.339625   \n",
       "std                            2.326751   \n",
       "min                            0.000000   \n",
       "25%                            3.182770   \n",
       "50%                            4.072412   \n",
       "75%                            5.063081   \n",
       "max                           26.811643   \n",
       "\n",
       "       secondary_cleaner.state.floatbank2_a_air  \\\n",
       "count                              19439.000000   \n",
       "mean                                  28.767421   \n",
       "std                                    5.481595   \n",
       "min                                    0.077503   \n",
       "25%                                   25.050776   \n",
       "50%                                   29.337681   \n",
       "75%                                   33.046946   \n",
       "max                                   52.651399   \n",
       "\n",
       "       secondary_cleaner.state.floatbank2_a_level  \\\n",
       "count                                19439.000000   \n",
       "mean                                  -502.367184   \n",
       "std                                     53.570576   \n",
       "min                                   -799.606441   \n",
       "25%                                   -500.233697   \n",
       "50%                                   -499.973238   \n",
       "75%                                   -499.671226   \n",
       "max                                   -127.875565   \n",
       "\n",
       "       secondary_cleaner.state.floatbank2_b_air  \\\n",
       "count                              19439.000000   \n",
       "mean                                  24.095293   \n",
       "std                                    5.769528   \n",
       "min                                    0.000000   \n",
       "25%                                   20.913194   \n",
       "50%                                   25.042097   \n",
       "75%                                   28.008140   \n",
       "max                                   35.152122   \n",
       "\n",
       "       secondary_cleaner.state.floatbank2_b_level  \\\n",
       "count                                19439.000000   \n",
       "mean                                  -503.230479   \n",
       "std                                     56.566278   \n",
       "min                                   -799.873878   \n",
       "25%                                   -500.253773   \n",
       "50%                                   -500.015402   \n",
       "75%                                   -499.785639   \n",
       "max                                   -211.999273   \n",
       "\n",
       "       secondary_cleaner.state.floatbank3_a_air  \\\n",
       "count                              19439.000000   \n",
       "mean                                  28.186226   \n",
       "std                                    6.162018   \n",
       "min                                    0.000000   \n",
       "25%                                   24.947916   \n",
       "50%                                   27.981859   \n",
       "75%                                   33.002570   \n",
       "max                                   44.260464   \n",
       "\n",
       "       secondary_cleaner.state.floatbank3_a_level  \\\n",
       "count                                19439.000000   \n",
       "mean                                  -486.204002   \n",
       "std                                     54.411026   \n",
       "min                                   -799.755798   \n",
       "25%                                   -500.213512   \n",
       "50%                                   -499.930641   \n",
       "75%                                   -499.325425   \n",
       "max                                   -191.678810   \n",
       "\n",
       "       secondary_cleaner.state.floatbank3_b_air  \\\n",
       "count                              19439.000000   \n",
       "mean                                  22.200684   \n",
       "std                                    5.573861   \n",
       "min                                    0.000000   \n",
       "25%                                   18.995946   \n",
       "50%                                   22.011361   \n",
       "75%                                   25.998158   \n",
       "max                                   35.072841   \n",
       "\n",
       "       secondary_cleaner.state.floatbank3_b_level  \\\n",
       "count                                19439.000000   \n",
       "mean                                  -493.742418   \n",
       "std                                     43.371064   \n",
       "min                                   -809.333008   \n",
       "25%                                   -500.123010   \n",
       "50%                                   -499.981871   \n",
       "75%                                   -499.812750   \n",
       "max                                   -159.742331   \n",
       "\n",
       "       secondary_cleaner.state.floatbank4_a_air  \\\n",
       "count                              19439.000000   \n",
       "mean                                  18.983858   \n",
       "std                                    5.414887   \n",
       "min                                    0.000000   \n",
       "25%                                   14.975304   \n",
       "50%                                   18.017317   \n",
       "75%                                   23.012460   \n",
       "max                                   30.115735   \n",
       "\n",
       "       secondary_cleaner.state.floatbank4_a_level  \\\n",
       "count                                19439.000000   \n",
       "mean                                  -485.898569   \n",
       "std                                     47.760684   \n",
       "min                                   -799.798523   \n",
       "25%                                   -500.705070   \n",
       "50%                                   -499.837795   \n",
       "75%                                   -498.249814   \n",
       "max                                   -245.239184   \n",
       "\n",
       "       secondary_cleaner.state.floatbank4_b_air  \\\n",
       "count                              19439.000000   \n",
       "mean                                  15.010207   \n",
       "std                                    4.890153   \n",
       "min                                    0.000000   \n",
       "25%                                   11.940211   \n",
       "50%                                   14.970988   \n",
       "75%                                   19.034114   \n",
       "max                                   31.269706   \n",
       "\n",
       "       secondary_cleaner.state.floatbank4_b_level  \\\n",
       "count                                19439.000000   \n",
       "mean                                  -461.084281   \n",
       "std                                     67.408385   \n",
       "min                                   -800.836914   \n",
       "25%                                   -500.187767   \n",
       "50%                                   -499.459790   \n",
       "75%                                   -400.118175   \n",
       "max                                     -6.506986   \n",
       "\n",
       "       secondary_cleaner.state.floatbank5_a_air  \\\n",
       "count                              19439.000000   \n",
       "mean                                  15.694160   \n",
       "std                                    5.510983   \n",
       "min                                   -0.372054   \n",
       "25%                                   10.988528   \n",
       "50%                                   14.999920   \n",
       "75%                                   18.026184   \n",
       "max                                   43.709931   \n",
       "\n",
       "       secondary_cleaner.state.floatbank5_a_level  \\\n",
       "count                                19439.000000   \n",
       "mean                                  -488.685145   \n",
       "std                                     34.532835   \n",
       "min                                   -797.323986   \n",
       "25%                                   -500.458573   \n",
       "50%                                   -499.802639   \n",
       "75%                                   -498.384191   \n",
       "max                                   -244.483566   \n",
       "\n",
       "       secondary_cleaner.state.floatbank5_b_air  \\\n",
       "count                              19439.000000   \n",
       "mean                                  12.198011   \n",
       "std                                    5.332969   \n",
       "min                                    0.528083   \n",
       "25%                                    8.971074   \n",
       "50%                                   11.019389   \n",
       "75%                                   14.019040   \n",
       "max                                   27.926001   \n",
       "\n",
       "       secondary_cleaner.state.floatbank5_b_level  \\\n",
       "count                                19439.000000   \n",
       "mean                                  -487.150508   \n",
       "std                                     38.346443   \n",
       "min                                   -800.220337   \n",
       "25%                                   -500.129482   \n",
       "50%                                   -499.935338   \n",
       "75%                                   -499.437546   \n",
       "max                                   -137.740004   \n",
       "\n",
       "       secondary_cleaner.state.floatbank6_a_air  \\\n",
       "count                              19439.000000   \n",
       "mean                                  18.958458   \n",
       "std                                    5.550514   \n",
       "min                                   -0.079426   \n",
       "25%                                   14.983005   \n",
       "50%                                   19.960511   \n",
       "75%                                   24.002617   \n",
       "max                                   32.188906   \n",
       "\n",
       "       secondary_cleaner.state.floatbank6_a_level  \n",
       "count                                19439.000000  \n",
       "mean                                  -505.441125  \n",
       "std                                     37.694079  \n",
       "min                                   -809.741464  \n",
       "25%                                   -500.728189  \n",
       "50%                                   -500.048424  \n",
       "75%                                   -499.495403  \n",
       "max                                   -104.427459  "
      ]
     },
     "execution_count": 16,
     "metadata": {},
     "output_type": "execute_result"
    }
   ],
   "source": [
    "df_full.describe()"
   ]
  },
  {
   "cell_type": "markdown",
   "metadata": {},
   "source": [
    "Есть признаки средние и медианные значения которых сильно отличаются. Имеем дело с выбросами.\n",
    "\n",
    "Есть признаки с сильно отличающимся масштабом. Понадобится предварительная стандартизация признаков перед обучением модели."
   ]
  },
  {
   "cell_type": "markdown",
   "metadata": {},
   "source": [
    "Проверим наличие полных дубликатов"
   ]
  },
  {
   "cell_type": "code",
   "execution_count": 17,
   "metadata": {},
   "outputs": [
    {
     "data": {
      "text/plain": [
       "0"
      ]
     },
     "execution_count": 17,
     "metadata": {},
     "output_type": "execute_result"
    }
   ],
   "source": [
    "df_train.duplicated().sum()"
   ]
  },
  {
   "cell_type": "code",
   "execution_count": 18,
   "metadata": {},
   "outputs": [
    {
     "data": {
      "text/plain": [
       "0"
      ]
     },
     "execution_count": 18,
     "metadata": {},
     "output_type": "execute_result"
    }
   ],
   "source": [
    "df_test.duplicated().sum()"
   ]
  },
  {
   "cell_type": "code",
   "execution_count": 19,
   "metadata": {},
   "outputs": [
    {
     "data": {
      "text/plain": [
       "0"
      ]
     },
     "execution_count": 19,
     "metadata": {},
     "output_type": "execute_result"
    }
   ],
   "source": [
    "df_full.duplicated().sum()"
   ]
  },
  {
   "cell_type": "markdown",
   "metadata": {},
   "source": [
    "### Проверка вычисления эффективности обогащения"
   ]
  },
  {
   "cell_type": "markdown",
   "metadata": {},
   "source": [
    "По условию, необходимо проверить, что эффективность обогащения рассчитана правильно, вычислить её на обучающей выборке для признака `rougher.output.recovery`, найти MAE между нашими расчётами и значением признака. \n",
    "\n",
    "**Recovery = C(F-T) / F(C-T) * 100%.**\n",
    "\n",
    "C — доля золота в концентрате после флотации/очистки;\n",
    "\n",
    "F — доля золота в сырье/концентрате до флотации/очистки;\n",
    "\n",
    "T — доля золота в отвальных хвостах после флотации/очистки.\n",
    "\n",
    "**В нашем случае:**"
   ]
  },
  {
   "cell_type": "markdown",
   "metadata": {},
   "source": [
    "Объявим переменные для удобства посчета:"
   ]
  },
  {
   "cell_type": "code",
   "execution_count": 20,
   "metadata": {},
   "outputs": [],
   "source": [
    "C = df_train['rougher.output.concentrate_au']\n",
    "F = df_train['rougher.input.feed_au']\n",
    "T = df_train['rougher.output.tail_au']"
   ]
  },
  {
   "cell_type": "markdown",
   "metadata": {},
   "source": [
    "Создадим временный столбец в обучающей выборке с нашими расчетами "
   ]
  },
  {
   "cell_type": "code",
   "execution_count": 21,
   "metadata": {},
   "outputs": [
    {
     "data": {
      "text/plain": [
       "0        87.107763\n",
       "1        86.843261\n",
       "2        86.842308\n",
       "3        87.226430\n",
       "4        86.688794\n",
       "           ...    \n",
       "14144    89.574376\n",
       "14145    87.724007\n",
       "14146    88.890579\n",
       "14147    89.858126\n",
       "14148    89.514960\n",
       "Name: new_recovery, Length: 14149, dtype: float64"
      ]
     },
     "execution_count": 21,
     "metadata": {},
     "output_type": "execute_result"
    }
   ],
   "source": [
    "df_train['new_recovery'] = (C*(F-T)) / (F*(C-T)) * 100\n",
    "df_train['new_recovery']"
   ]
  },
  {
   "cell_type": "markdown",
   "metadata": {},
   "source": [
    "Рассчитаем MAE между нашими расчётами и значением признака:"
   ]
  },
  {
   "cell_type": "code",
   "execution_count": 22,
   "metadata": {},
   "outputs": [
    {
     "data": {
      "text/plain": [
       "9.73512347450521e-15"
      ]
     },
     "execution_count": 22,
     "metadata": {},
     "output_type": "execute_result"
    }
   ],
   "source": [
    "mean_absolute_error(df_train['rougher.output.recovery'], df_train['new_recovery'])"
   ]
  },
  {
   "cell_type": "markdown",
   "metadata": {},
   "source": [
    "Среднее абсолютное отклонение очень мало (9.7). Следовательно, расчет верный и мы можем принять признак `rougher.output.recovery` за целевой. Теперь временный столбец `new_recovery` можно удалить - больше он нам не пригодится."
   ]
  },
  {
   "cell_type": "code",
   "execution_count": 23,
   "metadata": {
    "scrolled": true
   },
   "outputs": [],
   "source": [
    "df_train = df_train.drop('new_recovery', axis=1)"
   ]
  },
  {
   "cell_type": "markdown",
   "metadata": {},
   "source": [
    "### Анализ признаков, недоступных в тестовой выборке."
   ]
  },
  {
   "cell_type": "markdown",
   "metadata": {},
   "source": [
    "Выведем список из признаков, недоступных в тестовой выборке, в сравнении с тестовой"
   ]
  },
  {
   "cell_type": "code",
   "execution_count": 24,
   "metadata": {
    "collapsed": true
   },
   "outputs": [
    {
     "data": {
      "text/plain": [
       "{'final.output.concentrate_ag',\n",
       " 'final.output.concentrate_au',\n",
       " 'final.output.concentrate_pb',\n",
       " 'final.output.concentrate_sol',\n",
       " 'final.output.recovery',\n",
       " 'final.output.tail_ag',\n",
       " 'final.output.tail_au',\n",
       " 'final.output.tail_pb',\n",
       " 'final.output.tail_sol',\n",
       " 'primary_cleaner.output.concentrate_ag',\n",
       " 'primary_cleaner.output.concentrate_au',\n",
       " 'primary_cleaner.output.concentrate_pb',\n",
       " 'primary_cleaner.output.concentrate_sol',\n",
       " 'primary_cleaner.output.tail_ag',\n",
       " 'primary_cleaner.output.tail_au',\n",
       " 'primary_cleaner.output.tail_pb',\n",
       " 'primary_cleaner.output.tail_sol',\n",
       " 'rougher.calculation.au_pb_ratio',\n",
       " 'rougher.calculation.floatbank10_sulfate_to_au_feed',\n",
       " 'rougher.calculation.floatbank11_sulfate_to_au_feed',\n",
       " 'rougher.calculation.sulfate_to_au_concentrate',\n",
       " 'rougher.output.concentrate_ag',\n",
       " 'rougher.output.concentrate_au',\n",
       " 'rougher.output.concentrate_pb',\n",
       " 'rougher.output.concentrate_sol',\n",
       " 'rougher.output.recovery',\n",
       " 'rougher.output.tail_ag',\n",
       " 'rougher.output.tail_au',\n",
       " 'rougher.output.tail_pb',\n",
       " 'rougher.output.tail_sol',\n",
       " 'secondary_cleaner.output.tail_ag',\n",
       " 'secondary_cleaner.output.tail_au',\n",
       " 'secondary_cleaner.output.tail_pb',\n",
       " 'secondary_cleaner.output.tail_sol'}"
      ]
     },
     "execution_count": 24,
     "metadata": {},
     "output_type": "execute_result"
    }
   ],
   "source": [
    "no_in_df_test = set(df_train.columns) - set(df_test.columns)\n",
    "no_in_df_test"
   ]
  },
  {
   "cell_type": "code",
   "execution_count": 25,
   "metadata": {},
   "outputs": [
    {
     "data": {
      "text/plain": [
       "34"
      ]
     },
     "execution_count": 25,
     "metadata": {},
     "output_type": "execute_result"
    }
   ],
   "source": [
    "len(no_in_df_test)"
   ]
  },
  {
   "cell_type": "markdown",
   "metadata": {},
   "source": [
    "`final.output.concentrate_ag` - финальный концентрат серебра\n",
    "\n",
    "`final.output.concentrate_au` - финальный концентрат золота\n",
    "\n",
    "`final.output.concentrate_pb` - финальный концентрат свинца\n",
    "\n",
    "`final.output.concentrate_sol` - финальный концентрат прочих примесей\n",
    "\n",
    "**`final.output.recovery` - эффективность обогащения финального концентрата**\n",
    "\n",
    "`final.output.tail_ag` - финальная доля серебра в отвальных хвостах\n",
    "\n",
    "`final.output.tail_au` - финальная доля золота в отвальных хвостах\n",
    "\n",
    "`final.output.tail_pb` - финальная доля серебра в отвальных хвостах\n",
    "\n",
    "`final.output.tail_sol` - финальная доля прочих примесей в отвальных хвостах\n",
    "\n",
    "`primary_cleaner.output.concentrate_ag` - концентрат серебра после первичной очистки\n",
    "\n",
    "`primary_cleaner.output.concentrate_au` - концентрат золота после первичной очистки\n",
    "\n",
    "`primary_cleaner.output.concentrate_pb` - концентрат свинца после первичной очистки\n",
    "\n",
    "`primary_cleaner.output.concentrate_sol` - концентрат прочих примесей после первичной очистки\n",
    "\n",
    "`primary_cleaner.output.tail_ag` - доля серебра в отвальных хвостах после первичной очистки\n",
    "\n",
    "`primary_cleaner.output.tail_au` - доля золота в отвальных хвостах после первичной очистки\n",
    "\n",
    "`primary_cleaner.output.tail_pb` - доля свинца в отвальных хвостах после первичной очистки\n",
    "\n",
    "`primary_cleaner.output.tail_sol` - доля прочих примесей в отвальных хвостах после первичной очистки\n",
    "\n",
    "`rougher.calculation.au_pb_ratio` - расчетное соотношение золота и серебра при флотации\n",
    "\n",
    "`rougher.calculation.floatbank10_sulfate_to_au_feed` - расчетная величина для флотационной установки 10 при флотации\n",
    "\n",
    "`rougher.calculation.floatbank11_sulfate_to_au_feed` - расчетная величина для флотационной установки 11 при флотации\n",
    "\n",
    "`rougher.calculation.sulfate_to_au_concentrate` - расчетный концентрат золота в сульфатах при флотации\n",
    "\n",
    "`rougher.output.concentrate_ag` - доля серебра в концентрате после флотации\n",
    "\n",
    "`rougher.output.concentrate_au` - доля золота в концентрате после флотации\n",
    "\n",
    "`rougher.output.concentrate_pb` - доля свинца в концентрате после флотации\n",
    "\n",
    "`rougher.output.concentrate_sol` - доля прочих примесей в концентрате после флотации\n",
    "\n",
    "**`rougher.output.recovery` - эффективность обогащения чернового концентрата**\n",
    "\n",
    "`rougher.output.tail_ag` - доля серебра в отвальных хвостах после флотации\n",
    "\n",
    "`rougher.output.tail_au` - доля золота в отвальных хвостах после флотации\n",
    "\n",
    "`rougher.output.tail_pb` - доля свинца в отвальных хвостах после флотации\n",
    "\n",
    "`rougher.output.tail_sol` - доля прочих примесей в отвальных хвостах после флотации\n",
    "\n",
    "`secondary_cleaner.output.tail_ag` - доля серебра в отвальных хвостах после вторичной очистки\n",
    "\n",
    "`secondary_cleaner.output.tail_au` - доля золота в отвальных хвостах после вторичной очистки\n",
    "\n",
    "`secondary_cleaner.output.tail_pb` - доля свинца в отвальных хвостах после вторичной очистки\n",
    "\n",
    "`secondary_cleaner.output.tail_sol` - доля прочих примесей в отвальных хвостах после вторичной очистки"
   ]
  },
  {
   "cell_type": "markdown",
   "metadata": {},
   "source": [
    "ИТОГО: Из 34 отсутствующих признаков, 32 можно объяснить тем, что они рассчитываются позже, и до обучения модели показывать их не следует. В тестовой выборке недостает только 2х целевых признаков: `final.output.recovery` (эффективность обогащения финального концентрата) и `rougher.output.recovery` (эффективность обогащения чернового концентрата). Добавим их из исходных данных (df_full)."
   ]
  },
  {
   "cell_type": "code",
   "execution_count": 26,
   "metadata": {},
   "outputs": [],
   "source": [
    "df_test = df_test.merge(df_full.loc[:, ['date','rougher.output.recovery','final.output.recovery']], on='date')"
   ]
  },
  {
   "cell_type": "code",
   "execution_count": 27,
   "metadata": {},
   "outputs": [
    {
     "data": {
      "text/plain": [
       "(5290, 55)"
      ]
     },
     "execution_count": 27,
     "metadata": {},
     "output_type": "execute_result"
    }
   ],
   "source": [
    "df_test.shape"
   ]
  },
  {
   "cell_type": "markdown",
   "metadata": {},
   "source": [
    "Теперь можно удалить столбец `date` в обучающей и тестовой выборках. Т.к. на целевой признак влияния он не оказывает - далее в выборках он нам не понадобится."
   ]
  },
  {
   "cell_type": "code",
   "execution_count": 28,
   "metadata": {},
   "outputs": [],
   "source": [
    "df_train = df_train.drop('date', axis=1)\n",
    "df_test = df_test.drop('date', axis=1)"
   ]
  },
  {
   "cell_type": "markdown",
   "metadata": {},
   "source": [
    "**Промежуточный вывод**\n",
    "\n",
    "- Загрузили данные и провели предобработку:\n",
    "\n",
    "- Заменили пропуски предпоследними значением, применив индескацию по столбцу `date`.\n",
    "\n",
    "- Проверили вычисления эффективности обогащения. Расчет корректный.\n",
    "\n",
    "- В тестовую выборку добавили 2 отсутствующих целевых признака `rougher.output.recovery` и `final.output.recovery`."
   ]
  },
  {
   "cell_type": "markdown",
   "metadata": {},
   "source": [
    "## Анализ данных"
   ]
  },
  {
   "cell_type": "markdown",
   "metadata": {},
   "source": [
    "### Изменение концентрации металлов (Au, Ag, Pb) на различных этапах очистки. "
   ]
  },
  {
   "cell_type": "markdown",
   "metadata": {},
   "source": [
    "Рассмотрим концентрацию на 4х этапах:\n",
    "\n",
    "`rougher.input` - сырье (до отчистки)\n",
    "\n",
    "`rougher.output` - после флотации\n",
    "\n",
    "`primary_cleaner` - после первичной очистки\n",
    "\n",
    "`final ` - финальные характеристики\n",
    "\n",
    "Отдельно, проследим концентрацию в 'отвальных хвостах' `Rougher tails`"
   ]
  },
  {
   "cell_type": "markdown",
   "metadata": {},
   "source": [
    "#### Au"
   ]
  },
  {
   "cell_type": "code",
   "execution_count": 29,
   "metadata": {
    "collapsed": true
   },
   "outputs": [
    {
     "data": {
      "image/png": "[encoded data removed]",
      "text/plain": [
       "<Figure size 1080x720 with 1 Axes>"
      ]
     },
     "metadata": {
      "needs_background": "light"
     },
     "output_type": "display_data"
    }
   ],
   "source": [
    "plt.figure(figsize=[15,10])\n",
    "\n",
    "plt.hist(df_train['rougher.input.feed_au'], bins=100, label='концентрация в сырье', alpha=.5)\n",
    "plt.hist(df_train['rougher.output.concentrate_au'], bins=100, label='концентрация после флотации', alpha=.5)\n",
    "plt.hist(df_train['primary_cleaner.output.concentrate_au'], bins=100, label='концентрация после первичной очистки', alpha=.5)\n",
    "plt.hist(df_train['final.output.concentrate_au'], bins=100, label='финальная концентрация', alpha=.5)\n",
    "\n",
    "plt.xlim([0, 55])\n",
    "plt.ylim([0, 1600])\n",
    "\n",
    "plt.xlabel('Концентрация золота', fontsize=15)\n",
    "plt.ylabel('Количество наблюдений', fontsize=15)\n",
    "\n",
    "plt.legend(loc='upper left', fontsize=13)\n",
    "\n",
    "plt.title('Концентрация золота на различных этапах очистки', fontsize=25)\n",
    "plt.show()"
   ]
  },
  {
   "cell_type": "markdown",
   "metadata": {},
   "source": [
    "Концентрация золота на каждом этапе заметно увеличивается"
   ]
  },
  {
   "cell_type": "markdown",
   "metadata": {},
   "source": [
    "#### Ag"
   ]
  },
  {
   "cell_type": "code",
   "execution_count": 30,
   "metadata": {
    "collapsed": true
   },
   "outputs": [
    {
     "data": {
      "image/png": "[encoded data removed]",
      "text/plain": [
       "<Figure size 1080x720 with 1 Axes>"
      ]
     },
     "metadata": {
      "needs_background": "light"
     },
     "output_type": "display_data"
    }
   ],
   "source": [
    "plt.figure(figsize=[15,10])\n",
    "\n",
    "plt.hist(df_train['rougher.input.feed_ag'], bins=100, label='концентрация в сырье', alpha=.5)\n",
    "plt.hist(df_train['rougher.output.concentrate_ag'], bins=100, label='концентрация после флотации', alpha=.5)\n",
    "plt.hist(df_train['primary_cleaner.output.concentrate_ag'], bins=100, label='концентрация после первичной очистки', alpha=.5)\n",
    "plt.hist(df_train['final.output.concentrate_ag'], bins=100, label='финальная концентрация', alpha=.5)\n",
    "\n",
    "plt.xlim([0, 25])\n",
    "plt.ylim([0, 830])\n",
    "\n",
    "plt.xlabel('Концентрация серебра', fontsize=15)\n",
    "plt.ylabel('Количество наблюдений', fontsize=15)\n",
    "plt.title('Концентрация серебра на различных этапах очистки', fontsize=20)\n",
    "plt.legend(loc='upper right', fontsize=13)\n",
    "\n",
    "plt.show()"
   ]
  },
  {
   "cell_type": "markdown",
   "metadata": {},
   "source": [
    "Концентрация серебра на этапе флотации увеличивается, затем начинает снижаться, на дальнейших этапах. Серебро на этапе флотации, обогащается, как и золото."
   ]
  },
  {
   "cell_type": "markdown",
   "metadata": {},
   "source": [
    "#### Pb"
   ]
  },
  {
   "cell_type": "code",
   "execution_count": 31,
   "metadata": {
    "collapsed": true
   },
   "outputs": [
    {
     "data": {
      "image/png": "[encoded data removed]",
      "text/plain": [
       "<Figure size 1080x720 with 1 Axes>"
      ]
     },
     "metadata": {
      "needs_background": "light"
     },
     "output_type": "display_data"
    }
   ],
   "source": [
    "plt.figure(figsize=[15,10])\n",
    "\n",
    "plt.hist(df_train['rougher.input.feed_pb'], bins=100, label='концентрация в сырье', alpha=.5)\n",
    "plt.hist(df_train['rougher.output.concentrate_pb'], bins=100, label='концентрация после флотации', alpha=.5)\n",
    "plt.hist(df_train['primary_cleaner.output.concentrate_pb'], bins=100, label='концентрация после первичной очистки', alpha=.5)\n",
    "plt.hist(df_train['final.output.concentrate_pb'], bins=100, label='финальная концентрация', alpha=.5)\n",
    "\n",
    "plt.xlim([0, 18])\n",
    "plt.ylim([0, 750])\n",
    "\n",
    "plt.xlabel('Концентрация свинца', fontsize=15)\n",
    "plt.ylabel('Количество наблюдений', fontsize=15)\n",
    "plt.title('Концентрация свинца на различных этапах очистки', fontsize=20)\n",
    "plt.legend(loc='upper left', fontsize=13)\n",
    "\n",
    "plt.show()"
   ]
  },
  {
   "cell_type": "markdown",
   "metadata": {},
   "source": [
    "После этапа флотации, концентрация свинца увеличивается. На дальнейших этапах изменения незначительны."
   ]
  },
  {
   "cell_type": "markdown",
   "metadata": {},
   "source": [
    "#### Sol"
   ]
  },
  {
   "cell_type": "code",
   "execution_count": 32,
   "metadata": {
    "collapsed": true
   },
   "outputs": [
    {
     "data": {
      "image/png": "[encoded data removed]",
      "text/plain": [
       "<Figure size 1080x720 with 1 Axes>"
      ]
     },
     "metadata": {
      "needs_background": "light"
     },
     "output_type": "display_data"
    }
   ],
   "source": [
    "plt.figure(figsize=[15,10])\n",
    "\n",
    "plt.hist(df_train['rougher.input.feed_sol'], bins=100, label='концентрация в сырье', alpha=.5)\n",
    "plt.hist(df_train['rougher.output.concentrate_sol'], bins=100, label='концентрация после флотации', alpha=.5)\n",
    "plt.hist(df_train['primary_cleaner.output.concentrate_sol'], bins=100, label='концентрация после первичной очистки', alpha=.5)\n",
    "plt.hist(df_train['final.output.concentrate_sol'], bins=100, label='финальная концентрация', alpha=.5)\n",
    "\n",
    "plt.xlim([0, 50])\n",
    "plt.ylim([0, 800])\n",
    "\n",
    "plt.xlabel('Концентрация остальных примесей', fontsize=15)\n",
    "plt.ylabel('Количество наблюдений', fontsize=15)\n",
    "plt.title('Концентрация остальных примесей на различных этапах очистки', fontsize=20)\n",
    "plt.legend(loc='upper left', fontsize=13)\n",
    "\n",
    "plt.show()"
   ]
  },
  {
   "cell_type": "markdown",
   "metadata": {},
   "source": [
    "Концентрация остальных примесей на каждом этапе заметно снижается, т.к. в этом и заключается цель технологического процесса - увеличить концентрацию драгоценных металлов"
   ]
  },
  {
   "cell_type": "markdown",
   "metadata": {},
   "source": [
    "На всех этапах, у всех веществ присутсятвуют аномальные (нулевые) значения. Нужно от них избавиться, т.к. они могут негативно повлиять на обучение модели:"
   ]
  },
  {
   "cell_type": "code",
   "execution_count": 33,
   "metadata": {},
   "outputs": [],
   "source": [
    "df_train = df_train[(df_train['rougher.input.feed_au'] > 0) & (df_train['rougher.input.feed_ag'] > 0) & (df_train['rougher.input.feed_pb'] > 0) & (df_train['rougher.input.feed_sol'])]\n",
    "df_train = df_train[(df_train['rougher.output.concentrate_au'] > 0) & (df_train['rougher.output.concentrate_ag'] > 0) & (df_train['rougher.output.concentrate_pb'] > 0) & (df_train['rougher.output.concentrate_sol'])]\n",
    "df_train = df_train[(df_train['primary_cleaner.output.concentrate_au'] > 0) & (df_train['primary_cleaner.output.concentrate_ag'] > 0) & (df_train['primary_cleaner.output.concentrate_pb'] > 0) & (df_train['primary_cleaner.output.concentrate_sol'])]\n",
    "df_train = df_train[(df_train['final.output.concentrate_au'] > 0) & (df_train['final.output.concentrate_ag'] > 0) & (df_train['final.output.concentrate_pb'] > 0) & (df_train['final.output.concentrate_sol'])]"
   ]
  },
  {
   "cell_type": "markdown",
   "metadata": {},
   "source": [
    "### Сравнение распределения размеров гранул сырья"
   ]
  },
  {
   "cell_type": "markdown",
   "metadata": {},
   "source": [
    "Для правильной оценки модели, сравним распределения на обучающей и тестовой выборках. \n",
    "Если распределения сильно отличаются друг от друга, оценка модели будет неправильной."
   ]
  },
  {
   "cell_type": "markdown",
   "metadata": {},
   "source": [
    "#### На стадии флотации (rougher)"
   ]
  },
  {
   "cell_type": "code",
   "execution_count": 34,
   "metadata": {
    "collapsed": true
   },
   "outputs": [
    {
     "data": {
      "image/png": "[encoded data removed]",
      "text/plain": [
       "<Figure size 1080x720 with 1 Axes>"
      ]
     },
     "metadata": {
      "needs_background": "light"
     },
     "output_type": "display_data"
    }
   ],
   "source": [
    "plt.figure(figsize=(15,10))\n",
    "sns.distplot(df_test['rougher.input.feed_size'])\n",
    "sns.distplot(df_train['rougher.input.feed_size'])\n",
    "\n",
    "plt.title('Распределение размеров гранул на стадии флотации', fontsize=20)\n",
    "plt.xlabel('Размер гранул', fontsize=15)\n",
    "plt.ylabel('Количество наблюдений', fontsize=15)\n",
    "\n",
    "plt.legend(labels=['Размер гранул в тестовой выборке','Размер гранул в обучающей выборке'], fontsize=13)\n",
    "plt.show()"
   ]
  },
  {
   "cell_type": "markdown",
   "metadata": {},
   "source": [
    "Распределение размеров гранул похожи, но в тестовой выборке, преобладают гранулы размером чуть меньше 50(предположительно, мм), а в обучающей выборке - немного больше 50 мм. Будем считать эти отличия незначительными."
   ]
  },
  {
   "cell_type": "markdown",
   "metadata": {},
   "source": [
    "#### На стадии первичной очистки"
   ]
  },
  {
   "cell_type": "code",
   "execution_count": 35,
   "metadata": {
    "collapsed": true
   },
   "outputs": [
    {
     "data": {
      "image/png": "[encoded data removed]",
      "text/plain": [
       "<Figure size 1080x720 with 1 Axes>"
      ]
     },
     "metadata": {
      "needs_background": "light"
     },
     "output_type": "display_data"
    }
   ],
   "source": [
    "plt.figure(figsize=(15,10))\n",
    "sns.distplot(df_test['primary_cleaner.input.feed_size'])\n",
    "sns.distplot(df_train['primary_cleaner.input.feed_size'])\n",
    "\n",
    "plt.title('Распределение размеров гранул на стадии первичной очистки', fontsize=20)\n",
    "plt.xlabel('Размер гранул', fontsize=15)\n",
    "plt.ylabel('Количество наблюдений', fontsize=15)\n",
    "\n",
    "plt.legend(labels=['Размер гранул в тестовой выборке','Размер гранул в обучающей выборке'], fontsize=13)\n",
    "plt.show()"
   ]
  },
  {
   "cell_type": "markdown",
   "metadata": {},
   "source": [
    "Распределение размеров гранул на стадии первичной очистки практически, не отличаются. После флотации размер гранул значительно снижается."
   ]
  },
  {
   "cell_type": "markdown",
   "metadata": {},
   "source": [
    "### Cуммарная концентрацию всех веществ на разных стадиях"
   ]
  },
  {
   "cell_type": "markdown",
   "metadata": {},
   "source": [
    "Посчитаем суммарную концентрацию всех веществ для разных этапов и запишем в отдельные столбцы. Предварительно, избавимся от аномальных (нулевых) значений."
   ]
  },
  {
   "cell_type": "markdown",
   "metadata": {},
   "source": [
    "#### В сырье"
   ]
  },
  {
   "cell_type": "code",
   "execution_count": 36,
   "metadata": {},
   "outputs": [],
   "source": [
    "df_train['total_concentrate_rougher_input'] = df_train[['rougher.input.feed_au', 'rougher.input.feed_ag', 'rougher.input.feed_pb', 'rougher.input.feed_sol']].sum(axis='columns')"
   ]
  },
  {
   "cell_type": "markdown",
   "metadata": {},
   "source": [
    "#### В черновом концентрате"
   ]
  },
  {
   "cell_type": "code",
   "execution_count": 37,
   "metadata": {},
   "outputs": [],
   "source": [
    "df_train['total_concentrate_rougher_output'] = df_train[['rougher.output.concentrate_au', 'rougher.output.concentrate_ag', 'rougher.output.concentrate_pb', 'rougher.output.concentrate_sol']].sum(axis='columns')"
   ]
  },
  {
   "cell_type": "markdown",
   "metadata": {},
   "source": [
    "#### В финальном концентрате"
   ]
  },
  {
   "cell_type": "code",
   "execution_count": 38,
   "metadata": {},
   "outputs": [],
   "source": [
    "df_train['total_concentrate_final_output'] = df_train[['final.output.concentrate_au', 'final.output.concentrate_ag', 'final.output.concentrate_pb', 'final.output.concentrate_sol']].sum(axis='columns')"
   ]
  },
  {
   "cell_type": "markdown",
   "metadata": {},
   "source": [
    "Построим график суммарной концентрации всех веществ на разных стадиях: в сырье, в черновом и финальном концентратах."
   ]
  },
  {
   "cell_type": "code",
   "execution_count": 39,
   "metadata": {
    "collapsed": true
   },
   "outputs": [
    {
     "data": {
      "image/png": "[encoded data removed]",
      "text/plain": [
       "<Figure size 1080x720 with 1 Axes>"
      ]
     },
     "metadata": {
      "needs_background": "light"
     },
     "output_type": "display_data"
    }
   ],
   "source": [
    "plt.figure(figsize=[15, 10])\n",
    "plt.title('Концентрации всех веществ на разных стадиях', fontsize=20)\n",
    "\n",
    "sns.set_style('darkgrid')\n",
    "sns.histplot(df_train['total_concentrate_rougher_input'], color='b', label='Концентрация в сырье')\n",
    "sns.histplot(df_train['total_concentrate_rougher_output'], color='g', label='Концентрация в черновом концентрате')\n",
    "sns.histplot(df_train['total_concentrate_final_output'], color='r', label='Концентрация в финальном концентрате')\n",
    "\n",
    "plt.xlabel('Концентрация веществ', fontsize=15)\n",
    "plt.ylabel('Количество наблюдений', fontsize=15)\n",
    "\n",
    "plt.legend(fontsize=13)\n",
    "plt.show()"
   ]
  },
  {
   "cell_type": "markdown",
   "metadata": {},
   "source": [
    "После флотации концентрация всех веществ увеличивается, но диапазон распределения не меняется - происходит обогащение руды. \n",
    "\n",
    "На финальном этапе - концентрация уменьшается,а диапазон распределения уменьшается"
   ]
  },
  {
   "cell_type": "markdown",
   "metadata": {},
   "source": [
    "Теперь можно удалить столбцы с суммарной концентрацией веществ, которые мы создавали. Для обучения они не пригодятся"
   ]
  },
  {
   "cell_type": "code",
   "execution_count": 40,
   "metadata": {},
   "outputs": [],
   "source": [
    "df_train = df_train.drop(['total_concentrate_final_output', 'total_concentrate_rougher_input', 'total_concentrate_rougher_output'], axis=1)"
   ]
  },
  {
   "cell_type": "markdown",
   "metadata": {},
   "source": [
    "## Обучение и проверка модели"
   ]
  },
  {
   "cell_type": "markdown",
   "metadata": {},
   "source": [
    "### Подготовка данных"
   ]
  },
  {
   "cell_type": "markdown",
   "metadata": {},
   "source": [
    "Для начала, уравняем количество признаков в обучающей и тестовой выборках, чтобы извежать подглядывания."
   ]
  },
  {
   "cell_type": "code",
   "execution_count": 41,
   "metadata": {},
   "outputs": [],
   "source": [
    "no_in_df_test = set(df_train.columns) - set(df_test.columns)"
   ]
  },
  {
   "cell_type": "code",
   "execution_count": 42,
   "metadata": {
    "scrolled": true
   },
   "outputs": [
    {
     "data": {
      "text/plain": [
       "(13716, 54)"
      ]
     },
     "execution_count": 42,
     "metadata": {},
     "output_type": "execute_result"
    }
   ],
   "source": [
    "df_train = df_train.drop(columns=no_in_df_test, axis=1)\n",
    "df_train.shape"
   ]
  },
  {
   "cell_type": "markdown",
   "metadata": {},
   "source": [
    "Теперь разобъём обучающую и тестовую выборки на target и features.\n",
    "\n",
    "В нашем случае, нужно спрогнозировать сразу две величины: `rougher.output.recovery` и `final.output.recovery`. Поэтому, и таргета будет по два. features, при этом, оставим общие (без признаков 'rougher.output.recovery' и 'final.output.recovery', т.к. они сильно коррелируют)."
   ]
  },
  {
   "cell_type": "code",
   "execution_count": 43,
   "metadata": {},
   "outputs": [],
   "source": [
    "features_train = df_train.drop(['rougher.output.recovery', 'final.output.recovery'], axis=1)\n",
    "target_train_rougher = df_train['rougher.output.recovery']\n",
    "target_train_final = df_train['final.output.recovery']\n",
    "\n",
    "features_test = df_test.drop(['rougher.output.recovery', 'final.output.recovery'], axis=1)\n",
    "target_test_rougher = df_test['rougher.output.recovery']\n",
    "target_test_final = df_test['final.output.recovery']"
   ]
  },
  {
   "cell_type": "markdown",
   "metadata": {},
   "source": [
    "#### Масштабирование данных"
   ]
  },
  {
   "cell_type": "code",
   "execution_count": 44,
   "metadata": {},
   "outputs": [],
   "source": [
    "numeric = features_train.columns"
   ]
  },
  {
   "cell_type": "code",
   "execution_count": 45,
   "metadata": {},
   "outputs": [],
   "source": [
    "scaler = StandardScaler()\n",
    "scaler.fit(features_train)\n",
    "\n",
    "features_train[numeric] = scaler.transform(features_train[numeric])\n",
    "features_test[numeric] = scaler.transform(features_test[numeric])"
   ]
  },
  {
   "cell_type": "markdown",
   "metadata": {},
   "source": [
    "#### sMAPE."
   ]
  },
  {
   "cell_type": "markdown",
   "metadata": {},
   "source": [
    "Напишем функцию для вычисления sMAPE. \n",
    "\n",
    "**sMAPE = (1/n) * Σ(|прогноз – фактический| / ((|прогноз| + |фактический|)/2) * 100%**"
   ]
  },
  {
   "cell_type": "code",
   "execution_count": 47,
   "metadata": {},
   "outputs": [],
   "source": [
    "def smape(target, predicted):\n",
    "    smape = (1 / len(target)) * (np.sum((np.abs(target - predicted)) / ( (np.abs(target) + np.abs(predicted)) / 2))) * 100\n",
    "    return smape"
   ]
  },
  {
   "cell_type": "code",
   "execution_count": 48,
   "metadata": {},
   "outputs": [],
   "source": [
    "scorer = make_scorer(smape, greater_is_better=False)"
   ]
  },
  {
   "cell_type": "markdown",
   "metadata": {},
   "source": [
    "Расчитаем итоговый sMAPE. \n",
    "\n",
    "**Итоговое sMAPE = 25% * sMAPE(rougher) + 75% * sMAPE(final)**"
   ]
  },
  {
   "cell_type": "code",
   "execution_count": 49,
   "metadata": {},
   "outputs": [],
   "source": [
    "def final_smape(smape_rougher, smape_final):\n",
    "    final_smape = 0.25 * smape_rougher + 0.75 * smape_final\n",
    "    return final_smape"
   ]
  },
  {
   "cell_type": "markdown",
   "metadata": {},
   "source": [
    "#### Кросс-валидация"
   ]
  },
  {
   "cell_type": "markdown",
   "metadata": {},
   "source": [
    "Создадим функцию для проверки качества модели кросс-валидацией"
   ]
  },
  {
   "cell_type": "code",
   "execution_count": 50,
   "metadata": {},
   "outputs": [],
   "source": [
    "def cross_val(model, features, target):\n",
    "    score = cross_val_score(model, features, target, scoring=make_scorer(smape, greater_is_better=True), cv=5, n_jobs=-1)\n",
    "    final_score = np.mean(score)\n",
    "    return final_score"
   ]
  },
  {
   "cell_type": "markdown",
   "metadata": {},
   "source": [
    "### Обучение"
   ]
  },
  {
   "cell_type": "markdown",
   "metadata": {},
   "source": [
    "Рассмотрим модели: DecisionTreeRegressor, RandomForestRegressor и LinearRegression.\n",
    "Оценим их качество кросс-валидацией."
   ]
  },
  {
   "cell_type": "markdown",
   "metadata": {},
   "source": [
    "#### DecisionTreeRegressor"
   ]
  },
  {
   "cell_type": "markdown",
   "metadata": {},
   "source": [
    "Подберем наилучшие параметры для DecisionTreeRegressor и обучим модели"
   ]
  },
  {
   "cell_type": "code",
   "execution_count": 56,
   "metadata": {},
   "outputs": [],
   "source": [
    "param_grid = {'max_depth': range (1,10)}"
   ]
  },
  {
   "cell_type": "markdown",
   "metadata": {},
   "source": [
    "Параметры DecisionTreeRegressor для чернового концентрата"
   ]
  },
  {
   "cell_type": "code",
   "execution_count": 57,
   "metadata": {},
   "outputs": [
    {
     "data": {
      "text/plain": [
       "{'max_depth': 4}"
      ]
     },
     "execution_count": 57,
     "metadata": {},
     "output_type": "execute_result"
    }
   ],
   "source": [
    "dtr_rougher = DecisionTreeRegressor()\n",
    "grid_rougher = GridSearchCV(dtr_rougher, param_grid, scoring=scorer, cv=5)\n",
    "grid_rougher.fit(features_train, target_train_rougher)\n",
    "grid_rougher.best_params_"
   ]
  },
  {
   "cell_type": "markdown",
   "metadata": {},
   "source": [
    "Параметры DecisionTreeRegressor для финального концентрата"
   ]
  },
  {
   "cell_type": "code",
   "execution_count": 58,
   "metadata": {},
   "outputs": [
    {
     "data": {
      "text/plain": [
       "{'max_depth': 3}"
      ]
     },
     "execution_count": 58,
     "metadata": {},
     "output_type": "execute_result"
    }
   ],
   "source": [
    "dtr_final = DecisionTreeRegressor()\n",
    "grid_final = GridSearchCV(dtr_final, param_grid, scoring=scorer, cv=5)\n",
    "grid_final.fit(features_train, target_train_final)\n",
    "grid_final.best_params_"
   ]
  },
  {
   "cell_type": "code",
   "execution_count": 47,
   "metadata": {},
   "outputs": [
    {
     "data": {
      "text/plain": [
       "8.89319030701713"
      ]
     },
     "execution_count": 47,
     "metadata": {},
     "output_type": "execute_result"
    }
   ],
   "source": [
    "model_dtr_rougher = DecisionTreeRegressor(max_depth=4, random_state=STATE)\n",
    "smape_dtr_rougher = cross_val(model_dtr_rougher, features_train, target_train_rougher)\n",
    "\n",
    "model_dtr_final = DecisionTreeRegressor(max_depth=3, random_state=state)\n",
    "smape_dtr_final = cross_val(model_dtr_final, features_train, target_train_final)\n",
    "\n",
    "final_smape(smape_dtr_rougher, smape_dtr_final)"
   ]
  },
  {
   "cell_type": "markdown",
   "metadata": {},
   "source": [
    "#### RandomForestRegressor"
   ]
  },
  {
   "cell_type": "code",
   "execution_count": 59,
   "metadata": {},
   "outputs": [],
   "source": [
    "param_grid = {'n_estimators': range(10, 51, 10),'max_depth': range(1, 8)}"
   ]
  },
  {
   "cell_type": "markdown",
   "metadata": {},
   "source": [
    "Параметры RandomForestRegressor для чернового концентрата"
   ]
  },
  {
   "cell_type": "code",
   "execution_count": 60,
   "metadata": {},
   "outputs": [
    {
     "data": {
      "text/plain": [
       "{'max_depth': 4, 'n_estimators': 30}"
      ]
     },
     "execution_count": 60,
     "metadata": {},
     "output_type": "execute_result"
    }
   ],
   "source": [
    "rfr_rougher = RandomForestRegressor()\n",
    "grid_rougher = GridSearchCV(rfr_rougher, param_grid, scoring=scorer, cv=5)\n",
    "grid_rougher.fit(features_train, target_train_rougher)\n",
    "grid_rougher.best_params_"
   ]
  },
  {
   "cell_type": "markdown",
   "metadata": {},
   "source": [
    "Параметры RandomForestRegressor для финального концентрата"
   ]
  },
  {
   "cell_type": "code",
   "execution_count": 61,
   "metadata": {},
   "outputs": [
    {
     "data": {
      "text/plain": [
       "{'max_depth': 4, 'n_estimators': 40}"
      ]
     },
     "execution_count": 61,
     "metadata": {},
     "output_type": "execute_result"
    }
   ],
   "source": [
    "rfr_final = RandomForestRegressor()\n",
    "grid_final = GridSearchCV(rfr_final, param_grid, scoring=scorer, cv=5)\n",
    "grid_final.fit(features_train, target_train_final)\n",
    "grid_final.best_params_"
   ]
  },
  {
   "cell_type": "code",
   "execution_count": 63,
   "metadata": {},
   "outputs": [
    {
     "data": {
      "text/plain": [
       "8.418400420643911"
      ]
     },
     "execution_count": 63,
     "metadata": {},
     "output_type": "execute_result"
    }
   ],
   "source": [
    "model_rfr_rougher = RandomForestRegressor(max_depth=4, n_estimators=30, random_state=STATE)\n",
    "smape_rfr_rougher = cross_val(model_rfr_rougher, features_train, target_train_rougher)\n",
    "\n",
    "model_rfr_final = RandomForestRegressor(max_depth=4, n_estimators=40, random_state=STATE)\n",
    "smape_rfr_final = cross_val(model_rfr_final, features_train, target_train_final)\n",
    "\n",
    "final_smape(smape_rfr_rougher, smape_rfr_final)"
   ]
  },
  {
   "cell_type": "markdown",
   "metadata": {},
   "source": [
    "#### LinearRegression"
   ]
  },
  {
   "cell_type": "code",
   "execution_count": 64,
   "metadata": {},
   "outputs": [
    {
     "data": {
      "text/plain": [
       "10.023124524855438"
      ]
     },
     "execution_count": 64,
     "metadata": {},
     "output_type": "execute_result"
    }
   ],
   "source": [
    "model_lr_rougher = LinearRegression()\n",
    "smape_lr_rougher = cross_val(model_lr_rougher, features_train, target_train_rougher)\n",
    "\n",
    "model_lr_final = LinearRegression()\n",
    "smape_lr_final = cross_val(model_lr_final, features_train, target_train_final)\n",
    "\n",
    "final_smape(smape_lr_rougher, smape_lr_final)"
   ]
  },
  {
   "cell_type": "markdown",
   "metadata": {},
   "source": [
    "Наилучший показатель sMAPE у модели RandomForestRegressor (8.42). Обучим ее и проверим на тестовой выборке."
   ]
  },
  {
   "cell_type": "markdown",
   "metadata": {},
   "source": [
    "Проверим модель на адекватность"
   ]
  },
  {
   "cell_type": "markdown",
   "metadata": {},
   "source": [
    "#### DummyRegressor"
   ]
  },
  {
   "cell_type": "code",
   "execution_count": 65,
   "metadata": {},
   "outputs": [
    {
     "data": {
      "text/plain": [
       "9.827613822597584"
      ]
     },
     "execution_count": 65,
     "metadata": {},
     "output_type": "execute_result"
    }
   ],
   "source": [
    "dummy_rougher = DummyRegressor()\n",
    "dummy_final = DummyRegressor()\n",
    "\n",
    "dummy_rougher.fit(features_train, target_train_rougher)\n",
    "dummy_final.fit(features_train, target_train_final)\n",
    "\n",
    "dummy_predicted_rougher = dummy_rougher.predict(features_test)\n",
    "dummy_predicted_final = dummy_final.predict(features_test)\n",
    "\n",
    "dummy_smape_rougher = smape(target_test_rougher, dummy_predicted_rougher)\n",
    "dummy_smape_final = smape(target_test_final, dummy_predicted_final)\n",
    "\n",
    "final_smape(dummy_smape_rougher, dummy_smape_final)"
   ]
  },
  {
   "cell_type": "markdown",
   "metadata": {},
   "source": [
    "Показатель sMAPE у модели RandomForestRegressor лучше случайного DummyRegressor. Модель адекватна."
   ]
  },
  {
   "cell_type": "markdown",
   "metadata": {},
   "source": [
    "#### Test"
   ]
  },
  {
   "cell_type": "code",
   "execution_count": 66,
   "metadata": {},
   "outputs": [
    {
     "data": {
      "text/plain": [
       "9.319384646790272"
      ]
     },
     "execution_count": 66,
     "metadata": {},
     "output_type": "execute_result"
    }
   ],
   "source": [
    "model_rougher = RandomForestRegressor(max_depth=4, n_estimators=30, random_state=STATE)\n",
    "model_rougher.fit(features_train, target_train_rougher)\n",
    "predicted_rougher = model_rougher.predict(features_test)\n",
    "\n",
    "model_final = RandomForestRegressor(max_depth=4, n_estimators=40, random_state=STATE)\n",
    "model_final.fit(features_train, target_train_final)\n",
    "predicted_final = model_final.predict(features_test)\n",
    "\n",
    "smape_rougher = smape(target_test_rougher, predicted_rougher)\n",
    "smape_final = smape(target_test_final, predicted_final)\n",
    "final_smape(smape_rougher, smape_final)"
   ]
  },
  {
   "cell_type": "markdown",
   "metadata": {},
   "source": [
    "## Общий вывод"
   ]
  },
  {
   "cell_type": "markdown",
   "metadata": {},
   "source": [
    "- Подготовили данные:\n",
    "    - Обработаны пропуски\n",
    "    - Проверена формула вычисления эффективности обогащения\n",
    "    - Проанализированы признаки, недоступные в тестовой выборке. Добавили 2 целевых признака `rougher.output.recovery` и `final.output.recovery`, остальные могут негативно сказаться на модели.\n",
    "    - Сделан вывод о необходимости масштабирования признаков перед обучением.\n",
    "    \n",
    "- Проанализировали зменение концентрации металлов (Au, Ag, Pb) на различных этапах очистки:\n",
    "    - Концентрация золота на каждом этапе заметно увеличивается\n",
    "    - Концентрация серебра на этапе флотации увеличивается, затем начинает снижаться, на дальнейших этапах. Серебро на этапе флотации, обогащается, как и золото.\n",
    "    - После этапа флотации, концентрация свинца увеличивается. На дальнейших этапах изменения незначительны.\n",
    "    - Концентрация остальных примесей на каждом этапе заметно снижается, т.к. в этом и заключается цель технологического процесса - увеличить концентрацию драгоценных металлов\n",
    "    - Сразу избавились от аномальных нулевых значений на всех технологических этапах.\n",
    "\n",
    "- Произведено сравнение распределения размеров гранул сырья:\n",
    "    - На стадии флотации распределение размеров гранул похожи, но в тестовой выборке, преобладают гранулы размером чуть меньше 50(предположительно, мм), а в обучающей выборке - немного больше 50 мм. Будем считать эти отличия незначительными.\n",
    "    - На стадии первичной очистки распределение размеров гранул на стадии первичной очистки практически, не отличаются. После флотации размер гранул значительно снижается.\n",
    "\n",
    "- Изучили суммарную концентрацию всех веществ на разных стадиях:\n",
    "    - После флотации концентрация всех веществ увеличивается, но диапазон распределения не меняется - происходит обогащение руды. На финальном этапе - концентрация уменьшается,а диапазон распределения уменьшается.\n",
    "    \n",
    "- Подготовили данные перед обучением:\n",
    "    - Произвели стандартизацию признаков.\n",
    "    - Подготовили функции для расчета значения sMAPE и итогового sMAPE.\n",
    "    - Написали функцию для проверки качества модели кросс-валидацией.\n",
    "    \n",
    "- Обучение:\n",
    "    - Рассмотрели модели: DecisionTreeRegressor, RandomForestRegressor и LinearRegression. Оценили их качество кросс-валидацией.\n",
    "    - Наилучший результат показала модель RandomForestRegressor с гиперпараметрами: max_depth=4, n_estimators=30 для чернового концентрата и max_depth=4, n_estimators=40 для финального концентрата. Итоговый sMAPE = 8.42\n",
    "    - Модель проверена на адекватность, с помощью DummyRegressor. sMAPE случайной модели = 9.8, что значительно вышее выбранной нами модели.\n",
    "    - Модель RandomForestRegressor проверена на тестовой выборке. Итоговый sMAPE = 9.20\n",
    "\n",
    "- В ИТОГЕ: Подготовлен прототип модели машинного обучения для «Цифры», который должен помочь оптимизировать производство, чтобы не запускать предприятие с убыточными характеристиками."
   ]
  }
 ],
 "metadata": {
  "ExecuteTimeLog": [
   {
    "duration": 1617,
    "start_time": "2022-11-14T09:03:47.681Z"
   },
   {
    "duration": 3972,
    "start_time": "2022-11-14T09:03:49.300Z"
   },
   {
    "duration": 830,
    "start_time": "2022-11-14T09:05:00.582Z"
   },
   {
    "duration": 74,
    "start_time": "2022-11-14T09:05:01.414Z"
   },
   {
    "duration": 4,
    "start_time": "2022-11-14T09:08:39.720Z"
   },
   {
    "duration": 722,
    "start_time": "2022-11-14T09:08:40.079Z"
   },
   {
    "duration": 173,
    "start_time": "2022-11-14T09:08:40.803Z"
   },
   {
    "duration": 4,
    "start_time": "2022-11-14T09:09:24.512Z"
   },
   {
    "duration": 783,
    "start_time": "2022-11-14T09:09:24.794Z"
   },
   {
    "duration": 176,
    "start_time": "2022-11-14T09:09:25.579Z"
   },
   {
    "duration": 36,
    "start_time": "2022-11-14T09:32:58.393Z"
   },
   {
    "duration": 273,
    "start_time": "2022-11-14T10:01:20.295Z"
   },
   {
    "duration": 159,
    "start_time": "2022-11-14T10:03:49.018Z"
   },
   {
    "duration": 270,
    "start_time": "2022-11-14T10:03:50.115Z"
   },
   {
    "duration": 3,
    "start_time": "2022-11-14T10:48:45.316Z"
   },
   {
    "duration": 119,
    "start_time": "2022-11-14T10:49:49.072Z"
   },
   {
    "duration": 3,
    "start_time": "2022-11-14T10:50:02.441Z"
   },
   {
    "duration": 9,
    "start_time": "2022-11-14T10:50:02.970Z"
   },
   {
    "duration": 3,
    "start_time": "2022-11-14T10:50:50.215Z"
   },
   {
    "duration": 7,
    "start_time": "2022-11-14T10:50:50.835Z"
   },
   {
    "duration": 8,
    "start_time": "2022-11-14T10:51:09.167Z"
   },
   {
    "duration": 7,
    "start_time": "2022-11-14T10:51:28.109Z"
   },
   {
    "duration": 7,
    "start_time": "2022-11-14T10:51:58.775Z"
   },
   {
    "duration": 50,
    "start_time": "2022-11-14T10:55:54.633Z"
   },
   {
    "duration": 4,
    "start_time": "2022-11-14T10:55:57.767Z"
   },
   {
    "duration": 4,
    "start_time": "2022-11-14T10:56:13.659Z"
   },
   {
    "duration": 4,
    "start_time": "2022-11-14T10:56:14.196Z"
   },
   {
    "duration": 10,
    "start_time": "2022-11-14T10:56:27.557Z"
   },
   {
    "duration": 5,
    "start_time": "2022-11-14T10:56:40.092Z"
   },
   {
    "duration": 805,
    "start_time": "2022-11-14T11:01:55.311Z"
   },
   {
    "duration": 1260,
    "start_time": "2022-11-14T11:03:06.364Z"
   },
   {
    "duration": 668,
    "start_time": "2022-11-14T11:03:07.626Z"
   },
   {
    "duration": 162,
    "start_time": "2022-11-14T11:03:08.295Z"
   },
   {
    "duration": 36,
    "start_time": "2022-11-14T11:03:08.460Z"
   },
   {
    "duration": 292,
    "start_time": "2022-11-14T11:03:08.497Z"
   },
   {
    "duration": 158,
    "start_time": "2022-11-14T11:03:08.791Z"
   },
   {
    "duration": 330,
    "start_time": "2022-11-14T11:03:08.950Z"
   },
   {
    "duration": 865,
    "start_time": "2022-11-14T11:03:09.282Z"
   },
   {
    "duration": 0,
    "start_time": "2022-11-14T11:03:10.149Z"
   },
   {
    "duration": 0,
    "start_time": "2022-11-14T11:03:10.150Z"
   },
   {
    "duration": 0,
    "start_time": "2022-11-14T11:03:10.152Z"
   },
   {
    "duration": 9,
    "start_time": "2022-11-14T11:08:53.325Z"
   },
   {
    "duration": 1222,
    "start_time": "2022-11-14T11:09:19.657Z"
   },
   {
    "duration": 11,
    "start_time": "2022-11-14T11:10:52.958Z"
   },
   {
    "duration": 3,
    "start_time": "2022-11-14T11:15:29.969Z"
   },
   {
    "duration": 4,
    "start_time": "2022-11-14T11:15:57.104Z"
   },
   {
    "duration": 4,
    "start_time": "2022-11-14T11:16:06.363Z"
   },
   {
    "duration": 5,
    "start_time": "2022-11-14T11:16:06.709Z"
   },
   {
    "duration": 9,
    "start_time": "2022-11-14T11:22:51.319Z"
   },
   {
    "duration": 5,
    "start_time": "2022-11-14T11:22:55.330Z"
   },
   {
    "duration": 4,
    "start_time": "2022-11-14T11:26:01.477Z"
   },
   {
    "duration": 6,
    "start_time": "2022-11-14T11:27:17.463Z"
   },
   {
    "duration": 22,
    "start_time": "2022-11-14T12:03:11.562Z"
   },
   {
    "duration": 18,
    "start_time": "2022-11-14T12:04:00.854Z"
   },
   {
    "duration": 5,
    "start_time": "2022-11-14T12:07:49.253Z"
   },
   {
    "duration": 3,
    "start_time": "2022-11-14T12:48:43.936Z"
   },
   {
    "duration": 128,
    "start_time": "2022-11-14T12:48:46.783Z"
   },
   {
    "duration": 20,
    "start_time": "2022-11-14T12:49:08.828Z"
   },
   {
    "duration": 90,
    "start_time": "2022-11-14T12:49:09.400Z"
   },
   {
    "duration": 25,
    "start_time": "2022-11-14T14:04:10.497Z"
   },
   {
    "duration": 22,
    "start_time": "2022-11-14T14:09:29.743Z"
   },
   {
    "duration": 4,
    "start_time": "2022-11-14T14:10:28.133Z"
   },
   {
    "duration": 3,
    "start_time": "2022-11-14T14:11:49.594Z"
   },
   {
    "duration": 15,
    "start_time": "2022-11-14T14:13:43.953Z"
   },
   {
    "duration": 35,
    "start_time": "2022-11-14T14:15:19.910Z"
   },
   {
    "duration": 243,
    "start_time": "2022-11-14T14:17:04.447Z"
   },
   {
    "duration": 145,
    "start_time": "2022-11-14T14:17:05.256Z"
   },
   {
    "duration": 266,
    "start_time": "2022-11-14T14:17:05.570Z"
   },
   {
    "duration": 4,
    "start_time": "2022-11-14T14:18:03.831Z"
   },
   {
    "duration": 694,
    "start_time": "2022-11-14T14:18:03.837Z"
   },
   {
    "duration": 145,
    "start_time": "2022-11-14T14:18:04.532Z"
   },
   {
    "duration": 34,
    "start_time": "2022-11-14T14:18:04.678Z"
   },
   {
    "duration": 22,
    "start_time": "2022-11-14T14:18:04.731Z"
   },
   {
    "duration": 17,
    "start_time": "2022-11-14T14:18:04.755Z"
   },
   {
    "duration": 64,
    "start_time": "2022-11-14T14:18:04.773Z"
   },
   {
    "duration": 304,
    "start_time": "2022-11-14T14:18:04.839Z"
   },
   {
    "duration": 168,
    "start_time": "2022-11-14T14:18:05.145Z"
   },
   {
    "duration": 268,
    "start_time": "2022-11-14T14:18:05.314Z"
   },
   {
    "duration": 125,
    "start_time": "2022-11-14T14:18:05.585Z"
   },
   {
    "duration": 29,
    "start_time": "2022-11-14T14:18:05.711Z"
   },
   {
    "duration": 89,
    "start_time": "2022-11-14T14:18:05.741Z"
   },
   {
    "duration": 3,
    "start_time": "2022-11-14T14:18:05.832Z"
   },
   {
    "duration": 14,
    "start_time": "2022-11-14T14:18:05.836Z"
   },
   {
    "duration": 9,
    "start_time": "2022-11-14T14:18:05.851Z"
   },
   {
    "duration": 8,
    "start_time": "2022-11-14T14:18:05.862Z"
   },
   {
    "duration": 10,
    "start_time": "2022-11-14T14:18:05.871Z"
   },
   {
    "duration": 9,
    "start_time": "2022-11-14T14:18:05.882Z"
   },
   {
    "duration": 11,
    "start_time": "2022-11-14T14:18:05.892Z"
   },
   {
    "duration": 26,
    "start_time": "2022-11-14T14:18:05.904Z"
   },
   {
    "duration": 5,
    "start_time": "2022-11-14T14:19:18.785Z"
   },
   {
    "duration": 4,
    "start_time": "2022-11-14T14:21:27.244Z"
   },
   {
    "duration": 15,
    "start_time": "2022-11-14T14:24:00.341Z"
   },
   {
    "duration": 4,
    "start_time": "2022-11-14T14:24:43.423Z"
   },
   {
    "duration": 14,
    "start_time": "2022-11-14T14:28:38.241Z"
   },
   {
    "duration": 1406,
    "start_time": "2022-11-14T14:29:16.841Z"
   },
   {
    "duration": 722,
    "start_time": "2022-11-14T14:29:18.249Z"
   },
   {
    "duration": 215,
    "start_time": "2022-11-14T14:29:18.973Z"
   },
   {
    "duration": 74,
    "start_time": "2022-11-14T14:29:19.191Z"
   },
   {
    "duration": 39,
    "start_time": "2022-11-14T14:29:19.267Z"
   },
   {
    "duration": 40,
    "start_time": "2022-11-14T14:29:19.308Z"
   },
   {
    "duration": 55,
    "start_time": "2022-11-14T14:29:19.350Z"
   },
   {
    "duration": 322,
    "start_time": "2022-11-14T14:29:19.407Z"
   },
   {
    "duration": 173,
    "start_time": "2022-11-14T14:29:19.731Z"
   },
   {
    "duration": 287,
    "start_time": "2022-11-14T14:29:19.907Z"
   },
   {
    "duration": 114,
    "start_time": "2022-11-14T14:29:20.195Z"
   },
   {
    "duration": 27,
    "start_time": "2022-11-14T14:29:20.311Z"
   },
   {
    "duration": 93,
    "start_time": "2022-11-14T14:29:20.339Z"
   },
   {
    "duration": 3,
    "start_time": "2022-11-14T14:29:20.433Z"
   },
   {
    "duration": 21,
    "start_time": "2022-11-14T14:29:20.437Z"
   },
   {
    "duration": 5,
    "start_time": "2022-11-14T14:29:20.460Z"
   },
   {
    "duration": 22,
    "start_time": "2022-11-14T14:29:20.466Z"
   },
   {
    "duration": 20,
    "start_time": "2022-11-14T14:29:20.489Z"
   },
   {
    "duration": 19,
    "start_time": "2022-11-14T14:29:20.510Z"
   },
   {
    "duration": 24,
    "start_time": "2022-11-14T14:29:20.530Z"
   },
   {
    "duration": 6,
    "start_time": "2022-11-14T14:29:20.556Z"
   },
   {
    "duration": 30,
    "start_time": "2022-11-14T14:29:20.564Z"
   },
   {
    "duration": 963,
    "start_time": "2022-11-14T15:12:26.005Z"
   },
   {
    "duration": 695,
    "start_time": "2022-11-14T15:13:11.604Z"
   },
   {
    "duration": 623,
    "start_time": "2022-11-14T15:13:28.507Z"
   },
   {
    "duration": 819,
    "start_time": "2022-11-14T15:13:37.102Z"
   },
   {
    "duration": 656,
    "start_time": "2022-11-14T15:13:45.436Z"
   },
   {
    "duration": 599,
    "start_time": "2022-11-14T15:13:52.176Z"
   },
   {
    "duration": 787,
    "start_time": "2022-11-14T15:13:56.751Z"
   },
   {
    "duration": 612,
    "start_time": "2022-11-14T15:14:07.965Z"
   },
   {
    "duration": 706,
    "start_time": "2022-11-14T15:14:17.818Z"
   },
   {
    "duration": 632,
    "start_time": "2022-11-14T15:14:24.138Z"
   },
   {
    "duration": 831,
    "start_time": "2022-11-14T15:15:58.030Z"
   },
   {
    "duration": 707,
    "start_time": "2022-11-14T15:17:04.217Z"
   },
   {
    "duration": 822,
    "start_time": "2022-11-14T15:21:54.814Z"
   },
   {
    "duration": 625,
    "start_time": "2022-11-14T15:22:08.320Z"
   },
   {
    "duration": 816,
    "start_time": "2022-11-14T15:25:58.732Z"
   },
   {
    "duration": 909,
    "start_time": "2022-11-14T15:26:25.767Z"
   },
   {
    "duration": 690,
    "start_time": "2022-11-14T15:26:30.398Z"
   },
   {
    "duration": 782,
    "start_time": "2022-11-14T15:26:42.211Z"
   },
   {
    "duration": 785,
    "start_time": "2022-11-14T15:28:30.886Z"
   },
   {
    "duration": 650,
    "start_time": "2022-11-14T15:28:52.640Z"
   },
   {
    "duration": 815,
    "start_time": "2022-11-14T15:29:14.737Z"
   },
   {
    "duration": 676,
    "start_time": "2022-11-14T15:29:24.076Z"
   },
   {
    "duration": 782,
    "start_time": "2022-11-14T15:29:38.062Z"
   },
   {
    "duration": 678,
    "start_time": "2022-11-14T15:30:33.513Z"
   },
   {
    "duration": 786,
    "start_time": "2022-11-14T15:30:52.072Z"
   },
   {
    "duration": 674,
    "start_time": "2022-11-14T15:31:08.961Z"
   },
   {
    "duration": 814,
    "start_time": "2022-11-14T15:31:24.812Z"
   },
   {
    "duration": 623,
    "start_time": "2022-11-14T15:31:30.388Z"
   },
   {
    "duration": 733,
    "start_time": "2022-11-14T15:31:45.737Z"
   },
   {
    "duration": 632,
    "start_time": "2022-11-14T15:32:09.702Z"
   },
   {
    "duration": 618,
    "start_time": "2022-11-14T15:32:22.090Z"
   },
   {
    "duration": 919,
    "start_time": "2022-11-14T15:35:10.150Z"
   },
   {
    "duration": 679,
    "start_time": "2022-11-14T15:35:18.252Z"
   },
   {
    "duration": 825,
    "start_time": "2022-11-14T15:35:21.565Z"
   },
   {
    "duration": 719,
    "start_time": "2022-11-14T15:37:04.705Z"
   },
   {
    "duration": 843,
    "start_time": "2022-11-14T15:37:05.919Z"
   },
   {
    "duration": 706,
    "start_time": "2022-11-14T15:37:06.764Z"
   },
   {
    "duration": 838,
    "start_time": "2022-11-14T15:37:24.455Z"
   },
   {
    "duration": 724,
    "start_time": "2022-11-14T15:37:37.661Z"
   },
   {
    "duration": 841,
    "start_time": "2022-11-14T15:37:43.132Z"
   },
   {
    "duration": 638,
    "start_time": "2022-11-14T15:37:52.062Z"
   },
   {
    "duration": 708,
    "start_time": "2022-11-14T15:38:00.359Z"
   },
   {
    "duration": 869,
    "start_time": "2022-11-14T15:39:30.133Z"
   },
   {
    "duration": 681,
    "start_time": "2022-11-14T15:39:50.874Z"
   },
   {
    "duration": 850,
    "start_time": "2022-11-14T15:40:01.061Z"
   },
   {
    "duration": 627,
    "start_time": "2022-11-14T15:40:15.372Z"
   },
   {
    "duration": 739,
    "start_time": "2022-11-14T15:40:21.265Z"
   },
   {
    "duration": 646,
    "start_time": "2022-11-14T15:40:29.346Z"
   },
   {
    "duration": 570,
    "start_time": "2022-11-14T15:51:19.596Z"
   },
   {
    "duration": 797,
    "start_time": "2022-11-14T15:51:36.370Z"
   },
   {
    "duration": 245,
    "start_time": "2022-11-14T15:51:50.949Z"
   },
   {
    "duration": 623,
    "start_time": "2022-11-14T15:51:54.753Z"
   },
   {
    "duration": 52,
    "start_time": "2022-11-14T15:58:31.243Z"
   },
   {
    "duration": 43,
    "start_time": "2022-11-14T15:58:40.958Z"
   },
   {
    "duration": 62,
    "start_time": "2022-11-14T15:58:55.067Z"
   },
   {
    "duration": 43,
    "start_time": "2022-11-14T15:59:05.185Z"
   },
   {
    "duration": 143,
    "start_time": "2022-11-14T15:59:14.128Z"
   },
   {
    "duration": 267,
    "start_time": "2022-11-14T15:59:38.244Z"
   },
   {
    "duration": 176,
    "start_time": "2022-11-14T15:59:52.471Z"
   },
   {
    "duration": 922,
    "start_time": "2022-11-14T16:00:15.545Z"
   },
   {
    "duration": 1063,
    "start_time": "2022-11-14T16:00:32.813Z"
   },
   {
    "duration": 865,
    "start_time": "2022-11-14T16:02:21.812Z"
   },
   {
    "duration": 899,
    "start_time": "2022-11-14T16:02:42.850Z"
   },
   {
    "duration": 879,
    "start_time": "2022-11-14T16:02:51.320Z"
   },
   {
    "duration": 1028,
    "start_time": "2022-11-14T16:03:43.824Z"
   },
   {
    "duration": 575,
    "start_time": "2022-11-14T16:30:39.078Z"
   },
   {
    "duration": 565,
    "start_time": "2022-11-14T16:30:44.783Z"
   },
   {
    "duration": 4,
    "start_time": "2022-11-14T16:31:23.910Z"
   },
   {
    "duration": 585,
    "start_time": "2022-11-14T16:31:31.652Z"
   },
   {
    "duration": 724,
    "start_time": "2022-11-14T16:32:10.890Z"
   },
   {
    "duration": 601,
    "start_time": "2022-11-14T16:32:34.452Z"
   },
   {
    "duration": 615,
    "start_time": "2022-11-14T16:33:00.281Z"
   },
   {
    "duration": 578,
    "start_time": "2022-11-14T16:36:47.315Z"
   },
   {
    "duration": 633,
    "start_time": "2022-11-14T16:37:01.006Z"
   },
   {
    "duration": 733,
    "start_time": "2022-11-14T16:41:27.246Z"
   },
   {
    "duration": 18,
    "start_time": "2022-11-14T17:12:41.656Z"
   },
   {
    "duration": 43,
    "start_time": "2022-11-14T17:21:20.242Z"
   },
   {
    "duration": 18,
    "start_time": "2022-11-14T17:21:30.891Z"
   },
   {
    "duration": 7,
    "start_time": "2022-11-14T17:21:47.486Z"
   },
   {
    "duration": 6,
    "start_time": "2022-11-14T17:22:04.988Z"
   },
   {
    "duration": 5,
    "start_time": "2022-11-14T17:22:14.107Z"
   },
   {
    "duration": 6,
    "start_time": "2022-11-14T17:22:22.154Z"
   },
   {
    "duration": 18,
    "start_time": "2022-11-14T17:22:59.615Z"
   },
   {
    "duration": 30,
    "start_time": "2022-11-14T17:23:05.710Z"
   },
   {
    "duration": 14,
    "start_time": "2022-11-14T17:23:14.086Z"
   },
   {
    "duration": 7,
    "start_time": "2022-11-14T17:23:14.911Z"
   },
   {
    "duration": 14,
    "start_time": "2022-11-14T17:23:17.031Z"
   },
   {
    "duration": 8,
    "start_time": "2022-11-14T17:25:36.450Z"
   },
   {
    "duration": 8,
    "start_time": "2022-11-14T17:31:40.673Z"
   },
   {
    "duration": 7,
    "start_time": "2022-11-14T17:31:41.433Z"
   },
   {
    "duration": 1342,
    "start_time": "2022-11-14T17:33:47.103Z"
   },
   {
    "duration": 837,
    "start_time": "2022-11-14T17:33:48.447Z"
   },
   {
    "duration": 165,
    "start_time": "2022-11-14T17:33:49.286Z"
   },
   {
    "duration": 55,
    "start_time": "2022-11-14T17:33:49.454Z"
   },
   {
    "duration": 41,
    "start_time": "2022-11-14T17:33:49.512Z"
   },
   {
    "duration": 41,
    "start_time": "2022-11-14T17:33:49.554Z"
   },
   {
    "duration": 41,
    "start_time": "2022-11-14T17:33:49.596Z"
   },
   {
    "duration": 271,
    "start_time": "2022-11-14T17:33:49.639Z"
   },
   {
    "duration": 145,
    "start_time": "2022-11-14T17:33:49.911Z"
   },
   {
    "duration": 275,
    "start_time": "2022-11-14T17:33:50.059Z"
   },
   {
    "duration": 118,
    "start_time": "2022-11-14T17:33:50.336Z"
   },
   {
    "duration": 28,
    "start_time": "2022-11-14T17:33:50.455Z"
   },
   {
    "duration": 81,
    "start_time": "2022-11-14T17:33:50.485Z"
   },
   {
    "duration": 9,
    "start_time": "2022-11-14T17:33:50.568Z"
   },
   {
    "duration": 11,
    "start_time": "2022-11-14T17:33:50.579Z"
   },
   {
    "duration": 9,
    "start_time": "2022-11-14T17:33:50.592Z"
   },
   {
    "duration": 13,
    "start_time": "2022-11-14T17:33:50.602Z"
   },
   {
    "duration": 3,
    "start_time": "2022-11-14T17:33:50.617Z"
   },
   {
    "duration": 12,
    "start_time": "2022-11-14T17:33:50.622Z"
   },
   {
    "duration": 15,
    "start_time": "2022-11-14T17:33:50.636Z"
   },
   {
    "duration": 26,
    "start_time": "2022-11-14T17:33:50.652Z"
   },
   {
    "duration": 12,
    "start_time": "2022-11-14T17:33:50.680Z"
   },
   {
    "duration": 791,
    "start_time": "2022-11-14T17:33:50.694Z"
   },
   {
    "duration": 689,
    "start_time": "2022-11-14T17:33:51.487Z"
   },
   {
    "duration": 813,
    "start_time": "2022-11-14T17:33:52.178Z"
   },
   {
    "duration": 740,
    "start_time": "2022-11-14T17:33:52.993Z"
   },
   {
    "duration": 652,
    "start_time": "2022-11-14T17:33:53.735Z"
   },
   {
    "duration": 704,
    "start_time": "2022-11-14T17:33:54.390Z"
   },
   {
    "duration": 2,
    "start_time": "2022-11-14T17:33:55.095Z"
   },
   {
    "duration": 6,
    "start_time": "2022-11-14T17:33:55.099Z"
   },
   {
    "duration": 25,
    "start_time": "2022-11-14T17:33:55.106Z"
   },
   {
    "duration": 5,
    "start_time": "2022-11-14T17:33:55.132Z"
   },
   {
    "duration": 20,
    "start_time": "2022-11-14T17:33:55.138Z"
   },
   {
    "duration": 136,
    "start_time": "2022-11-14T17:33:55.160Z"
   },
   {
    "duration": 0,
    "start_time": "2022-11-14T17:33:55.297Z"
   },
   {
    "duration": 15,
    "start_time": "2022-11-14T17:34:02.756Z"
   },
   {
    "duration": 15,
    "start_time": "2022-11-14T17:34:05.696Z"
   },
   {
    "duration": 13,
    "start_time": "2022-11-14T17:34:42.216Z"
   },
   {
    "duration": 18,
    "start_time": "2022-11-14T17:34:45.724Z"
   },
   {
    "duration": 28,
    "start_time": "2022-11-14T17:34:48.688Z"
   },
   {
    "duration": 7,
    "start_time": "2022-11-14T17:35:47.446Z"
   },
   {
    "duration": 8,
    "start_time": "2022-11-14T17:35:47.931Z"
   },
   {
    "duration": 8,
    "start_time": "2022-11-14T17:39:13.739Z"
   },
   {
    "duration": 8,
    "start_time": "2022-11-14T17:39:14.056Z"
   },
   {
    "duration": 25,
    "start_time": "2022-11-14T17:41:17.134Z"
   },
   {
    "duration": 7,
    "start_time": "2022-11-14T17:41:17.427Z"
   },
   {
    "duration": 815,
    "start_time": "2022-11-14T17:45:57.759Z"
   },
   {
    "duration": 1310,
    "start_time": "2022-11-14T17:46:26.459Z"
   },
   {
    "duration": 665,
    "start_time": "2022-11-14T17:46:27.771Z"
   },
   {
    "duration": 142,
    "start_time": "2022-11-14T17:46:28.438Z"
   },
   {
    "duration": 35,
    "start_time": "2022-11-14T17:46:28.582Z"
   },
   {
    "duration": 28,
    "start_time": "2022-11-14T17:46:28.619Z"
   },
   {
    "duration": 42,
    "start_time": "2022-11-14T17:46:28.649Z"
   },
   {
    "duration": 35,
    "start_time": "2022-11-14T17:46:28.693Z"
   },
   {
    "duration": 248,
    "start_time": "2022-11-14T17:46:28.729Z"
   },
   {
    "duration": 139,
    "start_time": "2022-11-14T17:46:28.978Z"
   },
   {
    "duration": 246,
    "start_time": "2022-11-14T17:46:29.119Z"
   },
   {
    "duration": 112,
    "start_time": "2022-11-14T17:46:29.366Z"
   },
   {
    "duration": 19,
    "start_time": "2022-11-14T17:46:29.479Z"
   },
   {
    "duration": 92,
    "start_time": "2022-11-14T17:46:29.499Z"
   },
   {
    "duration": 3,
    "start_time": "2022-11-14T17:46:29.593Z"
   },
   {
    "duration": 18,
    "start_time": "2022-11-14T17:46:29.597Z"
   },
   {
    "duration": 7,
    "start_time": "2022-11-14T17:46:29.616Z"
   },
   {
    "duration": 13,
    "start_time": "2022-11-14T17:46:29.624Z"
   },
   {
    "duration": 4,
    "start_time": "2022-11-14T17:46:29.639Z"
   },
   {
    "duration": 5,
    "start_time": "2022-11-14T17:46:29.644Z"
   },
   {
    "duration": 28,
    "start_time": "2022-11-14T17:46:29.651Z"
   },
   {
    "duration": 3,
    "start_time": "2022-11-14T17:46:29.681Z"
   },
   {
    "duration": 12,
    "start_time": "2022-11-14T17:46:29.685Z"
   },
   {
    "duration": 703,
    "start_time": "2022-11-14T17:46:29.698Z"
   },
   {
    "duration": 637,
    "start_time": "2022-11-14T17:46:30.403Z"
   },
   {
    "duration": 770,
    "start_time": "2022-11-14T17:46:31.041Z"
   },
   {
    "duration": 620,
    "start_time": "2022-11-14T17:46:31.813Z"
   },
   {
    "duration": 622,
    "start_time": "2022-11-14T17:46:32.435Z"
   },
   {
    "duration": 612,
    "start_time": "2022-11-14T17:46:33.061Z"
   },
   {
    "duration": 12,
    "start_time": "2022-11-14T17:46:33.674Z"
   },
   {
    "duration": 9,
    "start_time": "2022-11-14T17:46:33.687Z"
   },
   {
    "duration": 14,
    "start_time": "2022-11-14T17:46:33.698Z"
   },
   {
    "duration": 7,
    "start_time": "2022-11-14T17:46:33.714Z"
   },
   {
    "duration": 13,
    "start_time": "2022-11-14T17:46:33.723Z"
   },
   {
    "duration": 39,
    "start_time": "2022-11-14T17:46:33.738Z"
   },
   {
    "duration": 871,
    "start_time": "2022-11-14T17:46:33.778Z"
   },
   {
    "duration": 11,
    "start_time": "2022-11-14T17:49:10.868Z"
   },
   {
    "duration": 7,
    "start_time": "2022-11-14T17:49:11.430Z"
   },
   {
    "duration": 7,
    "start_time": "2022-11-14T17:50:12.321Z"
   },
   {
    "duration": 7,
    "start_time": "2022-11-14T17:50:12.797Z"
   },
   {
    "duration": 10,
    "start_time": "2022-11-14T17:50:59.060Z"
   },
   {
    "duration": 8,
    "start_time": "2022-11-14T17:50:59.333Z"
   },
   {
    "duration": 1369,
    "start_time": "2022-11-14T17:51:31.954Z"
   },
   {
    "duration": 705,
    "start_time": "2022-11-14T17:51:33.325Z"
   },
   {
    "duration": 151,
    "start_time": "2022-11-14T17:51:34.032Z"
   },
   {
    "duration": 39,
    "start_time": "2022-11-14T17:51:34.185Z"
   },
   {
    "duration": 30,
    "start_time": "2022-11-14T17:51:34.226Z"
   },
   {
    "duration": 40,
    "start_time": "2022-11-14T17:51:34.257Z"
   },
   {
    "duration": 37,
    "start_time": "2022-11-14T17:51:34.299Z"
   },
   {
    "duration": 281,
    "start_time": "2022-11-14T17:51:34.337Z"
   },
   {
    "duration": 169,
    "start_time": "2022-11-14T17:51:34.619Z"
   },
   {
    "duration": 338,
    "start_time": "2022-11-14T17:51:34.792Z"
   },
   {
    "duration": 130,
    "start_time": "2022-11-14T17:51:35.131Z"
   },
   {
    "duration": 27,
    "start_time": "2022-11-14T17:51:35.263Z"
   },
   {
    "duration": 114,
    "start_time": "2022-11-14T17:51:35.291Z"
   },
   {
    "duration": 3,
    "start_time": "2022-11-14T17:51:35.406Z"
   },
   {
    "duration": 16,
    "start_time": "2022-11-14T17:51:35.410Z"
   },
   {
    "duration": 22,
    "start_time": "2022-11-14T17:51:35.428Z"
   },
   {
    "duration": 19,
    "start_time": "2022-11-14T17:51:35.452Z"
   },
   {
    "duration": 8,
    "start_time": "2022-11-14T17:51:35.473Z"
   },
   {
    "duration": 33,
    "start_time": "2022-11-14T17:51:35.483Z"
   },
   {
    "duration": 21,
    "start_time": "2022-11-14T17:51:35.518Z"
   },
   {
    "duration": 18,
    "start_time": "2022-11-14T17:51:35.541Z"
   },
   {
    "duration": 20,
    "start_time": "2022-11-14T17:51:35.562Z"
   },
   {
    "duration": 826,
    "start_time": "2022-11-14T17:51:35.584Z"
   },
   {
    "duration": 743,
    "start_time": "2022-11-14T17:51:36.412Z"
   },
   {
    "duration": 831,
    "start_time": "2022-11-14T17:51:37.158Z"
   },
   {
    "duration": 671,
    "start_time": "2022-11-14T17:51:37.990Z"
   },
   {
    "duration": 610,
    "start_time": "2022-11-14T17:51:38.663Z"
   },
   {
    "duration": 602,
    "start_time": "2022-11-14T17:51:39.277Z"
   },
   {
    "duration": 10,
    "start_time": "2022-11-14T17:51:39.881Z"
   },
   {
    "duration": 8,
    "start_time": "2022-11-14T17:51:39.892Z"
   },
   {
    "duration": 10,
    "start_time": "2022-11-14T17:51:39.901Z"
   },
   {
    "duration": 7,
    "start_time": "2022-11-14T17:51:39.912Z"
   },
   {
    "duration": 10,
    "start_time": "2022-11-14T17:51:39.921Z"
   },
   {
    "duration": 7,
    "start_time": "2022-11-14T17:51:39.932Z"
   },
   {
    "duration": 1110,
    "start_time": "2022-11-14T17:51:39.976Z"
   },
   {
    "duration": 1058,
    "start_time": "2022-11-14T17:52:08.616Z"
   },
   {
    "duration": 1174,
    "start_time": "2022-11-14T17:53:14.884Z"
   },
   {
    "duration": 1072,
    "start_time": "2022-11-14T17:53:51.464Z"
   },
   {
    "duration": 15,
    "start_time": "2022-11-14T17:54:32.447Z"
   },
   {
    "duration": 9,
    "start_time": "2022-11-14T17:54:40.156Z"
   },
   {
    "duration": 5,
    "start_time": "2022-11-14T17:54:42.612Z"
   },
   {
    "duration": 11,
    "start_time": "2022-11-14T17:54:46.963Z"
   },
   {
    "duration": 7,
    "start_time": "2022-11-14T17:58:40.484Z"
   },
   {
    "duration": 6,
    "start_time": "2022-11-14T17:58:40.792Z"
   },
   {
    "duration": 658,
    "start_time": "2022-11-14T17:58:41.977Z"
   },
   {
    "duration": 1051,
    "start_time": "2022-11-14T17:58:53.757Z"
   },
   {
    "duration": 24,
    "start_time": "2022-11-14T18:04:28.724Z"
   },
   {
    "duration": 1359,
    "start_time": "2022-11-14T18:04:38.700Z"
   },
   {
    "duration": 692,
    "start_time": "2022-11-14T18:04:40.061Z"
   },
   {
    "duration": 147,
    "start_time": "2022-11-14T18:04:40.754Z"
   },
   {
    "duration": 37,
    "start_time": "2022-11-14T18:04:40.903Z"
   },
   {
    "duration": 48,
    "start_time": "2022-11-14T18:04:40.942Z"
   },
   {
    "duration": 24,
    "start_time": "2022-11-14T18:04:40.991Z"
   },
   {
    "duration": 39,
    "start_time": "2022-11-14T18:04:41.016Z"
   },
   {
    "duration": 254,
    "start_time": "2022-11-14T18:04:41.075Z"
   },
   {
    "duration": 152,
    "start_time": "2022-11-14T18:04:41.330Z"
   },
   {
    "duration": 284,
    "start_time": "2022-11-14T18:04:41.485Z"
   },
   {
    "duration": 117,
    "start_time": "2022-11-14T18:04:41.770Z"
   },
   {
    "duration": 19,
    "start_time": "2022-11-14T18:04:41.889Z"
   },
   {
    "duration": 94,
    "start_time": "2022-11-14T18:04:41.909Z"
   },
   {
    "duration": 3,
    "start_time": "2022-11-14T18:04:42.005Z"
   },
   {
    "duration": 22,
    "start_time": "2022-11-14T18:04:42.009Z"
   },
   {
    "duration": 6,
    "start_time": "2022-11-14T18:04:42.033Z"
   },
   {
    "duration": 17,
    "start_time": "2022-11-14T18:04:42.041Z"
   },
   {
    "duration": 4,
    "start_time": "2022-11-14T18:04:42.059Z"
   },
   {
    "duration": 4,
    "start_time": "2022-11-14T18:04:42.077Z"
   },
   {
    "duration": 24,
    "start_time": "2022-11-14T18:04:42.082Z"
   },
   {
    "duration": 6,
    "start_time": "2022-11-14T18:04:42.107Z"
   },
   {
    "duration": 13,
    "start_time": "2022-11-14T18:04:42.114Z"
   },
   {
    "duration": 815,
    "start_time": "2022-11-14T18:04:42.129Z"
   },
   {
    "duration": 697,
    "start_time": "2022-11-14T18:04:42.946Z"
   },
   {
    "duration": 882,
    "start_time": "2022-11-14T18:04:43.645Z"
   },
   {
    "duration": 857,
    "start_time": "2022-11-14T18:04:44.529Z"
   },
   {
    "duration": 24,
    "start_time": "2022-11-14T18:04:45.388Z"
   },
   {
    "duration": 682,
    "start_time": "2022-11-14T18:04:45.415Z"
   },
   {
    "duration": 603,
    "start_time": "2022-11-14T18:04:46.098Z"
   },
   {
    "duration": 3,
    "start_time": "2022-11-14T18:04:46.703Z"
   },
   {
    "duration": 14,
    "start_time": "2022-11-14T18:04:46.708Z"
   },
   {
    "duration": 4,
    "start_time": "2022-11-14T18:04:46.724Z"
   },
   {
    "duration": 15,
    "start_time": "2022-11-14T18:04:46.730Z"
   },
   {
    "duration": 2,
    "start_time": "2022-11-14T18:04:46.747Z"
   },
   {
    "duration": 28,
    "start_time": "2022-11-14T18:04:46.751Z"
   },
   {
    "duration": 254,
    "start_time": "2022-11-14T18:04:46.780Z"
   },
   {
    "duration": 1170,
    "start_time": "2022-11-14T18:05:06.161Z"
   },
   {
    "duration": 95,
    "start_time": "2022-11-14T18:06:22.762Z"
   },
   {
    "duration": 53,
    "start_time": "2022-11-14T18:06:41.377Z"
   },
   {
    "duration": 26,
    "start_time": "2022-11-14T18:06:58.223Z"
   },
   {
    "duration": 1332,
    "start_time": "2022-11-14T18:07:04.649Z"
   },
   {
    "duration": 50,
    "start_time": "2022-11-15T07:03:47.636Z"
   },
   {
    "duration": 1547,
    "start_time": "2022-11-15T07:03:56.987Z"
   },
   {
    "duration": 3028,
    "start_time": "2022-11-15T07:03:58.536Z"
   },
   {
    "duration": 140,
    "start_time": "2022-11-15T07:04:01.565Z"
   },
   {
    "duration": 37,
    "start_time": "2022-11-15T07:04:01.707Z"
   },
   {
    "duration": 57,
    "start_time": "2022-11-15T07:04:01.746Z"
   },
   {
    "duration": 26,
    "start_time": "2022-11-15T07:04:01.805Z"
   },
   {
    "duration": 35,
    "start_time": "2022-11-15T07:04:01.833Z"
   },
   {
    "duration": 278,
    "start_time": "2022-11-15T07:04:01.869Z"
   },
   {
    "duration": 150,
    "start_time": "2022-11-15T07:04:02.148Z"
   },
   {
    "duration": 275,
    "start_time": "2022-11-15T07:04:02.302Z"
   },
   {
    "duration": 118,
    "start_time": "2022-11-15T07:04:02.578Z"
   },
   {
    "duration": 20,
    "start_time": "2022-11-15T07:04:02.697Z"
   },
   {
    "duration": 96,
    "start_time": "2022-11-15T07:04:02.718Z"
   },
   {
    "duration": 3,
    "start_time": "2022-11-15T07:04:02.815Z"
   },
   {
    "duration": 15,
    "start_time": "2022-11-15T07:04:02.820Z"
   },
   {
    "duration": 12,
    "start_time": "2022-11-15T07:04:02.837Z"
   },
   {
    "duration": 15,
    "start_time": "2022-11-15T07:04:02.851Z"
   },
   {
    "duration": 5,
    "start_time": "2022-11-15T07:04:02.868Z"
   },
   {
    "duration": 23,
    "start_time": "2022-11-15T07:04:02.875Z"
   },
   {
    "duration": 24,
    "start_time": "2022-11-15T07:04:02.900Z"
   },
   {
    "duration": 6,
    "start_time": "2022-11-15T07:04:02.925Z"
   },
   {
    "duration": 11,
    "start_time": "2022-11-15T07:04:02.932Z"
   },
   {
    "duration": 739,
    "start_time": "2022-11-15T07:04:02.945Z"
   },
   {
    "duration": 695,
    "start_time": "2022-11-15T07:04:03.685Z"
   },
   {
    "duration": 850,
    "start_time": "2022-11-15T07:04:04.382Z"
   },
   {
    "duration": 672,
    "start_time": "2022-11-15T07:04:05.234Z"
   },
   {
    "duration": 30,
    "start_time": "2022-11-15T07:04:05.908Z"
   },
   {
    "duration": 648,
    "start_time": "2022-11-15T07:04:05.941Z"
   },
   {
    "duration": 613,
    "start_time": "2022-11-15T07:04:06.591Z"
   },
   {
    "duration": 5,
    "start_time": "2022-11-15T07:04:07.206Z"
   },
   {
    "duration": 20,
    "start_time": "2022-11-15T07:04:07.212Z"
   },
   {
    "duration": 23,
    "start_time": "2022-11-15T07:04:07.234Z"
   },
   {
    "duration": 1155,
    "start_time": "2022-11-15T07:04:07.259Z"
   },
   {
    "duration": 16,
    "start_time": "2022-11-15T07:04:10.516Z"
   },
   {
    "duration": 82,
    "start_time": "2022-11-15T07:08:29.783Z"
   },
   {
    "duration": 14,
    "start_time": "2022-11-15T07:08:33.940Z"
   },
   {
    "duration": 4,
    "start_time": "2022-11-15T07:08:59.033Z"
   },
   {
    "duration": 5,
    "start_time": "2022-11-15T07:09:15.012Z"
   },
   {
    "duration": 4,
    "start_time": "2022-11-15T07:10:18.915Z"
   },
   {
    "duration": 9,
    "start_time": "2022-11-15T07:15:06.602Z"
   },
   {
    "duration": 3,
    "start_time": "2022-11-15T07:15:08.089Z"
   },
   {
    "duration": 6,
    "start_time": "2022-11-15T07:15:57.544Z"
   },
   {
    "duration": 17,
    "start_time": "2022-11-15T07:16:14.407Z"
   },
   {
    "duration": 14,
    "start_time": "2022-11-15T07:16:17.676Z"
   },
   {
    "duration": 12,
    "start_time": "2022-11-15T07:16:34.067Z"
   },
   {
    "duration": 4,
    "start_time": "2022-11-15T07:17:26.015Z"
   },
   {
    "duration": 644,
    "start_time": "2022-11-15T07:17:26.021Z"
   },
   {
    "duration": 148,
    "start_time": "2022-11-15T07:17:26.667Z"
   },
   {
    "duration": 36,
    "start_time": "2022-11-15T07:17:26.817Z"
   },
   {
    "duration": 44,
    "start_time": "2022-11-15T07:17:26.854Z"
   },
   {
    "duration": 25,
    "start_time": "2022-11-15T07:17:26.899Z"
   },
   {
    "duration": 36,
    "start_time": "2022-11-15T07:17:26.925Z"
   },
   {
    "duration": 263,
    "start_time": "2022-11-15T07:17:26.963Z"
   },
   {
    "duration": 141,
    "start_time": "2022-11-15T07:17:27.229Z"
   },
   {
    "duration": 271,
    "start_time": "2022-11-15T07:17:27.372Z"
   },
   {
    "duration": 117,
    "start_time": "2022-11-15T07:17:27.645Z"
   },
   {
    "duration": 19,
    "start_time": "2022-11-15T07:17:27.764Z"
   },
   {
    "duration": 86,
    "start_time": "2022-11-15T07:17:27.784Z"
   },
   {
    "duration": 3,
    "start_time": "2022-11-15T07:17:27.871Z"
   },
   {
    "duration": 28,
    "start_time": "2022-11-15T07:17:27.876Z"
   },
   {
    "duration": 13,
    "start_time": "2022-11-15T07:17:27.905Z"
   },
   {
    "duration": 11,
    "start_time": "2022-11-15T07:17:27.919Z"
   },
   {
    "duration": 7,
    "start_time": "2022-11-15T07:17:27.932Z"
   },
   {
    "duration": 15,
    "start_time": "2022-11-15T07:17:27.941Z"
   },
   {
    "duration": 25,
    "start_time": "2022-11-15T07:17:27.958Z"
   },
   {
    "duration": 4,
    "start_time": "2022-11-15T07:17:27.984Z"
   },
   {
    "duration": 11,
    "start_time": "2022-11-15T07:17:27.990Z"
   },
   {
    "duration": 795,
    "start_time": "2022-11-15T07:17:28.002Z"
   },
   {
    "duration": 712,
    "start_time": "2022-11-15T07:17:28.800Z"
   },
   {
    "duration": 932,
    "start_time": "2022-11-15T07:17:29.514Z"
   },
   {
    "duration": 746,
    "start_time": "2022-11-15T07:17:30.448Z"
   },
   {
    "duration": 19,
    "start_time": "2022-11-15T07:17:31.196Z"
   },
   {
    "duration": 615,
    "start_time": "2022-11-15T07:17:31.217Z"
   },
   {
    "duration": 721,
    "start_time": "2022-11-15T07:17:31.834Z"
   },
   {
    "duration": 6,
    "start_time": "2022-11-15T07:17:32.557Z"
   },
   {
    "duration": 12,
    "start_time": "2022-11-15T07:17:32.564Z"
   },
   {
    "duration": 29,
    "start_time": "2022-11-15T07:17:32.577Z"
   },
   {
    "duration": 1140,
    "start_time": "2022-11-15T07:17:32.607Z"
   },
   {
    "duration": 9,
    "start_time": "2022-11-15T07:17:33.748Z"
   },
   {
    "duration": 9,
    "start_time": "2022-11-15T07:17:33.758Z"
   },
   {
    "duration": 64,
    "start_time": "2022-11-15T07:17:33.768Z"
   },
   {
    "duration": 12,
    "start_time": "2022-11-15T07:17:38.033Z"
   },
   {
    "duration": 1337,
    "start_time": "2022-11-15T07:18:03.853Z"
   },
   {
    "duration": 670,
    "start_time": "2022-11-15T07:18:05.192Z"
   },
   {
    "duration": 159,
    "start_time": "2022-11-15T07:18:05.864Z"
   },
   {
    "duration": 36,
    "start_time": "2022-11-15T07:18:06.025Z"
   },
   {
    "duration": 45,
    "start_time": "2022-11-15T07:18:06.063Z"
   },
   {
    "duration": 23,
    "start_time": "2022-11-15T07:18:06.110Z"
   },
   {
    "duration": 37,
    "start_time": "2022-11-15T07:18:06.134Z"
   },
   {
    "duration": 270,
    "start_time": "2022-11-15T07:18:06.173Z"
   },
   {
    "duration": 136,
    "start_time": "2022-11-15T07:18:06.445Z"
   },
   {
    "duration": 263,
    "start_time": "2022-11-15T07:18:06.584Z"
   },
   {
    "duration": 114,
    "start_time": "2022-11-15T07:18:06.849Z"
   },
   {
    "duration": 19,
    "start_time": "2022-11-15T07:18:06.965Z"
   },
   {
    "duration": 90,
    "start_time": "2022-11-15T07:18:06.985Z"
   },
   {
    "duration": 3,
    "start_time": "2022-11-15T07:18:07.076Z"
   },
   {
    "duration": 21,
    "start_time": "2022-11-15T07:18:07.081Z"
   },
   {
    "duration": 4,
    "start_time": "2022-11-15T07:18:07.103Z"
   },
   {
    "duration": 26,
    "start_time": "2022-11-15T07:18:07.109Z"
   },
   {
    "duration": 4,
    "start_time": "2022-11-15T07:18:07.137Z"
   },
   {
    "duration": 9,
    "start_time": "2022-11-15T07:18:07.142Z"
   },
   {
    "duration": 17,
    "start_time": "2022-11-15T07:18:07.152Z"
   },
   {
    "duration": 4,
    "start_time": "2022-11-15T07:18:07.170Z"
   },
   {
    "duration": 12,
    "start_time": "2022-11-15T07:18:07.175Z"
   },
   {
    "duration": 716,
    "start_time": "2022-11-15T07:18:07.197Z"
   },
   {
    "duration": 680,
    "start_time": "2022-11-15T07:18:07.914Z"
   },
   {
    "duration": 773,
    "start_time": "2022-11-15T07:18:08.595Z"
   },
   {
    "duration": 727,
    "start_time": "2022-11-15T07:18:09.370Z"
   },
   {
    "duration": 26,
    "start_time": "2022-11-15T07:18:10.100Z"
   },
   {
    "duration": 571,
    "start_time": "2022-11-15T07:18:10.129Z"
   },
   {
    "duration": 636,
    "start_time": "2022-11-15T07:18:10.702Z"
   },
   {
    "duration": 6,
    "start_time": "2022-11-15T07:18:11.340Z"
   },
   {
    "duration": 14,
    "start_time": "2022-11-15T07:18:11.348Z"
   },
   {
    "duration": 11,
    "start_time": "2022-11-15T07:18:11.364Z"
   },
   {
    "duration": 1178,
    "start_time": "2022-11-15T07:18:11.376Z"
   },
   {
    "duration": 9,
    "start_time": "2022-11-15T07:18:12.555Z"
   },
   {
    "duration": 4,
    "start_time": "2022-11-15T07:18:12.566Z"
   },
   {
    "duration": 72,
    "start_time": "2022-11-15T07:18:12.571Z"
   },
   {
    "duration": 4,
    "start_time": "2022-11-15T07:18:53.382Z"
   },
   {
    "duration": 3,
    "start_time": "2022-11-15T07:19:09.752Z"
   },
   {
    "duration": 6,
    "start_time": "2022-11-15T07:19:18.679Z"
   },
   {
    "duration": 180,
    "start_time": "2022-11-15T07:32:41.467Z"
   },
   {
    "duration": 8,
    "start_time": "2022-11-15T07:45:42.213Z"
   },
   {
    "duration": 56,
    "start_time": "2022-11-15T07:52:36.810Z"
   },
   {
    "duration": 4,
    "start_time": "2022-11-15T07:52:46.536Z"
   },
   {
    "duration": 3,
    "start_time": "2022-11-15T07:58:59.231Z"
   },
   {
    "duration": 27,
    "start_time": "2022-11-15T08:30:53.154Z"
   },
   {
    "duration": 8,
    "start_time": "2022-11-15T08:36:46.042Z"
   },
   {
    "duration": 2,
    "start_time": "2022-11-15T08:42:43.196Z"
   },
   {
    "duration": 3,
    "start_time": "2022-11-15T08:42:43.786Z"
   },
   {
    "duration": 111,
    "start_time": "2022-11-15T08:42:44.382Z"
   },
   {
    "duration": 4,
    "start_time": "2022-11-15T08:42:58.032Z"
   },
   {
    "duration": 11535,
    "start_time": "2022-11-15T08:43:03.262Z"
   },
   {
    "duration": 11451,
    "start_time": "2022-11-15T08:43:16.627Z"
   },
   {
    "duration": 11416,
    "start_time": "2022-11-15T08:43:39.362Z"
   },
   {
    "duration": 139,
    "start_time": "2022-11-15T09:14:01.531Z"
   },
   {
    "duration": 126,
    "start_time": "2022-11-15T09:14:43.701Z"
   },
   {
    "duration": 10,
    "start_time": "2022-11-15T09:15:26.668Z"
   },
   {
    "duration": 4,
    "start_time": "2022-11-15T09:15:34.401Z"
   },
   {
    "duration": 28,
    "start_time": "2022-11-15T09:15:40.077Z"
   },
   {
    "duration": 18,
    "start_time": "2022-11-15T09:16:32.565Z"
   },
   {
    "duration": 9,
    "start_time": "2022-11-15T09:16:52.060Z"
   },
   {
    "duration": 1331,
    "start_time": "2022-11-15T09:18:34.123Z"
   },
   {
    "duration": 652,
    "start_time": "2022-11-15T09:18:35.456Z"
   },
   {
    "duration": 147,
    "start_time": "2022-11-15T09:18:36.110Z"
   },
   {
    "duration": 52,
    "start_time": "2022-11-15T09:18:36.260Z"
   },
   {
    "duration": 29,
    "start_time": "2022-11-15T09:18:36.313Z"
   },
   {
    "duration": 23,
    "start_time": "2022-11-15T09:18:36.343Z"
   },
   {
    "duration": 50,
    "start_time": "2022-11-15T09:18:36.367Z"
   },
   {
    "duration": 247,
    "start_time": "2022-11-15T09:18:36.418Z"
   },
   {
    "duration": 132,
    "start_time": "2022-11-15T09:18:36.666Z"
   },
   {
    "duration": 251,
    "start_time": "2022-11-15T09:18:36.800Z"
   },
   {
    "duration": 116,
    "start_time": "2022-11-15T09:18:37.053Z"
   },
   {
    "duration": 27,
    "start_time": "2022-11-15T09:18:37.171Z"
   },
   {
    "duration": 79,
    "start_time": "2022-11-15T09:18:37.200Z"
   },
   {
    "duration": 16,
    "start_time": "2022-11-15T09:18:37.281Z"
   },
   {
    "duration": 7,
    "start_time": "2022-11-15T09:18:37.299Z"
   },
   {
    "duration": 6,
    "start_time": "2022-11-15T09:18:37.308Z"
   },
   {
    "duration": 12,
    "start_time": "2022-11-15T09:18:37.315Z"
   },
   {
    "duration": 4,
    "start_time": "2022-11-15T09:18:37.328Z"
   },
   {
    "duration": 7,
    "start_time": "2022-11-15T09:18:37.333Z"
   },
   {
    "duration": 14,
    "start_time": "2022-11-15T09:18:37.341Z"
   },
   {
    "duration": 4,
    "start_time": "2022-11-15T09:18:37.356Z"
   },
   {
    "duration": 37,
    "start_time": "2022-11-15T09:18:37.362Z"
   },
   {
    "duration": 667,
    "start_time": "2022-11-15T09:18:37.401Z"
   },
   {
    "duration": 632,
    "start_time": "2022-11-15T09:18:38.070Z"
   },
   {
    "duration": 764,
    "start_time": "2022-11-15T09:18:38.704Z"
   },
   {
    "duration": 685,
    "start_time": "2022-11-15T09:18:39.470Z"
   },
   {
    "duration": 21,
    "start_time": "2022-11-15T09:18:40.157Z"
   },
   {
    "duration": 592,
    "start_time": "2022-11-15T09:18:40.181Z"
   },
   {
    "duration": 649,
    "start_time": "2022-11-15T09:18:40.775Z"
   },
   {
    "duration": 4,
    "start_time": "2022-11-15T09:18:41.426Z"
   },
   {
    "duration": 14,
    "start_time": "2022-11-15T09:18:41.432Z"
   },
   {
    "duration": 12,
    "start_time": "2022-11-15T09:18:41.447Z"
   },
   {
    "duration": 1101,
    "start_time": "2022-11-15T09:18:41.461Z"
   },
   {
    "duration": 9,
    "start_time": "2022-11-15T09:18:42.563Z"
   },
   {
    "duration": 3,
    "start_time": "2022-11-15T09:18:42.573Z"
   },
   {
    "duration": 22,
    "start_time": "2022-11-15T09:18:42.577Z"
   },
   {
    "duration": 9,
    "start_time": "2022-11-15T09:18:42.600Z"
   },
   {
    "duration": 155,
    "start_time": "2022-11-15T09:18:42.610Z"
   },
   {
    "duration": 147,
    "start_time": "2022-11-15T09:18:42.766Z"
   },
   {
    "duration": 3,
    "start_time": "2022-11-15T09:18:42.914Z"
   },
   {
    "duration": 392,
    "start_time": "2022-11-15T09:18:42.918Z"
   },
   {
    "duration": 4,
    "start_time": "2022-11-15T09:18:43.311Z"
   },
   {
    "duration": 7,
    "start_time": "2022-11-15T09:18:43.316Z"
   },
   {
    "duration": 16,
    "start_time": "2022-11-15T09:18:43.325Z"
   },
   {
    "duration": 5,
    "start_time": "2022-11-15T09:18:43.343Z"
   },
   {
    "duration": 11193,
    "start_time": "2022-11-15T09:18:43.350Z"
   },
   {
    "duration": 11297,
    "start_time": "2022-11-15T09:18:54.546Z"
   },
   {
    "duration": 1390,
    "start_time": "2022-11-15T09:20:10.820Z"
   },
   {
    "duration": 663,
    "start_time": "2022-11-15T09:20:12.211Z"
   },
   {
    "duration": 155,
    "start_time": "2022-11-15T09:20:12.875Z"
   },
   {
    "duration": 36,
    "start_time": "2022-11-15T09:20:13.033Z"
   },
   {
    "duration": 50,
    "start_time": "2022-11-15T09:20:13.071Z"
   },
   {
    "duration": 24,
    "start_time": "2022-11-15T09:20:13.122Z"
   },
   {
    "duration": 54,
    "start_time": "2022-11-15T09:20:13.147Z"
   },
   {
    "duration": 268,
    "start_time": "2022-11-15T09:20:13.204Z"
   },
   {
    "duration": 145,
    "start_time": "2022-11-15T09:20:13.474Z"
   },
   {
    "duration": 268,
    "start_time": "2022-11-15T09:20:13.622Z"
   },
   {
    "duration": 121,
    "start_time": "2022-11-15T09:20:13.891Z"
   },
   {
    "duration": 18,
    "start_time": "2022-11-15T09:20:14.014Z"
   },
   {
    "duration": 92,
    "start_time": "2022-11-15T09:20:14.034Z"
   },
   {
    "duration": 2,
    "start_time": "2022-11-15T09:20:14.128Z"
   },
   {
    "duration": 16,
    "start_time": "2022-11-15T09:20:14.131Z"
   },
   {
    "duration": 7,
    "start_time": "2022-11-15T09:20:14.149Z"
   },
   {
    "duration": 20,
    "start_time": "2022-11-15T09:20:14.157Z"
   },
   {
    "duration": 14,
    "start_time": "2022-11-15T09:20:14.179Z"
   },
   {
    "duration": 6,
    "start_time": "2022-11-15T09:20:14.195Z"
   },
   {
    "duration": 16,
    "start_time": "2022-11-15T09:20:14.202Z"
   },
   {
    "duration": 3,
    "start_time": "2022-11-15T09:20:14.219Z"
   },
   {
    "duration": 14,
    "start_time": "2022-11-15T09:20:14.224Z"
   },
   {
    "duration": 903,
    "start_time": "2022-11-15T09:20:14.239Z"
   },
   {
    "duration": 694,
    "start_time": "2022-11-15T09:20:15.144Z"
   },
   {
    "duration": 795,
    "start_time": "2022-11-15T09:20:15.840Z"
   },
   {
    "duration": 662,
    "start_time": "2022-11-15T09:20:16.637Z"
   },
   {
    "duration": 21,
    "start_time": "2022-11-15T09:20:17.301Z"
   },
   {
    "duration": 566,
    "start_time": "2022-11-15T09:20:17.325Z"
   },
   {
    "duration": 591,
    "start_time": "2022-11-15T09:20:17.893Z"
   },
   {
    "duration": 5,
    "start_time": "2022-11-15T09:20:18.485Z"
   },
   {
    "duration": 10,
    "start_time": "2022-11-15T09:20:18.498Z"
   },
   {
    "duration": 10,
    "start_time": "2022-11-15T09:20:18.510Z"
   },
   {
    "duration": 1162,
    "start_time": "2022-11-15T09:20:18.522Z"
   },
   {
    "duration": 18,
    "start_time": "2022-11-15T09:20:19.686Z"
   },
   {
    "duration": 4,
    "start_time": "2022-11-15T09:20:19.706Z"
   },
   {
    "duration": 21,
    "start_time": "2022-11-15T09:20:19.711Z"
   },
   {
    "duration": 12,
    "start_time": "2022-11-15T09:20:19.734Z"
   },
   {
    "duration": 177,
    "start_time": "2022-11-15T09:20:19.747Z"
   },
   {
    "duration": 161,
    "start_time": "2022-11-15T09:20:19.926Z"
   },
   {
    "duration": 3,
    "start_time": "2022-11-15T09:20:20.089Z"
   },
   {
    "duration": 136,
    "start_time": "2022-11-15T09:20:20.094Z"
   },
   {
    "duration": 0,
    "start_time": "2022-11-15T09:20:20.232Z"
   },
   {
    "duration": 0,
    "start_time": "2022-11-15T09:20:20.233Z"
   },
   {
    "duration": 0,
    "start_time": "2022-11-15T09:20:20.234Z"
   },
   {
    "duration": 0,
    "start_time": "2022-11-15T09:20:20.235Z"
   },
   {
    "duration": 0,
    "start_time": "2022-11-15T09:20:20.236Z"
   },
   {
    "duration": 0,
    "start_time": "2022-11-15T09:20:20.237Z"
   },
   {
    "duration": 8,
    "start_time": "2022-11-15T09:20:46.211Z"
   },
   {
    "duration": 17,
    "start_time": "2022-11-15T09:20:46.508Z"
   },
   {
    "duration": 1325,
    "start_time": "2022-11-15T09:21:00.421Z"
   },
   {
    "duration": 628,
    "start_time": "2022-11-15T09:21:01.748Z"
   },
   {
    "duration": 140,
    "start_time": "2022-11-15T09:21:02.378Z"
   },
   {
    "duration": 35,
    "start_time": "2022-11-15T09:21:02.520Z"
   },
   {
    "duration": 47,
    "start_time": "2022-11-15T09:21:02.556Z"
   },
   {
    "duration": 22,
    "start_time": "2022-11-15T09:21:02.605Z"
   },
   {
    "duration": 35,
    "start_time": "2022-11-15T09:21:02.629Z"
   },
   {
    "duration": 258,
    "start_time": "2022-11-15T09:21:02.665Z"
   },
   {
    "duration": 139,
    "start_time": "2022-11-15T09:21:02.925Z"
   },
   {
    "duration": 252,
    "start_time": "2022-11-15T09:21:03.067Z"
   },
   {
    "duration": 111,
    "start_time": "2022-11-15T09:21:03.321Z"
   },
   {
    "duration": 18,
    "start_time": "2022-11-15T09:21:03.434Z"
   },
   {
    "duration": 90,
    "start_time": "2022-11-15T09:21:03.454Z"
   },
   {
    "duration": 3,
    "start_time": "2022-11-15T09:21:03.545Z"
   },
   {
    "duration": 15,
    "start_time": "2022-11-15T09:21:03.550Z"
   },
   {
    "duration": 8,
    "start_time": "2022-11-15T09:21:03.566Z"
   },
   {
    "duration": 26,
    "start_time": "2022-11-15T09:21:03.575Z"
   },
   {
    "duration": 4,
    "start_time": "2022-11-15T09:21:03.603Z"
   },
   {
    "duration": 6,
    "start_time": "2022-11-15T09:21:03.608Z"
   },
   {
    "duration": 15,
    "start_time": "2022-11-15T09:21:03.616Z"
   },
   {
    "duration": 3,
    "start_time": "2022-11-15T09:21:03.632Z"
   },
   {
    "duration": 14,
    "start_time": "2022-11-15T09:21:03.636Z"
   },
   {
    "duration": 730,
    "start_time": "2022-11-15T09:21:03.651Z"
   },
   {
    "duration": 701,
    "start_time": "2022-11-15T09:21:04.382Z"
   },
   {
    "duration": 771,
    "start_time": "2022-11-15T09:21:05.084Z"
   },
   {
    "duration": 626,
    "start_time": "2022-11-15T09:21:05.856Z"
   },
   {
    "duration": 28,
    "start_time": "2022-11-15T09:21:06.483Z"
   },
   {
    "duration": 565,
    "start_time": "2022-11-15T09:21:06.514Z"
   },
   {
    "duration": 605,
    "start_time": "2022-11-15T09:21:07.080Z"
   },
   {
    "duration": 11,
    "start_time": "2022-11-15T09:21:07.686Z"
   },
   {
    "duration": 12,
    "start_time": "2022-11-15T09:21:07.699Z"
   },
   {
    "duration": 10,
    "start_time": "2022-11-15T09:21:07.712Z"
   },
   {
    "duration": 1092,
    "start_time": "2022-11-15T09:21:07.724Z"
   },
   {
    "duration": 9,
    "start_time": "2022-11-15T09:21:08.817Z"
   },
   {
    "duration": 2,
    "start_time": "2022-11-15T09:21:08.828Z"
   },
   {
    "duration": 13,
    "start_time": "2022-11-15T09:21:08.832Z"
   },
   {
    "duration": 9,
    "start_time": "2022-11-15T09:21:08.846Z"
   },
   {
    "duration": 160,
    "start_time": "2022-11-15T09:21:08.856Z"
   },
   {
    "duration": 138,
    "start_time": "2022-11-15T09:21:09.018Z"
   },
   {
    "duration": 3,
    "start_time": "2022-11-15T09:21:09.157Z"
   },
   {
    "duration": 316,
    "start_time": "2022-11-15T09:21:09.161Z"
   },
   {
    "duration": 2,
    "start_time": "2022-11-15T09:21:09.479Z"
   },
   {
    "duration": 14,
    "start_time": "2022-11-15T09:21:09.483Z"
   },
   {
    "duration": 4,
    "start_time": "2022-11-15T09:21:09.498Z"
   },
   {
    "duration": 5,
    "start_time": "2022-11-15T09:21:09.503Z"
   },
   {
    "duration": 12306,
    "start_time": "2022-11-15T09:21:09.509Z"
   },
   {
    "duration": 11188,
    "start_time": "2022-11-15T09:21:21.816Z"
   },
   {
    "duration": 22,
    "start_time": "2022-11-15T09:25:02.105Z"
   },
   {
    "duration": 103,
    "start_time": "2022-11-15T09:25:41.683Z"
   },
   {
    "duration": 1315,
    "start_time": "2022-11-15T09:25:55.226Z"
   },
   {
    "duration": 658,
    "start_time": "2022-11-15T09:25:56.543Z"
   },
   {
    "duration": 144,
    "start_time": "2022-11-15T09:25:57.203Z"
   },
   {
    "duration": 51,
    "start_time": "2022-11-15T09:25:57.350Z"
   },
   {
    "duration": 30,
    "start_time": "2022-11-15T09:25:57.403Z"
   },
   {
    "duration": 24,
    "start_time": "2022-11-15T09:25:57.434Z"
   },
   {
    "duration": 57,
    "start_time": "2022-11-15T09:25:57.460Z"
   },
   {
    "duration": 250,
    "start_time": "2022-11-15T09:25:57.519Z"
   },
   {
    "duration": 136,
    "start_time": "2022-11-15T09:25:57.771Z"
   },
   {
    "duration": 253,
    "start_time": "2022-11-15T09:25:57.909Z"
   },
   {
    "duration": 111,
    "start_time": "2022-11-15T09:25:58.163Z"
   },
   {
    "duration": 23,
    "start_time": "2022-11-15T09:25:58.275Z"
   },
   {
    "duration": 77,
    "start_time": "2022-11-15T09:25:58.299Z"
   },
   {
    "duration": 3,
    "start_time": "2022-11-15T09:25:58.377Z"
   },
   {
    "duration": 22,
    "start_time": "2022-11-15T09:25:58.381Z"
   },
   {
    "duration": 5,
    "start_time": "2022-11-15T09:25:58.404Z"
   },
   {
    "duration": 13,
    "start_time": "2022-11-15T09:25:58.410Z"
   },
   {
    "duration": 4,
    "start_time": "2022-11-15T09:25:58.424Z"
   },
   {
    "duration": 7,
    "start_time": "2022-11-15T09:25:58.429Z"
   },
   {
    "duration": 14,
    "start_time": "2022-11-15T09:25:58.437Z"
   },
   {
    "duration": 3,
    "start_time": "2022-11-15T09:25:58.453Z"
   },
   {
    "duration": 10,
    "start_time": "2022-11-15T09:25:58.457Z"
   },
   {
    "duration": 737,
    "start_time": "2022-11-15T09:25:58.496Z"
   },
   {
    "duration": 671,
    "start_time": "2022-11-15T09:25:59.234Z"
   },
   {
    "duration": 828,
    "start_time": "2022-11-15T09:25:59.907Z"
   },
   {
    "duration": 625,
    "start_time": "2022-11-15T09:26:00.737Z"
   },
   {
    "duration": 20,
    "start_time": "2022-11-15T09:26:01.364Z"
   },
   {
    "duration": 588,
    "start_time": "2022-11-15T09:26:01.397Z"
   },
   {
    "duration": 604,
    "start_time": "2022-11-15T09:26:01.987Z"
   },
   {
    "duration": 7,
    "start_time": "2022-11-15T09:26:02.592Z"
   },
   {
    "duration": 22,
    "start_time": "2022-11-15T09:26:02.600Z"
   },
   {
    "duration": 15,
    "start_time": "2022-11-15T09:26:02.624Z"
   },
   {
    "duration": 1082,
    "start_time": "2022-11-15T09:26:02.640Z"
   },
   {
    "duration": 9,
    "start_time": "2022-11-15T09:26:03.723Z"
   },
   {
    "duration": 2,
    "start_time": "2022-11-15T09:26:03.734Z"
   },
   {
    "duration": 32,
    "start_time": "2022-11-15T09:26:03.738Z"
   },
   {
    "duration": 18,
    "start_time": "2022-11-15T09:26:03.772Z"
   },
   {
    "duration": 15,
    "start_time": "2022-11-15T09:26:03.791Z"
   },
   {
    "duration": 41,
    "start_time": "2022-11-15T09:26:03.807Z"
   },
   {
    "duration": 107,
    "start_time": "2022-11-15T09:26:03.850Z"
   },
   {
    "duration": 0,
    "start_time": "2022-11-15T09:26:03.959Z"
   },
   {
    "duration": 0,
    "start_time": "2022-11-15T09:26:03.960Z"
   },
   {
    "duration": 0,
    "start_time": "2022-11-15T09:26:03.962Z"
   },
   {
    "duration": 0,
    "start_time": "2022-11-15T09:26:03.964Z"
   },
   {
    "duration": 0,
    "start_time": "2022-11-15T09:26:03.965Z"
   },
   {
    "duration": 0,
    "start_time": "2022-11-15T09:26:03.966Z"
   },
   {
    "duration": 169,
    "start_time": "2022-11-15T09:26:16.947Z"
   },
   {
    "duration": 3,
    "start_time": "2022-11-15T09:29:20.568Z"
   },
   {
    "duration": 3,
    "start_time": "2022-11-15T09:29:21.379Z"
   },
   {
    "duration": 3,
    "start_time": "2022-11-15T09:29:22.250Z"
   },
   {
    "duration": 2,
    "start_time": "2022-11-15T09:29:22.689Z"
   },
   {
    "duration": 11659,
    "start_time": "2022-11-15T09:29:23.533Z"
   },
   {
    "duration": 11753,
    "start_time": "2022-11-15T09:29:35.197Z"
   },
   {
    "duration": 11715,
    "start_time": "2022-11-15T09:29:54.012Z"
   },
   {
    "duration": 3,
    "start_time": "2022-11-15T09:48:39.201Z"
   },
   {
    "duration": 3,
    "start_time": "2022-11-15T09:53:32.229Z"
   },
   {
    "duration": 4,
    "start_time": "2022-11-15T09:53:34.921Z"
   },
   {
    "duration": 8,
    "start_time": "2022-11-15T10:02:55.574Z"
   },
   {
    "duration": 3,
    "start_time": "2022-11-15T10:03:03.708Z"
   },
   {
    "duration": 268,
    "start_time": "2022-11-15T10:03:05.403Z"
   },
   {
    "duration": 4,
    "start_time": "2022-11-15T10:15:58.885Z"
   },
   {
    "duration": 3,
    "start_time": "2022-11-15T10:18:42.330Z"
   },
   {
    "duration": 3,
    "start_time": "2022-11-15T10:20:08.343Z"
   },
   {
    "duration": 3,
    "start_time": "2022-11-15T10:20:09.419Z"
   },
   {
    "duration": 11684,
    "start_time": "2022-11-15T10:20:10.169Z"
   },
   {
    "duration": 297,
    "start_time": "2022-11-15T10:20:24.478Z"
   },
   {
    "duration": 11647,
    "start_time": "2022-11-15T10:20:26.147Z"
   },
   {
    "duration": 219,
    "start_time": "2022-11-15T10:20:38.857Z"
   },
   {
    "duration": 15,
    "start_time": "2022-11-15T10:20:40.034Z"
   },
   {
    "duration": 3,
    "start_time": "2022-11-15T10:21:23.535Z"
   },
   {
    "duration": 1035,
    "start_time": "2022-11-15T10:21:26.387Z"
   },
   {
    "duration": 3,
    "start_time": "2022-11-15T10:22:16.244Z"
   },
   {
    "duration": 4,
    "start_time": "2022-11-15T10:22:18.135Z"
   },
   {
    "duration": 1859,
    "start_time": "2022-11-15T10:22:21.081Z"
   },
   {
    "duration": 3,
    "start_time": "2022-11-15T10:23:35.445Z"
   },
   {
    "duration": 3,
    "start_time": "2022-11-15T10:23:37.203Z"
   },
   {
    "duration": 3,
    "start_time": "2022-11-15T10:23:37.623Z"
   },
   {
    "duration": 1824,
    "start_time": "2022-11-15T10:23:40.374Z"
   },
   {
    "duration": 3,
    "start_time": "2022-11-15T10:24:15.715Z"
   },
   {
    "duration": 3,
    "start_time": "2022-11-15T10:24:16.224Z"
   },
   {
    "duration": 3,
    "start_time": "2022-11-15T10:24:17.074Z"
   },
   {
    "duration": 4,
    "start_time": "2022-11-15T10:24:18.468Z"
   },
   {
    "duration": 1846,
    "start_time": "2022-11-15T10:24:21.469Z"
   },
   {
    "duration": 1020,
    "start_time": "2022-11-15T10:28:08.821Z"
   },
   {
    "duration": 1018,
    "start_time": "2022-11-15T10:28:15.599Z"
   },
   {
    "duration": 3,
    "start_time": "2022-11-15T10:30:00.617Z"
   },
   {
    "duration": 1074,
    "start_time": "2022-11-15T10:30:02.459Z"
   },
   {
    "duration": 1322,
    "start_time": "2022-11-15T10:31:11.593Z"
   },
   {
    "duration": 1340,
    "start_time": "2022-11-15T10:33:04.277Z"
   },
   {
    "duration": 1088,
    "start_time": "2022-11-15T10:36:17.187Z"
   },
   {
    "duration": 2,
    "start_time": "2022-11-15T10:36:46.815Z"
   },
   {
    "duration": 1288,
    "start_time": "2022-11-15T10:36:48.840Z"
   },
   {
    "duration": 1389,
    "start_time": "2022-11-15T10:43:13.929Z"
   },
   {
    "duration": 723,
    "start_time": "2022-11-15T10:43:15.320Z"
   },
   {
    "duration": 159,
    "start_time": "2022-11-15T10:43:16.045Z"
   },
   {
    "duration": 37,
    "start_time": "2022-11-15T10:43:16.206Z"
   },
   {
    "duration": 30,
    "start_time": "2022-11-15T10:43:16.245Z"
   },
   {
    "duration": 42,
    "start_time": "2022-11-15T10:43:16.276Z"
   },
   {
    "duration": 37,
    "start_time": "2022-11-15T10:43:16.320Z"
   },
   {
    "duration": 273,
    "start_time": "2022-11-15T10:43:16.358Z"
   },
   {
    "duration": 143,
    "start_time": "2022-11-15T10:43:16.632Z"
   },
   {
    "duration": 271,
    "start_time": "2022-11-15T10:43:16.778Z"
   },
   {
    "duration": 124,
    "start_time": "2022-11-15T10:43:17.051Z"
   },
   {
    "duration": 24,
    "start_time": "2022-11-15T10:43:17.176Z"
   },
   {
    "duration": 79,
    "start_time": "2022-11-15T10:43:17.201Z"
   },
   {
    "duration": 3,
    "start_time": "2022-11-15T10:43:17.281Z"
   },
   {
    "duration": 16,
    "start_time": "2022-11-15T10:43:17.298Z"
   },
   {
    "duration": 31,
    "start_time": "2022-11-15T10:43:17.316Z"
   },
   {
    "duration": 26,
    "start_time": "2022-11-15T10:43:17.348Z"
   },
   {
    "duration": 15,
    "start_time": "2022-11-15T10:43:17.375Z"
   },
   {
    "duration": 20,
    "start_time": "2022-11-15T10:43:17.391Z"
   },
   {
    "duration": 30,
    "start_time": "2022-11-15T10:43:17.412Z"
   },
   {
    "duration": 26,
    "start_time": "2022-11-15T10:43:17.443Z"
   },
   {
    "duration": 27,
    "start_time": "2022-11-15T10:43:17.470Z"
   },
   {
    "duration": 765,
    "start_time": "2022-11-15T10:43:17.499Z"
   },
   {
    "duration": 671,
    "start_time": "2022-11-15T10:43:18.266Z"
   },
   {
    "duration": 818,
    "start_time": "2022-11-15T10:43:18.938Z"
   },
   {
    "duration": 718,
    "start_time": "2022-11-15T10:43:19.758Z"
   },
   {
    "duration": 33,
    "start_time": "2022-11-15T10:43:20.478Z"
   },
   {
    "duration": 561,
    "start_time": "2022-11-15T10:43:20.515Z"
   },
   {
    "duration": 618,
    "start_time": "2022-11-15T10:43:21.078Z"
   },
   {
    "duration": 5,
    "start_time": "2022-11-15T10:43:21.698Z"
   },
   {
    "duration": 16,
    "start_time": "2022-11-15T10:43:21.705Z"
   },
   {
    "duration": 11,
    "start_time": "2022-11-15T10:43:21.722Z"
   },
   {
    "duration": 1092,
    "start_time": "2022-11-15T10:43:21.734Z"
   },
   {
    "duration": 11,
    "start_time": "2022-11-15T10:43:22.828Z"
   },
   {
    "duration": 3,
    "start_time": "2022-11-15T10:43:22.840Z"
   },
   {
    "duration": 11,
    "start_time": "2022-11-15T10:43:22.844Z"
   },
   {
    "duration": 14,
    "start_time": "2022-11-15T10:43:22.856Z"
   },
   {
    "duration": 26,
    "start_time": "2022-11-15T10:43:22.871Z"
   },
   {
    "duration": 27,
    "start_time": "2022-11-15T10:43:22.899Z"
   },
   {
    "duration": 3,
    "start_time": "2022-11-15T10:43:22.927Z"
   },
   {
    "duration": 5,
    "start_time": "2022-11-15T10:43:22.932Z"
   },
   {
    "duration": 6,
    "start_time": "2022-11-15T10:43:22.938Z"
   },
   {
    "duration": 5,
    "start_time": "2022-11-15T10:43:22.945Z"
   },
   {
    "duration": 6,
    "start_time": "2022-11-15T10:43:22.951Z"
   },
   {
    "duration": 124,
    "start_time": "2022-11-15T10:43:22.959Z"
   },
   {
    "duration": 0,
    "start_time": "2022-11-15T10:43:23.085Z"
   },
   {
    "duration": 0,
    "start_time": "2022-11-15T10:43:23.086Z"
   },
   {
    "duration": 0,
    "start_time": "2022-11-15T10:43:23.087Z"
   },
   {
    "duration": 0,
    "start_time": "2022-11-15T10:43:23.088Z"
   },
   {
    "duration": 11435,
    "start_time": "2022-11-15T10:44:25.663Z"
   },
   {
    "duration": 277,
    "start_time": "2022-11-15T10:44:39.112Z"
   },
   {
    "duration": 11624,
    "start_time": "2022-11-15T10:44:39.705Z"
   },
   {
    "duration": 207,
    "start_time": "2022-11-15T10:44:51.331Z"
   },
   {
    "duration": 285,
    "start_time": "2022-11-15T10:48:35.807Z"
   },
   {
    "duration": 1305,
    "start_time": "2022-11-15T10:48:48.125Z"
   },
   {
    "duration": 265,
    "start_time": "2022-11-15T10:49:18.219Z"
   },
   {
    "duration": 6,
    "start_time": "2022-11-15T10:51:06.169Z"
   },
   {
    "duration": 14,
    "start_time": "2022-11-15T10:53:17.269Z"
   },
   {
    "duration": 1019,
    "start_time": "2022-11-15T10:53:41.487Z"
   },
   {
    "duration": 1055,
    "start_time": "2022-11-15T10:53:48.679Z"
   },
   {
    "duration": 1043,
    "start_time": "2022-11-15T10:57:59.392Z"
   },
   {
    "duration": 264,
    "start_time": "2022-11-15T10:59:30.920Z"
   },
   {
    "duration": 4,
    "start_time": "2022-11-15T11:03:23.396Z"
   },
   {
    "duration": 3,
    "start_time": "2022-11-15T11:05:19.257Z"
   },
   {
    "duration": 9,
    "start_time": "2022-11-15T11:05:37.197Z"
   },
   {
    "duration": 1045,
    "start_time": "2022-11-15T11:05:45.211Z"
   },
   {
    "duration": 3,
    "start_time": "2022-11-15T11:06:08.635Z"
   },
   {
    "duration": 1089,
    "start_time": "2022-11-15T11:06:12.068Z"
   },
   {
    "duration": 2,
    "start_time": "2022-11-15T11:08:53.358Z"
   },
   {
    "duration": 13,
    "start_time": "2022-11-15T11:08:59.918Z"
   },
   {
    "duration": 298,
    "start_time": "2022-11-15T11:09:11.984Z"
   },
   {
    "duration": 3,
    "start_time": "2022-11-15T11:10:14.216Z"
   },
   {
    "duration": 272,
    "start_time": "2022-11-15T11:10:33.741Z"
   },
   {
    "duration": 18,
    "start_time": "2022-11-15T11:10:34.371Z"
   },
   {
    "duration": 270,
    "start_time": "2022-11-15T11:39:01.495Z"
   },
   {
    "duration": 291,
    "start_time": "2022-11-15T11:39:09.722Z"
   },
   {
    "duration": 3,
    "start_time": "2022-11-15T11:42:01.482Z"
   },
   {
    "duration": 3,
    "start_time": "2022-11-15T11:42:03.686Z"
   },
   {
    "duration": 3,
    "start_time": "2022-11-15T11:42:04.219Z"
   },
   {
    "duration": 11792,
    "start_time": "2022-11-15T11:42:05.249Z"
   },
   {
    "duration": 281,
    "start_time": "2022-11-15T11:42:17.042Z"
   },
   {
    "duration": 1101,
    "start_time": "2022-11-15T11:42:39.744Z"
   },
   {
    "duration": 204,
    "start_time": "2022-11-15T11:45:31.933Z"
   },
   {
    "duration": 901,
    "start_time": "2022-11-15T11:46:23.802Z"
   },
   {
    "duration": 3,
    "start_time": "2022-11-15T11:48:18.241Z"
   },
   {
    "duration": 3,
    "start_time": "2022-11-15T11:48:34.360Z"
   },
   {
    "duration": 3811,
    "start_time": "2022-11-15T11:52:59.360Z"
   },
   {
    "duration": 3690,
    "start_time": "2022-11-15T11:53:15.833Z"
   },
   {
    "duration": 4314,
    "start_time": "2022-11-15T11:53:56.982Z"
   },
   {
    "duration": 6,
    "start_time": "2022-11-15T11:56:21.655Z"
   },
   {
    "duration": 3,
    "start_time": "2022-11-15T11:57:36.670Z"
   },
   {
    "duration": 3,
    "start_time": "2022-11-15T11:57:53.683Z"
   },
   {
    "duration": 272,
    "start_time": "2022-11-15T11:59:48.144Z"
   },
   {
    "duration": 1104,
    "start_time": "2022-11-15T11:59:48.983Z"
   },
   {
    "duration": 215,
    "start_time": "2022-11-15T12:00:02.327Z"
   },
   {
    "duration": 876,
    "start_time": "2022-11-15T12:00:03.541Z"
   },
   {
    "duration": 3,
    "start_time": "2022-11-15T12:04:22.997Z"
   },
   {
    "duration": 2,
    "start_time": "2022-11-15T12:04:23.404Z"
   },
   {
    "duration": 1275,
    "start_time": "2022-11-15T12:07:35.055Z"
   },
   {
    "duration": 698,
    "start_time": "2022-11-15T12:07:36.332Z"
   },
   {
    "duration": 147,
    "start_time": "2022-11-15T12:07:37.032Z"
   },
   {
    "duration": 49,
    "start_time": "2022-11-15T12:07:37.181Z"
   },
   {
    "duration": 37,
    "start_time": "2022-11-15T12:07:37.232Z"
   },
   {
    "duration": 40,
    "start_time": "2022-11-15T12:07:37.271Z"
   },
   {
    "duration": 39,
    "start_time": "2022-11-15T12:07:37.313Z"
   },
   {
    "duration": 261,
    "start_time": "2022-11-15T12:07:37.354Z"
   },
   {
    "duration": 135,
    "start_time": "2022-11-15T12:07:37.617Z"
   },
   {
    "duration": 264,
    "start_time": "2022-11-15T12:07:37.755Z"
   },
   {
    "duration": 116,
    "start_time": "2022-11-15T12:07:38.021Z"
   },
   {
    "duration": 21,
    "start_time": "2022-11-15T12:07:38.139Z"
   },
   {
    "duration": 93,
    "start_time": "2022-11-15T12:07:38.162Z"
   },
   {
    "duration": 3,
    "start_time": "2022-11-15T12:07:38.256Z"
   },
   {
    "duration": 24,
    "start_time": "2022-11-15T12:07:38.260Z"
   },
   {
    "duration": 5,
    "start_time": "2022-11-15T12:07:38.285Z"
   },
   {
    "duration": 14,
    "start_time": "2022-11-15T12:07:38.291Z"
   },
   {
    "duration": 4,
    "start_time": "2022-11-15T12:07:38.306Z"
   },
   {
    "duration": 5,
    "start_time": "2022-11-15T12:07:38.311Z"
   },
   {
    "duration": 14,
    "start_time": "2022-11-15T12:07:38.317Z"
   },
   {
    "duration": 3,
    "start_time": "2022-11-15T12:07:38.332Z"
   },
   {
    "duration": 9,
    "start_time": "2022-11-15T12:07:38.336Z"
   },
   {
    "duration": 750,
    "start_time": "2022-11-15T12:07:38.347Z"
   },
   {
    "duration": 661,
    "start_time": "2022-11-15T12:07:39.099Z"
   },
   {
    "duration": 835,
    "start_time": "2022-11-15T12:07:39.762Z"
   },
   {
    "duration": 670,
    "start_time": "2022-11-15T12:07:40.599Z"
   },
   {
    "duration": 29,
    "start_time": "2022-11-15T12:07:41.271Z"
   },
   {
    "duration": 574,
    "start_time": "2022-11-15T12:07:41.304Z"
   },
   {
    "duration": 606,
    "start_time": "2022-11-15T12:07:41.880Z"
   },
   {
    "duration": 13,
    "start_time": "2022-11-15T12:07:42.488Z"
   },
   {
    "duration": 12,
    "start_time": "2022-11-15T12:07:42.503Z"
   },
   {
    "duration": 10,
    "start_time": "2022-11-15T12:07:42.517Z"
   },
   {
    "duration": 797,
    "start_time": "2022-11-15T12:07:42.528Z"
   },
   {
    "duration": 0,
    "start_time": "2022-11-15T12:07:43.327Z"
   },
   {
    "duration": 0,
    "start_time": "2022-11-15T12:07:43.328Z"
   },
   {
    "duration": 0,
    "start_time": "2022-11-15T12:07:43.329Z"
   },
   {
    "duration": 0,
    "start_time": "2022-11-15T12:07:43.330Z"
   },
   {
    "duration": 0,
    "start_time": "2022-11-15T12:07:43.331Z"
   },
   {
    "duration": 0,
    "start_time": "2022-11-15T12:07:43.332Z"
   },
   {
    "duration": 0,
    "start_time": "2022-11-15T12:07:43.333Z"
   },
   {
    "duration": 0,
    "start_time": "2022-11-15T12:07:43.334Z"
   },
   {
    "duration": 0,
    "start_time": "2022-11-15T12:07:43.335Z"
   },
   {
    "duration": 0,
    "start_time": "2022-11-15T12:07:43.336Z"
   },
   {
    "duration": 0,
    "start_time": "2022-11-15T12:07:43.337Z"
   },
   {
    "duration": 0,
    "start_time": "2022-11-15T12:07:43.338Z"
   },
   {
    "duration": 0,
    "start_time": "2022-11-15T12:07:43.338Z"
   },
   {
    "duration": 0,
    "start_time": "2022-11-15T12:07:43.339Z"
   },
   {
    "duration": 0,
    "start_time": "2022-11-15T12:07:43.340Z"
   },
   {
    "duration": 0,
    "start_time": "2022-11-15T12:07:43.341Z"
   },
   {
    "duration": 0,
    "start_time": "2022-11-15T12:07:43.343Z"
   },
   {
    "duration": 0,
    "start_time": "2022-11-15T12:07:43.344Z"
   },
   {
    "duration": 0,
    "start_time": "2022-11-15T12:07:43.345Z"
   },
   {
    "duration": 1073,
    "start_time": "2022-11-15T12:07:50.514Z"
   },
   {
    "duration": 10,
    "start_time": "2022-11-15T12:07:53.107Z"
   },
   {
    "duration": 3,
    "start_time": "2022-11-15T12:07:54.892Z"
   },
   {
    "duration": 8,
    "start_time": "2022-11-15T12:07:55.081Z"
   },
   {
    "duration": 7,
    "start_time": "2022-11-15T12:07:57.427Z"
   },
   {
    "duration": 3,
    "start_time": "2022-11-15T12:07:58.230Z"
   },
   {
    "duration": 27,
    "start_time": "2022-11-15T12:07:58.704Z"
   },
   {
    "duration": 4,
    "start_time": "2022-11-15T12:08:01.830Z"
   },
   {
    "duration": 3,
    "start_time": "2022-11-15T12:08:02.047Z"
   },
   {
    "duration": 4,
    "start_time": "2022-11-15T12:08:02.567Z"
   },
   {
    "duration": 3,
    "start_time": "2022-11-15T12:08:10.932Z"
   },
   {
    "duration": 51,
    "start_time": "2022-11-15T14:13:37.400Z"
   },
   {
    "duration": 1668,
    "start_time": "2022-11-15T14:13:57.819Z"
   },
   {
    "duration": 3153,
    "start_time": "2022-11-15T14:13:59.489Z"
   },
   {
    "duration": 157,
    "start_time": "2022-11-15T14:14:02.643Z"
   },
   {
    "duration": 41,
    "start_time": "2022-11-15T14:14:02.802Z"
   },
   {
    "duration": 58,
    "start_time": "2022-11-15T14:14:02.844Z"
   },
   {
    "duration": 25,
    "start_time": "2022-11-15T14:14:02.903Z"
   },
   {
    "duration": 54,
    "start_time": "2022-11-15T14:14:02.930Z"
   },
   {
    "duration": 268,
    "start_time": "2022-11-15T14:14:02.986Z"
   },
   {
    "duration": 150,
    "start_time": "2022-11-15T14:14:03.256Z"
   },
   {
    "duration": 275,
    "start_time": "2022-11-15T14:14:03.409Z"
   },
   {
    "duration": 121,
    "start_time": "2022-11-15T14:14:03.686Z"
   },
   {
    "duration": 22,
    "start_time": "2022-11-15T14:14:03.809Z"
   },
   {
    "duration": 102,
    "start_time": "2022-11-15T14:14:03.833Z"
   },
   {
    "duration": 3,
    "start_time": "2022-11-15T14:14:03.938Z"
   },
   {
    "duration": 15,
    "start_time": "2022-11-15T14:14:03.943Z"
   },
   {
    "duration": 19,
    "start_time": "2022-11-15T14:14:03.960Z"
   },
   {
    "duration": 25,
    "start_time": "2022-11-15T14:14:03.981Z"
   },
   {
    "duration": 5,
    "start_time": "2022-11-15T14:14:04.008Z"
   },
   {
    "duration": 8,
    "start_time": "2022-11-15T14:14:04.015Z"
   },
   {
    "duration": 38,
    "start_time": "2022-11-15T14:14:04.025Z"
   },
   {
    "duration": 4,
    "start_time": "2022-11-15T14:14:04.065Z"
   },
   {
    "duration": 13,
    "start_time": "2022-11-15T14:14:04.070Z"
   },
   {
    "duration": 801,
    "start_time": "2022-11-15T14:14:04.084Z"
   },
   {
    "duration": 729,
    "start_time": "2022-11-15T14:14:04.886Z"
   },
   {
    "duration": 900,
    "start_time": "2022-11-15T14:14:05.617Z"
   },
   {
    "duration": 711,
    "start_time": "2022-11-15T14:14:06.518Z"
   },
   {
    "duration": 30,
    "start_time": "2022-11-15T14:14:07.231Z"
   },
   {
    "duration": 615,
    "start_time": "2022-11-15T14:14:07.277Z"
   },
   {
    "duration": 647,
    "start_time": "2022-11-15T14:14:07.893Z"
   },
   {
    "duration": 6,
    "start_time": "2022-11-15T14:14:08.542Z"
   },
   {
    "duration": 32,
    "start_time": "2022-11-15T14:14:08.549Z"
   },
   {
    "duration": 20,
    "start_time": "2022-11-15T14:14:08.583Z"
   },
   {
    "duration": 1209,
    "start_time": "2022-11-15T14:14:08.604Z"
   },
   {
    "duration": 11,
    "start_time": "2022-11-15T14:14:09.815Z"
   },
   {
    "duration": 7,
    "start_time": "2022-11-15T14:14:09.828Z"
   },
   {
    "duration": 14,
    "start_time": "2022-11-15T14:14:09.837Z"
   },
   {
    "duration": 25,
    "start_time": "2022-11-15T14:14:09.853Z"
   },
   {
    "duration": 3,
    "start_time": "2022-11-15T14:14:09.879Z"
   },
   {
    "duration": 34,
    "start_time": "2022-11-15T14:14:09.883Z"
   },
   {
    "duration": 4,
    "start_time": "2022-11-15T14:14:09.919Z"
   },
   {
    "duration": 8,
    "start_time": "2022-11-15T14:14:09.924Z"
   },
   {
    "duration": 6,
    "start_time": "2022-11-15T14:14:09.933Z"
   },
   {
    "duration": 8,
    "start_time": "2022-11-15T14:14:09.940Z"
   },
   {
    "duration": 6,
    "start_time": "2022-11-15T14:14:09.950Z"
   },
   {
    "duration": 21,
    "start_time": "2022-11-15T14:14:09.957Z"
   },
   {
    "duration": 11520,
    "start_time": "2022-11-15T14:14:09.979Z"
   },
   {
    "duration": 285,
    "start_time": "2022-11-15T14:14:21.501Z"
   },
   {
    "duration": 11691,
    "start_time": "2022-11-15T14:14:21.788Z"
   },
   {
    "duration": 224,
    "start_time": "2022-11-15T14:14:33.481Z"
   },
   {
    "duration": 7,
    "start_time": "2022-11-15T14:14:33.707Z"
   },
   {
    "duration": 61,
    "start_time": "2022-11-15T14:14:33.715Z"
   },
   {
    "duration": 1075,
    "start_time": "2022-11-15T14:17:57.479Z"
   },
   {
    "duration": 3,
    "start_time": "2022-11-15T14:18:45.314Z"
   },
   {
    "duration": 1091,
    "start_time": "2022-11-15T14:18:50.051Z"
   },
   {
    "duration": 4,
    "start_time": "2022-11-15T14:20:02.966Z"
   },
   {
    "duration": 3,
    "start_time": "2022-11-15T14:20:03.470Z"
   },
   {
    "duration": 3,
    "start_time": "2022-11-15T14:20:05.732Z"
   },
   {
    "duration": 3,
    "start_time": "2022-11-15T14:24:34.590Z"
   },
   {
    "duration": 3,
    "start_time": "2022-11-15T14:24:37.493Z"
   },
   {
    "duration": 3,
    "start_time": "2022-11-15T14:24:39.553Z"
   },
   {
    "duration": 2009,
    "start_time": "2022-11-15T14:24:46.578Z"
   },
   {
    "duration": 3,
    "start_time": "2022-11-15T14:26:43.436Z"
   },
   {
    "duration": 1912,
    "start_time": "2022-11-15T14:26:45.763Z"
   },
   {
    "duration": 3,
    "start_time": "2022-11-15T14:27:20.218Z"
   },
   {
    "duration": 3,
    "start_time": "2022-11-15T14:27:20.556Z"
   },
   {
    "duration": 3,
    "start_time": "2022-11-15T14:27:20.797Z"
   },
   {
    "duration": 1910,
    "start_time": "2022-11-15T14:27:24.647Z"
   },
   {
    "duration": 1902,
    "start_time": "2022-11-15T14:27:43.793Z"
   },
   {
    "duration": 1925,
    "start_time": "2022-11-15T14:27:50.611Z"
   },
   {
    "duration": 3,
    "start_time": "2022-11-15T14:29:38.607Z"
   },
   {
    "duration": 3,
    "start_time": "2022-11-15T14:29:39.142Z"
   },
   {
    "duration": 4,
    "start_time": "2022-11-15T14:29:39.820Z"
   },
   {
    "duration": 1892,
    "start_time": "2022-11-15T14:29:47.640Z"
   },
   {
    "duration": 1938,
    "start_time": "2022-11-15T14:41:03.997Z"
   },
   {
    "duration": 1932,
    "start_time": "2022-11-15T15:05:32.052Z"
   },
   {
    "duration": 4,
    "start_time": "2022-11-15T15:05:39.739Z"
   },
   {
    "duration": 4,
    "start_time": "2022-11-15T15:05:42.801Z"
   },
   {
    "duration": 3,
    "start_time": "2022-11-15T15:05:44.709Z"
   },
   {
    "duration": 1968,
    "start_time": "2022-11-15T15:05:51.396Z"
   },
   {
    "duration": 3,
    "start_time": "2022-11-15T15:09:00.940Z"
   },
   {
    "duration": 41,
    "start_time": "2022-11-15T15:10:35.704Z"
   },
   {
    "duration": 267201,
    "start_time": "2022-11-15T15:16:21.817Z"
   },
   {
    "duration": 8010,
    "start_time": "2022-11-15T15:21:00.836Z"
   },
   {
    "duration": 2801,
    "start_time": "2022-11-15T15:21:14.578Z"
   },
   {
    "duration": 3,
    "start_time": "2022-11-15T15:27:00.438Z"
   },
   {
    "duration": 1412633,
    "start_time": "2022-11-15T15:27:01.106Z"
   },
   {
    "duration": 3353,
    "start_time": "2022-11-15T15:51:19.325Z"
   },
   {
    "duration": 9,
    "start_time": "2022-11-15T15:51:36.483Z"
   },
   {
    "duration": 13,
    "start_time": "2022-11-15T15:53:11.224Z"
   },
   {
    "duration": 4,
    "start_time": "2022-11-15T15:53:35.139Z"
   },
   {
    "duration": 11287,
    "start_time": "2022-11-15T15:53:36.360Z"
   },
   {
    "duration": 0,
    "start_time": "2022-11-15T15:53:47.649Z"
   },
   {
    "duration": 59,
    "start_time": "2022-11-15T15:53:50.189Z"
   },
   {
    "duration": 13612,
    "start_time": "2022-11-15T15:54:00.999Z"
   },
   {
    "duration": 3,
    "start_time": "2022-11-15T15:56:52.863Z"
   },
   {
    "duration": 8,
    "start_time": "2022-11-15T15:57:03.190Z"
   },
   {
    "duration": 760633,
    "start_time": "2022-11-15T15:57:03.851Z"
   },
   {
    "duration": 10,
    "start_time": "2022-11-15T16:11:44.647Z"
   },
   {
    "duration": 707262,
    "start_time": "2022-11-15T16:11:56.504Z"
   },
   {
    "duration": 49067,
    "start_time": "2022-11-15T16:23:43.768Z"
   },
   {
    "duration": 55033,
    "start_time": "2022-11-15T16:26:11.422Z"
   },
   {
    "duration": 13791,
    "start_time": "2022-11-15T16:27:06.457Z"
   },
   {
    "duration": 1526,
    "start_time": "2022-11-15T16:28:09.940Z"
   },
   {
    "duration": 724,
    "start_time": "2022-11-15T16:28:11.468Z"
   },
   {
    "duration": 196,
    "start_time": "2022-11-15T16:28:12.193Z"
   },
   {
    "duration": 41,
    "start_time": "2022-11-15T16:28:12.392Z"
   },
   {
    "duration": 30,
    "start_time": "2022-11-15T16:28:12.434Z"
   },
   {
    "duration": 35,
    "start_time": "2022-11-15T16:28:12.466Z"
   },
   {
    "duration": 41,
    "start_time": "2022-11-15T16:28:12.503Z"
   },
   {
    "duration": 291,
    "start_time": "2022-11-15T16:28:12.545Z"
   },
   {
    "duration": 156,
    "start_time": "2022-11-15T16:28:12.838Z"
   },
   {
    "duration": 304,
    "start_time": "2022-11-15T16:28:12.997Z"
   },
   {
    "duration": 127,
    "start_time": "2022-11-15T16:28:13.303Z"
   },
   {
    "duration": 21,
    "start_time": "2022-11-15T16:28:13.432Z"
   },
   {
    "duration": 110,
    "start_time": "2022-11-15T16:28:13.455Z"
   },
   {
    "duration": 3,
    "start_time": "2022-11-15T16:28:13.566Z"
   },
   {
    "duration": 20,
    "start_time": "2022-11-15T16:28:13.577Z"
   },
   {
    "duration": 6,
    "start_time": "2022-11-15T16:28:13.599Z"
   },
   {
    "duration": 24,
    "start_time": "2022-11-15T16:28:13.606Z"
   },
   {
    "duration": 4,
    "start_time": "2022-11-15T16:28:13.632Z"
   },
   {
    "duration": 9,
    "start_time": "2022-11-15T16:28:13.637Z"
   },
   {
    "duration": 21,
    "start_time": "2022-11-15T16:28:13.648Z"
   },
   {
    "duration": 13,
    "start_time": "2022-11-15T16:28:13.670Z"
   },
   {
    "duration": 27,
    "start_time": "2022-11-15T16:28:13.684Z"
   },
   {
    "duration": 843,
    "start_time": "2022-11-15T16:28:13.713Z"
   },
   {
    "duration": 766,
    "start_time": "2022-11-15T16:28:14.558Z"
   },
   {
    "duration": 933,
    "start_time": "2022-11-15T16:28:15.327Z"
   },
   {
    "duration": 752,
    "start_time": "2022-11-15T16:28:16.262Z"
   },
   {
    "duration": 23,
    "start_time": "2022-11-15T16:28:17.016Z"
   },
   {
    "duration": 655,
    "start_time": "2022-11-15T16:28:17.043Z"
   },
   {
    "duration": 614,
    "start_time": "2022-11-15T16:28:17.699Z"
   },
   {
    "duration": 6,
    "start_time": "2022-11-15T16:28:18.315Z"
   },
   {
    "duration": 16,
    "start_time": "2022-11-15T16:28:18.322Z"
   },
   {
    "duration": 13,
    "start_time": "2022-11-15T16:28:18.341Z"
   },
   {
    "duration": 1332,
    "start_time": "2022-11-15T16:28:18.356Z"
   },
   {
    "duration": 11,
    "start_time": "2022-11-15T16:28:19.690Z"
   },
   {
    "duration": 3,
    "start_time": "2022-11-15T16:28:19.703Z"
   },
   {
    "duration": 26,
    "start_time": "2022-11-15T16:28:19.707Z"
   },
   {
    "duration": 16,
    "start_time": "2022-11-15T16:28:19.735Z"
   },
   {
    "duration": 17,
    "start_time": "2022-11-15T16:28:19.753Z"
   },
   {
    "duration": 54,
    "start_time": "2022-11-15T16:28:19.772Z"
   },
   {
    "duration": 4,
    "start_time": "2022-11-15T16:28:19.827Z"
   },
   {
    "duration": 25,
    "start_time": "2022-11-15T16:28:19.832Z"
   },
   {
    "duration": 16,
    "start_time": "2022-11-15T16:28:19.858Z"
   },
   {
    "duration": 40,
    "start_time": "2022-11-15T16:28:19.876Z"
   },
   {
    "duration": 12,
    "start_time": "2022-11-15T16:28:19.918Z"
   },
   {
    "duration": 12461,
    "start_time": "2022-11-15T16:28:19.932Z"
   },
   {
    "duration": 12366,
    "start_time": "2022-11-15T16:28:32.394Z"
   },
   {
    "duration": 2032,
    "start_time": "2022-11-15T16:28:44.762Z"
   },
   {
    "duration": 3,
    "start_time": "2022-11-15T16:28:46.795Z"
   },
   {
    "duration": 707309,
    "start_time": "2022-11-15T16:28:46.800Z"
   },
   {
    "duration": 711212,
    "start_time": "2022-11-15T16:40:34.110Z"
   },
   {
    "duration": 55711,
    "start_time": "2022-11-15T16:52:25.323Z"
   },
   {
    "duration": 3343,
    "start_time": "2022-11-15T16:53:21.036Z"
   },
   {
    "duration": 14,
    "start_time": "2022-11-15T16:53:24.381Z"
   },
   {
    "duration": 14023,
    "start_time": "2022-11-15T16:53:24.397Z"
   },
   {
    "duration": 58334,
    "start_time": "2022-11-15T16:54:06.433Z"
   },
   {
    "duration": 56240,
    "start_time": "2022-11-15T16:55:14.448Z"
   },
   {
    "duration": 57472,
    "start_time": "2022-11-15T16:56:21.553Z"
   },
   {
    "duration": 52,
    "start_time": "2022-11-16T06:53:52.030Z"
   },
   {
    "duration": 1667,
    "start_time": "2022-11-16T06:53:58.387Z"
   },
   {
    "duration": 2070,
    "start_time": "2022-11-16T06:54:00.057Z"
   },
   {
    "duration": 195,
    "start_time": "2022-11-16T06:54:02.130Z"
   },
   {
    "duration": 59,
    "start_time": "2022-11-16T06:54:04.548Z"
   },
   {
    "duration": 77,
    "start_time": "2022-11-16T07:11:49.866Z"
   },
   {
    "duration": 6,
    "start_time": "2022-11-16T07:11:58.773Z"
   },
   {
    "duration": 747,
    "start_time": "2022-11-16T07:11:58.782Z"
   },
   {
    "duration": 170,
    "start_time": "2022-11-16T07:11:59.532Z"
   },
   {
    "duration": 40,
    "start_time": "2022-11-16T07:11:59.704Z"
   },
   {
    "duration": 49,
    "start_time": "2022-11-16T07:11:59.746Z"
   },
   {
    "duration": 23,
    "start_time": "2022-11-16T07:11:59.796Z"
   },
   {
    "duration": 57,
    "start_time": "2022-11-16T07:11:59.821Z"
   },
   {
    "duration": 293,
    "start_time": "2022-11-16T07:11:59.880Z"
   },
   {
    "duration": 160,
    "start_time": "2022-11-16T07:12:00.175Z"
   },
   {
    "duration": 315,
    "start_time": "2022-11-16T07:12:00.337Z"
   },
   {
    "duration": 136,
    "start_time": "2022-11-16T07:12:00.654Z"
   },
   {
    "duration": 25,
    "start_time": "2022-11-16T07:12:00.792Z"
   },
   {
    "duration": 107,
    "start_time": "2022-11-16T07:12:00.819Z"
   },
   {
    "duration": 3,
    "start_time": "2022-11-16T07:12:00.928Z"
   },
   {
    "duration": 37,
    "start_time": "2022-11-16T07:12:00.933Z"
   },
   {
    "duration": 33,
    "start_time": "2022-11-16T07:12:00.972Z"
   },
   {
    "duration": 45,
    "start_time": "2022-11-16T07:12:01.007Z"
   },
   {
    "duration": 25,
    "start_time": "2022-11-16T07:12:01.055Z"
   },
   {
    "duration": 38,
    "start_time": "2022-11-16T07:12:01.082Z"
   },
   {
    "duration": 40,
    "start_time": "2022-11-16T07:12:01.122Z"
   },
   {
    "duration": 15,
    "start_time": "2022-11-16T07:12:01.165Z"
   },
   {
    "duration": 34,
    "start_time": "2022-11-16T07:12:01.182Z"
   },
   {
    "duration": 921,
    "start_time": "2022-11-16T07:12:01.218Z"
   },
   {
    "duration": 811,
    "start_time": "2022-11-16T07:12:02.141Z"
   },
   {
    "duration": 940,
    "start_time": "2022-11-16T07:12:02.954Z"
   },
   {
    "duration": 841,
    "start_time": "2022-11-16T07:12:03.896Z"
   },
   {
    "duration": 23,
    "start_time": "2022-11-16T07:12:04.739Z"
   },
   {
    "duration": 647,
    "start_time": "2022-11-16T07:12:04.764Z"
   },
   {
    "duration": 715,
    "start_time": "2022-11-16T07:12:05.414Z"
   },
   {
    "duration": 6,
    "start_time": "2022-11-16T07:12:06.131Z"
   },
   {
    "duration": 31,
    "start_time": "2022-11-16T07:12:06.138Z"
   },
   {
    "duration": 16,
    "start_time": "2022-11-16T07:12:06.171Z"
   },
   {
    "duration": 1350,
    "start_time": "2022-11-16T07:12:06.189Z"
   },
   {
    "duration": 12,
    "start_time": "2022-11-16T07:12:07.541Z"
   },
   {
    "duration": 22,
    "start_time": "2022-11-16T07:12:07.555Z"
   },
   {
    "duration": 28,
    "start_time": "2022-11-16T07:12:07.579Z"
   },
   {
    "duration": 62,
    "start_time": "2022-11-16T07:12:07.609Z"
   },
   {
    "duration": 43,
    "start_time": "2022-11-16T07:12:07.672Z"
   },
   {
    "duration": 61,
    "start_time": "2022-11-16T07:12:07.717Z"
   },
   {
    "duration": 3,
    "start_time": "2022-11-16T07:12:07.781Z"
   },
   {
    "duration": 3,
    "start_time": "2022-11-16T07:12:09.329Z"
   },
   {
    "duration": 3,
    "start_time": "2022-11-16T07:12:09.610Z"
   },
   {
    "duration": 3,
    "start_time": "2022-11-16T07:12:42.959Z"
   },
   {
    "duration": 4,
    "start_time": "2022-11-16T07:12:43.807Z"
   },
   {
    "duration": 3,
    "start_time": "2022-11-16T07:12:49.877Z"
   },
   {
    "duration": 25,
    "start_time": "2022-11-16T07:12:53.677Z"
   },
   {
    "duration": 18,
    "start_time": "2022-11-16T07:13:24.035Z"
   },
   {
    "duration": 13,
    "start_time": "2022-11-16T07:14:54.496Z"
   },
   {
    "duration": 24,
    "start_time": "2022-11-16T07:15:11.882Z"
   },
   {
    "duration": 3,
    "start_time": "2022-11-16T07:15:52.638Z"
   },
   {
    "duration": 12522,
    "start_time": "2022-11-16T07:15:53.314Z"
   },
   {
    "duration": 12801,
    "start_time": "2022-11-16T07:16:30.015Z"
   },
   {
    "duration": 3,
    "start_time": "2022-11-16T07:17:24.226Z"
   },
   {
    "duration": 710575,
    "start_time": "2022-11-16T07:17:24.986Z"
   },
   {
    "duration": 705956,
    "start_time": "2022-11-16T07:29:29.660Z"
   },
   {
    "duration": 19976,
    "start_time": "2022-11-16T07:55:07.473Z"
   },
   {
    "duration": 48287,
    "start_time": "2022-11-16T07:55:51.155Z"
   },
   {
    "duration": 2621,
    "start_time": "2022-11-16T07:56:54.163Z"
   },
   {
    "duration": 10,
    "start_time": "2022-11-16T07:57:00.538Z"
   },
   {
    "duration": 12084,
    "start_time": "2022-11-16T07:57:03.455Z"
   },
   {
    "duration": 1545,
    "start_time": "2022-12-15T10:55:08.084Z"
   },
   {
    "duration": 1940,
    "start_time": "2022-12-15T10:55:09.631Z"
   }
  ],
  "kernelspec": {
   "display_name": "Python 3 (ipykernel)",
   "language": "python",
   "name": "python3"
  },
  "language_info": {
   "codemirror_mode": {
    "name": "ipython",
    "version": 3
   },
   "file_extension": ".py",
   "mimetype": "text/x-python",
   "name": "python",
   "nbconvert_exporter": "python",
   "pygments_lexer": "ipython3",
   "version": "3.9.5"
  },
  "toc": {
   "base_numbering": 1,
   "nav_menu": {},
   "number_sections": true,
   "sideBar": true,
   "skip_h1_title": true,
   "title_cell": "Содержание",
   "title_sidebar": "Contents",
   "toc_cell": true,
   "toc_position": {
    "height": "calc(100% - 180px)",
    "left": "10px",
    "top": "150px",
    "width": "265.542px"
   },
   "toc_section_display": true,
   "toc_window_display": true
  }
 },
 "nbformat": 4,
 "nbformat_minor": 2
}
